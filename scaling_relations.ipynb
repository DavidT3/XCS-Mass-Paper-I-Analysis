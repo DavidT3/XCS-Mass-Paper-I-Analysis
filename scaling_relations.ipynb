{
 "cells": [
  {
   "cell_type": "code",
   "execution_count": null,
   "id": "6967ea28",
   "metadata": {},
   "outputs": [],
   "source": [
    "import pandas as pd\n",
    "import numpy as np\n",
    "from astropy.units import Quantity\n",
    "from astropy.cosmology import LambdaCDM, WMAP9\n",
    "import matplotlib.pyplot as plt\n",
    "\n",
    "import xga\n",
    "# This just sets the number of cores this analysis is allowed to use\n",
    "xga.NUM_CORES = 10\n",
    "from xga.samples import ClusterSample\n",
    "from xga.xspec import single_temp_apec\n",
    "from xga.imagetools.misc import physical_rad_to_pix\n",
    "from xga.exceptions import NoProductAvailableError\n",
    "from xga import BLACKLIST\n",
    "from xga.relations.clusters.MT import arnaud_m500, xxl_m500, xxl_cosmos_cccp_m500\n",
    "from xga.relations.fit import scaling_relation_odr\n",
    "from xga.models import power_law"
   ]
  },
  {
   "cell_type": "code",
   "execution_count": null,
   "id": "0cbcb04d",
   "metadata": {},
   "outputs": [],
   "source": [
    "xcs_cosmo = LambdaCDM(70, 0.3, 0.7)\n",
    "xxl_cosmo = WMAP9\n",
    "locuss_cosmo = LambdaCDM(70, 0.3, 0.7)\n",
    "lovisari_cosmo = LambdaCDM(70, 0.3, 0.7)"
   ]
  },
  {
   "cell_type": "code",
   "execution_count": null,
   "id": "a76cc51b",
   "metadata": {},
   "outputs": [],
   "source": [
    "locuss = pd.read_csv(\"sample_files/locuss_highlx_clusters.csv\", dtype={'chandra_id': str, 'xmm_obsid': str})"
   ]
  },
  {
   "cell_type": "code",
   "execution_count": null,
   "id": "d11f9544",
   "metadata": {},
   "outputs": [],
   "source": [
    "# Reading out the relevant values into arrays just for ease of passing into the ClusterSample object\n",
    "ra = locuss['ra'].values\n",
    "dec = locuss['dec'].values\n",
    "z = locuss['z'].values\n",
    "n = locuss['name'].values\n",
    "r500 = Quantity(locuss['r500'].values, 'kpc')\n",
    "r2500 = Quantity(locuss['r2500'].values, 'kpc')\n",
    "\n",
    "\n",
    "# Declaring the actual ClusterSample instance for the LoCuSS sample\n",
    "locuss_srcs = ClusterSample(ra, dec, z, n, r500=r500, r2500=r2500, cosmology=locuss_cosmo, load_fits=True, \n",
    "                            use_peak=True, clean_obs=True, clean_obs_reg='r500', clean_obs_threshold=0.7)"
   ]
  },
  {
   "cell_type": "code",
   "execution_count": null,
   "id": "4afed224",
   "metadata": {},
   "outputs": [],
   "source": [
    "rel = locuss_srcs.mass_Tx('r500', Quantity(4, 'keV'), Quantity(5e+14, 'Msun'), )\n",
    "rel.view(figsize=(6, 6))"
   ]
  },
  {
   "cell_type": "code",
   "execution_count": null,
   "id": "1b2fc848",
   "metadata": {},
   "outputs": [],
   "source": [
    "hyms = []\n",
    "gms = []\n",
    "txs = []\n",
    "ezs = []\n",
    "for src in locuss_srcs:\n",
    "    try:\n",
    "        mp = src.get_hydrostatic_mass_profiles()\n",
    "        gm = mp.density_profile.gas_mass('simple_vikhlinin_dens', src.r500)[0]\n",
    "        hym = mp.mass(src.r500)[0]\n",
    "        \n",
    "        hyms.append(hym)\n",
    "        gms.append(gm)\n",
    "        ezs.append(src.cosmo.efunc(src.redshift))\n",
    "    except NoProductAvailableError:\n",
    "        pass\n",
    "\n",
    "hyms = Quantity(hyms)\n",
    "gms = Quantity(gms)\n",
    "ezs = np.array(ezs)"
   ]
  },
  {
   "cell_type": "code",
   "execution_count": null,
   "id": "3b0991ec",
   "metadata": {},
   "outputs": [],
   "source": [
    "y_arr = hyms.copy() #*ezs[..., None]\n",
    "x_arr = gms.copy()\n",
    "hym_gm_rel = scaling_relation_odr(power_law, y_arr[:, 0], y_arr[:, 1:], x_arr[:, 0], x_arr[:, 1:], \n",
    "                                  Quantity(5e+14, 'Msun'), Quantity(5e+13, 'Msun'))\n",
    "hym_gm_rel.view(figsize=(6, 6))"
   ]
  }
 ],
 "metadata": {
  "kernelspec": {
   "display_name": "Python 3 (ipykernel)",
   "language": "python",
   "name": "python3"
  },
  "language_info": {
   "codemirror_mode": {
    "name": "ipython",
    "version": 3
   },
   "file_extension": ".py",
   "mimetype": "text/x-python",
   "name": "python",
   "nbconvert_exporter": "python",
   "pygments_lexer": "ipython3",
   "version": "3.8.11"
  }
 },
 "nbformat": 4,
 "nbformat_minor": 5
}
