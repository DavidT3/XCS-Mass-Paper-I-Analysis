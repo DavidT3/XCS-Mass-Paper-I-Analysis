{
 "cells": [
  {
   "cell_type": "markdown",
   "id": "9ca38d73",
   "metadata": {},
   "source": [
    "# Comparing Total Gas Masses Between Analyses"
   ]
  },
  {
   "cell_type": "markdown",
   "id": "2bbdc738",
   "metadata": {},
   "source": [
    "This notebook measures gas masses for the samples we are using to verify our method, then compares them to the measurements from literature. While the focus of this work is the measurement of total galaxy cluster masses, comparing measured gas masses gives us an avenue to probe how similar our measurements of the baryon density of the clusters are to those from literature. Seeing as knowledge of the gas density profile feeds into the total gas mass, its important to know if we are consistent.\n",
    "\n",
    "The XXL, LoCuSS, and Lovisari samples all have gas mass measurements associated with them which we will compare to, but the SDSSRM-XCS sample does not (such measurements will be presented in an upcoming paper)."
   ]
  },
  {
   "cell_type": "markdown",
   "id": "18907eb5",
   "metadata": {},
   "source": [
    "## Import Statements"
   ]
  },
  {
   "cell_type": "code",
   "execution_count": 1,
   "id": "baf73311",
   "metadata": {},
   "outputs": [],
   "source": [
    "import pandas as pd\n",
    "import numpy as np\n",
    "from astropy.units import Quantity, Unit\n",
    "from astropy.cosmology import LambdaCDM, WMAP9\n",
    "import matplotlib.pyplot as plt\n",
    "from tqdm import tqdm\n",
    "import os\n",
    "\n",
    "import xga\n",
    "# This just sets the number of cores this analysis is allowed to use\n",
    "xga.NUM_CORES = 120\n",
    "from xga.samples import ClusterSample\n",
    "from xga.imagetools.psf import rl_psf\n",
    "from xga.sourcetools.density import inv_abel_fitted_model, ann_spectra_apec_norm\n",
    "from xga.models import BetaProfile1D, DoubleBetaProfile1D, KingProfile1D, SimpleVikhlininDensity1D\n",
    "from xga.exceptions import ModelNotAssociatedError"
   ]
  },
  {
   "cell_type": "markdown",
   "id": "88684fd1",
   "metadata": {},
   "source": [
    "## Defining useful functions"
   ]
  },
  {
   "cell_type": "code",
   "execution_count": 2,
   "id": "2b713582",
   "metadata": {},
   "outputs": [],
   "source": [
    "# This function is used for getting axis limits for the the one to one comparison plots later\n",
    "def find_lims(x_dat, y_dat, buffer=0.1):\n",
    "    # A buffer of some percent (default 10) is added to the max and min values to make the plot \n",
    "    #  more easily readable\n",
    "    lom = 1 - buffer\n",
    "    him = 1 + buffer\n",
    "    \n",
    "    # Reading out the values without errors\n",
    "    x_vals = x_dat[:, 0]\n",
    "    y_vals = y_dat[:, 0]\n",
    "    \n",
    "    # Depending on whether the input data has + and - errors, or just a standard deviation, depends how\n",
    "    #  we find maximum and minimum values\n",
    "    if x_dat.shape[1] == 3:\n",
    "        # In this case upper and lower errors are present\n",
    "        lb = x_vals-x_dat[:, 1]\n",
    "        # Make sure that we don't count any NaN values, and don't count any negative values\n",
    "        #  The lower errors are subtracted from the measurements, and upper values added to them\n",
    "        #  Then max and mins are found \n",
    "        x_lims = [np.nanmin(lb[np.where(lb>0)[0]]), np.nanmax(x_vals+x_dat[:, 2])]\n",
    "    elif x_dat.shape[1] == 2:\n",
    "        # The behaviour is largely the same as above, but for symmetrical errors\n",
    "        lb = x_vals-x_dat[:, 1]\n",
    "        x_lims = [np.nanmin(lb[np.where(lb>0)[0]]), np.nanmax(x_vals+x_dat[:, 1])]\n",
    "    \n",
    "    if y_dat.shape[1] == 3:\n",
    "        lb = y_vals-y_dat[:, 1]\n",
    "        y_lims = [np.nanmin(lb[np.where(lb>0)[0]]), np.nanmax(y_vals+y_dat[:, 2])]\n",
    "    elif y_dat.shape[1] == 2:\n",
    "        lb = y_vals-y_dat[:, 1]\n",
    "        y_lims = [np.nanmin(lb[np.where(lb>0)[0]]), np.nanmax(y_vals+y_dat[:, 1])]\n",
    "    \n",
    "    # Then find the minimum and maximum values from the min and max x and y data, and multiply by the buffer\n",
    "    lims = Quantity([lom*min([x_lims[0], y_lims[0]]), him*max([x_lims[1], y_lims[1]])])\n",
    "    \n",
    "    # Return the limits for the square like for like comparison plot\n",
    "    return lims"
   ]
  },
  {
   "cell_type": "markdown",
   "id": "6edf2309",
   "metadata": {},
   "source": [
    "## Reading colour configuration file"
   ]
  },
  {
   "cell_type": "code",
   "execution_count": 3,
   "id": "db3288b3",
   "metadata": {},
   "outputs": [],
   "source": [
    "samp_colours = pd.read_csv(\"samp_plot_colours.csv\")\n",
    "\n",
    "lov_colour = samp_colours[samp_colours['samp_name'] == 'lovisari'].iloc[0]['samp_colour']\n",
    "xxl_colour = samp_colours[samp_colours['samp_name'] == 'xxl'].iloc[0]['samp_colour']\n",
    "loc_colour = samp_colours[samp_colours['samp_name'] == 'locuss'].iloc[0]['samp_colour']"
   ]
  },
  {
   "cell_type": "markdown",
   "id": "4226bbbb",
   "metadata": {},
   "source": [
    "## Setting up cosmology"
   ]
  },
  {
   "cell_type": "markdown",
   "id": "8fbcf6c8",
   "metadata": {},
   "source": [
    "The LoCuSS and Lovisari analyses use the same concordance cosmology, but the XXL analysis of their bright cluster sample uses the WMAP9 results, and in case we wish to change anything for an individual sample later we define three separate cosmology objects to pass into our samples."
   ]
  },
  {
   "cell_type": "code",
   "execution_count": 4,
   "id": "8ad8fb67",
   "metadata": {},
   "outputs": [],
   "source": [
    "xxl_cosmo = WMAP9\n",
    "locuss_cosmo = LambdaCDM(70, 0.3, 0.7)\n",
    "lovisari_cosmo = LambdaCDM(70, 0.3, 0.7)"
   ]
  },
  {
   "cell_type": "markdown",
   "id": "c7eed232",
   "metadata": {},
   "source": [
    "## Reading in Sample Files and Declaring XGA ClusterSamples"
   ]
  },
  {
   "cell_type": "markdown",
   "id": "799ef8d6",
   "metadata": {},
   "source": [
    "$\\color{red}{\\text{NEED TO MENTION/PUBLISH THE OBSIDS THAT WE EXCLUDE FROM USE DUE TO DATA PROBLEMS LIKE FLARING}}$"
   ]
  },
  {
   "cell_type": "markdown",
   "id": "e46e5150",
   "metadata": {},
   "source": [
    "This subsection involves reading in the sample files of the four test samples (described in [the sample properties notebook](sample_properties.ipynb)), then setting up separate XGA ClusterSample instances (see [the documentation](https://xga.readthedocs.io/en/latest/notebooks/tutorials/sources_samples.html) for an introduction to XGA source and sample objects.\n",
    "\n",
    "We impose an additional cleaning step on each sample, where we make sure that (for each XMM observation initially associated with a source) at least 70% of a cluster's $R_{500}$ falls on that observation - if this requirement is not met then the observation is excluded. These requirements are set with the `clean_obs=True`, `clean_obs_reg='r500'`, and `clean_obs_threshold=0.7` arguments when a ClusterSample instance is declared."
   ]
  },
  {
   "cell_type": "markdown",
   "id": "58ac46f7",
   "metadata": {},
   "source": [
    "### XXL-100-GC"
   ]
  },
  {
   "cell_type": "markdown",
   "id": "f1b240b5",
   "metadata": {},
   "source": [
    "This is the sample of the brightest clusters in the XXL survey. It contains temperature and luminosity measurements, and will be a useful external comparison for XGA results, though the shallow XXL data may prove a challenge."
   ]
  },
  {
   "cell_type": "code",
   "execution_count": 5,
   "id": "e44d5090",
   "metadata": {},
   "outputs": [],
   "source": [
    "xxlgc100 = pd.read_csv(\"sample_files/xxl_gc100.csv\")\n",
    "\n",
    "# Limit the comparison to clusters with a flag of 0 - meaning it is in the main sample of 100 clusters\n",
    "xxlgc100 = xxlgc100[xxlgc100['Flag'] == 0]\n",
    "\n",
    "# Excluding a specific cluster which was excluded in the XXL analysis\n",
    "xxlgc100 = xxlgc100[xxlgc100['XLSSC'] != 504]"
   ]
  },
  {
   "cell_type": "code",
   "execution_count": null,
   "id": "b6e329dd",
   "metadata": {
    "scrolled": true
   },
   "outputs": [
    {
     "name": "stderr",
     "output_type": "stream",
     "text": [
      "Declaring BaseSource Sample:  44%|███████████████████▌                        | 44/99 [02:39<03:43,  4.06s/it]"
     ]
    }
   ],
   "source": [
    "# Reading out the relevant values into arrays just for ease of passing into the ClusterSample object\n",
    "ra = xxlgc100['ra'].values\n",
    "dec = xxlgc100['dec'].values\n",
    "z = xxlgc100['z'].values\n",
    "n = xxlgc100['name'].values\n",
    "r500 = Quantity(xxlgc100['r500MT'].values, 'Mpc')\n",
    "\n",
    "# Declaring the actual ClusterSample instance for the XXL sample\n",
    "# This is the only sample whose original analysis used the WMAP9 cosmology\n",
    "xxl_srcs = ClusterSample(ra, dec, z, n, r500=r500, cosmology=xxl_cosmo, load_fits=True, use_peak=False, \n",
    "                         clean_obs=True, clean_obs_reg='r500', clean_obs_threshold=0.7)"
   ]
  },
  {
   "cell_type": "markdown",
   "id": "ae081f4b",
   "metadata": {},
   "source": [
    "### LoCuSS High-$L_{\\rm{X}}$"
   ]
  },
  {
   "cell_type": "markdown",
   "id": "7936d805",
   "metadata": {},
   "source": [
    "The LoCuSS High-$L_{\\rm{X}}$ sample was selected from ROSAT for its high luminosity clusters, and will again be a useful comparison as testing against various different analyses is beneficial in establishing the veracity of our new measurements."
   ]
  },
  {
   "cell_type": "code",
   "execution_count": null,
   "id": "c0738ef0",
   "metadata": {},
   "outputs": [],
   "source": [
    "locuss = pd.read_csv(\"sample_files/locuss_highlx_clusters.csv\", dtype={'chandra_id': str, 'xmm_obsid': str})"
   ]
  },
  {
   "cell_type": "code",
   "execution_count": null,
   "id": "2f2aee9a",
   "metadata": {},
   "outputs": [],
   "source": [
    "# Reading out the relevant values into arrays just for ease of passing into the ClusterSample object\n",
    "ra = locuss['ra'].values\n",
    "dec = locuss['dec'].values\n",
    "z = locuss['z'].values\n",
    "n = locuss['name'].values\n",
    "r500 = Quantity(locuss['r500'].values, 'kpc')\n",
    "r2500 = Quantity(locuss['r2500'].values, 'kpc')\n",
    "\n",
    "\n",
    "# Declaring the actual ClusterSample instance for the LoCuSS sample\n",
    "locuss_srcs = ClusterSample(ra, dec, z, n, r500=r500, r2500=r2500, cosmology=locuss_cosmo, load_fits=True, \n",
    "                            use_peak=False, clean_obs=True, clean_obs_reg='r500', clean_obs_threshold=0.7)"
   ]
  },
  {
   "cell_type": "markdown",
   "id": "e2251f3e",
   "metadata": {},
   "source": [
    "### Planck Selected with XMM follow-up"
   ]
  },
  {
   "cell_type": "markdown",
   "id": "7502911e",
   "metadata": {},
   "source": [
    "The Lovisari et al. sample was selected from Planck-eSZ, and will again be a useful comparison as testing against various different analyses is beneficial in establishing the veracity of our new measurements."
   ]
  },
  {
   "cell_type": "code",
   "execution_count": null,
   "id": "4c305a45",
   "metadata": {},
   "outputs": [],
   "source": [
    "lovisari = pd.read_csv(\"sample_files/lovisari_planck_clusters.csv\")"
   ]
  },
  {
   "cell_type": "code",
   "execution_count": null,
   "id": "3658be42",
   "metadata": {
    "scrolled": false
   },
   "outputs": [],
   "source": [
    "# Reading out the relevant values into arrays just for ease of passing into the ClusterSample object\n",
    "ra = lovisari['planck_ra'].values\n",
    "dec = lovisari['planck_dec'].values\n",
    "z = lovisari['z'].values\n",
    "n = lovisari['name'].values\n",
    "r500 = Quantity(lovisari['r500'].values, 'kpc')\n",
    "\n",
    "# Declaring the actual ClusterSample instance for the Lovisari sample\n",
    "lovisari_srcs = ClusterSample(ra, dec, z, n, r500=r500, cosmology=lovisari_cosmo, load_fits=True, use_peak=False, \n",
    "                            clean_obs=True, clean_obs_reg='r500', clean_obs_threshold=0.7)"
   ]
  },
  {
   "cell_type": "markdown",
   "id": "64de782d",
   "metadata": {},
   "source": [
    "## Running PSF Correction"
   ]
  },
  {
   "cell_type": "markdown",
   "id": "fa03e712",
   "metadata": {},
   "source": []
  },
  {
   "cell_type": "code",
   "execution_count": null,
   "id": "287fc284",
   "metadata": {},
   "outputs": [],
   "source": [
    "rl_psf(xxl_srcs)\n",
    "rl_psf(locuss_srcs)\n",
    "rl_psf(lovisari_srcs)"
   ]
  },
  {
   "cell_type": "markdown",
   "id": "f34b4c27",
   "metadata": {},
   "source": [
    "## Reading in literature data"
   ]
  },
  {
   "cell_type": "markdown",
   "id": "f900099c",
   "metadata": {},
   "source": []
  },
  {
   "cell_type": "markdown",
   "id": "045f9649",
   "metadata": {},
   "source": [
    "### Gas masses from literature"
   ]
  },
  {
   "cell_type": "markdown",
   "id": "9aae972b",
   "metadata": {},
   "source": []
  },
  {
   "cell_type": "code",
   "execution_count": null,
   "id": "5fba28ba",
   "metadata": {},
   "outputs": [],
   "source": [
    "xxl_lit_gms = [xxlgc100[xxlgc100['name'] == n].iloc[0][['mg500', 'mg500_err']].values*1e+13 \n",
    "               for n in xxl_srcs.names]\n",
    "xxl_lit_gms = Quantity(xxl_lit_gms, 'Msun')\n",
    "\n",
    "lov_lit_gms = [lovisari[lovisari['name'] == n].iloc[0][['mg500', 'mg500-', 'mg500+']].values*1e+13\n",
    "               for n in lovisari_srcs.names]\n",
    "lov_lit_gms = Quantity(lov_lit_gms, 'Msun')\n",
    "\n",
    "loc_lit_gms = [locuss[locuss['name'] == n].iloc[0][['x_mg500', 'x_mg500_err']].values\n",
    "               for n in locuss_srcs.names]\n",
    "loc_lit_gms = Quantity(loc_lit_gms, 'Msun')"
   ]
  },
  {
   "cell_type": "markdown",
   "id": "e680182a",
   "metadata": {},
   "source": [
    "### Conversion Temperatures"
   ]
  },
  {
   "cell_type": "markdown",
   "id": "afc24436",
   "metadata": {},
   "source": []
  },
  {
   "cell_type": "code",
   "execution_count": null,
   "id": "f21f4ec6",
   "metadata": {},
   "outputs": [],
   "source": [
    "xxl_conv_txs = []\n",
    "loc_conv_txs = []\n",
    "lov_conv_txs = []\n",
    "\n",
    "for src in xxl_srcs:\n",
    "    xxl_conv_txs.append(xxlgc100[xxlgc100['name'] == src.name].iloc[0]['T300kpc'])\n",
    "    \n",
    "for src in locuss_srcs:\n",
    "    loc_conv_txs.append(locuss[locuss['name'] == src.name].iloc[0]['x_Tx500ce'])\n",
    "\n",
    "for src in lovisari_srcs:\n",
    "    lov_conv_txs.append(lovisari[lovisari['name'] == src.name].iloc[0]['Tx'])\n",
    "\n",
    "xxl_conv_txs = Quantity(xxl_conv_txs, 'keV')\n",
    "loc_conv_txs = Quantity(loc_conv_txs, 'keV')\n",
    "lov_conv_txs = Quantity(lov_conv_txs, 'keV')"
   ]
  },
  {
   "cell_type": "markdown",
   "id": "c2ccab20",
   "metadata": {},
   "source": [
    "## Gas Density Profile Generation and Comparison to Literature - from $S_{B}$ Profiles"
   ]
  },
  {
   "cell_type": "markdown",
   "id": "517ec1e3",
   "metadata": {},
   "source": []
  },
  {
   "cell_type": "markdown",
   "id": "d8fdeebb",
   "metadata": {},
   "source": [
    "### Beta and King Profiles - out to 1.3$R_{500}$"
   ]
  },
  {
   "cell_type": "markdown",
   "id": "2aadc1c2",
   "metadata": {},
   "source": []
  },
  {
   "cell_type": "code",
   "execution_count": null,
   "id": "029f3e75",
   "metadata": {},
   "outputs": [],
   "source": [
    "sb_mod = BetaProfile1D()\n",
    "sb_mod.info()\n",
    "sb_mod.par_priors"
   ]
  },
  {
   "cell_type": "markdown",
   "id": "1b1b8255",
   "metadata": {},
   "source": []
  },
  {
   "cell_type": "code",
   "execution_count": null,
   "id": "16dfa5dd",
   "metadata": {
    "scrolled": true
   },
   "outputs": [],
   "source": [
    "xxl_beta_13_dp = inv_abel_fitted_model(xxl_srcs, sb_mod, 'mcmc', xxl_srcs.r500*1.3, \n",
    "                                       conv_temp=xxl_conv_txs, conv_outer_radius=Quantity(300, 'kpc'))\n",
    "lov_beta_13_dp = inv_abel_fitted_model(lovisari_srcs, sb_mod, 'mcmc', lovisari_srcs.r500*1.3, \n",
    "                                       conv_temp=lov_conv_txs)\n",
    "loc_beta_13_dp = inv_abel_fitted_model(locuss_srcs, sb_mod, 'mcmc', locuss_srcs.r500*1.3, \n",
    "                                       conv_temp=loc_conv_txs)"
   ]
  },
  {
   "cell_type": "markdown",
   "id": "2f23acfd",
   "metadata": {},
   "source": []
  },
  {
   "cell_type": "code",
   "execution_count": null,
   "id": "a63fe0ea",
   "metadata": {},
   "outputs": [],
   "source": [
    "d_mod = KingProfile1D(y_unit=Unit(\"1 / cm^3\"))\n",
    "d_mod.info()\n",
    "d_mod.par_priors"
   ]
  },
  {
   "cell_type": "markdown",
   "id": "4a6d7755",
   "metadata": {},
   "source": []
  },
  {
   "cell_type": "code",
   "execution_count": null,
   "id": "8f6712e6",
   "metadata": {},
   "outputs": [],
   "source": [
    "with tqdm(desc=\"Fitting density model to XXL profiles\", total=len(xxl_beta_13_dp)) as onwards:\n",
    "    for dp in xxl_beta_13_dp:\n",
    "        if dp is not None:\n",
    "            dp.fit(d_mod, progress_bar=False)\n",
    "        onwards.update(1)\n",
    "\n",
    "with tqdm(desc=\"Fitting density model to Lovisari profiles\", total=len(lov_beta_13_dp)) as onwards:\n",
    "    for dp in lov_beta_13_dp:\n",
    "        if dp is not None:\n",
    "            dp.fit(d_mod, progress_bar=False)\n",
    "        onwards.update(1)\n",
    "\n",
    "with tqdm(desc=\"Fitting density model to LoCuSS profiles\", total=len(loc_beta_13_dp)) as onwards:\n",
    "    for dp in loc_beta_13_dp:\n",
    "        if dp is not None:\n",
    "            dp.fit(d_mod, progress_bar=False)\n",
    "        onwards.update(1)\n"
   ]
  },
  {
   "cell_type": "code",
   "execution_count": null,
   "id": "7d9573d5",
   "metadata": {},
   "outputs": [],
   "source": [
    "xxl_beta_king_13_gm = []\n",
    "with tqdm(desc=\"Calculating XXL gas masses\", total=len(xxl_beta_13_dp)) as onwards:\n",
    "    for dp in xxl_beta_13_dp:\n",
    "        if dp is not None:\n",
    "            gm = dp.gas_mass(\"king\", xxl_srcs[dp.src_name].r500)[0]\n",
    "            xxl_beta_king_13_gm.append(gm)\n",
    "        else:\n",
    "            xxl_beta_king_13_gm.append([np.NaN, np.NaN, np.NaN])\n",
    "        onwards.update(1)\n",
    "\n",
    "lov_beta_king_13_gm = []\n",
    "with tqdm(desc=\"Calculating Lovisari gas masses\", total=len(lov_beta_13_dp)) as onwards:\n",
    "    for dp in lov_beta_13_dp:\n",
    "        if dp is not None:\n",
    "            gm = dp.gas_mass(\"king\", lovisari_srcs[dp.src_name].r500)[0]\n",
    "            lov_beta_king_13_gm.append(gm)\n",
    "        else:\n",
    "            lov_beta_king_13_gm.append([np.NaN, np.NaN, np.NaN])\n",
    "        onwards.update(1)        \n",
    "        \n",
    "loc_beta_king_13_gm = []\n",
    "with tqdm(desc=\"Calculating LoCuSS gas masses\", total=len(loc_beta_13_dp)) as onwards:\n",
    "    for dp in loc_beta_13_dp:\n",
    "        if dp is not None:\n",
    "            gm = dp.gas_mass(\"king\", locuss_srcs[dp.src_name].r500)[0]\n",
    "            loc_beta_king_13_gm.append(gm)\n",
    "        else:\n",
    "            loc_beta_king_13_gm.append([np.NaN, np.NaN, np.NaN])\n",
    "        onwards.update(1)        \n",
    "        \n",
    "xxl_beta_king_13_gm = Quantity(xxl_beta_king_13_gm, 'Msun')\n",
    "lov_beta_king_13_gm = Quantity(lov_beta_king_13_gm, 'Msun')\n",
    "loc_beta_king_13_gm = Quantity(loc_beta_king_13_gm, 'Msun')"
   ]
  },
  {
   "cell_type": "code",
   "execution_count": null,
   "id": "e0ec86ed",
   "metadata": {},
   "outputs": [],
   "source": [
    "# Setting the y-position and font size of the a, b, and c labels that are added below the subplots\n",
    "sublabel_ypos = -0.115\n",
    "sublabel_fsize = 14\n",
    "\n",
    "# Set up the matplotlib figure with 3 columns, meaning three subplots\n",
    "fig, ax_arr = plt.subplots(ncols=3, figsize=(16, 6))\n",
    "\n",
    "# Iterating through the array of axes objects, setting up the ticks\n",
    "for ax in ax_arr:\n",
    "    ax.minorticks_on()\n",
    "    ax.tick_params(which='both', top=True, right=True, direction='in')\n",
    "\n",
    "# Reading out the first axis in the array of axes\n",
    "ax = ax_arr[0]\n",
    "plt.sca(ax)\n",
    "\n",
    "# Fetching appropriate limits for comparing the two sets of gas-mass measurements\n",
    "xxl_lims = find_lims(xxl_lit_gms, xxl_beta_king_13_gm).value\n",
    "\n",
    "# Plotting a 1:1 line to help with comparisons\n",
    "plt.plot(xxl_lims, xxl_lims, color='red', linestyle=\"dashed\", label=\"1:1\")\n",
    "# Plotting the two datasets with uncertainties\n",
    "plt.errorbar(xxl_lit_gms[:, 0].value, xxl_beta_king_13_gm[:, 0].value, xerr=xxl_lit_gms[:, 1].value, \n",
    "             yerr=[xxl_beta_king_13_gm[:, 1].value, xxl_beta_king_13_gm[:, 2].value], fmt='x', \n",
    "             color=xxl_colour, capsize=2, label=\"XXL-100-GC\")\n",
    "\n",
    "# # Labelling axes, setting labels etc.\n",
    "ax.set_xlabel(r\"XXL Gas Mass [M$_{\\odot}$]\", fontsize=15)\n",
    "ax.set_xlim(xxl_lims)\n",
    "ax.set_ylabel(\"XGA Gas Mass [M$_{\\odot}$]\", fontsize=15)\n",
    "ax.set_ylim(xxl_lims)\n",
    "\n",
    "# Add the a) label below this first plot\n",
    "ax.text(0.5, sublabel_ypos, s='a)', horizontalalignment='center', verticalalignment='center', \n",
    "        transform=ax.transAxes, fontsize=sublabel_fsize)\n",
    "ax.legend(loc='best', fontsize=14)\n",
    "\n",
    "# Reading out the second axis in the array of axes\n",
    "ax = ax_arr[1]\n",
    "plt.sca(ax)\n",
    "\n",
    "# Fetching appropriate limits for comparing the two sets of gas-mass measurements\n",
    "lov_lims = find_lims(lov_lit_gms, lov_beta_king_13_gm).value\n",
    "\n",
    "# Plotting a 1:1 line to help with comparisons\n",
    "plt.plot(lov_lims, lov_lims, color='red', linestyle=\"dashed\", label=\"1:1\")\n",
    "# Plotting the two datasets with uncertainties\n",
    "plt.errorbar(lov_lit_gms[:, 0].value, lov_beta_king_13_gm[:, 0].value, \n",
    "             xerr=[lov_lit_gms[:, 1].value, lov_lit_gms[:, 2].value], \n",
    "             yerr=[lov_beta_king_13_gm[:, 1].value, lov_beta_king_13_gm[:, 2].value], fmt='x', \n",
    "             color=lov_colour, capsize=2, label=\"Lovisari et al.\")\n",
    "\n",
    "# Labelling axes, setting labels etc.\n",
    "ax.set_xlabel(r\"Lovisari Gas Mass [M$_{\\odot}$]\", fontsize=15)\n",
    "ax.set_xlim(lov_lims)\n",
    "ax.set_ylabel(\"XGA Gas Mass [M$_{\\odot}$]\", fontsize=15)\n",
    "ax.set_ylim(lov_lims)\n",
    "ax.text(0.5, sublabel_ypos, s='b)', horizontalalignment='center', verticalalignment='center', \n",
    "        transform=ax.transAxes, fontsize=sublabel_fsize)\n",
    "ax.legend(loc='best', fontsize=14)\n",
    "\n",
    "# Reading out the last axis in the array of axes\n",
    "ax = ax_arr[2]\n",
    "plt.sca(ax)\n",
    "\n",
    "# Fetching appropriate limits for comparing the two sets of gas-mass measurements\n",
    "loc_lims = find_lims(loc_lit_gms, loc_beta_king_13_gm).value\n",
    "\n",
    "# Plotting a 1:1 line to help with comparisons\n",
    "plt.plot(loc_lims, loc_lims, color='red', linestyle=\"dashed\", label=\"1:1\")\n",
    "# Plotting the two datasets with uncertainties\n",
    "plt.errorbar(loc_lit_gms[:, 0].value, loc_beta_king_13_gm[:, 0].value, \n",
    "             xerr=loc_lit_gms[:, 1].value, \n",
    "             yerr=[loc_beta_king_13_gm[:, 1].value, loc_beta_king_13_gm[:, 2].value], fmt='x', \n",
    "             color=loc_colour, capsize=2, label=r\"LoCuSS High-$L_{\\rm{X}}$\")\n",
    "\n",
    "# Labelling axes, setting labels etc.\n",
    "ax.set_xlabel(r\"LoCuSS Gas Mass [M$_{\\odot}$]\", fontsize=15)\n",
    "ax.set_xlim(loc_lims)\n",
    "ax.set_ylabel(\"XGA Gas Mass [M$_{\\odot}$]\", fontsize=15)\n",
    "ax.set_ylim(loc_lims)\n",
    "ax.text(0.5, sublabel_ypos, s='c)', horizontalalignment='center', verticalalignment='center', \n",
    "        transform=ax.transAxes, fontsize=sublabel_fsize)\n",
    "ax.legend(loc='best', fontsize=14)\n",
    "\n",
    "# Saving and plotting the resulting figure\n",
    "plt.tight_layout()\n",
    "# plt.savefig(\"non_paper_figures/xxl_lov_loc_beta_king_1.3r500_gm_comp.pdf\")\n",
    "plt.show()"
   ]
  },
  {
   "cell_type": "markdown",
   "id": "b260cf5b",
   "metadata": {},
   "source": [
    "### Double Beta and Simplified Vikhlinin Profiles - out to 1.3$R_{500}$"
   ]
  },
  {
   "cell_type": "markdown",
   "id": "d0887e82",
   "metadata": {},
   "source": []
  },
  {
   "cell_type": "markdown",
   "id": "fa939137",
   "metadata": {},
   "source": []
  },
  {
   "cell_type": "code",
   "execution_count": null,
   "id": "496c198e",
   "metadata": {
    "scrolled": true
   },
   "outputs": [],
   "source": [
    "sb_mod = DoubleBetaProfile1D()\n",
    "sb_mod.info()\n",
    "\n",
    "xxl_dblbeta_13_dp = inv_abel_fitted_model(xxl_srcs, sb_mod, 'mcmc', xxl_srcs.r500*1.3, \n",
    "                                       conv_temp=xxl_conv_txs, conv_outer_radius=Quantity(300, 'kpc'))\n",
    "lov_dblbeta_13_dp = inv_abel_fitted_model(lovisari_srcs, sb_mod, 'mcmc', lovisari_srcs.r500*1.3, \n",
    "                                       conv_temp=lov_conv_txs)\n",
    "loc_dblbeta_13_dp = inv_abel_fitted_model(locuss_srcs, sb_mod, 'mcmc', locuss_srcs.r500*1.3, \n",
    "                                       conv_temp=loc_conv_txs)"
   ]
  },
  {
   "cell_type": "markdown",
   "id": "8726ae09",
   "metadata": {},
   "source": []
  },
  {
   "cell_type": "markdown",
   "id": "2051c8b7",
   "metadata": {},
   "source": []
  },
  {
   "cell_type": "code",
   "execution_count": null,
   "id": "7371a4bb",
   "metadata": {
    "scrolled": true
   },
   "outputs": [],
   "source": [
    "d_mod = SimpleVikhlininDensity1D(y_unit=Unit(\"1 / cm^3\"))\n",
    "d_mod.info()\n",
    "print(d_mod.par_priors)\n",
    "\n",
    "with tqdm(desc=\"Fitting density model to XXL profiles\", total=len(xxl_dblbeta_13_dp)) as onwards:\n",
    "    for dp in xxl_dblbeta_13_dp:\n",
    "        if dp is not None:\n",
    "            dp.fit(d_mod, progress_bar=False)\n",
    "        onwards.update(1)\n",
    "\n",
    "with tqdm(desc=\"Fitting density model to Lovisari profiles\", total=len(lov_dblbeta_13_dp)) as onwards:\n",
    "    for dp in lov_dblbeta_13_dp:\n",
    "        if dp is not None:\n",
    "            dp.fit(d_mod, progress_bar=False)\n",
    "        onwards.update(1)\n",
    "\n",
    "with tqdm(desc=\"Fitting density model to LoCuSS profiles\", total=len(loc_dblbeta_13_dp)) as onwards:\n",
    "    for dp in loc_dblbeta_13_dp:\n",
    "        if dp is not None:\n",
    "            dp.fit(d_mod, progress_bar=False)\n",
    "        onwards.update(1)\n"
   ]
  },
  {
   "cell_type": "code",
   "execution_count": null,
   "id": "814a1ed2",
   "metadata": {},
   "outputs": [],
   "source": [
    "xxl_dblbeta_svikh_13_gm = []\n",
    "with tqdm(desc=\"Calculating XXL gas masses\", total=len(xxl_dblbeta_13_dp)) as onwards:\n",
    "    for dp in xxl_dblbeta_13_dp:\n",
    "        if dp is not None:\n",
    "            gm = dp.gas_mass(\"simple_vikhlinin_dens\", xxl_srcs[dp.src_name].r500)[0]\n",
    "            xxl_dblbeta_svikh_13_gm.append(gm)\n",
    "        else:\n",
    "            xxl_dblbeta_svikh_13_gm.append([np.NaN, np.NaN, np.NaN])\n",
    "        onwards.update(1)\n",
    "\n",
    "lov_dblbeta_svikh_13_gm = []\n",
    "with tqdm(desc=\"Calculating Lovisari gas masses\", total=len(lov_dblbeta_13_dp)) as onwards:\n",
    "    for dp in lov_dblbeta_13_dp:\n",
    "        if dp is not None:\n",
    "            gm = dp.gas_mass(\"simple_vikhlinin_dens\", lovisari_srcs[dp.src_name].r500)[0]\n",
    "            lov_dblbeta_svikh_13_gm.append(gm)\n",
    "        else:\n",
    "            lov_dblbeta_svikh_13_gm.append([np.NaN, np.NaN, np.NaN])\n",
    "        onwards.update(1)        \n",
    "        \n",
    "loc_dblbeta_svikh_13_gm = []\n",
    "with tqdm(desc=\"Calculating LoCuSS gas masses\", total=len(loc_dblbeta_13_dp)) as onwards:\n",
    "    for dp in loc_dblbeta_13_dp:\n",
    "        if dp is not None:\n",
    "            gm = dp.gas_mass(\"simple_vikhlinin_dens\", locuss_srcs[dp.src_name].r500)[0]\n",
    "            loc_dblbeta_svikh_13_gm.append(gm)\n",
    "        else:\n",
    "            loc_dblbeta_svikh_13_gm.append([np.NaN, np.NaN, np.NaN])\n",
    "        onwards.update(1)        \n",
    "        \n",
    "xxl_dblbeta_svikh_13_gm = Quantity(xxl_dblbeta_svikh_13_gm, 'Msun')\n",
    "lov_dblbeta_svikh_13_gm = Quantity(lov_dblbeta_svikh_13_gm, 'Msun')\n",
    "loc_dblbeta_svikh_13_gm = Quantity(loc_dblbeta_svikh_13_gm, 'Msun')"
   ]
  },
  {
   "cell_type": "code",
   "execution_count": null,
   "id": "36602360",
   "metadata": {},
   "outputs": [],
   "source": [
    "# Setting the y-position and font size of the a, b, and c labels that are added below the subplots\n",
    "sublabel_ypos = -0.115\n",
    "sublabel_fsize = 14\n",
    "\n",
    "# Set up the matplotlib figure with 3 columns, meaning three subplots\n",
    "fig, ax_arr = plt.subplots(ncols=3, figsize=(16, 6))\n",
    "\n",
    "# Iterating through the array of axes objects, setting up the ticks\n",
    "for ax in ax_arr:\n",
    "    ax.minorticks_on()\n",
    "    ax.tick_params(which='both', top=True, right=True, direction='in')\n",
    "\n",
    "# Reading out the first axis in the array of axes\n",
    "ax = ax_arr[0]\n",
    "plt.sca(ax)\n",
    "\n",
    "# Fetching appropriate limits for comparing the two sets of gas-mass measurements\n",
    "xxl_lims = find_lims(xxl_lit_gms, xxl_dblbeta_svikh_13_gm).value\n",
    "\n",
    "# Plotting a 1:1 line to help with comparisons\n",
    "plt.plot(xxl_lims, xxl_lims, color='red', linestyle=\"dashed\", label=\"1:1\")\n",
    "# Plotting the two datasets with uncertainties\n",
    "plt.errorbar(xxl_lit_gms[:, 0].value, xxl_dblbeta_svikh_13_gm[:, 0].value, xerr=xxl_lit_gms[:, 1].value, \n",
    "             yerr=[xxl_dblbeta_svikh_13_gm[:, 1].value, xxl_dblbeta_svikh_13_gm[:, 2].value], fmt='x', \n",
    "             color=xxl_colour, capsize=2, label=\"XXL-100-GC\")\n",
    "\n",
    "# # Labelling axes, setting labels etc.\n",
    "ax.set_xlabel(r\"XXL Gas Mass [M$_{\\odot}$]\", fontsize=15)\n",
    "ax.set_xlim(xxl_lims)\n",
    "ax.set_ylabel(\"XGA Gas Mass [M$_{\\odot}$]\", fontsize=15)\n",
    "ax.set_ylim(xxl_lims)\n",
    "\n",
    "# Add the a) label below this first plot\n",
    "ax.text(0.5, sublabel_ypos, s='a)', horizontalalignment='center', verticalalignment='center', \n",
    "        transform=ax.transAxes, fontsize=sublabel_fsize)\n",
    "ax.legend(loc='best', fontsize=14)\n",
    "\n",
    "# Reading out the second axis in the array of axes\n",
    "ax = ax_arr[1]\n",
    "plt.sca(ax)\n",
    "\n",
    "# Fetching appropriate limits for comparing the two sets of gas-mass measurements\n",
    "lov_lims = find_lims(lov_lit_gms, lov_dblbeta_svikh_13_gm).value\n",
    "\n",
    "# Plotting a 1:1 line to help with comparisons\n",
    "plt.plot(lov_lims, lov_lims, color='red', linestyle=\"dashed\", label=\"1:1\")\n",
    "# Plotting the two datasets with uncertainties\n",
    "plt.errorbar(lov_lit_gms[:, 0].value, lov_dblbeta_svikh_13_gm[:, 0].value, \n",
    "             xerr=[lov_lit_gms[:, 1].value, lov_lit_gms[:, 2].value], \n",
    "             yerr=[lov_dblbeta_svikh_13_gm[:, 1].value, lov_dblbeta_svikh_13_gm[:, 2].value], fmt='x', \n",
    "             color=lov_colour, capsize=2, label=\"Lovisari et al.\")\n",
    "\n",
    "# Labelling axes, setting labels etc.\n",
    "ax.set_xlabel(r\"Lovisari Gas Mass [M$_{\\odot}$]\", fontsize=15)\n",
    "ax.set_xlim(lov_lims)\n",
    "ax.set_ylabel(\"XGA Gas Mass [M$_{\\odot}$]\", fontsize=15)\n",
    "ax.set_ylim(lov_lims)\n",
    "ax.text(0.5, sublabel_ypos, s='b)', horizontalalignment='center', verticalalignment='center', \n",
    "        transform=ax.transAxes, fontsize=sublabel_fsize)\n",
    "ax.legend(loc='best', fontsize=14)\n",
    "\n",
    "# Reading out the last axis in the array of axes\n",
    "ax = ax_arr[2]\n",
    "plt.sca(ax)\n",
    "\n",
    "# Fetching appropriate limits for comparing the two sets of gas-mass measurements\n",
    "loc_lims = find_lims(loc_lit_gms, loc_dblbeta_svikh_13_gm).value\n",
    "\n",
    "# Plotting a 1:1 line to help with comparisons\n",
    "plt.plot(loc_lims, loc_lims, color='red', linestyle=\"dashed\", label=\"1:1\")\n",
    "# Plotting the two datasets with uncertainties\n",
    "plt.errorbar(loc_lit_gms[:, 0].value, loc_dblbeta_svikh_13_gm[:, 0].value, \n",
    "             xerr=loc_lit_gms[:, 1].value, \n",
    "             yerr=[loc_dblbeta_svikh_13_gm[:, 1].value, loc_dblbeta_svikh_13_gm[:, 2].value], fmt='x', \n",
    "             color=loc_colour, capsize=2, label=r\"LoCuSS High-$L_{\\rm{X}}$\")\n",
    "\n",
    "# Labelling axes, setting labels etc.\n",
    "ax.set_xlabel(r\"LoCuSS Gas Mass [M$_{\\odot}$]\", fontsize=15)\n",
    "ax.set_xlim(loc_lims)\n",
    "ax.set_ylabel(\"XGA Gas Mass [M$_{\\odot}$]\", fontsize=15)\n",
    "ax.set_ylim(loc_lims)\n",
    "ax.text(0.5, sublabel_ypos, s='c)', horizontalalignment='center', verticalalignment='center', \n",
    "        transform=ax.transAxes, fontsize=sublabel_fsize)\n",
    "ax.legend(loc='best', fontsize=14)\n",
    "\n",
    "# Saving and plotting the resulting figure\n",
    "plt.tight_layout()\n",
    "plt.savefig(\"non_paper_figures/xxl_lov_loc_dblbeta_svikh_1.3r500_gm_comp.pdf\")\n",
    "plt.show()"
   ]
  },
  {
   "cell_type": "markdown",
   "id": "8236fe3d",
   "metadata": {},
   "source": [
    "## Gas Density Profile Generation and Comparison to Literature - from Annular Spectra"
   ]
  },
  {
   "cell_type": "markdown",
   "id": "e889e8a6",
   "metadata": {},
   "source": []
  },
  {
   "cell_type": "markdown",
   "id": "c7ab0f36",
   "metadata": {},
   "source": [
    "### Simplified Vikhlinin Profiles - out to $R_{500}$"
   ]
  },
  {
   "cell_type": "markdown",
   "id": "c3d205a1",
   "metadata": {},
   "source": []
  },
  {
   "cell_type": "code",
   "execution_count": null,
   "id": "d4a35024",
   "metadata": {
    "scrolled": true
   },
   "outputs": [],
   "source": [
    "loc_annspec_10_dp = ann_spectra_apec_norm(locuss_srcs, locuss_srcs.r500, min_snr=30)\n",
    "lov_annspec_10_dp = ann_spectra_apec_norm(lovisari_srcs, lovisari_srcs.r500, min_snr=30)"
   ]
  },
  {
   "cell_type": "code",
   "execution_count": null,
   "id": "05c2ae8a",
   "metadata": {},
   "outputs": [],
   "source": [
    "dpath = \"non_paper_figures/density_profiles/svikh_1r500_annspec/\"\n",
    "if not os.path.exists(dpath):\n",
    "    os.makedirs(dpath+\"lovisari\")\n",
    "    os.makedirs(dpath+\"locuss\") \n",
    "\n",
    "lov_svikh_10_annspec_gm = []\n",
    "with tqdm(desc=\"Measuring Lovisari Gas Masses\", total=len(lov_annspec_10_dp)) as onwards:\n",
    "    for dp in lov_annspec_10_dp:\n",
    "        if dp is not None:\n",
    "            rel_src = lovisari_srcs[dp.src_name]\n",
    "            # Fit a simplified Vikhlinin density profile\n",
    "            dp.fit(\"simple_vikhlinin_dens\", progress_bar=False)\n",
    "            dp.savefig(dpath+\"lovisari/{}.pdf\".format(rel_src.name))\n",
    "            try:\n",
    "                # Measure a gas mass within R500\n",
    "                gm = dp.gas_mass(\"simple_vikhlinin_dens\", rel_src.r500)[0]\n",
    "                lov_svikh_10_annspec_gm.append(gm)\n",
    "            except ModelNotAssociatedError:\n",
    "                lov_svikh_10_annspec_gm.append([np.NaN, np.NaN, np.NaN])\n",
    "        else:\n",
    "            lov_svikh_10_annspec_gm.append([np.NaN, np.NaN, np.NaN])\n",
    "    \n",
    "        onwards.update(1)\n",
    "\n",
    "loc_svikh_10_annspec_gm = []\n",
    "with tqdm(desc=\"Measuring LoCuSS Gas Masses\", total=len(loc_annspec_10_dp)) as onwards:\n",
    "    for dp in loc_annspec_10_dp:\n",
    "        if dp is not None:\n",
    "            rel_src = locuss_srcs[dp.src_name]\n",
    "            # Fit a simplified Vikhlinin density profile\n",
    "            dp.fit(\"simple_vikhlinin_dens\", progress_bar=False)\n",
    "            dp.savefig(dpath+\"locuss/{}.pdf\".format(rel_src.name))\n",
    "            try:\n",
    "                # Measure a gas mass within R500\n",
    "                gm = dp.gas_mass(\"simple_vikhlinin_dens\", rel_src.r500)[0]\n",
    "                loc_svikh_10_annspec_gm.append(gm)\n",
    "            except ModelNotAssociatedError:\n",
    "                loc_svikh_10_annspec_gm.append([np.NaN, np.NaN, np.NaN])\n",
    "        else:\n",
    "            loc_svikh_10_annspec_gm.append([np.NaN, np.NaN, np.NaN])\n",
    "    \n",
    "        onwards.update(1)\n",
    "\n",
    "lov_svikh_10_annspec_gm = Quantity(lov_svikh_10_annspec_gm, 'Msun').astype(float)\n",
    "loc_svikh_10_annspec_gm = Quantity(loc_svikh_10_annspec_gm, 'Msun').astype(float)"
   ]
  },
  {
   "cell_type": "code",
   "execution_count": null,
   "id": "25aa1f13",
   "metadata": {
    "scrolled": false
   },
   "outputs": [],
   "source": [
    "# Setting the y-position and font size of the a and b  labels that are added below the subplots\n",
    "sublabel_ypos = -0.115\n",
    "sublabel_fsize = 14\n",
    "\n",
    "# Set up the matplotlib figure with 2 columns, meaning three subplots\n",
    "fig, ax_arr = plt.subplots(ncols=2, figsize=(12, 6))\n",
    "\n",
    "# Iterating through the array of axes objects, setting up the ticks\n",
    "for ax in ax_arr:\n",
    "    ax.minorticks_on()\n",
    "    ax.tick_params(which='both', top=True, right=True, direction='in')\n",
    "\n",
    "# Reading out the first axis in the array of axes\n",
    "ax = ax_arr[0]\n",
    "plt.sca(ax)\n",
    "\n",
    "# Fetching appropriate limits for comparing the two sets of gas-mass measurements\n",
    "lov_lims = find_lims(lov_lit_gms, lov_svikh_10_annspec_gm).value\n",
    "lov_lims[1] = 5e+14\n",
    "\n",
    "# Plotting a 1:1 line to help with comparisons\n",
    "plt.plot(lov_lims, lov_lims, color='red', linestyle=\"dashed\", label=\"1:1\")\n",
    "# Plotting the two datasets with uncertainties\n",
    "plt.errorbar(lov_lit_gms[:, 0].value, lov_svikh_10_annspec_gm[:, 0].value, \n",
    "             xerr=lov_lit_gms[:, 1:].T.value, \n",
    "             yerr=lov_svikh_10_annspec_gm[:, 1:].T.value, fmt='x', \n",
    "             color=lov_colour, capsize=2, label=\"Lovisari et al.\")\n",
    "\n",
    "# Labelling axes, setting labels etc.\n",
    "ax.set_xlabel(r\"Lovisari Gas Mass [M$_{\\odot}$]\", fontsize=15)\n",
    "ax.set_xlim(lov_lims)\n",
    "ax.set_ylabel(\"XGA Gas Mass [M$_{\\odot}$]\", fontsize=15)\n",
    "ax.set_ylim(lov_lims)\n",
    "ax.text(0.5, sublabel_ypos, s='a)', horizontalalignment='center', verticalalignment='center', \n",
    "        transform=ax.transAxes, fontsize=sublabel_fsize)\n",
    "ax.legend(loc='best', fontsize=14)\n",
    "\n",
    "# Reading out the second axis in the array of axes\n",
    "ax = ax_arr[1]\n",
    "plt.sca(ax)\n",
    "\n",
    "# Fetching appropriate limits for comparing the two sets of gas-mass measurements\n",
    "loc_lims = find_lims(loc_lit_gms, loc_svikh_10_annspec_gm).value\n",
    "\n",
    "# Plotting a 1:1 line to help with comparisons\n",
    "plt.plot(loc_lims, loc_lims, color='red', linestyle=\"dashed\", label=\"1:1\")\n",
    "# Plotting the two datasets with uncertainties\n",
    "plt.errorbar(loc_lit_gms[:, 0].value, loc_svikh_10_annspec_gm[:, 0].value, \n",
    "             xerr=loc_lit_gms[:, 1].value, \n",
    "             yerr=loc_svikh_10_annspec_gm[:, 1:].T.value, fmt='x', \n",
    "             color=loc_colour, capsize=2, label=r\"LoCuSS High-$L_{\\rm{X}}$\")\n",
    "\n",
    "# Labelling axes, setting labels etc.\n",
    "ax.set_xlabel(r\"LoCuSS Gas Mass [M$_{\\odot}$]\", fontsize=15)\n",
    "ax.set_xlim(loc_lims)\n",
    "ax.set_ylabel(\"XGA Gas Mass [M$_{\\odot}$]\", fontsize=15)\n",
    "ax.set_ylim(loc_lims)\n",
    "ax.text(0.5, sublabel_ypos, s='b)', horizontalalignment='center', verticalalignment='center', \n",
    "        transform=ax.transAxes, fontsize=sublabel_fsize)\n",
    "ax.legend(loc='best', fontsize=14)\n",
    "\n",
    "plt.tight_layout()\n",
    "\n",
    "# Saving and plotting the resulting figure\n",
    "plt.savefig(\"non_paper_figures/lov_loc_svikh_1r500_annspec_gm_comp.pdf\")\n",
    "plt.show()"
   ]
  },
  {
   "cell_type": "markdown",
   "id": "1135a130",
   "metadata": {},
   "source": [
    "### Simplified Vikhlinin Profiles - out to 1.3$R_{500}$"
   ]
  },
  {
   "cell_type": "markdown",
   "id": "9a706d3d",
   "metadata": {},
   "source": []
  },
  {
   "cell_type": "code",
   "execution_count": null,
   "id": "f60123be",
   "metadata": {
    "scrolled": true
   },
   "outputs": [],
   "source": [
    "loc_annspec_13_dp = ann_spectra_apec_norm(locuss_srcs, locuss_srcs.r500*1.3, min_snr=30)\n",
    "lov_annspec_13_dp = ann_spectra_apec_norm(lovisari_srcs, lovisari_srcs.r500*1.3, min_snr=30)"
   ]
  },
  {
   "cell_type": "code",
   "execution_count": null,
   "id": "0d54a375",
   "metadata": {},
   "outputs": [],
   "source": [
    "dpath = \"non_paper_figures/density_profiles/svikh_13r500_annspec/\"\n",
    "if not os.path.exists(dpath):\n",
    "    os.makedirs(dpath+\"lovisari\")\n",
    "    os.makedirs(dpath+\"locuss\") \n",
    "\n",
    "lov_svikh_13_annspec_gm = []\n",
    "with tqdm(desc=\"Measuring Lovisari Gas Masses\", total=len(lov_annspec_13_dp)) as onwards:\n",
    "    for dp in lov_annspec_13_dp:\n",
    "        if dp is not None:\n",
    "            rel_src = lovisari_srcs[dp.src_name]\n",
    "            # Fit a simplified Vikhlinin density profile\n",
    "            dp.fit(\"simple_vikhlinin_dens\", progress_bar=False)\n",
    "            dp.view(save_path=dpath+\"lovisari/{}.pdf\".format(rel_src.name))\n",
    "            try:\n",
    "                # Measure a gas mass within R500\n",
    "                gm = dp.gas_mass(\"simple_vikhlinin_dens\", rel_src.r500)[0]\n",
    "                lov_svikh_13_annspec_gm.append(gm)\n",
    "            except ModelNotAssociatedError:\n",
    "                lov_svikh_13_annspec_gm.append([np.NaN, np.NaN, np.NaN])\n",
    "        else:\n",
    "            lov_svikh_13_annspec_gm.append([np.NaN, np.NaN, np.NaN])\n",
    "    \n",
    "        onwards.update(1)\n",
    "\n",
    "loc_svikh_13_annspec_gm = []\n",
    "with tqdm(desc=\"Measuring LoCuSS Gas Masses\", total=len(loc_annspec_13_dp)) as onwards:\n",
    "    for dp in loc_annspec_13_dp:\n",
    "        if dp is not None:\n",
    "            rel_src = locuss_srcs[dp.src_name]\n",
    "            # Fit a simplified Vikhlinin density profile\n",
    "            dp.fit(\"simple_vikhlinin_dens\", progress_bar=False)\n",
    "            dp.view(save_path=dpath+\"locuss/{}.pdf\".format(rel_src.name))\n",
    "            try:\n",
    "                # Measure a gas mass within R500\n",
    "                gm = dp.gas_mass(\"simple_vikhlinin_dens\", rel_src.r500)[0]\n",
    "                loc_svikh_13_annspec_gm.append(gm)\n",
    "            except ModelNotAssociatedError:\n",
    "                loc_svikh_13_annspec_gm.append([np.NaN, np.NaN, np.NaN])\n",
    "        else:\n",
    "            loc_svikh_13_annspec_gm.append([np.NaN, np.NaN, np.NaN])\n",
    "    \n",
    "        onwards.update(1)\n",
    "\n",
    "lov_svikh_13_annspec_gm = Quantity(lov_svikh_13_annspec_gm, 'Msun').astype(float)\n",
    "loc_svikh_13_annspec_gm = Quantity(loc_svikh_13_annspec_gm, 'Msun').astype(float)"
   ]
  },
  {
   "cell_type": "code",
   "execution_count": null,
   "id": "c7c38f8c",
   "metadata": {},
   "outputs": [],
   "source": [
    "# Setting the y-position and font size of the a and b  labels that are added below the subplots\n",
    "sublabel_ypos = -0.115\n",
    "sublabel_fsize = 14\n",
    "\n",
    "# Set up the matplotlib figure with 2 columns, meaning three subplots\n",
    "fig, ax_arr = plt.subplots(ncols=2, figsize=(12, 6))\n",
    "\n",
    "# Iterating through the array of axes objects, setting up the ticks\n",
    "for ax in ax_arr:\n",
    "    ax.minorticks_on()\n",
    "    ax.tick_params(which='both', top=True, right=True, direction='in')\n",
    "\n",
    "# Reading out the first axis in the array of axes\n",
    "ax = ax_arr[0]\n",
    "plt.sca(ax)\n",
    "\n",
    "# Fetching appropriate limits for comparing the two sets of gas-mass measurements\n",
    "lov_lims = find_lims(lov_lit_gms, lov_svikh_13_annspec_gm).value\n",
    "lov_lims[1] = 5e+14\n",
    "\n",
    "# Plotting a 1:1 line to help with comparisons\n",
    "plt.plot(lov_lims, lov_lims, color='red', linestyle=\"dashed\", label=\"1:1\")\n",
    "# Plotting the two datasets with uncertainties\n",
    "plt.errorbar(lov_lit_gms[:, 0].value, lov_svikh_13_annspec_gm[:, 0].value, \n",
    "             xerr=lov_lit_gms[:, 1:].T.value, \n",
    "             yerr=lov_svikh_13_annspec_gm[:, 1:].T.value, fmt='x', \n",
    "             color=lov_colour, capsize=2, label=\"Lovisari et al.\")\n",
    "\n",
    "# Labelling axes, setting labels etc.\n",
    "ax.set_xlabel(r\"Lovisari Gas Mass [M$_{\\odot}$]\", fontsize=15)\n",
    "ax.set_xlim(lov_lims)\n",
    "ax.set_ylabel(\"XGA Gas Mass [M$_{\\odot}$]\", fontsize=15)\n",
    "ax.set_ylim(lov_lims)\n",
    "ax.text(0.5, sublabel_ypos, s='a)', horizontalalignment='center', verticalalignment='center', \n",
    "        transform=ax.transAxes, fontsize=sublabel_fsize)\n",
    "ax.legend(loc='best', fontsize=14)\n",
    "\n",
    "# Reading out the second axis in the array of axes\n",
    "ax = ax_arr[1]\n",
    "plt.sca(ax)\n",
    "\n",
    "# Fetching appropriate limits for comparing the two sets of gas-mass measurements\n",
    "loc_lims = find_lims(loc_lit_gms, loc_svikh_13_annspec_gm).value\n",
    "\n",
    "# Plotting a 1:1 line to help with comparisons\n",
    "plt.plot(loc_lims, loc_lims, color='red', linestyle=\"dashed\", label=\"1:1\")\n",
    "# Plotting the two datasets with uncertainties\n",
    "plt.errorbar(loc_lit_gms[:, 0].value, loc_svikh_13_annspec_gm[:, 0].value, \n",
    "             xerr=loc_lit_gms[:, 1].value, \n",
    "             yerr=loc_svikh_13_annspec_gm[:, 1:].T.value, fmt='x', \n",
    "             color=loc_colour, capsize=2, label=r\"LoCuSS High-$L_{\\rm{X}}$\")\n",
    "\n",
    "# Labelling axes, setting labels etc.\n",
    "ax.set_xlabel(r\"LoCuSS Gas Mass [M$_{\\odot}$]\", fontsize=15)\n",
    "ax.set_xlim(loc_lims)\n",
    "ax.set_ylabel(\"XGA Gas Mass [M$_{\\odot}$]\", fontsize=15)\n",
    "ax.set_ylim(loc_lims)\n",
    "ax.text(0.5, sublabel_ypos, s='b)', horizontalalignment='center', verticalalignment='center', \n",
    "        transform=ax.transAxes, fontsize=sublabel_fsize)\n",
    "ax.legend(loc='best', fontsize=14)\n",
    "\n",
    "# Saving and plotting the resulting figure\n",
    "plt.tight_layout()\n",
    "plt.show()"
   ]
  }
 ],
 "metadata": {
  "kernelspec": {
   "display_name": "Python 3 (ipykernel)",
   "language": "python",
   "name": "python3"
  },
  "language_info": {
   "codemirror_mode": {
    "name": "ipython",
    "version": 3
   },
   "file_extension": ".py",
   "mimetype": "text/x-python",
   "name": "python",
   "nbconvert_exporter": "python",
   "pygments_lexer": "ipython3",
   "version": "3.8.11"
  }
 },
 "nbformat": 4,
 "nbformat_minor": 5
}
