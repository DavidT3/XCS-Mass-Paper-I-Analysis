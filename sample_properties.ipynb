{
 "cells": [
  {
   "cell_type": "markdown",
   "id": "995558f4",
   "metadata": {},
   "source": [
    "# Cluster Sample Properties "
   ]
  },
  {
   "cell_type": "markdown",
   "id": "800cb556",
   "metadata": {},
   "source": []
  },
  {
   "cell_type": "markdown",
   "id": "a143029f",
   "metadata": {},
   "source": [
    "## Import Statements"
   ]
  },
  {
   "cell_type": "code",
   "execution_count": 1,
   "id": "d2b23562",
   "metadata": {},
   "outputs": [],
   "source": [
    "import pandas as pd\n",
    "import matplotlib.pyplot as plt\n",
    "import numpy as np"
   ]
  },
  {
   "cell_type": "markdown",
   "id": "7e3e7252",
   "metadata": {},
   "source": [
    "## Loading in Sample Files"
   ]
  },
  {
   "cell_type": "markdown",
   "id": "eafc2756",
   "metadata": {},
   "source": [
    "This section loads in the various samples that are used during this paper, as well as providing simple descriptions of the analyses that produced them and linking to the paper they originate from."
   ]
  },
  {
   "cell_type": "markdown",
   "id": "42c9f1ea",
   "metadata": {},
   "source": [
    "### SDSSRM-XCS Volume Limited Cluster Sample"
   ]
  },
  {
   "cell_type": "markdown",
   "id": "87e6e2c5",
   "metadata": {},
   "source": [
    "A sample of galaxy clusters created by the XMM Cluster Survey (XCS) and presented in Giles et al. (in prep). The sample is made up of clusters detected in the Sloan Digital Sky Survey (SDSS) by the red-sequence Matched-filter Probabilistic Percolation (redMaPPer), then cross-matched to the XCS MSL. A visual inspection process was applied to clean the sample. Then a volume limited (0.1<$z$<0.35) subset with well constrained intra-cluster medium temperatures measured by the XCS3P pipeline ($\\Delta T_{\\rm{X, \\%}}$ < 25%) was created:"
   ]
  },
  {
   "cell_type": "code",
   "execution_count": 2,
   "id": "f8342481",
   "metadata": {},
   "outputs": [],
   "source": [
    "xcs3p = pd.read_csv(\"sample_files/xcs3p_sdssrm_vol_lim_temperr_25%_clusters.csv\")"
   ]
  },
  {
   "cell_type": "markdown",
   "id": "691af421",
   "metadata": {},
   "source": [
    "### XXL-100-GC Cluster Sample"
   ]
  },
  {
   "cell_type": "markdown",
   "id": "a73c1dad",
   "metadata": {},
   "source": []
  },
  {
   "cell_type": "code",
   "execution_count": null,
   "id": "f1a9c7eb",
   "metadata": {},
   "outputs": [],
   "source": []
  },
  {
   "cell_type": "markdown",
   "id": "c62202c1",
   "metadata": {},
   "source": [
    "### LoCuSS High-$L_{\\rm{X}}$ Cluster Sample"
   ]
  },
  {
   "cell_type": "markdown",
   "id": "48061017",
   "metadata": {},
   "source": []
  },
  {
   "cell_type": "code",
   "execution_count": null,
   "id": "7e6105c8",
   "metadata": {},
   "outputs": [],
   "source": []
  },
  {
   "cell_type": "markdown",
   "id": "081e4ebe",
   "metadata": {},
   "source": [
    "### Lovisari"
   ]
  },
  {
   "cell_type": "markdown",
   "id": "ae3d59e3",
   "metadata": {},
   "source": []
  },
  {
   "cell_type": "code",
   "execution_count": null,
   "id": "1cc8ef7c",
   "metadata": {},
   "outputs": [],
   "source": []
  },
  {
   "cell_type": "markdown",
   "id": "a3a2bf54",
   "metadata": {},
   "source": [
    "## Temperature Distributions"
   ]
  },
  {
   "cell_type": "markdown",
   "id": "f2efc31d",
   "metadata": {},
   "source": []
  },
  {
   "cell_type": "code",
   "execution_count": null,
   "id": "f3545ed1",
   "metadata": {},
   "outputs": [],
   "source": []
  },
  {
   "cell_type": "markdown",
   "id": "3515e5b0",
   "metadata": {},
   "source": [
    "## Redshift Distributions"
   ]
  },
  {
   "cell_type": "markdown",
   "id": "6d7ae839",
   "metadata": {},
   "source": []
  },
  {
   "cell_type": "code",
   "execution_count": null,
   "id": "2e517ceb",
   "metadata": {},
   "outputs": [],
   "source": []
  },
  {
   "cell_type": "markdown",
   "id": "f8dacd18",
   "metadata": {},
   "source": [
    "## Luminosity Distributions"
   ]
  },
  {
   "cell_type": "markdown",
   "id": "6ec84f7e",
   "metadata": {},
   "source": []
  },
  {
   "cell_type": "code",
   "execution_count": null,
   "id": "1f3c2015",
   "metadata": {},
   "outputs": [],
   "source": []
  },
  {
   "cell_type": "markdown",
   "id": "7f46d54d",
   "metadata": {},
   "source": [
    "## Clusters in Common"
   ]
  }
 ],
 "metadata": {
  "kernelspec": {
   "display_name": "Python 3 (ipykernel)",
   "language": "python",
   "name": "python3"
  },
  "language_info": {
   "codemirror_mode": {
    "name": "ipython",
    "version": 3
   },
   "file_extension": ".py",
   "mimetype": "text/x-python",
   "name": "python",
   "nbconvert_exporter": "python",
   "pygments_lexer": "ipython3",
   "version": "3.8.12"
  }
 },
 "nbformat": 4,
 "nbformat_minor": 5
}
