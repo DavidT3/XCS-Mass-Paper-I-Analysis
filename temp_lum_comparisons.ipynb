{
 "cells": [
  {
   "cell_type": "markdown",
   "id": "63fc343b",
   "metadata": {},
   "source": [
    "# Comparing Temperatures and Luminosities Between Analyses"
   ]
  },
  {
   "cell_type": "markdown",
   "id": "81dea3ff",
   "metadata": {},
   "source": [
    "This notebook measures global temperatures and luminosities for the samples we are using to verify our method, then compares them to the measurements from literature. While the focus of this work is the measurement of galaxy cluster masses, temperatures and luminosities play an important role in the construction of X-ray mass-observable scaling relations - thus they must also be shown to be consistent with previous work. "
   ]
  },
  {
   "cell_type": "markdown",
   "id": "b1625dab",
   "metadata": {},
   "source": [
    "## Import Statements"
   ]
  },
  {
   "cell_type": "code",
   "execution_count": 1,
   "id": "96a87652",
   "metadata": {},
   "outputs": [],
   "source": [
    "import pandas as pd\n",
    "import numpy as np\n",
    "from astropy.units import Quantity\n",
    "from astropy.cosmology import LambdaCDM, WMAP9\n",
    "\n",
    "from xga.samples import ClusterSample"
   ]
  },
  {
   "cell_type": "markdown",
   "id": "85ab92d0",
   "metadata": {},
   "source": [
    "## Setting up cosmology"
   ]
  },
  {
   "cell_type": "markdown",
   "id": "6f218984",
   "metadata": {},
   "source": [
    "Though three of the previous analyses use the same concordance cosmology, the XXL analysis of their bright cluster sample uses the WMAP9 results, and in case we wish to change anything for an individual sample later we define four separate cosmology objects to pass into our samples."
   ]
  },
  {
   "cell_type": "code",
   "execution_count": 2,
   "id": "a1484106",
   "metadata": {},
   "outputs": [],
   "source": [
    "xcs_cosmo = LambdaCDM(70, 0.3, 0.7)\n",
    "xxl_cosmo = WMAP9\n",
    "locuss_cosmo = LambdaCDM(70, 0.3, 0.7)\n",
    "lovisari_cosmo = LambdaCDM(70, 0.3, 0.7)"
   ]
  },
  {
   "cell_type": "markdown",
   "id": "0b221d6b",
   "metadata": {},
   "source": [
    "## Reading in Sample Files and Declaring XGA ClusterSamples"
   ]
  },
  {
   "cell_type": "markdown",
   "id": "1833ab06",
   "metadata": {},
   "source": [
    "$\\color{red}{\\text{NEED TO MENTION/PUBLISH THE OBSIDS THAT WE EXCLUDE FROM USE DUE TO DATA PROBLEMS LIKE FLARING}}$"
   ]
  },
  {
   "cell_type": "markdown",
   "id": "3fd1ef4d",
   "metadata": {},
   "source": [
    "This subsection involves reading in the sample files of the four test samples (described in [the sample properties notebook](sample_properties.ipynb)), then setting up separate XGA ClusterSample instances (see [the documentation](https://xga.readthedocs.io/en/latest/notebooks/tutorials/sources_samples.html) for an introduction to XGA source and sample objects.\n",
    "\n",
    "We impose an additional cleaning step on each sample, where we make sure that (for each XMM observation initially associated with a source) at least 70% of a cluster's $R_{500}$ falls on that observation - if this requirement is not met then the observation is excluded. These requirements are set with the `clean_obs=True`, `clean_obs_reg='r500'`, and `clean_obs_threshold=0.7` arguments when a ClusterSample instance is declared."
   ]
  },
  {
   "cell_type": "markdown",
   "id": "03bdf005",
   "metadata": {},
   "source": [
    "This is the recent SDSSRM-XCS sample. The temperatures and luminosities are measured by the XCS luminosity-temperature pipeline, and with this we demonstrate that XGA temperatures and luminosities are consistent with existing XCS results.\n",
    "\n",
    "In order to achieve maximum consistency, we use the XAPA coordinates as the central position for spectrum generation (turning off the XGA peak finder with `use_peak=False`). We have also made sure to use the same cosmology."
   ]
  },
  {
   "cell_type": "code",
   "execution_count": 3,
   "id": "f80031ac",
   "metadata": {},
   "outputs": [],
   "source": [
    "xcs3p = pd.read_csv(\"sample_files/xcs3p_sdssrm_vol_lim_temperr_25%_clusters.csv\")\n",
    "# TODO OBVIOUSLY REMOVE\n",
    "xcs3p = xcs3p[:10]"
   ]
  },
  {
   "cell_type": "code",
   "execution_count": 4,
   "id": "6b31d80a",
   "metadata": {},
   "outputs": [
    {
     "name": "stderr",
     "output_type": "stream",
     "text": [
      "Declaring BaseSource Sample: 100%|████████████████████████████████| 10/10 [00:06<00:00,  1.52it/s]\n",
      "Generating products of type(s) ccf: 100%|█████████████████████████| 10/10 [00:23<00:00,  2.31s/it]\n",
      "Generating products of type(s) image: 100%|███████████████████████| 10/10 [00:05<00:00,  1.68it/s]\n",
      "Generating products of type(s) expmap: 100%|██████████████████████| 10/10 [00:03<00:00,  2.97it/s]\n",
      "Setting up Galaxy Clusters: 100%|█████████████████████████████████| 10/10 [00:08<00:00,  1.25it/s]\n",
      "Generating products of type(s) image: 100%|█████████████████████████| 1/1 [00:00<00:00,  3.16it/s]\n",
      "Generating products of type(s) expmap: 100%|████████████████████████| 1/1 [00:00<00:00,  3.44it/s]\n"
     ]
    }
   ],
   "source": [
    "# Reading out the relevant values into arrays just for ease of passing into the ClusterSample object\n",
    "ra = xcs3p['xapa_ra'].values\n",
    "dec = xcs3p['xapa_dec'].values\n",
    "z = xcs3p['z'].values\n",
    "# Not using the IAU names in XCS_NAME column, its easier for me to use the name based on redMaPPer ID\n",
    "n = xcs3p['name'].values\n",
    "# In arcminutes, ClusterSample declaration will convert to kpc using the provided cosmology\n",
    "r500 = Quantity(xcs3p['r500'].values, 'arcmin')\n",
    "# Not likely to use richness in this notebook, but I'm putting it in the sample object anyway\n",
    "r = xcs3p['richness'].values\n",
    "r_err = xcs3p['richness_err'].values\n",
    "\n",
    "# Declaring the actual ClusterSample instance for the XCS sample\n",
    "xcs_srcs = ClusterSample(ra, dec, z, n, r500=r500, richness=r, richness_err=r_err, cosmology=xcs_cosmo, \n",
    "                         load_fits=True, use_peak=False, clean_obs=True, clean_obs_reg='r500', \n",
    "                         clean_obs_threshold=0.7)"
   ]
  },
  {
   "cell_type": "markdown",
   "id": "3f226b02",
   "metadata": {},
   "source": [
    "This is the sample of the brightest clusters in the XXL survey. It contains temperature and luminosity measurements, and will be a useful external comparison for XGA results, though the shallow XXL data may prove a challenge."
   ]
  },
  {
   "cell_type": "code",
   "execution_count": 9,
   "id": "ec1afe23",
   "metadata": {},
   "outputs": [],
   "source": [
    "xxlgc100 = pd.read_csv(\"sample_files/xxl_gc100.csv\")\n",
    "\n",
    "# Limit the comparison to clusters with a flag of 0 - meaning it is in the main sample of 100 clusters\n",
    "xxlgc100 = xxlgc100[xxlgc100['Flag'] == 0]\n",
    "\n",
    "# TODO OBVIOUSLY REMOVE\n",
    "xxlgc100 = xxlgc100[:10]"
   ]
  },
  {
   "cell_type": "code",
   "execution_count": null,
   "id": "17e76e79",
   "metadata": {},
   "outputs": [],
   "source": [
    "# Reading out the relevant values into arrays just for ease of passing into the ClusterSample object\n",
    "ra = xxlgc100['xapa_ra'].values\n",
    "dec = xxlgc100['xapa_dec'].values\n",
    "z = xxlgc100['z'].values\n",
    "n = xxlgc100['name'].values\n",
    "# In arcminutes, ClusterSample declaration will convert to kpc using the provided cosmology\n",
    "r500 = Quantity(xxlgc100['r500'].values, 'arcmin')\n",
    "# Not likely to use richness in this notebook, but I'm putting it in the sample object anyway\n",
    "r = xcs3p['richness'].values\n",
    "r_err = xcs3p['richness_err'].values\n",
    "\n",
    "# Declaring the actual ClusterSample instance for the XCS sample\n",
    "xcs_srcs = ClusterSample(ra, dec, z, n, r500=r500, richness=r, richness_err=r_err, cosmology=xcs_cosmo, \n",
    "                         load_fits=True, use_peak=False, clean_obs=True, clean_obs_reg='r500', \n",
    "                         clean_obs_threshold=0.7)"
   ]
  },
  {
   "cell_type": "markdown",
   "id": "d264da86",
   "metadata": {},
   "source": []
  },
  {
   "cell_type": "code",
   "execution_count": 6,
   "id": "1f0ce589",
   "metadata": {},
   "outputs": [],
   "source": [
    "locuss = pd.read_csv(\"sample_files/locuss_highlx_clusters.csv\", dtype={'chandra_id': str, 'xmm_obsid': str})"
   ]
  },
  {
   "cell_type": "code",
   "execution_count": null,
   "id": "3cd4fd2c",
   "metadata": {},
   "outputs": [],
   "source": []
  },
  {
   "cell_type": "markdown",
   "id": "dff48a8f",
   "metadata": {},
   "source": []
  },
  {
   "cell_type": "code",
   "execution_count": 7,
   "id": "612eb7ad",
   "metadata": {},
   "outputs": [],
   "source": [
    "lovisari = pd.read_csv(\"sample_files/lovisari_planck_clusters.csv\")"
   ]
  },
  {
   "cell_type": "code",
   "execution_count": null,
   "id": "4be83c9d",
   "metadata": {},
   "outputs": [],
   "source": []
  }
 ],
 "metadata": {
  "kernelspec": {
   "display_name": "Python 3 (ipykernel)",
   "language": "python",
   "name": "python3"
  },
  "language_info": {
   "codemirror_mode": {
    "name": "ipython",
    "version": 3
   },
   "file_extension": ".py",
   "mimetype": "text/x-python",
   "name": "python",
   "nbconvert_exporter": "python",
   "pygments_lexer": "ipython3",
   "version": "3.8.12"
  }
 },
 "nbformat": 4,
 "nbformat_minor": 5
}
