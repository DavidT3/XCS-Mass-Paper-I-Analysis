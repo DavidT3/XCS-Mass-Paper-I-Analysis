{
 "cells": [
  {
   "cell_type": "markdown",
   "id": "6fe5238a",
   "metadata": {},
   "source": [
    "# Comparing Temperatures and Luminosities Between Analyses"
   ]
  },
  {
   "cell_type": "markdown",
   "id": "8ab369e4",
   "metadata": {},
   "source": [
    "This notebook measures global temperatures and luminosities for the samples we are using to verify our method, then compares them to the measurements from literature. While the focus of this work is the measurement of galaxy cluster masses, temperatures and luminosities play an important role in the construction of X-ray mass-observable scaling relations - thus they must also be shown to be consistent with previous work. "
   ]
  },
  {
   "cell_type": "markdown",
   "id": "76ced79f",
   "metadata": {},
   "source": [
    "## Import Statements"
   ]
  },
  {
   "cell_type": "code",
   "execution_count": 1,
   "id": "4cb40f16",
   "metadata": {},
   "outputs": [],
   "source": [
    "import pandas as pd\n",
    "import numpy as np\n",
    "from astropy.units import Quantity\n",
    "from astropy.cosmology import LambdaCDM\n",
    "\n",
    "from xga.samples import ClusterSample"
   ]
  },
  {
   "cell_type": "markdown",
   "id": "4a2a416a",
   "metadata": {},
   "source": [
    "## Reading in Sample Files and Declaring XGA ClusterSamples"
   ]
  },
  {
   "cell_type": "markdown",
   "id": "f74ac30d",
   "metadata": {},
   "source": [
    "This subsection involves reading in the sample files of the four test samples (described in [the sample properties notebook](sample_properties.ipynb)), then setting up separate XGA ClusterSample instances (see [the documentation](https://xga.readthedocs.io/en/latest/notebooks/tutorials/sources_samples.html) for an introduction to XGA source and sample objects."
   ]
  },
  {
   "cell_type": "markdown",
   "id": "ac766300",
   "metadata": {},
   "source": []
  },
  {
   "cell_type": "code",
   "execution_count": null,
   "id": "e7ca8db1",
   "metadata": {},
   "outputs": [],
   "source": [
    "xcs3p = pd.read_csv(\"sample_files/xcs3p_sdssrm_vol_lim_temperr_25%_clusters.csv\")"
   ]
  },
  {
   "cell_type": "code",
   "execution_count": null,
   "id": "72cb65b7",
   "metadata": {},
   "outputs": [],
   "source": []
  },
  {
   "cell_type": "markdown",
   "id": "b7a553e2",
   "metadata": {},
   "source": []
  },
  {
   "cell_type": "code",
   "execution_count": null,
   "id": "c96eeb67",
   "metadata": {},
   "outputs": [],
   "source": [
    "xxlgc100 = pd.read_csv(\"sample_files/xxl_gc100.csv\")"
   ]
  },
  {
   "cell_type": "code",
   "execution_count": null,
   "id": "ef212356",
   "metadata": {},
   "outputs": [],
   "source": []
  },
  {
   "cell_type": "markdown",
   "id": "7cb146e7",
   "metadata": {},
   "source": []
  },
  {
   "cell_type": "code",
   "execution_count": null,
   "id": "b0a7b0be",
   "metadata": {},
   "outputs": [],
   "source": [
    "locuss = pd.read_csv(\"sample_files/locuss_highlx_clusters.csv\", dtype={'chandra_id': str, 'xmm_obsid': str})"
   ]
  },
  {
   "cell_type": "code",
   "execution_count": null,
   "id": "eba7d502",
   "metadata": {},
   "outputs": [],
   "source": []
  },
  {
   "cell_type": "markdown",
   "id": "05f1c1cb",
   "metadata": {},
   "source": []
  },
  {
   "cell_type": "code",
   "execution_count": null,
   "id": "6d58dd02",
   "metadata": {},
   "outputs": [],
   "source": [
    "lovisari = pd.read_csv(\"sample_files/lovisari_planck_clusters.csv\")"
   ]
  },
  {
   "cell_type": "code",
   "execution_count": null,
   "id": "fee6f6ee",
   "metadata": {},
   "outputs": [],
   "source": []
  }
 ],
 "metadata": {
  "kernelspec": {
   "display_name": "Python 3 (ipykernel)",
   "language": "python",
   "name": "python3"
  },
  "language_info": {
   "codemirror_mode": {
    "name": "ipython",
    "version": 3
   },
   "file_extension": ".py",
   "mimetype": "text/x-python",
   "name": "python",
   "nbconvert_exporter": "python",
   "pygments_lexer": "ipython3",
   "version": "3.8.12"
  }
 },
 "nbformat": 4,
 "nbformat_minor": 5
}
