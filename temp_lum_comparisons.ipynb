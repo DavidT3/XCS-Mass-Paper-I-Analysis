{
 "cells": [
  {
   "cell_type": "markdown",
   "id": "83978bb0",
   "metadata": {},
   "source": [
    "# Comparing Temperatures and Luminosities Between Analyses"
   ]
  },
  {
   "cell_type": "markdown",
   "id": "e6e858e7",
   "metadata": {},
   "source": [
    "This notebook measures global temperatures and luminosities for the samples we are using to verify our method, then compares them to the measurements from literature. While the focus of this work is the measurement of galaxy cluster masses, temperatures and luminosities play an important role in the construction of X-ray mass-observable scaling relations - thus they must also be shown to be consistent with previous work. "
   ]
  },
  {
   "cell_type": "markdown",
   "id": "6cba98e9",
   "metadata": {},
   "source": [
    "## Import Statements"
   ]
  },
  {
   "cell_type": "code",
   "execution_count": 13,
   "id": "f4f0a6f6",
   "metadata": {},
   "outputs": [],
   "source": [
    "import pandas as pd\n",
    "import numpy as np\n",
    "from astropy.units import Quantity\n",
    "from astropy.cosmology import LambdaCDM, WMAP9\n",
    "\n",
    "from xga.samples import ClusterSample\n",
    "from xga.xspec import single_temp_apec"
   ]
  },
  {
   "cell_type": "markdown",
   "id": "9cfe0cec",
   "metadata": {},
   "source": [
    "## Setting up cosmology"
   ]
  },
  {
   "cell_type": "markdown",
   "id": "3badcf6a",
   "metadata": {},
   "source": [
    "Though three of the previous analyses use the same concordance cosmology, the XXL analysis of their bright cluster sample uses the WMAP9 results, and in case we wish to change anything for an individual sample later we define four separate cosmology objects to pass into our samples."
   ]
  },
  {
   "cell_type": "code",
   "execution_count": 2,
   "id": "0a5e0436",
   "metadata": {},
   "outputs": [],
   "source": [
    "xcs_cosmo = LambdaCDM(70, 0.3, 0.7)\n",
    "xxl_cosmo = WMAP9\n",
    "locuss_cosmo = LambdaCDM(70, 0.3, 0.7)\n",
    "lovisari_cosmo = LambdaCDM(70, 0.3, 0.7)"
   ]
  },
  {
   "cell_type": "markdown",
   "id": "7e107d4b",
   "metadata": {},
   "source": [
    "## Reading in Sample Files and Declaring XGA ClusterSamples"
   ]
  },
  {
   "cell_type": "markdown",
   "id": "25acf5f1",
   "metadata": {},
   "source": [
    "$\\color{red}{\\text{NEED TO MENTION/PUBLISH THE OBSIDS THAT WE EXCLUDE FROM USE DUE TO DATA PROBLEMS LIKE FLARING}}$"
   ]
  },
  {
   "cell_type": "markdown",
   "id": "b60a8cbb",
   "metadata": {},
   "source": [
    "This subsection involves reading in the sample files of the four test samples (described in [the sample properties notebook](sample_properties.ipynb)), then setting up separate XGA ClusterSample instances (see [the documentation](https://xga.readthedocs.io/en/latest/notebooks/tutorials/sources_samples.html) for an introduction to XGA source and sample objects.\n",
    "\n",
    "We impose an additional cleaning step on each sample, where we make sure that (for each XMM observation initially associated with a source) at least 70% of a cluster's $R_{500}$ falls on that observation - if this requirement is not met then the observation is excluded. These requirements are set with the `clean_obs=True`, `clean_obs_reg='r500'`, and `clean_obs_threshold=0.7` arguments when a ClusterSample instance is declared."
   ]
  },
  {
   "cell_type": "markdown",
   "id": "87f68b7b",
   "metadata": {},
   "source": [
    "### SDSSRM-XCS Volume Limited"
   ]
  },
  {
   "cell_type": "markdown",
   "id": "9c5351f9",
   "metadata": {},
   "source": [
    "This is the recent SDSSRM-XCS sample. The temperatures and luminosities are measured by the XCS luminosity-temperature pipeline, and with this we demonstrate that XGA temperatures and luminosities are consistent with existing XCS results.\n",
    "\n",
    "In order to achieve maximum consistency, we use the XAPA coordinates as the central position for spectrum generation (turning off the XGA peak finder with `use_peak=False`). We have also made sure to use the same cosmology."
   ]
  },
  {
   "cell_type": "code",
   "execution_count": 3,
   "id": "b70a24a9",
   "metadata": {},
   "outputs": [],
   "source": [
    "xcs3p = pd.read_csv(\"sample_files/xcs3p_sdssrm_vol_lim_temperr_25%_clusters.csv\")\n",
    "# TODO OBVIOUSLY REMOVE\n",
    "xcs3p = xcs3p[:10]"
   ]
  },
  {
   "cell_type": "code",
   "execution_count": 4,
   "id": "e0912df3",
   "metadata": {},
   "outputs": [
    {
     "name": "stderr",
     "output_type": "stream",
     "text": [
      "Declaring BaseSource Sample: 100%|████████████████████████████████| 10/10 [00:06<00:00,  1.52it/s]\n",
      "Generating products of type(s) ccf: 100%|█████████████████████████| 10/10 [00:23<00:00,  2.31s/it]\n",
      "Generating products of type(s) image: 100%|███████████████████████| 10/10 [00:05<00:00,  1.68it/s]\n",
      "Generating products of type(s) expmap: 100%|██████████████████████| 10/10 [00:03<00:00,  2.97it/s]\n",
      "Setting up Galaxy Clusters: 100%|█████████████████████████████████| 10/10 [00:08<00:00,  1.25it/s]\n",
      "Generating products of type(s) image: 100%|█████████████████████████| 1/1 [00:00<00:00,  3.16it/s]\n",
      "Generating products of type(s) expmap: 100%|████████████████████████| 1/1 [00:00<00:00,  3.44it/s]\n"
     ]
    }
   ],
   "source": [
    "# Reading out the relevant values into arrays just for ease of passing into the ClusterSample object\n",
    "ra = xcs3p['xapa_ra'].values\n",
    "dec = xcs3p['xapa_dec'].values\n",
    "z = xcs3p['z'].values\n",
    "# Not using the IAU names in XCS_NAME column, its easier for me to use the name based on redMaPPer ID\n",
    "n = xcs3p['name'].values\n",
    "# In arcminutes, ClusterSample declaration will convert to kpc using the provided cosmology\n",
    "r500 = Quantity(xcs3p['r500'].values, 'arcmin')\n",
    "# Not likely to use richness in this notebook, but I'm putting it in the sample object anyway\n",
    "r = xcs3p['richness'].values\n",
    "r_err = xcs3p['richness_err'].values\n",
    "\n",
    "# Declaring the actual ClusterSample instance for the XCS sample\n",
    "xcs_srcs = ClusterSample(ra, dec, z, n, r500=r500, richness=r, richness_err=r_err, cosmology=xcs_cosmo, \n",
    "                         load_fits=True, use_peak=False, clean_obs=True, clean_obs_reg='r500', \n",
    "                         clean_obs_threshold=0.7)"
   ]
  },
  {
   "cell_type": "markdown",
   "id": "34f06a4e",
   "metadata": {},
   "source": [
    "### XXL-100-GC"
   ]
  },
  {
   "cell_type": "markdown",
   "id": "fcba4666",
   "metadata": {},
   "source": [
    "This is the sample of the brightest clusters in the XXL survey. It contains temperature and luminosity measurements, and will be a useful external comparison for XGA results, though the shallow XXL data may prove a challenge."
   ]
  },
  {
   "cell_type": "code",
   "execution_count": 9,
   "id": "5df74525",
   "metadata": {},
   "outputs": [],
   "source": [
    "xxlgc100 = pd.read_csv(\"sample_files/xxl_gc100.csv\")\n",
    "\n",
    "# Limit the comparison to clusters with a flag of 0 - meaning it is in the main sample of 100 clusters\n",
    "xxlgc100 = xxlgc100[xxlgc100['Flag'] == 0]\n",
    "\n",
    "# TODO OBVIOUSLY REMOVE\n",
    "xxlgc100 = xxlgc100[:10]"
   ]
  },
  {
   "cell_type": "code",
   "execution_count": 11,
   "id": "c8f1c034",
   "metadata": {
    "scrolled": true
   },
   "outputs": [
    {
     "name": "stderr",
     "output_type": "stream",
     "text": [
      "Declaring BaseSource Sample: 100%|████████████████████████████████| 10/10 [00:30<00:00,  3.10s/it]\n",
      "Generating products of type(s) ccf: 100%|█████████████████████████| 82/82 [02:07<00:00,  1.56s/it]\n",
      "Generating products of type(s) image: 100%|███████████████████████| 10/10 [00:39<00:00,  4.00s/it]\n",
      "Generating products of type(s) expmap: 100%|██████████████████████| 10/10 [00:26<00:00,  2.66s/it]\n",
      "Setting up Galaxy Clusters:   0%|                                          | 0/10 [00:00<?, ?it/s]/home/dt237/code/PycharmProjects/XGA/xga/sources/general.py:124: UserWarning: XLSSC-94 has not been detected in all region files, so generating and fitting products with the 'region' reg_type will not use all available data\n",
      "  warnings.warn(\"{n} has not been detected in all region files, so generating and fitting products\"\n",
      "Setting up Galaxy Clusters:  10%|███▍                              | 1/10 [00:07<01:04,  7.22s/it]/home/dt237/code/PycharmProjects/XGA/xga/sources/general.py:124: UserWarning: XLSSC-96 has not been detected in all region files, so generating and fitting products with the 'region' reg_type will not use all available data\n",
      "  warnings.warn(\"{n} has not been detected in all region files, so generating and fitting products\"\n",
      "Setting up Galaxy Clusters:  20%|██████▊                           | 2/10 [00:18<01:17,  9.67s/it]/home/dt237/code/PycharmProjects/XGA/xga/sources/general.py:109: UserWarning: There are 1 alternative matches for observation 0677630137, associated with source XLSSC-102\n",
      "  warnings.warn(\"There are {0} alternative matches for observation {1}, associated with \"\n",
      "/home/dt237/code/PycharmProjects/XGA/xga/sources/general.py:124: UserWarning: XLSSC-102 has not been detected in all region files, so generating and fitting products with the 'region' reg_type will not use all available data\n",
      "  warnings.warn(\"{n} has not been detected in all region files, so generating and fitting products\"\n",
      "Setting up Galaxy Clusters:  30%|██████████▏                       | 3/10 [00:27<01:04,  9.25s/it]/home/dt237/code/PycharmProjects/XGA/xga/sources/general.py:124: UserWarning: XLSSC-106 has not been detected in all region files, so generating and fitting products with the 'region' reg_type will not use all available data\n",
      "  warnings.warn(\"{n} has not been detected in all region files, so generating and fitting products\"\n",
      "Setting up Galaxy Clusters:  40%|█████████████▌                    | 4/10 [00:37<00:57,  9.57s/it]/home/dt237/code/PycharmProjects/XGA/xga/sources/general.py:124: UserWarning: XLSSC-107 has not been detected in all region files, so generating and fitting products with the 'region' reg_type will not use all available data\n",
      "  warnings.warn(\"{n} has not been detected in all region files, so generating and fitting products\"\n",
      "Setting up Galaxy Clusters:  50%|█████████████████                 | 5/10 [00:41<00:37,  7.47s/it]/home/dt237/code/PycharmProjects/XGA/xga/sources/general.py:124: UserWarning: XLSSC-100 has not been detected in all region files, so generating and fitting products with the 'region' reg_type will not use all available data\n",
      "  warnings.warn(\"{n} has not been detected in all region files, so generating and fitting products\"\n",
      "Setting up Galaxy Clusters:  60%|████████████████████▍             | 6/10 [00:56<00:40, 10.03s/it]/home/dt237/code/PycharmProjects/XGA/xga/sources/general.py:124: UserWarning: XLSSC-93 has not been detected in all region files, so generating and fitting products with the 'region' reg_type will not use all available data\n",
      "  warnings.warn(\"{n} has not been detected in all region files, so generating and fitting products\"\n",
      "Setting up Galaxy Clusters:  70%|███████████████████████▊          | 7/10 [01:04<00:28,  9.37s/it]/home/dt237/code/PycharmProjects/XGA/xga/sources/general.py:124: UserWarning: XLSSC-108 has not been detected in all region files, so generating and fitting products with the 'region' reg_type will not use all available data\n",
      "  warnings.warn(\"{n} has not been detected in all region files, so generating and fitting products\"\n",
      "Setting up Galaxy Clusters:  80%|███████████████████████████▏      | 8/10 [01:10<00:16,  8.46s/it]/home/dt237/code/PycharmProjects/XGA/xga/sources/general.py:109: UserWarning: There are 1 alternative matches for observation 0677640135, associated with source XLSSC-95\n",
      "  warnings.warn(\"There are {0} alternative matches for observation {1}, associated with \"\n",
      "Setting up Galaxy Clusters:  90%|██████████████████████████████▌   | 9/10 [01:16<00:07,  7.60s/it]/home/dt237/code/PycharmProjects/XGA/xga/sources/general.py:124: UserWarning: XLSSC-92 has not been detected in all region files, so generating and fitting products with the 'region' reg_type will not use all available data\n",
      "  warnings.warn(\"{n} has not been detected in all region files, so generating and fitting products\"\n",
      "Setting up Galaxy Clusters: 100%|█████████████████████████████████| 10/10 [01:20<00:00,  8.03s/it]\n",
      "Generating products of type(s) image: 100%|███████████████████████| 10/10 [00:01<00:00,  9.34it/s]\n",
      "Generating products of type(s) expmap: 100%|██████████████████████| 10/10 [00:00<00:00, 10.09it/s]\n"
     ]
    }
   ],
   "source": [
    "# Reading out the relevant values into arrays just for ease of passing into the ClusterSample object\n",
    "ra = xxlgc100['ra'].values\n",
    "dec = xxlgc100['dec'].values\n",
    "z = xxlgc100['z'].values\n",
    "n = xxlgc100['name'].values\n",
    "r500 = Quantity(xxlgc100['r500MT'].values, 'Mpc')\n",
    "\n",
    "# Declaring the actual ClusterSample instance for the XXL sample\n",
    "# This is the only sample whose original analysis used the WMAP9 cosmology\n",
    "xxl_srcs = ClusterSample(ra, dec, z, n, r500=r500, cosmology=xcs_cosmo, load_fits=True, use_peak=False, \n",
    "                         clean_obs=True, clean_obs_reg='r500', clean_obs_threshold=0.7)"
   ]
  },
  {
   "cell_type": "markdown",
   "id": "1a18a411",
   "metadata": {},
   "source": [
    "### LoCuSS High-$L_{\\rm{X}}$"
   ]
  },
  {
   "cell_type": "markdown",
   "id": "f98d901c",
   "metadata": {},
   "source": [
    "The LoCuSS High-$L_{\\rm{X}}$ sample was selected from ROSAT for its high luminosity clusters, and will again be a useful comparison as testing against various different analyses is beneficial in establishing the veracity of our new measurements."
   ]
  },
  {
   "cell_type": "code",
   "execution_count": 12,
   "id": "3a14760b",
   "metadata": {},
   "outputs": [],
   "source": [
    "locuss = pd.read_csv(\"sample_files/locuss_highlx_clusters.csv\", dtype={'chandra_id': str, 'xmm_obsid': str})\n",
    "\n",
    "# TODO OBVIOUSLY REMOVE\n",
    "locuss = locuss[:10]"
   ]
  },
  {
   "cell_type": "code",
   "execution_count": null,
   "id": "0868a951",
   "metadata": {},
   "outputs": [],
   "source": [
    "# Reading out the relevant values into arrays just for ease of passing into the ClusterSample object\n",
    "ra = locuss['ra'].values\n",
    "dec = locuss['dec'].values\n",
    "z = locuss['z'].values\n",
    "n = locuss['name'].values\n",
    "r500 = Quantity(locuss['r500'].values, 'kpc')\n",
    "r2500 = Quantity(locuss['r2500'].values, 'kpc')\n",
    "\n",
    "\n",
    "# Declaring the actual ClusterSample instance for the LoCuSS sample\n",
    "locuss_srcs = ClusterSample(ra, dec, z, n, r500=r500, r2500=r2500 cosmology=locuss_cosmo, load_fits=True, \n",
    "                            use_peak=False, clean_obs=True, clean_obs_reg='r500', clean_obs_threshold=0.7)"
   ]
  },
  {
   "cell_type": "markdown",
   "id": "e50b81ab",
   "metadata": {},
   "source": [
    "### Planck Selected with XMM follow-up"
   ]
  },
  {
   "cell_type": "markdown",
   "id": "06007123",
   "metadata": {},
   "source": [
    "The Lovisari et al. sample was selected from Planck-eSZ, and will again be a useful comparison as testing against various different analyses is beneficial in establishing the veracity of our new measurements."
   ]
  },
  {
   "cell_type": "code",
   "execution_count": 7,
   "id": "fb353ed8",
   "metadata": {},
   "outputs": [],
   "source": [
    "lovisari = pd.read_csv(\"sample_files/lovisari_planck_clusters.csv\")\n",
    "\n",
    "# TODO OBVIOUSLY REMOVE\n",
    "lovisari = lovisari[:10]"
   ]
  },
  {
   "cell_type": "code",
   "execution_count": null,
   "id": "6c601cc4",
   "metadata": {},
   "outputs": [],
   "source": [
    "# Reading out the relevant values into arrays just for ease of passing into the ClusterSample object\n",
    "ra = lovisari['planck_ra'].values\n",
    "dec = lovisari['planck_dec'].values\n",
    "z = lovisari['z'].values\n",
    "n = lovisari['name'].values\n",
    "r500 = Quantity(lovisari['r500'].values, 'kpc')\n",
    "\n",
    "# Declaring the actual ClusterSample instance for the Lovisari sample\n",
    "lovisari_srcs = ClusterSample(ra, dec, z, n, r500=r500, cosmology=lovisari_cosmo, load_fits=True, use_peak=False, \n",
    "                            clean_obs=True, clean_obs_reg='r500', clean_obs_threshold=0.7)"
   ]
  },
  {
   "cell_type": "markdown",
   "id": "cdaa6c01",
   "metadata": {},
   "source": [
    "## Running $T_{\\rm{X}}$ and $L_{\\rm{X}}$ Measurements"
   ]
  },
  {
   "cell_type": "markdown",
   "id": "22445bbf",
   "metadata": {},
   "source": [
    "The XGA XSPEC functions that we use here all automatically call the XGA SAS interface, so the necessary spectra are generated before the fits begin. As the different samples measure properties within different spatial regions, all the function calls differ slightly.\n",
    "\n",
    "The results of the fits are stored within the indivual source objects that make up each sample."
   ]
  },
  {
   "cell_type": "markdown",
   "id": "a20cc584",
   "metadata": {},
   "source": [
    "###  SDSSRM-XCS"
   ]
  },
  {
   "cell_type": "markdown",
   "id": "927afa18",
   "metadata": {},
   "source": [
    "For our comparisons here we wish to measure the temperature ($T_{\\rm{X}}$) and luminosity ($L_\\rm{X}$; both in the 0.5-2.0 keV and bolometric/0.01-100.0 keV energy bands) within $R_{\\rm{500}}$. We fit a `constant*tbabs*apec` model; $\\color{red}{\\text{with the choices for absorption (`tbabs`) and plasma emission (`tbabs`) consistent with the XCS analysis, though the addition of a multiplicative constant to manage differences in sensitivity is different from the original analysis.}}$"
   ]
  },
  {
   "cell_type": "code",
   "execution_count": null,
   "id": "88d15814",
   "metadata": {},
   "outputs": [],
   "source": [
    "single_temp_apec(xcs_srcs, xcs_srcs.r500)"
   ]
  },
  {
   "cell_type": "markdown",
   "id": "8c0265af",
   "metadata": {},
   "source": [
    "### XXL-100-GC"
   ]
  },
  {
   "cell_type": "markdown",
   "id": "d0b4bd51",
   "metadata": {},
   "source": [
    "The XXL temperatures and soft-band $L_{\\rm{X}}$ are measured within 300 kpc, which we replicate by setting the outer radius to an astropy quantity of 300 kpc."
   ]
  },
  {
   "cell_type": "code",
   "execution_count": null,
   "id": "0af4438f",
   "metadata": {},
   "outputs": [],
   "source": [
    "single_temp_apec(xxl_srcs, Quantity(300, 'kpc'))"
   ]
  },
  {
   "cell_type": "markdown",
   "id": "d490b119",
   "metadata": {},
   "source": [
    "### LoCuSS"
   ]
  },
  {
   "cell_type": "markdown",
   "id": "0fa10505",
   "metadata": {},
   "source": [
    "The LoCuSS temperatures and luminosities are slightly different, and have been measured with the core of the X-ray emission removed (spectra are generated in the 0.15-1 $R_{500}$ region). This approach has been shown to reduce the scatter in mass with $L_{\\rm{X}}$. We can replicate it by setting an inner radius when we call `single_temp_apec`."
   ]
  },
  {
   "cell_type": "code",
   "execution_count": null,
   "id": "59266cbc",
   "metadata": {},
   "outputs": [],
   "source": [
    "single_temp_apec(locuss_srcs, locuss_srcs.r500, inner_radius=0.15*locuss_srcs.r500)"
   ]
  },
  {
   "cell_type": "markdown",
   "id": "0363e7b5",
   "metadata": {},
   "source": [
    "### Lovisari "
   ]
  },
  {
   "cell_type": "markdown",
   "id": "8830bfda",
   "metadata": {},
   "source": [
    "The Lovisari sample's has both core-excised and core-included temperatures and luminosities, so we shall also measure both. The Lovisari analysis used a different energy range for the soft-band luminosity measurements than the other samples (0.1-2.4 keV). We can replicate this by changing the default luminosity energy bands used by `single_temp_apec`, so we measure core excluded and included luminosities in the 0.5-2.0 keV, 0.01-100.0 keV (bolometric), and 0.1-2.4 keV bands."
   ]
  },
  {
   "cell_type": "code",
   "execution_count": 14,
   "id": "b88c3c8a",
   "metadata": {},
   "outputs": [
    {
     "data": {
      "text/latex": [
       "$[[0.5,~2],~\n",
       " [0.01,~100],~\n",
       " [0.1,~2.4]] \\; \\mathrm{keV}$"
      ],
      "text/plain": [
       "<Quantity [[5.0e-01, 2.0e+00],\n",
       "           [1.0e-02, 1.0e+02],\n",
       "           [1.0e-01, 2.4e+00]] keV>"
      ]
     },
     "execution_count": 14,
     "metadata": {},
     "output_type": "execute_result"
    }
   ],
   "source": [
    "lovisari_lum_en = Quantity([[0.5, 2.0], [0.01, 100.0], [0.1, 2.4]], 'keV')\n",
    "\n",
    "single_temp_apec(lovisari_srcs, lovisari_srcs.r500, lum_en=lovisari_lum_en)\n",
    "single_temp_apec(lovisari_srcs, lovisari_srcs.r500, inner_radius=0.15*lovisari_srcs.r500, \n",
    "                 lum_en=lovisari_lum_en)"
   ]
  },
  {
   "cell_type": "markdown",
   "id": "19b37845",
   "metadata": {},
   "source": [
    "## Extracting "
   ]
  }
 ],
 "metadata": {
  "kernelspec": {
   "display_name": "Python 3 (ipykernel)",
   "language": "python",
   "name": "python3"
  },
  "language_info": {
   "codemirror_mode": {
    "name": "ipython",
    "version": 3
   },
   "file_extension": ".py",
   "mimetype": "text/x-python",
   "name": "python",
   "nbconvert_exporter": "python",
   "pygments_lexer": "ipython3",
   "version": "3.8.12"
  }
 },
 "nbformat": 4,
 "nbformat_minor": 5
}
