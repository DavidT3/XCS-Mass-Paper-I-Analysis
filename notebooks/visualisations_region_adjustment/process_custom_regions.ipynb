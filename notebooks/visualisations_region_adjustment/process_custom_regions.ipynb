{
 "cells": [
  {
   "cell_type": "markdown",
   "id": "e3f5150e",
   "metadata": {},
   "source": [
    "# "
   ]
  },
  {
   "cell_type": "markdown",
   "id": "7c5a41c4",
   "metadata": {},
   "source": []
  },
  {
   "cell_type": "markdown",
   "id": "6e4b007f",
   "metadata": {},
   "source": [
    "## Import Statements"
   ]
  },
  {
   "cell_type": "code",
   "execution_count": 1,
   "id": "11f28658",
   "metadata": {},
   "outputs": [],
   "source": [
    "import pandas as pd\n",
    "import numpy as np\n",
    "from astropy.units import Quantity, UnitConversionError\n",
    "from astropy.cosmology import LambdaCDM, WMAP9\n",
    "from typing import Union, List\n",
    "from shutil import rmtree, copyfile\n",
    "import os\n",
    "from regions import read_ds9, write_ds9\n",
    "import matplotlib\n",
    "from matplotlib import pyplot as plt\n",
    "from regions import EllipsePixelRegion\n",
    "\n",
    "# This adds the directory above to the path, allowing me to import the common functions that I've written in\n",
    "#  common.py - this just saves me repeating boring code and makes sure its all consistent\n",
    "import sys\n",
    "sys.path.insert(0, '..')\n",
    "from common import xcs3p_colour, xcs_cosmo, xxlgc100_colour, xxl_cosmo, locuss_colour, locuss_cosmo\n",
    "\n",
    "import xga\n",
    "# This just sets the number of cores this analysis is allowed to use\n",
    "xga.NUM_CORES = 20\n",
    "# This is a bodge that will only work because xga_output in notebooks has already been defined, XGA\n",
    "#  will be made to handle this more gracefully at some point\n",
    "temp_dir = xga.OUTPUT\n",
    "actual_dir = temp_dir.split('notebooks/')[0]+'notebooks/xga_output/'\n",
    "xga.OUTPUT = actual_dir\n",
    "xga.utils.OUTPUT = actual_dir\n",
    "# As currently XGA will setup an xga_output directory in our current directory, I remove it to keep it all clean\n",
    "if os.path.exists('xga_output'):\n",
    "    rmtree('xga_output')\n",
    "from xga.samples import ClusterSample\n",
    "from xga.products import Image\n",
    "from xga.imagetools.misc import physical_rad_to_pix\n",
    "from xga import xga_conf\n",
    "\n",
    "import warnings\n",
    "warnings.filterwarnings('ignore')"
   ]
  },
  {
   "cell_type": "markdown",
   "id": "ac4032f5",
   "metadata": {},
   "source": [
    "## Defining useful functions"
   ]
  },
  {
   "cell_type": "code",
   "execution_count": 2,
   "id": "8637c174",
   "metadata": {},
   "outputs": [],
   "source": [
    "def comp_reg(reg_one, reg_two):\n",
    "    x_pos = reg_one.center.x == reg_two.center.x\n",
    "    y_pos = reg_one.center.y == reg_two.center.y\n",
    "\n",
    "    if type(reg_one) == EllipsePixelRegion:       \n",
    "        height = reg_one.height == reg_two.height\n",
    "        width = reg_one.width == reg_two.width\n",
    "        angle = reg_one.angle == reg_two.angle\n",
    "#         print(reg_one.height, reg_two.height)\n",
    "#         print(height, width, angle)\n",
    "#         print('')\n",
    "        \n",
    "        victory = x_pos & y_pos & height & width & angle\n",
    "        \n",
    "    else:\n",
    "        radius = reg_one.radius == reg_two.radius\n",
    "        victory = x_pos & y_pos & radius\n",
    "    \n",
    "    return victory"
   ]
  },
  {
   "cell_type": "markdown",
   "id": "a798ee56",
   "metadata": {},
   "source": [
    "## SDSSRM-XCS"
   ]
  },
  {
   "cell_type": "code",
   "execution_count": 3,
   "id": "67f62e6f",
   "metadata": {},
   "outputs": [],
   "source": [
    "xcs_pth = '../../outputs/custom_regions/sdssrm-xcs/'\n",
    "mod_xcs_reg_names = [n for n in os.listdir(xcs_pth) if len([f for f in os.listdir(xcs_pth+n) if '.reg' in f]) != 0]\n",
    "\n",
    "xcs_need_corr_names = [n for n in mod_xcs_reg_names if len([f for f in os.listdir(xcs_pth+n) if 'ogpix' in f]) == 0]\n",
    "xcs3p = pd.read_csv(\"../../sample_files/xcs3p_sdssrm_vol_lim_temperr_25%_clusters.csv\")\n",
    "xcs3p = xcs3p[xcs3p['name'].isin(xcs_need_corr_names)]"
   ]
  },
  {
   "cell_type": "code",
   "execution_count": 4,
   "id": "7ec7baa9",
   "metadata": {},
   "outputs": [],
   "source": [
    "if len(xcs3p) != 0:\n",
    "    # Reading out the relevant values into arrays just for ease of passing into the ClusterSample object\n",
    "    ra = xcs3p['xapa_ra'].values\n",
    "    dec = xcs3p['xapa_dec'].values\n",
    "    z = xcs3p['z'].values\n",
    "    # Not using the IAU names in XCS_NAME column, its easier for me to use the name based on redMaPPer ID\n",
    "    n = xcs3p['name'].values\n",
    "    # In arcminutes, ClusterSample declaration will convert to kpc using the provided cosmology\n",
    "    r500 = Quantity(xcs3p['r500'].values, 'arcmin')\n",
    "    # Not likely to use richness in this notebook, but I'm putting it in the sample object anyway\n",
    "    r = xcs3p['richness'].values\n",
    "    r_err = xcs3p['richness_err'].values\n",
    "\n",
    "    # Declaring the actual ClusterSample instance for the XCS sample\n",
    "    xcs_srcs = ClusterSample(ra, dec, z, n, r500=r500, richness=r, richness_err=r_err, cosmology=xcs_cosmo, \n",
    "                             load_fits=True, use_peak=True, clean_obs=True, clean_obs_reg='r500', \n",
    "                             clean_obs_threshold=0.7)\n",
    "else:\n",
    "    xcs_srcs = []"
   ]
  },
  {
   "cell_type": "code",
   "execution_count": 5,
   "id": "3c979c9e",
   "metadata": {
    "scrolled": false
   },
   "outputs": [],
   "source": [
    "for src in xcs_srcs:\n",
    "    crt = src.get_combined_ratemaps(lo_en=Quantity(0.5, 'keV'), hi_en=Quantity(2.0, 'keV'))\n",
    "    cur_pth = xcs_pth + src.name\n",
    "    \n",
    "    reg_files = [f for f in os.listdir(cur_pth) if '.reg' in f and 'sky' not in f and 'ogpix' not in f]\n",
    "    \n",
    "    reg_file = [f for f in reg_files if 'new' in f][0]\n",
    "    ds9_regs = read_ds9(cur_pth+'/'+reg_file)\n",
    "    sky_regs = [r.to_sky(crt.radec_wcs) for r in ds9_regs]\n",
    "    new_reg_file = 'sky_'+reg_file\n",
    "    write_ds9(sky_regs, cur_pth+'/'+new_reg_file)\n",
    "    \n",
    "    for reg_file in [r for r in reg_files if 'new' not in r]:\n",
    "        obs_id = reg_file.split('.')[0].split('_')[-1]\n",
    "        rt = src.get_ratemaps(obs_id=obs_id)[0]\n",
    "        ds9_regs = read_ds9(cur_pth+'/'+reg_file)\n",
    "        # This one is converted using the combined image used for the modification\n",
    "        sky_regs = [r.to_sky(crt.radec_wcs) for r in ds9_regs]\n",
    "        \n",
    "        try:\n",
    "            saucy = [src.source_back_regions('region', obs_id)[0]]\n",
    "        except AttributeError:\n",
    "            saucy = []\n",
    "            \n",
    "        sky_regs += saucy\n",
    "\n",
    "        # Then we go back from sky to pixels but pixels for the individual ObsID\n",
    "        corr_pix_regs = [r.to_pixel(rt.radec_wcs) for r in sky_regs]\n",
    "\n",
    "        new_reg_file = 'ogpix_'+reg_file\n",
    "        write_ds9(corr_pix_regs, cur_pth+'/'+new_reg_file, 'image', radunit='')"
   ]
  },
  {
   "cell_type": "code",
   "execution_count": 6,
   "id": "5304b540",
   "metadata": {},
   "outputs": [],
   "source": [
    "for name in mod_xcs_reg_names:\n",
    "    cur_pth = xcs_pth + name\n",
    "    reg_file = [f for f in os.listdir(cur_pth) if 'sky' in f][0]\n",
    "    \n",
    "    regs = read_ds9(cur_pth+'/'+reg_file)\n",
    "    if len(regs) != 0:\n",
    "        copyfile(cur_pth + '/' + reg_file, '../../notebooks/xga_output/regions/{n}/{n}_custom.reg'.format(n=name))"
   ]
  },
  {
   "cell_type": "markdown",
   "id": "635c71f1",
   "metadata": {},
   "source": [
    "## XXL-100-GC"
   ]
  },
  {
   "cell_type": "code",
   "execution_count": 7,
   "id": "c84158d6",
   "metadata": {},
   "outputs": [],
   "source": [
    "xxl_pth = '../../outputs/custom_regions/xxl/'\n",
    "mod_xxl_reg_names = [n for n in os.listdir(xxl_pth) if len([f for f in os.listdir(xxl_pth+n) if '.reg' in f]) != 0]\n",
    "\n",
    "xxl_need_corr_names = [n for n in mod_xxl_reg_names if len([f for f in os.listdir(xxl_pth+n) if 'ogpix' in f]) == 0]\n",
    "\n",
    "xxlgc100 = pd.read_csv(\"../../sample_files/xxl_gc100.csv\")\n",
    "\n",
    "# Limit the comparison to clusters with a flag of 0 - meaning it is in the main sample of 100 clusters\n",
    "xxlgc100 = xxlgc100[xxlgc100['Flag'] == 0]\n",
    "\n",
    "# Excluding a specific cluster which was excluded in the XXL analysis\n",
    "xxlgc100 = xxlgc100[xxlgc100['XLSSC'] != 504]\n",
    "xxlgc100 = xxlgc100[xxlgc100['name'].isin(xxl_need_corr_names)]"
   ]
  },
  {
   "cell_type": "code",
   "execution_count": 8,
   "id": "620a8a19",
   "metadata": {},
   "outputs": [],
   "source": [
    "if len(xxlgc100) > 0:\n",
    "    # Reading out the relevant values into arrays just for ease of passing into the ClusterSample object\n",
    "    ra = xxlgc100['ra'].values\n",
    "    dec = xxlgc100['dec'].values\n",
    "    z = xxlgc100['z'].values\n",
    "    n = xxlgc100['name'].values\n",
    "    r500 = Quantity(xxlgc100['r500MT'].values, 'Mpc')\n",
    "\n",
    "    # Declaring the actual ClusterSample instance for the XXL sample\n",
    "    # This is the only sample whose original analysis used the WMAP9 cosmology\n",
    "    xxl_srcs = ClusterSample(ra, dec, z, n, r500=r500, cosmology=xxl_cosmo, load_fits=True, use_peak=False, \n",
    "                             clean_obs=True, clean_obs_reg='r500', clean_obs_threshold=0.7)\n",
    "else:\n",
    "    xxl_srcs = []"
   ]
  },
  {
   "cell_type": "code",
   "execution_count": 9,
   "id": "a0e284ce",
   "metadata": {},
   "outputs": [],
   "source": [
    "for src in xxl_srcs:\n",
    "    crt = src.get_combined_ratemaps(lo_en=Quantity(0.5, 'keV'), hi_en=Quantity(2.0, 'keV'))\n",
    "    cur_pth = xxl_pth + src.name\n",
    "    \n",
    "    reg_files = [f for f in os.listdir(cur_pth) if '.reg' in f and 'sky' not in f and 'ogpix' not in f]\n",
    "    \n",
    "    reg_file = [f for f in reg_files if 'new' in f][0]\n",
    "    ds9_regs = read_ds9(cur_pth+'/'+reg_file)\n",
    "    sky_regs = [r.to_sky(crt.radec_wcs) for r in ds9_regs]\n",
    "    new_reg_file = 'sky_'+reg_file\n",
    "    write_ds9(sky_regs, cur_pth+'/'+new_reg_file)\n",
    "    \n",
    "    for reg_file in [r for r in reg_files if 'new' not in r]:\n",
    "        obs_id = reg_file.split('.')[0].split('_')[-1]\n",
    "        rt = src.get_ratemaps(obs_id=obs_id)[0]\n",
    "        ds9_regs = read_ds9(cur_pth+'/'+reg_file)\n",
    "        # This one is converted using the combined image used for the modification\n",
    "        sky_regs = [r.to_sky(crt.radec_wcs) for r in ds9_regs]\n",
    "        \n",
    "        try:\n",
    "            saucy = [src.source_back_regions('region', obs_id)[0]]\n",
    "        except AttributeError:\n",
    "            saucy = []\n",
    "            \n",
    "        sky_regs += saucy\n",
    "\n",
    "        # Then we go back from sky to pixels but pixels for the individual ObsID\n",
    "        corr_pix_regs = [r.to_pixel(rt.radec_wcs) for r in sky_regs]\n",
    "\n",
    "        new_reg_file = 'ogpix_'+reg_file\n",
    "        write_ds9(corr_pix_regs, cur_pth+'/'+new_reg_file, 'image', radunit='')"
   ]
  },
  {
   "cell_type": "code",
   "execution_count": 10,
   "id": "621e168c",
   "metadata": {},
   "outputs": [],
   "source": [
    "for name in mod_xxl_reg_names:\n",
    "    cur_pth = xxl_pth + name\n",
    "    reg_file = [f for f in os.listdir(cur_pth) if 'sky' in f][0]\n",
    "    \n",
    "    regs = read_ds9(cur_pth+'/'+reg_file)\n",
    "    if len(regs) != 0:\n",
    "        copyfile(cur_pth + '/' + reg_file, '../../notebooks/xga_output/regions/{n}/{n}_custom.reg'.format(n=name))"
   ]
  },
  {
   "cell_type": "markdown",
   "id": "0d9e60ff",
   "metadata": {},
   "source": [
    "## LoCuSS High-$L_{\\rm{X}}$"
   ]
  },
  {
   "cell_type": "code",
   "execution_count": 11,
   "id": "50616503",
   "metadata": {},
   "outputs": [],
   "source": [
    "loc_pth = '../../outputs/custom_regions/locuss/'\n",
    "mod_loc_reg_names = [n for n in os.listdir(loc_pth) if len([f for f in os.listdir(loc_pth+n) if '.reg' in f]) != 0]\n",
    "\n",
    "loc_need_corr_names = [n for n in mod_loc_reg_names if len([f for f in os.listdir(loc_pth+n) if 'ogpix' in f]) == 0]\n",
    "\n",
    "xxlgc100 = pd.read_csv(\"../../sample_files/xxl_gc100.csv\")\n",
    "\n",
    "locuss = pd.read_csv(\"../../sample_files/locuss_highlx_clusters.csv\", dtype={'chandra_id': str, 'xmm_obsid': str})\n",
    "locuss = locuss[locuss['name'].isin(loc_need_corr_names)]"
   ]
  },
  {
   "cell_type": "code",
   "execution_count": 12,
   "id": "6a53a755",
   "metadata": {},
   "outputs": [],
   "source": [
    "if len(locuss) > 0:\n",
    "    # Reading out the relevant values into arrays just for ease of passing into the ClusterSample object\n",
    "    ra = locuss['ra'].values\n",
    "    dec = locuss['dec'].values\n",
    "    z = locuss['z'].values\n",
    "    n = locuss['name'].values\n",
    "    r500 = Quantity(locuss['r500'].values, 'kpc')\n",
    "    r2500 = Quantity(locuss['r2500'].values, 'kpc')\n",
    "\n",
    "\n",
    "    # Declaring the actual ClusterSample instance for the LoCuSS sample\n",
    "    locuss_srcs = ClusterSample(ra, dec, z, n, r500=r500, r2500=r2500, cosmology=locuss_cosmo, load_fits=True, \n",
    "                                use_peak=True, clean_obs=True, clean_obs_reg='r500', clean_obs_threshold=0.7)\n",
    "else:\n",
    "    locuss_srcs = []"
   ]
  },
  {
   "cell_type": "code",
   "execution_count": 13,
   "id": "68d07da8",
   "metadata": {},
   "outputs": [],
   "source": [
    "for src in locuss_srcs:\n",
    "    crt = src.get_combined_ratemaps(lo_en=Quantity(0.5, 'keV'), hi_en=Quantity(2.0, 'keV'))\n",
    "    cur_pth = loc_pth + src.name\n",
    "    \n",
    "    reg_files = [f for f in os.listdir(cur_pth) if '.reg' in f and 'sky' not in f and 'ogpix' not in f]\n",
    "    \n",
    "    reg_file = [f for f in reg_files if 'new' in f][0]\n",
    "    ds9_regs = read_ds9(cur_pth+'/'+reg_file)\n",
    "    sky_regs = [r.to_sky(crt.radec_wcs) for r in ds9_regs]\n",
    "    new_reg_file = 'sky_'+reg_file\n",
    "    write_ds9(sky_regs, cur_pth+'/'+new_reg_file)\n",
    "    \n",
    "    for reg_file in [r for r in reg_files if 'new' not in r]:\n",
    "        obs_id = reg_file.split('.reg')[0].split('_')[-1]\n",
    "        rt = src.get_ratemaps(obs_id=obs_id)[0]\n",
    "        ds9_regs = read_ds9(cur_pth+'/'+reg_file)\n",
    "        # This one is converted using the combined image used for the modification\n",
    "        sky_regs = [r.to_sky(crt.radec_wcs) for r in ds9_regs]\n",
    "        \n",
    "        try:\n",
    "            saucy = [src.source_back_regions('region', obs_id)[0]]\n",
    "        except AttributeError:\n",
    "            saucy = []\n",
    "            \n",
    "        sky_regs += saucy\n",
    "\n",
    "        # Then we go back from sky to pixels but pixels for the individual ObsID\n",
    "        corr_pix_regs = [r.to_pixel(rt.radec_wcs) for r in sky_regs]\n",
    "\n",
    "        new_reg_file = 'ogpix_'+reg_file\n",
    "        write_ds9(corr_pix_regs, cur_pth+'/'+new_reg_file, 'image', radunit='')"
   ]
  },
  {
   "cell_type": "code",
   "execution_count": 14,
   "id": "7b75da46",
   "metadata": {},
   "outputs": [],
   "source": [
    "for name in mod_loc_reg_names:\n",
    "    cur_pth = loc_pth + name\n",
    "    reg_file = [f for f in os.listdir(cur_pth) if 'sky' in f][0]\n",
    "    \n",
    "    regs = read_ds9(cur_pth+'/'+reg_file)\n",
    "    if len(regs) != 0:\n",
    "        copyfile(cur_pth + '/' + reg_file, '../../notebooks/xga_output/regions/{n}/{n}_custom.reg'.format(n=name))"
   ]
  },
  {
   "cell_type": "markdown",
   "id": "fcd533bf",
   "metadata": {},
   "source": [
    "## Parsing and copying modified ObsID region files"
   ]
  },
  {
   "cell_type": "code",
   "execution_count": 15,
   "id": "1a0ab8e5",
   "metadata": {},
   "outputs": [],
   "source": [
    "new_regs = {}\n",
    "cust_reg_paths = [xcs_pth, xxl_pth, loc_pth]\n",
    "\n",
    "for ns_ind, name_set in enumerate([mod_xcs_reg_names, mod_xxl_reg_names, mod_loc_reg_names]):\n",
    "    for name in name_set:\n",
    "        cur_pth = cust_reg_paths[ns_ind] + name\n",
    "        reg_files = [f for f in os.listdir(cur_pth) if 'ogpix' in f]\n",
    "        for rf in reg_files:\n",
    "            obs_id = rf.split('.reg')[0].split('_')[-1]\n",
    "            if obs_id not in new_regs:\n",
    "                new_regs[obs_id] = [cust_reg_paths[ns_ind] + name + '/' + rf]\n",
    "            else:\n",
    "                new_regs[obs_id].append(cust_reg_paths[ns_ind] + name + '/' + rf)"
   ]
  },
  {
   "cell_type": "code",
   "execution_count": 18,
   "id": "ea8b7415",
   "metadata": {
    "scrolled": false
   },
   "outputs": [],
   "source": [
    "new_reg_path = '../xga_output/{o}/{o}_xga_copy.reg'\n",
    "for obs_id, reg_files in new_regs.items():\n",
    "    if len(reg_files) > 1:\n",
    "        cur_regs = [read_ds9(rf) for rf in reg_files]\n",
    "        \n",
    "        final_regs = cur_regs[0]\n",
    "        for reg_set in cur_regs[1:]:\n",
    "            for reg in reg_set:\n",
    "                if not any([comp_reg(reg, r) for r in final_regs]):\n",
    "                    final_regs.append(reg)\n",
    "                    \n",
    "        write_ds9(final_regs, new_reg_path.format(o=obs_id), 'image', '')\n",
    "        \n",
    "    else:\n",
    "        copyfile(reg_files[0], new_reg_path.format(o=obs_id))"
   ]
  },
  {
   "cell_type": "code",
   "execution_count": null,
   "id": "9261d536",
   "metadata": {},
   "outputs": [],
   "source": []
  }
 ],
 "metadata": {
  "kernelspec": {
   "display_name": "Python 3 (ipykernel)",
   "language": "python",
   "name": "python3"
  },
  "language_info": {
   "codemirror_mode": {
    "name": "ipython",
    "version": 3
   },
   "file_extension": ".py",
   "mimetype": "text/x-python",
   "name": "python",
   "nbconvert_exporter": "python",
   "pygments_lexer": "ipython3",
   "version": "3.8.11"
  }
 },
 "nbformat": 4,
 "nbformat_minor": 5
}
