{
 "cells": [
  {
   "cell_type": "markdown",
   "id": "f8ee5811",
   "metadata": {},
   "source": [
    "# Checking and manually adjustmenting analysis regions for SDSSRM-XCS"
   ]
  },
  {
   "cell_type": "markdown",
   "id": "2b2d3752",
   "metadata": {},
   "source": [
    "This notebook will allow us to go through combined images (i.e. all available data for each cluster) and inspect the source regions that are being used to remove contaminant emission. Then we can choose whether or not to adjust the regions, and if so we can save those changes to new custom region files that will be inserted into the XGA analysis."
   ]
  },
  {
   "cell_type": "markdown",
   "id": "48500463",
   "metadata": {},
   "source": [
    "## Import Statements"
   ]
  },
  {
   "cell_type": "code",
   "execution_count": 1,
   "id": "d29a90a8",
   "metadata": {},
   "outputs": [],
   "source": [
    "import pandas as pd\n",
    "import numpy as np\n",
    "from astropy.units import Quantity, UnitConversionError\n",
    "from astropy.cosmology import LambdaCDM, WMAP9\n",
    "%matplotlib widget\n",
    "from typing import Union, List\n",
    "from shutil import rmtree\n",
    "import os\n",
    "\n",
    "# This adds the directory above to the path, allowing me to import the common functions that I've written in\n",
    "#  common.py - this just saves me repeating boring code and makes sure its all consistent\n",
    "import sys\n",
    "sys.path.insert(0, '..')\n",
    "from common import xcs3p_colour, xcs_cosmo\n",
    "\n",
    "import xga\n",
    "# This just sets the number of cores this analysis is allowed to use\n",
    "xga.NUM_CORES = 20\n",
    "# This is a bodge that will only work because xga_output in notebooks has already been defined, XGA\n",
    "#  will be made to handle this more gracefully at some point\n",
    "temp_dir = xga.OUTPUT\n",
    "actual_dir = temp_dir.split('notebooks/')[0]+'notebooks/xga_output/'\n",
    "xga.OUTPUT = actual_dir\n",
    "xga.utils.OUTPUT = actual_dir\n",
    "# As currently XGA will setup an xga_output directory in our current directory, I remove it to keep it all clean\n",
    "if os.path.exists('xga_output'):\n",
    "    rmtree('xga_output')\n",
    "from xga.samples import ClusterSample\n",
    "from xga.products import Image\n",
    "from xga.imagetools.misc import physical_rad_to_pix\n",
    "\n",
    "import warnings\n",
    "warnings.filterwarnings('ignore')"
   ]
  },
  {
   "cell_type": "markdown",
   "id": "e4864082",
   "metadata": {},
   "source": [
    "## Declaring XGA ClusterSample for SDSSRM-XCS"
   ]
  },
  {
   "cell_type": "markdown",
   "id": "85936eb3",
   "metadata": {},
   "source": []
  },
  {
   "cell_type": "code",
   "execution_count": 2,
   "id": "a91c0c98",
   "metadata": {},
   "outputs": [],
   "source": [
    "xcs3p = pd.read_csv(\"../../sample_files/xcs3p_sdssrm_vol_lim_temperr_25%_clusters.csv\")\n",
    "xcs3p = xcs3p[30:33]"
   ]
  },
  {
   "cell_type": "code",
   "execution_count": 6,
   "id": "6d513e96",
   "metadata": {},
   "outputs": [
    {
     "name": "stderr",
     "output_type": "stream",
     "text": [
      "Declaring BaseSource Sample: 100%|██████████████████████████████████████████████| 3/3 [00:07<00:00,  2.45s/it]\n",
      "Setting up Galaxy Clusters: 100%|███████████████████████████████████████████████| 3/3 [00:25<00:00,  8.51s/it]\n"
     ]
    }
   ],
   "source": [
    "# Reading out the relevant values into arrays just for ease of passing into the ClusterSample object\n",
    "ra = xcs3p['xapa_ra'].values\n",
    "dec = xcs3p['xapa_dec'].values\n",
    "z = xcs3p['z'].values\n",
    "# Not using the IAU names in XCS_NAME column, its easier for me to use the name based on redMaPPer ID\n",
    "n = xcs3p['name'].values\n",
    "# In arcminutes, ClusterSample declaration will convert to kpc using the provided cosmology\n",
    "r500 = Quantity(xcs3p['r500'].values, 'arcmin')\n",
    "# Not likely to use richness in this notebook, but I'm putting it in the sample object anyway\n",
    "r = xcs3p['richness'].values\n",
    "r_err = xcs3p['richness_err'].values\n",
    "\n",
    "# Declaring the actual ClusterSample instance for the XCS sample\n",
    "xcs_srcs = ClusterSample(ra, dec, z, n, r500=r500, richness=r, richness_err=r_err, cosmology=xcs_cosmo, \n",
    "                         load_fits=True, use_peak=True, clean_obs=True, clean_obs_reg='r500', \n",
    "                         clean_obs_threshold=0.7)"
   ]
  },
  {
   "cell_type": "markdown",
   "id": "22d98033",
   "metadata": {},
   "source": [
    "## Setting up region storage directories"
   ]
  },
  {
   "cell_type": "markdown",
   "id": "6178610a",
   "metadata": {},
   "source": [
    "This just sets up the storage structure for the output region files."
   ]
  },
  {
   "cell_type": "code",
   "execution_count": null,
   "id": "0bd16fec",
   "metadata": {},
   "outputs": [],
   "source": [
    "if not os.path.exists('../../outputs/custom_regions/sdssrm-xcs'):\n",
    "    os.makedirs('../../outputs/custom_regions/sdssrm-xcs')\n",
    "\n",
    "for src in xcs_srcs:\n",
    "    sp_pth = '../../outputs/custom_regions/sdssrm-xcs/{n}'.format(n=src.name)\n",
    "    if not os.path.exists(sp_pth):\n",
    "        os.makedirs(sp_pth)"
   ]
  },
  {
   "cell_type": "markdown",
   "id": "572fd380",
   "metadata": {},
   "source": [
    "## Region checking and adjustment"
   ]
  },
  {
   "cell_type": "markdown",
   "id": "e18253c5",
   "metadata": {},
   "source": [
    "This part of the notebook allows us to directly interact with images and their regions - therefore modifications can be made to the source regions, or new regions added, to properly remove contaminating emission that might bias our analyses."
   ]
  },
  {
   "cell_type": "code",
   "execution_count": null,
   "id": "62ae9168",
   "metadata": {},
   "outputs": [],
   "source": [
    "# plt.close('all')"
   ]
  },
  {
   "cell_type": "code",
   "execution_count": null,
   "id": "5dee5a3c",
   "metadata": {
    "scrolled": false
   },
   "outputs": [],
   "source": [
    "src = xcs_srcs[7]\n",
    "print(src.name)\n",
    "\n",
    "crt = src.get_combined_ratemaps(lo_en=Quantity(0.5, 'keV'), hi_en=Quantity(2.0, 'keV'))\n",
    "crt.regions = src.get_interloper_regions(flattened=False)\n",
    "save_path = \"../../outputs/custom_regions/sdssrm-xcs/{n}/mod_{n}.reg\".format(n=src.name)\n",
    "\n",
    "analysis_radius = src.r500*1.2\n",
    "pix_analysis = physical_rad_to_pix(crt, analysis_radius, src.peak, src.redshift, src.cosmo)\n",
    "pix_inn_back = physical_rad_to_pix(crt, analysis_radius*1.05, src.peak, src.redshift, src.cosmo)\n",
    "pix_out_back = physical_rad_to_pix(crt, analysis_radius*1.5, src.peak, src.redshift, src.cosmo)\n",
    "\n",
    "an_rad = Quantity([0, pix_analysis.value], 'pix')\n",
    "bck_rad = Quantity([pix_inn_back, pix_out_back])\n",
    "\n",
    "ch = Quantity([src.peak, src.ra_dec])\n",
    "# ch = src.peak\n",
    "\n",
    "# crt.edit_regions(reg_save_path=save_path, cross_hair=ch, radial_bins_pix=an_rad, back_bin_pix=bck_rad)\n",
    "crt.edit_regions(cross_hair=ch, radial_bins_pix=an_rad, back_bin_pix=bck_rad)"
   ]
  },
  {
   "cell_type": "markdown",
   "id": "b07a1aef",
   "metadata": {},
   "source": [
    "## Notes"
   ]
  },
  {
   "cell_type": "markdown",
   "id": "07576557",
   "metadata": {},
   "source": [
    "* Should revisit SDSSXCS-5 when flare checking is done, as it does look quite flared.\n",
    "* Same deal with SDSSXCS-21847, it looks like there are lots of observations so losing the flared won't be too bad.\n",
    "* SDSSXCS-667 as well.\n",
    "* SDSSXCS-2288 has a readout streak and I'm not sure whether to mask or not\n",
    "* SDSSXCS-137 looks a bit flarey, edit again after flare checks\n",
    "* SDSSXCS-30950 might have a dodgy peak\n",
    "* SDSSXCS-480 has readout streak but am going to put a region on it for the background at least\n",
    "* SDSSXCS-14 come back once flaring addressed\n",
    "* SDSSXCS-765 gives a KeyError for '0551020901' - come back once I've figured out the bug\n",
    "* SDSSXCS-11154 seems like a merging system but one of the components isn't masked out"
   ]
  }
 ],
 "metadata": {
  "kernelspec": {
   "display_name": "Python 3 (ipykernel)",
   "language": "python",
   "name": "python3"
  },
  "language_info": {
   "codemirror_mode": {
    "name": "ipython",
    "version": 3
   },
   "file_extension": ".py",
   "mimetype": "text/x-python",
   "name": "python",
   "nbconvert_exporter": "python",
   "pygments_lexer": "ipython3",
   "version": "3.8.11"
  }
 },
 "nbformat": 4,
 "nbformat_minor": 5
}
