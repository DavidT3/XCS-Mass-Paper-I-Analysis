{
 "cells": [
  {
   "cell_type": "markdown",
   "id": "56365db4",
   "metadata": {},
   "source": [
    "# Comparing Total Hydrostatic Masses Between Analyses"
   ]
  },
  {
   "cell_type": "markdown",
   "id": "dc4bf697",
   "metadata": {},
   "source": [
    "This notebook measures hydrostatic masses for the samples we are using to verify our method, then compares them to the measurements from literature. These mass measurements include both the baryonic content of the intra-cluster medium, and that of the dark matter halo. This implicitly tests how close our measured temperature and density profiles are to those measured by the work we compare them to\n",
    "\n",
    "The LoCuSS and Lovisari samples both have hydrostatic mass measurements associated with them which we will compare to, but the SDSSRM-XCS sample does not (such measurements will be presented in an upcoming paper), and the XXL-100-GC sample data is generally too shallow for such measurements."
   ]
  },
  {
   "cell_type": "markdown",
   "id": "723ab4b7",
   "metadata": {},
   "source": [
    "## Import Statements"
   ]
  },
  {
   "cell_type": "code",
   "execution_count": 1,
   "id": "c41a3b88",
   "metadata": {},
   "outputs": [],
   "source": [
    "import pandas as pd\n",
    "import numpy as np\n",
    "from astropy.units import Quantity, Unit\n",
    "from astropy.cosmology import LambdaCDM, WMAP9\n",
    "import matplotlib.pyplot as plt\n",
    "from tqdm import tqdm\n",
    "import os\n",
    "from copy import deepcopy\n",
    "\n",
    "import xga\n",
    "# This just sets the number of cores this analysis is allowed to use\n",
    "xga.NUM_CORES = 60\n",
    "from xga.samples import ClusterSample\n",
    "from xga.imagetools.psf import rl_psf\n",
    "from xga.sourcetools.density import inv_abel_fitted_model, ann_spectra_apec_norm\n",
    "from xga.sourcetools.mass import inv_abel_dens_onion_temp\n",
    "from xga.models import DoubleBetaProfile1D, SimpleVikhlininDensity1D, SimpleVikhlininTemperature1D\n",
    "from xga.exceptions import ModelNotAssociatedError"
   ]
  },
  {
   "cell_type": "markdown",
   "id": "9a98b7ef",
   "metadata": {},
   "source": [
    "## Defining useful functions"
   ]
  },
  {
   "cell_type": "code",
   "execution_count": 2,
   "id": "b8a3a321",
   "metadata": {},
   "outputs": [],
   "source": [
    "# This function is used for getting axis limits for the the one to one comparison plots later\n",
    "def find_lims(x_dat, y_dat, buffer=0.1):\n",
    "    # A buffer of some percent (default 10) is added to the max and min values to make the plot \n",
    "    #  more easily readable\n",
    "    lom = 1 - buffer\n",
    "    him = 1 + buffer\n",
    "    \n",
    "    # Check if either are all NaNs\n",
    "    if np.isnan(x_dat).all():\n",
    "        x_dat = y_dat.copy()\n",
    "    if np.isnan(y_dat).all():\n",
    "        y_dat = x_dat.copy()\n",
    "    \n",
    "    # Reading out the values without errors\n",
    "    x_vals = x_dat[:, 0]\n",
    "    y_vals = y_dat[:, 0]\n",
    "    \n",
    "    # Depending on whether the input data has + and - errors, or just a standard deviation, depends how\n",
    "    #  we find maximum and minimum values\n",
    "    if x_dat.shape[1] == 3:\n",
    "        # In this case upper and lower errors are present\n",
    "        lb = x_vals-x_dat[:, 1]\n",
    "        # Make sure that we don't count any NaN values, and don't count any negative values\n",
    "        #  The lower errors are subtracted from the measurements, and upper values added to them\n",
    "        #  Then max and mins are found \n",
    "        x_lims = [np.nanmin(lb[np.where(lb>0)[0]]), np.nanmax(x_vals+x_dat[:, 2])]\n",
    "    elif x_dat.shape[1] == 2:\n",
    "        # The behaviour is largely the same as above, but for symmetrical errors\n",
    "        lb = x_vals-x_dat[:, 1]\n",
    "        x_lims = [np.nanmin(lb[np.where(lb>0)[0]]), np.nanmax(x_vals+x_dat[:, 1])]\n",
    "    \n",
    "    if y_dat.shape[1] == 3:\n",
    "        lb = y_vals-y_dat[:, 1]\n",
    "        y_lims = [np.nanmin(lb[np.where(lb>0)[0]]), np.nanmax(y_vals+y_dat[:, 2])]\n",
    "    elif y_dat.shape[1] == 2:\n",
    "        lb = y_vals-y_dat[:, 1]\n",
    "        y_lims = [np.nanmin(lb[np.where(lb>0)[0]]), np.nanmax(y_vals+y_dat[:, 1])]\n",
    "    \n",
    "    # Then find the minimum and maximum values from the min and max x and y data, and multiply by the buffer\n",
    "    lims = Quantity([lom*min([x_lims[0], y_lims[0]]), him*max([x_lims[1], y_lims[1]])])\n",
    "    \n",
    "    # Return the limits for the square like for like comparison plot\n",
    "    return lims"
   ]
  },
  {
   "cell_type": "markdown",
   "id": "d23d2f4f",
   "metadata": {},
   "source": [
    "## Reading colour configuration file"
   ]
  },
  {
   "cell_type": "code",
   "execution_count": 3,
   "id": "38f96e46",
   "metadata": {},
   "outputs": [],
   "source": [
    "samp_colours = pd.read_csv(\"samp_plot_colours.csv\")\n",
    "\n",
    "lov_colour = samp_colours[samp_colours['samp_name'] == 'lovisari'].iloc[0]['samp_colour']\n",
    "loc_colour = samp_colours[samp_colours['samp_name'] == 'locuss'].iloc[0]['samp_colour']"
   ]
  },
  {
   "cell_type": "markdown",
   "id": "e04cff8e",
   "metadata": {},
   "source": [
    "## Setting up cosmology"
   ]
  },
  {
   "cell_type": "markdown",
   "id": "afec687f",
   "metadata": {},
   "source": [
    "The LoCuSS and Lovisari analyses use the same concordance cosmology, but the XXL analysis of their bright cluster sample uses the WMAP9 results, and in case we wish to change anything for an individual sample later we define three separate cosmology objects to pass into our samples."
   ]
  },
  {
   "cell_type": "code",
   "execution_count": 4,
   "id": "ad408f27",
   "metadata": {},
   "outputs": [],
   "source": [
    "locuss_cosmo = LambdaCDM(70, 0.3, 0.7)\n",
    "lovisari_cosmo = LambdaCDM(70, 0.3, 0.7)"
   ]
  },
  {
   "cell_type": "markdown",
   "id": "840bef7f",
   "metadata": {},
   "source": [
    "## Reading in Sample Files and Declaring XGA ClusterSamples"
   ]
  },
  {
   "cell_type": "markdown",
   "id": "a4339940",
   "metadata": {},
   "source": [
    "$\\color{red}{\\text{NEED TO MENTION/PUBLISH THE OBSIDS THAT WE EXCLUDE FROM USE DUE TO DATA PROBLEMS LIKE FLARING}}$"
   ]
  },
  {
   "cell_type": "markdown",
   "id": "5d38b971",
   "metadata": {},
   "source": [
    "This subsection involves reading in the sample files of the four test samples (described in [the sample properties notebook](sample_properties.ipynb)), then setting up separate XGA ClusterSample instances (see [the documentation](https://xga.readthedocs.io/en/latest/notebooks/tutorials/sources_samples.html) for an introduction to XGA source and sample objects.\n",
    "\n",
    "We impose an additional cleaning step on each sample, where we make sure that (for each XMM observation initially associated with a source) at least 70% of a cluster's $R_{500}$ falls on that observation - if this requirement is not met then the observation is excluded. These requirements are set with the `clean_obs=True`, `clean_obs_reg='r500'`, and `clean_obs_threshold=0.7` arguments when a ClusterSample instance is declared."
   ]
  },
  {
   "cell_type": "markdown",
   "id": "1022c878",
   "metadata": {},
   "source": [
    "### LoCuSS High-$L_{\\rm{X}}$ - XGA centering on"
   ]
  },
  {
   "cell_type": "markdown",
   "id": "a0e28096",
   "metadata": {},
   "source": [
    "The LoCuSS High-$L_{\\rm{X}}$ sample was selected from ROSAT for its high luminosity clusters, and will again be a useful comparison as testing against various different analyses is beneficial in establishing the veracity of our new measurements."
   ]
  },
  {
   "cell_type": "code",
   "execution_count": 5,
   "id": "af7b9861",
   "metadata": {},
   "outputs": [],
   "source": [
    "locuss = pd.read_csv(\"sample_files/locuss_highlx_clusters.csv\", dtype={'chandra_id': str, 'xmm_obsid': str})"
   ]
  },
  {
   "cell_type": "code",
   "execution_count": 6,
   "id": "7298e03c",
   "metadata": {},
   "outputs": [
    {
     "name": "stderr",
     "output_type": "stream",
     "text": [
      "Declaring BaseSource Sample:  36%|███████████████▊                            | 18/50 [04:27<07:52, 14.77s/it]/its/home/dt237/.conda/envs/xga_env/lib/python3.8/site-packages/xga/samples/base.py:90: UserWarning: Source ZwCl0949.6+5207 does not appear to have any XMM data, and will not be included in the sample.\n",
      "  warn(\"Source {n} does not appear to have any XMM data, and will not be included in the \"\n",
      "Declaring BaseSource Sample:  46%|████████████████████▏                       | 23/50 [05:45<07:47, 17.32s/it]/its/home/dt237/.conda/envs/xga_env/lib/python3.8/site-packages/xga/samples/base.py:90: UserWarning: Source Abell1423 does not appear to have any XMM data, and will not be included in the sample.\n",
      "  warn(\"Source {n} does not appear to have any XMM data, and will not be included in the \"\n",
      "Declaring BaseSource Sample:  54%|███████████████████████▊                    | 27/50 [06:20<04:33, 11.90s/it]/its/home/dt237/.conda/envs/xga_env/lib/python3.8/site-packages/xga/samples/base.py:90: UserWarning: Source Abell1682 does not appear to have any XMM data, and will not be included in the sample.\n",
      "  warn(\"Source {n} does not appear to have any XMM data, and will not be included in the \"\n",
      "Declaring BaseSource Sample:  90%|███████████████████████████████████████▌    | 45/50 [11:59<01:30, 18.06s/it]/its/home/dt237/.conda/envs/xga_env/lib/python3.8/site-packages/xga/samples/base.py:90: UserWarning: Source Abell2485 does not appear to have any XMM data, and will not be included in the sample.\n",
      "  warn(\"Source {n} does not appear to have any XMM data, and will not be included in the \"\n",
      "Declaring BaseSource Sample: 100%|████████████████████████████████████████████| 50/50 [12:46<00:00, 15.33s/it]\n",
      "Generating products of type(s) ccf: 100%|███████████████████████████████████████| 2/2 [00:24<00:00, 12.02s/it]\n",
      "Generating products of type(s) image: 100%|█████████████████████████████████████| 1/1 [00:01<00:00,  1.29s/it]\n",
      "Generating products of type(s) expmap: 100%|████████████████████████████████████| 1/1 [00:00<00:00,  1.02it/s]\n",
      "Setting up Galaxy Clusters:   2%|█                                             | 1/46 [00:08<06:06,  8.15s/it]/its/home/dt237/.conda/envs/xga_env/lib/python3.8/site-packages/xga/sources/base.py:963: UserWarning: A previous annular spectra profile fit for Abell0068 was not successful, or no matching spectrum has been loaded, so it cannot be read in\n",
      "  warnings.warn(\"A previous annular spectra profile fit for {src} was not successful, or no \"\n",
      "Setting up Galaxy Clusters:   4%|██                                            | 2/46 [00:16<05:57,  8.12s/it]/its/home/dt237/.conda/envs/xga_env/lib/python3.8/site-packages/xga/sources/general.py:124: UserWarning: Abell2813 has not been detected in all region files, so generating and fitting products with the 'region' reg_type will not use all available data\n",
      "  warnings.warn(\"{n} has not been detected in all region files, so generating and fitting products\"\n",
      "Setting up Galaxy Clusters:   9%|████                                          | 4/46 [00:37<06:40,  9.53s/it]/its/home/dt237/.conda/envs/xga_env/lib/python3.8/site-packages/xga/sources/base.py:963: UserWarning: A previous annular spectra profile fit for Abell141 was not successful, or no matching spectrum has been loaded, so it cannot be read in\n",
      "  warnings.warn(\"A previous annular spectra profile fit for {src} was not successful, or no \"\n",
      "Setting up Galaxy Clusters:  11%|█████                                         | 5/46 [00:45<06:13,  9.12s/it]/its/home/dt237/.conda/envs/xga_env/lib/python3.8/site-packages/xga/sources/general.py:124: UserWarning: ZwCl0104.4+0048 has not been detected in all region files, so generating and fitting products with the 'region' reg_type will not use all available data\n",
      "  warnings.warn(\"{n} has not been detected in all region files, so generating and fitting products\"\n",
      "Setting up Galaxy Clusters:  28%|████████████▋                                | 13/46 [02:16<06:59, 12.72s/it]/its/home/dt237/.conda/envs/xga_env/lib/python3.8/site-packages/xga/sources/base.py:963: UserWarning: A previous annular spectra profile fit for Abell0697 was not successful, or no matching spectrum has been loaded, so it cannot be read in\n",
      "  warnings.warn(\"A previous annular spectra profile fit for {src} was not successful, or no \"\n",
      "Setting up Galaxy Clusters:  30%|█████████████▋                               | 14/46 [02:22<05:33, 10.43s/it]/its/home/dt237/.conda/envs/xga_env/lib/python3.8/site-packages/xga/sources/base.py:963: UserWarning: A previous annular spectra profile fit for ZwCl0857.9+2107 was not successful, or no matching spectrum has been loaded, so it cannot be read in\n",
      "  warnings.warn(\"A previous annular spectra profile fit for {src} was not successful, or no \"\n",
      "Setting up Galaxy Clusters:  35%|███████████████▋                             | 16/46 [02:36<04:26,  8.87s/it]/its/home/dt237/.conda/envs/xga_env/lib/python3.8/site-packages/xga/sources/base.py:963: UserWarning: A previous annular spectra profile fit for Abell0773 was not successful, or no matching spectrum has been loaded, so it cannot be read in\n",
      "  warnings.warn(\"A previous annular spectra profile fit for {src} was not successful, or no \"\n",
      "Setting up Galaxy Clusters:  37%|████████████████▋                            | 17/46 [02:43<04:02,  8.37s/it]/its/home/dt237/.conda/envs/xga_env/lib/python3.8/site-packages/xga/sources/general.py:124: UserWarning: Abell0781 has not been detected in all region files, so generating and fitting products with the 'region' reg_type will not use all available data\n",
      "  warnings.warn(\"{n} has not been detected in all region files, so generating and fitting products\"\n",
      "Setting up Galaxy Clusters:  46%|████████████████████▌                        | 21/46 [03:27<04:11, 10.08s/it]/its/home/dt237/.conda/envs/xga_env/lib/python3.8/site-packages/xga/sources/base.py:963: UserWarning: A previous annular spectra profile fit for Abell0963 was not successful, or no matching spectrum has been loaded, so it cannot be read in\n",
      "  warnings.warn(\"A previous annular spectra profile fit for {src} was not successful, or no \"\n",
      "Setting up Galaxy Clusters:  50%|██████████████████████▌                      | 23/46 [03:53<04:37, 12.06s/it]/its/home/dt237/.conda/envs/xga_env/lib/python3.8/site-packages/xga/sources/base.py:963: UserWarning: A previous annular spectra profile fit for Abell1451 was not successful, or no matching spectrum has been loaded, so it cannot be read in\n",
      "  warnings.warn(\"A previous annular spectra profile fit for {src} was not successful, or no \"\n",
      "Setting up Galaxy Clusters:  54%|████████████████████████▍                    | 25/46 [04:01<02:59,  8.53s/it]/its/home/dt237/.conda/envs/xga_env/lib/python3.8/site-packages/xga/sources/extended.py:221: UserWarning: A point source has been detected in 0652010201 and is very close to the user supplied coordinates of RXCJ1212.3-1816. It will not be excluded from analysis due to the possibility of a mis-identified cool core\n",
      "  warnings.warn(\"A point source has been detected in {o} and is very close to the user supplied \"\n",
      "Setting up Galaxy Clusters:  59%|██████████████████████████▍                  | 27/46 [04:14<02:25,  7.66s/it]/its/home/dt237/.conda/envs/xga_env/lib/python3.8/site-packages/xga/sources/general.py:124: UserWarning: Abell1689 has not been detected in all region files, so generating and fitting products with the 'region' reg_type will not use all available data\n",
      "  warnings.warn(\"{n} has not been detected in all region files, so generating and fitting products\"\n",
      "Setting up Galaxy Clusters:  63%|████████████████████████████▎                | 29/46 [04:32<02:22,  8.37s/it]/its/home/dt237/.conda/envs/xga_env/lib/python3.8/site-packages/xga/sources/general.py:124: UserWarning: Abell1758N has not been detected in all region files, so generating and fitting products with the 'region' reg_type will not use all available data\n",
      "  warnings.warn(\"{n} has not been detected in all region files, so generating and fitting products\"\n",
      "Setting up Galaxy Clusters:  70%|███████████████████████████████▎             | 32/46 [05:40<04:19, 18.51s/it]/its/home/dt237/.conda/envs/xga_env/lib/python3.8/site-packages/xga/sources/base.py:963: UserWarning: A previous annular spectra profile fit for Abell1914 was not successful, or no matching spectrum has been loaded, so it cannot be read in\n",
      "  warnings.warn(\"A previous annular spectra profile fit for {src} was not successful, or no \"\n"
     ]
    },
    {
     "name": "stderr",
     "output_type": "stream",
     "text": [
      "Setting up Galaxy Clusters:  85%|██████████████████████████████████████▏      | 39/46 [07:03<01:57, 16.81s/it]/its/home/dt237/.conda/envs/xga_env/lib/python3.8/site-packages/xga/sources/base.py:963: UserWarning: A previous annular spectra profile fit for Abell2219 was not successful, or no matching spectrum has been loaded, so it cannot be read in\n",
      "  warnings.warn(\"A previous annular spectra profile fit for {src} was not successful, or no \"\n",
      "/its/home/dt237/.conda/envs/xga_env/lib/python3.8/site-packages/xga/sources/general.py:124: UserWarning: Abell2219 has not been detected in all region files, so generating and fitting products with the 'region' reg_type will not use all available data\n",
      "  warnings.warn(\"{n} has not been detected in all region files, so generating and fitting products\"\n",
      "/its/home/dt237/.conda/envs/xga_env/lib/python3.8/site-packages/xga/sources/base.py:963: UserWarning: A previous annular spectra profile fit for Abell2219 was not successful, or no matching spectrum has been loaded, so it cannot be read in\n",
      "  warnings.warn(\"A previous annular spectra profile fit for {src} was not successful, or no \"\n",
      "Setting up Galaxy Clusters:  89%|████████████████████████████████████████     | 41/46 [07:39<01:27, 17.50s/it]/its/home/dt237/.conda/envs/xga_env/lib/python3.8/site-packages/xga/sources/general.py:109: UserWarning: There are 1 alternative matches for observation 0093031601, associated with source Abell2261\n",
      "  warnings.warn(\"There are {0} alternative matches for observation {1}, associated with \"\n",
      "/its/home/dt237/.conda/envs/xga_env/lib/python3.8/site-packages/xga/sources/general.py:124: UserWarning: Abell2261 has not been detected in all region files, so generating and fitting products with the 'region' reg_type will not use all available data\n",
      "  warnings.warn(\"{n} has not been detected in all region files, so generating and fitting products\"\n",
      "Setting up Galaxy Clusters:  93%|██████████████████████████████████████████   | 43/46 [08:03<00:42, 14.32s/it]/its/home/dt237/.conda/envs/xga_env/lib/python3.8/site-packages/xga/sources/general.py:124: UserWarning: RXJ2129.6+0005 has not been detected in all region files, so generating and fitting products with the 'region' reg_type will not use all available data\n",
      "  warnings.warn(\"{n} has not been detected in all region files, so generating and fitting products\"\n",
      "Setting up Galaxy Clusters:  98%|████████████████████████████████████████████ | 45/46 [08:26<00:12, 12.57s/it]/its/home/dt237/.conda/envs/xga_env/lib/python3.8/site-packages/xga/sources/base.py:963: UserWarning: A previous annular spectra profile fit for Abell2537 was not successful, or no matching spectrum has been loaded, so it cannot be read in\n",
      "  warnings.warn(\"A previous annular spectra profile fit for {src} was not successful, or no \"\n",
      "Setting up Galaxy Clusters: 48it [08:42,  8.63s/it]                                                           /its/home/dt237/.conda/envs/xga_env/lib/python3.8/site-packages/xga/sources/base.py:963: UserWarning: A previous annular spectra profile fit for Abell2631 was not successful, or no matching spectrum has been loaded, so it cannot be read in\n",
      "  warnings.warn(\"A previous annular spectra profile fit for {src} was not successful, or no \"\n",
      "Setting up Galaxy Clusters: 50it [08:55, 10.71s/it]\n"
     ]
    }
   ],
   "source": [
    "# Reading out the relevant values into arrays just for ease of passing into the ClusterSample object\n",
    "ra = locuss['ra'].values\n",
    "dec = locuss['dec'].values\n",
    "z = locuss['z'].values\n",
    "n = locuss['name'].values\n",
    "r500 = Quantity(locuss['r500'].values, 'kpc')\n",
    "r2500 = Quantity(locuss['r2500'].values, 'kpc')\n",
    "\n",
    "\n",
    "# Declaring the actual ClusterSample instance for the LoCuSS sample\n",
    "locuss_srcs = ClusterSample(ra, dec, z, n, r500=r500, r2500=r2500, cosmology=locuss_cosmo, load_fits=True, \n",
    "                            use_peak=True, clean_obs=True, clean_obs_reg='r500', clean_obs_threshold=0.7)"
   ]
  },
  {
   "cell_type": "markdown",
   "id": "4ed81191",
   "metadata": {},
   "source": [
    "### Planck Selected with XMM follow-up"
   ]
  },
  {
   "cell_type": "markdown",
   "id": "5b62cf24",
   "metadata": {},
   "source": [
    "The Lovisari et al. sample was selected from Planck-eSZ, and will again be a useful comparison as testing against various different analyses is beneficial in establishing the veracity of our new measurements."
   ]
  },
  {
   "cell_type": "code",
   "execution_count": 7,
   "id": "41b82db2",
   "metadata": {},
   "outputs": [],
   "source": [
    "lovisari = pd.read_csv(\"sample_files/lovisari_planck_clusters.csv\")"
   ]
  },
  {
   "cell_type": "code",
   "execution_count": 8,
   "id": "963e74e0",
   "metadata": {
    "scrolled": true
   },
   "outputs": [
    {
     "name": "stderr",
     "output_type": "stream",
     "text": [
      "Declaring BaseSource Sample:  50%|█████████████████████▌                     | 60/120 [16:11<12:28, 12.47s/it]/its/home/dt237/.conda/envs/xga_env/lib/python3.8/site-packages/xga/sources/base.py:794: UserWarning: G226.17-21.91 spectrum /mnt/lustre/projects/astro/general/dt237/mass_papers/XCS-Mass-Paper-I-Analysis/xga_output/0675470101/0675470101_mos2_G226.17-21.91_ra88.262_dec-21.062_ri0.0483332993719956_ro0.05437496179349506_grpTrue_mincnt5_ident72837747_6_spec.fits cannot be loaded in due to a mismatch in available ancillary files\n",
      "  warnings.warn(\"{src} spectrum {sp} cannot be loaded in due to a mismatch in available\"\n",
      "Declaring BaseSource Sample:  51%|█████████████████████▊                     | 61/120 [16:42<17:47, 18.10s/it]/its/home/dt237/.conda/envs/xga_env/lib/python3.8/site-packages/xga/sources/base.py:794: UserWarning: G226.24+76.76 spectrum /mnt/lustre/projects/astro/general/dt237/mass_papers/XCS-Mass-Paper-I-Analysis/xga_output/0551280201/0551280201_mos2_G226.24x76.76_ra178.812_dec23.387_ri0.0_ro0.16191659058688912_grpTrue_mincnt5_spec.fits cannot be loaded in due to a mismatch in available ancillary files\n",
      "  warnings.warn(\"{src} spectrum {sp} cannot be loaded in due to a mismatch in available\"\n",
      "/its/home/dt237/.conda/envs/xga_env/lib/python3.8/site-packages/xga/sources/base.py:794: UserWarning: G226.24+76.76 spectrum /mnt/lustre/projects/astro/general/dt237/mass_papers/XCS-Mass-Paper-I-Analysis/xga_output/0551280201/0551280201_pn_G226.24x76.76_ra178.812_dec23.387_ri0.0_ro0.16191659058688912_grpTrue_mincnt5_spec.fits cannot be loaded in due to a mismatch in available ancillary files\n",
      "  warnings.warn(\"{src} spectrum {sp} cannot be loaded in due to a mismatch in available\"\n",
      "/its/home/dt237/.conda/envs/xga_env/lib/python3.8/site-packages/xga/sources/base.py:794: UserWarning: G226.24+76.76 spectrum /mnt/lustre/projects/astro/general/dt237/mass_papers/XCS-Mass-Paper-I-Analysis/xga_output/0551280201/0551280201_pn_G226.24x76.76_ra178.812_dec23.387_ri0.0_ro0.1752082510082009_grpTrue_mincnt5_spec.fits cannot be loaded in due to a mismatch in available ancillary files\n",
      "  warnings.warn(\"{src} spectrum {sp} cannot be loaded in due to a mismatch in available\"\n",
      "/its/home/dt237/.conda/envs/xga_env/lib/python3.8/site-packages/xga/sources/base.py:794: UserWarning: G226.24+76.76 spectrum /mnt/lustre/projects/astro/general/dt237/mass_papers/XCS-Mass-Paper-I-Analysis/xga_output/0551280201/0551280201_mos1_G226.24x76.76_ra178.812_dec23.387_ri0.0_ro0.16191659058688912_grpTrue_mincnt5_spec.fits cannot be loaded in due to a mismatch in available ancillary files\n",
      "  warnings.warn(\"{src} spectrum {sp} cannot be loaded in due to a mismatch in available\"\n",
      "/its/home/dt237/.conda/envs/xga_env/lib/python3.8/site-packages/xga/sources/base.py:794: UserWarning: G226.24+76.76 spectrum /mnt/lustre/projects/astro/general/dt237/mass_papers/XCS-Mass-Paper-I-Analysis/xga_output/0551280201/0551280201_mos1_G226.24x76.76_ra178.812_dec23.387_ri0.0_ro0.1752082510082009_grpTrue_mincnt5_spec.fits cannot be loaded in due to a mismatch in available ancillary files\n",
      "  warnings.warn(\"{src} spectrum {sp} cannot be loaded in due to a mismatch in available\"\n",
      "/its/home/dt237/.conda/envs/xga_env/lib/python3.8/site-packages/xga/sources/base.py:794: UserWarning: G226.24+76.76 spectrum /mnt/lustre/projects/astro/general/dt237/mass_papers/XCS-Mass-Paper-I-Analysis/xga_output/0551280201/0551280201_mos2_G226.24x76.76_ra178.812_dec23.387_ri0.0_ro0.1752082510082009_grpTrue_mincnt5_spec.fits cannot be loaded in due to a mismatch in available ancillary files\n",
      "  warnings.warn(\"{src} spectrum {sp} cannot be loaded in due to a mismatch in available\"\n",
      "/its/home/dt237/.conda/envs/xga_env/lib/python3.8/site-packages/xga/sources/base.py:794: UserWarning: G226.24+76.76 spectrum /mnt/lustre/projects/astro/general/dt237/mass_papers/XCS-Mass-Paper-I-Analysis/xga_output/0502690201/0502690201_mos2_G226.24x76.76_ra178.812_dec23.387_ri0.0_ro0.16191659058688912_grpTrue_mincnt5_spec.fits cannot be loaded in due to a mismatch in available ancillary files\n",
      "  warnings.warn(\"{src} spectrum {sp} cannot be loaded in due to a mismatch in available\"\n",
      "/its/home/dt237/.conda/envs/xga_env/lib/python3.8/site-packages/xga/sources/base.py:794: UserWarning: G226.24+76.76 spectrum /mnt/lustre/projects/astro/general/dt237/mass_papers/XCS-Mass-Paper-I-Analysis/xga_output/0502690201/0502690201_mos2_G226.24x76.76_ra178.812_dec23.387_ri0.0_ro0.1752082510082009_grpTrue_mincnt5_spec.fits cannot be loaded in due to a mismatch in available ancillary files\n",
      "  warnings.warn(\"{src} spectrum {sp} cannot be loaded in due to a mismatch in available\"\n",
      "/its/home/dt237/.conda/envs/xga_env/lib/python3.8/site-packages/xga/sources/base.py:794: UserWarning: G226.24+76.76 spectrum /mnt/lustre/projects/astro/general/dt237/mass_papers/XCS-Mass-Paper-I-Analysis/xga_output/0502690201/0502690201_pn_G226.24x76.76_ra178.812_dec23.387_ri0.0_ro0.16191659058688912_grpTrue_mincnt5_spec.fits cannot be loaded in due to a mismatch in available ancillary files\n",
      "  warnings.warn(\"{src} spectrum {sp} cannot be loaded in due to a mismatch in available\"\n",
      "/its/home/dt237/.conda/envs/xga_env/lib/python3.8/site-packages/xga/sources/base.py:794: UserWarning: G226.24+76.76 spectrum /mnt/lustre/projects/astro/general/dt237/mass_papers/XCS-Mass-Paper-I-Analysis/xga_output/0502690201/0502690201_pn_G226.24x76.76_ra178.812_dec23.387_ri0.0_ro0.1752082510082009_grpTrue_mincnt5_spec.fits cannot be loaded in due to a mismatch in available ancillary files\n",
      "  warnings.warn(\"{src} spectrum {sp} cannot be loaded in due to a mismatch in available\"\n",
      "/its/home/dt237/.conda/envs/xga_env/lib/python3.8/site-packages/xga/sources/base.py:794: UserWarning: G226.24+76.76 spectrum /mnt/lustre/projects/astro/general/dt237/mass_papers/XCS-Mass-Paper-I-Analysis/xga_output/0502690201/0502690201_mos1_G226.24x76.76_ra178.812_dec23.387_ri0.0_ro0.1752082510082009_grpTrue_mincnt5_spec.fits cannot be loaded in due to a mismatch in available ancillary files\n",
      "  warnings.warn(\"{src} spectrum {sp} cannot be loaded in due to a mismatch in available\"\n",
      "/its/home/dt237/.conda/envs/xga_env/lib/python3.8/site-packages/xga/sources/base.py:794: UserWarning: G226.24+76.76 spectrum /mnt/lustre/projects/astro/general/dt237/mass_papers/XCS-Mass-Paper-I-Analysis/xga_output/0502690201/0502690201_mos1_G226.24x76.76_ra178.812_dec23.387_ri0.0_ro0.16191659058688912_grpTrue_mincnt5_spec.fits cannot be loaded in due to a mismatch in available ancillary files\n",
      "  warnings.warn(\"{src} spectrum {sp} cannot be loaded in due to a mismatch in available\"\n",
      "/its/home/dt237/.conda/envs/xga_env/lib/python3.8/site-packages/xga/sources/base.py:794: UserWarning: G226.24+76.76 spectrum /mnt/lustre/projects/astro/general/dt237/mass_papers/XCS-Mass-Paper-I-Analysis/xga_output/0551280101/0551280101_pn_G226.24x76.76_ra178.812_dec23.387_ri0.0_ro0.1752082510082009_grpTrue_mincnt5_spec.fits cannot be loaded in due to a mismatch in available ancillary files\n",
      "  warnings.warn(\"{src} spectrum {sp} cannot be loaded in due to a mismatch in available\"\n",
      "/its/home/dt237/.conda/envs/xga_env/lib/python3.8/site-packages/xga/sources/base.py:794: UserWarning: G226.24+76.76 spectrum /mnt/lustre/projects/astro/general/dt237/mass_papers/XCS-Mass-Paper-I-Analysis/xga_output/0551280101/0551280101_mos1_G226.24x76.76_ra178.812_dec23.387_ri0.0_ro0.16191659058688912_grpTrue_mincnt5_spec.fits cannot be loaded in due to a mismatch in available ancillary files\n",
      "  warnings.warn(\"{src} spectrum {sp} cannot be loaded in due to a mismatch in available\"\n",
      "/its/home/dt237/.conda/envs/xga_env/lib/python3.8/site-packages/xga/sources/base.py:794: UserWarning: G226.24+76.76 spectrum /mnt/lustre/projects/astro/general/dt237/mass_papers/XCS-Mass-Paper-I-Analysis/xga_output/0551280101/0551280101_pn_G226.24x76.76_ra178.812_dec23.387_ri0.0_ro0.16191659058688912_grpTrue_mincnt5_spec.fits cannot be loaded in due to a mismatch in available ancillary files\n",
      "  warnings.warn(\"{src} spectrum {sp} cannot be loaded in due to a mismatch in available\"\n",
      "/its/home/dt237/.conda/envs/xga_env/lib/python3.8/site-packages/xga/sources/base.py:794: UserWarning: G226.24+76.76 spectrum /mnt/lustre/projects/astro/general/dt237/mass_papers/XCS-Mass-Paper-I-Analysis/xga_output/0551280101/0551280101_mos2_G226.24x76.76_ra178.812_dec23.387_ri0.0_ro0.1752082510082009_grpTrue_mincnt5_spec.fits cannot be loaded in due to a mismatch in available ancillary files\n",
      "  warnings.warn(\"{src} spectrum {sp} cannot be loaded in due to a mismatch in available\"\n"
     ]
    },
    {
     "name": "stderr",
     "output_type": "stream",
     "text": [
      "/its/home/dt237/.conda/envs/xga_env/lib/python3.8/site-packages/xga/sources/base.py:794: UserWarning: G226.24+76.76 spectrum /mnt/lustre/projects/astro/general/dt237/mass_papers/XCS-Mass-Paper-I-Analysis/xga_output/0551280101/0551280101_mos1_G226.24x76.76_ra178.812_dec23.387_ri0.0_ro0.1752082510082009_grpTrue_mincnt5_spec.fits cannot be loaded in due to a mismatch in available ancillary files\n",
      "  warnings.warn(\"{src} spectrum {sp} cannot be loaded in due to a mismatch in available\"\n",
      "/its/home/dt237/.conda/envs/xga_env/lib/python3.8/site-packages/xga/sources/base.py:794: UserWarning: G226.24+76.76 spectrum /mnt/lustre/projects/astro/general/dt237/mass_papers/XCS-Mass-Paper-I-Analysis/xga_output/0551280101/0551280101_mos2_G226.24x76.76_ra178.812_dec23.387_ri0.0_ro0.16191659058688912_grpTrue_mincnt5_spec.fits cannot be loaded in due to a mismatch in available ancillary files\n",
      "  warnings.warn(\"{src} spectrum {sp} cannot be loaded in due to a mismatch in available\"\n",
      "/its/home/dt237/.conda/envs/xga_env/lib/python3.8/site-packages/xga/sources/base.py:794: UserWarning: G226.24+76.76 spectrum /mnt/lustre/projects/astro/general/dt237/mass_papers/XCS-Mass-Paper-I-Analysis/xga_output/0502690101/0502690101_mos1_G226.24x76.76_ra178.812_dec23.387_ri0.0_ro0.1752082510082009_grpTrue_mincnt5_spec.fits cannot be loaded in due to a mismatch in available ancillary files\n",
      "  warnings.warn(\"{src} spectrum {sp} cannot be loaded in due to a mismatch in available\"\n",
      "/its/home/dt237/.conda/envs/xga_env/lib/python3.8/site-packages/xga/sources/base.py:794: UserWarning: G226.24+76.76 spectrum /mnt/lustre/projects/astro/general/dt237/mass_papers/XCS-Mass-Paper-I-Analysis/xga_output/0502690101/0502690101_mos1_G226.24x76.76_ra178.812_dec23.387_ri0.0_ro0.16191659058688912_grpTrue_mincnt5_spec.fits cannot be loaded in due to a mismatch in available ancillary files\n",
      "  warnings.warn(\"{src} spectrum {sp} cannot be loaded in due to a mismatch in available\"\n",
      "/its/home/dt237/.conda/envs/xga_env/lib/python3.8/site-packages/xga/sources/base.py:794: UserWarning: G226.24+76.76 spectrum /mnt/lustre/projects/astro/general/dt237/mass_papers/XCS-Mass-Paper-I-Analysis/xga_output/0502690101/0502690101_pn_G226.24x76.76_ra178.812_dec23.387_ri0.0_ro0.16191659058688912_grpTrue_mincnt5_spec.fits cannot be loaded in due to a mismatch in available ancillary files\n",
      "  warnings.warn(\"{src} spectrum {sp} cannot be loaded in due to a mismatch in available\"\n",
      "/its/home/dt237/.conda/envs/xga_env/lib/python3.8/site-packages/xga/sources/base.py:794: UserWarning: G226.24+76.76 spectrum /mnt/lustre/projects/astro/general/dt237/mass_papers/XCS-Mass-Paper-I-Analysis/xga_output/0502690101/0502690101_pn_G226.24x76.76_ra178.812_dec23.387_ri0.0_ro0.1752082510082009_grpTrue_mincnt5_spec.fits cannot be loaded in due to a mismatch in available ancillary files\n",
      "  warnings.warn(\"{src} spectrum {sp} cannot be loaded in due to a mismatch in available\"\n",
      "/its/home/dt237/.conda/envs/xga_env/lib/python3.8/site-packages/xga/sources/base.py:794: UserWarning: G226.24+76.76 spectrum /mnt/lustre/projects/astro/general/dt237/mass_papers/XCS-Mass-Paper-I-Analysis/xga_output/0502690101/0502690101_mos2_G226.24x76.76_ra178.812_dec23.387_ri0.0_ro0.1752082510082009_grpTrue_mincnt5_spec.fits cannot be loaded in due to a mismatch in available ancillary files\n",
      "  warnings.warn(\"{src} spectrum {sp} cannot be loaded in due to a mismatch in available\"\n",
      "/its/home/dt237/.conda/envs/xga_env/lib/python3.8/site-packages/xga/sources/base.py:794: UserWarning: G226.24+76.76 spectrum /mnt/lustre/projects/astro/general/dt237/mass_papers/XCS-Mass-Paper-I-Analysis/xga_output/0502690101/0502690101_mos2_G226.24x76.76_ra178.812_dec23.387_ri0.0_ro0.16191659058688912_grpTrue_mincnt5_spec.fits cannot be loaded in due to a mismatch in available ancillary files\n",
      "  warnings.warn(\"{src} spectrum {sp} cannot be loaded in due to a mismatch in available\"\n",
      "/its/home/dt237/.conda/envs/xga_env/lib/python3.8/site-packages/xga/sources/base.py:794: UserWarning: G226.24+76.76 spectrum /mnt/lustre/projects/astro/general/dt237/mass_papers/XCS-Mass-Paper-I-Analysis/xga_output/0112230501/0112230501_mos2_G226.24x76.76_ra178.812_dec23.387_ri0.0_ro0.1752082510082009_grpTrue_mincnt5_spec.fits cannot be loaded in due to a mismatch in available ancillary files\n",
      "  warnings.warn(\"{src} spectrum {sp} cannot be loaded in due to a mismatch in available\"\n",
      "/its/home/dt237/.conda/envs/xga_env/lib/python3.8/site-packages/xga/sources/base.py:794: UserWarning: G226.24+76.76 spectrum /mnt/lustre/projects/astro/general/dt237/mass_papers/XCS-Mass-Paper-I-Analysis/xga_output/0112230501/0112230501_pn_G226.24x76.76_ra178.812_dec23.387_ri0.0_ro0.1752082510082009_grpTrue_mincnt5_spec.fits cannot be loaded in due to a mismatch in available ancillary files\n",
      "  warnings.warn(\"{src} spectrum {sp} cannot be loaded in due to a mismatch in available\"\n",
      "/its/home/dt237/.conda/envs/xga_env/lib/python3.8/site-packages/xga/sources/base.py:794: UserWarning: G226.24+76.76 spectrum /mnt/lustre/projects/astro/general/dt237/mass_papers/XCS-Mass-Paper-I-Analysis/xga_output/0112230501/0112230501_mos1_G226.24x76.76_ra178.812_dec23.387_ri0.0_ro0.16191659058688912_grpTrue_mincnt5_spec.fits cannot be loaded in due to a mismatch in available ancillary files\n",
      "  warnings.warn(\"{src} spectrum {sp} cannot be loaded in due to a mismatch in available\"\n",
      "/its/home/dt237/.conda/envs/xga_env/lib/python3.8/site-packages/xga/sources/base.py:794: UserWarning: G226.24+76.76 spectrum /mnt/lustre/projects/astro/general/dt237/mass_papers/XCS-Mass-Paper-I-Analysis/xga_output/0112230501/0112230501_mos2_G226.24x76.76_ra178.812_dec23.387_ri0.0_ro0.16191659058688912_grpTrue_mincnt5_spec.fits cannot be loaded in due to a mismatch in available ancillary files\n",
      "  warnings.warn(\"{src} spectrum {sp} cannot be loaded in due to a mismatch in available\"\n",
      "/its/home/dt237/.conda/envs/xga_env/lib/python3.8/site-packages/xga/sources/base.py:794: UserWarning: G226.24+76.76 spectrum /mnt/lustre/projects/astro/general/dt237/mass_papers/XCS-Mass-Paper-I-Analysis/xga_output/0112230501/0112230501_pn_G226.24x76.76_ra178.812_dec23.387_ri0.0_ro0.16191659058688912_grpTrue_mincnt5_spec.fits cannot be loaded in due to a mismatch in available ancillary files\n",
      "  warnings.warn(\"{src} spectrum {sp} cannot be loaded in due to a mismatch in available\"\n",
      "/its/home/dt237/.conda/envs/xga_env/lib/python3.8/site-packages/xga/sources/base.py:794: UserWarning: G226.24+76.76 spectrum /mnt/lustre/projects/astro/general/dt237/mass_papers/XCS-Mass-Paper-I-Analysis/xga_output/0112230501/0112230501_mos1_G226.24x76.76_ra178.812_dec23.387_ri0.0_ro0.1752082510082009_grpTrue_mincnt5_spec.fits cannot be loaded in due to a mismatch in available ancillary files\n",
      "  warnings.warn(\"{src} spectrum {sp} cannot be loaded in due to a mismatch in available\"\n",
      "Declaring BaseSource Sample:  62%|██████████████████████████▉                | 75/120 [20:07<09:10, 12.23s/it]/its/home/dt237/.conda/envs/xga_env/lib/python3.8/site-packages/xga/sources/base.py:794: UserWarning: G252.96-56.05 spectrum /mnt/lustre/projects/astro/general/dt237/mass_papers/XCS-Mass-Paper-I-Analysis/xga_output/0603050201/0603050201_mos1_G252.96-56.05_ra49.515_dec-44.263_ri0.0_ro0.2561665126045533_grpTrue_mincnt5_spec.fits cannot be loaded in due to a mismatch in available ancillary files\n",
      "  warnings.warn(\"{src} spectrum {sp} cannot be loaded in due to a mismatch in available\"\n",
      "/its/home/dt237/.conda/envs/xga_env/lib/python3.8/site-packages/xga/sources/base.py:794: UserWarning: G252.96-56.05 spectrum /mnt/lustre/projects/astro/general/dt237/mass_papers/XCS-Mass-Paper-I-Analysis/xga_output/0603050201/0603050201_pn_G252.96-56.05_ra49.515_dec-44.263_ri0.0_ro0.2561665126045533_grpTrue_mincnt5_spec.fits cannot be loaded in due to a mismatch in available ancillary files\n",
      "  warnings.warn(\"{src} spectrum {sp} cannot be loaded in due to a mismatch in available\"\n",
      "/its/home/dt237/.conda/envs/xga_env/lib/python3.8/site-packages/xga/sources/base.py:794: UserWarning: G252.96-56.05 spectrum /mnt/lustre/projects/astro/general/dt237/mass_papers/XCS-Mass-Paper-I-Analysis/xga_output/0603050201/0603050201_mos2_G252.96-56.05_ra49.515_dec-44.263_ri0.0_ro0.2561665126045533_grpTrue_mincnt5_spec.fits cannot be loaded in due to a mismatch in available ancillary files\n",
      "  warnings.warn(\"{src} spectrum {sp} cannot be loaded in due to a mismatch in available\"\n"
     ]
    },
    {
     "name": "stderr",
     "output_type": "stream",
     "text": [
      "/its/home/dt237/.conda/envs/xga_env/lib/python3.8/site-packages/xga/sources/base.py:794: UserWarning: G252.96-56.05 spectrum /mnt/lustre/projects/astro/general/dt237/mass_papers/XCS-Mass-Paper-I-Analysis/xga_output/0603050101/0603050101_mos1_G252.96-56.05_ra49.515_dec-44.263_ri0.0_ro0.2561665126045533_grpTrue_mincnt5_spec.fits cannot be loaded in due to a mismatch in available ancillary files\n",
      "  warnings.warn(\"{src} spectrum {sp} cannot be loaded in due to a mismatch in available\"\n",
      "/its/home/dt237/.conda/envs/xga_env/lib/python3.8/site-packages/xga/sources/base.py:794: UserWarning: G252.96-56.05 spectrum /mnt/lustre/projects/astro/general/dt237/mass_papers/XCS-Mass-Paper-I-Analysis/xga_output/0603050101/0603050101_pn_G252.96-56.05_ra49.515_dec-44.263_ri0.0_ro0.2561665126045533_grpTrue_mincnt5_spec.fits cannot be loaded in due to a mismatch in available ancillary files\n",
      "  warnings.warn(\"{src} spectrum {sp} cannot be loaded in due to a mismatch in available\"\n",
      "/its/home/dt237/.conda/envs/xga_env/lib/python3.8/site-packages/xga/sources/base.py:794: UserWarning: G252.96-56.05 spectrum /mnt/lustre/projects/astro/general/dt237/mass_papers/XCS-Mass-Paper-I-Analysis/xga_output/0603050101/0603050101_mos2_G252.96-56.05_ra49.515_dec-44.263_ri0.0_ro0.2561665126045533_grpTrue_mincnt5_spec.fits cannot be loaded in due to a mismatch in available ancillary files\n",
      "  warnings.warn(\"{src} spectrum {sp} cannot be loaded in due to a mismatch in available\"\n",
      "/its/home/dt237/.conda/envs/xga_env/lib/python3.8/site-packages/xga/sources/base.py:794: UserWarning: G252.96-56.05 spectrum /mnt/lustre/projects/astro/general/dt237/mass_papers/XCS-Mass-Paper-I-Analysis/xga_output/0105660101/0105660101_pn_G252.96-56.05_ra49.515_dec-44.263_ri0.0_ro0.2561665126045533_grpTrue_mincnt5_spec.fits cannot be loaded in due to a mismatch in available ancillary files\n",
      "  warnings.warn(\"{src} spectrum {sp} cannot be loaded in due to a mismatch in available\"\n",
      "/its/home/dt237/.conda/envs/xga_env/lib/python3.8/site-packages/xga/sources/base.py:794: UserWarning: G252.96-56.05 spectrum /mnt/lustre/projects/astro/general/dt237/mass_papers/XCS-Mass-Paper-I-Analysis/xga_output/0105660101/0105660101_mos2_G252.96-56.05_ra49.515_dec-44.263_ri0.0_ro0.2561665126045533_grpTrue_mincnt5_spec.fits cannot be loaded in due to a mismatch in available ancillary files\n",
      "  warnings.warn(\"{src} spectrum {sp} cannot be loaded in due to a mismatch in available\"\n",
      "/its/home/dt237/.conda/envs/xga_env/lib/python3.8/site-packages/xga/sources/base.py:794: UserWarning: G252.96-56.05 spectrum /mnt/lustre/projects/astro/general/dt237/mass_papers/XCS-Mass-Paper-I-Analysis/xga_output/0105660101/0105660101_mos1_G252.96-56.05_ra49.515_dec-44.263_ri0.0_ro0.2561665126045533_grpTrue_mincnt5_spec.fits cannot be loaded in due to a mismatch in available ancillary files\n",
      "  warnings.warn(\"{src} spectrum {sp} cannot be loaded in due to a mismatch in available\"\n",
      "Declaring BaseSource Sample: 100%|██████████████████████████████████████████| 120/120 [30:50<00:00, 15.42s/it]\n",
      "Generating products of type(s) image: 100%|█████████████████████████████████████| 2/2 [00:00<00:00,  2.00it/s]\n",
      "Generating products of type(s) ccf: 100%|█████████████████████████████████████| 12/12 [00:13<00:00,  1.15s/it]\n",
      "Generating products of type(s) expmap: 100%|████████████████████████████████████| 2/2 [00:20<00:00, 10.08s/it]\n",
      "Generating products of type(s) image: 100%|███████████████████████████████████| 12/12 [00:05<00:00,  2.14it/s]\n",
      "Generating products of type(s) expmap: 100%|██████████████████████████████████| 12/12 [00:04<00:00,  2.42it/s]\n",
      "Setting up Galaxy Clusters:   0%|                                                     | 0/120 [00:00<?, ?it/s]/its/home/dt237/.conda/envs/xga_env/lib/python3.8/site-packages/xga/sources/base.py:963: UserWarning: A previous annular spectra profile fit for G000.44-41.83 was not successful, or no matching spectrum has been loaded, so it cannot be read in\n",
      "  warnings.warn(\"A previous annular spectra profile fit for {src} was not successful, or no \"\n",
      "Setting up Galaxy Clusters:   3%|█▌                                           | 4/120 [00:42<22:02, 11.40s/it]/its/home/dt237/.conda/envs/xga_env/lib/python3.8/site-packages/xga/sources/base.py:963: UserWarning: A previous annular spectra profile fit for G006.78+30.46 was not successful, or no matching spectrum has been loaded, so it cannot be read in\n",
      "  warnings.warn(\"A previous annular spectra profile fit for {src} was not successful, or no \"\n",
      "/its/home/dt237/.conda/envs/xga_env/lib/python3.8/site-packages/xga/sources/general.py:124: UserWarning: G006.78+30.46 has not been detected in all region files, so generating and fitting products with the 'region' reg_type will not use all available data\n",
      "  warnings.warn(\"{n} has not been detected in all region files, so generating and fitting products\"\n",
      "/its/home/dt237/.conda/envs/xga_env/lib/python3.8/site-packages/xga/sources/base.py:963: UserWarning: A previous annular spectra profile fit for G006.78+30.46 was not successful, or no matching spectrum has been loaded, so it cannot be read in\n",
      "  warnings.warn(\"A previous annular spectra profile fit for {src} was not successful, or no \"\n",
      "Setting up Galaxy Clusters:  10%|████▍                                       | 12/120 [03:03<24:48, 13.78s/it]/its/home/dt237/.conda/envs/xga_env/lib/python3.8/site-packages/xga/sources/base.py:963: UserWarning: A previous annular spectra profile fit for G046.50-49.43 was not successful, or no matching spectrum has been loaded, so it cannot be read in\n",
      "  warnings.warn(\"A previous annular spectra profile fit for {src} was not successful, or no \"\n",
      "Setting up Galaxy Clusters:  14%|██████▏                                     | 17/120 [04:00<20:53, 12.17s/it]/its/home/dt237/.conda/envs/xga_env/lib/python3.8/site-packages/xga/sources/base.py:963: UserWarning: A previous annular spectra profile fit for G055.60+31.86 was not successful, or no matching spectrum has been loaded, so it cannot be read in\n",
      "  warnings.warn(\"A previous annular spectra profile fit for {src} was not successful, or no \"\n",
      "/its/home/dt237/.conda/envs/xga_env/lib/python3.8/site-packages/xga/sources/general.py:109: UserWarning: There are 1 alternative matches for observation 0093031601, associated with source G055.60+31.86\n",
      "  warnings.warn(\"There are {0} alternative matches for observation {1}, associated with \"\n",
      "/its/home/dt237/.conda/envs/xga_env/lib/python3.8/site-packages/xga/sources/general.py:124: UserWarning: G055.60+31.86 has not been detected in all region files, so generating and fitting products with the 'region' reg_type will not use all available data\n",
      "  warnings.warn(\"{n} has not been detected in all region files, so generating and fitting products\"\n",
      "Setting up Galaxy Clusters:  15%|██████▌                                     | 18/120 [04:15<21:51, 12.86s/it]/its/home/dt237/.conda/envs/xga_env/lib/python3.8/site-packages/xga/sources/base.py:963: UserWarning: A previous annular spectra profile fit for G055.97-34.88 was not successful, or no matching spectrum has been loaded, so it cannot be read in\n",
      "  warnings.warn(\"A previous annular spectra profile fit for {src} was not successful, or no \"\n",
      "Setting up Galaxy Clusters:  16%|██████▉                                     | 19/120 [04:21<18:32, 11.02s/it]/its/home/dt237/.conda/envs/xga_env/lib/python3.8/site-packages/xga/sources/extended.py:221: UserWarning: A point source has been detected in 0740900101 and is very close to the user supplied coordinates of G056.81+36.31. It will not be excluded from analysis due to the possibility of a mis-identified cool core\n",
      "  warnings.warn(\"A point source has been detected in {o} and is very close to the user supplied \"\n",
      "Setting up Galaxy Clusters:  18%|████████                                    | 22/120 [04:48<14:42,  9.01s/it]/its/home/dt237/.conda/envs/xga_env/lib/python3.8/site-packages/xga/sources/extended.py:221: UserWarning: A point source has been detected in 0744413501 and is very close to the user supplied coordinates of G058.28+18.59. It will not be excluded from analysis due to the possibility of a mis-identified cool core\n",
      "  warnings.warn(\"A point source has been detected in {o} and is very close to the user supplied \"\n",
      "/its/home/dt237/.conda/envs/xga_env/lib/python3.8/site-packages/xga/sources/extended.py:221: UserWarning: A point source has been detected in 0744414101 and is very close to the user supplied coordinates of G058.28+18.59. It will not be excluded from analysis due to the possibility of a mis-identified cool core\n",
      "  warnings.warn(\"A point source has been detected in {o} and is very close to the user supplied \"\n"
     ]
    },
    {
     "name": "stderr",
     "output_type": "stream",
     "text": [
      "/its/home/dt237/.conda/envs/xga_env/lib/python3.8/site-packages/xga/sources/general.py:124: UserWarning: G058.28+18.59 has not been detected in all region files, so generating and fitting products with the 'region' reg_type will not use all available data\n",
      "  warnings.warn(\"{n} has not been detected in all region files, so generating and fitting products\"\n",
      "Setting up Galaxy Clusters:  19%|████████▍                                   | 23/120 [05:23<27:22, 16.93s/it]/its/home/dt237/.conda/envs/xga_env/lib/python3.8/site-packages/xga/sources/extended.py:221: UserWarning: A point source has been detected in 0401920101 and is very close to the user supplied coordinates of G062.42-46.41. It will not be excluded from analysis due to the possibility of a mis-identified cool core\n",
      "  warnings.warn(\"A point source has been detected in {o} and is very close to the user supplied \"\n",
      "/its/home/dt237/.conda/envs/xga_env/lib/python3.8/site-packages/xga/sources/general.py:124: UserWarning: G062.42-46.41 has not been detected in all region files, so generating and fitting products with the 'region' reg_type will not use all available data\n",
      "  warnings.warn(\"{n} has not been detected in all region files, so generating and fitting products\"\n",
      "Setting up Galaxy Clusters:  22%|█████████▌                                  | 26/120 [05:59<20:37, 13.16s/it]/its/home/dt237/.conda/envs/xga_env/lib/python3.8/site-packages/xga/sources/base.py:963: UserWarning: A previous annular spectra profile fit for G072.63+41.46 was not successful, or no matching spectrum has been loaded, so it cannot be read in\n",
      "  warnings.warn(\"A previous annular spectra profile fit for {src} was not successful, or no \"\n",
      "/its/home/dt237/.conda/envs/xga_env/lib/python3.8/site-packages/xga/sources/general.py:124: UserWarning: G072.63+41.46 has not been detected in all region files, so generating and fitting products with the 'region' reg_type will not use all available data\n",
      "  warnings.warn(\"{n} has not been detected in all region files, so generating and fitting products\"\n",
      "/its/home/dt237/.conda/envs/xga_env/lib/python3.8/site-packages/xga/sources/base.py:963: UserWarning: A previous annular spectra profile fit for G072.63+41.46 was not successful, or no matching spectrum has been loaded, so it cannot be read in\n",
      "  warnings.warn(\"A previous annular spectra profile fit for {src} was not successful, or no \"\n",
      "Setting up Galaxy Clusters:  24%|██████████▋                                 | 29/120 [06:26<15:16, 10.07s/it]/its/home/dt237/.conda/envs/xga_env/lib/python3.8/site-packages/xga/sources/base.py:963: UserWarning: A previous annular spectra profile fit for G080.38-33.20 was not successful, or no matching spectrum has been loaded, so it cannot be read in\n",
      "  warnings.warn(\"A previous annular spectra profile fit for {src} was not successful, or no \"\n",
      "/its/home/dt237/.conda/envs/xga_env/lib/python3.8/site-packages/xga/sources/general.py:124: UserWarning: G080.38-33.20 has not been detected in all region files, so generating and fitting products with the 'region' reg_type will not use all available data\n",
      "  warnings.warn(\"{n} has not been detected in all region files, so generating and fitting products\"\n",
      "/its/home/dt237/.conda/envs/xga_env/lib/python3.8/site-packages/xga/sources/base.py:963: UserWarning: A previous annular spectra profile fit for G080.38-33.20 was not successful, or no matching spectrum has been loaded, so it cannot be read in\n",
      "  warnings.warn(\"A previous annular spectra profile fit for {src} was not successful, or no \"\n",
      "Setting up Galaxy Clusters:  29%|████████████▊                               | 35/120 [07:21<12:07,  8.56s/it]/its/home/dt237/.conda/envs/xga_env/lib/python3.8/site-packages/xga/sources/base.py:963: UserWarning: A previous annular spectra profile fit for G093.91+34.90 was not successful, or no matching spectrum has been loaded, so it cannot be read in\n",
      "  warnings.warn(\"A previous annular spectra profile fit for {src} was not successful, or no \"\n",
      "/its/home/dt237/.conda/envs/xga_env/lib/python3.8/site-packages/xga/sources/general.py:124: UserWarning: G093.91+34.90 has not been detected in all region files, so generating and fitting products with the 'region' reg_type will not use all available data\n",
      "  warnings.warn(\"{n} has not been detected in all region files, so generating and fitting products\"\n",
      "/its/home/dt237/.conda/envs/xga_env/lib/python3.8/site-packages/xga/sources/base.py:963: UserWarning: A previous annular spectra profile fit for G093.91+34.90 was not successful, or no matching spectrum has been loaded, so it cannot be read in\n",
      "  warnings.warn(\"A previous annular spectra profile fit for {src} was not successful, or no \"\n",
      "Setting up Galaxy Clusters:  30%|█████████████▏                              | 36/120 [07:39<16:03, 11.47s/it]/its/home/dt237/.conda/envs/xga_env/lib/python3.8/site-packages/xga/sources/base.py:963: UserWarning: A previous annular spectra profile fit for G096.87+24.21 was not successful, or no matching spectrum has been loaded, so it cannot be read in\n",
      "  warnings.warn(\"A previous annular spectra profile fit for {src} was not successful, or no \"\n",
      "/its/home/dt237/.conda/envs/xga_env/lib/python3.8/site-packages/xga/sources/extended.py:221: UserWarning: A point source has been detected in 0723160401 and is very close to the user supplied coordinates of G096.87+24.21. It will not be excluded from analysis due to the possibility of a mis-identified cool core\n",
      "  warnings.warn(\"A point source has been detected in {o} and is very close to the user supplied \"\n",
      "Setting up Galaxy Clusters:  32%|█████████████▉                              | 38/120 [07:59<15:13, 11.14s/it]/its/home/dt237/.conda/envs/xga_env/lib/python3.8/site-packages/xga/sources/base.py:963: UserWarning: A previous annular spectra profile fit for G098.95+24.86 was not successful, or no matching spectrum has been loaded, so it cannot be read in\n",
      "  warnings.warn(\"A previous annular spectra profile fit for {src} was not successful, or no \"\n",
      "Setting up Galaxy Clusters:  32%|██████████████▎                             | 39/120 [08:06<13:34, 10.06s/it]/its/home/dt237/.conda/envs/xga_env/lib/python3.8/site-packages/xga/sources/general.py:124: UserWarning: G106.73-83.22 has not been detected in all region files, so generating and fitting products with the 'region' reg_type will not use all available data\n",
      "  warnings.warn(\"{n} has not been detected in all region files, so generating and fitting products\"\n",
      "Setting up Galaxy Clusters:  33%|██████████████▋                             | 40/120 [08:16<13:04,  9.80s/it]/its/home/dt237/.conda/envs/xga_env/lib/python3.8/site-packages/xga/sources/base.py:963: UserWarning: A previous annular spectra profile fit for G107.11+65.31 was not successful, or no matching spectrum has been loaded, so it cannot be read in\n",
      "  warnings.warn(\"A previous annular spectra profile fit for {src} was not successful, or no \"\n",
      "/its/home/dt237/.conda/envs/xga_env/lib/python3.8/site-packages/xga/sources/general.py:124: UserWarning: G107.11+65.31 has not been detected in all region files, so generating and fitting products with the 'region' reg_type will not use all available data\n",
      "  warnings.warn(\"{n} has not been detected in all region files, so generating and fitting products\"\n",
      "/its/home/dt237/.conda/envs/xga_env/lib/python3.8/site-packages/xga/sources/base.py:963: UserWarning: A previous annular spectra profile fit for G107.11+65.31 was not successful, or no matching spectrum has been loaded, so it cannot be read in\n",
      "  warnings.warn(\"A previous annular spectra profile fit for {src} was not successful, or no \"\n",
      "Setting up Galaxy Clusters:  38%|████████████████▌                           | 45/120 [08:50<08:18,  6.65s/it]/its/home/dt237/.conda/envs/xga_env/lib/python3.8/site-packages/xga/sources/base.py:963: UserWarning: A previous annular spectra profile fit for G149.73+34.69 was not successful, or no matching spectrum has been loaded, so it cannot be read in\n",
      "  warnings.warn(\"A previous annular spectra profile fit for {src} was not successful, or no \"\n",
      "Setting up Galaxy Clusters:  39%|█████████████████▏                          | 47/120 [09:02<07:36,  6.25s/it]/its/home/dt237/.conda/envs/xga_env/lib/python3.8/site-packages/xga/sources/base.py:2437: UserWarning: Existing fit for G159.85-73.47 could not be loaded due to a mismatch in available data\n",
      "  self._existing_xga_products(self._load_fits)\n"
     ]
    },
    {
     "name": "stderr",
     "output_type": "stream",
     "text": [
      "Setting up Galaxy Clusters:  40%|█████████████████▌                          | 48/120 [09:20<11:45,  9.79s/it]/its/home/dt237/.conda/envs/xga_env/lib/python3.8/site-packages/xga/sources/base.py:940: UserWarning: G164.18-38.89 fit G164.18-38.89_ra44.740717630253435_dec13.587693396258224_ri0.19574984170276016_ro0.20179150348370956_grpTrue_mincnt5_ident20760763_32_constant*tbabs*apec.fits could not be loaded in as there are no matching spectra available\n",
      "  warnings.warn(\"{src} fit {f} could not be loaded in as there are no matching spectra \"\n",
      "/its/home/dt237/.conda/envs/xga_env/lib/python3.8/site-packages/xga/sources/base.py:940: UserWarning: G164.18-38.89 fit G164.18-38.89_ra44.740717630253435_dec13.587693396258224_ri0.08579159728948131_ro0.0918332590704307_grpTrue_mincnt5_ident20760763_14_constant*tbabs*apec.fits could not be loaded in as there are no matching spectra available\n",
      "  warnings.warn(\"{src} fit {f} could not be loaded in as there are no matching spectra \"\n",
      "/its/home/dt237/.conda/envs/xga_env/lib/python3.8/site-packages/xga/sources/base.py:940: UserWarning: G164.18-38.89 fit G164.18-38.89_ra44.726_dec13.56_ri0.10995829512676829_ro0.11599995969417315_grpTrue_mincnt5_ident83707019_18_constant*tbabs*apec.fits could not be loaded in as there are no matching spectra available\n",
      "  warnings.warn(\"{src} fit {f} could not be loaded in as there are no matching spectra \"\n",
      "/its/home/dt237/.conda/envs/xga_env/lib/python3.8/site-packages/xga/sources/base.py:940: UserWarning: G164.18-38.89 fit G164.18-38.89_ra44.726_dec13.56_ri0.030208322837024255_ro0.036249987404429106_grpTrue_mincnt5_ident83707019_5_constant*tbabs*apec.fits could not be loaded in as there are no matching spectra available\n",
      "  warnings.warn(\"{src} fit {f} could not be loaded in as there are no matching spectra \"\n",
      "/its/home/dt237/.conda/envs/xga_env/lib/python3.8/site-packages/xga/sources/base.py:940: UserWarning: G164.18-38.89 fit G164.18-38.89_ra44.726_dec13.56_ri0.018124993702214553_ro0.024166658269619407_grpTrue_mincnt5_ident40542796_3_constant*tbabs*apec.fits could not be loaded in as there are no matching spectra available\n",
      "  warnings.warn(\"{src} fit {f} could not be loaded in as there are no matching spectra \"\n",
      "/its/home/dt237/.conda/envs/xga_env/lib/python3.8/site-packages/xga/sources/base.py:940: UserWarning: G164.18-38.89 fit G164.18-38.89_ra44.726_dec13.56_ri0.006041664567404852_ro0.012083329134809704_grpTrue_mincnt5_ident40542796_1_constant*tbabs*apec.fits could not be loaded in as there are no matching spectra available\n",
      "  warnings.warn(\"{src} fit {f} could not be loaded in as there are no matching spectra \"\n",
      "/its/home/dt237/.conda/envs/xga_env/lib/python3.8/site-packages/xga/sources/base.py:940: UserWarning: G164.18-38.89 fit G164.18-38.89_ra44.726_dec13.56_ri0.17158327371429777_ro0.18366660284910746_grpTrue_mincnt5_ident83707019_28_constant*tbabs*apec.fits could not be loaded in as there are no matching spectra available\n",
      "  warnings.warn(\"{src} fit {f} could not be loaded in as there are no matching spectra \"\n",
      "/its/home/dt237/.conda/envs/xga_env/lib/python3.8/site-packages/xga/sources/base.py:940: UserWarning: G164.18-38.89 fit G164.18-38.89_ra44.726_dec13.56_ri0.19574993198391719_ro0.20783326111872688_grpTrue_mincnt5_ident83707019_30_constant*tbabs*apec.fits could not be loaded in as there are no matching spectra available\n",
      "  warnings.warn(\"{src} fit {f} could not be loaded in as there are no matching spectra \"\n",
      "/its/home/dt237/.conda/envs/xga_env/lib/python3.8/site-packages/xga/sources/base.py:940: UserWarning: G164.18-38.89 fit G164.18-38.89_ra44.726_dec13.56_ri0.08579163685714888_ro0.09183330142455373_grpTrue_mincnt5_ident40542796_14_constant*tbabs*apec.fits could not be loaded in as there are no matching spectra available\n",
      "  warnings.warn(\"{src} fit {f} could not be loaded in as there are no matching spectra \"\n",
      "/its/home/dt237/.conda/envs/xga_env/lib/python3.8/site-packages/xga/sources/base.py:940: UserWarning: G164.18-38.89 fit G164.18-38.89_ra44.726_dec13.56_ri0.1341249533963877_ro0.14016661796379254_grpTrue_mincnt5_ident83707019_22_constant*tbabs*apec.fits could not be loaded in as there are no matching spectra available\n",
      "  warnings.warn(\"{src} fit {f} could not be loaded in as there are no matching spectra \"\n",
      "/its/home/dt237/.conda/envs/xga_env/lib/python3.8/site-packages/xga/sources/base.py:940: UserWarning: G164.18-38.89 fit G164.18-38.89_ra44.726_dec13.56_ri0.030208322837024255_ro0.036249987404429106_grpTrue_mincnt5_ident40542796_5_constant*tbabs*apec.fits could not be loaded in as there are no matching spectra available\n",
      "  warnings.warn(\"{src} fit {f} could not be loaded in as there are no matching spectra \"\n",
      "/its/home/dt237/.conda/envs/xga_env/lib/python3.8/site-packages/xga/sources/base.py:940: UserWarning: G164.18-38.89 fit G164.18-38.89_ra44.726_dec13.56_ri0.048333316539238814_ro0.05437498110664366_grpTrue_mincnt5_ident83707019_8_constant*tbabs*apec.fits could not be loaded in as there are no matching spectra available\n",
      "  warnings.warn(\"{src} fit {f} could not be loaded in as there are no matching spectra \"\n",
      "/its/home/dt237/.conda/envs/xga_env/lib/python3.8/site-packages/xga/sources/base.py:940: UserWarning: G164.18-38.89 fit G164.18-38.89_ra44.740717630253435_dec13.587693396258224_ri0.018124985342848163_ro0.02416664712379755_grpTrue_mincnt5_ident20760763_3_constant*tbabs*apec.fits could not be loaded in as there are no matching spectra available\n",
      "  warnings.warn(\"{src} fit {f} could not be loaded in as there are no matching spectra \"\n",
      "/its/home/dt237/.conda/envs/xga_env/lib/python3.8/site-packages/xga/sources/base.py:940: UserWarning: G164.18-38.89 fit G164.18-38.89_ra44.740717630253435_dec13.587693396258224_ri0.012083323561898776_ro0.018124985342848163_grpTrue_mincnt5_ident20760763_2_constant*tbabs*apec.fits could not be loaded in as there are no matching spectra available\n",
      "  warnings.warn(\"{src} fit {f} could not be loaded in as there are no matching spectra \"\n",
      "/its/home/dt237/.conda/envs/xga_env/lib/python3.8/site-packages/xga/sources/base.py:940: UserWarning: G164.18-38.89 fit G164.18-38.89_ra44.726_dec13.56_ri0.15345828001208323_ro0.15949994457948807_grpTrue_mincnt5_ident83707019_25_constant*tbabs*apec.fits could not be loaded in as there are no matching spectra available\n",
      "  warnings.warn(\"{src} fit {f} could not be loaded in as there are no matching spectra \"\n",
      "/its/home/dt237/.conda/envs/xga_env/lib/python3.8/site-packages/xga/sources/base.py:940: UserWarning: G164.18-38.89 fit G164.18-38.89_ra44.726_dec13.56_ri0.15949994457948807_ro0.16554160914689292_grpTrue_mincnt5_ident83707019_26_constant*tbabs*apec.fits could not be loaded in as there are no matching spectra available\n",
      "  warnings.warn(\"{src} fit {f} could not be loaded in as there are no matching spectra \"\n",
      "/its/home/dt237/.conda/envs/xga_env/lib/python3.8/site-packages/xga/sources/base.py:940: UserWarning: G164.18-38.89 fit G164.18-38.89_ra44.726_dec13.56_ri0.024166658269619407_ro0.030208322837024255_grpTrue_mincnt5_ident83707019_4_constant*tbabs*apec.fits could not be loaded in as there are no matching spectra available\n",
      "  warnings.warn(\"{src} fit {f} could not be loaded in as there are no matching spectra \"\n",
      "/its/home/dt237/.conda/envs/xga_env/lib/python3.8/site-packages/xga/sources/base.py:940: UserWarning: G164.18-38.89 fit G164.18-38.89_ra44.726_dec13.56_ri0.0_ro0.006041664567404852_grpTrue_mincnt5_ident83707019_0_constant*tbabs*apec.fits could not be loaded in as there are no matching spectra available\n",
      "  warnings.warn(\"{src} fit {f} could not be loaded in as there are no matching spectra \"\n",
      "/its/home/dt237/.conda/envs/xga_env/lib/python3.8/site-packages/xga/sources/base.py:940: UserWarning: G164.18-38.89 fit G164.18-38.89_ra44.726_dec13.56_ri0.06041664567404851_ro0.06645831024145336_grpTrue_mincnt5_ident83707019_10_constant*tbabs*apec.fits could not be loaded in as there are no matching spectra available\n",
      "  warnings.warn(\"{src} fit {f} could not be loaded in as there are no matching spectra \"\n",
      "/its/home/dt237/.conda/envs/xga_env/lib/python3.8/site-packages/xga/sources/base.py:940: UserWarning: G164.18-38.89 fit G164.18-38.89_ra44.726_dec13.56_ri0.09183330142455373_ro0.09787496599195859_grpTrue_mincnt5_ident40542796_15_constant*tbabs*apec.fits could not be loaded in as there are no matching spectra available\n",
      "  warnings.warn(\"{src} fit {f} could not be loaded in as there are no matching spectra \"\n",
      "/its/home/dt237/.conda/envs/xga_env/lib/python3.8/site-packages/xga/sources/base.py:940: UserWarning: G164.18-38.89 fit G164.18-38.89_ra44.740717630253435_dec13.587693396258224_ri0.06645827959044327_ro0.07249994137139265_grpTrue_mincnt5_ident20760763_11_constant*tbabs*apec.fits could not be loaded in as there are no matching spectra available\n",
      "  warnings.warn(\"{src} fit {f} could not be loaded in as there are no matching spectra \"\n",
      "/its/home/dt237/.conda/envs/xga_env/lib/python3.8/site-packages/xga/sources/base.py:940: UserWarning: G164.18-38.89 fit G164.18-38.89_ra44.726_dec13.56_ri0.20783326111872688_ro0.22112492316701754_grpTrue_mincnt5_ident83707019_31_constant*tbabs*apec.fits could not be loaded in as there are no matching spectra available\n",
      "  warnings.warn(\"{src} fit {f} could not be loaded in as there are no matching spectra \"\n",
      "/its/home/dt237/.conda/envs/xga_env/lib/python3.8/site-packages/xga/sources/base.py:940: UserWarning: G164.18-38.89 fit G164.18-38.89_ra44.726_dec13.56_ri0.024166658269619407_ro0.030208322837024255_grpTrue_mincnt5_ident40542796_4_constant*tbabs*apec.fits could not be loaded in as there are no matching spectra available\n",
      "  warnings.warn(\"{src} fit {f} could not be loaded in as there are no matching spectra \"\n",
      "/its/home/dt237/.conda/envs/xga_env/lib/python3.8/site-packages/xga/sources/base.py:940: UserWarning: G164.18-38.89 fit G164.18-38.89_ra44.726_dec13.56_ri0.06041664567404851_ro0.06645831024145336_grpTrue_mincnt5_ident40542796_10_constant*tbabs*apec.fits could not be loaded in as there are no matching spectra available\n",
      "  warnings.warn(\"{src} fit {f} could not be loaded in as there are no matching spectra \"\n"
     ]
    },
    {
     "name": "stderr",
     "output_type": "stream",
     "text": [
      "/its/home/dt237/.conda/envs/xga_env/lib/python3.8/site-packages/xga/sources/base.py:940: UserWarning: G164.18-38.89 fit G164.18-38.89_ra44.726_dec13.56_ri0.19574993198391719_ro0.20783326111872688_grpTrue_mincnt5_ident40542796_29_constant*tbabs*apec.fits could not be loaded in as there are no matching spectra available\n",
      "  warnings.warn(\"{src} fit {f} could not be loaded in as there are no matching spectra \"\n",
      "/its/home/dt237/.conda/envs/xga_env/lib/python3.8/site-packages/xga/sources/base.py:940: UserWarning: G164.18-38.89 fit G164.18-38.89_ra44.740717630253435_dec13.587693396258224_ri0.1401665533180258_ro0.1462082150989752_grpTrue_mincnt5_ident20760763_23_constant*tbabs*apec.fits could not be loaded in as there are no matching spectra available\n",
      "  warnings.warn(\"{src} fit {f} could not be loaded in as there are no matching spectra \"\n",
      "/its/home/dt237/.conda/envs/xga_env/lib/python3.8/site-packages/xga/sources/base.py:940: UserWarning: G164.18-38.89 fit G164.18-38.89_ra44.726_dec13.56_ri0.0_ro0.006041664567404852_grpTrue_mincnt5_ident40542796_0_constant*tbabs*apec.fits could not be loaded in as there are no matching spectra available\n",
      "  warnings.warn(\"{src} fit {f} could not be loaded in as there are no matching spectra \"\n",
      "/its/home/dt237/.conda/envs/xga_env/lib/python3.8/site-packages/xga/sources/base.py:940: UserWarning: G164.18-38.89 fit G164.18-38.89_ra44.740717630253435_dec13.587693396258224_ri0.1594998710170638_ro0.16554153279801323_grpTrue_mincnt5_ident20760763_26_constant*tbabs*apec.fits could not be loaded in as there are no matching spectra available\n",
      "  warnings.warn(\"{src} fit {f} could not be loaded in as there are no matching spectra \"\n",
      "/its/home/dt237/.conda/envs/xga_env/lib/python3.8/site-packages/xga/sources/base.py:940: UserWarning: G164.18-38.89 fit G164.18-38.89_ra44.726_dec13.56_ri0.122041624261578_ro0.12808328882898284_grpTrue_mincnt5_ident83707019_20_constant*tbabs*apec.fits could not be loaded in as there are no matching spectra available\n",
      "  warnings.warn(\"{src} fit {f} could not be loaded in as there are no matching spectra \"\n",
      "/its/home/dt237/.conda/envs/xga_env/lib/python3.8/site-packages/xga/sources/base.py:940: UserWarning: G164.18-38.89 fit G164.18-38.89_ra44.740717630253435_dec13.587693396258224_ri0.04229163246664572_ro0.0483332942475951_grpTrue_mincnt5_ident20760763_7_constant*tbabs*apec.fits could not be loaded in as there are no matching spectra available\n",
      "  warnings.warn(\"{src} fit {f} could not be loaded in as there are no matching spectra \"\n",
      "/its/home/dt237/.conda/envs/xga_env/lib/python3.8/site-packages/xga/sources/base.py:940: UserWarning: G164.18-38.89 fit G164.18-38.89_ra44.740717630253435_dec13.587693396258224_ri0.20783316526465895_ro0.21991648882655773_grpTrue_mincnt5_ident20760763_34_constant*tbabs*apec.fits could not be loaded in as there are no matching spectra available\n",
      "  warnings.warn(\"{src} fit {f} could not be loaded in as there are no matching spectra \"\n",
      "/its/home/dt237/.conda/envs/xga_env/lib/python3.8/site-packages/xga/sources/base.py:940: UserWarning: G164.18-38.89 fit G164.18-38.89_ra44.740717630253435_dec13.587693396258224_ri0.06041661780949389_ro0.06645827959044327_grpTrue_mincnt5_ident20760763_10_constant*tbabs*apec.fits could not be loaded in as there are no matching spectra available\n",
      "  warnings.warn(\"{src} fit {f} could not be loaded in as there are no matching spectra \"\n",
      "/its/home/dt237/.conda/envs/xga_env/lib/python3.8/site-packages/xga/sources/base.py:940: UserWarning: G164.18-38.89 fit G164.18-38.89_ra44.740717630253435_dec13.587693396258224_ri0.006041661780949388_ro0.012083323561898776_grpTrue_mincnt5_ident20760763_1_constant*tbabs*apec.fits could not be loaded in as there are no matching spectra available\n",
      "  warnings.warn(\"{src} fit {f} could not be loaded in as there are no matching spectra \"\n",
      "/its/home/dt237/.conda/envs/xga_env/lib/python3.8/site-packages/xga/sources/base.py:940: UserWarning: G164.18-38.89 fit G164.18-38.89_ra44.726_dec13.56_ri0.012083329134809704_ro0.018124993702214553_grpTrue_mincnt5_ident83707019_2_constant*tbabs*apec.fits could not be loaded in as there are no matching spectra available\n",
      "  warnings.warn(\"{src} fit {f} could not be loaded in as there are no matching spectra \"\n",
      "/its/home/dt237/.conda/envs/xga_env/lib/python3.8/site-packages/xga/sources/base.py:940: UserWarning: G164.18-38.89 fit G164.18-38.89_ra44.740717630253435_dec13.587693396258224_ri0.1341248915370764_ro0.1401665533180258_grpTrue_mincnt5_ident20760763_22_constant*tbabs*apec.fits could not be loaded in as there are no matching spectra available\n",
      "  warnings.warn(\"{src} fit {f} could not be loaded in as there are no matching spectra \"\n",
      "/its/home/dt237/.conda/envs/xga_env/lib/python3.8/site-packages/xga/sources/base.py:940: UserWarning: G164.18-38.89 fit G164.18-38.89_ra44.726_dec13.56_ri0.06645831024145336_ro0.07370830772233919_grpTrue_mincnt5_ident83707019_11_constant*tbabs*apec.fits could not be loaded in as there are no matching spectra available\n",
      "  warnings.warn(\"{src} fit {f} could not be loaded in as there are no matching spectra \"\n",
      "/its/home/dt237/.conda/envs/xga_env/lib/python3.8/site-packages/xga/sources/base.py:940: UserWarning: G164.18-38.89 fit G164.18-38.89_ra44.726_dec13.56_ri0.012083329134809704_ro0.018124993702214553_grpTrue_mincnt5_ident40542796_2_constant*tbabs*apec.fits could not be loaded in as there are no matching spectra available\n",
      "  warnings.warn(\"{src} fit {f} could not be loaded in as there are no matching spectra \"\n",
      "/its/home/dt237/.conda/envs/xga_env/lib/python3.8/site-packages/xga/sources/base.py:940: UserWarning: G164.18-38.89 fit G164.18-38.89_ra44.726_dec13.56_ri0.15224994709860226_ro0.15949994457948807_grpTrue_mincnt5_ident40542796_25_constant*tbabs*apec.fits could not be loaded in as there are no matching spectra available\n",
      "  warnings.warn(\"{src} fit {f} could not be loaded in as there are no matching spectra \"\n",
      "/its/home/dt237/.conda/envs/xga_env/lib/python3.8/site-packages/xga/sources/base.py:940: UserWarning: G164.18-38.89 fit G164.18-38.89_ra44.726_dec13.56_ri0.122041624261578_ro0.12808328882898284_grpTrue_mincnt5_ident40542796_20_constant*tbabs*apec.fits could not be loaded in as there are no matching spectra available\n",
      "  warnings.warn(\"{src} fit {f} could not be loaded in as there are no matching spectra \"\n",
      "/its/home/dt237/.conda/envs/xga_env/lib/python3.8/site-packages/xga/sources/base.py:940: UserWarning: G164.18-38.89 fit G164.18-38.89_ra44.726_dec13.56_ri0.14016661796379254_ro0.1462082825311974_grpTrue_mincnt5_ident40542796_23_constant*tbabs*apec.fits could not be loaded in as there are no matching spectra available\n",
      "  warnings.warn(\"{src} fit {f} could not be loaded in as there are no matching spectra \"\n",
      "/its/home/dt237/.conda/envs/xga_env/lib/python3.8/site-packages/xga/sources/base.py:940: UserWarning: G164.18-38.89 fit G164.18-38.89_ra44.740717630253435_dec13.587693396258224_ri0.1462082150989752_ro0.15224987687992458_grpTrue_mincnt5_ident20760763_24_constant*tbabs*apec.fits could not be loaded in as there are no matching spectra available\n",
      "  warnings.warn(\"{src} fit {f} could not be loaded in as there are no matching spectra \"\n",
      "/its/home/dt237/.conda/envs/xga_env/lib/python3.8/site-packages/xga/sources/base.py:940: UserWarning: G164.18-38.89 fit G164.18-38.89_ra44.740717630253435_dec13.587693396258224_ri0.12808322975612701_ro0.1341248915370764_grpTrue_mincnt5_ident20760763_21_constant*tbabs*apec.fits could not be loaded in as there are no matching spectra available\n",
      "  warnings.warn(\"{src} fit {f} could not be loaded in as there are no matching spectra \"\n",
      "/its/home/dt237/.conda/envs/xga_env/lib/python3.8/site-packages/xga/sources/base.py:940: UserWarning: G164.18-38.89 fit G164.18-38.89_ra44.740717630253435_dec13.587693396258224_ri0.12204156797517764_ro0.12808322975612701_grpTrue_mincnt5_ident20760763_20_constant*tbabs*apec.fits could not be loaded in as there are no matching spectra available\n",
      "  warnings.warn(\"{src} fit {f} could not be loaded in as there are no matching spectra \"\n",
      "/its/home/dt237/.conda/envs/xga_env/lib/python3.8/site-packages/xga/sources/base.py:940: UserWarning: G164.18-38.89 fit G164.18-38.89_ra44.740717630253435_dec13.587693396258224_ri0.09787492085138008_ro0.10391658263232947_grpTrue_mincnt5_ident20760763_16_constant*tbabs*apec.fits could not be loaded in as there are no matching spectra available\n",
      "  warnings.warn(\"{src} fit {f} could not be loaded in as there are no matching spectra \"\n",
      "/its/home/dt237/.conda/envs/xga_env/lib/python3.8/site-packages/xga/sources/base.py:940: UserWarning: G164.18-38.89 fit G164.18-38.89_ra44.726_dec13.56_ri0.09183330142455373_ro0.09787496599195859_grpTrue_mincnt5_ident83707019_15_constant*tbabs*apec.fits could not be loaded in as there are no matching spectra available\n",
      "  warnings.warn(\"{src} fit {f} could not be loaded in as there are no matching spectra \"\n",
      "/its/home/dt237/.conda/envs/xga_env/lib/python3.8/site-packages/xga/sources/base.py:940: UserWarning: G164.18-38.89 fit G164.18-38.89_ra44.740717630253435_dec13.587693396258224_ri0.1836665181408614_ro0.1897081799218108_grpTrue_mincnt5_ident20760763_30_constant*tbabs*apec.fits could not be loaded in as there are no matching spectra available\n",
      "  warnings.warn(\"{src} fit {f} could not be loaded in as there are no matching spectra \"\n",
      "/its/home/dt237/.conda/envs/xga_env/lib/python3.8/site-packages/xga/sources/base.py:940: UserWarning: G164.18-38.89 fit G164.18-38.89_ra44.740717630253435_dec13.587693396258224_ri0.0483332942475951_ro0.054374956028544495_grpTrue_mincnt5_ident20760763_8_constant*tbabs*apec.fits could not be loaded in as there are no matching spectra available\n",
      "  warnings.warn(\"{src} fit {f} could not be loaded in as there are no matching spectra \"\n",
      "/its/home/dt237/.conda/envs/xga_env/lib/python3.8/site-packages/xga/sources/base.py:940: UserWarning: G164.18-38.89 fit G164.18-38.89_ra44.740717630253435_dec13.587693396258224_ri0.10995824441327887_ro0.11599990619422826_grpTrue_mincnt5_ident20760763_18_constant*tbabs*apec.fits could not be loaded in as there are no matching spectra available\n",
      "  warnings.warn(\"{src} fit {f} could not be loaded in as there are no matching spectra \"\n",
      "/its/home/dt237/.conda/envs/xga_env/lib/python3.8/site-packages/xga/sources/base.py:940: UserWarning: G164.18-38.89 fit G164.18-38.89_ra44.726_dec13.56_ri0.11599995969417315_ro0.122041624261578_grpTrue_mincnt5_ident83707019_19_constant*tbabs*apec.fits could not be loaded in as there are no matching spectra available\n",
      "  warnings.warn(\"{src} fit {f} could not be loaded in as there are no matching spectra \"\n",
      "/its/home/dt237/.conda/envs/xga_env/lib/python3.8/site-packages/xga/sources/base.py:940: UserWarning: G164.18-38.89 fit G164.18-38.89_ra44.726_dec13.56_ri0.05437498110664366_ro0.06041664567404851_grpTrue_mincnt5_ident83707019_9_constant*tbabs*apec.fits could not be loaded in as there are no matching spectra available\n",
      "  warnings.warn(\"{src} fit {f} could not be loaded in as there are no matching spectra \"\n",
      "/its/home/dt237/.conda/envs/xga_env/lib/python3.8/site-packages/xga/sources/base.py:940: UserWarning: G164.18-38.89 fit G164.18-38.89_ra44.740717630253435_dec13.587693396258224_ri0.030208308904746944_ro0.036249970685696326_grpTrue_mincnt5_ident20760763_5_constant*tbabs*apec.fits could not be loaded in as there are no matching spectra available\n",
      "  warnings.warn(\"{src} fit {f} could not be loaded in as there are no matching spectra \"\n",
      "/its/home/dt237/.conda/envs/xga_env/lib/python3.8/site-packages/xga/sources/base.py:940: UserWarning: G164.18-38.89 fit G164.18-38.89_ra44.726_dec13.56_ri0.08579163685714888_ro0.09183330142455373_grpTrue_mincnt5_ident83707019_14_constant*tbabs*apec.fits could not be loaded in as there are no matching spectra available\n",
      "  warnings.warn(\"{src} fit {f} could not be loaded in as there are no matching spectra \"\n"
     ]
    },
    {
     "name": "stderr",
     "output_type": "stream",
     "text": [
      "/its/home/dt237/.conda/envs/xga_env/lib/python3.8/site-packages/xga/sources/base.py:940: UserWarning: G164.18-38.89 fit G164.18-38.89_ra44.726_dec13.56_ri0.12808328882898284_ro0.1341249533963877_grpTrue_mincnt5_ident40542796_21_constant*tbabs*apec.fits could not be loaded in as there are no matching spectra available\n",
      "  warnings.warn(\"{src} fit {f} could not be loaded in as there are no matching spectra \"\n",
      "/its/home/dt237/.conda/envs/xga_env/lib/python3.8/site-packages/xga/sources/base.py:940: UserWarning: G164.18-38.89 fit G164.18-38.89_ra44.726_dec13.56_ri0.03315075373638254_ro0.22100502490921697_grpTrue_mincnt5_constant*tbabs*apec.fits could not be loaded in as there are no matching spectra available\n",
      "  warnings.warn(\"{src} fit {f} could not be loaded in as there are no matching spectra \"\n",
      "/its/home/dt237/.conda/envs/xga_env/lib/python3.8/site-packages/xga/sources/base.py:940: UserWarning: G164.18-38.89 fit G164.18-38.89_ra44.740717630253435_dec13.587693396258224_ri0.10391658263232947_ro0.10995824441327887_grpTrue_mincnt5_ident20760763_17_constant*tbabs*apec.fits could not be loaded in as there are no matching spectra available\n",
      "  warnings.warn(\"{src} fit {f} could not be loaded in as there are no matching spectra \"\n",
      "/its/home/dt237/.conda/envs/xga_env/lib/python3.8/site-packages/xga/sources/base.py:940: UserWarning: G164.18-38.89 fit G164.18-38.89_ra44.726_dec13.56_ri0.04229165197183396_ro0.048333316539238814_grpTrue_mincnt5_ident40542796_7_constant*tbabs*apec.fits could not be loaded in as there are no matching spectra available\n",
      "  warnings.warn(\"{src} fit {f} could not be loaded in as there are no matching spectra \"\n",
      "/its/home/dt237/.conda/envs/xga_env/lib/python3.8/site-packages/xga/sources/base.py:940: UserWarning: G164.18-38.89 fit G164.18-38.89_ra44.726_dec13.56_ri0.1341249533963877_ro0.14016661796379254_grpTrue_mincnt5_ident40542796_22_constant*tbabs*apec.fits could not be loaded in as there are no matching spectra available\n",
      "  warnings.warn(\"{src} fit {f} could not be loaded in as there are no matching spectra \"\n",
      "/its/home/dt237/.conda/envs/xga_env/lib/python3.8/site-packages/xga/sources/base.py:940: UserWarning: G164.18-38.89 fit G164.18-38.89_ra44.726_dec13.56_ri0.0_ro0.22100502490921697_grpTrue_mincnt5_constant*tbabs*apec.fits could not be loaded in as there are no matching spectra available\n",
      "  warnings.warn(\"{src} fit {f} could not be loaded in as there are no matching spectra \"\n",
      "/its/home/dt237/.conda/envs/xga_env/lib/python3.8/site-packages/xga/sources/base.py:940: UserWarning: G164.18-38.89 fit G164.18-38.89_ra44.726_dec13.56_ri0.09787496599195859_ro0.10391663055936344_grpTrue_mincnt5_ident83707019_16_constant*tbabs*apec.fits could not be loaded in as there are no matching spectra available\n",
      "  warnings.warn(\"{src} fit {f} could not be loaded in as there are no matching spectra \"\n",
      "/its/home/dt237/.conda/envs/xga_env/lib/python3.8/site-packages/xga/sources/base.py:940: UserWarning: G164.18-38.89 fit G164.18-38.89_ra44.740717630253435_dec13.587693396258224_ri0.054374956028544495_ro0.06041661780949389_grpTrue_mincnt5_ident20760763_9_constant*tbabs*apec.fits could not be loaded in as there are no matching spectra available\n",
      "  warnings.warn(\"{src} fit {f} could not be loaded in as there are no matching spectra \"\n",
      "/its/home/dt237/.conda/envs/xga_env/lib/python3.8/site-packages/xga/sources/base.py:940: UserWarning: G164.18-38.89 fit G164.18-38.89_ra44.726_dec13.56_ri0.04229165197183396_ro0.048333316539238814_grpTrue_mincnt5_ident83707019_7_constant*tbabs*apec.fits could not be loaded in as there are no matching spectra available\n",
      "  warnings.warn(\"{src} fit {f} could not be loaded in as there are no matching spectra \"\n",
      "/its/home/dt237/.conda/envs/xga_env/lib/python3.8/site-packages/xga/sources/base.py:940: UserWarning: G164.18-38.89 fit G164.18-38.89_ra44.740717630253435_dec13.587693396258224_ri0.0918332590704307_ro0.09787492085138008_grpTrue_mincnt5_ident20760763_15_constant*tbabs*apec.fits could not be loaded in as there are no matching spectra available\n",
      "  warnings.warn(\"{src} fit {f} could not be loaded in as there are no matching spectra \"\n",
      "/its/home/dt237/.conda/envs/xga_env/lib/python3.8/site-packages/xga/sources/base.py:940: UserWarning: G164.18-38.89 fit G164.18-38.89_ra44.726_dec13.56_ri0.20783326111872688_ro0.21991659025353658_grpTrue_mincnt5_ident40542796_30_constant*tbabs*apec.fits could not be loaded in as there are no matching spectra available\n",
      "  warnings.warn(\"{src} fit {f} could not be loaded in as there are no matching spectra \"\n",
      "/its/home/dt237/.conda/envs/xga_env/lib/python3.8/site-packages/xga/sources/base.py:940: UserWarning: G164.18-38.89 fit G164.18-38.89_ra44.726_dec13.56_ri0.006041664567404852_ro0.012083329134809704_grpTrue_mincnt5_ident83707019_1_constant*tbabs*apec.fits could not be loaded in as there are no matching spectra available\n",
      "  warnings.warn(\"{src} fit {f} could not be loaded in as there are no matching spectra \"\n",
      "/its/home/dt237/.conda/envs/xga_env/lib/python3.8/site-packages/xga/sources/base.py:940: UserWarning: G164.18-38.89 fit G164.18-38.89_ra44.740717630253435_dec13.587693396258224_ri0.20179150348370956_ro0.20783316526465895_grpTrue_mincnt5_ident20760763_33_constant*tbabs*apec.fits could not be loaded in as there are no matching spectra available\n",
      "  warnings.warn(\"{src} fit {f} could not be loaded in as there are no matching spectra \"\n",
      "/its/home/dt237/.conda/envs/xga_env/lib/python3.8/site-packages/xga/sources/base.py:940: UserWarning: G164.18-38.89 fit G164.18-38.89_ra44.726_dec13.56_ri0.17158327371429777_ro0.18366660284910746_grpTrue_mincnt5_ident40542796_27_constant*tbabs*apec.fits could not be loaded in as there are no matching spectra available\n",
      "  warnings.warn(\"{src} fit {f} could not be loaded in as there are no matching spectra \"\n",
      "/its/home/dt237/.conda/envs/xga_env/lib/python3.8/site-packages/xga/sources/base.py:940: UserWarning: G164.18-38.89 fit G164.18-38.89_ra44.740717630253435_dec13.587693396258224_ri0.0_ro0.006041661780949388_grpTrue_mincnt5_ident20760763_0_constant*tbabs*apec.fits could not be loaded in as there are no matching spectra available\n",
      "  warnings.warn(\"{src} fit {f} could not be loaded in as there are no matching spectra \"\n",
      "/its/home/dt237/.conda/envs/xga_env/lib/python3.8/site-packages/xga/sources/base.py:940: UserWarning: G164.18-38.89 fit G164.18-38.89_ra44.726_dec13.56_ri0.16554160914689292_ro0.17158327371429777_grpTrue_mincnt5_ident83707019_27_constant*tbabs*apec.fits could not be loaded in as there are no matching spectra available\n",
      "  warnings.warn(\"{src} fit {f} could not be loaded in as there are no matching spectra \"\n",
      "/its/home/dt237/.conda/envs/xga_env/lib/python3.8/site-packages/xga/sources/base.py:940: UserWarning: G164.18-38.89 fit G164.18-38.89_ra44.740717630253435_dec13.587693396258224_ri0.16554153279801323_ro0.17158319457896262_grpTrue_mincnt5_ident20760763_27_constant*tbabs*apec.fits could not be loaded in as there are no matching spectra available\n",
      "  warnings.warn(\"{src} fit {f} could not be loaded in as there are no matching spectra \"\n",
      "/its/home/dt237/.conda/envs/xga_env/lib/python3.8/site-packages/xga/sources/base.py:940: UserWarning: G164.18-38.89 fit G164.18-38.89_ra44.726_dec13.56_ri0.07370830772233919_ro0.07974997228974404_grpTrue_mincnt5_ident83707019_12_constant*tbabs*apec.fits could not be loaded in as there are no matching spectra available\n",
      "  warnings.warn(\"{src} fit {f} could not be loaded in as there are no matching spectra \"\n",
      "/its/home/dt237/.conda/envs/xga_env/lib/python3.8/site-packages/xga/sources/base.py:940: UserWarning: G164.18-38.89 fit G164.18-38.89_ra44.740717630253435_dec13.587693396258224_ri0.0797499355085319_ro0.08579159728948131_grpTrue_mincnt5_ident20760763_13_constant*tbabs*apec.fits could not be loaded in as there are no matching spectra available\n",
      "  warnings.warn(\"{src} fit {f} could not be loaded in as there are no matching spectra \"\n",
      "/its/home/dt237/.conda/envs/xga_env/lib/python3.8/site-packages/xga/sources/base.py:940: UserWarning: G164.18-38.89 fit G164.18-38.89_ra44.726_dec13.56_ri0.14016661796379254_ro0.14741661544467838_grpTrue_mincnt5_ident83707019_23_constant*tbabs*apec.fits could not be loaded in as there are no matching spectra available\n",
      "  warnings.warn(\"{src} fit {f} could not be loaded in as there are no matching spectra \"\n",
      "/its/home/dt237/.conda/envs/xga_env/lib/python3.8/site-packages/xga/sources/base.py:940: UserWarning: G164.18-38.89 fit G164.18-38.89_ra44.726_dec13.56_ri0.18366660284910746_ro0.19574993198391719_grpTrue_mincnt5_ident83707019_29_constant*tbabs*apec.fits could not be loaded in as there are no matching spectra available\n",
      "  warnings.warn(\"{src} fit {f} could not be loaded in as there are no matching spectra \"\n",
      "/its/home/dt237/.conda/envs/xga_env/lib/python3.8/site-packages/xga/sources/base.py:940: UserWarning: G164.18-38.89 fit G164.18-38.89_ra44.740717630253435_dec13.587693396258224_ri0.17762485635991201_ro0.1836665181408614_grpTrue_mincnt5_ident20760763_29_constant*tbabs*apec.fits could not be loaded in as there are no matching spectra available\n",
      "  warnings.warn(\"{src} fit {f} could not be loaded in as there are no matching spectra \"\n",
      "/its/home/dt237/.conda/envs/xga_env/lib/python3.8/site-packages/xga/sources/base.py:940: UserWarning: G164.18-38.89 fit G164.18-38.89_ra44.726_dec13.56_ri0.09787496599195859_ro0.10391663055936344_grpTrue_mincnt5_ident40542796_16_constant*tbabs*apec.fits could not be loaded in as there are no matching spectra available\n",
      "  warnings.warn(\"{src} fit {f} could not be loaded in as there are no matching spectra \"\n",
      "/its/home/dt237/.conda/envs/xga_env/lib/python3.8/site-packages/xga/sources/base.py:940: UserWarning: G164.18-38.89 fit G164.18-38.89_ra44.740717630253435_dec13.587693396258224_ri0.02416664712379755_ro0.030208308904746944_grpTrue_mincnt5_ident20760763_4_constant*tbabs*apec.fits could not be loaded in as there are no matching spectra available\n",
      "  warnings.warn(\"{src} fit {f} could not be loaded in as there are no matching spectra \"\n",
      "/its/home/dt237/.conda/envs/xga_env/lib/python3.8/site-packages/xga/sources/base.py:940: UserWarning: G164.18-38.89 fit G164.18-38.89_ra44.740717630253435_dec13.587693396258224_ri0.21991648882655773_ro0.23320814474464638_grpTrue_mincnt5_ident20760763_35_constant*tbabs*apec.fits could not be loaded in as there are no matching spectra available\n",
      "  warnings.warn(\"{src} fit {f} could not be loaded in as there are no matching spectra \"\n",
      "/its/home/dt237/.conda/envs/xga_env/lib/python3.8/site-packages/xga/sources/base.py:940: UserWarning: G164.18-38.89 fit G164.18-38.89_ra44.726_dec13.56_ri0.018124993702214553_ro0.024166658269619407_grpTrue_mincnt5_ident83707019_3_constant*tbabs*apec.fits could not be loaded in as there are no matching spectra available\n",
      "  warnings.warn(\"{src} fit {f} could not be loaded in as there are no matching spectra \"\n",
      "/its/home/dt237/.conda/envs/xga_env/lib/python3.8/site-packages/xga/sources/base.py:940: UserWarning: G164.18-38.89 fit G164.18-38.89_ra44.726_dec13.56_ri0.05437498110664366_ro0.06041664567404851_grpTrue_mincnt5_ident40542796_9_constant*tbabs*apec.fits could not be loaded in as there are no matching spectra available\n",
      "  warnings.warn(\"{src} fit {f} could not be loaded in as there are no matching spectra \"\n",
      "/its/home/dt237/.conda/envs/xga_env/lib/python3.8/site-packages/xga/sources/base.py:940: UserWarning: G164.18-38.89 fit G164.18-38.89_ra44.740717630253435_dec13.587693396258224_ri0.1897081799218108_ro0.19574984170276016_grpTrue_mincnt5_ident20760763_31_constant*tbabs*apec.fits could not be loaded in as there are no matching spectra available\n",
      "  warnings.warn(\"{src} fit {f} could not be loaded in as there are no matching spectra \"\n"
     ]
    },
    {
     "name": "stderr",
     "output_type": "stream",
     "text": [
      "/its/home/dt237/.conda/envs/xga_env/lib/python3.8/site-packages/xga/sources/base.py:940: UserWarning: G164.18-38.89 fit G164.18-38.89_ra44.726_dec13.56_ri0.07974997228974404_ro0.08579163685714888_grpTrue_mincnt5_ident40542796_13_constant*tbabs*apec.fits could not be loaded in as there are no matching spectra available\n",
      "  warnings.warn(\"{src} fit {f} could not be loaded in as there are no matching spectra \"\n",
      "/its/home/dt237/.conda/envs/xga_env/lib/python3.8/site-packages/xga/sources/base.py:940: UserWarning: G164.18-38.89 fit G164.18-38.89_ra44.726_dec13.56_ri0.14741661544467838_ro0.15345828001208323_grpTrue_mincnt5_ident83707019_24_constant*tbabs*apec.fits could not be loaded in as there are no matching spectra available\n",
      "  warnings.warn(\"{src} fit {f} could not be loaded in as there are no matching spectra \"\n",
      "/its/home/dt237/.conda/envs/xga_env/lib/python3.8/site-packages/xga/sources/base.py:940: UserWarning: G164.18-38.89 fit G164.18-38.89_ra44.726_dec13.56_ri0.1462082825311974_ro0.15224994709860226_grpTrue_mincnt5_ident40542796_24_constant*tbabs*apec.fits could not be loaded in as there are no matching spectra available\n",
      "  warnings.warn(\"{src} fit {f} could not be loaded in as there are no matching spectra \"\n",
      "/its/home/dt237/.conda/envs/xga_env/lib/python3.8/site-packages/xga/sources/base.py:940: UserWarning: G164.18-38.89 fit G164.18-38.89_ra44.726_dec13.56_ri0.036249987404429106_ro0.04229165197183396_grpTrue_mincnt5_ident40542796_6_constant*tbabs*apec.fits could not be loaded in as there are no matching spectra available\n",
      "  warnings.warn(\"{src} fit {f} could not be loaded in as there are no matching spectra \"\n",
      "/its/home/dt237/.conda/envs/xga_env/lib/python3.8/site-packages/xga/sources/base.py:940: UserWarning: G164.18-38.89 fit G164.18-38.89_ra44.740717630253435_dec13.587693396258224_ri0.15224987687992458_ro0.1594998710170638_grpTrue_mincnt5_ident20760763_25_constant*tbabs*apec.fits could not be loaded in as there are no matching spectra available\n",
      "  warnings.warn(\"{src} fit {f} could not be loaded in as there are no matching spectra \"\n",
      "/its/home/dt237/.conda/envs/xga_env/lib/python3.8/site-packages/xga/sources/base.py:940: UserWarning: G164.18-38.89 fit G164.18-38.89_ra44.740717630253435_dec13.587693396258224_ri0.0_ro0.22100502490921697_grpTrue_mincnt5_constant*tbabs*apec.fits could not be loaded in as there are no matching spectra available\n",
      "  warnings.warn(\"{src} fit {f} could not be loaded in as there are no matching spectra \"\n",
      "/its/home/dt237/.conda/envs/xga_env/lib/python3.8/site-packages/xga/sources/base.py:940: UserWarning: G164.18-38.89 fit G164.18-38.89_ra44.726_dec13.56_ri0.10391663055936344_ro0.10995829512676829_grpTrue_mincnt5_ident40542796_17_constant*tbabs*apec.fits could not be loaded in as there are no matching spectra available\n",
      "  warnings.warn(\"{src} fit {f} could not be loaded in as there are no matching spectra \"\n",
      "/its/home/dt237/.conda/envs/xga_env/lib/python3.8/site-packages/xga/sources/base.py:940: UserWarning: G164.18-38.89 fit G164.18-38.89_ra44.740717630253435_dec13.587693396258224_ri0.07249994137139265_ro0.0797499355085319_grpTrue_mincnt5_ident20760763_12_constant*tbabs*apec.fits could not be loaded in as there are no matching spectra available\n",
      "  warnings.warn(\"{src} fit {f} could not be loaded in as there are no matching spectra \"\n",
      "/its/home/dt237/.conda/envs/xga_env/lib/python3.8/site-packages/xga/sources/base.py:940: UserWarning: G164.18-38.89 fit G164.18-38.89_ra44.726_dec13.56_ri0.036249987404429106_ro0.04229165197183396_grpTrue_mincnt5_ident83707019_6_constant*tbabs*apec.fits could not be loaded in as there are no matching spectra available\n",
      "  warnings.warn(\"{src} fit {f} could not be loaded in as there are no matching spectra \"\n",
      "/its/home/dt237/.conda/envs/xga_env/lib/python3.8/site-packages/xga/sources/base.py:940: UserWarning: G164.18-38.89 fit G164.18-38.89_ra44.726_dec13.56_ri0.10391663055936344_ro0.10995829512676829_grpTrue_mincnt5_ident83707019_17_constant*tbabs*apec.fits could not be loaded in as there are no matching spectra available\n",
      "  warnings.warn(\"{src} fit {f} could not be loaded in as there are no matching spectra \"\n",
      "/its/home/dt237/.conda/envs/xga_env/lib/python3.8/site-packages/xga/sources/base.py:940: UserWarning: G164.18-38.89 fit G164.18-38.89_ra44.726_dec13.56_ri0.07249997480885821_ro0.07974997228974404_grpTrue_mincnt5_ident40542796_12_constant*tbabs*apec.fits could not be loaded in as there are no matching spectra available\n",
      "  warnings.warn(\"{src} fit {f} could not be loaded in as there are no matching spectra \"\n",
      "/its/home/dt237/.conda/envs/xga_env/lib/python3.8/site-packages/xga/sources/base.py:940: UserWarning: G164.18-38.89 fit G164.18-38.89_ra44.740717630253435_dec13.587693396258224_ri0.17158319457896262_ro0.17762485635991201_grpTrue_mincnt5_ident20760763_28_constant*tbabs*apec.fits could not be loaded in as there are no matching spectra available\n",
      "  warnings.warn(\"{src} fit {f} could not be loaded in as there are no matching spectra \"\n",
      "/its/home/dt237/.conda/envs/xga_env/lib/python3.8/site-packages/xga/sources/base.py:940: UserWarning: G164.18-38.89 fit G164.18-38.89_ra44.740717630253435_dec13.587693396258224_ri0.11599990619422826_ro0.12204156797517764_grpTrue_mincnt5_ident20760763_19_constant*tbabs*apec.fits could not be loaded in as there are no matching spectra available\n",
      "  warnings.warn(\"{src} fit {f} could not be loaded in as there are no matching spectra \"\n",
      "/its/home/dt237/.conda/envs/xga_env/lib/python3.8/site-packages/xga/sources/base.py:940: UserWarning: G164.18-38.89 fit G164.18-38.89_ra44.726_dec13.56_ri0.12808328882898284_ro0.1341249533963877_grpTrue_mincnt5_ident83707019_21_constant*tbabs*apec.fits could not be loaded in as there are no matching spectra available\n",
      "  warnings.warn(\"{src} fit {f} could not be loaded in as there are no matching spectra \"\n",
      "/its/home/dt237/.conda/envs/xga_env/lib/python3.8/site-packages/xga/sources/base.py:940: UserWarning: G164.18-38.89 fit G164.18-38.89_ra44.726_dec13.56_ri0.21991659025353658_ro0.23320825230182726_grpTrue_mincnt5_ident40542796_31_constant*tbabs*apec.fits could not be loaded in as there are no matching spectra available\n",
      "  warnings.warn(\"{src} fit {f} could not be loaded in as there are no matching spectra \"\n",
      "/its/home/dt237/.conda/envs/xga_env/lib/python3.8/site-packages/xga/sources/base.py:940: UserWarning: G164.18-38.89 fit G164.18-38.89_ra44.726_dec13.56_ri0.11599995969417315_ro0.122041624261578_grpTrue_mincnt5_ident40542796_19_constant*tbabs*apec.fits could not be loaded in as there are no matching spectra available\n",
      "  warnings.warn(\"{src} fit {f} could not be loaded in as there are no matching spectra \"\n",
      "/its/home/dt237/.conda/envs/xga_env/lib/python3.8/site-packages/xga/sources/base.py:940: UserWarning: G164.18-38.89 fit G164.18-38.89_ra44.740717630253435_dec13.587693396258224_ri0.036249970685696326_ro0.04229163246664572_grpTrue_mincnt5_ident20760763_6_constant*tbabs*apec.fits could not be loaded in as there are no matching spectra available\n",
      "  warnings.warn(\"{src} fit {f} could not be loaded in as there are no matching spectra \"\n",
      "/its/home/dt237/.conda/envs/xga_env/lib/python3.8/site-packages/xga/sources/base.py:940: UserWarning: G164.18-38.89 fit G164.18-38.89_ra44.726_dec13.56_ri0.048333316539238814_ro0.05437498110664366_grpTrue_mincnt5_ident40542796_8_constant*tbabs*apec.fits could not be loaded in as there are no matching spectra available\n",
      "  warnings.warn(\"{src} fit {f} could not be loaded in as there are no matching spectra \"\n",
      "/its/home/dt237/.conda/envs/xga_env/lib/python3.8/site-packages/xga/sources/base.py:940: UserWarning: G164.18-38.89 fit G164.18-38.89_ra44.726_dec13.56_ri0.07974997228974404_ro0.08579163685714888_grpTrue_mincnt5_ident83707019_13_constant*tbabs*apec.fits could not be loaded in as there are no matching spectra available\n",
      "  warnings.warn(\"{src} fit {f} could not be loaded in as there are no matching spectra \"\n",
      "/its/home/dt237/.conda/envs/xga_env/lib/python3.8/site-packages/xga/sources/base.py:940: UserWarning: G164.18-38.89 fit G164.18-38.89_ra44.726_dec13.56_ri0.18366660284910746_ro0.19574993198391719_grpTrue_mincnt5_ident40542796_28_constant*tbabs*apec.fits could not be loaded in as there are no matching spectra available\n",
      "  warnings.warn(\"{src} fit {f} could not be loaded in as there are no matching spectra \"\n",
      "/its/home/dt237/.conda/envs/xga_env/lib/python3.8/site-packages/xga/sources/base.py:940: UserWarning: G164.18-38.89 fit G164.18-38.89_ra44.726_dec13.56_ri0.06645831024145336_ro0.07249997480885821_grpTrue_mincnt5_ident40542796_11_constant*tbabs*apec.fits could not be loaded in as there are no matching spectra available\n",
      "  warnings.warn(\"{src} fit {f} could not be loaded in as there are no matching spectra \"\n",
      "/its/home/dt237/.conda/envs/xga_env/lib/python3.8/site-packages/xga/sources/base.py:940: UserWarning: G164.18-38.89 fit G164.18-38.89_ra44.726_dec13.56_ri0.10995829512676829_ro0.11599995969417315_grpTrue_mincnt5_ident40542796_18_constant*tbabs*apec.fits could not be loaded in as there are no matching spectra available\n",
      "  warnings.warn(\"{src} fit {f} could not be loaded in as there are no matching spectra \"\n",
      "/its/home/dt237/.conda/envs/xga_env/lib/python3.8/site-packages/xga/sources/base.py:940: UserWarning: G164.18-38.89 fit G164.18-38.89_ra44.726_dec13.56_ri0.15949994457948807_ro0.17158327371429777_grpTrue_mincnt5_ident40542796_26_constant*tbabs*apec.fits could not be loaded in as there are no matching spectra available\n",
      "  warnings.warn(\"{src} fit {f} could not be loaded in as there are no matching spectra \"\n",
      "/its/home/dt237/.conda/envs/xga_env/lib/python3.8/site-packages/xga/sources/base.py:963: UserWarning: A previous annular spectra profile fit for G164.18-38.89 was not successful, or no matching spectrum has been loaded, so it cannot be read in\n",
      "  warnings.warn(\"A previous annular spectra profile fit for {src} was not successful, or no \"\n",
      "/its/home/dt237/.conda/envs/xga_env/lib/python3.8/site-packages/xga/sources/base.py:215: UserWarning: Existing fit for G164.18-38.89 could not be loaded due to a mismatch in available data\n",
      "  self._existing_xga_products(load_fits)\n"
     ]
    },
    {
     "name": "stderr",
     "output_type": "stream",
     "text": [
      "/its/home/dt237/.conda/envs/xga_env/lib/python3.8/site-packages/xga/sources/general.py:124: UserWarning: G164.18-38.89 has not been detected in all region files, so generating and fitting products with the 'region' reg_type will not use all available data\n",
      "  warnings.warn(\"{n} has not been detected in all region files, so generating and fitting products\"\n",
      "/its/home/dt237/.conda/envs/xga_env/lib/python3.8/site-packages/xga/sources/base.py:940: UserWarning: G164.18-38.89 fit G164.18-38.89_ra44.740717630253435_dec13.587693396258224_ri0.19574984170276016_ro0.20179150348370956_grpTrue_mincnt5_ident20760763_32_constant*tbabs*apec.fits could not be loaded in as there are no matching spectra available\n",
      "  warnings.warn(\"{src} fit {f} could not be loaded in as there are no matching spectra \"\n",
      "/its/home/dt237/.conda/envs/xga_env/lib/python3.8/site-packages/xga/sources/base.py:940: UserWarning: G164.18-38.89 fit G164.18-38.89_ra44.740717630253435_dec13.587693396258224_ri0.08579159728948131_ro0.0918332590704307_grpTrue_mincnt5_ident20760763_14_constant*tbabs*apec.fits could not be loaded in as there are no matching spectra available\n",
      "  warnings.warn(\"{src} fit {f} could not be loaded in as there are no matching spectra \"\n",
      "/its/home/dt237/.conda/envs/xga_env/lib/python3.8/site-packages/xga/sources/base.py:940: UserWarning: G164.18-38.89 fit G164.18-38.89_ra44.726_dec13.56_ri0.10995829512676829_ro0.11599995969417315_grpTrue_mincnt5_ident83707019_18_constant*tbabs*apec.fits could not be loaded in as there are no matching spectra available\n",
      "  warnings.warn(\"{src} fit {f} could not be loaded in as there are no matching spectra \"\n",
      "/its/home/dt237/.conda/envs/xga_env/lib/python3.8/site-packages/xga/sources/base.py:940: UserWarning: G164.18-38.89 fit G164.18-38.89_ra44.726_dec13.56_ri0.030208322837024255_ro0.036249987404429106_grpTrue_mincnt5_ident83707019_5_constant*tbabs*apec.fits could not be loaded in as there are no matching spectra available\n",
      "  warnings.warn(\"{src} fit {f} could not be loaded in as there are no matching spectra \"\n",
      "/its/home/dt237/.conda/envs/xga_env/lib/python3.8/site-packages/xga/sources/base.py:940: UserWarning: G164.18-38.89 fit G164.18-38.89_ra44.726_dec13.56_ri0.018124993702214553_ro0.024166658269619407_grpTrue_mincnt5_ident40542796_3_constant*tbabs*apec.fits could not be loaded in as there are no matching spectra available\n",
      "  warnings.warn(\"{src} fit {f} could not be loaded in as there are no matching spectra \"\n",
      "/its/home/dt237/.conda/envs/xga_env/lib/python3.8/site-packages/xga/sources/base.py:940: UserWarning: G164.18-38.89 fit G164.18-38.89_ra44.726_dec13.56_ri0.006041664567404852_ro0.012083329134809704_grpTrue_mincnt5_ident40542796_1_constant*tbabs*apec.fits could not be loaded in as there are no matching spectra available\n",
      "  warnings.warn(\"{src} fit {f} could not be loaded in as there are no matching spectra \"\n",
      "/its/home/dt237/.conda/envs/xga_env/lib/python3.8/site-packages/xga/sources/base.py:940: UserWarning: G164.18-38.89 fit G164.18-38.89_ra44.726_dec13.56_ri0.17158327371429777_ro0.18366660284910746_grpTrue_mincnt5_ident83707019_28_constant*tbabs*apec.fits could not be loaded in as there are no matching spectra available\n",
      "  warnings.warn(\"{src} fit {f} could not be loaded in as there are no matching spectra \"\n",
      "/its/home/dt237/.conda/envs/xga_env/lib/python3.8/site-packages/xga/sources/base.py:940: UserWarning: G164.18-38.89 fit G164.18-38.89_ra44.726_dec13.56_ri0.19574993198391719_ro0.20783326111872688_grpTrue_mincnt5_ident83707019_30_constant*tbabs*apec.fits could not be loaded in as there are no matching spectra available\n",
      "  warnings.warn(\"{src} fit {f} could not be loaded in as there are no matching spectra \"\n",
      "/its/home/dt237/.conda/envs/xga_env/lib/python3.8/site-packages/xga/sources/base.py:940: UserWarning: G164.18-38.89 fit G164.18-38.89_ra44.726_dec13.56_ri0.08579163685714888_ro0.09183330142455373_grpTrue_mincnt5_ident40542796_14_constant*tbabs*apec.fits could not be loaded in as there are no matching spectra available\n",
      "  warnings.warn(\"{src} fit {f} could not be loaded in as there are no matching spectra \"\n",
      "/its/home/dt237/.conda/envs/xga_env/lib/python3.8/site-packages/xga/sources/base.py:940: UserWarning: G164.18-38.89 fit G164.18-38.89_ra44.726_dec13.56_ri0.1341249533963877_ro0.14016661796379254_grpTrue_mincnt5_ident83707019_22_constant*tbabs*apec.fits could not be loaded in as there are no matching spectra available\n",
      "  warnings.warn(\"{src} fit {f} could not be loaded in as there are no matching spectra \"\n",
      "/its/home/dt237/.conda/envs/xga_env/lib/python3.8/site-packages/xga/sources/base.py:940: UserWarning: G164.18-38.89 fit G164.18-38.89_ra44.726_dec13.56_ri0.030208322837024255_ro0.036249987404429106_grpTrue_mincnt5_ident40542796_5_constant*tbabs*apec.fits could not be loaded in as there are no matching spectra available\n",
      "  warnings.warn(\"{src} fit {f} could not be loaded in as there are no matching spectra \"\n",
      "/its/home/dt237/.conda/envs/xga_env/lib/python3.8/site-packages/xga/sources/base.py:940: UserWarning: G164.18-38.89 fit G164.18-38.89_ra44.726_dec13.56_ri0.048333316539238814_ro0.05437498110664366_grpTrue_mincnt5_ident83707019_8_constant*tbabs*apec.fits could not be loaded in as there are no matching spectra available\n",
      "  warnings.warn(\"{src} fit {f} could not be loaded in as there are no matching spectra \"\n",
      "/its/home/dt237/.conda/envs/xga_env/lib/python3.8/site-packages/xga/sources/base.py:940: UserWarning: G164.18-38.89 fit G164.18-38.89_ra44.740717630253435_dec13.587693396258224_ri0.018124985342848163_ro0.02416664712379755_grpTrue_mincnt5_ident20760763_3_constant*tbabs*apec.fits could not be loaded in as there are no matching spectra available\n",
      "  warnings.warn(\"{src} fit {f} could not be loaded in as there are no matching spectra \"\n",
      "/its/home/dt237/.conda/envs/xga_env/lib/python3.8/site-packages/xga/sources/base.py:940: UserWarning: G164.18-38.89 fit G164.18-38.89_ra44.740717630253435_dec13.587693396258224_ri0.012083323561898776_ro0.018124985342848163_grpTrue_mincnt5_ident20760763_2_constant*tbabs*apec.fits could not be loaded in as there are no matching spectra available\n",
      "  warnings.warn(\"{src} fit {f} could not be loaded in as there are no matching spectra \"\n",
      "/its/home/dt237/.conda/envs/xga_env/lib/python3.8/site-packages/xga/sources/base.py:940: UserWarning: G164.18-38.89 fit G164.18-38.89_ra44.726_dec13.56_ri0.15345828001208323_ro0.15949994457948807_grpTrue_mincnt5_ident83707019_25_constant*tbabs*apec.fits could not be loaded in as there are no matching spectra available\n",
      "  warnings.warn(\"{src} fit {f} could not be loaded in as there are no matching spectra \"\n",
      "/its/home/dt237/.conda/envs/xga_env/lib/python3.8/site-packages/xga/sources/base.py:940: UserWarning: G164.18-38.89 fit G164.18-38.89_ra44.726_dec13.56_ri0.15949994457948807_ro0.16554160914689292_grpTrue_mincnt5_ident83707019_26_constant*tbabs*apec.fits could not be loaded in as there are no matching spectra available\n",
      "  warnings.warn(\"{src} fit {f} could not be loaded in as there are no matching spectra \"\n",
      "/its/home/dt237/.conda/envs/xga_env/lib/python3.8/site-packages/xga/sources/base.py:940: UserWarning: G164.18-38.89 fit G164.18-38.89_ra44.726_dec13.56_ri0.024166658269619407_ro0.030208322837024255_grpTrue_mincnt5_ident83707019_4_constant*tbabs*apec.fits could not be loaded in as there are no matching spectra available\n",
      "  warnings.warn(\"{src} fit {f} could not be loaded in as there are no matching spectra \"\n",
      "/its/home/dt237/.conda/envs/xga_env/lib/python3.8/site-packages/xga/sources/base.py:940: UserWarning: G164.18-38.89 fit G164.18-38.89_ra44.726_dec13.56_ri0.0_ro0.006041664567404852_grpTrue_mincnt5_ident83707019_0_constant*tbabs*apec.fits could not be loaded in as there are no matching spectra available\n",
      "  warnings.warn(\"{src} fit {f} could not be loaded in as there are no matching spectra \"\n",
      "/its/home/dt237/.conda/envs/xga_env/lib/python3.8/site-packages/xga/sources/base.py:940: UserWarning: G164.18-38.89 fit G164.18-38.89_ra44.726_dec13.56_ri0.06041664567404851_ro0.06645831024145336_grpTrue_mincnt5_ident83707019_10_constant*tbabs*apec.fits could not be loaded in as there are no matching spectra available\n",
      "  warnings.warn(\"{src} fit {f} could not be loaded in as there are no matching spectra \"\n",
      "/its/home/dt237/.conda/envs/xga_env/lib/python3.8/site-packages/xga/sources/base.py:940: UserWarning: G164.18-38.89 fit G164.18-38.89_ra44.726_dec13.56_ri0.09183330142455373_ro0.09787496599195859_grpTrue_mincnt5_ident40542796_15_constant*tbabs*apec.fits could not be loaded in as there are no matching spectra available\n",
      "  warnings.warn(\"{src} fit {f} could not be loaded in as there are no matching spectra \"\n",
      "/its/home/dt237/.conda/envs/xga_env/lib/python3.8/site-packages/xga/sources/base.py:940: UserWarning: G164.18-38.89 fit G164.18-38.89_ra44.740717630253435_dec13.587693396258224_ri0.06645827959044327_ro0.07249994137139265_grpTrue_mincnt5_ident20760763_11_constant*tbabs*apec.fits could not be loaded in as there are no matching spectra available\n",
      "  warnings.warn(\"{src} fit {f} could not be loaded in as there are no matching spectra \"\n",
      "/its/home/dt237/.conda/envs/xga_env/lib/python3.8/site-packages/xga/sources/base.py:940: UserWarning: G164.18-38.89 fit G164.18-38.89_ra44.726_dec13.56_ri0.20783326111872688_ro0.22112492316701754_grpTrue_mincnt5_ident83707019_31_constant*tbabs*apec.fits could not be loaded in as there are no matching spectra available\n",
      "  warnings.warn(\"{src} fit {f} could not be loaded in as there are no matching spectra \"\n",
      "/its/home/dt237/.conda/envs/xga_env/lib/python3.8/site-packages/xga/sources/base.py:940: UserWarning: G164.18-38.89 fit G164.18-38.89_ra44.726_dec13.56_ri0.024166658269619407_ro0.030208322837024255_grpTrue_mincnt5_ident40542796_4_constant*tbabs*apec.fits could not be loaded in as there are no matching spectra available\n",
      "  warnings.warn(\"{src} fit {f} could not be loaded in as there are no matching spectra \"\n",
      "/its/home/dt237/.conda/envs/xga_env/lib/python3.8/site-packages/xga/sources/base.py:940: UserWarning: G164.18-38.89 fit G164.18-38.89_ra44.726_dec13.56_ri0.06041664567404851_ro0.06645831024145336_grpTrue_mincnt5_ident40542796_10_constant*tbabs*apec.fits could not be loaded in as there are no matching spectra available\n",
      "  warnings.warn(\"{src} fit {f} could not be loaded in as there are no matching spectra \"\n",
      "/its/home/dt237/.conda/envs/xga_env/lib/python3.8/site-packages/xga/sources/base.py:940: UserWarning: G164.18-38.89 fit G164.18-38.89_ra44.726_dec13.56_ri0.19574993198391719_ro0.20783326111872688_grpTrue_mincnt5_ident40542796_29_constant*tbabs*apec.fits could not be loaded in as there are no matching spectra available\n",
      "  warnings.warn(\"{src} fit {f} could not be loaded in as there are no matching spectra \"\n",
      "/its/home/dt237/.conda/envs/xga_env/lib/python3.8/site-packages/xga/sources/base.py:940: UserWarning: G164.18-38.89 fit G164.18-38.89_ra44.740717630253435_dec13.587693396258224_ri0.1401665533180258_ro0.1462082150989752_grpTrue_mincnt5_ident20760763_23_constant*tbabs*apec.fits could not be loaded in as there are no matching spectra available\n",
      "  warnings.warn(\"{src} fit {f} could not be loaded in as there are no matching spectra \"\n",
      "/its/home/dt237/.conda/envs/xga_env/lib/python3.8/site-packages/xga/sources/base.py:940: UserWarning: G164.18-38.89 fit G164.18-38.89_ra44.726_dec13.56_ri0.0_ro0.006041664567404852_grpTrue_mincnt5_ident40542796_0_constant*tbabs*apec.fits could not be loaded in as there are no matching spectra available\n",
      "  warnings.warn(\"{src} fit {f} could not be loaded in as there are no matching spectra \"\n",
      "/its/home/dt237/.conda/envs/xga_env/lib/python3.8/site-packages/xga/sources/base.py:940: UserWarning: G164.18-38.89 fit G164.18-38.89_ra44.740717630253435_dec13.587693396258224_ri0.1594998710170638_ro0.16554153279801323_grpTrue_mincnt5_ident20760763_26_constant*tbabs*apec.fits could not be loaded in as there are no matching spectra available\n",
      "  warnings.warn(\"{src} fit {f} could not be loaded in as there are no matching spectra \"\n",
      "/its/home/dt237/.conda/envs/xga_env/lib/python3.8/site-packages/xga/sources/base.py:940: UserWarning: G164.18-38.89 fit G164.18-38.89_ra44.726_dec13.56_ri0.122041624261578_ro0.12808328882898284_grpTrue_mincnt5_ident83707019_20_constant*tbabs*apec.fits could not be loaded in as there are no matching spectra available\n",
      "  warnings.warn(\"{src} fit {f} could not be loaded in as there are no matching spectra \"\n",
      "/its/home/dt237/.conda/envs/xga_env/lib/python3.8/site-packages/xga/sources/base.py:940: UserWarning: G164.18-38.89 fit G164.18-38.89_ra44.740717630253435_dec13.587693396258224_ri0.04229163246664572_ro0.0483332942475951_grpTrue_mincnt5_ident20760763_7_constant*tbabs*apec.fits could not be loaded in as there are no matching spectra available\n",
      "  warnings.warn(\"{src} fit {f} could not be loaded in as there are no matching spectra \"\n",
      "/its/home/dt237/.conda/envs/xga_env/lib/python3.8/site-packages/xga/sources/base.py:940: UserWarning: G164.18-38.89 fit G164.18-38.89_ra44.740717630253435_dec13.587693396258224_ri0.20783316526465895_ro0.21991648882655773_grpTrue_mincnt5_ident20760763_34_constant*tbabs*apec.fits could not be loaded in as there are no matching spectra available\n",
      "  warnings.warn(\"{src} fit {f} could not be loaded in as there are no matching spectra \"\n",
      "/its/home/dt237/.conda/envs/xga_env/lib/python3.8/site-packages/xga/sources/base.py:940: UserWarning: G164.18-38.89 fit G164.18-38.89_ra44.740717630253435_dec13.587693396258224_ri0.06041661780949389_ro0.06645827959044327_grpTrue_mincnt5_ident20760763_10_constant*tbabs*apec.fits could not be loaded in as there are no matching spectra available\n",
      "  warnings.warn(\"{src} fit {f} could not be loaded in as there are no matching spectra \"\n",
      "/its/home/dt237/.conda/envs/xga_env/lib/python3.8/site-packages/xga/sources/base.py:940: UserWarning: G164.18-38.89 fit G164.18-38.89_ra44.740717630253435_dec13.587693396258224_ri0.006041661780949388_ro0.012083323561898776_grpTrue_mincnt5_ident20760763_1_constant*tbabs*apec.fits could not be loaded in as there are no matching spectra available\n",
      "  warnings.warn(\"{src} fit {f} could not be loaded in as there are no matching spectra \"\n",
      "/its/home/dt237/.conda/envs/xga_env/lib/python3.8/site-packages/xga/sources/base.py:940: UserWarning: G164.18-38.89 fit G164.18-38.89_ra44.726_dec13.56_ri0.012083329134809704_ro0.018124993702214553_grpTrue_mincnt5_ident83707019_2_constant*tbabs*apec.fits could not be loaded in as there are no matching spectra available\n",
      "  warnings.warn(\"{src} fit {f} could not be loaded in as there are no matching spectra \"\n",
      "/its/home/dt237/.conda/envs/xga_env/lib/python3.8/site-packages/xga/sources/base.py:940: UserWarning: G164.18-38.89 fit G164.18-38.89_ra44.740717630253435_dec13.587693396258224_ri0.1341248915370764_ro0.1401665533180258_grpTrue_mincnt5_ident20760763_22_constant*tbabs*apec.fits could not be loaded in as there are no matching spectra available\n",
      "  warnings.warn(\"{src} fit {f} could not be loaded in as there are no matching spectra \"\n",
      "/its/home/dt237/.conda/envs/xga_env/lib/python3.8/site-packages/xga/sources/base.py:940: UserWarning: G164.18-38.89 fit G164.18-38.89_ra44.726_dec13.56_ri0.06645831024145336_ro0.07370830772233919_grpTrue_mincnt5_ident83707019_11_constant*tbabs*apec.fits could not be loaded in as there are no matching spectra available\n",
      "  warnings.warn(\"{src} fit {f} could not be loaded in as there are no matching spectra \"\n",
      "/its/home/dt237/.conda/envs/xga_env/lib/python3.8/site-packages/xga/sources/base.py:940: UserWarning: G164.18-38.89 fit G164.18-38.89_ra44.726_dec13.56_ri0.012083329134809704_ro0.018124993702214553_grpTrue_mincnt5_ident40542796_2_constant*tbabs*apec.fits could not be loaded in as there are no matching spectra available\n",
      "  warnings.warn(\"{src} fit {f} could not be loaded in as there are no matching spectra \"\n",
      "/its/home/dt237/.conda/envs/xga_env/lib/python3.8/site-packages/xga/sources/base.py:940: UserWarning: G164.18-38.89 fit G164.18-38.89_ra44.726_dec13.56_ri0.15224994709860226_ro0.15949994457948807_grpTrue_mincnt5_ident40542796_25_constant*tbabs*apec.fits could not be loaded in as there are no matching spectra available\n",
      "  warnings.warn(\"{src} fit {f} could not be loaded in as there are no matching spectra \"\n",
      "/its/home/dt237/.conda/envs/xga_env/lib/python3.8/site-packages/xga/sources/base.py:940: UserWarning: G164.18-38.89 fit G164.18-38.89_ra44.726_dec13.56_ri0.122041624261578_ro0.12808328882898284_grpTrue_mincnt5_ident40542796_20_constant*tbabs*apec.fits could not be loaded in as there are no matching spectra available\n",
      "  warnings.warn(\"{src} fit {f} could not be loaded in as there are no matching spectra \"\n",
      "/its/home/dt237/.conda/envs/xga_env/lib/python3.8/site-packages/xga/sources/base.py:940: UserWarning: G164.18-38.89 fit G164.18-38.89_ra44.726_dec13.56_ri0.14016661796379254_ro0.1462082825311974_grpTrue_mincnt5_ident40542796_23_constant*tbabs*apec.fits could not be loaded in as there are no matching spectra available\n",
      "  warnings.warn(\"{src} fit {f} could not be loaded in as there are no matching spectra \"\n",
      "/its/home/dt237/.conda/envs/xga_env/lib/python3.8/site-packages/xga/sources/base.py:940: UserWarning: G164.18-38.89 fit G164.18-38.89_ra44.740717630253435_dec13.587693396258224_ri0.1462082150989752_ro0.15224987687992458_grpTrue_mincnt5_ident20760763_24_constant*tbabs*apec.fits could not be loaded in as there are no matching spectra available\n",
      "  warnings.warn(\"{src} fit {f} could not be loaded in as there are no matching spectra \"\n",
      "/its/home/dt237/.conda/envs/xga_env/lib/python3.8/site-packages/xga/sources/base.py:940: UserWarning: G164.18-38.89 fit G164.18-38.89_ra44.740717630253435_dec13.587693396258224_ri0.12808322975612701_ro0.1341248915370764_grpTrue_mincnt5_ident20760763_21_constant*tbabs*apec.fits could not be loaded in as there are no matching spectra available\n",
      "  warnings.warn(\"{src} fit {f} could not be loaded in as there are no matching spectra \"\n",
      "/its/home/dt237/.conda/envs/xga_env/lib/python3.8/site-packages/xga/sources/base.py:940: UserWarning: G164.18-38.89 fit G164.18-38.89_ra44.740717630253435_dec13.587693396258224_ri0.12204156797517764_ro0.12808322975612701_grpTrue_mincnt5_ident20760763_20_constant*tbabs*apec.fits could not be loaded in as there are no matching spectra available\n",
      "  warnings.warn(\"{src} fit {f} could not be loaded in as there are no matching spectra \"\n",
      "/its/home/dt237/.conda/envs/xga_env/lib/python3.8/site-packages/xga/sources/base.py:940: UserWarning: G164.18-38.89 fit G164.18-38.89_ra44.740717630253435_dec13.587693396258224_ri0.09787492085138008_ro0.10391658263232947_grpTrue_mincnt5_ident20760763_16_constant*tbabs*apec.fits could not be loaded in as there are no matching spectra available\n",
      "  warnings.warn(\"{src} fit {f} could not be loaded in as there are no matching spectra \"\n",
      "/its/home/dt237/.conda/envs/xga_env/lib/python3.8/site-packages/xga/sources/base.py:940: UserWarning: G164.18-38.89 fit G164.18-38.89_ra44.726_dec13.56_ri0.09183330142455373_ro0.09787496599195859_grpTrue_mincnt5_ident83707019_15_constant*tbabs*apec.fits could not be loaded in as there are no matching spectra available\n",
      "  warnings.warn(\"{src} fit {f} could not be loaded in as there are no matching spectra \"\n",
      "/its/home/dt237/.conda/envs/xga_env/lib/python3.8/site-packages/xga/sources/base.py:940: UserWarning: G164.18-38.89 fit G164.18-38.89_ra44.740717630253435_dec13.587693396258224_ri0.1836665181408614_ro0.1897081799218108_grpTrue_mincnt5_ident20760763_30_constant*tbabs*apec.fits could not be loaded in as there are no matching spectra available\n",
      "  warnings.warn(\"{src} fit {f} could not be loaded in as there are no matching spectra \"\n",
      "/its/home/dt237/.conda/envs/xga_env/lib/python3.8/site-packages/xga/sources/base.py:940: UserWarning: G164.18-38.89 fit G164.18-38.89_ra44.740717630253435_dec13.587693396258224_ri0.0483332942475951_ro0.054374956028544495_grpTrue_mincnt5_ident20760763_8_constant*tbabs*apec.fits could not be loaded in as there are no matching spectra available\n",
      "  warnings.warn(\"{src} fit {f} could not be loaded in as there are no matching spectra \"\n",
      "/its/home/dt237/.conda/envs/xga_env/lib/python3.8/site-packages/xga/sources/base.py:940: UserWarning: G164.18-38.89 fit G164.18-38.89_ra44.740717630253435_dec13.587693396258224_ri0.10995824441327887_ro0.11599990619422826_grpTrue_mincnt5_ident20760763_18_constant*tbabs*apec.fits could not be loaded in as there are no matching spectra available\n",
      "  warnings.warn(\"{src} fit {f} could not be loaded in as there are no matching spectra \"\n",
      "/its/home/dt237/.conda/envs/xga_env/lib/python3.8/site-packages/xga/sources/base.py:940: UserWarning: G164.18-38.89 fit G164.18-38.89_ra44.726_dec13.56_ri0.11599995969417315_ro0.122041624261578_grpTrue_mincnt5_ident83707019_19_constant*tbabs*apec.fits could not be loaded in as there are no matching spectra available\n",
      "  warnings.warn(\"{src} fit {f} could not be loaded in as there are no matching spectra \"\n",
      "/its/home/dt237/.conda/envs/xga_env/lib/python3.8/site-packages/xga/sources/base.py:940: UserWarning: G164.18-38.89 fit G164.18-38.89_ra44.726_dec13.56_ri0.05437498110664366_ro0.06041664567404851_grpTrue_mincnt5_ident83707019_9_constant*tbabs*apec.fits could not be loaded in as there are no matching spectra available\n",
      "  warnings.warn(\"{src} fit {f} could not be loaded in as there are no matching spectra \"\n",
      "/its/home/dt237/.conda/envs/xga_env/lib/python3.8/site-packages/xga/sources/base.py:940: UserWarning: G164.18-38.89 fit G164.18-38.89_ra44.740717630253435_dec13.587693396258224_ri0.030208308904746944_ro0.036249970685696326_grpTrue_mincnt5_ident20760763_5_constant*tbabs*apec.fits could not be loaded in as there are no matching spectra available\n",
      "  warnings.warn(\"{src} fit {f} could not be loaded in as there are no matching spectra \"\n",
      "/its/home/dt237/.conda/envs/xga_env/lib/python3.8/site-packages/xga/sources/base.py:940: UserWarning: G164.18-38.89 fit G164.18-38.89_ra44.726_dec13.56_ri0.08579163685714888_ro0.09183330142455373_grpTrue_mincnt5_ident83707019_14_constant*tbabs*apec.fits could not be loaded in as there are no matching spectra available\n",
      "  warnings.warn(\"{src} fit {f} could not be loaded in as there are no matching spectra \"\n",
      "/its/home/dt237/.conda/envs/xga_env/lib/python3.8/site-packages/xga/sources/base.py:940: UserWarning: G164.18-38.89 fit G164.18-38.89_ra44.726_dec13.56_ri0.12808328882898284_ro0.1341249533963877_grpTrue_mincnt5_ident40542796_21_constant*tbabs*apec.fits could not be loaded in as there are no matching spectra available\n",
      "  warnings.warn(\"{src} fit {f} could not be loaded in as there are no matching spectra \"\n",
      "/its/home/dt237/.conda/envs/xga_env/lib/python3.8/site-packages/xga/sources/base.py:940: UserWarning: G164.18-38.89 fit G164.18-38.89_ra44.726_dec13.56_ri0.03315075373638254_ro0.22100502490921697_grpTrue_mincnt5_constant*tbabs*apec.fits could not be loaded in as there are no matching spectra available\n",
      "  warnings.warn(\"{src} fit {f} could not be loaded in as there are no matching spectra \"\n",
      "/its/home/dt237/.conda/envs/xga_env/lib/python3.8/site-packages/xga/sources/base.py:940: UserWarning: G164.18-38.89 fit G164.18-38.89_ra44.740717630253435_dec13.587693396258224_ri0.10391658263232947_ro0.10995824441327887_grpTrue_mincnt5_ident20760763_17_constant*tbabs*apec.fits could not be loaded in as there are no matching spectra available\n",
      "  warnings.warn(\"{src} fit {f} could not be loaded in as there are no matching spectra \"\n",
      "/its/home/dt237/.conda/envs/xga_env/lib/python3.8/site-packages/xga/sources/base.py:940: UserWarning: G164.18-38.89 fit G164.18-38.89_ra44.726_dec13.56_ri0.04229165197183396_ro0.048333316539238814_grpTrue_mincnt5_ident40542796_7_constant*tbabs*apec.fits could not be loaded in as there are no matching spectra available\n",
      "  warnings.warn(\"{src} fit {f} could not be loaded in as there are no matching spectra \"\n",
      "/its/home/dt237/.conda/envs/xga_env/lib/python3.8/site-packages/xga/sources/base.py:940: UserWarning: G164.18-38.89 fit G164.18-38.89_ra44.726_dec13.56_ri0.1341249533963877_ro0.14016661796379254_grpTrue_mincnt5_ident40542796_22_constant*tbabs*apec.fits could not be loaded in as there are no matching spectra available\n",
      "  warnings.warn(\"{src} fit {f} could not be loaded in as there are no matching spectra \"\n",
      "/its/home/dt237/.conda/envs/xga_env/lib/python3.8/site-packages/xga/sources/base.py:940: UserWarning: G164.18-38.89 fit G164.18-38.89_ra44.726_dec13.56_ri0.0_ro0.22100502490921697_grpTrue_mincnt5_constant*tbabs*apec.fits could not be loaded in as there are no matching spectra available\n",
      "  warnings.warn(\"{src} fit {f} could not be loaded in as there are no matching spectra \"\n",
      "/its/home/dt237/.conda/envs/xga_env/lib/python3.8/site-packages/xga/sources/base.py:940: UserWarning: G164.18-38.89 fit G164.18-38.89_ra44.726_dec13.56_ri0.09787496599195859_ro0.10391663055936344_grpTrue_mincnt5_ident83707019_16_constant*tbabs*apec.fits could not be loaded in as there are no matching spectra available\n",
      "  warnings.warn(\"{src} fit {f} could not be loaded in as there are no matching spectra \"\n",
      "/its/home/dt237/.conda/envs/xga_env/lib/python3.8/site-packages/xga/sources/base.py:940: UserWarning: G164.18-38.89 fit G164.18-38.89_ra44.740717630253435_dec13.587693396258224_ri0.054374956028544495_ro0.06041661780949389_grpTrue_mincnt5_ident20760763_9_constant*tbabs*apec.fits could not be loaded in as there are no matching spectra available\n",
      "  warnings.warn(\"{src} fit {f} could not be loaded in as there are no matching spectra \"\n",
      "/its/home/dt237/.conda/envs/xga_env/lib/python3.8/site-packages/xga/sources/base.py:940: UserWarning: G164.18-38.89 fit G164.18-38.89_ra44.726_dec13.56_ri0.04229165197183396_ro0.048333316539238814_grpTrue_mincnt5_ident83707019_7_constant*tbabs*apec.fits could not be loaded in as there are no matching spectra available\n",
      "  warnings.warn(\"{src} fit {f} could not be loaded in as there are no matching spectra \"\n",
      "/its/home/dt237/.conda/envs/xga_env/lib/python3.8/site-packages/xga/sources/base.py:940: UserWarning: G164.18-38.89 fit G164.18-38.89_ra44.740717630253435_dec13.587693396258224_ri0.0918332590704307_ro0.09787492085138008_grpTrue_mincnt5_ident20760763_15_constant*tbabs*apec.fits could not be loaded in as there are no matching spectra available\n",
      "  warnings.warn(\"{src} fit {f} could not be loaded in as there are no matching spectra \"\n",
      "/its/home/dt237/.conda/envs/xga_env/lib/python3.8/site-packages/xga/sources/base.py:940: UserWarning: G164.18-38.89 fit G164.18-38.89_ra44.726_dec13.56_ri0.20783326111872688_ro0.21991659025353658_grpTrue_mincnt5_ident40542796_30_constant*tbabs*apec.fits could not be loaded in as there are no matching spectra available\n",
      "  warnings.warn(\"{src} fit {f} could not be loaded in as there are no matching spectra \"\n",
      "/its/home/dt237/.conda/envs/xga_env/lib/python3.8/site-packages/xga/sources/base.py:940: UserWarning: G164.18-38.89 fit G164.18-38.89_ra44.726_dec13.56_ri0.006041664567404852_ro0.012083329134809704_grpTrue_mincnt5_ident83707019_1_constant*tbabs*apec.fits could not be loaded in as there are no matching spectra available\n",
      "  warnings.warn(\"{src} fit {f} could not be loaded in as there are no matching spectra \"\n",
      "/its/home/dt237/.conda/envs/xga_env/lib/python3.8/site-packages/xga/sources/base.py:940: UserWarning: G164.18-38.89 fit G164.18-38.89_ra44.740717630253435_dec13.587693396258224_ri0.20179150348370956_ro0.20783316526465895_grpTrue_mincnt5_ident20760763_33_constant*tbabs*apec.fits could not be loaded in as there are no matching spectra available\n",
      "  warnings.warn(\"{src} fit {f} could not be loaded in as there are no matching spectra \"\n",
      "/its/home/dt237/.conda/envs/xga_env/lib/python3.8/site-packages/xga/sources/base.py:940: UserWarning: G164.18-38.89 fit G164.18-38.89_ra44.726_dec13.56_ri0.17158327371429777_ro0.18366660284910746_grpTrue_mincnt5_ident40542796_27_constant*tbabs*apec.fits could not be loaded in as there are no matching spectra available\n",
      "  warnings.warn(\"{src} fit {f} could not be loaded in as there are no matching spectra \"\n",
      "/its/home/dt237/.conda/envs/xga_env/lib/python3.8/site-packages/xga/sources/base.py:940: UserWarning: G164.18-38.89 fit G164.18-38.89_ra44.740717630253435_dec13.587693396258224_ri0.0_ro0.006041661780949388_grpTrue_mincnt5_ident20760763_0_constant*tbabs*apec.fits could not be loaded in as there are no matching spectra available\n",
      "  warnings.warn(\"{src} fit {f} could not be loaded in as there are no matching spectra \"\n",
      "/its/home/dt237/.conda/envs/xga_env/lib/python3.8/site-packages/xga/sources/base.py:940: UserWarning: G164.18-38.89 fit G164.18-38.89_ra44.726_dec13.56_ri0.16554160914689292_ro0.17158327371429777_grpTrue_mincnt5_ident83707019_27_constant*tbabs*apec.fits could not be loaded in as there are no matching spectra available\n",
      "  warnings.warn(\"{src} fit {f} could not be loaded in as there are no matching spectra \"\n",
      "/its/home/dt237/.conda/envs/xga_env/lib/python3.8/site-packages/xga/sources/base.py:940: UserWarning: G164.18-38.89 fit G164.18-38.89_ra44.740717630253435_dec13.587693396258224_ri0.16554153279801323_ro0.17158319457896262_grpTrue_mincnt5_ident20760763_27_constant*tbabs*apec.fits could not be loaded in as there are no matching spectra available\n",
      "  warnings.warn(\"{src} fit {f} could not be loaded in as there are no matching spectra \"\n",
      "/its/home/dt237/.conda/envs/xga_env/lib/python3.8/site-packages/xga/sources/base.py:940: UserWarning: G164.18-38.89 fit G164.18-38.89_ra44.726_dec13.56_ri0.07370830772233919_ro0.07974997228974404_grpTrue_mincnt5_ident83707019_12_constant*tbabs*apec.fits could not be loaded in as there are no matching spectra available\n",
      "  warnings.warn(\"{src} fit {f} could not be loaded in as there are no matching spectra \"\n",
      "/its/home/dt237/.conda/envs/xga_env/lib/python3.8/site-packages/xga/sources/base.py:940: UserWarning: G164.18-38.89 fit G164.18-38.89_ra44.740717630253435_dec13.587693396258224_ri0.0797499355085319_ro0.08579159728948131_grpTrue_mincnt5_ident20760763_13_constant*tbabs*apec.fits could not be loaded in as there are no matching spectra available\n",
      "  warnings.warn(\"{src} fit {f} could not be loaded in as there are no matching spectra \"\n",
      "/its/home/dt237/.conda/envs/xga_env/lib/python3.8/site-packages/xga/sources/base.py:940: UserWarning: G164.18-38.89 fit G164.18-38.89_ra44.726_dec13.56_ri0.14016661796379254_ro0.14741661544467838_grpTrue_mincnt5_ident83707019_23_constant*tbabs*apec.fits could not be loaded in as there are no matching spectra available\n",
      "  warnings.warn(\"{src} fit {f} could not be loaded in as there are no matching spectra \"\n",
      "/its/home/dt237/.conda/envs/xga_env/lib/python3.8/site-packages/xga/sources/base.py:940: UserWarning: G164.18-38.89 fit G164.18-38.89_ra44.726_dec13.56_ri0.18366660284910746_ro0.19574993198391719_grpTrue_mincnt5_ident83707019_29_constant*tbabs*apec.fits could not be loaded in as there are no matching spectra available\n",
      "  warnings.warn(\"{src} fit {f} could not be loaded in as there are no matching spectra \"\n",
      "/its/home/dt237/.conda/envs/xga_env/lib/python3.8/site-packages/xga/sources/base.py:940: UserWarning: G164.18-38.89 fit G164.18-38.89_ra44.740717630253435_dec13.587693396258224_ri0.17762485635991201_ro0.1836665181408614_grpTrue_mincnt5_ident20760763_29_constant*tbabs*apec.fits could not be loaded in as there are no matching spectra available\n",
      "  warnings.warn(\"{src} fit {f} could not be loaded in as there are no matching spectra \"\n",
      "/its/home/dt237/.conda/envs/xga_env/lib/python3.8/site-packages/xga/sources/base.py:940: UserWarning: G164.18-38.89 fit G164.18-38.89_ra44.726_dec13.56_ri0.09787496599195859_ro0.10391663055936344_grpTrue_mincnt5_ident40542796_16_constant*tbabs*apec.fits could not be loaded in as there are no matching spectra available\n",
      "  warnings.warn(\"{src} fit {f} could not be loaded in as there are no matching spectra \"\n",
      "/its/home/dt237/.conda/envs/xga_env/lib/python3.8/site-packages/xga/sources/base.py:940: UserWarning: G164.18-38.89 fit G164.18-38.89_ra44.740717630253435_dec13.587693396258224_ri0.02416664712379755_ro0.030208308904746944_grpTrue_mincnt5_ident20760763_4_constant*tbabs*apec.fits could not be loaded in as there are no matching spectra available\n",
      "  warnings.warn(\"{src} fit {f} could not be loaded in as there are no matching spectra \"\n",
      "/its/home/dt237/.conda/envs/xga_env/lib/python3.8/site-packages/xga/sources/base.py:940: UserWarning: G164.18-38.89 fit G164.18-38.89_ra44.740717630253435_dec13.587693396258224_ri0.21991648882655773_ro0.23320814474464638_grpTrue_mincnt5_ident20760763_35_constant*tbabs*apec.fits could not be loaded in as there are no matching spectra available\n",
      "  warnings.warn(\"{src} fit {f} could not be loaded in as there are no matching spectra \"\n",
      "/its/home/dt237/.conda/envs/xga_env/lib/python3.8/site-packages/xga/sources/base.py:940: UserWarning: G164.18-38.89 fit G164.18-38.89_ra44.726_dec13.56_ri0.018124993702214553_ro0.024166658269619407_grpTrue_mincnt5_ident83707019_3_constant*tbabs*apec.fits could not be loaded in as there are no matching spectra available\n",
      "  warnings.warn(\"{src} fit {f} could not be loaded in as there are no matching spectra \"\n",
      "/its/home/dt237/.conda/envs/xga_env/lib/python3.8/site-packages/xga/sources/base.py:940: UserWarning: G164.18-38.89 fit G164.18-38.89_ra44.726_dec13.56_ri0.05437498110664366_ro0.06041664567404851_grpTrue_mincnt5_ident40542796_9_constant*tbabs*apec.fits could not be loaded in as there are no matching spectra available\n",
      "  warnings.warn(\"{src} fit {f} could not be loaded in as there are no matching spectra \"\n",
      "/its/home/dt237/.conda/envs/xga_env/lib/python3.8/site-packages/xga/sources/base.py:940: UserWarning: G164.18-38.89 fit G164.18-38.89_ra44.740717630253435_dec13.587693396258224_ri0.1897081799218108_ro0.19574984170276016_grpTrue_mincnt5_ident20760763_31_constant*tbabs*apec.fits could not be loaded in as there are no matching spectra available\n",
      "  warnings.warn(\"{src} fit {f} could not be loaded in as there are no matching spectra \"\n",
      "/its/home/dt237/.conda/envs/xga_env/lib/python3.8/site-packages/xga/sources/base.py:940: UserWarning: G164.18-38.89 fit G164.18-38.89_ra44.726_dec13.56_ri0.07974997228974404_ro0.08579163685714888_grpTrue_mincnt5_ident40542796_13_constant*tbabs*apec.fits could not be loaded in as there are no matching spectra available\n",
      "  warnings.warn(\"{src} fit {f} could not be loaded in as there are no matching spectra \"\n",
      "/its/home/dt237/.conda/envs/xga_env/lib/python3.8/site-packages/xga/sources/base.py:940: UserWarning: G164.18-38.89 fit G164.18-38.89_ra44.726_dec13.56_ri0.14741661544467838_ro0.15345828001208323_grpTrue_mincnt5_ident83707019_24_constant*tbabs*apec.fits could not be loaded in as there are no matching spectra available\n",
      "  warnings.warn(\"{src} fit {f} could not be loaded in as there are no matching spectra \"\n",
      "/its/home/dt237/.conda/envs/xga_env/lib/python3.8/site-packages/xga/sources/base.py:940: UserWarning: G164.18-38.89 fit G164.18-38.89_ra44.726_dec13.56_ri0.1462082825311974_ro0.15224994709860226_grpTrue_mincnt5_ident40542796_24_constant*tbabs*apec.fits could not be loaded in as there are no matching spectra available\n",
      "  warnings.warn(\"{src} fit {f} could not be loaded in as there are no matching spectra \"\n",
      "/its/home/dt237/.conda/envs/xga_env/lib/python3.8/site-packages/xga/sources/base.py:940: UserWarning: G164.18-38.89 fit G164.18-38.89_ra44.726_dec13.56_ri0.036249987404429106_ro0.04229165197183396_grpTrue_mincnt5_ident40542796_6_constant*tbabs*apec.fits could not be loaded in as there are no matching spectra available\n",
      "  warnings.warn(\"{src} fit {f} could not be loaded in as there are no matching spectra \"\n"
     ]
    },
    {
     "name": "stderr",
     "output_type": "stream",
     "text": [
      "/its/home/dt237/.conda/envs/xga_env/lib/python3.8/site-packages/xga/sources/base.py:940: UserWarning: G164.18-38.89 fit G164.18-38.89_ra44.740717630253435_dec13.587693396258224_ri0.15224987687992458_ro0.1594998710170638_grpTrue_mincnt5_ident20760763_25_constant*tbabs*apec.fits could not be loaded in as there are no matching spectra available\n",
      "  warnings.warn(\"{src} fit {f} could not be loaded in as there are no matching spectra \"\n",
      "/its/home/dt237/.conda/envs/xga_env/lib/python3.8/site-packages/xga/sources/base.py:940: UserWarning: G164.18-38.89 fit G164.18-38.89_ra44.740717630253435_dec13.587693396258224_ri0.0_ro0.22100502490921697_grpTrue_mincnt5_constant*tbabs*apec.fits could not be loaded in as there are no matching spectra available\n",
      "  warnings.warn(\"{src} fit {f} could not be loaded in as there are no matching spectra \"\n",
      "/its/home/dt237/.conda/envs/xga_env/lib/python3.8/site-packages/xga/sources/base.py:940: UserWarning: G164.18-38.89 fit G164.18-38.89_ra44.726_dec13.56_ri0.10391663055936344_ro0.10995829512676829_grpTrue_mincnt5_ident40542796_17_constant*tbabs*apec.fits could not be loaded in as there are no matching spectra available\n",
      "  warnings.warn(\"{src} fit {f} could not be loaded in as there are no matching spectra \"\n",
      "/its/home/dt237/.conda/envs/xga_env/lib/python3.8/site-packages/xga/sources/base.py:940: UserWarning: G164.18-38.89 fit G164.18-38.89_ra44.740717630253435_dec13.587693396258224_ri0.07249994137139265_ro0.0797499355085319_grpTrue_mincnt5_ident20760763_12_constant*tbabs*apec.fits could not be loaded in as there are no matching spectra available\n",
      "  warnings.warn(\"{src} fit {f} could not be loaded in as there are no matching spectra \"\n",
      "/its/home/dt237/.conda/envs/xga_env/lib/python3.8/site-packages/xga/sources/base.py:940: UserWarning: G164.18-38.89 fit G164.18-38.89_ra44.726_dec13.56_ri0.036249987404429106_ro0.04229165197183396_grpTrue_mincnt5_ident83707019_6_constant*tbabs*apec.fits could not be loaded in as there are no matching spectra available\n",
      "  warnings.warn(\"{src} fit {f} could not be loaded in as there are no matching spectra \"\n",
      "/its/home/dt237/.conda/envs/xga_env/lib/python3.8/site-packages/xga/sources/base.py:940: UserWarning: G164.18-38.89 fit G164.18-38.89_ra44.726_dec13.56_ri0.10391663055936344_ro0.10995829512676829_grpTrue_mincnt5_ident83707019_17_constant*tbabs*apec.fits could not be loaded in as there are no matching spectra available\n",
      "  warnings.warn(\"{src} fit {f} could not be loaded in as there are no matching spectra \"\n",
      "/its/home/dt237/.conda/envs/xga_env/lib/python3.8/site-packages/xga/sources/base.py:940: UserWarning: G164.18-38.89 fit G164.18-38.89_ra44.726_dec13.56_ri0.07249997480885821_ro0.07974997228974404_grpTrue_mincnt5_ident40542796_12_constant*tbabs*apec.fits could not be loaded in as there are no matching spectra available\n",
      "  warnings.warn(\"{src} fit {f} could not be loaded in as there are no matching spectra \"\n",
      "/its/home/dt237/.conda/envs/xga_env/lib/python3.8/site-packages/xga/sources/base.py:940: UserWarning: G164.18-38.89 fit G164.18-38.89_ra44.740717630253435_dec13.587693396258224_ri0.17158319457896262_ro0.17762485635991201_grpTrue_mincnt5_ident20760763_28_constant*tbabs*apec.fits could not be loaded in as there are no matching spectra available\n",
      "  warnings.warn(\"{src} fit {f} could not be loaded in as there are no matching spectra \"\n",
      "/its/home/dt237/.conda/envs/xga_env/lib/python3.8/site-packages/xga/sources/base.py:940: UserWarning: G164.18-38.89 fit G164.18-38.89_ra44.740717630253435_dec13.587693396258224_ri0.11599990619422826_ro0.12204156797517764_grpTrue_mincnt5_ident20760763_19_constant*tbabs*apec.fits could not be loaded in as there are no matching spectra available\n",
      "  warnings.warn(\"{src} fit {f} could not be loaded in as there are no matching spectra \"\n",
      "/its/home/dt237/.conda/envs/xga_env/lib/python3.8/site-packages/xga/sources/base.py:940: UserWarning: G164.18-38.89 fit G164.18-38.89_ra44.726_dec13.56_ri0.12808328882898284_ro0.1341249533963877_grpTrue_mincnt5_ident83707019_21_constant*tbabs*apec.fits could not be loaded in as there are no matching spectra available\n",
      "  warnings.warn(\"{src} fit {f} could not be loaded in as there are no matching spectra \"\n",
      "/its/home/dt237/.conda/envs/xga_env/lib/python3.8/site-packages/xga/sources/base.py:940: UserWarning: G164.18-38.89 fit G164.18-38.89_ra44.726_dec13.56_ri0.21991659025353658_ro0.23320825230182726_grpTrue_mincnt5_ident40542796_31_constant*tbabs*apec.fits could not be loaded in as there are no matching spectra available\n",
      "  warnings.warn(\"{src} fit {f} could not be loaded in as there are no matching spectra \"\n",
      "/its/home/dt237/.conda/envs/xga_env/lib/python3.8/site-packages/xga/sources/base.py:940: UserWarning: G164.18-38.89 fit G164.18-38.89_ra44.726_dec13.56_ri0.11599995969417315_ro0.122041624261578_grpTrue_mincnt5_ident40542796_19_constant*tbabs*apec.fits could not be loaded in as there are no matching spectra available\n",
      "  warnings.warn(\"{src} fit {f} could not be loaded in as there are no matching spectra \"\n",
      "/its/home/dt237/.conda/envs/xga_env/lib/python3.8/site-packages/xga/sources/base.py:940: UserWarning: G164.18-38.89 fit G164.18-38.89_ra44.740717630253435_dec13.587693396258224_ri0.036249970685696326_ro0.04229163246664572_grpTrue_mincnt5_ident20760763_6_constant*tbabs*apec.fits could not be loaded in as there are no matching spectra available\n",
      "  warnings.warn(\"{src} fit {f} could not be loaded in as there are no matching spectra \"\n",
      "/its/home/dt237/.conda/envs/xga_env/lib/python3.8/site-packages/xga/sources/base.py:940: UserWarning: G164.18-38.89 fit G164.18-38.89_ra44.726_dec13.56_ri0.048333316539238814_ro0.05437498110664366_grpTrue_mincnt5_ident40542796_8_constant*tbabs*apec.fits could not be loaded in as there are no matching spectra available\n",
      "  warnings.warn(\"{src} fit {f} could not be loaded in as there are no matching spectra \"\n",
      "/its/home/dt237/.conda/envs/xga_env/lib/python3.8/site-packages/xga/sources/base.py:940: UserWarning: G164.18-38.89 fit G164.18-38.89_ra44.726_dec13.56_ri0.07974997228974404_ro0.08579163685714888_grpTrue_mincnt5_ident83707019_13_constant*tbabs*apec.fits could not be loaded in as there are no matching spectra available\n",
      "  warnings.warn(\"{src} fit {f} could not be loaded in as there are no matching spectra \"\n",
      "/its/home/dt237/.conda/envs/xga_env/lib/python3.8/site-packages/xga/sources/base.py:940: UserWarning: G164.18-38.89 fit G164.18-38.89_ra44.726_dec13.56_ri0.18366660284910746_ro0.19574993198391719_grpTrue_mincnt5_ident40542796_28_constant*tbabs*apec.fits could not be loaded in as there are no matching spectra available\n",
      "  warnings.warn(\"{src} fit {f} could not be loaded in as there are no matching spectra \"\n",
      "/its/home/dt237/.conda/envs/xga_env/lib/python3.8/site-packages/xga/sources/base.py:940: UserWarning: G164.18-38.89 fit G164.18-38.89_ra44.726_dec13.56_ri0.06645831024145336_ro0.07249997480885821_grpTrue_mincnt5_ident40542796_11_constant*tbabs*apec.fits could not be loaded in as there are no matching spectra available\n",
      "  warnings.warn(\"{src} fit {f} could not be loaded in as there are no matching spectra \"\n",
      "/its/home/dt237/.conda/envs/xga_env/lib/python3.8/site-packages/xga/sources/base.py:940: UserWarning: G164.18-38.89 fit G164.18-38.89_ra44.726_dec13.56_ri0.10995829512676829_ro0.11599995969417315_grpTrue_mincnt5_ident40542796_18_constant*tbabs*apec.fits could not be loaded in as there are no matching spectra available\n",
      "  warnings.warn(\"{src} fit {f} could not be loaded in as there are no matching spectra \"\n",
      "/its/home/dt237/.conda/envs/xga_env/lib/python3.8/site-packages/xga/sources/base.py:940: UserWarning: G164.18-38.89 fit G164.18-38.89_ra44.726_dec13.56_ri0.15949994457948807_ro0.17158327371429777_grpTrue_mincnt5_ident40542796_26_constant*tbabs*apec.fits could not be loaded in as there are no matching spectra available\n",
      "  warnings.warn(\"{src} fit {f} could not be loaded in as there are no matching spectra \"\n",
      "/its/home/dt237/.conda/envs/xga_env/lib/python3.8/site-packages/xga/sources/base.py:963: UserWarning: A previous annular spectra profile fit for G164.18-38.89 was not successful, or no matching spectrum has been loaded, so it cannot be read in\n",
      "  warnings.warn(\"A previous annular spectra profile fit for {src} was not successful, or no \"\n",
      "/its/home/dt237/.conda/envs/xga_env/lib/python3.8/site-packages/xga/sources/base.py:2437: UserWarning: Existing fit for G164.18-38.89 could not be loaded due to a mismatch in available data\n",
      "  self._existing_xga_products(self._load_fits)\n"
     ]
    },
    {
     "name": "stderr",
     "output_type": "stream",
     "text": [
      "Setting up Galaxy Clusters:  41%|█████████████████▉                          | 49/120 [09:29<11:21,  9.60s/it]/its/home/dt237/.conda/envs/xga_env/lib/python3.8/site-packages/xga/sources/base.py:963: UserWarning: A previous annular spectra profile fit for G166.13+43.39 was not successful, or no matching spectrum has been loaded, so it cannot be read in\n",
      "  warnings.warn(\"A previous annular spectra profile fit for {src} was not successful, or no \"\n",
      "Setting up Galaxy Clusters:  42%|██████████████████▋                         | 51/120 [09:43<09:28,  8.24s/it]/its/home/dt237/.conda/envs/xga_env/lib/python3.8/site-packages/xga/sources/base.py:963: UserWarning: A previous annular spectra profile fit for G171.94-40.65 was not successful, or no matching spectrum has been loaded, so it cannot be read in\n",
      "  warnings.warn(\"A previous annular spectra profile fit for {src} was not successful, or no \"\n",
      "Setting up Galaxy Clusters:  44%|███████████████████▍                        | 53/120 [10:00<09:50,  8.82s/it]/its/home/dt237/.conda/envs/xga_env/lib/python3.8/site-packages/xga/sources/base.py:963: UserWarning: A previous annular spectra profile fit for G182.44-28.29 was not successful, or no matching spectrum has been loaded, so it cannot be read in\n",
      "  warnings.warn(\"A previous annular spectra profile fit for {src} was not successful, or no \"\n",
      "/its/home/dt237/.conda/envs/xga_env/lib/python3.8/site-packages/xga/sources/general.py:124: UserWarning: G182.44-28.29 has not been detected in all region files, so generating and fitting products with the 'region' reg_type will not use all available data\n",
      "  warnings.warn(\"{n} has not been detected in all region files, so generating and fitting products\"\n",
      "/its/home/dt237/.conda/envs/xga_env/lib/python3.8/site-packages/xga/sources/base.py:963: UserWarning: A previous annular spectra profile fit for G182.44-28.29 was not successful, or no matching spectrum has been loaded, so it cannot be read in\n",
      "  warnings.warn(\"A previous annular spectra profile fit for {src} was not successful, or no \"\n",
      "Setting up Galaxy Clusters:  45%|███████████████████▊                        | 54/120 [10:12<10:40,  9.71s/it]/its/home/dt237/.conda/envs/xga_env/lib/python3.8/site-packages/xga/sources/base.py:963: UserWarning: A previous annular spectra profile fit for G182.63+55.82 was not successful, or no matching spectrum has been loaded, so it cannot be read in\n",
      "  warnings.warn(\"A previous annular spectra profile fit for {src} was not successful, or no \"\n",
      "Setting up Galaxy Clusters:  47%|████████████████████▌                       | 56/120 [10:23<08:11,  7.69s/it]/its/home/dt237/.conda/envs/xga_env/lib/python3.8/site-packages/xga/sources/general.py:124: UserWarning: G195.62+44.05 has not been detected in all region files, so generating and fitting products with the 'region' reg_type will not use all available data\n",
      "  warnings.warn(\"{n} has not been detected in all region files, so generating and fitting products\"\n",
      "Setting up Galaxy Clusters:  50%|██████████████████████                      | 60/120 [11:02<08:06,  8.11s/it]/its/home/dt237/.conda/envs/xga_env/lib/python3.8/site-packages/xga/sources/base.py:794: UserWarning: G226.17-21.91 spectrum /mnt/lustre/projects/astro/general/dt237/mass_papers/XCS-Mass-Paper-I-Analysis/xga_output/0675470101/0675470101_mos2_G226.17-21.91_ra88.262_dec-21.062_ri0.0483332993719956_ro0.05437496179349506_grpTrue_mincnt5_ident72837747_6_spec.fits cannot be loaded in due to a mismatch in available ancillary files\n",
      "  warnings.warn(\"{src} spectrum {sp} cannot be loaded in due to a mismatch in available\"\n",
      "Setting up Galaxy Clusters:  51%|██████████████████████▎                     | 61/120 [11:17<10:04, 10.25s/it]/its/home/dt237/.conda/envs/xga_env/lib/python3.8/site-packages/xga/sources/base.py:794: UserWarning: G226.24+76.76 spectrum /mnt/lustre/projects/astro/general/dt237/mass_papers/XCS-Mass-Paper-I-Analysis/xga_output/0551280201/0551280201_mos2_G226.24x76.76_ra178.812_dec23.387_ri0.0_ro0.16191659058688912_grpTrue_mincnt5_spec.fits cannot be loaded in due to a mismatch in available ancillary files\n",
      "  warnings.warn(\"{src} spectrum {sp} cannot be loaded in due to a mismatch in available\"\n",
      "/its/home/dt237/.conda/envs/xga_env/lib/python3.8/site-packages/xga/sources/base.py:794: UserWarning: G226.24+76.76 spectrum /mnt/lustre/projects/astro/general/dt237/mass_papers/XCS-Mass-Paper-I-Analysis/xga_output/0551280201/0551280201_pn_G226.24x76.76_ra178.812_dec23.387_ri0.0_ro0.16191659058688912_grpTrue_mincnt5_spec.fits cannot be loaded in due to a mismatch in available ancillary files\n",
      "  warnings.warn(\"{src} spectrum {sp} cannot be loaded in due to a mismatch in available\"\n",
      "/its/home/dt237/.conda/envs/xga_env/lib/python3.8/site-packages/xga/sources/base.py:794: UserWarning: G226.24+76.76 spectrum /mnt/lustre/projects/astro/general/dt237/mass_papers/XCS-Mass-Paper-I-Analysis/xga_output/0551280201/0551280201_pn_G226.24x76.76_ra178.812_dec23.387_ri0.0_ro0.1752082510082009_grpTrue_mincnt5_spec.fits cannot be loaded in due to a mismatch in available ancillary files\n",
      "  warnings.warn(\"{src} spectrum {sp} cannot be loaded in due to a mismatch in available\"\n",
      "/its/home/dt237/.conda/envs/xga_env/lib/python3.8/site-packages/xga/sources/base.py:794: UserWarning: G226.24+76.76 spectrum /mnt/lustre/projects/astro/general/dt237/mass_papers/XCS-Mass-Paper-I-Analysis/xga_output/0551280201/0551280201_mos1_G226.24x76.76_ra178.812_dec23.387_ri0.0_ro0.16191659058688912_grpTrue_mincnt5_spec.fits cannot be loaded in due to a mismatch in available ancillary files\n",
      "  warnings.warn(\"{src} spectrum {sp} cannot be loaded in due to a mismatch in available\"\n",
      "/its/home/dt237/.conda/envs/xga_env/lib/python3.8/site-packages/xga/sources/base.py:794: UserWarning: G226.24+76.76 spectrum /mnt/lustre/projects/astro/general/dt237/mass_papers/XCS-Mass-Paper-I-Analysis/xga_output/0551280201/0551280201_mos1_G226.24x76.76_ra178.812_dec23.387_ri0.0_ro0.1752082510082009_grpTrue_mincnt5_spec.fits cannot be loaded in due to a mismatch in available ancillary files\n",
      "  warnings.warn(\"{src} spectrum {sp} cannot be loaded in due to a mismatch in available\"\n",
      "/its/home/dt237/.conda/envs/xga_env/lib/python3.8/site-packages/xga/sources/base.py:794: UserWarning: G226.24+76.76 spectrum /mnt/lustre/projects/astro/general/dt237/mass_papers/XCS-Mass-Paper-I-Analysis/xga_output/0551280201/0551280201_mos2_G226.24x76.76_ra178.812_dec23.387_ri0.0_ro0.1752082510082009_grpTrue_mincnt5_spec.fits cannot be loaded in due to a mismatch in available ancillary files\n",
      "  warnings.warn(\"{src} spectrum {sp} cannot be loaded in due to a mismatch in available\"\n",
      "/its/home/dt237/.conda/envs/xga_env/lib/python3.8/site-packages/xga/sources/base.py:794: UserWarning: G226.24+76.76 spectrum /mnt/lustre/projects/astro/general/dt237/mass_papers/XCS-Mass-Paper-I-Analysis/xga_output/0502690201/0502690201_mos2_G226.24x76.76_ra178.812_dec23.387_ri0.0_ro0.16191659058688912_grpTrue_mincnt5_spec.fits cannot be loaded in due to a mismatch in available ancillary files\n",
      "  warnings.warn(\"{src} spectrum {sp} cannot be loaded in due to a mismatch in available\"\n",
      "/its/home/dt237/.conda/envs/xga_env/lib/python3.8/site-packages/xga/sources/base.py:794: UserWarning: G226.24+76.76 spectrum /mnt/lustre/projects/astro/general/dt237/mass_papers/XCS-Mass-Paper-I-Analysis/xga_output/0502690201/0502690201_mos2_G226.24x76.76_ra178.812_dec23.387_ri0.0_ro0.1752082510082009_grpTrue_mincnt5_spec.fits cannot be loaded in due to a mismatch in available ancillary files\n",
      "  warnings.warn(\"{src} spectrum {sp} cannot be loaded in due to a mismatch in available\"\n",
      "/its/home/dt237/.conda/envs/xga_env/lib/python3.8/site-packages/xga/sources/base.py:794: UserWarning: G226.24+76.76 spectrum /mnt/lustre/projects/astro/general/dt237/mass_papers/XCS-Mass-Paper-I-Analysis/xga_output/0502690201/0502690201_pn_G226.24x76.76_ra178.812_dec23.387_ri0.0_ro0.16191659058688912_grpTrue_mincnt5_spec.fits cannot be loaded in due to a mismatch in available ancillary files\n",
      "  warnings.warn(\"{src} spectrum {sp} cannot be loaded in due to a mismatch in available\"\n",
      "/its/home/dt237/.conda/envs/xga_env/lib/python3.8/site-packages/xga/sources/base.py:794: UserWarning: G226.24+76.76 spectrum /mnt/lustre/projects/astro/general/dt237/mass_papers/XCS-Mass-Paper-I-Analysis/xga_output/0502690201/0502690201_pn_G226.24x76.76_ra178.812_dec23.387_ri0.0_ro0.1752082510082009_grpTrue_mincnt5_spec.fits cannot be loaded in due to a mismatch in available ancillary files\n",
      "  warnings.warn(\"{src} spectrum {sp} cannot be loaded in due to a mismatch in available\"\n",
      "/its/home/dt237/.conda/envs/xga_env/lib/python3.8/site-packages/xga/sources/base.py:794: UserWarning: G226.24+76.76 spectrum /mnt/lustre/projects/astro/general/dt237/mass_papers/XCS-Mass-Paper-I-Analysis/xga_output/0502690201/0502690201_mos1_G226.24x76.76_ra178.812_dec23.387_ri0.0_ro0.1752082510082009_grpTrue_mincnt5_spec.fits cannot be loaded in due to a mismatch in available ancillary files\n",
      "  warnings.warn(\"{src} spectrum {sp} cannot be loaded in due to a mismatch in available\"\n",
      "/its/home/dt237/.conda/envs/xga_env/lib/python3.8/site-packages/xga/sources/base.py:794: UserWarning: G226.24+76.76 spectrum /mnt/lustre/projects/astro/general/dt237/mass_papers/XCS-Mass-Paper-I-Analysis/xga_output/0502690201/0502690201_mos1_G226.24x76.76_ra178.812_dec23.387_ri0.0_ro0.16191659058688912_grpTrue_mincnt5_spec.fits cannot be loaded in due to a mismatch in available ancillary files\n",
      "  warnings.warn(\"{src} spectrum {sp} cannot be loaded in due to a mismatch in available\"\n"
     ]
    },
    {
     "name": "stderr",
     "output_type": "stream",
     "text": [
      "/its/home/dt237/.conda/envs/xga_env/lib/python3.8/site-packages/xga/sources/base.py:794: UserWarning: G226.24+76.76 spectrum /mnt/lustre/projects/astro/general/dt237/mass_papers/XCS-Mass-Paper-I-Analysis/xga_output/0551280101/0551280101_pn_G226.24x76.76_ra178.812_dec23.387_ri0.0_ro0.1752082510082009_grpTrue_mincnt5_spec.fits cannot be loaded in due to a mismatch in available ancillary files\n",
      "  warnings.warn(\"{src} spectrum {sp} cannot be loaded in due to a mismatch in available\"\n",
      "/its/home/dt237/.conda/envs/xga_env/lib/python3.8/site-packages/xga/sources/base.py:794: UserWarning: G226.24+76.76 spectrum /mnt/lustre/projects/astro/general/dt237/mass_papers/XCS-Mass-Paper-I-Analysis/xga_output/0551280101/0551280101_mos1_G226.24x76.76_ra178.812_dec23.387_ri0.0_ro0.16191659058688912_grpTrue_mincnt5_spec.fits cannot be loaded in due to a mismatch in available ancillary files\n",
      "  warnings.warn(\"{src} spectrum {sp} cannot be loaded in due to a mismatch in available\"\n",
      "/its/home/dt237/.conda/envs/xga_env/lib/python3.8/site-packages/xga/sources/base.py:794: UserWarning: G226.24+76.76 spectrum /mnt/lustre/projects/astro/general/dt237/mass_papers/XCS-Mass-Paper-I-Analysis/xga_output/0551280101/0551280101_pn_G226.24x76.76_ra178.812_dec23.387_ri0.0_ro0.16191659058688912_grpTrue_mincnt5_spec.fits cannot be loaded in due to a mismatch in available ancillary files\n",
      "  warnings.warn(\"{src} spectrum {sp} cannot be loaded in due to a mismatch in available\"\n",
      "/its/home/dt237/.conda/envs/xga_env/lib/python3.8/site-packages/xga/sources/base.py:794: UserWarning: G226.24+76.76 spectrum /mnt/lustre/projects/astro/general/dt237/mass_papers/XCS-Mass-Paper-I-Analysis/xga_output/0551280101/0551280101_mos2_G226.24x76.76_ra178.812_dec23.387_ri0.0_ro0.1752082510082009_grpTrue_mincnt5_spec.fits cannot be loaded in due to a mismatch in available ancillary files\n",
      "  warnings.warn(\"{src} spectrum {sp} cannot be loaded in due to a mismatch in available\"\n",
      "/its/home/dt237/.conda/envs/xga_env/lib/python3.8/site-packages/xga/sources/base.py:794: UserWarning: G226.24+76.76 spectrum /mnt/lustre/projects/astro/general/dt237/mass_papers/XCS-Mass-Paper-I-Analysis/xga_output/0551280101/0551280101_mos1_G226.24x76.76_ra178.812_dec23.387_ri0.0_ro0.1752082510082009_grpTrue_mincnt5_spec.fits cannot be loaded in due to a mismatch in available ancillary files\n",
      "  warnings.warn(\"{src} spectrum {sp} cannot be loaded in due to a mismatch in available\"\n",
      "/its/home/dt237/.conda/envs/xga_env/lib/python3.8/site-packages/xga/sources/base.py:794: UserWarning: G226.24+76.76 spectrum /mnt/lustre/projects/astro/general/dt237/mass_papers/XCS-Mass-Paper-I-Analysis/xga_output/0551280101/0551280101_mos2_G226.24x76.76_ra178.812_dec23.387_ri0.0_ro0.16191659058688912_grpTrue_mincnt5_spec.fits cannot be loaded in due to a mismatch in available ancillary files\n",
      "  warnings.warn(\"{src} spectrum {sp} cannot be loaded in due to a mismatch in available\"\n",
      "/its/home/dt237/.conda/envs/xga_env/lib/python3.8/site-packages/xga/sources/base.py:794: UserWarning: G226.24+76.76 spectrum /mnt/lustre/projects/astro/general/dt237/mass_papers/XCS-Mass-Paper-I-Analysis/xga_output/0502690101/0502690101_mos1_G226.24x76.76_ra178.812_dec23.387_ri0.0_ro0.1752082510082009_grpTrue_mincnt5_spec.fits cannot be loaded in due to a mismatch in available ancillary files\n",
      "  warnings.warn(\"{src} spectrum {sp} cannot be loaded in due to a mismatch in available\"\n",
      "/its/home/dt237/.conda/envs/xga_env/lib/python3.8/site-packages/xga/sources/base.py:794: UserWarning: G226.24+76.76 spectrum /mnt/lustre/projects/astro/general/dt237/mass_papers/XCS-Mass-Paper-I-Analysis/xga_output/0502690101/0502690101_mos1_G226.24x76.76_ra178.812_dec23.387_ri0.0_ro0.16191659058688912_grpTrue_mincnt5_spec.fits cannot be loaded in due to a mismatch in available ancillary files\n",
      "  warnings.warn(\"{src} spectrum {sp} cannot be loaded in due to a mismatch in available\"\n",
      "/its/home/dt237/.conda/envs/xga_env/lib/python3.8/site-packages/xga/sources/base.py:794: UserWarning: G226.24+76.76 spectrum /mnt/lustre/projects/astro/general/dt237/mass_papers/XCS-Mass-Paper-I-Analysis/xga_output/0502690101/0502690101_pn_G226.24x76.76_ra178.812_dec23.387_ri0.0_ro0.16191659058688912_grpTrue_mincnt5_spec.fits cannot be loaded in due to a mismatch in available ancillary files\n",
      "  warnings.warn(\"{src} spectrum {sp} cannot be loaded in due to a mismatch in available\"\n",
      "/its/home/dt237/.conda/envs/xga_env/lib/python3.8/site-packages/xga/sources/base.py:794: UserWarning: G226.24+76.76 spectrum /mnt/lustre/projects/astro/general/dt237/mass_papers/XCS-Mass-Paper-I-Analysis/xga_output/0502690101/0502690101_pn_G226.24x76.76_ra178.812_dec23.387_ri0.0_ro0.1752082510082009_grpTrue_mincnt5_spec.fits cannot be loaded in due to a mismatch in available ancillary files\n",
      "  warnings.warn(\"{src} spectrum {sp} cannot be loaded in due to a mismatch in available\"\n",
      "/its/home/dt237/.conda/envs/xga_env/lib/python3.8/site-packages/xga/sources/base.py:794: UserWarning: G226.24+76.76 spectrum /mnt/lustre/projects/astro/general/dt237/mass_papers/XCS-Mass-Paper-I-Analysis/xga_output/0502690101/0502690101_mos2_G226.24x76.76_ra178.812_dec23.387_ri0.0_ro0.1752082510082009_grpTrue_mincnt5_spec.fits cannot be loaded in due to a mismatch in available ancillary files\n",
      "  warnings.warn(\"{src} spectrum {sp} cannot be loaded in due to a mismatch in available\"\n",
      "/its/home/dt237/.conda/envs/xga_env/lib/python3.8/site-packages/xga/sources/base.py:794: UserWarning: G226.24+76.76 spectrum /mnt/lustre/projects/astro/general/dt237/mass_papers/XCS-Mass-Paper-I-Analysis/xga_output/0502690101/0502690101_mos2_G226.24x76.76_ra178.812_dec23.387_ri0.0_ro0.16191659058688912_grpTrue_mincnt5_spec.fits cannot be loaded in due to a mismatch in available ancillary files\n",
      "  warnings.warn(\"{src} spectrum {sp} cannot be loaded in due to a mismatch in available\"\n",
      "/its/home/dt237/.conda/envs/xga_env/lib/python3.8/site-packages/xga/sources/base.py:794: UserWarning: G226.24+76.76 spectrum /mnt/lustre/projects/astro/general/dt237/mass_papers/XCS-Mass-Paper-I-Analysis/xga_output/0112230501/0112230501_mos2_G226.24x76.76_ra178.812_dec23.387_ri0.0_ro0.1752082510082009_grpTrue_mincnt5_spec.fits cannot be loaded in due to a mismatch in available ancillary files\n",
      "  warnings.warn(\"{src} spectrum {sp} cannot be loaded in due to a mismatch in available\"\n",
      "/its/home/dt237/.conda/envs/xga_env/lib/python3.8/site-packages/xga/sources/base.py:794: UserWarning: G226.24+76.76 spectrum /mnt/lustre/projects/astro/general/dt237/mass_papers/XCS-Mass-Paper-I-Analysis/xga_output/0112230501/0112230501_pn_G226.24x76.76_ra178.812_dec23.387_ri0.0_ro0.1752082510082009_grpTrue_mincnt5_spec.fits cannot be loaded in due to a mismatch in available ancillary files\n",
      "  warnings.warn(\"{src} spectrum {sp} cannot be loaded in due to a mismatch in available\"\n",
      "/its/home/dt237/.conda/envs/xga_env/lib/python3.8/site-packages/xga/sources/base.py:794: UserWarning: G226.24+76.76 spectrum /mnt/lustre/projects/astro/general/dt237/mass_papers/XCS-Mass-Paper-I-Analysis/xga_output/0112230501/0112230501_mos1_G226.24x76.76_ra178.812_dec23.387_ri0.0_ro0.16191659058688912_grpTrue_mincnt5_spec.fits cannot be loaded in due to a mismatch in available ancillary files\n",
      "  warnings.warn(\"{src} spectrum {sp} cannot be loaded in due to a mismatch in available\"\n",
      "/its/home/dt237/.conda/envs/xga_env/lib/python3.8/site-packages/xga/sources/base.py:794: UserWarning: G226.24+76.76 spectrum /mnt/lustre/projects/astro/general/dt237/mass_papers/XCS-Mass-Paper-I-Analysis/xga_output/0112230501/0112230501_mos2_G226.24x76.76_ra178.812_dec23.387_ri0.0_ro0.16191659058688912_grpTrue_mincnt5_spec.fits cannot be loaded in due to a mismatch in available ancillary files\n",
      "  warnings.warn(\"{src} spectrum {sp} cannot be loaded in due to a mismatch in available\"\n",
      "/its/home/dt237/.conda/envs/xga_env/lib/python3.8/site-packages/xga/sources/base.py:794: UserWarning: G226.24+76.76 spectrum /mnt/lustre/projects/astro/general/dt237/mass_papers/XCS-Mass-Paper-I-Analysis/xga_output/0112230501/0112230501_pn_G226.24x76.76_ra178.812_dec23.387_ri0.0_ro0.16191659058688912_grpTrue_mincnt5_spec.fits cannot be loaded in due to a mismatch in available ancillary files\n",
      "  warnings.warn(\"{src} spectrum {sp} cannot be loaded in due to a mismatch in available\"\n",
      "/its/home/dt237/.conda/envs/xga_env/lib/python3.8/site-packages/xga/sources/base.py:794: UserWarning: G226.24+76.76 spectrum /mnt/lustre/projects/astro/general/dt237/mass_papers/XCS-Mass-Paper-I-Analysis/xga_output/0112230501/0112230501_mos1_G226.24x76.76_ra178.812_dec23.387_ri0.0_ro0.1752082510082009_grpTrue_mincnt5_spec.fits cannot be loaded in due to a mismatch in available ancillary files\n",
      "  warnings.warn(\"{src} spectrum {sp} cannot be loaded in due to a mismatch in available\"\n"
     ]
    },
    {
     "name": "stderr",
     "output_type": "stream",
     "text": [
      "Setting up Galaxy Clusters:  52%|███████████████████████                     | 63/120 [11:57<13:13, 13.93s/it]/its/home/dt237/.conda/envs/xga_env/lib/python3.8/site-packages/xga/sources/base.py:963: UserWarning: A previous annular spectra profile fit for G228.49+53.12 was not successful, or no matching spectrum has been loaded, so it cannot be read in\n",
      "  warnings.warn(\"A previous annular spectra profile fit for {src} was not successful, or no \"\n",
      "Setting up Galaxy Clusters:  54%|███████████████████████▊                    | 65/120 [12:10<09:19, 10.16s/it]/its/home/dt237/.conda/envs/xga_env/lib/python3.8/site-packages/xga/sources/general.py:124: UserWarning: G229.94+15.29 has not been detected in all region files, so generating and fitting products with the 'region' reg_type will not use all available data\n",
      "  warnings.warn(\"{n} has not been detected in all region files, so generating and fitting products\"\n",
      "Setting up Galaxy Clusters:  58%|█████████████████████████▋                  | 70/120 [12:52<07:02,  8.46s/it]/its/home/dt237/.conda/envs/xga_env/lib/python3.8/site-packages/xga/sources/base.py:963: UserWarning: A previous annular spectra profile fit for G244.34-32.13 was not successful, or no matching spectrum has been loaded, so it cannot be read in\n",
      "  warnings.warn(\"A previous annular spectra profile fit for {src} was not successful, or no \"\n",
      "Setting up Galaxy Clusters:  62%|███████████████████████████▏                | 74/120 [13:16<05:04,  6.62s/it]/its/home/dt237/.conda/envs/xga_env/lib/python3.8/site-packages/xga/sources/general.py:124: UserWarning: G250.90-36.25 has not been detected in all region files, so generating and fitting products with the 'region' reg_type will not use all available data\n",
      "  warnings.warn(\"{n} has not been detected in all region files, so generating and fitting products\"\n",
      "Setting up Galaxy Clusters:  62%|███████████████████████████▌                | 75/120 [13:26<05:44,  7.65s/it]/its/home/dt237/.conda/envs/xga_env/lib/python3.8/site-packages/xga/sources/base.py:794: UserWarning: G252.96-56.05 spectrum /mnt/lustre/projects/astro/general/dt237/mass_papers/XCS-Mass-Paper-I-Analysis/xga_output/0603050201/0603050201_mos1_G252.96-56.05_ra49.515_dec-44.263_ri0.0_ro0.2561665126045533_grpTrue_mincnt5_spec.fits cannot be loaded in due to a mismatch in available ancillary files\n",
      "  warnings.warn(\"{src} spectrum {sp} cannot be loaded in due to a mismatch in available\"\n",
      "/its/home/dt237/.conda/envs/xga_env/lib/python3.8/site-packages/xga/sources/base.py:794: UserWarning: G252.96-56.05 spectrum /mnt/lustre/projects/astro/general/dt237/mass_papers/XCS-Mass-Paper-I-Analysis/xga_output/0603050201/0603050201_pn_G252.96-56.05_ra49.515_dec-44.263_ri0.0_ro0.2561665126045533_grpTrue_mincnt5_spec.fits cannot be loaded in due to a mismatch in available ancillary files\n",
      "  warnings.warn(\"{src} spectrum {sp} cannot be loaded in due to a mismatch in available\"\n",
      "/its/home/dt237/.conda/envs/xga_env/lib/python3.8/site-packages/xga/sources/base.py:794: UserWarning: G252.96-56.05 spectrum /mnt/lustre/projects/astro/general/dt237/mass_papers/XCS-Mass-Paper-I-Analysis/xga_output/0603050201/0603050201_mos2_G252.96-56.05_ra49.515_dec-44.263_ri0.0_ro0.2561665126045533_grpTrue_mincnt5_spec.fits cannot be loaded in due to a mismatch in available ancillary files\n",
      "  warnings.warn(\"{src} spectrum {sp} cannot be loaded in due to a mismatch in available\"\n",
      "/its/home/dt237/.conda/envs/xga_env/lib/python3.8/site-packages/xga/sources/base.py:794: UserWarning: G252.96-56.05 spectrum /mnt/lustre/projects/astro/general/dt237/mass_papers/XCS-Mass-Paper-I-Analysis/xga_output/0603050101/0603050101_mos1_G252.96-56.05_ra49.515_dec-44.263_ri0.0_ro0.2561665126045533_grpTrue_mincnt5_spec.fits cannot be loaded in due to a mismatch in available ancillary files\n",
      "  warnings.warn(\"{src} spectrum {sp} cannot be loaded in due to a mismatch in available\"\n",
      "/its/home/dt237/.conda/envs/xga_env/lib/python3.8/site-packages/xga/sources/base.py:794: UserWarning: G252.96-56.05 spectrum /mnt/lustre/projects/astro/general/dt237/mass_papers/XCS-Mass-Paper-I-Analysis/xga_output/0603050101/0603050101_pn_G252.96-56.05_ra49.515_dec-44.263_ri0.0_ro0.2561665126045533_grpTrue_mincnt5_spec.fits cannot be loaded in due to a mismatch in available ancillary files\n",
      "  warnings.warn(\"{src} spectrum {sp} cannot be loaded in due to a mismatch in available\"\n",
      "/its/home/dt237/.conda/envs/xga_env/lib/python3.8/site-packages/xga/sources/base.py:794: UserWarning: G252.96-56.05 spectrum /mnt/lustre/projects/astro/general/dt237/mass_papers/XCS-Mass-Paper-I-Analysis/xga_output/0603050101/0603050101_mos2_G252.96-56.05_ra49.515_dec-44.263_ri0.0_ro0.2561665126045533_grpTrue_mincnt5_spec.fits cannot be loaded in due to a mismatch in available ancillary files\n",
      "  warnings.warn(\"{src} spectrum {sp} cannot be loaded in due to a mismatch in available\"\n",
      "/its/home/dt237/.conda/envs/xga_env/lib/python3.8/site-packages/xga/sources/base.py:794: UserWarning: G252.96-56.05 spectrum /mnt/lustre/projects/astro/general/dt237/mass_papers/XCS-Mass-Paper-I-Analysis/xga_output/0105660101/0105660101_pn_G252.96-56.05_ra49.515_dec-44.263_ri0.0_ro0.2561665126045533_grpTrue_mincnt5_spec.fits cannot be loaded in due to a mismatch in available ancillary files\n",
      "  warnings.warn(\"{src} spectrum {sp} cannot be loaded in due to a mismatch in available\"\n",
      "/its/home/dt237/.conda/envs/xga_env/lib/python3.8/site-packages/xga/sources/base.py:794: UserWarning: G252.96-56.05 spectrum /mnt/lustre/projects/astro/general/dt237/mass_papers/XCS-Mass-Paper-I-Analysis/xga_output/0105660101/0105660101_mos2_G252.96-56.05_ra49.515_dec-44.263_ri0.0_ro0.2561665126045533_grpTrue_mincnt5_spec.fits cannot be loaded in due to a mismatch in available ancillary files\n",
      "  warnings.warn(\"{src} spectrum {sp} cannot be loaded in due to a mismatch in available\"\n",
      "/its/home/dt237/.conda/envs/xga_env/lib/python3.8/site-packages/xga/sources/base.py:794: UserWarning: G252.96-56.05 spectrum /mnt/lustre/projects/astro/general/dt237/mass_papers/XCS-Mass-Paper-I-Analysis/xga_output/0105660101/0105660101_mos1_G252.96-56.05_ra49.515_dec-44.263_ri0.0_ro0.2561665126045533_grpTrue_mincnt5_spec.fits cannot be loaded in due to a mismatch in available ancillary files\n",
      "  warnings.warn(\"{src} spectrum {sp} cannot be loaded in due to a mismatch in available\"\n",
      "/its/home/dt237/.conda/envs/xga_env/lib/python3.8/site-packages/xga/sources/base.py:963: UserWarning: A previous annular spectra profile fit for G252.96-56.05 was not successful, or no matching spectrum has been loaded, so it cannot be read in\n",
      "  warnings.warn(\"A previous annular spectra profile fit for {src} was not successful, or no \"\n",
      "/its/home/dt237/.conda/envs/xga_env/lib/python3.8/site-packages/xga/sources/extended.py:221: UserWarning: A point source has been detected in 0105660101 and is very close to the user supplied coordinates of G252.96-56.05. It will not be excluded from analysis due to the possibility of a mis-identified cool core\n",
      "  warnings.warn(\"A point source has been detected in {o} and is very close to the user supplied \"\n",
      "Setting up Galaxy Clusters:  63%|███████████████████████████▊                | 76/120 [13:50<09:20, 12.74s/it]/its/home/dt237/.conda/envs/xga_env/lib/python3.8/site-packages/xga/sources/base.py:963: UserWarning: A previous annular spectra profile fit for G253.47-33.72 was not successful, or no matching spectrum has been loaded, so it cannot be read in\n",
      "  warnings.warn(\"A previous annular spectra profile fit for {src} was not successful, or no \"\n",
      "Setting up Galaxy Clusters:  68%|██████████████████████████████              | 82/120 [14:35<05:07,  8.10s/it]/its/home/dt237/.conda/envs/xga_env/lib/python3.8/site-packages/xga/sources/base.py:963: UserWarning: A previous annular spectra profile fit for G263.16-23.41 was not successful, or no matching spectrum has been loaded, so it cannot be read in\n",
      "  warnings.warn(\"A previous annular spectra profile fit for {src} was not successful, or no \"\n",
      "Setting up Galaxy Clusters:  70%|██████████████████████████████▊             | 84/120 [14:59<06:27, 10.77s/it]/its/home/dt237/.conda/envs/xga_env/lib/python3.8/site-packages/xga/sources/base.py:963: UserWarning: A previous annular spectra profile fit for G266.03-21.25 was not successful, or no matching spectrum has been loaded, so it cannot be read in\n",
      "  warnings.warn(\"A previous annular spectra profile fit for {src} was not successful, or no \"\n"
     ]
    },
    {
     "name": "stderr",
     "output_type": "stream",
     "text": [
      "Setting up Galaxy Clusters:  73%|████████████████████████████████▎           | 88/120 [15:40<05:03,  9.49s/it]/its/home/dt237/.conda/envs/xga_env/lib/python3.8/site-packages/xga/sources/general.py:124: UserWarning: G272.10-40.15 has not been detected in all region files, so generating and fitting products with the 'region' reg_type will not use all available data\n",
      "  warnings.warn(\"{n} has not been detected in all region files, so generating and fitting products\"\n",
      "/its/home/dt237/.conda/envs/xga_env/lib/python3.8/site-packages/xga/samples/extended.py:164: UserWarning: After applying the criteria for the minimum amount of cluster required on an observation, G272.10-40.15 cannot be declared as all potential observations were removed\n",
      "  warn(\"After applying the criteria for the minimum amount of cluster required on an \"\n",
      "Setting up Galaxy Clusters:  77%|█████████████████████████████████▋          | 92/120 [16:14<04:10,  8.96s/it]/its/home/dt237/.conda/envs/xga_env/lib/python3.8/site-packages/xga/sources/general.py:124: UserWarning: G282.49+65.17 has not been detected in all region files, so generating and fitting products with the 'region' reg_type will not use all available data\n",
      "  warnings.warn(\"{n} has not been detected in all region files, so generating and fitting products\"\n",
      "Setting up Galaxy Clusters:  84%|████████████████████████████████████▏      | 101/120 [17:37<03:06,  9.80s/it]/its/home/dt237/.conda/envs/xga_env/lib/python3.8/site-packages/xga/sources/base.py:963: UserWarning: A previous annular spectra profile fit for G294.66-37.02 was not successful, or no matching spectrum has been loaded, so it cannot be read in\n",
      "  warnings.warn(\"A previous annular spectra profile fit for {src} was not successful, or no \"\n",
      "Setting up Galaxy Clusters:  88%|█████████████████████████████████████▋     | 105/120 [18:07<02:03,  8.23s/it]/its/home/dt237/.conda/envs/xga_env/lib/python3.8/site-packages/xga/sources/base.py:963: UserWarning: A previous annular spectra profile fit for G306.80+58.60 was not successful, or no matching spectrum has been loaded, so it cannot be read in\n",
      "  warnings.warn(\"A previous annular spectra profile fit for {src} was not successful, or no \"\n",
      "Setting up Galaxy Clusters:  88%|█████████████████████████████████████▉     | 106/120 [18:19<02:09,  9.26s/it]/its/home/dt237/.conda/envs/xga_env/lib/python3.8/site-packages/xga/sources/base.py:963: UserWarning: A previous annular spectra profile fit for G308.32-20.23 was not successful, or no matching spectrum has been loaded, so it cannot be read in\n",
      "  warnings.warn(\"A previous annular spectra profile fit for {src} was not successful, or no \"\n",
      "Setting up Galaxy Clusters:  89%|██████████████████████████████████████▎    | 107/120 [18:22<01:35,  7.36s/it]/its/home/dt237/.conda/envs/xga_env/lib/python3.8/site-packages/xga/sources/general.py:124: UserWarning: G313.36+61.11 has not been detected in all region files, so generating and fitting products with the 'region' reg_type will not use all available data\n",
      "  warnings.warn(\"{n} has not been detected in all region files, so generating and fitting products\"\n",
      "Setting up Galaxy Clusters:  91%|███████████████████████████████████████    | 109/120 [18:52<02:03, 11.21s/it]/its/home/dt237/.conda/envs/xga_env/lib/python3.8/site-packages/xga/sources/base.py:963: UserWarning: A previous annular spectra profile fit for G318.13-29.57 was not successful, or no matching spectrum has been loaded, so it cannot be read in\n",
      "  warnings.warn(\"A previous annular spectra profile fit for {src} was not successful, or no \"\n",
      "Setting up Galaxy Clusters:  93%|████████████████████████████████████████▏  | 112/120 [19:13<01:10,  8.85s/it]/its/home/dt237/.conda/envs/xga_env/lib/python3.8/site-packages/xga/sources/general.py:124: UserWarning: G332.23-46.36 has not been detected in all region files, so generating and fitting products with the 'region' reg_type will not use all available data\n",
      "  warnings.warn(\"{n} has not been detected in all region files, so generating and fitting products\"\n",
      "Setting up Galaxy Clusters:  95%|████████████████████████████████████████▊  | 114/120 [19:40<01:02, 10.48s/it]/its/home/dt237/.conda/envs/xga_env/lib/python3.8/site-packages/xga/sources/base.py:215: UserWarning: Existing fit for G335.59-46.46 could not be loaded due to a mismatch in available data\n",
      "  self._existing_xga_products(load_fits)\n",
      "/its/home/dt237/.conda/envs/xga_env/lib/python3.8/site-packages/xga/sources/base.py:2437: UserWarning: Existing fit for G335.59-46.46 could not be loaded due to a mismatch in available data\n",
      "  self._existing_xga_products(self._load_fits)\n",
      "Setting up Galaxy Clusters:  99%|██████████████████████████████████████████▋| 119/120 [20:07<00:06,  6.51s/it]/its/home/dt237/.conda/envs/xga_env/lib/python3.8/site-packages/xga/sources/general.py:124: UserWarning: G349.46-59.94 has not been detected in all region files, so generating and fitting products with the 'region' reg_type will not use all available data\n",
      "  warnings.warn(\"{n} has not been detected in all region files, so generating and fitting products\"\n",
      "Setting up Galaxy Clusters: 100%|███████████████████████████████████████████| 120/120 [20:19<00:00, 10.16s/it]\n",
      "Generating products of type(s) image: 100%|█████████████████████████████████████| 1/1 [00:00<00:00,  1.22it/s]\n",
      "Generating products of type(s) expmap: 100%|████████████████████████████████████| 1/1 [00:00<00:00,  1.27it/s]\n"
     ]
    }
   ],
   "source": [
    "# Reading out the relevant values into arrays just for ease of passing into the ClusterSample object\n",
    "ra = lovisari['xmm_ra'].values\n",
    "dec = lovisari['xmm_dec'].values\n",
    "z = lovisari['z'].values\n",
    "n = lovisari['name'].values\n",
    "r500 = Quantity(lovisari['r500'].values, 'kpc')\n",
    "\n",
    "# Declaring the actual ClusterSample instance for the Lovisari sample\n",
    "lovisari_srcs = ClusterSample(ra, dec, z, n, r500=r500, cosmology=lovisari_cosmo, load_fits=True, use_peak=False, \n",
    "                            clean_obs=True, clean_obs_reg='r500', clean_obs_threshold=0.7)"
   ]
  },
  {
   "cell_type": "markdown",
   "id": "4ccbc1a6",
   "metadata": {},
   "source": [
    "## Running PSF Correction"
   ]
  },
  {
   "cell_type": "markdown",
   "id": "5c5c6f51",
   "metadata": {},
   "source": []
  },
  {
   "cell_type": "code",
   "execution_count": 9,
   "id": "eb11d505",
   "metadata": {},
   "outputs": [
    {
     "name": "stderr",
     "output_type": "stream",
     "text": [
      "Preparing PSF generation commands: 100%|████████████████████████████████████████| 1/1 [00:00<00:00,  1.42it/s]\n",
      "Generating products of type(s) psf: 100%|███████████████████████████████████████| 9/9 [00:05<00:00,  1.63it/s]\n",
      "PSF Correcting Observations - Currently complete: 100%|█████████████████████████| 1/1 [00:15<00:00, 15.94s/it]\n",
      "Generating products of type(s) image: 100%|█████████████████████████████████████| 1/1 [00:00<00:00,  1.02it/s]\n",
      "Preparing PSF generation commands: 100%|████████████████████████████████████████| 8/8 [00:03<00:00,  2.29it/s]\n",
      "Generating products of type(s) psf: 100%|█████████████████████████████████████| 46/46 [00:16<00:00,  2.82it/s]\n",
      "PSF Correcting Observations - Currently complete: 100%|█████████████████████████| 8/8 [01:16<00:00,  9.61s/it]\n",
      "Generating products of type(s) image: 100%|█████████████████████████████████████| 8/8 [00:02<00:00,  2.70it/s]\n"
     ]
    }
   ],
   "source": [
    "rl_psf(locuss_srcs)\n",
    "rl_psf(lovisari_srcs)"
   ]
  },
  {
   "cell_type": "markdown",
   "id": "24db86c8",
   "metadata": {},
   "source": [
    "## Reading in literature data"
   ]
  },
  {
   "cell_type": "markdown",
   "id": "134be8fe",
   "metadata": {},
   "source": []
  },
  {
   "cell_type": "markdown",
   "id": "9af06a7d",
   "metadata": {},
   "source": [
    "###   $\\color{red}{\\text{Hydrostatic masses from literature}}$"
   ]
  },
  {
   "cell_type": "markdown",
   "id": "608ab541",
   "metadata": {},
   "source": []
  },
  {
   "cell_type": "code",
   "execution_count": 10,
   "id": "f2f5725f",
   "metadata": {},
   "outputs": [],
   "source": [
    "lov_lit_ms = [lovisari[lovisari['name'] == n].iloc[0][['m500', 'm500-', 'm500+']].values*1e+14\n",
    "               for n in lovisari_srcs.names]\n",
    "lov_lit_ms = Quantity(lov_lit_ms, 'Msun')\n",
    "\n",
    "loc_lit_ms = [locuss[locuss['name'] == n].iloc[0][['x_m500', 'x_m500_err']].values\n",
    "               for n in locuss_srcs.names]\n",
    "loc_lit_ms = Quantity(loc_lit_ms, 'Msun')"
   ]
  },
  {
   "cell_type": "markdown",
   "id": "9a66b719",
   "metadata": {},
   "source": [
    "### Conversion Temperatures"
   ]
  },
  {
   "cell_type": "markdown",
   "id": "0f3cebca",
   "metadata": {},
   "source": []
  },
  {
   "cell_type": "code",
   "execution_count": 11,
   "id": "622ab3b7",
   "metadata": {},
   "outputs": [],
   "source": [
    "loc_conv_txs = []\n",
    "lov_conv_txs = []\n",
    "\n",
    "for src in lovisari_srcs:\n",
    "    lov_conv_txs.append(lovisari[lovisari['name'] == src.name].iloc[0]['Tx'])\n",
    "    \n",
    "lov_conv_txs = Quantity(lov_conv_txs, 'keV')\n",
    "    \n",
    "for src in locuss_srcs:\n",
    "    loc_conv_txs.append(locuss[locuss['name'] == src.name].iloc[0]['x_Tx500ce'])\n",
    "\n",
    "loc_conv_txs = Quantity(loc_conv_txs, 'keV')"
   ]
  },
  {
   "cell_type": "markdown",
   "id": "0d092564",
   "metadata": {},
   "source": [
    "## Hydrostatic Mass Comparison to Literature - Density from $S_B$ Profiles"
   ]
  },
  {
   "cell_type": "markdown",
   "id": "19e6bebd",
   "metadata": {},
   "source": [
    "### Double Beta and Simplified Vikhlinin Density/Temperature Profiles - out to 1.05$R_{500}$"
   ]
  },
  {
   "cell_type": "markdown",
   "id": "6f68ee12",
   "metadata": {},
   "source": []
  },
  {
   "cell_type": "code",
   "execution_count": 12,
   "id": "035973f6",
   "metadata": {
    "scrolled": false
   },
   "outputs": [
    {
     "name": "stdout",
     "output_type": "stream",
     "text": [
      "╒═══════════════════════╤════════════════════════════════════════════════════════════════════════════╕\n",
      "│ Double Beta Profile   │                                                                            │\n",
      "╞═══════════════════════╪════════════════════════════════════════════════════════════════════════════╡\n",
      "│ DESCRIBES             │ Surface Brightness                                                         │\n",
      "├───────────────────────┼────────────────────────────────────────────────────────────────────────────┤\n",
      "│ UNIT                  │ ct / (arcmin2 s)                                                           │\n",
      "├───────────────────────┼────────────────────────────────────────────────────────────────────────────┤\n",
      "│ PARAMETERS            │ beta_one, r_core_one, norm_one, beta_two, r_core_two, norm_two             │\n",
      "├───────────────────────┼────────────────────────────────────────────────────────────────────────────┤\n",
      "│ PARAMETER UNITS       │ , kpc, ct / (arcmin2 s), , kpc, ct / (arcmin2 s)                           │\n",
      "├───────────────────────┼────────────────────────────────────────────────────────────────────────────┤\n",
      "│ AUTHOR                │ placeholder                                                                │\n",
      "├───────────────────────┼────────────────────────────────────────────────────────────────────────────┤\n",
      "│ YEAR                  │ placeholder                                                                │\n",
      "├───────────────────────┼────────────────────────────────────────────────────────────────────────────┤\n",
      "│ PAPER                 │ placeholder                                                                │\n",
      "├───────────────────────┼────────────────────────────────────────────────────────────────────────────┤\n",
      "│ INFO                  │ The double beta profile, a summation of two single beta models. Often      │\n",
      "│                       │  thought to deal better with peaky cluster cores that you might get from a │\n",
      "│                       │  cool-core cluster, this model can be used to describe a galaxy cluster    │\n",
      "│                       │  radial surface brightness profile.                                        │\n",
      "╘═══════════════════════╧════════════════════════════════════════════════════════════════════════════╛\n"
     ]
    },
    {
     "data": {
      "text/plain": [
       "[{'prior': <Quantity [0., 3.]>, 'type': 'uniform'},\n",
       " {'prior': <Quantity [1.e+00, 2.e+03] kpc>, 'type': 'uniform'},\n",
       " {'prior': <Quantity [0., 3.] ct / (arcmin2 s)>, 'type': 'uniform'},\n",
       " {'prior': <Quantity [0., 3.]>, 'type': 'uniform'},\n",
       " {'prior': <Quantity [1.e+00, 2.e+03] kpc>, 'type': 'uniform'},\n",
       " {'prior': <Quantity [0., 3.] ct / (arcmin2 s)>, 'type': 'uniform'}]"
      ]
     },
     "execution_count": 12,
     "metadata": {},
     "output_type": "execute_result"
    }
   ],
   "source": [
    "demo_sb_mod = DoubleBetaProfile1D()\n",
    "demo_sb_mod.info()\n",
    "demo_sb_mod.par_priors"
   ]
  },
  {
   "cell_type": "code",
   "execution_count": 13,
   "id": "6529bdfc",
   "metadata": {},
   "outputs": [
    {
     "name": "stdout",
     "output_type": "stream",
     "text": [
      "╒════════════════════════════════╤═══════════════════════════════════════════════════════════════════════╕\n",
      "│ Simplified Vikhlinin Profile   │                                                                       │\n",
      "╞════════════════════════════════╪═══════════════════════════════════════════════════════════════════════╡\n",
      "│ DESCRIBES                      │ Gas Density                                                           │\n",
      "├────────────────────────────────┼───────────────────────────────────────────────────────────────────────┤\n",
      "│ UNIT                           │ 1 / cm3                                                               │\n",
      "├────────────────────────────────┼───────────────────────────────────────────────────────────────────────┤\n",
      "│ PARAMETERS                     │ beta, r_core, alpha, r_s, epsilon, norm                               │\n",
      "├────────────────────────────────┼───────────────────────────────────────────────────────────────────────┤\n",
      "│ PARAMETER UNITS                │ , kpc, , kpc, , 1 / cm3                                               │\n",
      "├────────────────────────────────┼───────────────────────────────────────────────────────────────────────┤\n",
      "│ AUTHOR                         │ Ghirardini et al.                                                     │\n",
      "├────────────────────────────────┼───────────────────────────────────────────────────────────────────────┤\n",
      "│ YEAR                           │ 2019                                                                  │\n",
      "├────────────────────────────────┼───────────────────────────────────────────────────────────────────────┤\n",
      "│ PAPER                          │ https://doi.org/10.1051/0004-6361/201833325                           │\n",
      "├────────────────────────────────┼───────────────────────────────────────────────────────────────────────┤\n",
      "│ INFO                           │ A simplified form of Vikhlinin's full density model, a type of broken │\n",
      "│                                │  power law that deals well with most galaxy cluster density profile.  │\n",
      "╘════════════════════════════════╧═══════════════════════════════════════════════════════════════════════╛\n"
     ]
    },
    {
     "data": {
      "text/plain": [
       "[{'prior': <Quantity [0., 3.]>, 'type': 'uniform'},\n",
       " {'prior': <Quantity [   0., 2000.] kpc>, 'type': 'uniform'},\n",
       " {'prior': <Quantity [0., 3.]>, 'type': 'uniform'},\n",
       " {'prior': <Quantity [   0., 2000.] kpc>, 'type': 'uniform'},\n",
       " {'prior': <Quantity [0., 5.]>, 'type': 'uniform'},\n",
       " {'prior': <Quantity [ 0., 10.] 1 / cm3>, 'type': 'uniform'}]"
      ]
     },
     "execution_count": 13,
     "metadata": {},
     "output_type": "execute_result"
    }
   ],
   "source": [
    "demo_d_mod = SimpleVikhlininDensity1D(y_unit=Unit(\"1 / cm^3\"))\n",
    "demo_d_mod.info()\n",
    "demo_d_mod.par_priors"
   ]
  },
  {
   "cell_type": "code",
   "execution_count": 14,
   "id": "81ddbae2",
   "metadata": {},
   "outputs": [
    {
     "name": "stdout",
     "output_type": "stream",
     "text": [
      "╒════════════════════════════════╤═════════════════════════════════════════════════════════════════════╕\n",
      "│ Simplified Vikhlinin Profile   │                                                                     │\n",
      "╞════════════════════════════════╪═════════════════════════════════════════════════════════════════════╡\n",
      "│ DESCRIBES                      │ Gas Temperature                                                     │\n",
      "├────────────────────────────────┼─────────────────────────────────────────────────────────────────────┤\n",
      "│ UNIT                           │ keV                                                                 │\n",
      "├────────────────────────────────┼─────────────────────────────────────────────────────────────────────┤\n",
      "│ PARAMETERS                     │ r_cool, a_cool, t_min, t_zero, r_tran, c_power                      │\n",
      "├────────────────────────────────┼─────────────────────────────────────────────────────────────────────┤\n",
      "│ PARAMETER UNITS                │ kpc, , keV, keV, kpc,                                               │\n",
      "├────────────────────────────────┼─────────────────────────────────────────────────────────────────────┤\n",
      "│ AUTHOR                         │ Ghirardini et al.                                                   │\n",
      "├────────────────────────────────┼─────────────────────────────────────────────────────────────────────┤\n",
      "│ YEAR                           │ 2019                                                                │\n",
      "├────────────────────────────────┼─────────────────────────────────────────────────────────────────────┤\n",
      "│ PAPER                          │ https://doi.org/10.1051/0004-6361/201833325                         │\n",
      "├────────────────────────────────┼─────────────────────────────────────────────────────────────────────┤\n",
      "│ INFO                           │ A simplified, 'functional', form of Vikhlinin's temperature model.  │\n",
      "│                                │  This model has 6 free parameters rather than the 9 free parameters │\n",
      "│                                │  of the original                                                    │\n",
      "╘════════════════════════════════╧═════════════════════════════════════════════════════════════════════╛\n"
     ]
    },
    {
     "data": {
      "text/plain": [
       "[{'prior': <Quantity [   0., 2000.] kpc>, 'type': 'uniform'},\n",
       " {'prior': <Quantity [-10.,  10.]>, 'type': 'uniform'},\n",
       " {'prior': <Quantity [ 0., 15.] keV>, 'type': 'uniform'},\n",
       " {'prior': <Quantity [ 0., 15.] keV>, 'type': 'uniform'},\n",
       " {'prior': <Quantity [   0., 2000.] kpc>, 'type': 'uniform'},\n",
       " {'prior': <Quantity [-10.,  10.]>, 'type': 'uniform'}]"
      ]
     },
     "execution_count": 14,
     "metadata": {},
     "output_type": "execute_result"
    }
   ],
   "source": [
    "demo_t_mod = SimpleVikhlininTemperature1D()\n",
    "demo_t_mod.info()\n",
    "demo_t_mod.par_priors"
   ]
  },
  {
   "cell_type": "code",
   "execution_count": 15,
   "id": "d9ce1dd5",
   "metadata": {},
   "outputs": [
    {
     "name": "stderr",
     "output_type": "stream",
     "text": [
      "Generating products of type(s) spectrum: 100%|█████████████████████████████████| 9/9 [24:38<00:00, 164.29s/it]\n",
      "Running XSPEC Fits: 100%|██████████████████████████████████████████████████████| 1/1 [02:29<00:00, 149.33s/it]\n",
      "/its/home/dt237/.conda/envs/xga_env/lib/python3.8/site-packages/xga/sourcetools/temperature.py:152: UserWarning: The requested annuli for RXCJ1212.3-1816 cannot be created, the data quality is too low. As such a set of four annuli will be returned\n",
      "  warn(\"The requested annuli for {s} cannot be created, the data quality is too low. As such a set \"\n",
      "Generating products of type(s) spectrum: 100%|█████████████████████████████████| 9/9 [22:53<00:00, 152.58s/it]\n",
      "Generating products of type(s) annular spectrum set components: 100%|███████| 144/144 [22:13<00:00,  9.26s/it]\n",
      "Running XSPEC Fits: 100%|█████████████████████████████████████████████████████| 45/45 [03:11<00:00,  4.25s/it]\n",
      "/its/home/dt237/.conda/envs/xga_env/lib/python3.8/site-packages/xga/xspec/run.py:326: UserWarning: Abell0963 annular spectra profile fit was not successful\n",
      "  warnings.warn(\"{src} annular spectra profile fit was not successful\".format(src=ann_spec.src_name))\n",
      "/its/home/dt237/.conda/envs/xga_env/lib/python3.8/site-packages/xga/xspec/run.py:326: UserWarning: Abell2219 annular spectra profile fit was not successful\n",
      "  warnings.warn(\"{src} annular spectra profile fit was not successful\".format(src=ann_spec.src_name))\n",
      "/its/home/dt237/.conda/envs/xga_env/lib/python3.8/site-packages/xga/sourcetools/temperature.py:441: UserWarning: {s} doesn't have a matching projected temperature profile, skipping.\n",
      "  warn(\"{s} doesn't have a matching projected temperature profile, skipping.\")\n",
      "/its/home/dt237/.conda/envs/xga_env/lib/python3.8/site-packages/xga/xspec/run.py:186: UserWarning: All XSPEC operations had already been run.\n",
      "  warnings.warn(\"All XSPEC operations had already been run.\")\n",
      "Running XSPEC Simulations: 100%|████████████████████████████████████████████████| 1/1 [00:22<00:00, 22.58s/it]\n",
      "Fitting data, inverse Abel transforming, and measuring densities:   2%|▏       | 1/41 [00:25<16:56, 25.41s/it]"
     ]
    },
    {
     "name": "stdout",
     "output_type": "stream",
     "text": [
      "The chain is shorter than 50 times the integrated autocorrelation time for 6 parameter(s). Use this estimate with caution and run a longer chain!\n",
      "N/50 = 400;\n",
      "tau: [1668.78566203 1153.79416153 1669.81330698 1403.77908148 1477.60290088\n",
      " 1446.43598998]\n"
     ]
    },
    {
     "name": "stderr",
     "output_type": "stream",
     "text": [
      "\r",
      "Fitting data, inverse Abel transforming, and measuring densities:   5%|▍       | 2/41 [00:52<17:15, 26.55s/it]"
     ]
    },
    {
     "name": "stdout",
     "output_type": "stream",
     "text": [
      "The chain is shorter than 50 times the integrated autocorrelation time for 6 parameter(s). Use this estimate with caution and run a longer chain!\n",
      "N/50 = 400;\n",
      "tau: [618.08030513 469.92469344 700.78568793 640.93180868 654.13382737\n",
      " 743.38493676]\n"
     ]
    },
    {
     "name": "stderr",
     "output_type": "stream",
     "text": [
      "\r",
      "Fitting data, inverse Abel transforming, and measuring densities:   7%|▌       | 3/41 [01:18<16:33, 26.13s/it]"
     ]
    },
    {
     "name": "stdout",
     "output_type": "stream",
     "text": [
      "The chain is shorter than 50 times the integrated autocorrelation time for 6 parameter(s). Use this estimate with caution and run a longer chain!\n",
      "N/50 = 400;\n",
      "tau: [1566.50113788  723.59739354 1503.60251188 1063.9493741  1225.91919751\n",
      " 1492.09863888]\n"
     ]
    },
    {
     "name": "stderr",
     "output_type": "stream",
     "text": [
      "\r",
      "Fitting data, inverse Abel transforming, and measuring densities:  10%|▊       | 4/41 [01:43<15:44, 25.54s/it]"
     ]
    },
    {
     "name": "stdout",
     "output_type": "stream",
     "text": [
      "The chain is shorter than 50 times the integrated autocorrelation time for 6 parameter(s). Use this estimate with caution and run a longer chain!\n",
      "N/50 = 400;\n",
      "tau: [1124.4062112  1068.56849852 1918.50229392 1250.72216787  951.712346\n",
      " 1643.35532115]\n"
     ]
    },
    {
     "name": "stderr",
     "output_type": "stream",
     "text": [
      "\r",
      "Fitting data, inverse Abel transforming, and measuring densities:  12%|▉       | 5/41 [02:07<15:07, 25.22s/it]"
     ]
    },
    {
     "name": "stdout",
     "output_type": "stream",
     "text": [
      "The chain is shorter than 50 times the integrated autocorrelation time for 1 parameter(s). Use this estimate with caution and run a longer chain!\n",
      "N/50 = 400;\n",
      "tau: [209.17549941 506.04779389 113.11655094 131.46270242 209.36708547\n",
      " 272.79337089]\n"
     ]
    },
    {
     "name": "stderr",
     "output_type": "stream",
     "text": [
      "\r",
      "Fitting data, inverse Abel transforming, and measuring densities:  15%|█▏      | 6/41 [02:31<14:30, 24.88s/it]"
     ]
    },
    {
     "name": "stdout",
     "output_type": "stream",
     "text": [
      "The chain is shorter than 50 times the integrated autocorrelation time for 6 parameter(s). Use this estimate with caution and run a longer chain!\n",
      "N/50 = 400;\n",
      "tau: [1609.74389454 1517.51177268 1763.92538886 1129.02500985 1812.6337326\n",
      " 1777.85876357]\n"
     ]
    },
    {
     "name": "stderr",
     "output_type": "stream",
     "text": [
      "Fitting data, inverse Abel transforming, and measuring densities:  20%|█▌      | 8/41 [03:24<14:00, 25.46s/it]"
     ]
    },
    {
     "name": "stdout",
     "output_type": "stream",
     "text": [
      "The chain is shorter than 50 times the integrated autocorrelation time for 4 parameter(s). Use this estimate with caution and run a longer chain!\n",
      "N/50 = 400;\n",
      "tau: [ 293.82087515  324.63654115 2046.841734   1920.55741596 1967.66025886\n",
      " 1952.3467046 ]\n"
     ]
    },
    {
     "name": "stderr",
     "output_type": "stream",
     "text": [
      "Fitting data, inverse Abel transforming, and measuring densities:  32%|██▏    | 13/41 [05:37<12:11, 26.11s/it]"
     ]
    },
    {
     "name": "stdout",
     "output_type": "stream",
     "text": [
      "The chain is shorter than 50 times the integrated autocorrelation time for 5 parameter(s). Use this estimate with caution and run a longer chain!\n",
      "N/50 = 400;\n",
      "tau: [1181.92384185  232.21487241 1180.78375798  991.97177359 1110.0568246\n",
      " 1030.76425051]\n"
     ]
    },
    {
     "name": "stderr",
     "output_type": "stream",
     "text": [
      "\r",
      "Fitting data, inverse Abel transforming, and measuring densities:  34%|██▍    | 14/41 [06:02<11:43, 26.06s/it]"
     ]
    },
    {
     "name": "stdout",
     "output_type": "stream",
     "text": [
      "The chain is shorter than 50 times the integrated autocorrelation time for 6 parameter(s). Use this estimate with caution and run a longer chain!\n",
      "N/50 = 400;\n",
      "tau: [982.57846263 990.08514716 866.36054509 833.52168767 891.72413035\n",
      " 977.36082754]\n"
     ]
    },
    {
     "name": "stderr",
     "output_type": "stream",
     "text": [
      "Fitting data, inverse Abel transforming, and measuring densities:  49%|███▍   | 20/41 [08:38<08:56, 25.55s/it]"
     ]
    },
    {
     "name": "stdout",
     "output_type": "stream",
     "text": [
      "The chain is shorter than 50 times the integrated autocorrelation time for 2 parameter(s). Use this estimate with caution and run a longer chain!\n",
      "N/50 = 400;\n",
      "tau: [210.83782427 448.75074064 971.84503638 210.05041749 219.66201519\n",
      " 201.36072887]\n"
     ]
    },
    {
     "name": "stderr",
     "output_type": "stream",
     "text": [
      "\r",
      "Fitting data, inverse Abel transforming, and measuring densities:  51%|███▌   | 21/41 [09:04<08:30, 25.51s/it]"
     ]
    },
    {
     "name": "stdout",
     "output_type": "stream",
     "text": [
      "The chain is shorter than 50 times the integrated autocorrelation time for 4 parameter(s). Use this estimate with caution and run a longer chain!\n",
      "N/50 = 400;\n",
      "tau: [167.85162375 412.37892423 325.4024446  543.86428554 555.44820584\n",
      " 499.49176382]\n"
     ]
    },
    {
     "name": "stderr",
     "output_type": "stream",
     "text": [
      "Fitting data, inverse Abel transforming, and measuring densities:  56%|███▉   | 23/41 [09:57<07:47, 25.96s/it]"
     ]
    },
    {
     "name": "stdout",
     "output_type": "stream",
     "text": [
      "The chain is shorter than 50 times the integrated autocorrelation time for 1 parameter(s). Use this estimate with caution and run a longer chain!\n",
      "N/50 = 400;\n",
      "tau: [131.57000228 514.52690603 156.95153496 174.76994037 199.53566604\n",
      " 275.76683614]\n"
     ]
    },
    {
     "name": "stderr",
     "output_type": "stream",
     "text": [
      "\r",
      "Fitting data, inverse Abel transforming, and measuring densities:  59%|████   | 24/41 [10:24<07:23, 26.06s/it]"
     ]
    },
    {
     "name": "stdout",
     "output_type": "stream",
     "text": [
      "The chain is shorter than 50 times the integrated autocorrelation time for 6 parameter(s). Use this estimate with caution and run a longer chain!\n",
      "N/50 = 400;\n",
      "tau: [1151.97364729  915.02665355 2071.88751813 1641.02218244 1874.77538324\n",
      " 2092.60342602]\n"
     ]
    },
    {
     "name": "stderr",
     "output_type": "stream",
     "text": [
      "Fitting data, inverse Abel transforming, and measuring densities:  71%|████▉  | 29/41 [12:40<05:17, 26.43s/it]"
     ]
    },
    {
     "name": "stdout",
     "output_type": "stream",
     "text": [
      "The chain is shorter than 50 times the integrated autocorrelation time for 6 parameter(s). Use this estimate with caution and run a longer chain!\n",
      "N/50 = 400;\n",
      "tau: [1001.04139596 1560.3305282  1544.54567982 1839.51139479 1939.14551908\n",
      " 1740.9434743 ]\n",
      "The chain is shorter than 50 times the integrated autocorrelation time for 1 parameter(s). Use this estimate with caution and run a longer chain!\n",
      "N/50 = 400;\n",
      "tau: [486.6983968  354.71732017  43.76844819 175.46573191 166.7977771\n",
      "  63.1219682 ]\n"
     ]
    },
    {
     "name": "stderr",
     "output_type": "stream",
     "text": [
      "Fitting data, inverse Abel transforming, and measuring densities:  76%|█████▎ | 31/41 [13:31<04:19, 25.97s/it]"
     ]
    },
    {
     "name": "stdout",
     "output_type": "stream",
     "text": [
      "The chain is shorter than 50 times the integrated autocorrelation time for 6 parameter(s). Use this estimate with caution and run a longer chain!\n",
      "N/50 = 400;\n",
      "tau: [1052.17537317  750.29066898 1270.30794202 1112.91003484 1210.25019637\n",
      " 1386.05583987]\n"
     ]
    },
    {
     "name": "stderr",
     "output_type": "stream",
     "text": [
      "Fitting data, inverse Abel transforming, and measuring densities:  83%|█████▊ | 34/41 [14:56<03:11, 27.42s/it]"
     ]
    },
    {
     "name": "stdout",
     "output_type": "stream",
     "text": [
      "The chain is shorter than 50 times the integrated autocorrelation time for 6 parameter(s). Use this estimate with caution and run a longer chain!\n",
      "N/50 = 400;\n",
      "tau: [790.90848979 821.01704842 881.71196483 700.95638206 840.69865077\n",
      " 876.0036394 ]\n"
     ]
    },
    {
     "name": "stderr",
     "output_type": "stream",
     "text": [
      "Fitting data, inverse Abel transforming, and measuring densities:  93%|██████▍| 38/41 [16:47<01:21, 27.29s/it]"
     ]
    },
    {
     "name": "stdout",
     "output_type": "stream",
     "text": [
      "The chain is shorter than 50 times the integrated autocorrelation time for 6 parameter(s). Use this estimate with caution and run a longer chain!\n",
      "N/50 = 400;\n",
      "tau: [1258.32268122  809.58859042 1293.18077584 1053.40518703 1240.63261713\n",
      " 1395.77675734]\n"
     ]
    },
    {
     "name": "stderr",
     "output_type": "stream",
     "text": [
      "Fitting data, inverse Abel transforming, and measuring densities: 100%|███████| 41/41 [18:03<00:00, 26.42s/it]\n"
     ]
    },
    {
     "name": "stdout",
     "output_type": "stream",
     "text": [
      "The chain is shorter than 50 times the integrated autocorrelation time for 5 parameter(s). Use this estimate with caution and run a longer chain!\n",
      "N/50 = 400;\n",
      "tau: [1120.86997265  262.3382449  2153.54612305 2043.34421479 1690.00453575\n",
      " 2144.24833952]\n"
     ]
    },
    {
     "name": "stderr",
     "output_type": "stream",
     "text": [
      "Generating Abell2697 hydrostatic mass profile:   0%|                                   | 0/46 [00:00<?, ?it/s]/its/home/dt237/.conda/envs/xga_env/lib/python3.8/site-packages/xga/products/base.py:1139: UserWarning: simple_vikhlinin_temp already has a successful fit result for this profile using mcmc, with those start parameters\n",
      "  warn(\"{m} already has a successful fit result for this profile using {me}, with those start \"\n"
     ]
    },
    {
     "name": "stdout",
     "output_type": "stream",
     "text": [
      "The chain is shorter than 50 times the integrated autocorrelation time for 1 parameter(s). Use this estimate with caution and run a longer chain!\n",
      "N/50 = 400;\n",
      "tau: [113.52472799 153.90913326 886.16976264 108.47379182 111.60088415\n",
      " 364.55956684]\n"
     ]
    },
    {
     "name": "stderr",
     "output_type": "stream",
     "text": [
      "Generating Abell0068 hydrostatic mass profile:   2%|▌                          | 1/46 [00:28<21:33, 28.75s/it]/its/home/dt237/.conda/envs/xga_env/lib/python3.8/site-packages/xga/products/base.py:1139: UserWarning: simple_vikhlinin_temp already has a successful fit result for this profile using mcmc, with those start parameters\n",
      "  warn(\"{m} already has a successful fit result for this profile using {me}, with those start \"\n"
     ]
    },
    {
     "name": "stdout",
     "output_type": "stream",
     "text": [
      "The chain is shorter than 50 times the integrated autocorrelation time for 1 parameter(s). Use this estimate with caution and run a longer chain!\n",
      "N/50 = 400;\n",
      "tau: [112.59445662 124.03297655 417.30994466 105.73483586 120.50607308\n",
      " 136.33055116]\n"
     ]
    },
    {
     "name": "stderr",
     "output_type": "stream",
     "text": [
      "Generating Abell2813 hydrostatic mass profile:   4%|█▏                         | 2/46 [00:57<21:15, 29.00s/it]/its/home/dt237/.conda/envs/xga_env/lib/python3.8/site-packages/xga/products/base.py:1139: UserWarning: simple_vikhlinin_temp already has a successful fit result for this profile using mcmc, with those start parameters\n",
      "  warn(\"{m} already has a successful fit result for this profile using {me}, with those start \"\n"
     ]
    },
    {
     "name": "stdout",
     "output_type": "stream",
     "text": [
      "The chain is shorter than 50 times the integrated autocorrelation time for 1 parameter(s). Use this estimate with caution and run a longer chain!\n",
      "N/50 = 400;\n",
      "tau: [104.26788993 133.98267673 674.63208147 108.42457538 102.93773718\n",
      " 299.13259513]\n"
     ]
    },
    {
     "name": "stderr",
     "output_type": "stream",
     "text": [
      "Generating Abell0115S hydrostatic mass profile:   7%|█▋                        | 3/46 [01:26<20:42, 28.90s/it]/its/home/dt237/.conda/envs/xga_env/lib/python3.8/site-packages/xga/products/profile.py:1465: UserWarning: Some radii are outside the data range covered by the temperature or density profiles, as such you will be extrapolating based on the model fits.\n",
      "  warn(\"Some radii are outside the data range covered by the temperature or density profiles, as such \"\n",
      "/its/home/dt237/.conda/envs/xga_env/lib/python3.8/site-packages/xga/products/base.py:1139: UserWarning: simple_vikhlinin_temp already has a successful fit result for this profile using mcmc, with those start parameters\n",
      "  warn(\"{m} already has a successful fit result for this profile using {me}, with those start \"\n"
     ]
    },
    {
     "name": "stdout",
     "output_type": "stream",
     "text": [
      "The chain is shorter than 50 times the integrated autocorrelation time for 1 parameter(s). Use this estimate with caution and run a longer chain!\n",
      "N/50 = 400;\n",
      "tau: [ 167.73580932  199.36034753 1787.42111416  212.32366542  221.05755636\n",
      "  329.58202461]\n"
     ]
    },
    {
     "name": "stderr",
     "output_type": "stream",
     "text": [
      "/its/home/dt237/.conda/envs/xga_env/lib/python3.8/site-packages/xga/products/profile.py:1465: UserWarning: Some radii are outside the data range covered by the temperature or density profiles, as such you will be extrapolating based on the model fits.\n",
      "  warn(\"Some radii are outside the data range covered by the temperature or density profiles, as such \"\n",
      "Generating Abell141 hydrostatic mass profile:   9%|██▍                         | 4/46 [01:54<19:50, 28.33s/it]/its/home/dt237/.conda/envs/xga_env/lib/python3.8/site-packages/xga/products/base.py:1139: UserWarning: simple_vikhlinin_temp already has a successful fit result for this profile using mcmc, with those start parameters\n",
      "  warn(\"{m} already has a successful fit result for this profile using {me}, with those start \"\n"
     ]
    },
    {
     "name": "stdout",
     "output_type": "stream",
     "text": [
      "The chain is shorter than 50 times the integrated autocorrelation time for 1 parameter(s). Use this estimate with caution and run a longer chain!\n",
      "N/50 = 400;\n",
      "tau: [410.88213933 399.39056844 190.26046972 355.66459591 161.22744448\n",
      " 271.51190216]\n"
     ]
    },
    {
     "name": "stderr",
     "output_type": "stream",
     "text": [
      "Generating ZwCl0104.4+0048 hydrostatic mass profile:  11%|██▎                  | 5/46 [02:21<19:13, 28.15s/it]/its/home/dt237/.conda/envs/xga_env/lib/python3.8/site-packages/xga/products/base.py:1139: UserWarning: simple_vikhlinin_temp already has a successful fit result for this profile using mcmc, with those start parameters\n",
      "  warn(\"{m} already has a successful fit result for this profile using {me}, with those start \"\n",
      "Generating Abell0209 hydrostatic mass profile:  13%|███▌                       | 6/46 [02:46<17:54, 26.87s/it]"
     ]
    },
    {
     "name": "stdout",
     "output_type": "stream",
     "text": [
      "The chain is shorter than 50 times the integrated autocorrelation time for 1 parameter(s). Use this estimate with caution and run a longer chain!\n",
      "N/50 = 400;\n",
      "tau: [ 142.67157181  152.91183035 1104.57667316  195.98395713  209.94053072\n",
      "  143.54782882]\n"
     ]
    },
    {
     "name": "stderr",
     "output_type": "stream",
     "text": [
      "/its/home/dt237/.conda/envs/xga_env/lib/python3.8/site-packages/xga/products/profile.py:1465: UserWarning: Some radii are outside the data range covered by the temperature or density profiles, as such you will be extrapolating based on the model fits.\n",
      "  warn(\"Some radii are outside the data range covered by the temperature or density profiles, as such \"\n",
      "/its/home/dt237/.conda/envs/xga_env/lib/python3.8/site-packages/xga/products/base.py:1139: UserWarning: simple_vikhlinin_temp already has a successful fit result for this profile using mcmc, with those start parameters\n",
      "  warn(\"{m} already has a successful fit result for this profile using {me}, with those start \"\n"
     ]
    },
    {
     "name": "stdout",
     "output_type": "stream",
     "text": [
      "The chain is shorter than 50 times the integrated autocorrelation time for 4 parameter(s). Use this estimate with caution and run a longer chain!\n",
      "N/50 = 400;\n",
      "tau: [387.82142042 590.19702425 732.31796563 246.42129723 416.23350746\n",
      " 668.57819842]\n"
     ]
    },
    {
     "name": "stderr",
     "output_type": "stream",
     "text": [
      "/its/home/dt237/.conda/envs/xga_env/lib/python3.8/site-packages/xga/products/profile.py:1465: UserWarning: Some radii are outside the data range covered by the temperature or density profiles, as such you will be extrapolating based on the model fits.\n",
      "  warn(\"Some radii are outside the data range covered by the temperature or density profiles, as such \"\n",
      "Generating Abell0267 hydrostatic mass profile:  15%|████                       | 7/46 [03:17<18:20, 28.22s/it]/its/home/dt237/.conda/envs/xga_env/lib/python3.8/site-packages/xga/products/base.py:1139: UserWarning: simple_vikhlinin_temp already has a successful fit result for this profile using mcmc, with those start parameters\n",
      "  warn(\"{m} already has a successful fit result for this profile using {me}, with those start \"\n"
     ]
    },
    {
     "name": "stdout",
     "output_type": "stream",
     "text": [
      "The chain is shorter than 50 times the integrated autocorrelation time for 1 parameter(s). Use this estimate with caution and run a longer chain!\n",
      "N/50 = 400;\n",
      "tau: [  95.33474833   93.88709995 1183.85683666   97.53537958  123.6736716\n",
      "   99.94856736]\n"
     ]
    },
    {
     "name": "stderr",
     "output_type": "stream",
     "text": [
      "Generating Abell0291 hydrostatic mass profile:  17%|████▋                      | 8/46 [03:45<17:52, 28.22s/it]/its/home/dt237/.conda/envs/xga_env/lib/python3.8/site-packages/xga/products/profile.py:1465: UserWarning: Some radii are outside the data range covered by the temperature or density profiles, as such you will be extrapolating based on the model fits.\n",
      "  warn(\"Some radii are outside the data range covered by the temperature or density profiles, as such \"\n",
      "/its/home/dt237/.conda/envs/xga_env/lib/python3.8/site-packages/xga/products/base.py:1139: UserWarning: simple_vikhlinin_temp already has a successful fit result for this profile using mcmc, with those start parameters\n",
      "  warn(\"{m} already has a successful fit result for this profile using {me}, with those start \"\n",
      "/its/home/dt237/.conda/envs/xga_env/lib/python3.8/site-packages/xga/products/profile.py:1465: UserWarning: Some radii are outside the data range covered by the temperature or density profiles, as such you will be extrapolating based on the model fits.\n",
      "  warn(\"Some radii are outside the data range covered by the temperature or density profiles, as such \"\n",
      "Generating Abell0291 hydrostatic mass profile:  20%|█████▎                     | 9/46 [04:15<17:40, 28.66s/it]"
     ]
    },
    {
     "name": "stdout",
     "output_type": "stream",
     "text": [
      "The chain is shorter than 50 times the integrated autocorrelation time for 1 parameter(s). Use this estimate with caution and run a longer chain!\n",
      "N/50 = 400;\n",
      "tau: [ 83.0818501   85.58048251 627.73368017  87.19199787  86.08246203\n",
      "  85.60807594]\n"
     ]
    },
    {
     "name": "stderr",
     "output_type": "stream",
     "text": [
      "Generating Abell0383 hydrostatic mass profile:  20%|█████▎                     | 9/46 [04:15<17:40, 28.66s/it]/its/home/dt237/.conda/envs/xga_env/lib/python3.8/site-packages/xga/products/base.py:1139: UserWarning: simple_vikhlinin_temp already has a successful fit result for this profile using mcmc, with those start parameters\n",
      "  warn(\"{m} already has a successful fit result for this profile using {me}, with those start \"\n",
      "Generating Abell0521 hydrostatic mass profile:  22%|█████▋                    | 10/46 [04:43<17:07, 28.55s/it]/its/home/dt237/.conda/envs/xga_env/lib/python3.8/site-packages/xga/products/base.py:1139: UserWarning: simple_vikhlinin_temp already has a successful fit result for this profile using mcmc, with those start parameters\n",
      "  warn(\"{m} already has a successful fit result for this profile using {me}, with those start \"\n"
     ]
    },
    {
     "name": "stdout",
     "output_type": "stream",
     "text": [
      "The chain is shorter than 50 times the integrated autocorrelation time for 2 parameter(s). Use this estimate with caution and run a longer chain!\n",
      "N/50 = 400;\n",
      "tau: [330.10511699 429.50838364 163.33450734 163.08571841 156.29991803\n",
      " 430.02275848]\n"
     ]
    },
    {
     "name": "stderr",
     "output_type": "stream",
     "text": [
      "Generating Abell0586 hydrostatic mass profile:  24%|██████▏                   | 11/46 [05:11<16:37, 28.50s/it]/its/home/dt237/.conda/envs/xga_env/lib/python3.8/site-packages/xga/products/profile.py:1465: UserWarning: Some radii are outside the data range covered by the temperature or density profiles, as such you will be extrapolating based on the model fits.\n",
      "  warn(\"Some radii are outside the data range covered by the temperature or density profiles, as such \"\n",
      "/its/home/dt237/.conda/envs/xga_env/lib/python3.8/site-packages/xga/products/base.py:1139: UserWarning: simple_vikhlinin_temp already has a successful fit result for this profile using mcmc, with those start parameters\n",
      "  warn(\"{m} already has a successful fit result for this profile using {me}, with those start \"\n"
     ]
    },
    {
     "name": "stdout",
     "output_type": "stream",
     "text": [
      "The chain is shorter than 50 times the integrated autocorrelation time for 1 parameter(s). Use this estimate with caution and run a longer chain!\n",
      "N/50 = 400;\n",
      "tau: [ 95.54137211  97.29624925 495.39816053  97.26639659 101.11645566\n",
      "  99.97214361]\n"
     ]
    },
    {
     "name": "stderr",
     "output_type": "stream",
     "text": [
      "/its/home/dt237/.conda/envs/xga_env/lib/python3.8/site-packages/xga/products/profile.py:1465: UserWarning: Some radii are outside the data range covered by the temperature or density profiles, as such you will be extrapolating based on the model fits.\n",
      "  warn(\"Some radii are outside the data range covered by the temperature or density profiles, as such \"\n",
      "Generating Abell0611 hydrostatic mass profile:  26%|██████▊                   | 12/46 [05:41<16:17, 28.74s/it]/its/home/dt237/.conda/envs/xga_env/lib/python3.8/site-packages/xga/products/base.py:1139: UserWarning: simple_vikhlinin_temp already has a successful fit result for this profile using mcmc, with those start parameters\n",
      "  warn(\"{m} already has a successful fit result for this profile using {me}, with those start \"\n"
     ]
    },
    {
     "name": "stdout",
     "output_type": "stream",
     "text": [
      "The chain is shorter than 50 times the integrated autocorrelation time for 3 parameter(s). Use this estimate with caution and run a longer chain!\n",
      "N/50 = 400;\n",
      "tau: [366.70792172 449.18097346 561.01194346 248.32025855 165.1911928\n",
      " 484.44246361]\n"
     ]
    },
    {
     "name": "stderr",
     "output_type": "stream",
     "text": [
      "Generating ZwCl0857.9+2107 hydrostatic mass profile:  30%|██████              | 14/46 [06:08<15:10, 28.44s/it]/its/home/dt237/.conda/envs/xga_env/lib/python3.8/site-packages/xga/products/base.py:1139: UserWarning: simple_vikhlinin_temp already has a successful fit result for this profile using mcmc, with those start parameters\n",
      "  warn(\"{m} already has a successful fit result for this profile using {me}, with those start \"\n",
      "Generating Abell0750 hydrostatic mass profile:  33%|████████▍                 | 15/46 [06:36<11:08, 21.56s/it]"
     ]
    },
    {
     "name": "stdout",
     "output_type": "stream",
     "text": [
      "The chain is shorter than 50 times the integrated autocorrelation time for 1 parameter(s). Use this estimate with caution and run a longer chain!\n",
      "N/50 = 400;\n",
      "tau: [ 106.96432568  109.17873412 1079.68993265  110.74121258  120.3237423\n",
      "  117.3645659 ]\n"
     ]
    },
    {
     "name": "stderr",
     "output_type": "stream",
     "text": [
      "/its/home/dt237/.conda/envs/xga_env/lib/python3.8/site-packages/xga/products/profile.py:1465: UserWarning: Some radii are outside the data range covered by the temperature or density profiles, as such you will be extrapolating based on the model fits.\n",
      "  warn(\"Some radii are outside the data range covered by the temperature or density profiles, as such \"\n",
      "/its/home/dt237/.conda/envs/xga_env/lib/python3.8/site-packages/xga/products/base.py:1139: UserWarning: simple_vikhlinin_temp already has a successful fit result for this profile using mcmc, with those start parameters\n",
      "  warn(\"{m} already has a successful fit result for this profile using {me}, with those start \"\n",
      "/its/home/dt237/.conda/envs/xga_env/lib/python3.8/site-packages/xga/products/profile.py:1465: UserWarning: Some radii are outside the data range covered by the temperature or density profiles, as such you will be extrapolating based on the model fits.\n",
      "  warn(\"Some radii are outside the data range covered by the temperature or density profiles, as such \"\n",
      "Generating Abell0781 hydrostatic mass profile:  37%|█████████▌                | 17/46 [07:04<11:10, 23.12s/it]"
     ]
    },
    {
     "name": "stdout",
     "output_type": "stream",
     "text": [
      "The chain is shorter than 50 times the integrated autocorrelation time for 3 parameter(s). Use this estimate with caution and run a longer chain!\n",
      "N/50 = 400;\n",
      "tau: [787.94216612 607.96171769 263.94259013 694.78152605 306.99312182\n",
      " 262.58281264]\n"
     ]
    },
    {
     "name": "stderr",
     "output_type": "stream",
     "text": [
      "/its/home/dt237/.conda/envs/xga_env/lib/python3.8/site-packages/xga/products/base.py:1139: UserWarning: simple_vikhlinin_temp already has a successful fit result for this profile using mcmc, with those start parameters\n",
      "  warn(\"{m} already has a successful fit result for this profile using {me}, with those start \"\n"
     ]
    },
    {
     "name": "stdout",
     "output_type": "stream",
     "text": [
      "The chain is shorter than 50 times the integrated autocorrelation time for 2 parameter(s). Use this estimate with caution and run a longer chain!\n",
      "N/50 = 400;\n",
      "tau: [400.3994385  369.77572316 155.79084578 351.56964139 457.90594014\n",
      " 268.94234522]\n"
     ]
    },
    {
     "name": "stderr",
     "output_type": "stream",
     "text": [
      "Generating Abell0901 hydrostatic mass profile:  39%|██████████▏               | 18/46 [07:30<08:51, 18.99s/it]/its/home/dt237/.conda/envs/xga_env/lib/python3.8/site-packages/xga/products/profile.py:1465: UserWarning: Some radii are outside the data range covered by the temperature or density profiles, as such you will be extrapolating based on the model fits.\n",
      "  warn(\"Some radii are outside the data range covered by the temperature or density profiles, as such \"\n",
      "/its/home/dt237/.conda/envs/xga_env/lib/python3.8/site-packages/xga/products/base.py:1139: UserWarning: simple_vikhlinin_temp already has a successful fit result for this profile using mcmc, with those start parameters\n",
      "  warn(\"{m} already has a successful fit result for this profile using {me}, with those start \"\n"
     ]
    },
    {
     "name": "stdout",
     "output_type": "stream",
     "text": [
      "The chain is shorter than 50 times the integrated autocorrelation time for 1 parameter(s). Use this estimate with caution and run a longer chain!\n",
      "N/50 = 400;\n",
      "tau: [ 87.63670509  90.055366   481.79250732  98.39134934 101.2176496\n",
      "  83.47477744]\n"
     ]
    },
    {
     "name": "stderr",
     "output_type": "stream",
     "text": [
      "/its/home/dt237/.conda/envs/xga_env/lib/python3.8/site-packages/xga/products/profile.py:1465: UserWarning: Some radii are outside the data range covered by the temperature or density profiles, as such you will be extrapolating based on the model fits.\n",
      "  warn(\"Some radii are outside the data range covered by the temperature or density profiles, as such \"\n",
      "Generating Abell0907 hydrostatic mass profile:  41%|██████████▋               | 19/46 [08:00<09:39, 21.48s/it]/its/home/dt237/.conda/envs/xga_env/lib/python3.8/site-packages/xga/products/base.py:1139: UserWarning: simple_vikhlinin_temp already has a successful fit result for this profile using mcmc, with those start parameters\n",
      "  warn(\"{m} already has a successful fit result for this profile using {me}, with those start \"\n",
      "Generating ZwCl1021.0+0426 hydrostatic mass profile:  46%|█████████▏          | 21/46 [08:31<09:56, 23.87s/it]/its/home/dt237/.conda/envs/xga_env/lib/python3.8/site-packages/xga/products/base.py:1139: UserWarning: simple_vikhlinin_temp already has a successful fit result for this profile using mcmc, with those start parameters\n",
      "  warn(\"{m} already has a successful fit result for this profile using {me}, with those start \"\n"
     ]
    },
    {
     "name": "stdout",
     "output_type": "stream",
     "text": [
      "The chain is shorter than 50 times the integrated autocorrelation time for 1 parameter(s). Use this estimate with caution and run a longer chain!\n",
      "N/50 = 400;\n",
      "tau: [ 92.37403679  98.59162365 672.06773322  86.21671672 120.11652871\n",
      "  79.90313317]\n"
     ]
    },
    {
     "name": "stderr",
     "output_type": "stream",
     "text": [
      "Generating RXCJ1212.3-1816 hydrostatic mass profile:  50%|██████████          | 23/46 [08:58<07:33, 19.70s/it]/its/home/dt237/.conda/envs/xga_env/lib/python3.8/site-packages/xga/products/base.py:1139: UserWarning: simple_vikhlinin_temp already has a successful fit result for this profile using mcmc, with those start parameters\n",
      "  warn(\"{m} already has a successful fit result for this profile using {me}, with those start \"\n",
      "Generating ZwCl1231.4+1007 hydrostatic mass profile:  52%|██████████▍         | 24/46 [09:23<06:12, 16.92s/it]"
     ]
    },
    {
     "name": "stdout",
     "output_type": "stream",
     "text": [
      "The chain is shorter than 50 times the integrated autocorrelation time for 6 parameter(s). Use this estimate with caution and run a longer chain!\n",
      "N/50 = 400;\n",
      "tau: [900.30097315 728.42845116 610.69539813 942.57148039 412.90347784\n",
      " 612.59571997]\n"
     ]
    },
    {
     "name": "stderr",
     "output_type": "stream",
     "text": [
      "/its/home/dt237/.conda/envs/xga_env/lib/python3.8/site-packages/xga/products/profile.py:1465: UserWarning: Some radii are outside the data range covered by the temperature or density profiles, as such you will be extrapolating based on the model fits.\n",
      "  warn(\"Some radii are outside the data range covered by the temperature or density profiles, as such \"\n",
      "/its/home/dt237/.conda/envs/xga_env/lib/python3.8/site-packages/xga/products/base.py:1139: UserWarning: simple_vikhlinin_temp already has a successful fit result for this profile using mcmc, with those start parameters\n",
      "  warn(\"{m} already has a successful fit result for this profile using {me}, with those start \"\n"
     ]
    },
    {
     "name": "stdout",
     "output_type": "stream",
     "text": [
      "The chain is shorter than 50 times the integrated autocorrelation time for 1 parameter(s). Use this estimate with caution and run a longer chain!\n",
      "N/50 = 400;\n",
      "tau: [100.91073697 118.03163726 457.43119418 122.70380889 103.53298471\n",
      " 168.22314996]\n"
     ]
    },
    {
     "name": "stderr",
     "output_type": "stream",
     "text": [
      "/its/home/dt237/.conda/envs/xga_env/lib/python3.8/site-packages/xga/products/profile.py:1465: UserWarning: Some radii are outside the data range covered by the temperature or density profiles, as such you will be extrapolating based on the model fits.\n",
      "  warn(\"Some radii are outside the data range covered by the temperature or density profiles, as such \"\n",
      "Generating Abell1689 hydrostatic mass profile:  54%|██████████████▏           | 25/46 [09:51<06:46, 19.34s/it]/its/home/dt237/.conda/envs/xga_env/lib/python3.8/site-packages/xga/products/base.py:1139: UserWarning: simple_vikhlinin_temp already has a successful fit result for this profile using mcmc, with those start parameters\n",
      "  warn(\"{m} already has a successful fit result for this profile using {me}, with those start \"\n",
      "/its/home/dt237/.conda/envs/xga_env/lib/python3.8/site-packages/xga/products/profile.py:1465: UserWarning: Some radii are outside the data range covered by the temperature or density profiles, as such you will be extrapolating based on the model fits.\n",
      "  warn(\"Some radii are outside the data range covered by the temperature or density profiles, as such \"\n",
      "Generating Abell1758N hydrostatic mass profile:  57%|██████████████▏          | 26/46 [10:25<07:31, 22.60s/it]/its/home/dt237/.conda/envs/xga_env/lib/python3.8/site-packages/xga/products/base.py:1139: UserWarning: simple_vikhlinin_temp already has a successful fit result for this profile using mcmc, with those start parameters\n",
      "  warn(\"{m} already has a successful fit result for this profile using {me}, with those start \"\n"
     ]
    },
    {
     "name": "stdout",
     "output_type": "stream",
     "text": [
      "The chain is shorter than 50 times the integrated autocorrelation time for 6 parameter(s). Use this estimate with caution and run a longer chain!\n",
      "N/50 = 400;\n",
      "tau: [1514.27876244 1799.75671576 1648.46382117 1737.09519684  835.48520271\n",
      " 1789.79273008]\n"
     ]
    },
    {
     "name": "stderr",
     "output_type": "stream",
     "text": [
      "Generating Abell1763 hydrostatic mass profile:  59%|███████████████▎          | 27/46 [10:55<07:46, 24.56s/it]/its/home/dt237/.conda/envs/xga_env/lib/python3.8/site-packages/xga/products/profile.py:1465: UserWarning: Some radii are outside the data range covered by the temperature or density profiles, as such you will be extrapolating based on the model fits.\n",
      "  warn(\"Some radii are outside the data range covered by the temperature or density profiles, as such \"\n",
      "/its/home/dt237/.conda/envs/xga_env/lib/python3.8/site-packages/xga/products/base.py:1139: UserWarning: simple_vikhlinin_temp already has a successful fit result for this profile using mcmc, with those start parameters\n",
      "  warn(\"{m} already has a successful fit result for this profile using {me}, with those start \"\n"
     ]
    },
    {
     "name": "stdout",
     "output_type": "stream",
     "text": [
      "The chain is shorter than 50 times the integrated autocorrelation time for 3 parameter(s). Use this estimate with caution and run a longer chain!\n",
      "N/50 = 400;\n",
      "tau: [283.34898842 411.02754659 757.72363224 272.59232803 251.92884604\n",
      " 613.16372853]\n"
     ]
    },
    {
     "name": "stderr",
     "output_type": "stream",
     "text": [
      "/its/home/dt237/.conda/envs/xga_env/lib/python3.8/site-packages/xga/products/profile.py:1465: UserWarning: Some radii are outside the data range covered by the temperature or density profiles, as such you will be extrapolating based on the model fits.\n",
      "  warn(\"Some radii are outside the data range covered by the temperature or density profiles, as such \"\n",
      "Generating Abell1835 hydrostatic mass profile:  61%|███████████████▊          | 28/46 [11:27<07:53, 26.28s/it]/its/home/dt237/.conda/envs/xga_env/lib/python3.8/site-packages/xga/products/base.py:1139: UserWarning: simple_vikhlinin_temp already has a successful fit result for this profile using mcmc, with those start parameters\n",
      "  warn(\"{m} already has a successful fit result for this profile using {me}, with those start \"\n"
     ]
    },
    {
     "name": "stdout",
     "output_type": "stream",
     "text": [
      "The chain is shorter than 50 times the integrated autocorrelation time for 1 parameter(s). Use this estimate with caution and run a longer chain!\n",
      "N/50 = 400;\n",
      "tau: [ 73.61297942  77.83032204 670.18355446  77.80480913  66.90303517\n",
      "  66.29104865]\n"
     ]
    },
    {
     "name": "stderr",
     "output_type": "stream",
     "text": [
      "Generating Abell1914 hydrostatic mass profile:  63%|████████████████▍         | 29/46 [11:58<07:51, 27.76s/it]/its/home/dt237/.conda/envs/xga_env/lib/python3.8/site-packages/xga/products/profile.py:1465: UserWarning: Some radii are outside the data range covered by the temperature or density profiles, as such you will be extrapolating based on the model fits.\n",
      "  warn(\"Some radii are outside the data range covered by the temperature or density profiles, as such \"\n",
      "/its/home/dt237/.conda/envs/xga_env/lib/python3.8/site-packages/xga/products/base.py:1139: UserWarning: simple_vikhlinin_temp already has a successful fit result for this profile using mcmc, with those start parameters\n",
      "  warn(\"{m} already has a successful fit result for this profile using {me}, with those start \"\n"
     ]
    },
    {
     "name": "stdout",
     "output_type": "stream",
     "text": [
      "The chain is shorter than 50 times the integrated autocorrelation time for 1 parameter(s). Use this estimate with caution and run a longer chain!\n",
      "N/50 = 400;\n",
      "tau: [ 88.68045526 100.83146358 531.53346326  89.67596744  87.14823618\n",
      " 108.85441022]\n"
     ]
    },
    {
     "name": "stderr",
     "output_type": "stream",
     "text": [
      "/its/home/dt237/.conda/envs/xga_env/lib/python3.8/site-packages/xga/products/profile.py:1465: UserWarning: Some radii are outside the data range covered by the temperature or density profiles, as such you will be extrapolating based on the model fits.\n",
      "  warn(\"Some radii are outside the data range covered by the temperature or density profiles, as such \"\n",
      "Generating ZwCl1454.8+2233 hydrostatic mass profile:  65%|█████████████       | 30/46 [12:31<07:48, 29.28s/it]/its/home/dt237/.conda/envs/xga_env/lib/python3.8/site-packages/xga/products/base.py:1139: UserWarning: simple_vikhlinin_temp already has a successful fit result for this profile using mcmc, with those start parameters\n",
      "  warn(\"{m} already has a successful fit result for this profile using {me}, with those start \"\n"
     ]
    },
    {
     "name": "stdout",
     "output_type": "stream",
     "text": [
      "The chain is shorter than 50 times the integrated autocorrelation time for 1 parameter(s). Use this estimate with caution and run a longer chain!\n",
      "N/50 = 400;\n",
      "tau: [  91.40103227   93.51248534 1047.99709509  102.01828314  136.93697796\n",
      "   99.21486967]\n"
     ]
    },
    {
     "name": "stderr",
     "output_type": "stream",
     "text": [
      "Generating Abell2009 hydrostatic mass profile:  67%|█████████████████▌        | 31/46 [12:59<07:10, 28.69s/it]/its/home/dt237/.conda/envs/xga_env/lib/python3.8/site-packages/xga/products/profile.py:1465: UserWarning: Some radii are outside the data range covered by the temperature or density profiles, as such you will be extrapolating based on the model fits.\n",
      "  warn(\"Some radii are outside the data range covered by the temperature or density profiles, as such \"\n",
      "/its/home/dt237/.conda/envs/xga_env/lib/python3.8/site-packages/xga/products/base.py:1139: UserWarning: simple_vikhlinin_temp already has a successful fit result for this profile using mcmc, with those start parameters\n",
      "  warn(\"{m} already has a successful fit result for this profile using {me}, with those start \"\n"
     ]
    },
    {
     "name": "stdout",
     "output_type": "stream",
     "text": [
      "The chain is shorter than 50 times the integrated autocorrelation time for 2 parameter(s). Use this estimate with caution and run a longer chain!\n",
      "N/50 = 400;\n",
      "tau: [124.05636397 312.69134182 720.27837135  95.85443348 127.61996508\n",
      " 446.37222774]\n"
     ]
    },
    {
     "name": "stderr",
     "output_type": "stream",
     "text": [
      "/its/home/dt237/.conda/envs/xga_env/lib/python3.8/site-packages/xga/products/profile.py:1465: UserWarning: Some radii are outside the data range covered by the temperature or density profiles, as such you will be extrapolating based on the model fits.\n",
      "  warn(\"Some radii are outside the data range covered by the temperature or density profiles, as such \"\n",
      "Generating ZwCl1459.4+4240 hydrostatic mass profile:  70%|█████████████▉      | 32/46 [13:32<07:00, 30.04s/it]/its/home/dt237/.conda/envs/xga_env/lib/python3.8/site-packages/xga/products/base.py:1139: UserWarning: simple_vikhlinin_temp already has a successful fit result for this profile using mcmc, with those start parameters\n",
      "  warn(\"{m} already has a successful fit result for this profile using {me}, with those start \"\n"
     ]
    },
    {
     "name": "stdout",
     "output_type": "stream",
     "text": [
      "The chain is shorter than 50 times the integrated autocorrelation time for 5 parameter(s). Use this estimate with caution and run a longer chain!\n",
      "N/50 = 400;\n",
      "tau: [478.61711143 944.22629901 348.02161458 406.32097781 585.78007285\n",
      " 570.06471131]\n"
     ]
    },
    {
     "name": "stderr",
     "output_type": "stream",
     "text": [
      "Generating RXCJ1504.1-0248 hydrostatic mass profile:  72%|██████████████▎     | 33/46 [14:01<06:24, 29.59s/it]"
     ]
    },
    {
     "name": "stdout",
     "output_type": "stream",
     "text": [
      "The chain is shorter than 50 times the integrated autocorrelation time for 3 parameter(s). Use this estimate with caution and run a longer chain!\n",
      "N/50 = 400;\n",
      "tau: [644.37362719 797.98036056 261.80089222 658.97042497 243.74444108\n",
      " 275.26887364]\n",
      "The chain is shorter than 50 times the integrated autocorrelation time for 1 parameter(s). Use this estimate with caution and run a longer chain!\n",
      "N/50 = 400;\n",
      "tau: [  58.55779031   66.64680405 1073.18217548   85.87198662   82.95156789\n",
      "   34.08026212]\n"
     ]
    },
    {
     "name": "stderr",
     "output_type": "stream",
     "text": [
      "Generating Abell2111 hydrostatic mass profile:  74%|███████████████████▏      | 34/46 [14:56<07:27, 37.25s/it]/its/home/dt237/.conda/envs/xga_env/lib/python3.8/site-packages/xga/products/base.py:1139: UserWarning: simple_vikhlinin_temp already has a successful fit result for this profile using mcmc, with those start parameters\n",
      "  warn(\"{m} already has a successful fit result for this profile using {me}, with those start \"\n"
     ]
    },
    {
     "name": "stdout",
     "output_type": "stream",
     "text": [
      "The chain is shorter than 50 times the integrated autocorrelation time for 4 parameter(s). Use this estimate with caution and run a longer chain!\n",
      "N/50 = 400;\n",
      "tau: [ 713.62149252 1450.51435844 1693.2408799   360.38279541  314.93160922\n",
      " 1640.16015573]\n"
     ]
    },
    {
     "name": "stderr",
     "output_type": "stream",
     "text": [
      "Generating Abell2204 hydrostatic mass profile:  76%|███████████████████▊      | 35/46 [15:27<06:29, 35.38s/it]/its/home/dt237/.conda/envs/xga_env/lib/python3.8/site-packages/xga/products/profile.py:1465: UserWarning: Some radii are outside the data range covered by the temperature or density profiles, as such you will be extrapolating based on the model fits.\n",
      "  warn(\"Some radii are outside the data range covered by the temperature or density profiles, as such \"\n",
      "/its/home/dt237/.conda/envs/xga_env/lib/python3.8/site-packages/xga/products/base.py:1139: UserWarning: simple_vikhlinin_temp already has a successful fit result for this profile using mcmc, with those start parameters\n",
      "  warn(\"{m} already has a successful fit result for this profile using {me}, with those start \"\n"
     ]
    },
    {
     "name": "stdout",
     "output_type": "stream",
     "text": [
      "The chain is shorter than 50 times the integrated autocorrelation time for 1 parameter(s). Use this estimate with caution and run a longer chain!\n",
      "N/50 = 400;\n",
      "tau: [ 94.52830874  85.6569534  488.64657996  94.45523601  95.66094779\n",
      "  74.01994649]\n"
     ]
    },
    {
     "name": "stderr",
     "output_type": "stream",
     "text": [
      "/its/home/dt237/.conda/envs/xga_env/lib/python3.8/site-packages/xga/products/profile.py:1465: UserWarning: Some radii are outside the data range covered by the temperature or density profiles, as such you will be extrapolating based on the model fits.\n",
      "  warn(\"Some radii are outside the data range covered by the temperature or density profiles, as such \"\n",
      "Generating RXJ1720.1+2638 hydrostatic mass profile:  80%|████████████████▉    | 37/46 [16:03<05:19, 35.46s/it]/its/home/dt237/.conda/envs/xga_env/lib/python3.8/site-packages/xga/products/base.py:1139: UserWarning: simple_vikhlinin_temp already has a successful fit result for this profile using mcmc, with those start parameters\n",
      "  warn(\"{m} already has a successful fit result for this profile using {me}, with those start \"\n"
     ]
    },
    {
     "name": "stdout",
     "output_type": "stream",
     "text": [
      "The chain is shorter than 50 times the integrated autocorrelation time for 1 parameter(s). Use this estimate with caution and run a longer chain!\n",
      "N/50 = 400;\n",
      "tau: [ 87.9862288   85.35716983 678.68573326  82.65395519  87.12267404\n",
      "  65.40871379]\n"
     ]
    },
    {
     "name": "stderr",
     "output_type": "stream",
     "text": [
      "/its/home/dt237/.conda/envs/xga_env/lib/python3.8/site-packages/xga/products/profile.py:1465: UserWarning: Some radii are outside the data range covered by the temperature or density profiles, as such you will be extrapolating based on the model fits.\n",
      "  warn(\"Some radii are outside the data range covered by the temperature or density profiles, as such \"\n",
      "Generating Abell2261 hydrostatic mass profile:  83%|█████████████████████▍    | 38/46 [16:35<03:33, 26.67s/it]/its/home/dt237/.conda/envs/xga_env/lib/python3.8/site-packages/xga/products/base.py:1139: UserWarning: simple_vikhlinin_temp already has a successful fit result for this profile using mcmc, with those start parameters\n",
      "  warn(\"{m} already has a successful fit result for this profile using {me}, with those start \"\n",
      "Generating RXCJ2102.1-2431 hydrostatic mass profile:  85%|████████████████▉   | 39/46 [17:06<03:13, 27.65s/it]/its/home/dt237/.conda/envs/xga_env/lib/python3.8/site-packages/xga/products/profile.py:1465: UserWarning: Some radii are outside the data range covered by the temperature or density profiles, as such you will be extrapolating based on the model fits.\n",
      "  warn(\"Some radii are outside the data range covered by the temperature or density profiles, as such \"\n",
      "/its/home/dt237/.conda/envs/xga_env/lib/python3.8/site-packages/xga/products/base.py:1139: UserWarning: simple_vikhlinin_temp already has a successful fit result for this profile using mcmc, with those start parameters\n",
      "  warn(\"{m} already has a successful fit result for this profile using {me}, with those start \"\n"
     ]
    },
    {
     "name": "stdout",
     "output_type": "stream",
     "text": [
      "The chain is shorter than 50 times the integrated autocorrelation time for 1 parameter(s). Use this estimate with caution and run a longer chain!\n",
      "N/50 = 400;\n",
      "tau: [ 84.34286592  84.88182806 754.9743711   81.7400477   80.25773957\n",
      "  86.77431146]\n"
     ]
    },
    {
     "name": "stderr",
     "output_type": "stream",
     "text": [
      "/its/home/dt237/.conda/envs/xga_env/lib/python3.8/site-packages/xga/products/profile.py:1465: UserWarning: Some radii are outside the data range covered by the temperature or density profiles, as such you will be extrapolating based on the model fits.\n",
      "  warn(\"Some radii are outside the data range covered by the temperature or density profiles, as such \"\n",
      "Generating RXJ2129.6+0005 hydrostatic mass profile:  87%|██████████████████▎  | 40/46 [17:36<02:50, 28.35s/it]/its/home/dt237/.conda/envs/xga_env/lib/python3.8/site-packages/xga/products/base.py:1139: UserWarning: simple_vikhlinin_temp already has a successful fit result for this profile using mcmc, with those start parameters\n",
      "  warn(\"{m} already has a successful fit result for this profile using {me}, with those start \"\n"
     ]
    },
    {
     "name": "stdout",
     "output_type": "stream",
     "text": [
      "The chain is shorter than 50 times the integrated autocorrelation time for 1 parameter(s). Use this estimate with caution and run a longer chain!\n",
      "N/50 = 400;\n",
      "tau: [ 90.53481527  90.21681746 485.39580437  93.14674178  90.31361536\n",
      "  87.92830696]\n"
     ]
    },
    {
     "name": "stderr",
     "output_type": "stream",
     "text": [
      "Generating Abell2390 hydrostatic mass profile:  89%|███████████████████████▏  | 41/46 [18:06<02:23, 28.71s/it]/its/home/dt237/.conda/envs/xga_env/lib/python3.8/site-packages/xga/products/base.py:1139: UserWarning: simple_vikhlinin_temp already has a successful fit result for this profile using mcmc, with those start parameters\n",
      "  warn(\"{m} already has a successful fit result for this profile using {me}, with those start \"\n"
     ]
    },
    {
     "name": "stdout",
     "output_type": "stream",
     "text": [
      "The chain is shorter than 50 times the integrated autocorrelation time for 1 parameter(s). Use this estimate with caution and run a longer chain!\n",
      "N/50 = 400;\n",
      "tau: [ 79.25522779  78.90690493 514.09875681  82.42339508  82.62521203\n",
      "  76.471516  ]\n"
     ]
    },
    {
     "name": "stderr",
     "output_type": "stream",
     "text": [
      "Generating Abell2537 hydrostatic mass profile:  91%|███████████████████████▋  | 42/46 [18:38<01:58, 29.71s/it]/its/home/dt237/.conda/envs/xga_env/lib/python3.8/site-packages/xga/products/base.py:1139: UserWarning: simple_vikhlinin_temp already has a successful fit result for this profile using mcmc, with those start parameters\n",
      "  warn(\"{m} already has a successful fit result for this profile using {me}, with those start \"\n"
     ]
    },
    {
     "name": "stdout",
     "output_type": "stream",
     "text": [
      "The chain is shorter than 50 times the integrated autocorrelation time for 3 parameter(s). Use this estimate with caution and run a longer chain!\n",
      "N/50 = 400;\n",
      "tau: [186.38389166 581.78120973 956.1383999  152.64440008 128.76705757\n",
      " 781.32125018]\n"
     ]
    },
    {
     "name": "stderr",
     "output_type": "stream",
     "text": [
      "Generating Abell2552 hydrostatic mass profile:  93%|████████████████████████▎ | 43/46 [19:06<01:27, 29.21s/it]/its/home/dt237/.conda/envs/xga_env/lib/python3.8/site-packages/xga/products/base.py:1139: UserWarning: simple_vikhlinin_temp already has a successful fit result for this profile using mcmc, with those start parameters\n",
      "  warn(\"{m} already has a successful fit result for this profile using {me}, with those start \"\n"
     ]
    },
    {
     "name": "stdout",
     "output_type": "stream",
     "text": [
      "The chain is shorter than 50 times the integrated autocorrelation time for 3 parameter(s). Use this estimate with caution and run a longer chain!\n",
      "N/50 = 400;\n",
      "tau: [294.24530863 455.11852254 612.32297929 196.70153474 289.69764931\n",
      " 455.98910576]\n"
     ]
    },
    {
     "name": "stderr",
     "output_type": "stream",
     "text": [
      "Generating Abell2631 hydrostatic mass profile:  96%|████████████████████████▊ | 44/46 [19:36<00:58, 29.29s/it]/its/home/dt237/.conda/envs/xga_env/lib/python3.8/site-packages/xga/products/base.py:1139: UserWarning: simple_vikhlinin_temp already has a successful fit result for this profile using mcmc, with those start parameters\n",
      "  warn(\"{m} already has a successful fit result for this profile using {me}, with those start \"\n"
     ]
    },
    {
     "name": "stdout",
     "output_type": "stream",
     "text": [
      "The chain is shorter than 50 times the integrated autocorrelation time for 6 parameter(s). Use this estimate with caution and run a longer chain!\n",
      "N/50 = 400;\n",
      "tau: [ 665.07404464 1551.31026211  876.35039704  772.98713059 1196.46300026\n",
      " 1321.68831246]\n"
     ]
    },
    {
     "name": "stderr",
     "output_type": "stream",
     "text": [
      "Generating Abell2645 hydrostatic mass profile:  98%|█████████████████████████▍| 45/46 [20:06<00:29, 29.56s/it]/its/home/dt237/.conda/envs/xga_env/lib/python3.8/site-packages/xga/products/base.py:1139: UserWarning: simple_vikhlinin_temp already has a successful fit result for this profile using mcmc, with those start parameters\n",
      "  warn(\"{m} already has a successful fit result for this profile using {me}, with those start \"\n"
     ]
    },
    {
     "name": "stdout",
     "output_type": "stream",
     "text": [
      "The chain is shorter than 50 times the integrated autocorrelation time for 1 parameter(s). Use this estimate with caution and run a longer chain!\n",
      "N/50 = 400;\n",
      "tau: [109.31564447 117.46766328 797.9597549  109.27607019 116.12824053\n",
      " 156.70965455]\n"
     ]
    },
    {
     "name": "stderr",
     "output_type": "stream",
     "text": [
      "Complete: 100%|███████████████████████████████████████████████████████████████| 46/46 [20:34<00:00, 26.84s/it]\n"
     ]
    }
   ],
   "source": [
    "loc_sb_dblbeta_simpvikh_105_mp = inv_abel_dens_onion_temp(locuss_srcs, locuss_srcs.r500*1.05, 'double_beta', \n",
    "                                                          'simple_vikhlinin_dens', 'simple_vikhlinin_temp', 'r500', \n",
    "                                                          temp_min_snr=30)"
   ]
  },
  {
   "cell_type": "code",
   "execution_count": 16,
   "id": "1825f43d",
   "metadata": {},
   "outputs": [
    {
     "name": "stderr",
     "output_type": "stream",
     "text": [
      "Generating products of type(s) spectrum: 100%|██████████████████████████████| 85/85 [1:14:05<00:00, 52.30s/it]\n",
      "Running XSPEC Fits: 100%|█████████████████████████████████████████████████████| 18/18 [03:06<00:00, 10.37s/it]\n",
      "/its/home/dt237/.conda/envs/xga_env/lib/python3.8/site-packages/xga/sourcetools/mass.py:51: UserWarning: The global temperature fit for G042.82+56.61 has failed, and as such we're very unlikely to be able to measure a mass and we're not even going to try.\n",
      "  warn(\"The global temperature fit for {} has failed, and as such we're very unlikely to be able to measure \"\n",
      "/its/home/dt237/.conda/envs/xga_env/lib/python3.8/site-packages/xga/sourcetools/mass.py:51: UserWarning: The global temperature fit for G171.94-40.65 has failed, and as such we're very unlikely to be able to measure a mass and we're not even going to try.\n",
      "  warn(\"The global temperature fit for {} has failed, and as such we're very unlikely to be able to measure \"\n",
      "/its/home/dt237/.conda/envs/xga_env/lib/python3.8/site-packages/xga/sourcetools/mass.py:51: UserWarning: The global temperature fit for G229.94+15.29 has failed, and as such we're very unlikely to be able to measure a mass and we're not even going to try.\n",
      "  warn(\"The global temperature fit for {} has failed, and as such we're very unlikely to be able to measure \"\n",
      "/its/home/dt237/.conda/envs/xga_env/lib/python3.8/site-packages/xga/sourcetools/mass.py:51: UserWarning: The global temperature fit for G308.32-20.23 has failed, and as such we're very unlikely to be able to measure a mass and we're not even going to try.\n",
      "  warn(\"The global temperature fit for {} has failed, and as such we're very unlikely to be able to measure \"\n",
      "/its/home/dt237/.conda/envs/xga_env/lib/python3.8/site-packages/xga/sourcetools/temperature.py:152: UserWarning: The requested annuli for G096.87+24.21 cannot be created, the data quality is too low. As such a set of four annuli will be returned\n",
      "  warn(\"The requested annuli for {s} cannot be created, the data quality is too low. As such a set \"\n",
      "/its/home/dt237/.conda/envs/xga_env/lib/python3.8/site-packages/xga/sourcetools/temperature.py:152: UserWarning: The requested annuli for G285.63-17.24 cannot be created, the data quality is too low. As such a set of four annuli will be returned\n",
      "  warn(\"The requested annuli for {s} cannot be created, the data quality is too low. As such a set \"\n",
      "Generating products of type(s) spectrum: 100%|████████████████████████████| 524/524 [4:57:19<00:00, 34.05s/it]\n",
      "Generating products of type(s) annular spectrum set components:  35%|▎| 2618/7521 [4:02:18<5:17:55,  3.89s/it]IOPub message rate exceeded.\n",
      "The notebook server will temporarily stop sending output\n",
      "to the client in order to avoid crashing it.\n",
      "To change this limit, set the config variable\n",
      "`--NotebookApp.iopub_msg_rate_limit`.\n",
      "\n",
      "Current values:\n",
      "NotebookApp.iopub_msg_rate_limit=1000.0 (msgs/sec)\n",
      "NotebookApp.rate_limit_window=3.0 (secs)\n",
      "\n",
      "Fitting data, inverse Abel transforming, and measuring densities:  67%|████▋  | 66/99 [29:34<15:11, 27.63s/it]"
     ]
    },
    {
     "name": "stdout",
     "output_type": "stream",
     "text": [
      "The chain is shorter than 50 times the integrated autocorrelation time for 6 parameter(s). Use this estimate with caution and run a longer chain!\n",
      "N/50 = 400;\n",
      "tau: [ 574.60673956  505.25671083  457.35097111  863.52645343  969.73433955\n",
      " 1171.98852528]\n"
     ]
    },
    {
     "name": "stderr",
     "output_type": "stream",
     "text": [
      "Fitting data, inverse Abel transforming, and measuring densities:  69%|████▊  | 68/99 [30:24<13:30, 26.14s/it]"
     ]
    },
    {
     "name": "stdout",
     "output_type": "stream",
     "text": [
      "The chain is shorter than 50 times the integrated autocorrelation time for 6 parameter(s). Use this estimate with caution and run a longer chain!\n",
      "N/50 = 400;\n",
      "tau: [ 735.13857377 1147.22491665 2277.14298324 2151.31200405 2205.41777602\n",
      " 2262.0490808 ]\n"
     ]
    },
    {
     "name": "stderr",
     "output_type": "stream",
     "text": [
      "\r",
      "Fitting data, inverse Abel transforming, and measuring densities:  70%|████▉  | 69/99 [30:47<12:37, 25.27s/it]"
     ]
    },
    {
     "name": "stdout",
     "output_type": "stream",
     "text": [
      "The chain is shorter than 50 times the integrated autocorrelation time for 5 parameter(s). Use this estimate with caution and run a longer chain!\n",
      "N/50 = 400;\n",
      "tau: [ 450.93602377  285.03598155 1629.19812479 1630.61587726 1656.10276726\n",
      " 1629.29213898]\n"
     ]
    },
    {
     "name": "stderr",
     "output_type": "stream",
     "text": [
      "Fitting data, inverse Abel transforming, and measuring densities:  72%|█████  | 71/99 [31:43<12:23, 26.56s/it]"
     ]
    },
    {
     "name": "stdout",
     "output_type": "stream",
     "text": [
      "The chain is shorter than 50 times the integrated autocorrelation time for 1 parameter(s). Use this estimate with caution and run a longer chain!\n",
      "N/50 = 400;\n",
      "tau: [162.36214221 408.52966335 215.25421738 164.83342742 240.67314885\n",
      " 274.68157974]\n"
     ]
    },
    {
     "name": "stderr",
     "output_type": "stream",
     "text": [
      "Fitting data, inverse Abel transforming, and measuring densities:  76%|█████▎ | 75/99 [33:27<10:12, 25.51s/it]"
     ]
    },
    {
     "name": "stdout",
     "output_type": "stream",
     "text": [
      "The chain is shorter than 50 times the integrated autocorrelation time for 1 parameter(s). Use this estimate with caution and run a longer chain!\n",
      "N/50 = 400;\n",
      "tau: [268.13769775 310.31297166 630.66675983 257.17540296 274.12427047\n",
      " 321.86060044]\n"
     ]
    },
    {
     "name": "stderr",
     "output_type": "stream",
     "text": [
      "\r",
      "Fitting data, inverse Abel transforming, and measuring densities:  77%|█████▎ | 76/99 [33:53<09:50, 25.67s/it]"
     ]
    },
    {
     "name": "stdout",
     "output_type": "stream",
     "text": [
      "The chain is shorter than 50 times the integrated autocorrelation time for 2 parameter(s). Use this estimate with caution and run a longer chain!\n",
      "N/50 = 400;\n",
      "tau: [169.87677497 372.38438365 154.43085792 427.92282497 437.430006\n",
      " 385.09532482]\n"
     ]
    },
    {
     "name": "stderr",
     "output_type": "stream",
     "text": [
      "Fitting data, inverse Abel transforming, and measuring densities:  79%|█████▌ | 78/99 [34:41<08:35, 24.53s/it]"
     ]
    },
    {
     "name": "stdout",
     "output_type": "stream",
     "text": [
      "The chain is shorter than 50 times the integrated autocorrelation time for 6 parameter(s). Use this estimate with caution and run a longer chain!\n",
      "N/50 = 400;\n",
      "tau: [ 855.84891666 1388.0355515  1963.13089367 2067.27803567 2009.92978798\n",
      " 1955.63011624]\n"
     ]
    },
    {
     "name": "stderr",
     "output_type": "stream",
     "text": [
      "Fitting data, inverse Abel transforming, and measuring densities:  81%|█████▋ | 80/99 [35:33<07:57, 25.11s/it]"
     ]
    },
    {
     "name": "stdout",
     "output_type": "stream",
     "text": [
      "The chain is shorter than 50 times the integrated autocorrelation time for 5 parameter(s). Use this estimate with caution and run a longer chain!\n",
      "N/50 = 400;\n",
      "tau: [697.69110214 196.31194565 770.28336857 832.07997316 875.80108249\n",
      " 799.84210659]\n"
     ]
    },
    {
     "name": "stderr",
     "output_type": "stream",
     "text": [
      "\r",
      "Fitting data, inverse Abel transforming, and measuring densities:  82%|█████▋ | 81/99 [35:56<07:23, 24.63s/it]"
     ]
    },
    {
     "name": "stdout",
     "output_type": "stream",
     "text": [
      "The chain is shorter than 50 times the integrated autocorrelation time for 6 parameter(s). Use this estimate with caution and run a longer chain!\n",
      "N/50 = 400;\n",
      "tau: [404.86618214 577.44570836 509.17240201 516.94913481 604.06312032\n",
      " 753.99962442]\n"
     ]
    },
    {
     "name": "stderr",
     "output_type": "stream",
     "text": [
      "\r",
      "Fitting data, inverse Abel transforming, and measuring densities:  83%|█████▊ | 82/99 [36:20<06:56, 24.52s/it]"
     ]
    },
    {
     "name": "stdout",
     "output_type": "stream",
     "text": [
      "The chain is shorter than 50 times the integrated autocorrelation time for 6 parameter(s). Use this estimate with caution and run a longer chain!\n",
      "N/50 = 400;\n",
      "tau: [464.52934434 586.00553318 641.6896875  446.71627566 474.79565117\n",
      " 571.02203685]\n",
      "The chain is shorter than 50 times the integrated autocorrelation time for 1 parameter(s). Use this estimate with caution and run a longer chain!\n",
      "N/50 = 400;\n",
      "tau: [234.13235803 427.2762232  163.24943302 204.44633973 215.22886187\n",
      " 230.80982702]\n"
     ]
    },
    {
     "name": "stderr",
     "output_type": "stream",
     "text": [
      "Fitting data, inverse Abel transforming, and measuring densities:  85%|█████▉ | 84/99 [37:17<06:33, 26.22s/it]"
     ]
    },
    {
     "name": "stdout",
     "output_type": "stream",
     "text": [
      "The chain is shorter than 50 times the integrated autocorrelation time for 5 parameter(s). Use this estimate with caution and run a longer chain!\n",
      "N/50 = 400;\n",
      "tau: [535.27862787 693.31708696 308.55768093 531.36170947 551.08329291\n",
      " 585.05269088]\n"
     ]
    },
    {
     "name": "stderr",
     "output_type": "stream",
     "text": [
      "\r",
      "Fitting data, inverse Abel transforming, and measuring densities:  86%|██████ | 85/99 [37:42<06:01, 25.82s/it]"
     ]
    },
    {
     "name": "stdout",
     "output_type": "stream",
     "text": [
      "The chain is shorter than 50 times the integrated autocorrelation time for 1 parameter(s). Use this estimate with caution and run a longer chain!\n",
      "N/50 = 400;\n",
      "tau: [181.30090938 305.87509219 392.50898102 264.79549788 322.76958599\n",
      " 405.05941921]\n"
     ]
    },
    {
     "name": "stderr",
     "output_type": "stream",
     "text": [
      "\r",
      "Fitting data, inverse Abel transforming, and measuring densities:  87%|██████ | 86/99 [38:05<05:26, 25.10s/it]"
     ]
    },
    {
     "name": "stdout",
     "output_type": "stream",
     "text": [
      "The chain is shorter than 50 times the integrated autocorrelation time for 5 parameter(s). Use this estimate with caution and run a longer chain!\n",
      "N/50 = 400;\n",
      "tau: [ 378.99597853 1125.37455582 1911.63698956 1184.22359124 1556.51472434\n",
      " 1639.39691285]\n"
     ]
    },
    {
     "name": "stderr",
     "output_type": "stream",
     "text": [
      "Fitting data, inverse Abel transforming, and measuring densities:  94%|██████▌| 93/99 [41:38<03:04, 30.82s/it]"
     ]
    },
    {
     "name": "stdout",
     "output_type": "stream",
     "text": [
      "The chain is shorter than 50 times the integrated autocorrelation time for 4 parameter(s). Use this estimate with caution and run a longer chain!\n",
      "N/50 = 400;\n",
      "tau: [255.53656962 404.75017188 414.69143915 357.26023761 416.91513465\n",
      " 470.6316324 ]\n"
     ]
    },
    {
     "name": "stderr",
     "output_type": "stream",
     "text": [
      "\r",
      "Fitting data, inverse Abel transforming, and measuring densities:  95%|██████▋| 94/99 [42:06<02:29, 29.96s/it]"
     ]
    },
    {
     "name": "stdout",
     "output_type": "stream",
     "text": [
      "The chain is shorter than 50 times the integrated autocorrelation time for 6 parameter(s). Use this estimate with caution and run a longer chain!\n",
      "N/50 = 400;\n",
      "tau: [424.760709   896.7735604  637.57369346 960.1434196  963.93402371\n",
      " 841.15688443]\n"
     ]
    },
    {
     "name": "stderr",
     "output_type": "stream",
     "text": [
      "Fitting data, inverse Abel transforming, and measuring densities:  97%|██████▊| 96/99 [42:59<01:23, 27.98s/it]"
     ]
    },
    {
     "name": "stdout",
     "output_type": "stream",
     "text": [
      "The chain is shorter than 50 times the integrated autocorrelation time for 4 parameter(s). Use this estimate with caution and run a longer chain!\n",
      "N/50 = 400;\n",
      "tau: [292.04909472 707.08435304 119.82145945 532.05978175 609.70533477\n",
      " 499.17185179]\n"
     ]
    },
    {
     "name": "stderr",
     "output_type": "stream",
     "text": [
      "Fitting data, inverse Abel transforming, and measuring densities:  99%|██████▉| 98/99 [43:49<00:26, 26.42s/it]"
     ]
    },
    {
     "name": "stdout",
     "output_type": "stream",
     "text": [
      "The chain is shorter than 50 times the integrated autocorrelation time for 6 parameter(s). Use this estimate with caution and run a longer chain!\n",
      "N/50 = 400;\n",
      "tau: [ 838.0751739  1058.08985089 1664.18936838 1472.98870902 1541.45129095\n",
      " 1666.93170448]\n"
     ]
    },
    {
     "name": "stderr",
     "output_type": "stream",
     "text": [
      "Fitting data, inverse Abel transforming, and measuring densities: 100%|███████| 99/99 [44:16<00:00, 26.83s/it]\n",
      "Generating G002.74-56.18 hydrostatic mass profile:   1%|▏                   | 1/119 [00:00<00:00, 2933.08it/s]/its/home/dt237/.conda/envs/xga_env/lib/python3.8/site-packages/xga/products/profile.py:1465: UserWarning: Some radii are outside the data range covered by the temperature or density profiles, as such you will be extrapolating based on the model fits.\n",
      "  warn(\"Some radii are outside the data range covered by the temperature or density profiles, as such \"\n"
     ]
    },
    {
     "name": "stdout",
     "output_type": "stream",
     "text": [
      "The chain is shorter than 50 times the integrated autocorrelation time for 6 parameter(s). Use this estimate with caution and run a longer chain!\n",
      "N/50 = 400;\n",
      "tau: [710.15729296 963.79704394 710.55695142 819.1298179  602.36408866\n",
      " 534.15655963]\n",
      "The chain is shorter than 50 times the integrated autocorrelation time for 1 parameter(s). Use this estimate with caution and run a longer chain!\n",
      "N/50 = 400;\n",
      "tau: [ 82.47986775  85.44932562 462.73604731  83.03702635  77.54543315\n",
      "  95.49509857]\n"
     ]
    },
    {
     "name": "stderr",
     "output_type": "stream",
     "text": [
      "/its/home/dt237/.conda/envs/xga_env/lib/python3.8/site-packages/xga/products/profile.py:1465: UserWarning: Some radii are outside the data range covered by the temperature or density profiles, as such you will be extrapolating based on the model fits.\n",
      "  warn(\"Some radii are outside the data range covered by the temperature or density profiles, as such \"\n",
      "Generating G003.90-59.41 hydrostatic mass profile:   2%|▎                     | 2/119 [00:53<52:08, 26.74s/it]"
     ]
    },
    {
     "name": "stdout",
     "output_type": "stream",
     "text": [
      "The chain is shorter than 50 times the integrated autocorrelation time for 1 parameter(s). Use this estimate with caution and run a longer chain!\n",
      "N/50 = 400;\n",
      "tau: [106.3071612  132.34581243 639.00649983 103.62139133 132.11286062\n",
      " 361.14829585]\n"
     ]
    },
    {
     "name": "stderr",
     "output_type": "stream",
     "text": [
      "Generating G006.70-35.54 hydrostatic mass profile:   3%|▌                   | 3/119 [01:49<1:15:07, 38.86s/it]/its/home/dt237/.conda/envs/xga_env/lib/python3.8/site-packages/xga/products/profile.py:1465: UserWarning: Some radii are outside the data range covered by the temperature or density profiles, as such you will be extrapolating based on the model fits.\n",
      "  warn(\"Some radii are outside the data range covered by the temperature or density profiles, as such \"\n"
     ]
    },
    {
     "name": "stdout",
     "output_type": "stream",
     "text": [
      "The chain is shorter than 50 times the integrated autocorrelation time for 5 parameter(s). Use this estimate with caution and run a longer chain!\n",
      "N/50 = 400;\n",
      "tau: [591.32175593 413.4637016  263.44731584 677.67466698 443.19061426\n",
      " 422.58999328]\n",
      "The chain is shorter than 50 times the integrated autocorrelation time for 6 parameter(s). Use this estimate with caution and run a longer chain!\n",
      "N/50 = 400;\n",
      "tau: [1772.0733578  1966.70756999  804.60834711 1485.38504116  950.17390607\n",
      " 1978.95899775]\n"
     ]
    },
    {
     "name": "stderr",
     "output_type": "stream",
     "text": [
      "/its/home/dt237/.conda/envs/xga_env/lib/python3.8/site-packages/xga/products/profile.py:1465: UserWarning: Some radii are outside the data range covered by the temperature or density profiles, as such you will be extrapolating based on the model fits.\n",
      "  warn(\"Some radii are outside the data range covered by the temperature or density profiles, as such \"\n",
      "/its/home/dt237/.conda/envs/xga_env/lib/python3.8/site-packages/xga/sourcetools/mass.py:209: UserWarning: A mass of less than zero was measured by a hydrostatic mass profile, this is not physical and the profile is not valid.\n",
      "  warn(\"A mass of less than zero was measured by a hydrostatic mass profile, this is not physical\"\n",
      "Generating G008.44-56.35 hydrostatic mass profile:   4%|▊                   | 5/119 [02:48<1:28:14, 46.44s/it]"
     ]
    },
    {
     "name": "stdout",
     "output_type": "stream",
     "text": [
      "The chain is shorter than 50 times the integrated autocorrelation time for 6 parameter(s). Use this estimate with caution and run a longer chain!\n",
      "N/50 = 400;\n",
      "tau: [1226.83024868 1299.1609073   873.34959832 1139.26410964  769.94359299\n",
      "  787.51837695]\n",
      "The chain is shorter than 50 times the integrated autocorrelation time for 1 parameter(s). Use this estimate with caution and run a longer chain!\n",
      "N/50 = 400;\n",
      "tau: [ 85.83913961  88.34073489 702.92290019  88.2997803   83.93093345\n",
      "  85.25204022]\n"
     ]
    },
    {
     "name": "stderr",
     "output_type": "stream",
     "text": [
      "/its/home/dt237/.conda/envs/xga_env/lib/python3.8/site-packages/xga/products/profile.py:1465: UserWarning: Some radii are outside the data range covered by the temperature or density profiles, as such you will be extrapolating based on the model fits.\n",
      "  warn(\"Some radii are outside the data range covered by the temperature or density profiles, as such \"\n",
      "Generating G008.93-81.23 hydrostatic mass profile:   5%|█                   | 6/119 [03:41<1:07:55, 36.06s/it]"
     ]
    },
    {
     "name": "stdout",
     "output_type": "stream",
     "text": [
      "The chain is shorter than 50 times the integrated autocorrelation time for 6 parameter(s). Use this estimate with caution and run a longer chain!\n",
      "N/50 = 400;\n",
      "tau: [872.96779107 758.1903423  662.35546579 659.54403367 801.97206881\n",
      " 666.62723135]\n",
      "The chain is shorter than 50 times the integrated autocorrelation time for 1 parameter(s). Use this estimate with caution and run a longer chain!\n",
      "N/50 = 400;\n",
      "tau: [  89.12489194   82.93914648 1263.38868563   92.86722653   53.66508003\n",
      "   75.66852993]\n"
     ]
    },
    {
     "name": "stderr",
     "output_type": "stream",
     "text": [
      "Generating G021.09+33.25 hydrostatic mass profile:   6%|█▏                  | 7/119 [04:29<1:13:36, 39.44s/it]/its/home/dt237/.conda/envs/xga_env/lib/python3.8/site-packages/xga/products/profile.py:1465: UserWarning: Some radii are outside the data range covered by the temperature or density profiles, as such you will be extrapolating based on the model fits.\n",
      "  warn(\"Some radii are outside the data range covered by the temperature or density profiles, as such \"\n"
     ]
    },
    {
     "name": "stdout",
     "output_type": "stream",
     "text": [
      "The chain is shorter than 50 times the integrated autocorrelation time for 1 parameter(s). Use this estimate with caution and run a longer chain!\n",
      "N/50 = 400;\n",
      "tau: [ 80.63315881  78.99209445 654.2643812   79.81458365  86.65830634\n",
      "  65.74301882]\n"
     ]
    },
    {
     "name": "stderr",
     "output_type": "stream",
     "text": [
      "/its/home/dt237/.conda/envs/xga_env/lib/python3.8/site-packages/xga/products/profile.py:1465: UserWarning: Some radii are outside the data range covered by the temperature or density profiles, as such you will be extrapolating based on the model fits.\n",
      "  warn(\"Some radii are outside the data range covered by the temperature or density profiles, as such \"\n",
      "Generating G036.72+14.92 hydrostatic mass profile:   7%|█▎                  | 8/119 [05:27<1:22:18, 44.50s/it]"
     ]
    },
    {
     "name": "stdout",
     "output_type": "stream",
     "text": [
      "The chain is shorter than 50 times the integrated autocorrelation time for 6 parameter(s). Use this estimate with caution and run a longer chain!\n",
      "N/50 = 400;\n",
      "tau: [667.13402925 648.27532469 664.52012246 732.74540143 476.18844185\n",
      " 471.57122351]\n"
     ]
    },
    {
     "name": "stderr",
     "output_type": "stream",
     "text": [
      "Generating G039.85-39.98 hydrostatic mass profile:   8%|█▌                  | 9/119 [06:20<1:26:02, 46.93s/it]/its/home/dt237/.conda/envs/xga_env/lib/python3.8/site-packages/xga/products/base.py:1010: UserWarning: Optimal parameters not found: The maximum number of function evaluations is exceeded., curve_fit has failed.\n",
      "  warn(\"{}, curve_fit has failed.\".format(str(r_err)))\n",
      "/its/home/dt237/.conda/envs/xga_env/lib/python3.8/site-packages/xga/products/base.py:810: UserWarning: Maximum likelihood estimator has produced at least one start parameter that is outside the allowed values defined by the prior, reverting to default start parameters for this model.\n",
      "  warn(\"Maximum likelihood estimator has produced at least one start parameter that is outside\"\n"
     ]
    },
    {
     "name": "stdout",
     "output_type": "stream",
     "text": [
      "The chain is shorter than 50 times the integrated autocorrelation time for 6 parameter(s). Use this estimate with caution and run a longer chain!\n",
      "N/50 = 400;\n",
      "tau: [495.01762577 605.59083625 535.06098514 748.3782678  487.83911343\n",
      " 473.28376868]\n",
      "The chain is shorter than 50 times the integrated autocorrelation time for 3 parameter(s). Use this estimate with caution and run a longer chain!\n",
      "N/50 = 400;\n",
      "tau: [ 214.2922754   939.36589922 1741.48761085  168.70018393  158.28434767\n",
      " 1292.80984432]\n"
     ]
    },
    {
     "name": "stderr",
     "output_type": "stream",
     "text": [
      "Generating G046.08+27.18 hydrostatic mass profile:   9%|█▊                 | 11/119 [07:11<1:26:28, 48.04s/it]"
     ]
    },
    {
     "name": "stdout",
     "output_type": "stream",
     "text": [
      "The chain is shorter than 50 times the integrated autocorrelation time for 6 parameter(s). Use this estimate with caution and run a longer chain!\n",
      "N/50 = 400;\n",
      "tau: [665.47569753 826.6450801  515.86633067 845.25806226 846.73281921\n",
      " 766.89032283]\n",
      "The chain is shorter than 50 times the integrated autocorrelation time for 6 parameter(s). Use this estimate with caution and run a longer chain!\n",
      "N/50 = 400;\n",
      "tau: [1182.94567891 1541.78314686 1530.92642953 1616.27253825 1259.81182741\n",
      " 1612.43015107]\n"
     ]
    },
    {
     "name": "stderr",
     "output_type": "stream",
     "text": [
      "Generating G046.50-49.43 hydrostatic mass profile:  10%|█▉                 | 12/119 [07:58<1:06:02, 37.03s/it]/its/home/dt237/.conda/envs/xga_env/lib/python3.8/site-packages/xga/products/profile.py:1465: UserWarning: Some radii are outside the data range covered by the temperature or density profiles, as such you will be extrapolating based on the model fits.\n",
      "  warn(\"Some radii are outside the data range covered by the temperature or density profiles, as such \"\n",
      "/its/home/dt237/.conda/envs/xga_env/lib/python3.8/site-packages/xga/products/profile.py:1465: UserWarning: Some radii are outside the data range covered by the temperature or density profiles, as such you will be extrapolating based on the model fits.\n",
      "  warn(\"Some radii are outside the data range covered by the temperature or density profiles, as such \"\n",
      "Generating G049.20+30.86 hydrostatic mass profile:  11%|██                 | 13/119 [09:05<1:18:28, 44.42s/it]"
     ]
    },
    {
     "name": "stdout",
     "output_type": "stream",
     "text": [
      "The chain is shorter than 50 times the integrated autocorrelation time for 3 parameter(s). Use this estimate with caution and run a longer chain!\n",
      "N/50 = 400;\n",
      "tau: [566.35204338 579.43637769 264.56242014 534.39482525 271.16216947\n",
      " 271.79877583]\n",
      "The chain is shorter than 50 times the integrated autocorrelation time for 1 parameter(s). Use this estimate with caution and run a longer chain!\n",
      "N/50 = 400;\n",
      "tau: [ 83.02474518  83.70437463 932.55205674  83.41193629  80.97841101\n",
      "  84.64394198]\n"
     ]
    },
    {
     "name": "stderr",
     "output_type": "stream",
     "text": [
      "Generating G049.33+44.38 hydrostatic mass profile:  12%|██▏                | 14/119 [10:01<1:22:43, 47.27s/it]/its/home/dt237/.conda/envs/xga_env/lib/python3.8/site-packages/xga/products/profile.py:1465: UserWarning: Some radii are outside the data range covered by the temperature or density profiles, as such you will be extrapolating based on the model fits.\n",
      "  warn(\"Some radii are outside the data range covered by the temperature or density profiles, as such \"\n"
     ]
    },
    {
     "name": "stdout",
     "output_type": "stream",
     "text": [
      "The chain is shorter than 50 times the integrated autocorrelation time for 6 parameter(s). Use this estimate with caution and run a longer chain!\n",
      "N/50 = 400;\n",
      "tau: [630.33676352 819.19044581 647.99775481 830.03428988 517.98794338\n",
      " 574.98732615]\n",
      "The chain is shorter than 50 times the integrated autocorrelation time for 1 parameter(s). Use this estimate with caution and run a longer chain!\n",
      "N/50 = 400;\n",
      "tau: [105.17481212 110.63633537 442.87259111 103.39135959 103.6883\n",
      " 113.18235849]\n"
     ]
    },
    {
     "name": "stderr",
     "output_type": "stream",
     "text": [
      "/its/home/dt237/.conda/envs/xga_env/lib/python3.8/site-packages/xga/products/profile.py:1465: UserWarning: Some radii are outside the data range covered by the temperature or density profiles, as such you will be extrapolating based on the model fits.\n",
      "  warn(\"Some radii are outside the data range covered by the temperature or density profiles, as such \"\n",
      "Generating G049.66-49.50 hydrostatic mass profile:  13%|██▍                | 15/119 [10:56<1:25:27, 49.31s/it]"
     ]
    },
    {
     "name": "stdout",
     "output_type": "stream",
     "text": [
      "The chain is shorter than 50 times the integrated autocorrelation time for 5 parameter(s). Use this estimate with caution and run a longer chain!\n",
      "N/50 = 400;\n",
      "tau: [662.46919049 599.06821131 417.23687457 521.16269429 221.35757543\n",
      " 432.37324736]\n",
      "The chain is shorter than 50 times the integrated autocorrelation time for 1 parameter(s). Use this estimate with caution and run a longer chain!\n",
      "N/50 = 400;\n",
      "tau: [ 86.2613348   89.12895782 495.98747009  84.83925114  90.22149736\n",
      "  89.41305836]\n"
     ]
    },
    {
     "name": "stderr",
     "output_type": "stream",
     "text": [
      "Generating G053.52+59.54 hydrostatic mass profile:  13%|██▌                | 16/119 [11:56<1:29:40, 52.24s/it]"
     ]
    },
    {
     "name": "stdout",
     "output_type": "stream",
     "text": [
      "The chain is shorter than 50 times the integrated autocorrelation time for 6 parameter(s). Use this estimate with caution and run a longer chain!\n",
      "N/50 = 400;\n",
      "tau: [1095.82058009 1608.35087781 1472.40313622 1412.13363841 1328.91201467\n",
      " 1567.31790568]\n",
      "The chain is shorter than 50 times the integrated autocorrelation time for 3 parameter(s). Use this estimate with caution and run a longer chain!\n",
      "N/50 = 400;\n",
      "tau: [524.4707363  513.65717561 135.15008437 285.25864714 539.87477391\n",
      " 335.38374006]\n"
     ]
    },
    {
     "name": "stderr",
     "output_type": "stream",
     "text": [
      "Generating G055.60+31.86 hydrostatic mass profile:  14%|██▋                | 17/119 [12:52<1:31:04, 53.57s/it]/its/home/dt237/.conda/envs/xga_env/lib/python3.8/site-packages/xga/products/base.py:1010: UserWarning: Optimal parameters not found: The maximum number of function evaluations is exceeded., curve_fit has failed.\n",
      "  warn(\"{}, curve_fit has failed.\".format(str(r_err)))\n",
      "/its/home/dt237/.conda/envs/xga_env/lib/python3.8/site-packages/xga/products/base.py:810: UserWarning: Maximum likelihood estimator has produced at least one start parameter that is outside the allowed values defined by the prior, reverting to default start parameters for this model.\n",
      "  warn(\"Maximum likelihood estimator has produced at least one start parameter that is outside\"\n"
     ]
    },
    {
     "name": "stdout",
     "output_type": "stream",
     "text": [
      "The chain is shorter than 50 times the integrated autocorrelation time for 6 parameter(s). Use this estimate with caution and run a longer chain!\n",
      "N/50 = 400;\n",
      "tau: [441.94155862 904.94108593 405.51902776 555.39535423 420.92613493\n",
      " 453.9752505 ]\n",
      "The chain is shorter than 50 times the integrated autocorrelation time for 1 parameter(s). Use this estimate with caution and run a longer chain!\n",
      "N/50 = 400;\n",
      "tau: [ 91.10356254  89.32756992 461.14230814  87.14912797  90.14288895\n",
      "  85.43475812]\n"
     ]
    },
    {
     "name": "stderr",
     "output_type": "stream",
     "text": [
      "Generating G055.97-34.88 hydrostatic mass profile:  15%|██▊                | 18/119 [13:44<1:29:12, 53.00s/it]/its/home/dt237/.conda/envs/xga_env/lib/python3.8/site-packages/xga/products/profile.py:1465: UserWarning: Some radii are outside the data range covered by the temperature or density profiles, as such you will be extrapolating based on the model fits.\n",
      "  warn(\"Some radii are outside the data range covered by the temperature or density profiles, as such \"\n"
     ]
    },
    {
     "name": "stdout",
     "output_type": "stream",
     "text": [
      "The chain is shorter than 50 times the integrated autocorrelation time for 5 parameter(s). Use this estimate with caution and run a longer chain!\n",
      "N/50 = 400;\n",
      "tau: [ 650.35615382 1935.09344684 2101.88974653 1724.41762571  372.76672238\n",
      "  966.59550998]\n",
      "The chain is shorter than 50 times the integrated autocorrelation time for 3 parameter(s). Use this estimate with caution and run a longer chain!\n",
      "N/50 = 400;\n",
      "tau: [538.63241676 492.55441694 198.79119306 416.40292948 331.15817767\n",
      " 241.11844306]\n"
     ]
    },
    {
     "name": "stderr",
     "output_type": "stream",
     "text": [
      "/its/home/dt237/.conda/envs/xga_env/lib/python3.8/site-packages/xga/products/profile.py:1465: UserWarning: Some radii are outside the data range covered by the temperature or density profiles, as such you will be extrapolating based on the model fits.\n",
      "  warn(\"Some radii are outside the data range covered by the temperature or density profiles, as such \"\n",
      "Generating G056.81+36.31 hydrostatic mass profile:  16%|███                | 19/119 [14:36<1:27:48, 52.68s/it]"
     ]
    },
    {
     "name": "stdout",
     "output_type": "stream",
     "text": [
      "The chain is shorter than 50 times the integrated autocorrelation time for 6 parameter(s). Use this estimate with caution and run a longer chain!\n",
      "N/50 = 400;\n",
      "tau: [1421.65644895 1581.02645826 1139.53937381 1273.27601828  857.5202736\n",
      " 1028.97347009]\n"
     ]
    },
    {
     "name": "stderr",
     "output_type": "stream",
     "text": [
      "/its/home/dt237/.conda/envs/xga_env/lib/python3.8/site-packages/xga/products/profile.py:1465: UserWarning: Some radii are outside the data range covered by the temperature or density profiles, as such you will be extrapolating based on the model fits.\n",
      "  warn(\"Some radii are outside the data range covered by the temperature or density profiles, as such \"\n",
      "Generating G056.96-55.07 hydrostatic mass profile:  17%|███▏               | 20/119 [15:36<1:30:22, 54.77s/it]"
     ]
    },
    {
     "name": "stdout",
     "output_type": "stream",
     "text": [
      "The chain is shorter than 50 times the integrated autocorrelation time for 6 parameter(s). Use this estimate with caution and run a longer chain!\n",
      "N/50 = 400;\n",
      "tau: [1289.58648641 1477.3314598   923.76756258 1350.05276397 1009.17459046\n",
      " 1247.73361095]\n",
      "The chain is shorter than 50 times the integrated autocorrelation time for 6 parameter(s). Use this estimate with caution and run a longer chain!\n",
      "N/50 = 400;\n",
      "tau: [1013.30815216 1077.1601301   572.38615409 1133.49482492  873.19775476\n",
      "  924.00193335]\n"
     ]
    },
    {
     "name": "stderr",
     "output_type": "stream",
     "text": [
      "Generating G057.26-45.35 hydrostatic mass profile:  18%|███▎               | 21/119 [16:25<1:26:46, 53.13s/it]"
     ]
    },
    {
     "name": "stdout",
     "output_type": "stream",
     "text": [
      "The chain is shorter than 50 times the integrated autocorrelation time for 4 parameter(s). Use this estimate with caution and run a longer chain!\n",
      "N/50 = 400;\n",
      "tau: [306.47355052 626.09773788 644.88776696 516.51587452 378.82731357\n",
      " 400.6581626 ]\n"
     ]
    },
    {
     "name": "stderr",
     "output_type": "stream",
     "text": [
      "Generating G062.42-46.41 hydrostatic mass profile:  19%|███▋               | 23/119 [17:12<1:22:13, 51.39s/it]"
     ]
    },
    {
     "name": "stdout",
     "output_type": "stream",
     "text": [
      "The chain is shorter than 50 times the integrated autocorrelation time for 6 parameter(s). Use this estimate with caution and run a longer chain!\n",
      "N/50 = 400;\n",
      "tau: [622.90615625 534.27315297 657.06258041 780.21222092 417.90775439\n",
      " 417.24424222]\n",
      "The chain is shorter than 50 times the integrated autocorrelation time for 1 parameter(s). Use this estimate with caution and run a longer chain!\n",
      "N/50 = 400;\n",
      "tau: [ 99.75501501 126.98519154 428.69328106 104.75356381  71.37825412\n",
      " 123.98659006]\n"
     ]
    },
    {
     "name": "stderr",
     "output_type": "stream",
     "text": [
      "Generating G067.23+67.46 hydrostatic mass profile:  20%|███▊               | 24/119 [18:09<1:04:49, 40.94s/it]"
     ]
    },
    {
     "name": "stdout",
     "output_type": "stream",
     "text": [
      "The chain is shorter than 50 times the integrated autocorrelation time for 5 parameter(s). Use this estimate with caution and run a longer chain!\n",
      "N/50 = 400;\n",
      "tau: [480.92028457 881.11834117 506.94353183 685.035251   399.56296547\n",
      " 512.93925494]\n",
      "The chain is shorter than 50 times the integrated autocorrelation time for 1 parameter(s). Use this estimate with caution and run a longer chain!\n",
      "N/50 = 400;\n",
      "tau: [104.80404344 123.64277445 565.83184426  91.36650926 105.99303486\n",
      " 136.3990325 ]\n"
     ]
    },
    {
     "name": "stderr",
     "output_type": "stream",
     "text": [
      "Generating G071.61+29.79 hydrostatic mass profile:  21%|███▉               | 25/119 [19:03<1:09:03, 44.08s/it]/its/home/dt237/.conda/envs/xga_env/lib/python3.8/site-packages/xga/products/profile.py:1465: UserWarning: Some radii are outside the data range covered by the temperature or density profiles, as such you will be extrapolating based on the model fits.\n",
      "  warn(\"Some radii are outside the data range covered by the temperature or density profiles, as such \"\n"
     ]
    },
    {
     "name": "stdout",
     "output_type": "stream",
     "text": [
      "The chain is shorter than 50 times the integrated autocorrelation time for 6 parameter(s). Use this estimate with caution and run a longer chain!\n",
      "N/50 = 400;\n",
      "tau: [ 783.41063722  870.96763109  954.70579022 1013.99387667  721.03643124\n",
      "  778.7806504 ]\n",
      "The chain is shorter than 50 times the integrated autocorrelation time for 6 parameter(s). Use this estimate with caution and run a longer chain!\n",
      "N/50 = 400;\n",
      "tau: [1213.98146046 1557.87431155 1073.68206846  967.6950193  1231.52290769\n",
      " 1356.97902444]\n"
     ]
    },
    {
     "name": "stderr",
     "output_type": "stream",
     "text": [
      "/its/home/dt237/.conda/envs/xga_env/lib/python3.8/site-packages/xga/products/profile.py:1465: UserWarning: Some radii are outside the data range covered by the temperature or density profiles, as such you will be extrapolating based on the model fits.\n",
      "  warn(\"Some radii are outside the data range covered by the temperature or density profiles, as such \"\n",
      "Generating G072.80-18.72 hydrostatic mass profile:  23%|████▎              | 27/119 [19:56<1:10:59, 46.30s/it]"
     ]
    },
    {
     "name": "stdout",
     "output_type": "stream",
     "text": [
      "The chain is shorter than 50 times the integrated autocorrelation time for 3 parameter(s). Use this estimate with caution and run a longer chain!\n",
      "N/50 = 400;\n",
      "tau: [423.97379079 617.88256657 310.78208004 563.04141424 215.67577263\n",
      " 210.73793948]\n",
      "The chain is shorter than 50 times the integrated autocorrelation time for 1 parameter(s). Use this estimate with caution and run a longer chain!\n",
      "N/50 = 400;\n",
      "tau: [ 90.14683927 109.69877728 720.41320849  86.84310918  83.3587621\n",
      " 117.17327736]\n"
     ]
    },
    {
     "name": "stderr",
     "output_type": "stream",
     "text": [
      "/its/home/dt237/.conda/envs/xga_env/lib/python3.8/site-packages/xga/products/profile.py:1465: UserWarning: Some radii are outside the data range covered by the temperature or density profiles, as such you will be extrapolating based on the model fits.\n",
      "  warn(\"Some radii are outside the data range covered by the temperature or density profiles, as such \"\n",
      "Generating G073.96-27.82 hydrostatic mass profile:  24%|████▉                | 28/119 [20:52<58:19, 38.45s/it]"
     ]
    },
    {
     "name": "stdout",
     "output_type": "stream",
     "text": [
      "The chain is shorter than 50 times the integrated autocorrelation time for 1 parameter(s). Use this estimate with caution and run a longer chain!\n",
      "N/50 = 400;\n",
      "tau: [ 79.81327999  89.33294908 703.86974134  77.91373295  78.28196713\n",
      "  90.19192897]\n"
     ]
    },
    {
     "name": "stderr",
     "output_type": "stream",
     "text": [
      "Generating G080.38-33.20 hydrostatic mass profile:  24%|████▋              | 29/119 [21:47<1:03:29, 42.33s/it]/its/home/dt237/.conda/envs/xga_env/lib/python3.8/site-packages/xga/products/profile.py:1465: UserWarning: Some radii are outside the data range covered by the temperature or density profiles, as such you will be extrapolating based on the model fits.\n",
      "  warn(\"Some radii are outside the data range covered by the temperature or density profiles, as such \"\n"
     ]
    },
    {
     "name": "stdout",
     "output_type": "stream",
     "text": [
      "The chain is shorter than 50 times the integrated autocorrelation time for 6 parameter(s). Use this estimate with caution and run a longer chain!\n",
      "N/50 = 400;\n",
      "tau: [547.19369278 761.51415533 944.649359   676.92112236 583.89524954\n",
      " 587.64186711]\n",
      "The chain is shorter than 50 times the integrated autocorrelation time for 1 parameter(s). Use this estimate with caution and run a longer chain!\n",
      "N/50 = 400;\n",
      "tau: [112.8881894  114.71494456 565.31738425 114.57312141 116.57662323\n",
      " 129.42851176]\n"
     ]
    },
    {
     "name": "stderr",
     "output_type": "stream",
     "text": [
      "/its/home/dt237/.conda/envs/xga_env/lib/python3.8/site-packages/xga/products/profile.py:1465: UserWarning: Some radii are outside the data range covered by the temperature or density profiles, as such you will be extrapolating based on the model fits.\n",
      "  warn(\"Some radii are outside the data range covered by the temperature or density profiles, as such \"\n",
      "Generating G080.99-50.90 hydrostatic mass profile:  25%|████▊              | 30/119 [22:43<1:07:54, 45.78s/it]"
     ]
    },
    {
     "name": "stdout",
     "output_type": "stream",
     "text": [
      "The chain is shorter than 50 times the integrated autocorrelation time for 6 parameter(s). Use this estimate with caution and run a longer chain!\n",
      "N/50 = 400;\n",
      "tau: [428.42421077 906.90061508 701.20112337 632.29589317 434.06513756\n",
      " 536.9517808 ]\n",
      "The chain is shorter than 50 times the integrated autocorrelation time for 1 parameter(s). Use this estimate with caution and run a longer chain!\n",
      "N/50 = 400;\n",
      "tau: [ 92.86756714 102.09138264 445.51195208  88.93649405  91.5553588\n",
      " 111.09385943]\n"
     ]
    },
    {
     "name": "stderr",
     "output_type": "stream",
     "text": [
      "Generating G083.28-31.03 hydrostatic mass profile:  26%|████▉              | 31/119 [23:32<1:08:37, 46.79s/it]"
     ]
    },
    {
     "name": "stdout",
     "output_type": "stream",
     "text": [
      "The chain is shorter than 50 times the integrated autocorrelation time for 6 parameter(s). Use this estimate with caution and run a longer chain!\n",
      "N/50 = 400;\n",
      "tau: [759.22128126 630.19427541 577.91916733 593.55354725 684.39566535\n",
      " 691.18040941]\n",
      "The chain is shorter than 50 times the integrated autocorrelation time for 3 parameter(s). Use this estimate with caution and run a longer chain!\n",
      "N/50 = 400;\n",
      "tau: [216.58643041 522.38432313 726.04506723 156.13303052 140.65497903\n",
      " 644.7809253 ]\n"
     ]
    },
    {
     "name": "stderr",
     "output_type": "stream",
     "text": [
      "Generating G085.99+26.71 hydrostatic mass profile:  27%|█████              | 32/119 [24:19<1:07:58, 46.88s/it]/its/home/dt237/.conda/envs/xga_env/lib/python3.8/site-packages/xga/products/profile.py:1465: UserWarning: Some radii are outside the data range covered by the temperature or density profiles, as such you will be extrapolating based on the model fits.\n",
      "  warn(\"Some radii are outside the data range covered by the temperature or density profiles, as such \"\n"
     ]
    },
    {
     "name": "stdout",
     "output_type": "stream",
     "text": [
      "The chain is shorter than 50 times the integrated autocorrelation time for 6 parameter(s). Use this estimate with caution and run a longer chain!\n",
      "N/50 = 400;\n",
      "tau: [ 970.11413598  939.8847619   972.06818563 1018.48531376  698.02936757\n",
      "  960.48811359]\n",
      "The chain is shorter than 50 times the integrated autocorrelation time for 5 parameter(s). Use this estimate with caution and run a longer chain!\n",
      "N/50 = 400;\n",
      "tau: [774.81789454 756.08870059 371.32402402 650.15818328 470.46648509\n",
      " 483.25363883]\n"
     ]
    },
    {
     "name": "stderr",
     "output_type": "stream",
     "text": [
      "/its/home/dt237/.conda/envs/xga_env/lib/python3.8/site-packages/xga/products/profile.py:1465: UserWarning: Some radii are outside the data range covered by the temperature or density profiles, as such you will be extrapolating based on the model fits.\n",
      "  warn(\"Some radii are outside the data range covered by the temperature or density profiles, as such \"\n",
      "Generating G086.45+15.29 hydrostatic mass profile:  28%|█████▎             | 33/119 [25:09<1:08:23, 47.71s/it]"
     ]
    },
    {
     "name": "stdout",
     "output_type": "stream",
     "text": [
      "The chain is shorter than 50 times the integrated autocorrelation time for 1 parameter(s). Use this estimate with caution and run a longer chain!\n",
      "N/50 = 400;\n",
      "tau: [136.85559703 171.09696509 458.83838993 248.59470408 380.82544269\n",
      " 217.28375442]\n",
      "The chain is shorter than 50 times the integrated autocorrelation time for 1 parameter(s). Use this estimate with caution and run a longer chain!\n",
      "N/50 = 400;\n",
      "tau: [132.67639021 141.61929475 552.551317   123.23035547 126.37444477\n",
      " 158.47346578]\n"
     ]
    },
    {
     "name": "stderr",
     "output_type": "stream",
     "text": [
      "Generating G092.73+73.46 hydrostatic mass profile:  29%|█████▍             | 34/119 [26:02<1:09:32, 49.09s/it]/its/home/dt237/.conda/envs/xga_env/lib/python3.8/site-packages/xga/products/profile.py:1465: UserWarning: Some radii are outside the data range covered by the temperature or density profiles, as such you will be extrapolating based on the model fits.\n",
      "  warn(\"Some radii are outside the data range covered by the temperature or density profiles, as such \"\n"
     ]
    },
    {
     "name": "stdout",
     "output_type": "stream",
     "text": [
      "The chain is shorter than 50 times the integrated autocorrelation time for 4 parameter(s). Use this estimate with caution and run a longer chain!\n",
      "N/50 = 400;\n",
      "tau: [564.29500621 557.76032086 540.91958107 501.18117435 393.55438298\n",
      " 392.24928797]\n",
      "The chain is shorter than 50 times the integrated autocorrelation time for 3 parameter(s). Use this estimate with caution and run a longer chain!\n",
      "N/50 = 400;\n",
      "tau: [179.80739485 481.18120562 990.57763412 227.9379714  225.67893897\n",
      " 791.14532968]\n"
     ]
    },
    {
     "name": "stderr",
     "output_type": "stream",
     "text": [
      "/its/home/dt237/.conda/envs/xga_env/lib/python3.8/site-packages/xga/products/profile.py:1465: UserWarning: Some radii are outside the data range covered by the temperature or density profiles, as such you will be extrapolating based on the model fits.\n",
      "  warn(\"Some radii are outside the data range covered by the temperature or density profiles, as such \"\n",
      "Generating G096.87+24.21 hydrostatic mass profile:  30%|█████▋             | 36/119 [26:52<1:08:30, 49.52s/it]"
     ]
    },
    {
     "name": "stdout",
     "output_type": "stream",
     "text": [
      "The chain is shorter than 50 times the integrated autocorrelation time for 6 parameter(s). Use this estimate with caution and run a longer chain!\n",
      "N/50 = 400;\n",
      "tau: [475.36075916 612.59676276 479.3406567  455.26811164 419.91557786\n",
      " 483.06539649]\n"
     ]
    },
    {
     "name": "stderr",
     "output_type": "stream",
     "text": [
      "Generating G097.73+38.11 hydrostatic mass profile:  31%|██████▌              | 37/119 [27:39<51:30, 37.69s/it]"
     ]
    },
    {
     "name": "stdout",
     "output_type": "stream",
     "text": [
      "The chain is shorter than 50 times the integrated autocorrelation time for 3 parameter(s). Use this estimate with caution and run a longer chain!\n",
      "N/50 = 400;\n",
      "tau: [ 261.24279935  841.57203383 1980.91563878  231.16481586  191.24208764\n",
      "  918.73546248]\n"
     ]
    },
    {
     "name": "stderr",
     "output_type": "stream",
     "text": [
      "/its/home/dt237/.conda/envs/xga_env/lib/python3.8/site-packages/xga/products/profile.py:1465: UserWarning: Some radii are outside the data range covered by the temperature or density profiles, as such you will be extrapolating based on the model fits.\n",
      "  warn(\"Some radii are outside the data range covered by the temperature or density profiles, as such \"\n"
     ]
    },
    {
     "name": "stdout",
     "output_type": "stream",
     "text": [
      "The chain is shorter than 50 times the integrated autocorrelation time for 6 parameter(s). Use this estimate with caution and run a longer chain!\n",
      "N/50 = 400;\n",
      "tau: [1368.01302012 1476.7595222  1923.28147774 1850.56504129 1097.63710043\n",
      " 1290.59569789]\n",
      "The chain is shorter than 50 times the integrated autocorrelation time for 6 parameter(s). Use this estimate with caution and run a longer chain!\n",
      "N/50 = 400;\n",
      "tau: [1679.43950408 1850.18752913 1447.25598681  740.04065429 1752.4851049\n",
      " 1774.3448598 ]\n"
     ]
    },
    {
     "name": "stderr",
     "output_type": "stream",
     "text": [
      "/its/home/dt237/.conda/envs/xga_env/lib/python3.8/site-packages/xga/products/profile.py:1465: UserWarning: Some radii are outside the data range covered by the temperature or density profiles, as such you will be extrapolating based on the model fits.\n",
      "  warn(\"Some radii are outside the data range covered by the temperature or density profiles, as such \"\n",
      "Generating G098.95+24.86 hydrostatic mass profile:  32%|██████▋              | 38/119 [28:34<56:38, 41.96s/it]/its/home/dt237/.conda/envs/xga_env/lib/python3.8/site-packages/xga/products/base.py:1010: UserWarning: Optimal parameters not found: The maximum number of function evaluations is exceeded., curve_fit has failed.\n",
      "  warn(\"{}, curve_fit has failed.\".format(str(r_err)))\n"
     ]
    },
    {
     "name": "stdout",
     "output_type": "stream",
     "text": [
      "The chain is shorter than 50 times the integrated autocorrelation time for 5 parameter(s). Use this estimate with caution and run a longer chain!\n",
      "N/50 = 400;\n",
      "tau: [ 746.7504676  1032.0891279  1034.52783528 1048.14826712  340.24574313\n",
      "  479.75972715]\n"
     ]
    },
    {
     "name": "stderr",
     "output_type": "stream",
     "text": [
      "/its/home/dt237/.conda/envs/xga_env/lib/python3.8/site-packages/xga/products/profile.py:1465: UserWarning: Some radii are outside the data range covered by the temperature or density profiles, as such you will be extrapolating based on the model fits.\n",
      "  warn(\"Some radii are outside the data range covered by the temperature or density profiles, as such \"\n",
      "Generating G106.73-83.22 hydrostatic mass profile:  33%|██████▏            | 39/119 [29:32<1:01:28, 46.10s/it]/its/home/dt237/.conda/envs/xga_env/lib/python3.8/site-packages/xga/products/base.py:1010: UserWarning: Optimal parameters not found: The maximum number of function evaluations is exceeded., curve_fit has failed.\n",
      "  warn(\"{}, curve_fit has failed.\".format(str(r_err)))\n",
      "/its/home/dt237/.conda/envs/xga_env/lib/python3.8/site-packages/xga/models/temperature.py:109: RuntimeWarning: overflow encountered in power\n",
      "  cool_expr = ((t_min / t_zero) + (x / r_cool)**a_cool) / (1 + (x / r_cool)**a_cool)\n",
      "/its/home/dt237/.conda/envs/xga_env/lib/python3.8/site-packages/xga/models/temperature.py:109: RuntimeWarning: invalid value encountered in true_divide\n",
      "  cool_expr = ((t_min / t_zero) + (x / r_cool)**a_cool) / (1 + (x / r_cool)**a_cool)\n",
      "/its/home/dt237/.conda/envs/xga_env/lib/python3.8/site-packages/xga/models/temperature.py:109: RuntimeWarning: overflow encountered in power\n",
      "  cool_expr = ((t_min / t_zero) + (x / r_cool)**a_cool) / (1 + (x / r_cool)**a_cool)\n",
      "/its/home/dt237/.conda/envs/xga_env/lib/python3.8/site-packages/xga/models/temperature.py:109: RuntimeWarning: invalid value encountered in true_divide\n",
      "  cool_expr = ((t_min / t_zero) + (x / r_cool)**a_cool) / (1 + (x / r_cool)**a_cool)\n",
      "/its/home/dt237/.conda/envs/xga_env/lib/python3.8/site-packages/xga/models/temperature.py:109: RuntimeWarning: overflow encountered in power\n",
      "  cool_expr = ((t_min / t_zero) + (x / r_cool)**a_cool) / (1 + (x / r_cool)**a_cool)\n",
      "/its/home/dt237/.conda/envs/xga_env/lib/python3.8/site-packages/xga/models/temperature.py:109: RuntimeWarning: invalid value encountered in true_divide\n",
      "  cool_expr = ((t_min / t_zero) + (x / r_cool)**a_cool) / (1 + (x / r_cool)**a_cool)\n",
      "/its/home/dt237/.conda/envs/xga_env/lib/python3.8/site-packages/xga/products/base.py:810: UserWarning: Maximum likelihood estimator has produced at least one start parameter that is outside the allowed values defined by the prior, reverting to default start parameters for this model.\n",
      "  warn(\"Maximum likelihood estimator has produced at least one start parameter that is outside\"\n"
     ]
    },
    {
     "name": "stdout",
     "output_type": "stream",
     "text": [
      "The chain is shorter than 50 times the integrated autocorrelation time for 6 parameter(s). Use this estimate with caution and run a longer chain!\n",
      "N/50 = 400;\n",
      "tau: [564.75221938 969.88940478 491.39107435 505.89214216 485.10473156\n",
      " 635.01868668]\n",
      "The chain is shorter than 50 times the integrated autocorrelation time for 1 parameter(s). Use this estimate with caution and run a longer chain!\n",
      "N/50 = 400;\n",
      "tau: [ 99.39815003 103.8910654  897.97566883 117.69020448 124.35418381\n",
      " 226.54569898]\n"
     ]
    },
    {
     "name": "stderr",
     "output_type": "stream",
     "text": [
      "Generating G107.11+65.31 hydrostatic mass profile:  34%|██████▍            | 40/119 [30:20<1:01:19, 46.58s/it]"
     ]
    },
    {
     "name": "stdout",
     "output_type": "stream",
     "text": [
      "The chain is shorter than 50 times the integrated autocorrelation time for 5 parameter(s). Use this estimate with caution and run a longer chain!\n",
      "N/50 = 400;\n",
      "tau: [464.53652576 598.52028524 526.88919169 666.99308434 382.92426772\n",
      " 507.13705027]\n",
      "The chain is shorter than 50 times the integrated autocorrelation time for 4 parameter(s). Use this estimate with caution and run a longer chain!\n",
      "N/50 = 400;\n",
      "tau: [350.21027737 572.79372517 547.90470965 122.98932718 411.29412018\n",
      " 592.27528798]\n"
     ]
    },
    {
     "name": "stderr",
     "output_type": "stream",
     "text": [
      "Generating G113.82+44.35 hydrostatic mass profile:  34%|██████▌            | 41/119 [31:09<1:01:10, 47.06s/it]/its/home/dt237/.conda/envs/xga_env/lib/python3.8/site-packages/xga/products/profile.py:1465: UserWarning: Some radii are outside the data range covered by the temperature or density profiles, as such you will be extrapolating based on the model fits.\n",
      "  warn(\"Some radii are outside the data range covered by the temperature or density profiles, as such \"\n"
     ]
    },
    {
     "name": "stdout",
     "output_type": "stream",
     "text": [
      "The chain is shorter than 50 times the integrated autocorrelation time for 6 parameter(s). Use this estimate with caution and run a longer chain!\n",
      "N/50 = 400;\n",
      "tau: [1232.78893349 1192.56873918 2395.76826073  745.23012572  422.54102022\n",
      "  621.67444679]\n"
     ]
    },
    {
     "name": "stderr",
     "output_type": "stream",
     "text": [
      "/its/home/dt237/.conda/envs/xga_env/lib/python3.8/site-packages/xga/products/profile.py:1465: UserWarning: Some radii are outside the data range covered by the temperature or density profiles, as such you will be extrapolating based on the model fits.\n",
      "  warn(\"Some radii are outside the data range covered by the temperature or density profiles, as such \"\n",
      "Generating G124.21-36.48 hydrostatic mass profile:  35%|██████▋            | 42/119 [31:57<1:00:58, 47.51s/it]"
     ]
    },
    {
     "name": "stdout",
     "output_type": "stream",
     "text": [
      "The chain is shorter than 50 times the integrated autocorrelation time for 1 parameter(s). Use this estimate with caution and run a longer chain!\n",
      "N/50 = 400;\n",
      "tau: [  95.41369603   96.66445316 1325.7849441    96.2174855   143.46330539\n",
      "  103.3286162 ]\n"
     ]
    },
    {
     "name": "stderr",
     "output_type": "stream",
     "text": [
      "/its/home/dt237/.conda/envs/xga_env/lib/python3.8/site-packages/xga/products/profile.py:1465: UserWarning: Some radii are outside the data range covered by the temperature or density profiles, as such you will be extrapolating based on the model fits.\n",
      "  warn(\"Some radii are outside the data range covered by the temperature or density profiles, as such \"\n",
      "Generating G125.70+53.85 hydrostatic mass profile:  36%|██████▊            | 43/119 [32:49<1:01:42, 48.72s/it]"
     ]
    },
    {
     "name": "stdout",
     "output_type": "stream",
     "text": [
      "The chain is shorter than 50 times the integrated autocorrelation time for 2 parameter(s). Use this estimate with caution and run a longer chain!\n",
      "N/50 = 400;\n",
      "tau: [338.7429994  649.97773748 436.44469433 349.44781522 336.9291771\n",
      " 278.47260561]\n"
     ]
    },
    {
     "name": "stderr",
     "output_type": "stream",
     "text": [
      "Generating G139.19+56.35 hydrostatic mass profile:  37%|███████            | 44/119 [33:37<1:00:32, 48.43s/it]"
     ]
    },
    {
     "name": "stdout",
     "output_type": "stream",
     "text": [
      "The chain is shorter than 50 times the integrated autocorrelation time for 2 parameter(s). Use this estimate with caution and run a longer chain!\n",
      "N/50 = 400;\n",
      "tau: [129.71308975 203.33593145 540.53497245 128.14337621 125.83766032\n",
      " 401.38171591]\n",
      "The chain is shorter than 50 times the integrated autocorrelation time for 5 parameter(s). Use this estimate with caution and run a longer chain!\n",
      "N/50 = 400;\n",
      "tau: [472.07086456 491.1788323  460.24888854 494.16902661 415.02688103\n",
      " 370.4322246 ]\n"
     ]
    },
    {
     "name": "stderr",
     "output_type": "stream",
     "text": [
      "Generating G149.73+34.69 hydrostatic mass profile:  38%|███████▉             | 45/119 [34:23<59:08, 47.96s/it]"
     ]
    },
    {
     "name": "stdout",
     "output_type": "stream",
     "text": [
      "The chain is shorter than 50 times the integrated autocorrelation time for 6 parameter(s). Use this estimate with caution and run a longer chain!\n",
      "N/50 = 400;\n",
      "tau: [ 626.55391442 1156.34023222 1179.72763266 1337.99154967  696.36374108\n",
      " 1290.59733637]\n"
     ]
    },
    {
     "name": "stderr",
     "output_type": "stream",
     "text": [
      "/its/home/dt237/.conda/envs/xga_env/lib/python3.8/site-packages/xga/products/profile.py:1465: UserWarning: Some radii are outside the data range covered by the temperature or density profiles, as such you will be extrapolating based on the model fits.\n",
      "  warn(\"Some radii are outside the data range covered by the temperature or density profiles, as such \"\n"
     ]
    },
    {
     "name": "stdout",
     "output_type": "stream",
     "text": [
      "The chain is shorter than 50 times the integrated autocorrelation time for 6 parameter(s). Use this estimate with caution and run a longer chain!\n",
      "N/50 = 400;\n",
      "tau: [1405.09775053 1348.35601908 1245.9460131  1375.99543796  736.34878349\n",
      " 1491.17011725]\n"
     ]
    },
    {
     "name": "stderr",
     "output_type": "stream",
     "text": [
      "/its/home/dt237/.conda/envs/xga_env/lib/python3.8/site-packages/xga/products/profile.py:1465: UserWarning: Some radii are outside the data range covered by the temperature or density profiles, as such you will be extrapolating based on the model fits.\n",
      "  warn(\"Some radii are outside the data range covered by the temperature or density profiles, as such \"\n",
      "Generating G157.43+30.33 hydrostatic mass profile:  39%|████████             | 46/119 [35:15<59:37, 49.01s/it]"
     ]
    },
    {
     "name": "stdout",
     "output_type": "stream",
     "text": [
      "The chain is shorter than 50 times the integrated autocorrelation time for 4 parameter(s). Use this estimate with caution and run a longer chain!\n",
      "N/50 = 400;\n",
      "tau: [423.16523259 441.14792537 502.44295118 480.5051396  350.05581154\n",
      " 381.97677707]\n"
     ]
    },
    {
     "name": "stderr",
     "output_type": "stream",
     "text": [
      "Generating G159.85-73.47 hydrostatic mass profile:  39%|████████▎            | 47/119 [36:02<58:03, 48.38s/it]"
     ]
    },
    {
     "name": "stdout",
     "output_type": "stream",
     "text": [
      "The chain is shorter than 50 times the integrated autocorrelation time for 6 parameter(s). Use this estimate with caution and run a longer chain!\n",
      "N/50 = 400;\n",
      "tau: [1440.44670565 2253.09395998 1536.79381791 1468.94077661 1731.50479851\n",
      " 1948.20643923]\n"
     ]
    },
    {
     "name": "stderr",
     "output_type": "stream",
     "text": [
      "/its/home/dt237/.conda/envs/xga_env/lib/python3.8/site-packages/xga/products/profile.py:1465: UserWarning: Some radii are outside the data range covered by the temperature or density profiles, as such you will be extrapolating based on the model fits.\n",
      "  warn(\"Some radii are outside the data range covered by the temperature or density profiles, as such \"\n"
     ]
    },
    {
     "name": "stdout",
     "output_type": "stream",
     "text": [
      "The chain is shorter than 50 times the integrated autocorrelation time for 6 parameter(s). Use this estimate with caution and run a longer chain!\n",
      "N/50 = 400;\n",
      "tau: [576.4330058  740.26100406 866.23043249 705.55109849 478.58886372\n",
      " 726.15998694]\n",
      "The chain is shorter than 50 times the integrated autocorrelation time for 6 parameter(s). Use this estimate with caution and run a longer chain!\n",
      "N/50 = 400;\n",
      "tau: [ 760.3455431  1033.21015875  811.6076137   572.74488991  789.16570628\n",
      " 1056.03344487]\n"
     ]
    },
    {
     "name": "stderr",
     "output_type": "stream",
     "text": [
      "/its/home/dt237/.conda/envs/xga_env/lib/python3.8/site-packages/xga/products/profile.py:1465: UserWarning: Some radii are outside the data range covered by the temperature or density profiles, as such you will be extrapolating based on the model fits.\n",
      "  warn(\"Some radii are outside the data range covered by the temperature or density profiles, as such \"\n",
      "Generating G166.13+43.39 hydrostatic mass profile:  41%|████████▋            | 49/119 [36:54<57:54, 49.64s/it]/its/home/dt237/.conda/envs/xga_env/lib/python3.8/site-packages/xga/products/base.py:1010: UserWarning: Optimal parameters not found: The maximum number of function evaluations is exceeded., curve_fit has failed.\n",
      "  warn(\"{}, curve_fit has failed.\".format(str(r_err)))\n",
      "/its/home/dt237/.conda/envs/xga_env/lib/python3.8/site-packages/xga/models/temperature.py:109: RuntimeWarning: overflow encountered in power\n",
      "  cool_expr = ((t_min / t_zero) + (x / r_cool)**a_cool) / (1 + (x / r_cool)**a_cool)\n",
      "/its/home/dt237/.conda/envs/xga_env/lib/python3.8/site-packages/xga/models/temperature.py:109: RuntimeWarning: invalid value encountered in true_divide\n",
      "  cool_expr = ((t_min / t_zero) + (x / r_cool)**a_cool) / (1 + (x / r_cool)**a_cool)\n",
      "/its/home/dt237/.conda/envs/xga_env/lib/python3.8/site-packages/xga/models/temperature.py:109: RuntimeWarning: overflow encountered in power\n",
      "  cool_expr = ((t_min / t_zero) + (x / r_cool)**a_cool) / (1 + (x / r_cool)**a_cool)\n",
      "/its/home/dt237/.conda/envs/xga_env/lib/python3.8/site-packages/xga/models/temperature.py:109: RuntimeWarning: invalid value encountered in true_divide\n",
      "  cool_expr = ((t_min / t_zero) + (x / r_cool)**a_cool) / (1 + (x / r_cool)**a_cool)\n",
      "/its/home/dt237/.conda/envs/xga_env/lib/python3.8/site-packages/xga/models/temperature.py:109: RuntimeWarning: overflow encountered in power\n",
      "  cool_expr = ((t_min / t_zero) + (x / r_cool)**a_cool) / (1 + (x / r_cool)**a_cool)\n",
      "/its/home/dt237/.conda/envs/xga_env/lib/python3.8/site-packages/xga/models/temperature.py:109: RuntimeWarning: invalid value encountered in true_divide\n",
      "  cool_expr = ((t_min / t_zero) + (x / r_cool)**a_cool) / (1 + (x / r_cool)**a_cool)\n",
      "/its/home/dt237/.conda/envs/xga_env/lib/python3.8/site-packages/xga/products/base.py:810: UserWarning: Maximum likelihood estimator has produced at least one start parameter that is outside the allowed values defined by the prior, reverting to default start parameters for this model.\n",
      "  warn(\"Maximum likelihood estimator has produced at least one start parameter that is outside\"\n"
     ]
    },
    {
     "name": "stdout",
     "output_type": "stream",
     "text": [
      "The chain is shorter than 50 times the integrated autocorrelation time for 3 parameter(s). Use this estimate with caution and run a longer chain!\n",
      "N/50 = 400;\n",
      "tau: [405.40950419 819.90968268 374.24939476 448.91442103 310.04353524\n",
      " 268.39656052]\n",
      "The chain is shorter than 50 times the integrated autocorrelation time for 1 parameter(s). Use this estimate with caution and run a longer chain!\n",
      "N/50 = 400;\n",
      "tau: [ 99.66936439 103.66128207 717.68494833 102.35420916 123.18555128\n",
      " 102.56353878]\n"
     ]
    },
    {
     "name": "stderr",
     "output_type": "stream",
     "text": [
      "Generating G167.65+17.64 hydrostatic mass profile:  42%|████████▊            | 50/119 [37:44<43:55, 38.20s/it]/its/home/dt237/.conda/envs/xga_env/lib/python3.8/site-packages/xga/products/profile.py:1465: UserWarning: Some radii are outside the data range covered by the temperature or density profiles, as such you will be extrapolating based on the model fits.\n",
      "  warn(\"Some radii are outside the data range covered by the temperature or density profiles, as such \"\n"
     ]
    },
    {
     "name": "stdout",
     "output_type": "stream",
     "text": [
      "The chain is shorter than 50 times the integrated autocorrelation time for 6 parameter(s). Use this estimate with caution and run a longer chain!\n",
      "N/50 = 400;\n",
      "tau: [535.93829675 643.04002398 558.26446054 501.91676859 912.79055276\n",
      " 473.39899758]\n",
      "The chain is shorter than 50 times the integrated autocorrelation time for 6 parameter(s). Use this estimate with caution and run a longer chain!\n",
      "N/50 = 400;\n",
      "tau: [1561.36425262 2375.97137007 1896.20779306 2279.24949465 1517.28167054\n",
      " 2071.5615089 ]\n"
     ]
    },
    {
     "name": "stderr",
     "output_type": "stream",
     "text": [
      "/its/home/dt237/.conda/envs/xga_env/lib/python3.8/site-packages/xga/products/profile.py:1465: UserWarning: Some radii are outside the data range covered by the temperature or density profiles, as such you will be extrapolating based on the model fits.\n",
      "  warn(\"Some radii are outside the data range covered by the temperature or density profiles, as such \"\n",
      "Generating G180.24+21.04 hydrostatic mass profile:  44%|█████████▏           | 52/119 [38:36<46:27, 41.61s/it]"
     ]
    },
    {
     "name": "stdout",
     "output_type": "stream",
     "text": [
      "The chain is shorter than 50 times the integrated autocorrelation time for 1 parameter(s). Use this estimate with caution and run a longer chain!\n",
      "N/50 = 400;\n",
      "tau: [ 91.90142775  89.28552606 681.68139592  90.99158447  47.22224041\n",
      "  85.38584499]\n"
     ]
    },
    {
     "name": "stderr",
     "output_type": "stream",
     "text": [
      "Generating G186.39+37.25 hydrostatic mass profile:  46%|█████████▋           | 55/119 [39:24<36:42, 34.42s/it]"
     ]
    },
    {
     "name": "stdout",
     "output_type": "stream",
     "text": [
      "The chain is shorter than 50 times the integrated autocorrelation time for 4 parameter(s). Use this estimate with caution and run a longer chain!\n",
      "N/50 = 400;\n",
      "tau: [1408.46362802  673.15179962 1617.98329882  410.12407206  306.36096376\n",
      "  298.45059797]\n"
     ]
    },
    {
     "name": "stderr",
     "output_type": "stream",
     "text": [
      "Generating G195.62+44.05 hydrostatic mass profile:  47%|█████████▉           | 56/119 [40:13<27:06, 25.82s/it]"
     ]
    },
    {
     "name": "stdout",
     "output_type": "stream",
     "text": [
      "The chain is shorter than 50 times the integrated autocorrelation time for 3 parameter(s). Use this estimate with caution and run a longer chain!\n",
      "N/50 = 400;\n",
      "tau: [ 239.74324571  572.51306383 1020.19023835  168.5621072   124.98283488\n",
      "  893.85936357]\n",
      "The chain is shorter than 50 times the integrated autocorrelation time for 4 parameter(s). Use this estimate with caution and run a longer chain!\n",
      "N/50 = 400;\n",
      "tau: [355.96968926 665.26410386 463.22462633 513.94622371 390.55698575\n",
      " 442.96521604]\n",
      "The chain is shorter than 50 times the integrated autocorrelation time for 1 parameter(s). Use this estimate with caution and run a longer chain!\n",
      "N/50 = 400;\n",
      "tau: [ 102.65447988  118.10065719 1007.3161706   105.26698559  145.80479181\n",
      "  125.082323  ]\n"
     ]
    },
    {
     "name": "stderr",
     "output_type": "stream",
     "text": [
      "Generating G195.77-24.30 hydrostatic mass profile:  48%|██████████           | 57/119 [41:01<30:48, 29.82s/it]/its/home/dt237/.conda/envs/xga_env/lib/python3.8/site-packages/xga/products/profile.py:1465: UserWarning: Some radii are outside the data range covered by the temperature or density profiles, as such you will be extrapolating based on the model fits.\n",
      "  warn(\"Some radii are outside the data range covered by the temperature or density profiles, as such \"\n"
     ]
    },
    {
     "name": "stdout",
     "output_type": "stream",
     "text": [
      "The chain is shorter than 50 times the integrated autocorrelation time for 6 parameter(s). Use this estimate with caution and run a longer chain!\n",
      "N/50 = 400;\n",
      "tau: [546.5302176  868.16290099 663.38772275 864.4890049  541.94611548\n",
      " 610.87938501]\n",
      "The chain is shorter than 50 times the integrated autocorrelation time for 6 parameter(s). Use this estimate with caution and run a longer chain!\n",
      "N/50 = 400;\n",
      "tau: [ 911.73865768  985.99194401 1947.43392858  674.91251351  914.50026186\n",
      " 1372.65114682]\n"
     ]
    },
    {
     "name": "stderr",
     "output_type": "stream",
     "text": [
      "/its/home/dt237/.conda/envs/xga_env/lib/python3.8/site-packages/xga/products/profile.py:1465: UserWarning: Some radii are outside the data range covered by the temperature or density profiles, as such you will be extrapolating based on the model fits.\n",
      "  warn(\"Some radii are outside the data range covered by the temperature or density profiles, as such \"\n",
      "Generating G218.85+35.50 hydrostatic mass profile:  49%|██████████▏          | 58/119 [41:53<35:09, 34.59s/it]"
     ]
    },
    {
     "name": "stdout",
     "output_type": "stream",
     "text": [
      "The chain is shorter than 50 times the integrated autocorrelation time for 6 parameter(s). Use this estimate with caution and run a longer chain!\n",
      "N/50 = 400;\n",
      "tau: [763.63556642 984.16088298 631.90886198 749.74884081 573.66009066\n",
      " 628.10752183]\n"
     ]
    },
    {
     "name": "stderr",
     "output_type": "stream",
     "text": [
      "Generating G225.92-19.99 hydrostatic mass profile:  50%|██████████▍          | 59/119 [42:43<38:05, 38.10s/it]"
     ]
    },
    {
     "name": "stdout",
     "output_type": "stream",
     "text": [
      "The chain is shorter than 50 times the integrated autocorrelation time for 3 parameter(s). Use this estimate with caution and run a longer chain!\n",
      "N/50 = 400;\n",
      "tau: [536.70868495 516.206962   194.52081848 545.77965686 291.16867265\n",
      " 302.99271292]\n",
      "The chain is shorter than 50 times the integrated autocorrelation time for 6 parameter(s). Use this estimate with caution and run a longer chain!\n",
      "N/50 = 400;\n",
      "tau: [ 668.04410515  927.83608891  871.74328529 1005.38297909  654.43329203\n",
      "  876.37786955]\n",
      "The chain is shorter than 50 times the integrated autocorrelation time for 6 parameter(s). Use this estimate with caution and run a longer chain!\n",
      "N/50 = 400;\n",
      "tau: [1043.35971859  593.13192367  502.73394745 1075.77656158  797.35558769\n",
      "  482.14592786]\n"
     ]
    },
    {
     "name": "stderr",
     "output_type": "stream",
     "text": [
      "Generating G226.17-21.91 hydrostatic mass profile:  50%|██████████▌          | 60/119 [43:28<38:57, 39.63s/it]/its/home/dt237/.conda/envs/xga_env/lib/python3.8/site-packages/xga/products/profile.py:1465: UserWarning: Some radii are outside the data range covered by the temperature or density profiles, as such you will be extrapolating based on the model fits.\n",
      "  warn(\"Some radii are outside the data range covered by the temperature or density profiles, as such \"\n"
     ]
    },
    {
     "name": "stdout",
     "output_type": "stream",
     "text": [
      "The chain is shorter than 50 times the integrated autocorrelation time for 6 parameter(s). Use this estimate with caution and run a longer chain!\n",
      "N/50 = 400;\n",
      "tau: [ 614.16926553 1115.34514091 1161.32727011  875.23746065  614.37227969\n",
      "  592.94220668]\n"
     ]
    },
    {
     "name": "stderr",
     "output_type": "stream",
     "text": [
      "/its/home/dt237/.conda/envs/xga_env/lib/python3.8/site-packages/xga/products/profile.py:1465: UserWarning: Some radii are outside the data range covered by the temperature or density profiles, as such you will be extrapolating based on the model fits.\n",
      "  warn(\"Some radii are outside the data range covered by the temperature or density profiles, as such \"\n",
      "Generating G226.24+76.76 hydrostatic mass profile:  51%|██████████▊          | 61/119 [44:26<43:00, 44.49s/it]"
     ]
    },
    {
     "name": "stdout",
     "output_type": "stream",
     "text": [
      "The chain is shorter than 50 times the integrated autocorrelation time for 1 parameter(s). Use this estimate with caution and run a longer chain!\n",
      "N/50 = 400;\n",
      "tau: [ 77.75807531  89.01086051 417.77119006  78.04649615  72.21105865\n",
      "  82.02538453]\n"
     ]
    },
    {
     "name": "stderr",
     "output_type": "stream",
     "text": [
      "Generating G228.15+75.19 hydrostatic mass profile:  52%|██████████▉          | 62/119 [45:23<45:30, 47.91s/it]"
     ]
    },
    {
     "name": "stdout",
     "output_type": "stream",
     "text": [
      "The chain is shorter than 50 times the integrated autocorrelation time for 4 parameter(s). Use this estimate with caution and run a longer chain!\n",
      "N/50 = 400;\n",
      "tau: [552.76398436 720.7837588  483.55363516 584.58168971 374.44304973\n",
      " 391.38062405]\n"
     ]
    },
    {
     "name": "stderr",
     "output_type": "stream",
     "text": [
      "Generating G228.49+53.12 hydrostatic mass profile:  53%|███████████          | 63/119 [46:09<44:14, 47.40s/it]"
     ]
    },
    {
     "name": "stdout",
     "output_type": "stream",
     "text": [
      "The chain is shorter than 50 times the integrated autocorrelation time for 1 parameter(s). Use this estimate with caution and run a longer chain!\n",
      "N/50 = 400;\n",
      "tau: [  98.55306827  100.35479551 1043.04774511  117.91262793  114.95053535\n",
      "  110.69229591]\n"
     ]
    },
    {
     "name": "stderr",
     "output_type": "stream",
     "text": [
      "/its/home/dt237/.conda/envs/xga_env/lib/python3.8/site-packages/xga/products/profile.py:1465: UserWarning: Some radii are outside the data range covered by the temperature or density profiles, as such you will be extrapolating based on the model fits.\n",
      "  warn(\"Some radii are outside the data range covered by the temperature or density profiles, as such \"\n"
     ]
    },
    {
     "name": "stdout",
     "output_type": "stream",
     "text": [
      "The chain is shorter than 50 times the integrated autocorrelation time for 6 parameter(s). Use this estimate with caution and run a longer chain!\n",
      "N/50 = 400;\n",
      "tau: [1041.33708691 1542.23061478 1312.99414942 1258.40554255  914.46509166\n",
      "  823.1454494 ]\n",
      "The chain is shorter than 50 times the integrated autocorrelation time for 1 parameter(s). Use this estimate with caution and run a longer chain!\n",
      "N/50 = 400;\n",
      "tau: [ 98.00903753  95.256437   880.65956307 104.17521736 113.40880729\n",
      "  96.37161215]\n"
     ]
    },
    {
     "name": "stderr",
     "output_type": "stream",
     "text": [
      "/its/home/dt237/.conda/envs/xga_env/lib/python3.8/site-packages/xga/products/profile.py:1465: UserWarning: Some radii are outside the data range covered by the temperature or density profiles, as such you will be extrapolating based on the model fits.\n",
      "  warn(\"Some radii are outside the data range covered by the temperature or density profiles, as such \"\n",
      "Generating G229.21-17.24 hydrostatic mass profile:  54%|███████████▎         | 64/119 [47:00<44:24, 48.45s/it]"
     ]
    },
    {
     "name": "stdout",
     "output_type": "stream",
     "text": [
      "The chain is shorter than 50 times the integrated autocorrelation time for 6 parameter(s). Use this estimate with caution and run a longer chain!\n",
      "N/50 = 400;\n",
      "tau: [2101.27851564 1535.27918431 2217.92062639  510.76717565  454.52370741\n",
      "  503.9102791 ]\n",
      "The chain is shorter than 50 times the integrated autocorrelation time for 3 parameter(s). Use this estimate with caution and run a longer chain!\n",
      "N/50 = 400;\n",
      "tau: [ 215.7358119   696.42874037 1671.8932688   172.89023799  186.81083551\n",
      "  722.97369238]\n"
     ]
    },
    {
     "name": "stderr",
     "output_type": "stream",
     "text": [
      "Generating G236.95-26.67 hydrostatic mass profile:  55%|███████████▋         | 66/119 [47:52<43:39, 49.42s/it]/its/home/dt237/.conda/envs/xga_env/lib/python3.8/site-packages/xga/products/profile.py:1465: UserWarning: Some radii are outside the data range covered by the temperature or density profiles, as such you will be extrapolating based on the model fits.\n",
      "  warn(\"Some radii are outside the data range covered by the temperature or density profiles, as such \"\n"
     ]
    },
    {
     "name": "stdout",
     "output_type": "stream",
     "text": [
      "The chain is shorter than 50 times the integrated autocorrelation time for 6 parameter(s). Use this estimate with caution and run a longer chain!\n",
      "N/50 = 400;\n",
      "tau: [ 536.42214075 1025.71364006  572.38746194  748.51041086  461.01472983\n",
      "  522.36688198]\n",
      "The chain is shorter than 50 times the integrated autocorrelation time for 5 parameter(s). Use this estimate with caution and run a longer chain!\n",
      "N/50 = 400;\n",
      "tau: [428.05190415 562.8923699  412.97652523 299.50624847 448.77841298\n",
      " 595.3686788 ]\n"
     ]
    },
    {
     "name": "stderr",
     "output_type": "stream",
     "text": [
      "/its/home/dt237/.conda/envs/xga_env/lib/python3.8/site-packages/xga/products/profile.py:1465: UserWarning: Some radii are outside the data range covered by the temperature or density profiles, as such you will be extrapolating based on the model fits.\n",
      "  warn(\"Some radii are outside the data range covered by the temperature or density profiles, as such \"\n",
      "Generating G241.74-30.88 hydrostatic mass profile:  56%|███████████▊         | 67/119 [48:47<34:08, 39.40s/it]"
     ]
    },
    {
     "name": "stdout",
     "output_type": "stream",
     "text": [
      "The chain is shorter than 50 times the integrated autocorrelation time for 1 parameter(s). Use this estimate with caution and run a longer chain!\n",
      "N/50 = 400;\n",
      "tau: [328.71697649 471.31812076 345.98406585 392.6450736  307.84469991\n",
      " 285.78263661]\n",
      "The chain is shorter than 50 times the integrated autocorrelation time for 2 parameter(s). Use this estimate with caution and run a longer chain!\n",
      "N/50 = 400;\n",
      "tau: [124.90029321 264.28517183 767.16908711 120.43371955 120.51518856\n",
      " 566.1291022 ]\n"
     ]
    },
    {
     "name": "stderr",
     "output_type": "stream",
     "text": [
      "Generating G241.77-24.00 hydrostatic mass profile:  57%|████████████         | 68/119 [49:35<35:18, 41.54s/it]/its/home/dt237/.conda/envs/xga_env/lib/python3.8/site-packages/xga/products/profile.py:1465: UserWarning: Some radii are outside the data range covered by the temperature or density profiles, as such you will be extrapolating based on the model fits.\n",
      "  warn(\"Some radii are outside the data range covered by the temperature or density profiles, as such \"\n"
     ]
    },
    {
     "name": "stdout",
     "output_type": "stream",
     "text": [
      "The chain is shorter than 50 times the integrated autocorrelation time for 5 parameter(s). Use this estimate with caution and run a longer chain!\n",
      "N/50 = 400;\n",
      "tau: [ 883.42947198 1233.41682081  620.91284671  735.47887424  402.95633783\n",
      "  394.94171397]\n",
      "The chain is shorter than 50 times the integrated autocorrelation time for 1 parameter(s). Use this estimate with caution and run a longer chain!\n",
      "N/50 = 400;\n",
      "tau: [ 92.02023386  94.85152546 614.65332012  96.29501917 120.16132557\n",
      "  93.7491099 ]\n"
     ]
    },
    {
     "name": "stderr",
     "output_type": "stream",
     "text": [
      "/its/home/dt237/.conda/envs/xga_env/lib/python3.8/site-packages/xga/products/profile.py:1465: UserWarning: Some radii are outside the data range covered by the temperature or density profiles, as such you will be extrapolating based on the model fits.\n",
      "  warn(\"Some radii are outside the data range covered by the temperature or density profiles, as such \"\n",
      "Generating G241.97+14.85 hydrostatic mass profile:  58%|████████████▏        | 69/119 [50:26<36:47, 44.16s/it]"
     ]
    },
    {
     "name": "stdout",
     "output_type": "stream",
     "text": [
      "The chain is shorter than 50 times the integrated autocorrelation time for 6 parameter(s). Use this estimate with caution and run a longer chain!\n",
      "N/50 = 400;\n",
      "tau: [579.38094912 954.26546308 695.37096141 731.09329833 552.0611028\n",
      " 520.07930664]\n",
      "The chain is shorter than 50 times the integrated autocorrelation time for 3 parameter(s). Use this estimate with caution and run a longer chain!\n",
      "N/50 = 400;\n",
      "tau: [ 354.73374622 1392.735094   1794.44129005  375.649723    229.51597722\n",
      " 1648.50571205]\n"
     ]
    },
    {
     "name": "stderr",
     "output_type": "stream",
     "text": [
      "Generating G244.34-32.13 hydrostatic mass profile:  59%|████████████▎        | 70/119 [51:16<37:09, 45.51s/it]"
     ]
    },
    {
     "name": "stdout",
     "output_type": "stream",
     "text": [
      "The chain is shorter than 50 times the integrated autocorrelation time for 5 parameter(s). Use this estimate with caution and run a longer chain!\n",
      "N/50 = 400;\n",
      "tau: [542.31696799 738.92837021 528.39541875 468.63090967 476.53805919\n",
      " 358.13356613]\n",
      "The chain is shorter than 50 times the integrated autocorrelation time for 1 parameter(s). Use this estimate with caution and run a longer chain!\n",
      "N/50 = 400;\n",
      "tau: [ 98.19507727 106.30466718 434.48528448 101.61046214 118.36883738\n",
      " 113.0978744 ]\n"
     ]
    },
    {
     "name": "stderr",
     "output_type": "stream",
     "text": [
      "Generating G247.17-23.32 hydrostatic mass profile:  61%|████████████▋        | 72/119 [52:03<36:10, 46.18s/it]"
     ]
    },
    {
     "name": "stdout",
     "output_type": "stream",
     "text": [
      "The chain is shorter than 50 times the integrated autocorrelation time for 6 parameter(s). Use this estimate with caution and run a longer chain!\n",
      "N/50 = 400;\n",
      "tau: [ 519.46836985 1190.63039287  629.65432019 2080.15427785  413.26012705\n",
      "  956.52231634]\n",
      "The chain is shorter than 50 times the integrated autocorrelation time for 2 parameter(s). Use this estimate with caution and run a longer chain!\n",
      "N/50 = 400;\n",
      "tau: [284.07374149 212.70153872 766.05355393 719.43304028 343.89755487\n",
      " 209.32384914]\n"
     ]
    },
    {
     "name": "stderr",
     "output_type": "stream",
     "text": [
      "Generating G249.87-39.86 hydrostatic mass profile:  61%|████████████▉        | 73/119 [52:51<27:47, 36.26s/it]"
     ]
    },
    {
     "name": "stdout",
     "output_type": "stream",
     "text": [
      "The chain is shorter than 50 times the integrated autocorrelation time for 6 parameter(s). Use this estimate with caution and run a longer chain!\n",
      "N/50 = 400;\n",
      "tau: [ 737.63557608 1497.97770873 1087.75738596 1136.99741236  753.3394899\n",
      "  764.43883369]\n",
      "The chain is shorter than 50 times the integrated autocorrelation time for 1 parameter(s). Use this estimate with caution and run a longer chain!\n",
      "N/50 = 400;\n",
      "tau: [ 97.68190847 110.16264773 678.664606   106.19715338 117.732436\n",
      " 172.39248186]\n"
     ]
    },
    {
     "name": "stderr",
     "output_type": "stream",
     "text": [
      "Generating G250.90-36.25 hydrostatic mass profile:  62%|█████████████        | 74/119 [53:40<29:27, 39.27s/it]"
     ]
    },
    {
     "name": "stdout",
     "output_type": "stream",
     "text": [
      "The chain is shorter than 50 times the integrated autocorrelation time for 4 parameter(s). Use this estimate with caution and run a longer chain!\n",
      "N/50 = 400;\n",
      "tau: [626.62462382 668.69630875 502.4501913  484.81811478 373.81658846\n",
      " 395.74878391]\n",
      "The chain is shorter than 50 times the integrated autocorrelation time for 1 parameter(s). Use this estimate with caution and run a longer chain!\n",
      "N/50 = 400;\n",
      "tau: [102.53281383 102.32817893 816.94711627 105.76466808 115.54170932\n",
      " 108.92940034]\n"
     ]
    },
    {
     "name": "stderr",
     "output_type": "stream",
     "text": [
      "Generating G252.96-56.05 hydrostatic mass profile:  63%|█████████████▏       | 75/119 [54:29<30:41, 41.85s/it]/its/home/dt237/.conda/envs/xga_env/lib/python3.8/site-packages/xga/products/profile.py:1465: UserWarning: Some radii are outside the data range covered by the temperature or density profiles, as such you will be extrapolating based on the model fits.\n",
      "  warn(\"Some radii are outside the data range covered by the temperature or density profiles, as such \"\n"
     ]
    },
    {
     "name": "stdout",
     "output_type": "stream",
     "text": [
      "The chain is shorter than 50 times the integrated autocorrelation time for 1 parameter(s). Use this estimate with caution and run a longer chain!\n",
      "N/50 = 400;\n",
      "tau: [ 61.19694627  79.85964967 573.56332134  70.09138403  71.66367496\n",
      "  65.21135627]\n"
     ]
    },
    {
     "name": "stderr",
     "output_type": "stream",
     "text": [
      "/its/home/dt237/.conda/envs/xga_env/lib/python3.8/site-packages/xga/products/profile.py:1465: UserWarning: Some radii are outside the data range covered by the temperature or density profiles, as such you will be extrapolating based on the model fits.\n",
      "  warn(\"Some radii are outside the data range covered by the temperature or density profiles, as such \"\n",
      "Generating G256.45-65.71 hydrostatic mass profile:  65%|█████████████▌       | 77/119 [55:33<33:24, 47.72s/it]"
     ]
    },
    {
     "name": "stdout",
     "output_type": "stream",
     "text": [
      "The chain is shorter than 50 times the integrated autocorrelation time for 1 parameter(s). Use this estimate with caution and run a longer chain!\n",
      "N/50 = 400;\n",
      "tau: [396.12208858 551.82166686 244.4112388  376.34326359 301.65844611\n",
      " 320.72609189]\n",
      "The chain is shorter than 50 times the integrated autocorrelation time for 1 parameter(s). Use this estimate with caution and run a longer chain!\n",
      "N/50 = 400;\n",
      "tau: [ 90.10635645  95.50252086 716.03009274  95.00882139  72.63280211\n",
      "  95.70942657]\n"
     ]
    },
    {
     "name": "stderr",
     "output_type": "stream",
     "text": [
      "Generating G257.34-22.18 hydrostatic mass profile:  66%|█████████████▊       | 78/119 [56:24<25:58, 38.01s/it]"
     ]
    },
    {
     "name": "stdout",
     "output_type": "stream",
     "text": [
      "The chain is shorter than 50 times the integrated autocorrelation time for 4 parameter(s). Use this estimate with caution and run a longer chain!\n",
      "N/50 = 400;\n",
      "tau: [ 328.97413405  506.12166269  354.39107661  446.69762431 1695.15953911\n",
      "  419.13647095]\n",
      "The chain is shorter than 50 times the integrated autocorrelation time for 3 parameter(s). Use this estimate with caution and run a longer chain!\n",
      "N/50 = 400;\n",
      "tau: [ 218.78287458  778.90016875 2072.6907359   206.56627891  196.4324836\n",
      "  849.4584886 ]\n"
     ]
    },
    {
     "name": "stderr",
     "output_type": "stream",
     "text": [
      "Generating G260.03-63.44 hydrostatic mass profile:  66%|█████████████▉       | 79/119 [57:13<27:05, 40.64s/it]"
     ]
    },
    {
     "name": "stdout",
     "output_type": "stream",
     "text": [
      "The chain is shorter than 50 times the integrated autocorrelation time for 1 parameter(s). Use this estimate with caution and run a longer chain!\n",
      "N/50 = 400;\n",
      "tau: [ 77.01057254  77.30279754 549.6293278   81.43373207  82.58641292\n",
      "  84.49584814]\n"
     ]
    },
    {
     "name": "stderr",
     "output_type": "stream",
     "text": [
      "Generating G262.25-35.36 hydrostatic mass profile:  67%|██████████████       | 80/119 [58:07<28:39, 44.10s/it]"
     ]
    },
    {
     "name": "stdout",
     "output_type": "stream",
     "text": [
      "The chain is shorter than 50 times the integrated autocorrelation time for 5 parameter(s). Use this estimate with caution and run a longer chain!\n",
      "N/50 = 400;\n",
      "tau: [512.97600546 482.03036952 498.16023159 418.18694064 414.59418927\n",
      " 352.95928351]\n",
      "The chain is shorter than 50 times the integrated autocorrelation time for 6 parameter(s). Use this estimate with caution and run a longer chain!\n",
      "N/50 = 400;\n",
      "tau: [1885.84502762 2112.38978977 1771.38427921 1669.20076405 2099.18700826\n",
      " 1910.0502809 ]\n"
     ]
    },
    {
     "name": "stderr",
     "output_type": "stream",
     "text": [
      "Generating G262.71-40.91 hydrostatic mass profile:  68%|██████████████▎      | 81/119 [58:54<28:20, 44.75s/it]"
     ]
    },
    {
     "name": "stdout",
     "output_type": "stream",
     "text": [
      "The chain is shorter than 50 times the integrated autocorrelation time for 4 parameter(s). Use this estimate with caution and run a longer chain!\n",
      "N/50 = 400;\n",
      "tau: [504.77693501 765.55349752 388.32648412 447.86474713 588.34524042\n",
      " 321.39922356]\n"
     ]
    },
    {
     "name": "stderr",
     "output_type": "stream",
     "text": [
      "Generating G263.66-22.53 hydrostatic mass profile:  70%|██████████████▋      | 83/119 [59:42<27:25, 45.71s/it]/its/home/dt237/.conda/envs/xga_env/lib/python3.8/site-packages/xga/products/profile.py:1465: UserWarning: Some radii are outside the data range covered by the temperature or density profiles, as such you will be extrapolating based on the model fits.\n",
      "  warn(\"Some radii are outside the data range covered by the temperature or density profiles, as such \"\n"
     ]
    },
    {
     "name": "stdout",
     "output_type": "stream",
     "text": [
      "The chain is shorter than 50 times the integrated autocorrelation time for 3 parameter(s). Use this estimate with caution and run a longer chain!\n",
      "N/50 = 400;\n",
      "tau: [503.95972547 550.72029399 382.38577186 460.51436885 290.92681797\n",
      " 316.58123052]\n"
     ]
    },
    {
     "name": "stderr",
     "output_type": "stream",
     "text": [
      "/its/home/dt237/.conda/envs/xga_env/lib/python3.8/site-packages/xga/products/profile.py:1465: UserWarning: Some radii are outside the data range covered by the temperature or density profiles, as such you will be extrapolating based on the model fits.\n",
      "  warn(\"Some radii are outside the data range covered by the temperature or density profiles, as such \"\n",
      "Generating G266.03-21.25 hydrostatic mass profile:  71%|█████████████▍     | 84/119 [1:00:35<21:43, 37.25s/it]"
     ]
    },
    {
     "name": "stdout",
     "output_type": "stream",
     "text": [
      "The chain is shorter than 50 times the integrated autocorrelation time for 4 parameter(s). Use this estimate with caution and run a longer chain!\n",
      "N/50 = 400;\n",
      "tau: [360.1550123  532.35924391 593.36197827 602.54757595 454.58208153\n",
      " 305.02763254]\n",
      "The chain is shorter than 50 times the integrated autocorrelation time for 6 parameter(s). Use this estimate with caution and run a longer chain!\n",
      "N/50 = 400;\n",
      "tau: [2191.04612812 2214.50814326  849.41592235 1182.19048993 2197.85742589\n",
      " 2091.24443752]\n"
     ]
    },
    {
     "name": "stderr",
     "output_type": "stream",
     "text": [
      "Generating G269.31-49.87 hydrostatic mass profile:  71%|█████████████▌     | 85/119 [1:01:27<23:07, 40.80s/it]/its/home/dt237/.conda/envs/xga_env/lib/python3.8/site-packages/xga/products/profile.py:1465: UserWarning: Some radii are outside the data range covered by the temperature or density profiles, as such you will be extrapolating based on the model fits.\n",
      "  warn(\"Some radii are outside the data range covered by the temperature or density profiles, as such \"\n"
     ]
    },
    {
     "name": "stdout",
     "output_type": "stream",
     "text": [
      "The chain is shorter than 50 times the integrated autocorrelation time for 6 parameter(s). Use this estimate with caution and run a longer chain!\n",
      "N/50 = 400;\n",
      "tau: [1536.20147264 1491.04996415  512.85120391 1137.17263423  788.36690833\n",
      "  602.98966035]\n"
     ]
    },
    {
     "name": "stderr",
     "output_type": "stream",
     "text": [
      "/its/home/dt237/.conda/envs/xga_env/lib/python3.8/site-packages/xga/products/profile.py:1465: UserWarning: Some radii are outside the data range covered by the temperature or density profiles, as such you will be extrapolating based on the model fits.\n",
      "  warn(\"Some radii are outside the data range covered by the temperature or density profiles, as such \"\n",
      "Generating G271.19-30.96 hydrostatic mass profile:  72%|█████████████▋     | 86/119 [1:02:23<24:37, 44.78s/it]/its/home/dt237/.conda/envs/xga_env/lib/python3.8/site-packages/xga/products/base.py:1010: UserWarning: Optimal parameters not found: The maximum number of function evaluations is exceeded., curve_fit has failed.\n",
      "  warn(\"{}, curve_fit has failed.\".format(str(r_err)))\n",
      "/its/home/dt237/.conda/envs/xga_env/lib/python3.8/site-packages/xga/products/base.py:810: UserWarning: Maximum likelihood estimator has produced at least one start parameter that is outside the allowed values defined by the prior, reverting to default start parameters for this model.\n",
      "  warn(\"Maximum likelihood estimator has produced at least one start parameter that is outside\"\n"
     ]
    },
    {
     "name": "stdout",
     "output_type": "stream",
     "text": [
      "The chain is shorter than 50 times the integrated autocorrelation time for 6 parameter(s). Use this estimate with caution and run a longer chain!\n",
      "N/50 = 400;\n",
      "tau: [1284.55954201 1194.84369248 1051.5394232  1411.1613495   880.3482487\n",
      " 1111.49899674]\n",
      "The chain is shorter than 50 times the integrated autocorrelation time for 1 parameter(s). Use this estimate with caution and run a longer chain!\n",
      "N/50 = 400;\n",
      "tau: [ 84.60342248  93.61407725 481.26177276  82.43907771  91.13672983\n",
      " 124.08832179]\n"
     ]
    },
    {
     "name": "stderr",
     "output_type": "stream",
     "text": [
      "Generating G271.50-56.55 hydrostatic mass profile:  73%|█████████████▉     | 87/119 [1:03:12<24:29, 45.92s/it]/its/home/dt237/.conda/envs/xga_env/lib/python3.8/site-packages/xga/products/profile.py:1465: UserWarning: Some radii are outside the data range covered by the temperature or density profiles, as such you will be extrapolating based on the model fits.\n",
      "  warn(\"Some radii are outside the data range covered by the temperature or density profiles, as such \"\n"
     ]
    },
    {
     "name": "stdout",
     "output_type": "stream",
     "text": [
      "The chain is shorter than 50 times the integrated autocorrelation time for 6 parameter(s). Use this estimate with caution and run a longer chain!\n",
      "N/50 = 400;\n",
      "tau: [556.99068088 539.53632646 584.89703521 566.19921891 459.05980826\n",
      " 459.79014439]\n"
     ]
    },
    {
     "name": "stderr",
     "output_type": "stream",
     "text": [
      "/its/home/dt237/.conda/envs/xga_env/lib/python3.8/site-packages/xga/products/profile.py:1465: UserWarning: Some radii are outside the data range covered by the temperature or density profiles, as such you will be extrapolating based on the model fits.\n",
      "  warn(\"Some radii are outside the data range covered by the temperature or density profiles, as such \"\n",
      "Generating G277.75-51.73 hydrostatic mass profile:  74%|██████████████     | 88/119 [1:04:00<24:00, 46.46s/it]/its/home/dt237/.conda/envs/xga_env/lib/python3.8/site-packages/xga/products/base.py:1010: UserWarning: Optimal parameters not found: The maximum number of function evaluations is exceeded., curve_fit has failed.\n",
      "  warn(\"{}, curve_fit has failed.\".format(str(r_err)))\n",
      "/its/home/dt237/.conda/envs/xga_env/lib/python3.8/site-packages/xga/models/temperature.py:109: RuntimeWarning: overflow encountered in power\n",
      "  cool_expr = ((t_min / t_zero) + (x / r_cool)**a_cool) / (1 + (x / r_cool)**a_cool)\n",
      "/its/home/dt237/.conda/envs/xga_env/lib/python3.8/site-packages/xga/models/temperature.py:109: RuntimeWarning: invalid value encountered in true_divide\n",
      "  cool_expr = ((t_min / t_zero) + (x / r_cool)**a_cool) / (1 + (x / r_cool)**a_cool)\n",
      "/its/home/dt237/.conda/envs/xga_env/lib/python3.8/site-packages/xga/models/temperature.py:109: RuntimeWarning: overflow encountered in power\n",
      "  cool_expr = ((t_min / t_zero) + (x / r_cool)**a_cool) / (1 + (x / r_cool)**a_cool)\n",
      "/its/home/dt237/.conda/envs/xga_env/lib/python3.8/site-packages/xga/models/temperature.py:109: RuntimeWarning: invalid value encountered in true_divide\n",
      "  cool_expr = ((t_min / t_zero) + (x / r_cool)**a_cool) / (1 + (x / r_cool)**a_cool)\n",
      "/its/home/dt237/.conda/envs/xga_env/lib/python3.8/site-packages/xga/models/temperature.py:109: RuntimeWarning: overflow encountered in power\n",
      "  cool_expr = ((t_min / t_zero) + (x / r_cool)**a_cool) / (1 + (x / r_cool)**a_cool)\n",
      "/its/home/dt237/.conda/envs/xga_env/lib/python3.8/site-packages/xga/models/temperature.py:109: RuntimeWarning: invalid value encountered in true_divide\n",
      "  cool_expr = ((t_min / t_zero) + (x / r_cool)**a_cool) / (1 + (x / r_cool)**a_cool)\n",
      "/its/home/dt237/.conda/envs/xga_env/lib/python3.8/site-packages/xga/models/temperature.py:109: RuntimeWarning: invalid value encountered in power\n",
      "  cool_expr = ((t_min / t_zero) + (x / r_cool)**a_cool) / (1 + (x / r_cool)**a_cool)\n",
      "/its/home/dt237/.conda/envs/xga_env/lib/python3.8/site-packages/xga/models/temperature.py:109: RuntimeWarning: overflow encountered in power\n",
      "  cool_expr = ((t_min / t_zero) + (x / r_cool)**a_cool) / (1 + (x / r_cool)**a_cool)\n",
      "/its/home/dt237/.conda/envs/xga_env/lib/python3.8/site-packages/xga/models/temperature.py:109: RuntimeWarning: invalid value encountered in true_divide\n",
      "  cool_expr = ((t_min / t_zero) + (x / r_cool)**a_cool) / (1 + (x / r_cool)**a_cool)\n",
      "/its/home/dt237/.conda/envs/xga_env/lib/python3.8/site-packages/xga/models/temperature.py:109: RuntimeWarning: invalid value encountered in power\n",
      "  cool_expr = ((t_min / t_zero) + (x / r_cool)**a_cool) / (1 + (x / r_cool)**a_cool)\n",
      "/its/home/dt237/.conda/envs/xga_env/lib/python3.8/site-packages/xga/models/temperature.py:109: RuntimeWarning: invalid value encountered in power\n",
      "  cool_expr = ((t_min / t_zero) + (x / r_cool)**a_cool) / (1 + (x / r_cool)**a_cool)\n",
      "/its/home/dt237/.conda/envs/xga_env/lib/python3.8/site-packages/xga/products/base.py:810: UserWarning: Maximum likelihood estimator has produced at least one start parameter that is outside the allowed values defined by the prior, reverting to default start parameters for this model.\n",
      "  warn(\"Maximum likelihood estimator has produced at least one start parameter that is outside\"\n"
     ]
    },
    {
     "name": "stdout",
     "output_type": "stream",
     "text": [
      "The chain is shorter than 50 times the integrated autocorrelation time for 6 parameter(s). Use this estimate with caution and run a longer chain!\n",
      "N/50 = 400;\n",
      "tau: [534.1176393  748.52029629 752.93823634 636.46035973 444.06949798\n",
      " 609.37470922]\n",
      "The chain is shorter than 50 times the integrated autocorrelation time for 6 parameter(s). Use this estimate with caution and run a longer chain!\n",
      "N/50 = 400;\n",
      "tau: [1680.57568785 1903.05280457 1538.97694622 1880.12530721 1805.83326749\n",
      " 1865.94129712]\n"
     ]
    },
    {
     "name": "stderr",
     "output_type": "stream",
     "text": [
      "Generating G278.60+39.17 hydrostatic mass profile:  75%|██████████████▏    | 89/119 [1:04:49<23:34, 47.17s/it]/its/home/dt237/.conda/envs/xga_env/lib/python3.8/site-packages/xga/products/profile.py:1465: UserWarning: Some radii are outside the data range covered by the temperature or density profiles, as such you will be extrapolating based on the model fits.\n",
      "  warn(\"Some radii are outside the data range covered by the temperature or density profiles, as such \"\n"
     ]
    },
    {
     "name": "stdout",
     "output_type": "stream",
     "text": [
      "The chain is shorter than 50 times the integrated autocorrelation time for 5 parameter(s). Use this estimate with caution and run a longer chain!\n",
      "N/50 = 400;\n",
      "tau: [1046.79069582  977.78057968 1234.78447419 1008.55394776  378.81821246\n",
      "  548.83158161]\n",
      "The chain is shorter than 50 times the integrated autocorrelation time for 1 parameter(s). Use this estimate with caution and run a longer chain!\n",
      "N/50 = 400;\n",
      "tau: [ 91.89975787 103.3073747  501.93141616  89.67611477  81.05705423\n",
      " 108.81751317]\n"
     ]
    },
    {
     "name": "stderr",
     "output_type": "stream",
     "text": [
      "/its/home/dt237/.conda/envs/xga_env/lib/python3.8/site-packages/xga/products/profile.py:1465: UserWarning: Some radii are outside the data range covered by the temperature or density profiles, as such you will be extrapolating based on the model fits.\n",
      "  warn(\"Some radii are outside the data range covered by the temperature or density profiles, as such \"\n",
      "Generating G280.19+47.81 hydrostatic mass profile:  76%|██████████████▎    | 90/119 [1:05:41<23:23, 48.38s/it]/its/home/dt237/.conda/envs/xga_env/lib/python3.8/site-packages/xga/products/profile.py:1465: UserWarning: Some radii are outside the data range covered by the temperature or density profiles, as such you will be extrapolating based on the model fits.\n",
      "  warn(\"Some radii are outside the data range covered by the temperature or density profiles, as such \"\n",
      "Generating G283.16-22.93 hydrostatic mass profile:  77%|██████████████▋    | 92/119 [1:06:34<22:25, 49.83s/it]"
     ]
    },
    {
     "name": "stdout",
     "output_type": "stream",
     "text": [
      "The chain is shorter than 50 times the integrated autocorrelation time for 3 parameter(s). Use this estimate with caution and run a longer chain!\n",
      "N/50 = 400;\n",
      "tau: [ 310.50789438 1325.79956282  570.07738794 2247.71445731  297.16862637\n",
      "  295.93140478]\n"
     ]
    },
    {
     "name": "stderr",
     "output_type": "stream",
     "text": [
      "Generating G284.46+52.43 hydrostatic mass profile:  78%|██████████████▊    | 93/119 [1:07:20<16:20, 37.70s/it]"
     ]
    },
    {
     "name": "stdout",
     "output_type": "stream",
     "text": [
      "The chain is shorter than 50 times the integrated autocorrelation time for 1 parameter(s). Use this estimate with caution and run a longer chain!\n",
      "N/50 = 400;\n",
      "tau: [124.28944623 174.06022394 491.55675816 119.33505234 124.0885451\n",
      " 346.9502982 ]\n",
      "The chain is shorter than 50 times the integrated autocorrelation time for 4 parameter(s). Use this estimate with caution and run a longer chain!\n",
      "N/50 = 400;\n",
      "tau: [814.13065181 844.6879267  664.59879116 877.94820933 305.27671389\n",
      " 322.84995026]\n"
     ]
    },
    {
     "name": "stderr",
     "output_type": "stream",
     "text": [
      "Generating G284.99-23.70 hydrostatic mass profile:  79%|███████████████    | 94/119 [1:08:10<16:57, 40.71s/it]"
     ]
    },
    {
     "name": "stdout",
     "output_type": "stream",
     "text": [
      "The chain is shorter than 50 times the integrated autocorrelation time for 6 parameter(s). Use this estimate with caution and run a longer chain!\n",
      "N/50 = 400;\n",
      "tau: [453.97628131 624.41218011 405.39648874 533.75218467 404.17305053\n",
      " 426.9318171 ]\n"
     ]
    },
    {
     "name": "stderr",
     "output_type": "stream",
     "text": [
      "Generating G285.63-17.24 hydrostatic mass profile:  80%|███████████████▏   | 95/119 [1:08:58<16:57, 42.41s/it]"
     ]
    },
    {
     "name": "stdout",
     "output_type": "stream",
     "text": [
      "The chain is shorter than 50 times the integrated autocorrelation time for 5 parameter(s). Use this estimate with caution and run a longer chain!\n",
      "N/50 = 400;\n",
      "tau: [ 961.6238601  1237.35793844 1838.38235692  608.26257691  326.19063063\n",
      " 1292.71416328]\n",
      "The chain is shorter than 50 times the integrated autocorrelation time for 2 parameter(s). Use this estimate with caution and run a longer chain!\n",
      "N/50 = 400;\n",
      "tau: [356.77331345 404.34670636 323.30739795 481.4742287  320.18546457\n",
      " 357.15215476]\n"
     ]
    },
    {
     "name": "stderr",
     "output_type": "stream",
     "text": [
      "Generating G286.99+32.91 hydrostatic mass profile:  82%|███████████████▍   | 97/119 [1:09:44<15:56, 43.47s/it]"
     ]
    },
    {
     "name": "stdout",
     "output_type": "stream",
     "text": [
      "The chain is shorter than 50 times the integrated autocorrelation time for 1 parameter(s). Use this estimate with caution and run a longer chain!\n",
      "N/50 = 400;\n",
      "tau: [ 137.42552312  161.14362713 1033.66892123  121.49386107  120.01613825\n",
      "  174.29531838]\n",
      "The chain is shorter than 50 times the integrated autocorrelation time for 4 parameter(s). Use this estimate with caution and run a longer chain!\n",
      "N/50 = 400;\n",
      "tau: [346.70415928 604.86723725 525.32753023 517.98648262 403.1784991\n",
      " 292.35002034]\n",
      "The chain is shorter than 50 times the integrated autocorrelation time for 2 parameter(s). Use this estimate with caution and run a longer chain!\n",
      "N/50 = 400;\n",
      "tau: [198.7209614  381.20431502 661.23936843 177.69674766 127.58673928\n",
      " 512.64244444]\n"
     ]
    },
    {
     "name": "stderr",
     "output_type": "stream",
     "text": [
      "Generating G288.61-37.65 hydrostatic mass profile:  82%|███████████████▋   | 98/119 [1:10:31<12:12, 34.88s/it]/its/home/dt237/.conda/envs/xga_env/lib/python3.8/site-packages/xga/products/profile.py:1465: UserWarning: Some radii are outside the data range covered by the temperature or density profiles, as such you will be extrapolating based on the model fits.\n",
      "  warn(\"Some radii are outside the data range covered by the temperature or density profiles, as such \"\n"
     ]
    },
    {
     "name": "stdout",
     "output_type": "stream",
     "text": [
      "The chain is shorter than 50 times the integrated autocorrelation time for 6 parameter(s). Use this estimate with caution and run a longer chain!\n",
      "N/50 = 400;\n",
      "tau: [451.08134696 726.61045199 733.30788823 688.3408515  837.24599281\n",
      " 402.34449356]\n",
      "The chain is shorter than 50 times the integrated autocorrelation time for 1 parameter(s). Use this estimate with caution and run a longer chain!\n",
      "N/50 = 400;\n",
      "tau: [109.25743096 133.10684361 455.98709409  91.93345629  95.11926806\n",
      " 141.56400145]\n"
     ]
    },
    {
     "name": "stderr",
     "output_type": "stream",
     "text": [
      "/its/home/dt237/.conda/envs/xga_env/lib/python3.8/site-packages/xga/products/profile.py:1465: UserWarning: Some radii are outside the data range covered by the temperature or density profiles, as such you will be extrapolating based on the model fits.\n",
      "  warn(\"Some radii are outside the data range covered by the temperature or density profiles, as such \"\n",
      "Generating G292.51+21.98 hydrostatic mass profile:  83%|███████████████▊   | 99/119 [1:11:29<13:23, 40.20s/it]"
     ]
    },
    {
     "name": "stdout",
     "output_type": "stream",
     "text": [
      "The chain is shorter than 50 times the integrated autocorrelation time for 6 parameter(s). Use this estimate with caution and run a longer chain!\n",
      "N/50 = 400;\n",
      "tau: [ 544.01720197  761.57612721 1655.13121611  711.89787629  493.0094673\n",
      "  456.05120501]\n",
      "The chain is shorter than 50 times the integrated autocorrelation time for 3 parameter(s). Use this estimate with caution and run a longer chain!\n",
      "N/50 = 400;\n",
      "tau: [132.34474092 435.5487593  654.27832896 129.92836573 122.32249641\n",
      " 464.16552721]\n"
     ]
    },
    {
     "name": "stderr",
     "output_type": "stream",
     "text": [
      "Generating G294.66-37.02 hydrostatic mass profile:  84%|███████████████▏  | 100/119 [1:12:18<13:28, 42.55s/it]"
     ]
    },
    {
     "name": "stdout",
     "output_type": "stream",
     "text": [
      "The chain is shorter than 50 times the integrated autocorrelation time for 1 parameter(s). Use this estimate with caution and run a longer chain!\n",
      "N/50 = 400;\n",
      "tau: [113.33172354 141.66465878 507.58465188 104.24008895 123.59730751\n",
      " 202.10916464]\n"
     ]
    },
    {
     "name": "stderr",
     "output_type": "stream",
     "text": [
      "Generating G304.67-31.66 hydrostatic mass profile:  85%|███████████████▎  | 101/119 [1:13:07<13:14, 44.12s/it]/its/home/dt237/.conda/envs/xga_env/lib/python3.8/site-packages/xga/products/profile.py:1465: UserWarning: Some radii are outside the data range covered by the temperature or density profiles, as such you will be extrapolating based on the model fits.\n",
      "  warn(\"Some radii are outside the data range covered by the temperature or density profiles, as such \"\n",
      "/its/home/dt237/.conda/envs/xga_env/lib/python3.8/site-packages/xga/products/profile.py:1465: UserWarning: Some radii are outside the data range covered by the temperature or density profiles, as such you will be extrapolating based on the model fits.\n",
      "  warn(\"Some radii are outside the data range covered by the temperature or density profiles, as such \"\n",
      "Generating G304.84-41.42 hydrostatic mass profile:  86%|███████████████▍  | 102/119 [1:13:54<12:46, 45.11s/it]"
     ]
    },
    {
     "name": "stdout",
     "output_type": "stream",
     "text": [
      "The chain is shorter than 50 times the integrated autocorrelation time for 6 parameter(s). Use this estimate with caution and run a longer chain!\n",
      "N/50 = 400;\n",
      "tau: [610.56157639 643.5190409  563.35193705 542.78692486 430.55446103\n",
      " 678.64601031]\n",
      "The chain is shorter than 50 times the integrated autocorrelation time for 6 parameter(s). Use this estimate with caution and run a longer chain!\n",
      "N/50 = 400;\n",
      "tau: [1124.84999555 1707.85484521 1480.65590052 1494.71410509  809.6996984\n",
      " 1083.06871994]\n"
     ]
    },
    {
     "name": "stderr",
     "output_type": "stream",
     "text": [
      "Generating G306.68+61.06 hydrostatic mass profile:  87%|███████████████▌  | 103/119 [1:14:42<12:14, 45.88s/it]"
     ]
    },
    {
     "name": "stdout",
     "output_type": "stream",
     "text": [
      "The chain is shorter than 50 times the integrated autocorrelation time for 5 parameter(s). Use this estimate with caution and run a longer chain!\n",
      "N/50 = 400;\n",
      "tau: [ 537.90442051 1621.29090287 1899.41091882  482.22812917  363.97890471\n",
      " 1768.49884247]\n"
     ]
    },
    {
     "name": "stderr",
     "output_type": "stream",
     "text": [
      "/its/home/dt237/.conda/envs/xga_env/lib/python3.8/site-packages/xga/products/profile.py:1465: UserWarning: Some radii are outside the data range covered by the temperature or density profiles, as such you will be extrapolating based on the model fits.\n",
      "  warn(\"Some radii are outside the data range covered by the temperature or density profiles, as such \"\n",
      "/its/home/dt237/.conda/envs/xga_env/lib/python3.8/site-packages/xga/products/profile.py:1465: UserWarning: Some radii are outside the data range covered by the temperature or density profiles, as such you will be extrapolating based on the model fits.\n",
      "  warn(\"Some radii are outside the data range covered by the temperature or density profiles, as such \"\n",
      "Generating G313.36+61.11 hydrostatic mass profile:  89%|████████████████  | 106/119 [1:15:42<10:48, 49.86s/it]"
     ]
    },
    {
     "name": "stdout",
     "output_type": "stream",
     "text": [
      "The chain is shorter than 50 times the integrated autocorrelation time for 6 parameter(s). Use this estimate with caution and run a longer chain!\n",
      "N/50 = 400;\n",
      "tau: [ 649.99559337 1019.22242066  857.30280232 1244.76800399  667.01036187\n",
      "  675.11820275]\n",
      "The chain is shorter than 50 times the integrated autocorrelation time for 1 parameter(s). Use this estimate with caution and run a longer chain!\n",
      "N/50 = 400;\n",
      "tau: [ 78.38996185  80.00384523 929.37667886  77.62533448  72.75264045\n",
      "  80.54747551]\n"
     ]
    },
    {
     "name": "stderr",
     "output_type": "stream",
     "text": [
      "Generating G313.87-17.10 hydrostatic mass profile:  90%|████████████████▏ | 107/119 [1:16:35<06:26, 32.18s/it]/its/home/dt237/.conda/envs/xga_env/lib/python3.8/site-packages/xga/products/profile.py:1465: UserWarning: Some radii are outside the data range covered by the temperature or density profiles, as such you will be extrapolating based on the model fits.\n",
      "  warn(\"Some radii are outside the data range covered by the temperature or density profiles, as such \"\n"
     ]
    },
    {
     "name": "stdout",
     "output_type": "stream",
     "text": [
      "The chain is shorter than 50 times the integrated autocorrelation time for 6 parameter(s). Use this estimate with caution and run a longer chain!\n",
      "N/50 = 400;\n",
      "tau: [ 788.91261633 1037.51534144 1026.32556586 1027.3160144   717.11387945\n",
      "  630.5577436 ]\n"
     ]
    },
    {
     "name": "stderr",
     "output_type": "stream",
     "text": [
      "/its/home/dt237/.conda/envs/xga_env/lib/python3.8/site-packages/xga/products/profile.py:1465: UserWarning: Some radii are outside the data range covered by the temperature or density profiles, as such you will be extrapolating based on the model fits.\n",
      "  warn(\"Some radii are outside the data range covered by the temperature or density profiles, as such \"\n",
      "Generating G321.96-47.97 hydrostatic mass profile:  92%|████████████████▍ | 109/119 [1:17:30<06:08, 36.85s/it]"
     ]
    },
    {
     "name": "stdout",
     "output_type": "stream",
     "text": [
      "The chain is shorter than 50 times the integrated autocorrelation time for 6 parameter(s). Use this estimate with caution and run a longer chain!\n",
      "N/50 = 400;\n",
      "tau: [1123.26936072  809.72311327  684.12620761  875.5245183  1479.75802892\n",
      "  730.76103276]\n",
      "The chain is shorter than 50 times the integrated autocorrelation time for 1 parameter(s). Use this estimate with caution and run a longer chain!\n",
      "N/50 = 400;\n",
      "tau: [100.09324535  92.87377684 402.97539991  99.74578926  47.17437444\n",
      "  88.10800485]\n"
     ]
    },
    {
     "name": "stderr",
     "output_type": "stream",
     "text": [
      "/its/home/dt237/.conda/envs/xga_env/lib/python3.8/site-packages/xga/products/profile.py:1465: UserWarning: Some radii are outside the data range covered by the temperature or density profiles, as such you will be extrapolating based on the model fits.\n",
      "  warn(\"Some radii are outside the data range covered by the temperature or density profiles, as such \"\n",
      "Generating G324.49-44.97 hydrostatic mass profile:  92%|████████████████▋ | 110/119 [1:18:26<05:01, 33.48s/it]"
     ]
    },
    {
     "name": "stdout",
     "output_type": "stream",
     "text": [
      "The chain is shorter than 50 times the integrated autocorrelation time for 4 parameter(s). Use this estimate with caution and run a longer chain!\n",
      "N/50 = 400;\n",
      "tau: [638.53777955 981.97474455 623.67707534 710.10840539 311.01656307\n",
      " 368.71513415]\n",
      "The chain is shorter than 50 times the integrated autocorrelation time for 3 parameter(s). Use this estimate with caution and run a longer chain!\n",
      "N/50 = 400;\n",
      "tau: [145.91098117 521.36870721 540.65987637 132.089181   110.42062942\n",
      " 522.99162567]\n"
     ]
    },
    {
     "name": "stderr",
     "output_type": "stream",
     "text": [
      "Generating G332.23-46.36 hydrostatic mass profile:  93%|████████████████▊ | 111/119 [1:19:24<05:09, 38.65s/it]"
     ]
    },
    {
     "name": "stdout",
     "output_type": "stream",
     "text": [
      "The chain is shorter than 50 times the integrated autocorrelation time for 6 parameter(s). Use this estimate with caution and run a longer chain!\n",
      "N/50 = 400;\n",
      "tau: [1719.44828504 1184.23425838  546.68722237 1996.64180857  484.59368664\n",
      " 1693.05006062]\n"
     ]
    },
    {
     "name": "stderr",
     "output_type": "stream",
     "text": [
      "Generating G336.59-55.44 hydrostatic mass profile:  96%|█████████████████▏| 114/119 [1:21:16<03:50, 46.11s/it]"
     ]
    },
    {
     "name": "stdout",
     "output_type": "stream",
     "text": [
      "The chain is shorter than 50 times the integrated autocorrelation time for 6 parameter(s). Use this estimate with caution and run a longer chain!\n",
      "N/50 = 400;\n",
      "tau: [1268.41585653  898.50090885  886.53834494  644.09829671  624.33185693\n",
      "  630.37395777]\n"
     ]
    },
    {
     "name": "stderr",
     "output_type": "stream",
     "text": [
      "Generating G337.09-25.97 hydrostatic mass profile:  97%|█████████████████▍| 115/119 [1:22:15<02:36, 39.02s/it]"
     ]
    },
    {
     "name": "stdout",
     "output_type": "stream",
     "text": [
      "The chain is shorter than 50 times the integrated autocorrelation time for 6 parameter(s). Use this estimate with caution and run a longer chain!\n",
      "N/50 = 400;\n",
      "tau: [1218.76445643 1189.50762693 1741.88800508 1584.93548556  816.30693132\n",
      "  740.35548308]\n",
      "The chain is shorter than 50 times the integrated autocorrelation time for 1 parameter(s). Use this estimate with caution and run a longer chain!\n",
      "N/50 = 400;\n",
      "tau: [  91.8689732    99.39959381 1419.87103721   94.94005603  131.80302803\n",
      "  108.23663165]\n"
     ]
    },
    {
     "name": "stderr",
     "output_type": "stream",
     "text": [
      "Generating G342.31-34.90 hydrostatic mass profile:  97%|█████████████████▌| 116/119 [1:23:01<02:02, 40.80s/it]/its/home/dt237/.conda/envs/xga_env/lib/python3.8/site-packages/xga/products/profile.py:1465: UserWarning: Some radii are outside the data range covered by the temperature or density profiles, as such you will be extrapolating based on the model fits.\n",
      "  warn(\"Some radii are outside the data range covered by the temperature or density profiles, as such \"\n"
     ]
    },
    {
     "name": "stdout",
     "output_type": "stream",
     "text": [
      "The chain is shorter than 50 times the integrated autocorrelation time for 6 parameter(s). Use this estimate with caution and run a longer chain!\n",
      "N/50 = 400;\n",
      "tau: [441.08991504 758.45065853 444.14730044 520.599785   436.29308018\n",
      " 505.87326603]\n"
     ]
    },
    {
     "name": "stderr",
     "output_type": "stream",
     "text": [
      "/its/home/dt237/.conda/envs/xga_env/lib/python3.8/site-packages/xga/products/profile.py:1465: UserWarning: Some radii are outside the data range covered by the temperature or density profiles, as such you will be extrapolating based on the model fits.\n",
      "  warn(\"Some radii are outside the data range covered by the temperature or density profiles, as such \"\n",
      "Generating G347.18-27.35 hydrostatic mass profile:  98%|█████████████████▋| 117/119 [1:23:54<01:27, 43.73s/it]"
     ]
    },
    {
     "name": "stdout",
     "output_type": "stream",
     "text": [
      "The chain is shorter than 50 times the integrated autocorrelation time for 5 parameter(s). Use this estimate with caution and run a longer chain!\n",
      "N/50 = 400;\n",
      "tau: [478.96660944 606.86899648 492.8093826  587.01953309 344.30467539\n",
      " 562.60394151]\n",
      "The chain is shorter than 50 times the integrated autocorrelation time for 2 parameter(s). Use this estimate with caution and run a longer chain!\n",
      "N/50 = 400;\n",
      "tau: [139.05232414 160.09796825 931.49616836 156.69594416 161.75275549\n",
      " 507.38098198]\n"
     ]
    },
    {
     "name": "stderr",
     "output_type": "stream",
     "text": [
      "Generating G349.46-59.94 hydrostatic mass profile:  99%|█████████████████▊| 118/119 [1:24:43<00:45, 45.07s/it]"
     ]
    },
    {
     "name": "stdout",
     "output_type": "stream",
     "text": [
      "The chain is shorter than 50 times the integrated autocorrelation time for 6 parameter(s). Use this estimate with caution and run a longer chain!\n",
      "N/50 = 400;\n",
      "tau: [1396.294111   1560.41304182 1405.09280232 1888.89637352  817.70767222\n",
      " 2035.59268936]\n"
     ]
    },
    {
     "name": "stderr",
     "output_type": "stream",
     "text": [
      "Complete: 100%|███████████████████████████████████████████████████████████| 119/119 [1:25:33<00:00, 43.14s/it]\n"
     ]
    }
   ],
   "source": [
    "lov_sb_dblbeta_simpvikh_105_mp = inv_abel_dens_onion_temp(lovisari_srcs, lovisari_srcs.r500*1.05, 'double_beta', \n",
    "                                                          'simple_vikhlinin_dens', 'simple_vikhlinin_temp', 'r500', \n",
    "                                                          temp_min_snr=30)"
   ]
  },
  {
   "cell_type": "code",
   "execution_count": 23,
   "id": "cd20b4e5",
   "metadata": {},
   "outputs": [
    {
     "name": "stderr",
     "output_type": "stream",
     "text": [
      "Measuring Masses for Lovisari Clusters:   0%|                                         | 0/119 [00:00<?, ?it/s]/its/home/dt237/.conda/envs/xga_env/lib/python3.8/site-packages/xga/products/profile.py:1465: UserWarning: Some radii are outside the data range covered by the temperature or density profiles, as such you will be extrapolating based on the model fits.\n",
      "  warn(\"Some radii are outside the data range covered by the temperature or density profiles, as such \"\n",
      "Measuring Masses for Lovisari Clusters: 100%|█████████████████████████████| 119/119 [00:00<00:00, 1472.68it/s]\n",
      "Measuring Masses for LoCuSS Clusters: 100%|███████████████████████████████████| 46/46 [00:00<00:00, 83.64it/s]\n"
     ]
    }
   ],
   "source": [
    "lov_sb_dblbeta_simpvikh_105_m500 = []\n",
    "with tqdm(desc='Measuring Masses for Lovisari Clusters', total=len(lov_sb_dblbeta_simpvikh_105_mp)) as onwards:\n",
    "    for mp in lov_sb_dblbeta_simpvikh_105_mp:\n",
    "        if mp is not None:\n",
    "            rel_src = lovisari_srcs[mp.src_name]\n",
    "            m = mp.mass(rel_src.r500)[0]\n",
    "        else:\n",
    "            m = Quantity([np.NaN, np.NaN, np.NaN], 'Msun')\n",
    "        lov_sb_dblbeta_simpvikh_105_m500.append(m)\n",
    "        \n",
    "        onwards.update(1)\n",
    "\n",
    "lov_sb_dblbeta_simpvikh_105_m500 = Quantity(lov_sb_dblbeta_simpvikh_105_m500)\n",
    "\n",
    "loc_sb_dblbeta_simpvikh_105_m500 = []\n",
    "with tqdm(desc='Measuring Masses for LoCuSS Clusters', total=len(loc_sb_dblbeta_simpvikh_105_mp)) as onwards:\n",
    "    for mp in loc_sb_dblbeta_simpvikh_105_mp:\n",
    "        if mp is not None:\n",
    "            rel_src = locuss_srcs[mp.src_name]\n",
    "            m = mp.mass(rel_src.r500)[0]\n",
    "        else:\n",
    "            m = Quantity([np.NaN, np.NaN, np.NaN], 'Msun')\n",
    "        loc_sb_dblbeta_simpvikh_105_m500.append(m)\n",
    "        \n",
    "        onwards.update(1)\n",
    "\n",
    "loc_sb_dblbeta_simpvikh_105_m500 = Quantity(loc_sb_dblbeta_simpvikh_105_m500)"
   ]
  },
  {
   "cell_type": "code",
   "execution_count": 18,
   "id": "9b890d0f",
   "metadata": {},
   "outputs": [
    {
     "data": {
      "text/plain": [
       "21"
      ]
     },
     "execution_count": 18,
     "metadata": {},
     "output_type": "execute_result"
    }
   ],
   "source": [
    "np.isnan(lov_sb_dblbeta_simpvikh_105_m500[:, 0]).sum()"
   ]
  },
  {
   "cell_type": "code",
   "execution_count": 19,
   "id": "8bd63007",
   "metadata": {
    "scrolled": true
   },
   "outputs": [
    {
     "data": {
      "image/png": "[encoded data removed]",
      "text/plain": [
       "<Figure size 720x504 with 1 Axes>"
      ]
     },
     "metadata": {
      "needs_background": "light"
     },
     "output_type": "display_data"
    },
    {
     "data": {
      "image/png": "[encoded data removed]",
      "text/plain": [
       "<Figure size 720x504 with 1 Axes>"
      ]
     },
     "metadata": {
      "needs_background": "light"
     },
     "output_type": "display_data"
    },
    {
     "data": {
      "image/png": "[encoded data removed]",
      "text/plain": [
       "<Figure size 720x504 with 1 Axes>"
      ]
     },
     "metadata": {
      "needs_background": "light"
     },
     "output_type": "display_data"
    },
    {
     "data": {
      "image/png": "[encoded data removed]",
      "text/plain": [
       "<Figure size 720x504 with 1 Axes>"
      ]
     },
     "metadata": {
      "needs_background": "light"
     },
     "output_type": "display_data"
    },
    {
     "data": {
      "image/png": "[encoded data removed]",
      "text/plain": [
       "<Figure size 720x504 with 1 Axes>"
      ]
     },
     "metadata": {
      "needs_background": "light"
     },
     "output_type": "display_data"
    },
    {
     "data": {
      "image/png": "[encoded data removed]",
      "text/plain": [
       "<Figure size 720x504 with 1 Axes>"
      ]
     },
     "metadata": {
      "needs_background": "light"
     },
     "output_type": "display_data"
    },
    {
     "data": {
      "image/png": "[encoded data removed]",
      "text/plain": [
       "<Figure size 720x504 with 1 Axes>"
      ]
     },
     "metadata": {
      "needs_background": "light"
     },
     "output_type": "display_data"
    },
    {
     "data": {
      "image/png": "[encoded data removed]",
      "text/plain": [
       "<Figure size 720x504 with 1 Axes>"
      ]
     },
     "metadata": {
      "needs_background": "light"
     },
     "output_type": "display_data"
    },
    {
     "data": {
      "image/png": "[encoded data removed]",
      "text/plain": [
       "<Figure size 720x504 with 1 Axes>"
      ]
     },
     "metadata": {
      "needs_background": "light"
     },
     "output_type": "display_data"
    },
    {
     "data": {
      "image/png": "[encoded data removed]",
      "text/plain": [
       "<Figure size 720x504 with 1 Axes>"
      ]
     },
     "metadata": {
      "needs_background": "light"
     },
     "output_type": "display_data"
    },
    {
     "data": {
      "image/png": "[encoded data removed]",
      "text/plain": [
       "<Figure size 720x504 with 1 Axes>"
      ]
     },
     "metadata": {
      "needs_background": "light"
     },
     "output_type": "display_data"
    },
    {
     "data": {
      "image/png": "[encoded data removed]",
      "text/plain": [
       "<Figure size 720x504 with 1 Axes>"
      ]
     },
     "metadata": {
      "needs_background": "light"
     },
     "output_type": "display_data"
    },
    {
     "data": {
      "image/png": "[encoded data removed]",
      "text/plain": [
       "<Figure size 720x504 with 1 Axes>"
      ]
     },
     "metadata": {
      "needs_background": "light"
     },
     "output_type": "display_data"
    },
    {
     "ename": "AttributeError",
     "evalue": "'NoneType' object has no attribute 'view'",
     "output_type": "error",
     "traceback": [
      "\u001b[0;31m---------------------------------------------------------------------------\u001b[0m",
      "\u001b[0;31mAttributeError\u001b[0m                            Traceback (most recent call last)",
      "\u001b[0;32m/tmp/ipykernel_127531/453371556.py\u001b[0m in \u001b[0;36m<module>\u001b[0;34m\u001b[0m\n\u001b[1;32m      1\u001b[0m \u001b[0;32mfor\u001b[0m \u001b[0mmp\u001b[0m \u001b[0;32min\u001b[0m \u001b[0mloc_sb_dblbeta_simpvikh_105_mp\u001b[0m\u001b[0;34m:\u001b[0m\u001b[0;34m\u001b[0m\u001b[0;34m\u001b[0m\u001b[0m\n\u001b[0;32m----> 2\u001b[0;31m     \u001b[0mmp\u001b[0m\u001b[0;34m.\u001b[0m\u001b[0mview\u001b[0m\u001b[0;34m(\u001b[0m\u001b[0;34m)\u001b[0m\u001b[0;34m\u001b[0m\u001b[0;34m\u001b[0m\u001b[0m\n\u001b[0m",
      "\u001b[0;31mAttributeError\u001b[0m: 'NoneType' object has no attribute 'view'"
     ]
    }
   ],
   "source": [
    "for mp in loc_sb_dblbeta_simpvikh_105_mp:\n",
    "    mp.view()"
   ]
  },
  {
   "cell_type": "code",
   "execution_count": 24,
   "id": "40d4acc6",
   "metadata": {
    "scrolled": false
   },
   "outputs": [
    {
     "data": {
      "image/png": "[encoded data removed]",
      "text/plain": [
       "<Figure size 864x432 with 2 Axes>"
      ]
     },
     "metadata": {
      "needs_background": "light"
     },
     "output_type": "display_data"
    }
   ],
   "source": [
    "# Setting the y-position and font size of the a and b labels that are added below the subplots\n",
    "sublabel_ypos = -0.115\n",
    "sublabel_fsize = 14\n",
    "\n",
    "# Set up the matplotlib figure with 2 columns, meaning three subplots\n",
    "fig, ax_arr = plt.subplots(ncols=2, figsize=(12, 6))\n",
    "\n",
    "# Iterating through the array of axes objects, setting up the ticks\n",
    "for ax in ax_arr:\n",
    "    ax.minorticks_on()\n",
    "    ax.tick_params(which='both', top=True, right=True, direction='in')\n",
    "\n",
    "# Reading out the first axis in the array of axes\n",
    "ax = ax_arr[0]\n",
    "plt.sca(ax)\n",
    "\n",
    "# Fetching appropriate limits for comparing the two sets of mass measurements\n",
    "lov_lims = find_lims(lov_lit_ms, lov_sb_dblbeta_simpvikh_105_m500).value\n",
    "\n",
    "# Plotting a 1:1 line to help with comparisons\n",
    "plt.plot(lov_lims, lov_lims, color='red', linestyle=\"dashed\", label=\"1:1\")\n",
    "# Plotting the two datasets with uncertainties\n",
    "plt.errorbar(lov_lit_ms[:, 0].value, lov_sb_dblbeta_simpvikh_105_m500[:, 0].value, \n",
    "             xerr=lov_lit_ms[:, 1].value, \n",
    "             yerr=lov_sb_dblbeta_simpvikh_105_m500[:, 1].T.value, fmt='x', \n",
    "             color=lov_colour, capsize=2, label=r\"Lovisari et al.\")\n",
    "\n",
    "# Labelling axes, setting labels etc.\n",
    "ax.set_xlabel(r\"Lovisari $M_{\\rm{hy, 500}}$ [M$_{\\odot}$]\", fontsize=15)\n",
    "ax.set_xlim(lov_lims)\n",
    "ax.set_ylabel(r\"XGA $M_{\\rm{hy,500}}$ [M$_{\\odot}$]\", fontsize=15)\n",
    "ax.set_ylim(lov_lims)\n",
    "ax.text(0.5, sublabel_ypos, s='a)', horizontalalignment='center', verticalalignment='center', \n",
    "        transform=ax.transAxes, fontsize=sublabel_fsize)\n",
    "ax.legend(loc='best', fontsize=14)\n",
    "\n",
    "# Reading out the second axis in the array of axes\n",
    "ax = ax_arr[1]\n",
    "plt.sca(ax)\n",
    "\n",
    "# Fetching appropriate limits for comparing the two sets of mass measurements\n",
    "loc_lims = find_lims(loc_lit_ms, loc_sb_dblbeta_simpvikh_105_m500).value\n",
    "\n",
    "# Plotting a 1:1 line to help with comparisons\n",
    "plt.plot(loc_lims, loc_lims, color='red', linestyle=\"dashed\", label=\"1:1\")\n",
    "# Plotting the two datasets with uncertainties\n",
    "\n",
    "plt.errorbar(loc_lit_ms[:, 0].value, loc_sb_dblbeta_simpvikh_105_m500[:, 0].value, \n",
    "             xerr=loc_lit_ms[:, 1].value, \n",
    "             yerr=loc_sb_dblbeta_simpvikh_105_m500[:, 1].T.value, fmt='x', \n",
    "             color=loc_colour, capsize=2, label=r\"LoCuSS High-$L_{\\rm{X}}$\")\n",
    "\n",
    "# Labelling axes, setting labels etc.\n",
    "ax.set_xlabel(r\"LoCuSS $M_{\\rm{hy, 500}}$ [M$_{\\odot}$]\", fontsize=15)\n",
    "ax.set_xlim(loc_lims)\n",
    "ax.set_ylabel(r\"XGA $M_{\\rm{hy,500}}$ [M$_{\\odot}$]\", fontsize=15)\n",
    "ax.set_ylim(loc_lims)\n",
    "ax.text(0.5, sublabel_ypos, s='b)', horizontalalignment='center', verticalalignment='center', \n",
    "        transform=ax.transAxes, fontsize=sublabel_fsize)\n",
    "ax.legend(loc='best', fontsize=14)\n",
    "\n",
    "# Saving and plotting the resulting figure\n",
    "plt.tight_layout()\n",
    "plt.savefig(\"non_paper_figures/lov_loc_sb_dblbeta_svikh_1.05r500_hym500_comp.pdf\")\n",
    "plt.show()"
   ]
  }
 ],
 "metadata": {
  "kernelspec": {
   "display_name": "Python 3 (ipykernel)",
   "language": "python",
   "name": "python3"
  },
  "language_info": {
   "codemirror_mode": {
    "name": "ipython",
    "version": 3
   },
   "file_extension": ".py",
   "mimetype": "text/x-python",
   "name": "python",
   "nbconvert_exporter": "python",
   "pygments_lexer": "ipython3",
   "version": "3.8.11"
  }
 },
 "nbformat": 4,
 "nbformat_minor": 5
}
