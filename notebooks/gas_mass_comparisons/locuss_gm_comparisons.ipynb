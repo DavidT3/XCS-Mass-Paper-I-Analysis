{
 "cells": [
  {
   "cell_type": "markdown",
   "id": "56365db4",
   "metadata": {},
   "source": [
    "# Comparing Total Gas Masses Between Analyses - LoCuSS High-$L_{\\rm{X}}$"
   ]
  },
  {
   "cell_type": "markdown",
   "id": "dc4bf697",
   "metadata": {},
   "source": [
    "This notebook measures gas masses for the LoCuSS High-$L_{\\rm{X}}$ sample, then compares them to the measurements from literature. While the focus of this work is the measurement of total galaxy cluster masses, comparing measured gas masses gives us an avenue to probe how similar our measurements of the baryon density of the clusters are to those from literature. Seeing as knowledge of the gas density profile feeds into the total gas mass, its important to know if we are consistent."
   ]
  },
  {
   "cell_type": "markdown",
   "id": "723ab4b7",
   "metadata": {},
   "source": [
    "## Import Statements"
   ]
  },
  {
   "cell_type": "code",
   "execution_count": 1,
   "id": "c41a3b88",
   "metadata": {},
   "outputs": [],
   "source": [
    "import pandas as pd\n",
    "import numpy as np\n",
    "from astropy.units import Quantity, UnitConversionError, Unit\n",
    "import matplotlib.pyplot as plt\n",
    "from typing import Union, List\n",
    "from shutil import rmtree\n",
    "import os\n",
    "from tqdm import tqdm\n",
    "\n",
    "# This adds the directory above to the path, allowing me to import the common functions that I've written in\n",
    "#  common.py - this just saves me repeating boring code and makes sure its all consistent\n",
    "import sys\n",
    "sys.path.insert(0, '..')\n",
    "from common import locuss_colour, locuss_cosmo, direct_comparison_plot, find_lims, fit_comp\n",
    "\n",
    "import xga\n",
    "# This just sets the number of cores this analysis is allowed to use\n",
    "xga.NUM_CORES = 100\n",
    "# This is a bodge that will only work because xga_output in notebooks has already been defined, XGA\n",
    "#  will be made to handle this more gracefully at some point\n",
    "temp_dir = xga.OUTPUT\n",
    "actual_dir = temp_dir.split('notebooks/')[0]+'notebooks/xga_output/'\n",
    "xga.OUTPUT = actual_dir\n",
    "xga.utils.OUTPUT = actual_dir\n",
    "# As currently XGA will setup an xga_output directory in our current directory, I remove it to keep it all clean\n",
    "if os.path.exists('xga_output'):\n",
    "    rmtree('xga_output')\n",
    "from xga.samples import ClusterSample\n",
    "from xga.imagetools.psf import rl_psf\n",
    "from xga.sourcetools.density import inv_abel_fitted_model, ann_spectra_apec_norm\n",
    "from xga.models import BetaProfile1D, DoubleBetaProfile1D, KingProfile1D, SimpleVikhlininDensity1D\n",
    "from xga.exceptions import ModelNotAssociatedError\n",
    "from xga.xspec import single_temp_apec"
   ]
  },
  {
   "cell_type": "markdown",
   "id": "840bef7f",
   "metadata": {},
   "source": [
    "## Reading in Sample File and Declaring XGA ClusterSample"
   ]
  },
  {
   "cell_type": "markdown",
   "id": "5d38b971",
   "metadata": {},
   "source": [
    "This subsection involves reading in the sample files of the four test samples (described in [the sample properties notebook](sample_properties.ipynb)), then setting up separate XGA ClusterSample instances (see [the documentation](https://xga.readthedocs.io/en/latest/notebooks/tutorials/sources_samples.html) for an introduction to XGA source and sample objects.\n",
    "\n",
    "We impose an additional cleaning step on each sample, where we make sure that (for each XMM observation initially associated with a source) at least 70% of a cluster's $R_{500}$ falls on that observation - if this requirement is not met then the observation is excluded. These requirements are set with the `clean_obs=True`, `clean_obs_reg='r500'`, and `clean_obs_threshold=0.7` arguments when a ClusterSample instance is declared."
   ]
  },
  {
   "cell_type": "markdown",
   "id": "1022c878",
   "metadata": {},
   "source": [
    "### LoCuSS High-$L_{\\rm{X}}$"
   ]
  },
  {
   "cell_type": "markdown",
   "id": "a0e28096",
   "metadata": {},
   "source": [
    "The LoCuSS High-$L_{\\rm{X}}$ sample was selected from ROSAT for its high luminosity clusters, and will again be a useful comparison as testing against various different analyses is beneficial in establishing the veracity of our new measurements."
   ]
  },
  {
   "cell_type": "code",
   "execution_count": 2,
   "id": "af7b9861",
   "metadata": {},
   "outputs": [],
   "source": [
    "locuss = pd.read_csv(\"../../sample_files/locuss_highlx_clusters.csv\", dtype={'chandra_id': str, 'xmm_obsid': str})"
   ]
  },
  {
   "cell_type": "code",
   "execution_count": 3,
   "id": "7298e03c",
   "metadata": {
    "scrolled": true
   },
   "outputs": [
    {
     "name": "stderr",
     "output_type": "stream",
     "text": [
      "Declaring BaseSource Sample:  36%|███████████████▊                            | 18/50 [01:06<02:10,  4.09s/it]/mnt/pact/dt237/code/PycharmProjects/XGA/xga/samples/base.py:90: UserWarning: Source ZwCl0949.6+5207 does not appear to have any XMM data, and will not be included in the sample.\n",
      "  warn(\"Source {n} does not appear to have any XMM data, and will not be included in the \"\n",
      "Declaring BaseSource Sample:  46%|████████████████████▏                       | 23/50 [01:24<01:59,  4.41s/it]/mnt/pact/dt237/code/PycharmProjects/XGA/xga/samples/base.py:90: UserWarning: Source Abell1423 does not appear to have any XMM data, and will not be included in the sample.\n",
      "  warn(\"Source {n} does not appear to have any XMM data, and will not be included in the \"\n",
      "Declaring BaseSource Sample:  50%|██████████████████████                      | 25/50 [01:27<01:16,  3.06s/it]/mnt/pact/dt237/code/PycharmProjects/XGA/xga/samples/base.py:90: UserWarning: Source RXCJ1212.3-1816 does not appear to have any XMM data, and will not be included in the sample.\n",
      "  warn(\"Source {n} does not appear to have any XMM data, and will not be included in the \"\n",
      "Declaring BaseSource Sample:  54%|███████████████████████▊                    | 27/50 [01:30<00:56,  2.44s/it]/mnt/pact/dt237/code/PycharmProjects/XGA/xga/samples/base.py:90: UserWarning: Source Abell1682 does not appear to have any XMM data, and will not be included in the sample.\n",
      "  warn(\"Source {n} does not appear to have any XMM data, and will not be included in the \"\n",
      "Declaring BaseSource Sample:  90%|███████████████████████████████████████▌    | 45/50 [02:57<00:20,  4.12s/it]/mnt/pact/dt237/code/PycharmProjects/XGA/xga/samples/base.py:90: UserWarning: Source Abell2485 does not appear to have any XMM data, and will not be included in the sample.\n",
      "  warn(\"Source {n} does not appear to have any XMM data, and will not be included in the \"\n",
      "Declaring BaseSource Sample: 100%|████████████████████████████████████████████| 50/50 [03:10<00:00,  3.80s/it]\n",
      "Setting up Galaxy Clusters:   4%|██                                            | 2/45 [00:04<01:33,  2.18s/it]/mnt/pact/dt237/code/PycharmProjects/XGA/xga/sources/general.py:124: UserWarning: Abell2813 has not been detected in all region files, so generating and fitting products with the 'region' reg_type will not use all available data\n",
      "  warnings.warn(\"{n} has not been detected in all region files, so generating and fitting products\"\n",
      "Setting up Galaxy Clusters:  11%|█████                                         | 5/45 [00:11<01:35,  2.39s/it]/mnt/pact/dt237/code/PycharmProjects/XGA/xga/sources/general.py:124: UserWarning: ZwCl0104.4+0048 has not been detected in all region files, so generating and fitting products with the 'region' reg_type will not use all available data\n",
      "  warnings.warn(\"{n} has not been detected in all region files, so generating and fitting products\"\n",
      "Setting up Galaxy Clusters:  29%|████████████▉                                | 13/45 [00:40<02:27,  4.62s/it]/mnt/pact/dt237/code/PycharmProjects/XGA/xga/sources/general.py:124: UserWarning: Abell0697 has not been detected in all region files, so generating and fitting products with the 'region' reg_type will not use all available data\n",
      "  warnings.warn(\"{n} has not been detected in all region files, so generating and fitting products\"\n",
      "Setting up Galaxy Clusters:  38%|█████████████████                            | 17/45 [00:52<01:29,  3.21s/it]/mnt/pact/dt237/code/PycharmProjects/XGA/xga/sources/general.py:124: UserWarning: Abell0781 has not been detected in all region files, so generating and fitting products with the 'region' reg_type will not use all available data\n",
      "  warnings.warn(\"{n} has not been detected in all region files, so generating and fitting products\"\n",
      "Setting up Galaxy Clusters:  60%|███████████████████████████                  | 27/45 [01:18<00:38,  2.13s/it]/mnt/pact/dt237/code/PycharmProjects/XGA/xga/sources/general.py:124: UserWarning: Abell1689 has not been detected in all region files, so generating and fitting products with the 'region' reg_type will not use all available data\n",
      "  warnings.warn(\"{n} has not been detected in all region files, so generating and fitting products\"\n",
      "Setting up Galaxy Clusters:  64%|█████████████████████████████                | 29/45 [01:24<00:38,  2.42s/it]/mnt/pact/dt237/code/PycharmProjects/XGA/xga/sources/base.py:1039: UserWarning: A previous annular spectra profile fit for Abell1758N was not successful, or no matching spectrum has been loaded, so it cannot be read in\n",
      "  warnings.warn(\"A previous annular spectra profile fit for {src} was not successful, or no \"\n",
      "/mnt/pact/dt237/code/PycharmProjects/XGA/xga/sources/general.py:124: UserWarning: Abell1758N has not been detected in all region files, so generating and fitting products with the 'region' reg_type will not use all available data\n",
      "  warnings.warn(\"{n} has not been detected in all region files, so generating and fitting products\"\n",
      "/mnt/pact/dt237/code/PycharmProjects/XGA/xga/sources/base.py:1039: UserWarning: A previous annular spectra profile fit for Abell1758N was not successful, or no matching spectrum has been loaded, so it cannot be read in\n",
      "  warnings.warn(\"A previous annular spectra profile fit for {src} was not successful, or no \"\n",
      "Setting up Galaxy Clusters:  87%|███████████████████████████████████████      | 39/45 [02:20<00:40,  6.79s/it]/mnt/pact/dt237/code/PycharmProjects/XGA/xga/sources/base.py:1039: UserWarning: A previous annular spectra profile fit for Abell2219 was not successful, or no matching spectrum has been loaded, so it cannot be read in\n",
      "  warnings.warn(\"A previous annular spectra profile fit for {src} was not successful, or no \"\n",
      "/mnt/pact/dt237/code/PycharmProjects/XGA/xga/sources/general.py:124: UserWarning: Abell2219 has not been detected in all region files, so generating and fitting products with the 'region' reg_type will not use all available data\n",
      "  warnings.warn(\"{n} has not been detected in all region files, so generating and fitting products\"\n",
      "/mnt/pact/dt237/code/PycharmProjects/XGA/xga/sources/base.py:1039: UserWarning: A previous annular spectra profile fit for Abell2219 was not successful, or no matching spectrum has been loaded, so it cannot be read in\n",
      "  warnings.warn(\"A previous annular spectra profile fit for {src} was not successful, or no \"\n",
      "Setting up Galaxy Clusters:  96%|███████████████████████████████████████████  | 43/45 [02:34<00:08,  4.10s/it]/mnt/pact/dt237/code/PycharmProjects/XGA/xga/sources/general.py:124: UserWarning: RXJ2129.6+0005 has not been detected in all region files, so generating and fitting products with the 'region' reg_type will not use all available data\n",
      "  warnings.warn(\"{n} has not been detected in all region files, so generating and fitting products\"\n",
      "Setting up Galaxy Clusters: 50it [02:50,  3.40s/it]                                                           \n"
     ]
    }
   ],
   "source": [
    "# Reading out the relevant values into arrays just for ease of passing into the ClusterSample object\n",
    "ra = locuss['ra'].values\n",
    "dec = locuss['dec'].values\n",
    "z = locuss['z'].values\n",
    "n = locuss['name'].values\n",
    "r500 = Quantity(locuss['r500'].values, 'kpc')\n",
    "r2500 = Quantity(locuss['r2500'].values, 'kpc')\n",
    "\n",
    "\n",
    "# Declaring the actual ClusterSample instance for the LoCuSS sample\n",
    "locuss_srcs = ClusterSample(ra, dec, z, n, r500=r500, r2500=r2500, cosmology=locuss_cosmo, load_fits=True, \n",
    "                            use_peak=False, clean_obs=True, clean_obs_reg='r500', clean_obs_threshold=0.7)"
   ]
  },
  {
   "cell_type": "code",
   "execution_count": 23,
   "id": "2b4a5cda",
   "metadata": {},
   "outputs": [
    {
     "data": {
      "text/plain": [
       "41"
      ]
     },
     "execution_count": 23,
     "metadata": {},
     "output_type": "execute_result"
    }
   ],
   "source": [
    "from xga.exceptions import NoProductAvailableError\n",
    "\n",
    "which = []\n",
    "for src in locuss_srcs:\n",
    "    try:\n",
    "        mp = src.get_hydrostatic_mass_profiles()\n",
    "        which.append(mp.src_name)\n",
    "    except NoProductAvailableError:\n",
    "        pass\n",
    "len(which)"
   ]
  },
  {
   "cell_type": "code",
   "execution_count": 29,
   "id": "819a7689",
   "metadata": {},
   "outputs": [
    {
     "data": {
      "text/html": [
       "<div>\n",
       "<style scoped>\n",
       "    .dataframe tbody tr th:only-of-type {\n",
       "        vertical-align: middle;\n",
       "    }\n",
       "\n",
       "    .dataframe tbody tr th {\n",
       "        vertical-align: top;\n",
       "    }\n",
       "\n",
       "    .dataframe thead th {\n",
       "        text-align: right;\n",
       "    }\n",
       "</style>\n",
       "<table border=\"1\" class=\"dataframe\">\n",
       "  <thead>\n",
       "    <tr style=\"text-align: right;\">\n",
       "      <th></th>\n",
       "      <th>name</th>\n",
       "      <th>ra</th>\n",
       "      <th>dec</th>\n",
       "      <th>z</th>\n",
       "      <th>chandra_id</th>\n",
       "      <th>xmm_obsid</th>\n",
       "      <th>r2500</th>\n",
       "      <th>r1000</th>\n",
       "      <th>r500</th>\n",
       "      <th>c_m2500</th>\n",
       "      <th>...</th>\n",
       "      <th>x_mg1000</th>\n",
       "      <th>x_mg1000_err</th>\n",
       "      <th>x_mg500</th>\n",
       "      <th>x_mg500_err</th>\n",
       "      <th>x_Tx500ce</th>\n",
       "      <th>x_Tx500ce-</th>\n",
       "      <th>x_Tx500ce+</th>\n",
       "      <th>x_Lxbol</th>\n",
       "      <th>x_Lxbol_err</th>\n",
       "      <th>r500wl</th>\n",
       "    </tr>\n",
       "  </thead>\n",
       "  <tbody>\n",
       "    <tr>\n",
       "      <th>0</th>\n",
       "      <td>Abell2697</td>\n",
       "      <td>0.799917</td>\n",
       "      <td>-6.093220</td>\n",
       "      <td>0.232</td>\n",
       "      <td>NaN</td>\n",
       "      <td>0652010401</td>\n",
       "      <td>510.0</td>\n",
       "      <td>840.0</td>\n",
       "      <td>1200.0</td>\n",
       "      <td>NaN</td>\n",
       "      <td>...</td>\n",
       "      <td>5.670000e+13</td>\n",
       "      <td>2.200000e+12</td>\n",
       "      <td>8.800000e+13</td>\n",
       "      <td>3.700000e+12</td>\n",
       "      <td>6.992</td>\n",
       "      <td>0.375</td>\n",
       "      <td>0.477</td>\n",
       "      <td>18.658</td>\n",
       "      <td>0.463</td>\n",
       "      <td>1181.0</td>\n",
       "    </tr>\n",
       "    <tr>\n",
       "      <th>1</th>\n",
       "      <td>Abell0068</td>\n",
       "      <td>9.275460</td>\n",
       "      <td>9.158440</td>\n",
       "      <td>0.255</td>\n",
       "      <td>3250</td>\n",
       "      <td>0084230201</td>\n",
       "      <td>580.0</td>\n",
       "      <td>970.0</td>\n",
       "      <td>1400.0</td>\n",
       "      <td>3.850000e+14</td>\n",
       "      <td>...</td>\n",
       "      <td>6.330000e+13</td>\n",
       "      <td>4.000000e+11</td>\n",
       "      <td>9.280000e+13</td>\n",
       "      <td>8.000000e+11</td>\n",
       "      <td>7.658</td>\n",
       "      <td>0.622</td>\n",
       "      <td>0.769</td>\n",
       "      <td>15.863</td>\n",
       "      <td>0.618</td>\n",
       "      <td>1231.0</td>\n",
       "    </tr>\n",
       "    <tr>\n",
       "      <th>2</th>\n",
       "      <td>Abell2813</td>\n",
       "      <td>10.853000</td>\n",
       "      <td>-20.623600</td>\n",
       "      <td>0.292</td>\n",
       "      <td>9409</td>\n",
       "      <td>0042340201</td>\n",
       "      <td>500.0</td>\n",
       "      <td>860.0</td>\n",
       "      <td>1240.0</td>\n",
       "      <td>2.540000e+14</td>\n",
       "      <td>...</td>\n",
       "      <td>6.250000e+13</td>\n",
       "      <td>6.000000e+11</td>\n",
       "      <td>9.990000e+13</td>\n",
       "      <td>7.000000e+11</td>\n",
       "      <td>6.322</td>\n",
       "      <td>0.698</td>\n",
       "      <td>0.965</td>\n",
       "      <td>20.197</td>\n",
       "      <td>3.634</td>\n",
       "      <td>1320.0</td>\n",
       "    </tr>\n",
       "    <tr>\n",
       "      <th>3</th>\n",
       "      <td>Abell0115S</td>\n",
       "      <td>14.001200</td>\n",
       "      <td>26.342400</td>\n",
       "      <td>0.197</td>\n",
       "      <td>3233</td>\n",
       "      <td>0203220101</td>\n",
       "      <td>350.0</td>\n",
       "      <td>610.0</td>\n",
       "      <td>890.0</td>\n",
       "      <td>8.100000e+13</td>\n",
       "      <td>...</td>\n",
       "      <td>2.640000e+13</td>\n",
       "      <td>1.000000e+11</td>\n",
       "      <td>5.190000e+13</td>\n",
       "      <td>3.000000e+11</td>\n",
       "      <td>5.848</td>\n",
       "      <td>0.300</td>\n",
       "      <td>0.386</td>\n",
       "      <td>9.529</td>\n",
       "      <td>0.213</td>\n",
       "      <td>1115.0</td>\n",
       "    </tr>\n",
       "    <tr>\n",
       "      <th>6</th>\n",
       "      <td>Abell0209</td>\n",
       "      <td>22.972200</td>\n",
       "      <td>-13.612200</td>\n",
       "      <td>0.206</td>\n",
       "      <td>3579,522</td>\n",
       "      <td>0084230301</td>\n",
       "      <td>480.0</td>\n",
       "      <td>800.0</td>\n",
       "      <td>1150.0</td>\n",
       "      <td>1.960000e+14</td>\n",
       "      <td>...</td>\n",
       "      <td>5.310000e+13</td>\n",
       "      <td>2.000000e+11</td>\n",
       "      <td>9.090000e+13</td>\n",
       "      <td>3.000000e+11</td>\n",
       "      <td>7.038</td>\n",
       "      <td>0.483</td>\n",
       "      <td>0.605</td>\n",
       "      <td>19.307</td>\n",
       "      <td>0.596</td>\n",
       "      <td>1513.0</td>\n",
       "    </tr>\n",
       "    <tr>\n",
       "      <th>8</th>\n",
       "      <td>Abell0291</td>\n",
       "      <td>30.429100</td>\n",
       "      <td>-2.196190</td>\n",
       "      <td>0.196</td>\n",
       "      <td>NaN</td>\n",
       "      <td>0605000301</td>\n",
       "      <td>380.0</td>\n",
       "      <td>650.0</td>\n",
       "      <td>940.0</td>\n",
       "      <td>NaN</td>\n",
       "      <td>...</td>\n",
       "      <td>2.450000e+13</td>\n",
       "      <td>1.800000e+12</td>\n",
       "      <td>3.910000e+13</td>\n",
       "      <td>3.100000e+12</td>\n",
       "      <td>4.033</td>\n",
       "      <td>0.293</td>\n",
       "      <td>0.324</td>\n",
       "      <td>9.492</td>\n",
       "      <td>0.255</td>\n",
       "      <td>1092.0</td>\n",
       "    </tr>\n",
       "    <tr>\n",
       "      <th>9</th>\n",
       "      <td>Abell0383</td>\n",
       "      <td>42.014100</td>\n",
       "      <td>-3.529330</td>\n",
       "      <td>0.188</td>\n",
       "      <td>2320,524</td>\n",
       "      <td>0084230501</td>\n",
       "      <td>480.0</td>\n",
       "      <td>750.0</td>\n",
       "      <td>1010.0</td>\n",
       "      <td>2.010000e+14</td>\n",
       "      <td>...</td>\n",
       "      <td>3.000000e+13</td>\n",
       "      <td>1.000000e+11</td>\n",
       "      <td>4.330000e+13</td>\n",
       "      <td>2.000000e+11</td>\n",
       "      <td>4.574</td>\n",
       "      <td>0.338</td>\n",
       "      <td>0.420</td>\n",
       "      <td>12.795</td>\n",
       "      <td>0.370</td>\n",
       "      <td>1144.0</td>\n",
       "    </tr>\n",
       "    <tr>\n",
       "      <th>10</th>\n",
       "      <td>Abell0521</td>\n",
       "      <td>73.534300</td>\n",
       "      <td>-10.239900</td>\n",
       "      <td>0.248</td>\n",
       "      <td>430</td>\n",
       "      <td>0603890101</td>\n",
       "      <td>270.0</td>\n",
       "      <td>770.0</td>\n",
       "      <td>1230.0</td>\n",
       "      <td>1.700000e+14</td>\n",
       "      <td>...</td>\n",
       "      <td>5.790000e+13</td>\n",
       "      <td>1.000000e+11</td>\n",
       "      <td>1.198000e+14</td>\n",
       "      <td>3.000000e+11</td>\n",
       "      <td>6.718</td>\n",
       "      <td>0.294</td>\n",
       "      <td>0.334</td>\n",
       "      <td>19.036</td>\n",
       "      <td>0.350</td>\n",
       "      <td>1149.0</td>\n",
       "    </tr>\n",
       "    <tr>\n",
       "      <th>14</th>\n",
       "      <td>ZwCl0857.9+2107</td>\n",
       "      <td>135.154000</td>\n",
       "      <td>20.894900</td>\n",
       "      <td>0.235</td>\n",
       "      <td>10463</td>\n",
       "      <td>0402250701</td>\n",
       "      <td>420.0</td>\n",
       "      <td>660.0</td>\n",
       "      <td>910.0</td>\n",
       "      <td>1.890000e+14</td>\n",
       "      <td>...</td>\n",
       "      <td>2.630000e+13</td>\n",
       "      <td>2.000000e+11</td>\n",
       "      <td>3.820000e+13</td>\n",
       "      <td>4.000000e+11</td>\n",
       "      <td>4.068</td>\n",
       "      <td>0.277</td>\n",
       "      <td>0.307</td>\n",
       "      <td>17.624</td>\n",
       "      <td>0.916</td>\n",
       "      <td>830.0</td>\n",
       "    </tr>\n",
       "    <tr>\n",
       "      <th>16</th>\n",
       "      <td>Abell0773</td>\n",
       "      <td>139.469000</td>\n",
       "      <td>51.727300</td>\n",
       "      <td>0.217</td>\n",
       "      <td>533,3588,5066</td>\n",
       "      <td>0084230601</td>\n",
       "      <td>560.0</td>\n",
       "      <td>880.0</td>\n",
       "      <td>1210.0</td>\n",
       "      <td>3.230000e+14</td>\n",
       "      <td>...</td>\n",
       "      <td>5.890000e+13</td>\n",
       "      <td>2.000000e+11</td>\n",
       "      <td>8.690000e+13</td>\n",
       "      <td>3.000000e+11</td>\n",
       "      <td>7.525</td>\n",
       "      <td>0.622</td>\n",
       "      <td>0.792</td>\n",
       "      <td>18.319</td>\n",
       "      <td>0.730</td>\n",
       "      <td>1428.0</td>\n",
       "    </tr>\n",
       "    <tr>\n",
       "      <th>19</th>\n",
       "      <td>Abell0901</td>\n",
       "      <td>148.988000</td>\n",
       "      <td>-9.984640</td>\n",
       "      <td>0.163</td>\n",
       "      <td>NaN</td>\n",
       "      <td>0148170101</td>\n",
       "      <td>370.0</td>\n",
       "      <td>580.0</td>\n",
       "      <td>790.0</td>\n",
       "      <td>NaN</td>\n",
       "      <td>...</td>\n",
       "      <td>1.370000e+13</td>\n",
       "      <td>1.000000e+12</td>\n",
       "      <td>2.080000e+13</td>\n",
       "      <td>2.000000e+12</td>\n",
       "      <td>2.797</td>\n",
       "      <td>0.043</td>\n",
       "      <td>0.043</td>\n",
       "      <td>3.581</td>\n",
       "      <td>0.041</td>\n",
       "      <td>947.0</td>\n",
       "    </tr>\n",
       "    <tr>\n",
       "      <th>20</th>\n",
       "      <td>Abell0907</td>\n",
       "      <td>149.592000</td>\n",
       "      <td>-11.064300</td>\n",
       "      <td>0.167</td>\n",
       "      <td>3250,3185,535</td>\n",
       "      <td>0201903501,0404910601</td>\n",
       "      <td>510.0</td>\n",
       "      <td>800.0</td>\n",
       "      <td>1080.0</td>\n",
       "      <td>2.330000e+14</td>\n",
       "      <td>...</td>\n",
       "      <td>4.430000e+13</td>\n",
       "      <td>2.000000e+11</td>\n",
       "      <td>6.480000e+13</td>\n",
       "      <td>4.000000e+11</td>\n",
       "      <td>NaN</td>\n",
       "      <td>NaN</td>\n",
       "      <td>NaN</td>\n",
       "      <td>NaN</td>\n",
       "      <td>NaN</td>\n",
       "      <td>NaN</td>\n",
       "    </tr>\n",
       "    <tr>\n",
       "      <th>21</th>\n",
       "      <td>Abell0963</td>\n",
       "      <td>154.265000</td>\n",
       "      <td>39.049800</td>\n",
       "      <td>0.205</td>\n",
       "      <td>903</td>\n",
       "      <td>0084230701</td>\n",
       "      <td>550.0</td>\n",
       "      <td>850.0</td>\n",
       "      <td>1140.0</td>\n",
       "      <td>2.680000e+14</td>\n",
       "      <td>...</td>\n",
       "      <td>5.000000e+13</td>\n",
       "      <td>3.000000e+11</td>\n",
       "      <td>7.140000e+13</td>\n",
       "      <td>3.000000e+11</td>\n",
       "      <td>6.527</td>\n",
       "      <td>0.497</td>\n",
       "      <td>0.615</td>\n",
       "      <td>16.962</td>\n",
       "      <td>0.565</td>\n",
       "      <td>1267.0</td>\n",
       "    </tr>\n",
       "    <tr>\n",
       "      <th>22</th>\n",
       "      <td>ZwCl1021.0+0426</td>\n",
       "      <td>155.915000</td>\n",
       "      <td>4.186310</td>\n",
       "      <td>0.291</td>\n",
       "      <td>9371</td>\n",
       "      <td>0108670101</td>\n",
       "      <td>550.0</td>\n",
       "      <td>890.0</td>\n",
       "      <td>1260.0</td>\n",
       "      <td>3.270000e+14</td>\n",
       "      <td>...</td>\n",
       "      <td>8.000000e+13</td>\n",
       "      <td>1.000000e+11</td>\n",
       "      <td>1.151000e+14</td>\n",
       "      <td>2.000000e+11</td>\n",
       "      <td>7.113</td>\n",
       "      <td>0.167</td>\n",
       "      <td>0.261</td>\n",
       "      <td>71.073</td>\n",
       "      <td>1.079</td>\n",
       "      <td>1130.0</td>\n",
       "    </tr>\n",
       "    <tr>\n",
       "      <th>24</th>\n",
       "      <td>Abell1451</td>\n",
       "      <td>180.822000</td>\n",
       "      <td>-21.537200</td>\n",
       "      <td>0.199</td>\n",
       "      <td>NaN</td>\n",
       "      <td>0652010101</td>\n",
       "      <td>500.0</td>\n",
       "      <td>920.0</td>\n",
       "      <td>1360.0</td>\n",
       "      <td>NaN</td>\n",
       "      <td>...</td>\n",
       "      <td>6.270000e+13</td>\n",
       "      <td>5.100000e+12</td>\n",
       "      <td>1.046000e+14</td>\n",
       "      <td>1.020000e+13</td>\n",
       "      <td>8.868</td>\n",
       "      <td>1.097</td>\n",
       "      <td>1.446</td>\n",
       "      <td>15.649</td>\n",
       "      <td>1.018</td>\n",
       "      <td>1360.0</td>\n",
       "    </tr>\n",
       "    <tr>\n",
       "      <th>28</th>\n",
       "      <td>Abell1689</td>\n",
       "      <td>197.873000</td>\n",
       "      <td>-1.341750</td>\n",
       "      <td>0.183</td>\n",
       "      <td>5004,6930,7289</td>\n",
       "      <td>0093030101</td>\n",
       "      <td>710.0</td>\n",
       "      <td>1110.0</td>\n",
       "      <td>1510.0</td>\n",
       "      <td>6.220000e+14</td>\n",
       "      <td>...</td>\n",
       "      <td>9.460000e+13</td>\n",
       "      <td>4.000000e+11</td>\n",
       "      <td>1.250000e+14</td>\n",
       "      <td>7.000000e+11</td>\n",
       "      <td>9.182</td>\n",
       "      <td>0.454</td>\n",
       "      <td>0.611</td>\n",
       "      <td>40.832</td>\n",
       "      <td>1.044</td>\n",
       "      <td>1558.0</td>\n",
       "    </tr>\n",
       "    <tr>\n",
       "      <th>30</th>\n",
       "      <td>Abell1763</td>\n",
       "      <td>203.826000</td>\n",
       "      <td>41.000200</td>\n",
       "      <td>0.228</td>\n",
       "      <td>3591</td>\n",
       "      <td>0084230901</td>\n",
       "      <td>500.0</td>\n",
       "      <td>890.0</td>\n",
       "      <td>1330.0</td>\n",
       "      <td>2.380000e+14</td>\n",
       "      <td>...</td>\n",
       "      <td>6.880000e+13</td>\n",
       "      <td>3.000000e+11</td>\n",
       "      <td>1.233000e+14</td>\n",
       "      <td>5.000000e+11</td>\n",
       "      <td>6.725</td>\n",
       "      <td>0.637</td>\n",
       "      <td>0.840</td>\n",
       "      <td>23.116</td>\n",
       "      <td>1.111</td>\n",
       "      <td>1605.0</td>\n",
       "    </tr>\n",
       "    <tr>\n",
       "      <th>31</th>\n",
       "      <td>Abell1835</td>\n",
       "      <td>210.258000</td>\n",
       "      <td>2.878560</td>\n",
       "      <td>0.253</td>\n",
       "      <td>6880,6881,7370</td>\n",
       "      <td>0098010101,0147330201,0551830101</td>\n",
       "      <td>680.0</td>\n",
       "      <td>1110.0</td>\n",
       "      <td>1570.0</td>\n",
       "      <td>5.810000e+14</td>\n",
       "      <td>...</td>\n",
       "      <td>1.138000e+14</td>\n",
       "      <td>3.000000e+11</td>\n",
       "      <td>1.615000e+14</td>\n",
       "      <td>7.000000e+11</td>\n",
       "      <td>8.498</td>\n",
       "      <td>0.260</td>\n",
       "      <td>0.302</td>\n",
       "      <td>75.874</td>\n",
       "      <td>3.108</td>\n",
       "      <td>1449.0</td>\n",
       "    </tr>\n",
       "    <tr>\n",
       "      <th>32</th>\n",
       "      <td>Abell1914</td>\n",
       "      <td>216.504000</td>\n",
       "      <td>37.825900</td>\n",
       "      <td>0.171</td>\n",
       "      <td>3593</td>\n",
       "      <td>0112230201</td>\n",
       "      <td>680.0</td>\n",
       "      <td>1030.0</td>\n",
       "      <td>1380.0</td>\n",
       "      <td>5.370000e+14</td>\n",
       "      <td>...</td>\n",
       "      <td>8.230000e+13</td>\n",
       "      <td>3.000000e+11</td>\n",
       "      <td>1.141000e+14</td>\n",
       "      <td>4.000000e+11</td>\n",
       "      <td>8.105</td>\n",
       "      <td>0.483</td>\n",
       "      <td>0.560</td>\n",
       "      <td>35.031</td>\n",
       "      <td>1.078</td>\n",
       "      <td>1341.0</td>\n",
       "    </tr>\n",
       "    <tr>\n",
       "      <th>33</th>\n",
       "      <td>ZwCl1454.8+2233</td>\n",
       "      <td>224.313000</td>\n",
       "      <td>22.342300</td>\n",
       "      <td>0.258</td>\n",
       "      <td>4192</td>\n",
       "      <td>0108670201</td>\n",
       "      <td>460.0</td>\n",
       "      <td>750.0</td>\n",
       "      <td>1060.0</td>\n",
       "      <td>1.890000e+14</td>\n",
       "      <td>...</td>\n",
       "      <td>4.030000e+13</td>\n",
       "      <td>1.000000e+11</td>\n",
       "      <td>6.080000e+13</td>\n",
       "      <td>2.000000e+11</td>\n",
       "      <td>4.907</td>\n",
       "      <td>0.255</td>\n",
       "      <td>0.319</td>\n",
       "      <td>25.795</td>\n",
       "      <td>0.620</td>\n",
       "      <td>1017.0</td>\n",
       "    </tr>\n",
       "    <tr>\n",
       "      <th>35</th>\n",
       "      <td>ZwCl1459.4+4240</td>\n",
       "      <td>225.337000</td>\n",
       "      <td>42.349300</td>\n",
       "      <td>0.289</td>\n",
       "      <td>7899</td>\n",
       "      <td>0402250201</td>\n",
       "      <td>440.0</td>\n",
       "      <td>730.0</td>\n",
       "      <td>1080.0</td>\n",
       "      <td>1.890000e+14</td>\n",
       "      <td>...</td>\n",
       "      <td>4.150000e+13</td>\n",
       "      <td>2.000000e+11</td>\n",
       "      <td>6.840000e+13</td>\n",
       "      <td>3.000000e+11</td>\n",
       "      <td>6.405</td>\n",
       "      <td>0.474</td>\n",
       "      <td>0.536</td>\n",
       "      <td>11.682</td>\n",
       "      <td>0.360</td>\n",
       "      <td>965.0</td>\n",
       "    </tr>\n",
       "    <tr>\n",
       "      <th>36</th>\n",
       "      <td>RXCJ1504.1-0248</td>\n",
       "      <td>226.031000</td>\n",
       "      <td>-2.804220</td>\n",
       "      <td>0.215</td>\n",
       "      <td>5793</td>\n",
       "      <td>0401040101</td>\n",
       "      <td>610.0</td>\n",
       "      <td>1010.0</td>\n",
       "      <td>1470.0</td>\n",
       "      <td>4.160000e+14</td>\n",
       "      <td>...</td>\n",
       "      <td>9.280000e+13</td>\n",
       "      <td>2.000000e+11</td>\n",
       "      <td>1.347000e+14</td>\n",
       "      <td>4.000000e+11</td>\n",
       "      <td>7.415</td>\n",
       "      <td>0.248</td>\n",
       "      <td>0.327</td>\n",
       "      <td>79.266</td>\n",
       "      <td>1.247</td>\n",
       "      <td>1225.0</td>\n",
       "    </tr>\n",
       "    <tr>\n",
       "      <th>38</th>\n",
       "      <td>Abell2204</td>\n",
       "      <td>248.195000</td>\n",
       "      <td>5.575780</td>\n",
       "      <td>0.152</td>\n",
       "      <td>6104,7940</td>\n",
       "      <td>0306490201,0306490301,0306490401</td>\n",
       "      <td>710.0</td>\n",
       "      <td>1100.0</td>\n",
       "      <td>1490.0</td>\n",
       "      <td>6.140000e+14</td>\n",
       "      <td>...</td>\n",
       "      <td>1.004000e+14</td>\n",
       "      <td>2.000000e+11</td>\n",
       "      <td>1.385000e+14</td>\n",
       "      <td>8.000000e+11</td>\n",
       "      <td>8.478</td>\n",
       "      <td>0.344</td>\n",
       "      <td>0.426</td>\n",
       "      <td>48.846</td>\n",
       "      <td>2.476</td>\n",
       "      <td>1455.0</td>\n",
       "    </tr>\n",
       "    <tr>\n",
       "      <th>40</th>\n",
       "      <td>RXJ1720.1+2638</td>\n",
       "      <td>260.042000</td>\n",
       "      <td>26.625000</td>\n",
       "      <td>0.164</td>\n",
       "      <td>4361,3224</td>\n",
       "      <td>0500670201,0500670301,0500670401</td>\n",
       "      <td>560.0</td>\n",
       "      <td>880.0</td>\n",
       "      <td>1230.0</td>\n",
       "      <td>3.060000e+14</td>\n",
       "      <td>...</td>\n",
       "      <td>5.500000e+13</td>\n",
       "      <td>1.000000e+11</td>\n",
       "      <td>8.210000e+13</td>\n",
       "      <td>3.000000e+11</td>\n",
       "      <td>7.446</td>\n",
       "      <td>0.335</td>\n",
       "      <td>0.448</td>\n",
       "      <td>25.790</td>\n",
       "      <td>0.602</td>\n",
       "      <td>1142.0</td>\n",
       "    </tr>\n",
       "    <tr>\n",
       "      <th>42</th>\n",
       "      <td>RXCJ2102.1-2431</td>\n",
       "      <td>315.541000</td>\n",
       "      <td>-24.533500</td>\n",
       "      <td>0.188</td>\n",
       "      <td>NaN</td>\n",
       "      <td>0652010301</td>\n",
       "      <td>430.0</td>\n",
       "      <td>700.0</td>\n",
       "      <td>1000.0</td>\n",
       "      <td>NaN</td>\n",
       "      <td>...</td>\n",
       "      <td>2.800000e+13</td>\n",
       "      <td>1.700000e+12</td>\n",
       "      <td>4.500000e+13</td>\n",
       "      <td>3.300000e+12</td>\n",
       "      <td>5.317</td>\n",
       "      <td>0.374</td>\n",
       "      <td>0.461</td>\n",
       "      <td>12.494</td>\n",
       "      <td>0.350</td>\n",
       "      <td>982.0</td>\n",
       "    </tr>\n",
       "    <tr>\n",
       "      <th>43</th>\n",
       "      <td>RXJ2129.6+0005</td>\n",
       "      <td>322.416000</td>\n",
       "      <td>0.088639</td>\n",
       "      <td>0.235</td>\n",
       "      <td>9370,552</td>\n",
       "      <td>0093030201</td>\n",
       "      <td>480.0</td>\n",
       "      <td>760.0</td>\n",
       "      <td>1080.0</td>\n",
       "      <td>1.980000e+14</td>\n",
       "      <td>...</td>\n",
       "      <td>4.760000e+13</td>\n",
       "      <td>1.000000e+11</td>\n",
       "      <td>7.440000e+13</td>\n",
       "      <td>2.000000e+11</td>\n",
       "      <td>5.783</td>\n",
       "      <td>0.284</td>\n",
       "      <td>0.350</td>\n",
       "      <td>24.509</td>\n",
       "      <td>0.533</td>\n",
       "      <td>1050.0</td>\n",
       "    </tr>\n",
       "    <tr>\n",
       "      <th>44</th>\n",
       "      <td>Abell2390</td>\n",
       "      <td>328.404000</td>\n",
       "      <td>17.695700</td>\n",
       "      <td>0.232</td>\n",
       "      <td>4193</td>\n",
       "      <td>0111270101</td>\n",
       "      <td>640.0</td>\n",
       "      <td>1100.0</td>\n",
       "      <td>1590.0</td>\n",
       "      <td>2.680000e+14</td>\n",
       "      <td>...</td>\n",
       "      <td>1.225000e+14</td>\n",
       "      <td>7.000000e+11</td>\n",
       "      <td>1.861000e+14</td>\n",
       "      <td>2.300000e+12</td>\n",
       "      <td>10.787</td>\n",
       "      <td>0.844</td>\n",
       "      <td>0.955</td>\n",
       "      <td>56.825</td>\n",
       "      <td>2.211</td>\n",
       "      <td>1444.0</td>\n",
       "    </tr>\n",
       "    <tr>\n",
       "      <th>46</th>\n",
       "      <td>Abell2537</td>\n",
       "      <td>347.092000</td>\n",
       "      <td>-2.191220</td>\n",
       "      <td>0.297</td>\n",
       "      <td>9372</td>\n",
       "      <td>0042341201,0205330501</td>\n",
       "      <td>510.0</td>\n",
       "      <td>830.0</td>\n",
       "      <td>1180.0</td>\n",
       "      <td>2.730000e+14</td>\n",
       "      <td>...</td>\n",
       "      <td>4.750000e+13</td>\n",
       "      <td>4.000000e+11</td>\n",
       "      <td>7.250000e+13</td>\n",
       "      <td>9.000000e+11</td>\n",
       "      <td>7.023</td>\n",
       "      <td>1.095</td>\n",
       "      <td>1.554</td>\n",
       "      <td>NaN</td>\n",
       "      <td>NaN</td>\n",
       "      <td>1321.0</td>\n",
       "    </tr>\n",
       "    <tr>\n",
       "      <th>48</th>\n",
       "      <td>Abell2631</td>\n",
       "      <td>354.411000</td>\n",
       "      <td>0.271000</td>\n",
       "      <td>0.271</td>\n",
       "      <td>11728,3248</td>\n",
       "      <td>0042341301</td>\n",
       "      <td>440.0</td>\n",
       "      <td>820.0</td>\n",
       "      <td>1200.0</td>\n",
       "      <td>1.700000e+14</td>\n",
       "      <td>...</td>\n",
       "      <td>6.010000e+13</td>\n",
       "      <td>5.000000e+11</td>\n",
       "      <td>9.700000e+13</td>\n",
       "      <td>8.000000e+11</td>\n",
       "      <td>6.912</td>\n",
       "      <td>0.732</td>\n",
       "      <td>0.969</td>\n",
       "      <td>17.796</td>\n",
       "      <td>0.942</td>\n",
       "      <td>1150.0</td>\n",
       "    </tr>\n",
       "  </tbody>\n",
       "</table>\n",
       "<p>29 rows × 39 columns</p>\n",
       "</div>"
      ],
      "text/plain": [
       "               name          ra        dec      z      chandra_id  \\\n",
       "0         Abell2697    0.799917  -6.093220  0.232             NaN   \n",
       "1         Abell0068    9.275460   9.158440  0.255            3250   \n",
       "2         Abell2813   10.853000 -20.623600  0.292            9409   \n",
       "3        Abell0115S   14.001200  26.342400  0.197            3233   \n",
       "6         Abell0209   22.972200 -13.612200  0.206        3579,522   \n",
       "8         Abell0291   30.429100  -2.196190  0.196             NaN   \n",
       "9         Abell0383   42.014100  -3.529330  0.188        2320,524   \n",
       "10        Abell0521   73.534300 -10.239900  0.248             430   \n",
       "14  ZwCl0857.9+2107  135.154000  20.894900  0.235           10463   \n",
       "16        Abell0773  139.469000  51.727300  0.217   533,3588,5066   \n",
       "19        Abell0901  148.988000  -9.984640  0.163             NaN   \n",
       "20        Abell0907  149.592000 -11.064300  0.167   3250,3185,535   \n",
       "21        Abell0963  154.265000  39.049800  0.205             903   \n",
       "22  ZwCl1021.0+0426  155.915000   4.186310  0.291            9371   \n",
       "24        Abell1451  180.822000 -21.537200  0.199             NaN   \n",
       "28        Abell1689  197.873000  -1.341750  0.183  5004,6930,7289   \n",
       "30        Abell1763  203.826000  41.000200  0.228            3591   \n",
       "31        Abell1835  210.258000   2.878560  0.253  6880,6881,7370   \n",
       "32        Abell1914  216.504000  37.825900  0.171            3593   \n",
       "33  ZwCl1454.8+2233  224.313000  22.342300  0.258            4192   \n",
       "35  ZwCl1459.4+4240  225.337000  42.349300  0.289            7899   \n",
       "36  RXCJ1504.1-0248  226.031000  -2.804220  0.215            5793   \n",
       "38        Abell2204  248.195000   5.575780  0.152       6104,7940   \n",
       "40   RXJ1720.1+2638  260.042000  26.625000  0.164       4361,3224   \n",
       "42  RXCJ2102.1-2431  315.541000 -24.533500  0.188             NaN   \n",
       "43   RXJ2129.6+0005  322.416000   0.088639  0.235        9370,552   \n",
       "44        Abell2390  328.404000  17.695700  0.232            4193   \n",
       "46        Abell2537  347.092000  -2.191220  0.297            9372   \n",
       "48        Abell2631  354.411000   0.271000  0.271      11728,3248   \n",
       "\n",
       "                           xmm_obsid  r2500   r1000    r500       c_m2500  \\\n",
       "0                         0652010401  510.0   840.0  1200.0           NaN   \n",
       "1                         0084230201  580.0   970.0  1400.0  3.850000e+14   \n",
       "2                         0042340201  500.0   860.0  1240.0  2.540000e+14   \n",
       "3                         0203220101  350.0   610.0   890.0  8.100000e+13   \n",
       "6                         0084230301  480.0   800.0  1150.0  1.960000e+14   \n",
       "8                         0605000301  380.0   650.0   940.0           NaN   \n",
       "9                         0084230501  480.0   750.0  1010.0  2.010000e+14   \n",
       "10                        0603890101  270.0   770.0  1230.0  1.700000e+14   \n",
       "14                        0402250701  420.0   660.0   910.0  1.890000e+14   \n",
       "16                        0084230601  560.0   880.0  1210.0  3.230000e+14   \n",
       "19                        0148170101  370.0   580.0   790.0           NaN   \n",
       "20             0201903501,0404910601  510.0   800.0  1080.0  2.330000e+14   \n",
       "21                        0084230701  550.0   850.0  1140.0  2.680000e+14   \n",
       "22                        0108670101  550.0   890.0  1260.0  3.270000e+14   \n",
       "24                        0652010101  500.0   920.0  1360.0           NaN   \n",
       "28                        0093030101  710.0  1110.0  1510.0  6.220000e+14   \n",
       "30                        0084230901  500.0   890.0  1330.0  2.380000e+14   \n",
       "31  0098010101,0147330201,0551830101  680.0  1110.0  1570.0  5.810000e+14   \n",
       "32                        0112230201  680.0  1030.0  1380.0  5.370000e+14   \n",
       "33                        0108670201  460.0   750.0  1060.0  1.890000e+14   \n",
       "35                        0402250201  440.0   730.0  1080.0  1.890000e+14   \n",
       "36                        0401040101  610.0  1010.0  1470.0  4.160000e+14   \n",
       "38  0306490201,0306490301,0306490401  710.0  1100.0  1490.0  6.140000e+14   \n",
       "40  0500670201,0500670301,0500670401  560.0   880.0  1230.0  3.060000e+14   \n",
       "42                        0652010301  430.0   700.0  1000.0           NaN   \n",
       "43                        0093030201  480.0   760.0  1080.0  1.980000e+14   \n",
       "44                        0111270101  640.0  1100.0  1590.0  2.680000e+14   \n",
       "46             0042341201,0205330501  510.0   830.0  1180.0  2.730000e+14   \n",
       "48                        0042341301  440.0   820.0  1200.0  1.700000e+14   \n",
       "\n",
       "    ...      x_mg1000  x_mg1000_err       x_mg500   x_mg500_err  x_Tx500ce  \\\n",
       "0   ...  5.670000e+13  2.200000e+12  8.800000e+13  3.700000e+12      6.992   \n",
       "1   ...  6.330000e+13  4.000000e+11  9.280000e+13  8.000000e+11      7.658   \n",
       "2   ...  6.250000e+13  6.000000e+11  9.990000e+13  7.000000e+11      6.322   \n",
       "3   ...  2.640000e+13  1.000000e+11  5.190000e+13  3.000000e+11      5.848   \n",
       "6   ...  5.310000e+13  2.000000e+11  9.090000e+13  3.000000e+11      7.038   \n",
       "8   ...  2.450000e+13  1.800000e+12  3.910000e+13  3.100000e+12      4.033   \n",
       "9   ...  3.000000e+13  1.000000e+11  4.330000e+13  2.000000e+11      4.574   \n",
       "10  ...  5.790000e+13  1.000000e+11  1.198000e+14  3.000000e+11      6.718   \n",
       "14  ...  2.630000e+13  2.000000e+11  3.820000e+13  4.000000e+11      4.068   \n",
       "16  ...  5.890000e+13  2.000000e+11  8.690000e+13  3.000000e+11      7.525   \n",
       "19  ...  1.370000e+13  1.000000e+12  2.080000e+13  2.000000e+12      2.797   \n",
       "20  ...  4.430000e+13  2.000000e+11  6.480000e+13  4.000000e+11        NaN   \n",
       "21  ...  5.000000e+13  3.000000e+11  7.140000e+13  3.000000e+11      6.527   \n",
       "22  ...  8.000000e+13  1.000000e+11  1.151000e+14  2.000000e+11      7.113   \n",
       "24  ...  6.270000e+13  5.100000e+12  1.046000e+14  1.020000e+13      8.868   \n",
       "28  ...  9.460000e+13  4.000000e+11  1.250000e+14  7.000000e+11      9.182   \n",
       "30  ...  6.880000e+13  3.000000e+11  1.233000e+14  5.000000e+11      6.725   \n",
       "31  ...  1.138000e+14  3.000000e+11  1.615000e+14  7.000000e+11      8.498   \n",
       "32  ...  8.230000e+13  3.000000e+11  1.141000e+14  4.000000e+11      8.105   \n",
       "33  ...  4.030000e+13  1.000000e+11  6.080000e+13  2.000000e+11      4.907   \n",
       "35  ...  4.150000e+13  2.000000e+11  6.840000e+13  3.000000e+11      6.405   \n",
       "36  ...  9.280000e+13  2.000000e+11  1.347000e+14  4.000000e+11      7.415   \n",
       "38  ...  1.004000e+14  2.000000e+11  1.385000e+14  8.000000e+11      8.478   \n",
       "40  ...  5.500000e+13  1.000000e+11  8.210000e+13  3.000000e+11      7.446   \n",
       "42  ...  2.800000e+13  1.700000e+12  4.500000e+13  3.300000e+12      5.317   \n",
       "43  ...  4.760000e+13  1.000000e+11  7.440000e+13  2.000000e+11      5.783   \n",
       "44  ...  1.225000e+14  7.000000e+11  1.861000e+14  2.300000e+12     10.787   \n",
       "46  ...  4.750000e+13  4.000000e+11  7.250000e+13  9.000000e+11      7.023   \n",
       "48  ...  6.010000e+13  5.000000e+11  9.700000e+13  8.000000e+11      6.912   \n",
       "\n",
       "    x_Tx500ce-  x_Tx500ce+  x_Lxbol  x_Lxbol_err  r500wl  \n",
       "0        0.375       0.477   18.658        0.463  1181.0  \n",
       "1        0.622       0.769   15.863        0.618  1231.0  \n",
       "2        0.698       0.965   20.197        3.634  1320.0  \n",
       "3        0.300       0.386    9.529        0.213  1115.0  \n",
       "6        0.483       0.605   19.307        0.596  1513.0  \n",
       "8        0.293       0.324    9.492        0.255  1092.0  \n",
       "9        0.338       0.420   12.795        0.370  1144.0  \n",
       "10       0.294       0.334   19.036        0.350  1149.0  \n",
       "14       0.277       0.307   17.624        0.916   830.0  \n",
       "16       0.622       0.792   18.319        0.730  1428.0  \n",
       "19       0.043       0.043    3.581        0.041   947.0  \n",
       "20         NaN         NaN      NaN          NaN     NaN  \n",
       "21       0.497       0.615   16.962        0.565  1267.0  \n",
       "22       0.167       0.261   71.073        1.079  1130.0  \n",
       "24       1.097       1.446   15.649        1.018  1360.0  \n",
       "28       0.454       0.611   40.832        1.044  1558.0  \n",
       "30       0.637       0.840   23.116        1.111  1605.0  \n",
       "31       0.260       0.302   75.874        3.108  1449.0  \n",
       "32       0.483       0.560   35.031        1.078  1341.0  \n",
       "33       0.255       0.319   25.795        0.620  1017.0  \n",
       "35       0.474       0.536   11.682        0.360   965.0  \n",
       "36       0.248       0.327   79.266        1.247  1225.0  \n",
       "38       0.344       0.426   48.846        2.476  1455.0  \n",
       "40       0.335       0.448   25.790        0.602  1142.0  \n",
       "42       0.374       0.461   12.494        0.350   982.0  \n",
       "43       0.284       0.350   24.509        0.533  1050.0  \n",
       "44       0.844       0.955   56.825        2.211  1444.0  \n",
       "46       1.095       1.554      NaN          NaN  1321.0  \n",
       "48       0.732       0.969   17.796        0.942  1150.0  \n",
       "\n",
       "[29 rows x 39 columns]"
      ]
     },
     "execution_count": 29,
     "metadata": {},
     "output_type": "execute_result"
    }
   ],
   "source": [
    "locuss[np.isfinite(locuss['x_m500']) & locuss['name'].isin(which)]"
   ]
  },
  {
   "cell_type": "markdown",
   "id": "4ccbc1a6",
   "metadata": {},
   "source": [
    "## Running PSF Correction"
   ]
  },
  {
   "cell_type": "markdown",
   "id": "5c5c6f51",
   "metadata": {},
   "source": []
  },
  {
   "cell_type": "code",
   "execution_count": 4,
   "id": "eb11d505",
   "metadata": {},
   "outputs": [],
   "source": [
    "rl_psf(locuss_srcs)"
   ]
  },
  {
   "cell_type": "markdown",
   "id": "24db86c8",
   "metadata": {},
   "source": [
    "## Reading in literature data"
   ]
  },
  {
   "cell_type": "markdown",
   "id": "134be8fe",
   "metadata": {},
   "source": []
  },
  {
   "cell_type": "markdown",
   "id": "9af06a7d",
   "metadata": {},
   "source": [
    "### Gas masses from literature"
   ]
  },
  {
   "cell_type": "markdown",
   "id": "608ab541",
   "metadata": {},
   "source": []
  },
  {
   "cell_type": "code",
   "execution_count": 5,
   "id": "f2f5725f",
   "metadata": {},
   "outputs": [],
   "source": [
    "loc_lit_gms = [locuss[locuss['name'] == n].iloc[0][['x_mg500', 'x_mg500_err', 'x_mg500_err']].values\n",
    "               for n in locuss_srcs.names]\n",
    "loc_lit_gm2500s = [locuss[locuss['name'] == n].iloc[0][['x_mg2500', 'x_mg2500_err', 'x_mg2500_err']].values\n",
    "               for n in locuss_srcs.names]\n",
    "loc_lit_gms = Quantity(loc_lit_gms, 'Msun')\n",
    "loc_lit_gm2500s = Quantity(loc_lit_gm2500s, 'Msun')"
   ]
  },
  {
   "cell_type": "markdown",
   "id": "9a66b719",
   "metadata": {},
   "source": [
    "### Conversion Temperatures"
   ]
  },
  {
   "cell_type": "markdown",
   "id": "0f3cebca",
   "metadata": {},
   "source": []
  },
  {
   "cell_type": "code",
   "execution_count": 6,
   "id": "622ab3b7",
   "metadata": {},
   "outputs": [],
   "source": [
    "loc_conv_txs = []\n",
    "    \n",
    "for src in locuss_srcs:\n",
    "    loc_conv_txs.append(locuss[locuss['name'] == src.name].iloc[0]['x_Tx500ce'])\n",
    "\n",
    "loc_conv_txs = Quantity(loc_conv_txs, 'keV')"
   ]
  },
  {
   "cell_type": "markdown",
   "id": "cce675ae",
   "metadata": {},
   "source": [
    "## Gas Density Profile Generation and Comparison to Literature - from $S_{B}$ Profiles"
   ]
  },
  {
   "cell_type": "markdown",
   "id": "93237f0b",
   "metadata": {},
   "source": []
  },
  {
   "cell_type": "markdown",
   "id": "91fbfd46",
   "metadata": {},
   "source": [
    "### Beta and King Profiles - out to $R_{500}$"
   ]
  },
  {
   "cell_type": "markdown",
   "id": "809534ab",
   "metadata": {},
   "source": []
  },
  {
   "cell_type": "code",
   "execution_count": 7,
   "id": "3be50990",
   "metadata": {},
   "outputs": [
    {
     "name": "stdout",
     "output_type": "stream",
     "text": [
      "╒═════════════════╤═════════════════════════════════════════════════════════════════════════════╕\n",
      "│ Beta Profile    │                                                                             │\n",
      "╞═════════════════╪═════════════════════════════════════════════════════════════════════════════╡\n",
      "│ DESCRIBES       │ Surface Brightness                                                          │\n",
      "├─────────────────┼─────────────────────────────────────────────────────────────────────────────┤\n",
      "│ UNIT            │ ct / (arcmin2 s)                                                            │\n",
      "├─────────────────┼─────────────────────────────────────────────────────────────────────────────┤\n",
      "│ PARAMETERS      │ beta, r_core, norm                                                          │\n",
      "├─────────────────┼─────────────────────────────────────────────────────────────────────────────┤\n",
      "│ PARAMETER UNITS │ , kpc, ct / (arcmin2 s)                                                     │\n",
      "├─────────────────┼─────────────────────────────────────────────────────────────────────────────┤\n",
      "│ AUTHOR          │ placeholder                                                                 │\n",
      "├─────────────────┼─────────────────────────────────────────────────────────────────────────────┤\n",
      "│ YEAR            │ placeholder                                                                 │\n",
      "├─────────────────┼─────────────────────────────────────────────────────────────────────────────┤\n",
      "│ PAPER           │ placeholder                                                                 │\n",
      "├─────────────────┼─────────────────────────────────────────────────────────────────────────────┤\n",
      "│ INFO            │ Essentially a projected isothermal king profile, it can be                  │\n",
      "│                 │ used to describe a simple galaxy cluster radial surface brightness profile. │\n",
      "╘═════════════════╧═════════════════════════════════════════════════════════════════════════════╛\n"
     ]
    },
    {
     "data": {
      "text/plain": [
       "[{'prior': <Quantity [0., 3.]>, 'type': 'uniform'},\n",
       " {'prior': <Quantity [   0., 2000.] kpc>, 'type': 'uniform'},\n",
       " {'prior': <Quantity [0., 3.] ct / (arcmin2 s)>, 'type': 'uniform'}]"
      ]
     },
     "execution_count": 7,
     "metadata": {},
     "output_type": "execute_result"
    }
   ],
   "source": [
    "demo_sb_mod = BetaProfile1D()\n",
    "demo_sb_mod.info()\n",
    "demo_sb_mod.par_priors"
   ]
  },
  {
   "cell_type": "markdown",
   "id": "0a0e578f",
   "metadata": {},
   "source": []
  },
  {
   "cell_type": "code",
   "execution_count": 8,
   "id": "f61c4763",
   "metadata": {
    "scrolled": true
   },
   "outputs": [
    {
     "name": "stderr",
     "output_type": "stream",
     "text": [
      "Running XSPEC Simulations: 100%|████████████████████████████████████████████████| 2/2 [00:09<00:00,  4.90s/it]\n",
      "Fitting data, inverse Abel transforming, and measuring densities: 100%|███████| 45/45 [17:15<00:00, 23.01s/it]\n"
     ]
    }
   ],
   "source": [
    "loc_beta_1r500_dp = inv_abel_fitted_model(locuss_srcs, 'beta', 'mcmc', locuss_srcs.r500, \n",
    "                                          conv_temp=loc_conv_txs)"
   ]
  },
  {
   "cell_type": "markdown",
   "id": "a1e322e5",
   "metadata": {},
   "source": []
  },
  {
   "cell_type": "code",
   "execution_count": 9,
   "id": "d91de399",
   "metadata": {},
   "outputs": [
    {
     "name": "stdout",
     "output_type": "stream",
     "text": [
      "╒═════════════════╤═════════════════════════════════════════════════════════════════════════╕\n",
      "│ King Profile    │                                                                         │\n",
      "╞═════════════════╪═════════════════════════════════════════════════════════════════════════╡\n",
      "│ DESCRIBES       │ Gas Density                                                             │\n",
      "├─────────────────┼─────────────────────────────────────────────────────────────────────────┤\n",
      "│ UNIT            │ 1 / cm3                                                                 │\n",
      "├─────────────────┼─────────────────────────────────────────────────────────────────────────┤\n",
      "│ PARAMETERS      │ beta, r_core, norm                                                      │\n",
      "├─────────────────┼─────────────────────────────────────────────────────────────────────────┤\n",
      "│ PARAMETER UNITS │ , kpc, 1 / cm3                                                          │\n",
      "├─────────────────┼─────────────────────────────────────────────────────────────────────────┤\n",
      "│ AUTHOR          │ placeholder                                                             │\n",
      "├─────────────────┼─────────────────────────────────────────────────────────────────────────┤\n",
      "│ YEAR            │ placeholder                                                             │\n",
      "├─────────────────┼─────────────────────────────────────────────────────────────────────────┤\n",
      "│ PAPER           │ placeholder                                                             │\n",
      "├─────────────────┼─────────────────────────────────────────────────────────────────────────┤\n",
      "│ INFO            │ The un-projected version of the beta profile, suitable for a simple fit │\n",
      "│                 │  to 3D density distributions. Describes a simple isothermal sphere.     │\n",
      "╘═════════════════╧═════════════════════════════════════════════════════════════════════════╛\n"
     ]
    },
    {
     "data": {
      "text/plain": [
       "[{'prior': <Quantity [0., 3.]>, 'type': 'uniform'},\n",
       " {'prior': <Quantity [   0., 2000.] kpc>, 'type': 'uniform'},\n",
       " {'prior': <Quantity [ 0., 10.] 1 / cm3>, 'type': 'uniform'}]"
      ]
     },
     "execution_count": 9,
     "metadata": {},
     "output_type": "execute_result"
    }
   ],
   "source": [
    "demo_d_mod = KingProfile1D(y_unit=Unit(\"1 / cm^3\"))\n",
    "demo_d_mod.info()\n",
    "demo_d_mod.par_priors"
   ]
  },
  {
   "cell_type": "markdown",
   "id": "627e75ab",
   "metadata": {},
   "source": []
  },
  {
   "cell_type": "code",
   "execution_count": 10,
   "id": "502d8cbe",
   "metadata": {},
   "outputs": [
    {
     "name": "stderr",
     "output_type": "stream",
     "text": [
      "Fitting density model to LoCuSS profiles: 100%|███████████████████████████████| 45/45 [25:10<00:00, 33.56s/it]\n"
     ]
    }
   ],
   "source": [
    "with tqdm(desc=\"Fitting density model to LoCuSS profiles\", total=len(loc_beta_1r500_dp)) as onwards:\n",
    "    for dp in loc_beta_1r500_dp:\n",
    "        if dp is not None:\n",
    "            dp.fit('king', progress_bar=False)\n",
    "        onwards.update(1)"
   ]
  },
  {
   "cell_type": "code",
   "execution_count": 11,
   "id": "112df31a",
   "metadata": {},
   "outputs": [
    {
     "name": "stderr",
     "output_type": "stream",
     "text": [
      "Calculating LoCuSS gas masses:   0%|                                                   | 0/45 [00:00<?, ?it/s]/mnt/pact/dt237/code/PycharmProjects/XGA/xga/products/profile.py:475: UserWarning: The outer radius you supplied is greater than or equal to the outer radius covered by the data, so you are effectively extrapolating using the model.\n",
      "  warn(\"The outer radius you supplied is greater than or equal to the outer radius covered by the data, so\"\n",
      "Calculating LoCuSS gas masses: 100%|██████████████████████████████████████████| 45/45 [01:41<00:00,  2.25s/it]\n"
     ]
    }
   ],
   "source": [
    "loc_beta_king_1r500_gm500 = []\n",
    "loc_beta_king_1r500_gm2500 = []\n",
    "\n",
    "with tqdm(desc=\"Calculating LoCuSS gas masses\", total=len(loc_beta_1r500_dp)) as onwards:\n",
    "    for dp in loc_beta_1r500_dp:\n",
    "        if dp is not None:\n",
    "            gm = dp.gas_mass(\"king\", locuss_srcs[dp.src_name].r500)[0]\n",
    "            loc_beta_king_1r500_gm500.append(gm)\n",
    "            gm = dp.gas_mass(\"king\", locuss_srcs[dp.src_name].r2500)[0]\n",
    "            loc_beta_king_1r500_gm2500.append(gm)\n",
    "        else:\n",
    "            loc_beta_king_1r500_gm2500.append([np.NaN, np.NaN, np.NaN])\n",
    "            loc_beta_king_1r500_gm500.append([np.NaN, np.NaN, np.NaN])\n",
    "        onwards.update(1)               \n",
    "        \n",
    "loc_beta_king_1r500_gm500 = Quantity(loc_beta_king_1r500_gm500, 'Msun')\n",
    "loc_beta_king_1r500_gm2500 = Quantity(loc_beta_king_1r500_gm2500, 'Msun')"
   ]
  },
  {
   "cell_type": "code",
   "execution_count": 12,
   "id": "bec417ff",
   "metadata": {},
   "outputs": [
    {
     "data": {
      "image/png": "[encoded data removed]",
      "text/plain": [
       "<Figure size 864x432 with 2 Axes>"
      ]
     },
     "metadata": {
      "needs_background": "light"
     },
     "output_type": "display_data"
    }
   ],
   "source": [
    "direct_comparison_plot([loc_lit_gm2500s, loc_lit_gms], [loc_beta_king_1r500_gm2500, loc_beta_king_1r500_gm500], \n",
    "                       [r\"LoCuSS $M_{\\rm{gas, 2500}}$ [M$_{\\odot}$]\", r\"LoCuSS $M_{\\rm{gas, 500}}$ [M$_{\\odot}$]\"], \n",
    "                       [r\"XGA $M_{\\rm{gas, 2500}}$ [keV]\", r\"XGA $M_{\\rm{gas, 500}}$ [keV]\"],\n",
    "                       r\"LoCuSS High-$L_{\\rm{X}}$\", (12, 6), ['log', 'log'], ['log', 'log'])\n",
    "# savepath='../../outputs/figures/locussBLAH_comp.pdf'"
   ]
  },
  {
   "cell_type": "markdown",
   "id": "19e6bebd",
   "metadata": {},
   "source": [
    "### Double Beta and Simplified Vikhlinin Profiles - out to 1.3$R_{500}$"
   ]
  },
  {
   "cell_type": "markdown",
   "id": "6f68ee12",
   "metadata": {},
   "source": []
  },
  {
   "cell_type": "markdown",
   "id": "bd5741f1",
   "metadata": {},
   "source": []
  },
  {
   "cell_type": "code",
   "execution_count": 13,
   "id": "035973f6",
   "metadata": {
    "scrolled": false
   },
   "outputs": [
    {
     "name": "stdout",
     "output_type": "stream",
     "text": [
      "╒═══════════════════════╤════════════════════════════════════════════════════════════════════════════╕\n",
      "│ Double Beta Profile   │                                                                            │\n",
      "╞═══════════════════════╪════════════════════════════════════════════════════════════════════════════╡\n",
      "│ DESCRIBES             │ Surface Brightness                                                         │\n",
      "├───────────────────────┼────────────────────────────────────────────────────────────────────────────┤\n",
      "│ UNIT                  │ ct / (arcmin2 s)                                                           │\n",
      "├───────────────────────┼────────────────────────────────────────────────────────────────────────────┤\n",
      "│ PARAMETERS            │ beta_one, r_core_one, norm_one, beta_two, r_core_two, norm_two             │\n",
      "├───────────────────────┼────────────────────────────────────────────────────────────────────────────┤\n",
      "│ PARAMETER UNITS       │ , kpc, ct / (arcmin2 s), , kpc, ct / (arcmin2 s)                           │\n",
      "├───────────────────────┼────────────────────────────────────────────────────────────────────────────┤\n",
      "│ AUTHOR                │ placeholder                                                                │\n",
      "├───────────────────────┼────────────────────────────────────────────────────────────────────────────┤\n",
      "│ YEAR                  │ placeholder                                                                │\n",
      "├───────────────────────┼────────────────────────────────────────────────────────────────────────────┤\n",
      "│ PAPER                 │ placeholder                                                                │\n",
      "├───────────────────────┼────────────────────────────────────────────────────────────────────────────┤\n",
      "│ INFO                  │ The double beta profile, a summation of two single beta models. Often      │\n",
      "│                       │  thought to deal better with peaky cluster cores that you might get from a │\n",
      "│                       │  cool-core cluster, this model can be used to describe a galaxy cluster    │\n",
      "│                       │  radial surface brightness profile.                                        │\n",
      "╘═══════════════════════╧════════════════════════════════════════════════════════════════════════════╛\n"
     ]
    },
    {
     "data": {
      "text/plain": [
       "[{'prior': <Quantity [0., 3.]>, 'type': 'uniform'},\n",
       " {'prior': <Quantity [1.e+00, 2.e+03] kpc>, 'type': 'uniform'},\n",
       " {'prior': <Quantity [0., 3.] ct / (arcmin2 s)>, 'type': 'uniform'},\n",
       " {'prior': <Quantity [0., 3.]>, 'type': 'uniform'},\n",
       " {'prior': <Quantity [1.e+00, 2.e+03] kpc>, 'type': 'uniform'},\n",
       " {'prior': <Quantity [0., 3.] ct / (arcmin2 s)>, 'type': 'uniform'}]"
      ]
     },
     "execution_count": 13,
     "metadata": {},
     "output_type": "execute_result"
    }
   ],
   "source": [
    "demo_sb_mod = DoubleBetaProfile1D()\n",
    "demo_sb_mod.info()\n",
    "demo_sb_mod.par_priors"
   ]
  },
  {
   "cell_type": "code",
   "execution_count": 14,
   "id": "b1822fc4",
   "metadata": {
    "scrolled": true
   },
   "outputs": [
    {
     "name": "stderr",
     "output_type": "stream",
     "text": [
      "/mnt/pact/dt237/code/PycharmProjects/XGA/xga/xspec/run.py:186: UserWarning: All XSPEC operations had already been run.\n",
      "  warnings.warn(\"All XSPEC operations had already been run.\")\n",
      "Fitting data, inverse Abel transforming, and measuring densities:   2%|▏       | 1/45 [00:26<19:15, 26.27s/it]"
     ]
    },
    {
     "name": "stdout",
     "output_type": "stream",
     "text": [
      "The chain is shorter than 50 times the integrated autocorrelation time for 6 parameter(s). Use this estimate with caution and run a longer chain!\n",
      "N/50 = 400;\n",
      "tau: [1033.15407248  716.92292967 1537.3354053  1278.91703334 1405.69503518\n",
      " 1554.24760743]\n"
     ]
    },
    {
     "name": "stderr",
     "output_type": "stream",
     "text": [
      "\r",
      "Fitting data, inverse Abel transforming, and measuring densities:   4%|▎       | 2/45 [00:54<19:34, 27.32s/it]"
     ]
    },
    {
     "name": "stdout",
     "output_type": "stream",
     "text": [
      "The chain is shorter than 50 times the integrated autocorrelation time for 5 parameter(s). Use this estimate with caution and run a longer chain!\n",
      "N/50 = 400;\n",
      "tau: [413.35561156 273.19065466 476.06475126 509.38681592 495.07274487\n",
      " 492.63556263]\n"
     ]
    },
    {
     "name": "stderr",
     "output_type": "stream",
     "text": [
      "\r",
      "Fitting data, inverse Abel transforming, and measuring densities:   7%|▌       | 3/45 [01:18<18:16, 26.10s/it]"
     ]
    },
    {
     "name": "stdout",
     "output_type": "stream",
     "text": [
      "The chain is shorter than 50 times the integrated autocorrelation time for 6 parameter(s). Use this estimate with caution and run a longer chain!\n",
      "N/50 = 400;\n",
      "tau: [1716.54219695 1060.31047881 2063.50264116 1771.93990981 1935.48494692\n",
      " 2042.57517022]\n"
     ]
    },
    {
     "name": "stderr",
     "output_type": "stream",
     "text": [
      "\r",
      "Fitting data, inverse Abel transforming, and measuring densities:   9%|▋       | 4/45 [01:42<17:01, 24.92s/it]"
     ]
    },
    {
     "name": "stdout",
     "output_type": "stream",
     "text": [
      "The chain is shorter than 50 times the integrated autocorrelation time for 6 parameter(s). Use this estimate with caution and run a longer chain!\n",
      "N/50 = 400;\n",
      "tau: [ 997.14942037 1781.95481518 2092.78047131 1884.79007289 1940.99905327\n",
      " 2230.80530388]\n"
     ]
    },
    {
     "name": "stderr",
     "output_type": "stream",
     "text": [
      "\r",
      "Fitting data, inverse Abel transforming, and measuring densities:  11%|▉       | 5/45 [02:06<16:32, 24.81s/it]"
     ]
    },
    {
     "name": "stdout",
     "output_type": "stream",
     "text": [
      "The chain is shorter than 50 times the integrated autocorrelation time for 5 parameter(s). Use this estimate with caution and run a longer chain!\n",
      "N/50 = 400;\n",
      "tau: [644.73527329 804.66263954 411.73632419 312.83732215 528.97225601\n",
      " 435.58295369]\n"
     ]
    },
    {
     "name": "stderr",
     "output_type": "stream",
     "text": [
      "\r",
      "Fitting data, inverse Abel transforming, and measuring densities:  13%|█       | 6/45 [02:32<16:15, 25.02s/it]"
     ]
    },
    {
     "name": "stdout",
     "output_type": "stream",
     "text": [
      "The chain is shorter than 50 times the integrated autocorrelation time for 5 parameter(s). Use this estimate with caution and run a longer chain!\n",
      "N/50 = 400;\n",
      "tau: [457.74187536 395.79523845 807.37149537 656.9316352  842.79873205\n",
      " 803.52913672]\n"
     ]
    },
    {
     "name": "stderr",
     "output_type": "stream",
     "text": [
      "\r",
      "Fitting data, inverse Abel transforming, and measuring densities:  16%|█▏      | 7/45 [02:59<16:16, 25.70s/it]"
     ]
    },
    {
     "name": "stdout",
     "output_type": "stream",
     "text": [
      "The chain is shorter than 50 times the integrated autocorrelation time for 4 parameter(s). Use this estimate with caution and run a longer chain!\n",
      "N/50 = 400;\n",
      "tau: [121.17744981 463.36296232 470.00452328 377.5839313  434.45515785\n",
      " 518.08198979]\n"
     ]
    },
    {
     "name": "stderr",
     "output_type": "stream",
     "text": [
      "\r",
      "Fitting data, inverse Abel transforming, and measuring densities:  18%|█▍      | 8/45 [03:25<15:55, 25.83s/it]"
     ]
    },
    {
     "name": "stdout",
     "output_type": "stream",
     "text": [
      "The chain is shorter than 50 times the integrated autocorrelation time for 4 parameter(s). Use this estimate with caution and run a longer chain!\n",
      "N/50 = 400;\n",
      "tau: [ 228.62939139  272.71594298 1917.38683611 1807.43111161 1879.13537329\n",
      " 1842.95496154]\n"
     ]
    },
    {
     "name": "stderr",
     "output_type": "stream",
     "text": [
      "\r",
      "Fitting data, inverse Abel transforming, and measuring densities:  20%|█▌      | 9/45 [03:53<15:58, 26.62s/it]"
     ]
    },
    {
     "name": "stdout",
     "output_type": "stream",
     "text": [
      "The chain is shorter than 50 times the integrated autocorrelation time for 3 parameter(s). Use this estimate with caution and run a longer chain!\n",
      "N/50 = 400;\n",
      "tau: [479.87044134 462.31940966 373.31801219 276.29378411 321.06502723\n",
      " 423.07780539]\n"
     ]
    },
    {
     "name": "stderr",
     "output_type": "stream",
     "text": [
      "Fitting data, inverse Abel transforming, and measuring densities:  27%|█▊     | 12/45 [05:14<14:48, 26.93s/it]"
     ]
    },
    {
     "name": "stdout",
     "output_type": "stream",
     "text": [
      "The chain is shorter than 50 times the integrated autocorrelation time for 6 parameter(s). Use this estimate with caution and run a longer chain!\n",
      "N/50 = 400;\n",
      "tau: [1029.66653915 1042.55948935 1063.38012474 1012.82691514 1035.10452288\n",
      " 1045.50014324]\n"
     ]
    },
    {
     "name": "stderr",
     "output_type": "stream",
     "text": [
      "\r",
      "Fitting data, inverse Abel transforming, and measuring densities:  29%|██     | 13/45 [05:40<14:10, 26.58s/it]"
     ]
    },
    {
     "name": "stdout",
     "output_type": "stream",
     "text": [
      "The chain is shorter than 50 times the integrated autocorrelation time for 5 parameter(s). Use this estimate with caution and run a longer chain!\n",
      "N/50 = 400;\n",
      "tau: [ 927.84100216  187.58307221  976.38134622  954.79363776 1082.37478599\n",
      "  960.7062712 ]\n"
     ]
    },
    {
     "name": "stderr",
     "output_type": "stream",
     "text": [
      "\r",
      "Fitting data, inverse Abel transforming, and measuring densities:  31%|██▏    | 14/45 [06:06<13:39, 26.45s/it]"
     ]
    },
    {
     "name": "stdout",
     "output_type": "stream",
     "text": [
      "The chain is shorter than 50 times the integrated autocorrelation time for 6 parameter(s). Use this estimate with caution and run a longer chain!\n",
      "N/50 = 400;\n",
      "tau: [1831.93781014  913.95168263 1760.29934375 1738.67022146 1817.4511979\n",
      " 1729.01348734]\n"
     ]
    },
    {
     "name": "stderr",
     "output_type": "stream",
     "text": [
      "\r",
      "Fitting data, inverse Abel transforming, and measuring densities:  33%|██▎    | 15/45 [06:32<13:09, 26.31s/it]"
     ]
    },
    {
     "name": "stdout",
     "output_type": "stream",
     "text": [
      "The chain is shorter than 50 times the integrated autocorrelation time for 6 parameter(s). Use this estimate with caution and run a longer chain!\n",
      "N/50 = 400;\n",
      "tau: [935.23277313 959.9159479  856.3104747  873.43957997 937.77781052\n",
      " 978.96929287]\n"
     ]
    },
    {
     "name": "stderr",
     "output_type": "stream",
     "text": [
      "\r",
      "Fitting data, inverse Abel transforming, and measuring densities:  36%|██▍    | 16/45 [06:58<12:38, 26.16s/it]"
     ]
    },
    {
     "name": "stdout",
     "output_type": "stream",
     "text": [
      "The chain is shorter than 50 times the integrated autocorrelation time for 6 parameter(s). Use this estimate with caution and run a longer chain!\n",
      "N/50 = 400;\n",
      "tau: [1239.7248576  1045.36686206 1904.16463714 1370.18136627 1628.44147485\n",
      " 1916.20270111]\n"
     ]
    },
    {
     "name": "stderr",
     "output_type": "stream",
     "text": [
      "\r",
      "Fitting data, inverse Abel transforming, and measuring densities:  38%|██▋    | 17/45 [07:24<12:13, 26.19s/it]"
     ]
    },
    {
     "name": "stdout",
     "output_type": "stream",
     "text": [
      "The chain is shorter than 50 times the integrated autocorrelation time for 6 parameter(s). Use this estimate with caution and run a longer chain!\n",
      "N/50 = 400;\n",
      "tau: [ 598.43000795  489.76020826 1873.71991045 1235.8367522  1314.1987782\n",
      " 1538.36392071]\n",
      "The chain is shorter than 50 times the integrated autocorrelation time for 6 parameter(s). Use this estimate with caution and run a longer chain!\n",
      "N/50 = 400;\n",
      "tau: [ 989.83958422  792.11765239 2101.70778633 2497.48880868 2481.18268324\n",
      " 1956.96204495]\n"
     ]
    },
    {
     "name": "stderr",
     "output_type": "stream",
     "text": [
      "/its/home/dt237/.conda/envs/dev_xga/lib/python3.8/site-packages/astropy/units/quantity.py:477: RuntimeWarning: invalid value encountered in sqrt\n",
      "  result = super().__array_ufunc__(function, method, *arrays, **kwargs)\n",
      "/mnt/pact/dt237/code/PycharmProjects/XGA/xga/sourcetools/density.py:531: UserWarning: One or more of the quantities passed to the init of Abell0781's density profile has a NaN or Inf value in it.\n",
      "  warn(\"One or more of the quantities passed to the init of {}'s density profile has a NaN or Inf value\"\n",
      "Fitting data, inverse Abel transforming, and measuring densities:  44%|███    | 20/45 [08:44<11:12, 26.90s/it]"
     ]
    },
    {
     "name": "stdout",
     "output_type": "stream",
     "text": [
      "The chain is shorter than 50 times the integrated autocorrelation time for 1 parameter(s). Use this estimate with caution and run a longer chain!\n",
      "N/50 = 400;\n",
      "tau: [422.30311588 392.0447488  287.03825408 201.67524716 220.23951369\n",
      " 306.63674324]\n"
     ]
    },
    {
     "name": "stderr",
     "output_type": "stream",
     "text": [
      "Fitting data, inverse Abel transforming, and measuring densities:  51%|███▌   | 23/45 [10:07<09:55, 27.09s/it]"
     ]
    },
    {
     "name": "stdout",
     "output_type": "stream",
     "text": [
      "The chain is shorter than 50 times the integrated autocorrelation time for 5 parameter(s). Use this estimate with caution and run a longer chain!\n",
      "N/50 = 400;\n",
      "tau: [ 883.42487564  377.69386118 1986.94141817 1809.29498188 1609.35756514\n",
      " 1934.06487703]\n"
     ]
    },
    {
     "name": "stderr",
     "output_type": "stream",
     "text": [
      "\r",
      "Fitting data, inverse Abel transforming, and measuring densities:  53%|███▋   | 24/45 [10:31<09:09, 26.16s/it]"
     ]
    },
    {
     "name": "stdout",
     "output_type": "stream",
     "text": [
      "The chain is shorter than 50 times the integrated autocorrelation time for 6 parameter(s). Use this estimate with caution and run a longer chain!\n",
      "N/50 = 400;\n",
      "tau: [1074.71364118 1040.03456122 2016.67921718 1071.46510187 1301.29397098\n",
      " 1961.96255202]\n"
     ]
    },
    {
     "name": "stderr",
     "output_type": "stream",
     "text": [
      "Fitting data, inverse Abel transforming, and measuring densities:  58%|████   | 26/45 [11:23<08:10, 25.82s/it]"
     ]
    },
    {
     "name": "stdout",
     "output_type": "stream",
     "text": [
      "The chain is shorter than 50 times the integrated autocorrelation time for 5 parameter(s). Use this estimate with caution and run a longer chain!\n",
      "N/50 = 400;\n",
      "tau: [1408.14674598  327.82371608 1994.54489137  708.52662563  797.15575508\n",
      " 1990.30238751]\n"
     ]
    },
    {
     "name": "stderr",
     "output_type": "stream",
     "text": [
      "\r",
      "Fitting data, inverse Abel transforming, and measuring densities:  60%|████▏  | 27/45 [11:48<07:44, 25.80s/it]"
     ]
    },
    {
     "name": "stdout",
     "output_type": "stream",
     "text": [
      "The chain is shorter than 50 times the integrated autocorrelation time for 6 parameter(s). Use this estimate with caution and run a longer chain!\n",
      "N/50 = 400;\n",
      "tau: [ 797.82283821  770.69885381 1465.45148149 1303.98178483 1131.9072984\n",
      " 1212.23455476]\n"
     ]
    },
    {
     "name": "stderr",
     "output_type": "stream",
     "text": [
      "Fitting data, inverse Abel transforming, and measuring densities:  67%|████▋  | 30/45 [13:10<06:42, 26.83s/it]"
     ]
    },
    {
     "name": "stdout",
     "output_type": "stream",
     "text": [
      "The chain is shorter than 50 times the integrated autocorrelation time for 6 parameter(s). Use this estimate with caution and run a longer chain!\n",
      "N/50 = 400;\n",
      "tau: [837.37496303 840.14983529 785.24130154 644.22959629 732.85585911\n",
      " 800.35037258]\n"
     ]
    },
    {
     "name": "stderr",
     "output_type": "stream",
     "text": [
      "Fitting data, inverse Abel transforming, and measuring densities:  71%|████▉  | 32/45 [14:05<05:46, 26.67s/it]"
     ]
    },
    {
     "name": "stdout",
     "output_type": "stream",
     "text": [
      "The chain is shorter than 50 times the integrated autocorrelation time for 6 parameter(s). Use this estimate with caution and run a longer chain!\n",
      "N/50 = 400;\n",
      "tau: [ 477.20822984  572.92972848 1282.54645092 1235.54793654 1159.12018465\n",
      " 1294.47381768]\n"
     ]
    },
    {
     "name": "stderr",
     "output_type": "stream",
     "text": [
      "Fitting data, inverse Abel transforming, and measuring densities:  76%|█████▎ | 34/45 [14:56<04:49, 26.32s/it]"
     ]
    },
    {
     "name": "stdout",
     "output_type": "stream",
     "text": [
      "The chain is shorter than 50 times the integrated autocorrelation time for 6 parameter(s). Use this estimate with caution and run a longer chain!\n",
      "N/50 = 400;\n",
      "tau: [1032.37302489  809.41261735 1122.16534372 1133.77117553 1160.51152898\n",
      " 1148.77727413]\n"
     ]
    },
    {
     "name": "stderr",
     "output_type": "stream",
     "text": [
      "\r",
      "Fitting data, inverse Abel transforming, and measuring densities:  78%|█████▍ | 35/45 [15:25<04:29, 26.99s/it]"
     ]
    },
    {
     "name": "stdout",
     "output_type": "stream",
     "text": [
      "The chain is shorter than 50 times the integrated autocorrelation time for 6 parameter(s). Use this estimate with caution and run a longer chain!\n",
      "N/50 = 400;\n",
      "tau: [1233.95496478  411.82879111 1988.34848225 1622.82103041 1455.19374653\n",
      " 1842.99435245]\n"
     ]
    },
    {
     "name": "stderr",
     "output_type": "stream",
     "text": [
      "Fitting data, inverse Abel transforming, and measuring densities:  93%|██████▌| 42/45 [18:35<01:20, 26.90s/it]"
     ]
    },
    {
     "name": "stdout",
     "output_type": "stream",
     "text": [
      "The chain is shorter than 50 times the integrated autocorrelation time for 6 parameter(s). Use this estimate with caution and run a longer chain!\n",
      "N/50 = 400;\n",
      "tau: [1447.09519316  788.74393318 1525.56125234 1172.44562901 1337.62829153\n",
      " 1575.47890468]\n"
     ]
    },
    {
     "name": "stderr",
     "output_type": "stream",
     "text": [
      "Fitting data, inverse Abel transforming, and measuring densities:  98%|██████▊| 44/45 [19:25<00:25, 25.92s/it]"
     ]
    },
    {
     "name": "stdout",
     "output_type": "stream",
     "text": [
      "The chain is shorter than 50 times the integrated autocorrelation time for 6 parameter(s). Use this estimate with caution and run a longer chain!\n",
      "N/50 = 400;\n",
      "tau: [ 988.57779127  844.58947804 1672.5801493  1286.89600991 1375.08374642\n",
      " 1632.84747828]\n"
     ]
    },
    {
     "name": "stderr",
     "output_type": "stream",
     "text": [
      "Fitting data, inverse Abel transforming, and measuring densities: 100%|███████| 45/45 [19:50<00:00, 26.46s/it]"
     ]
    },
    {
     "name": "stdout",
     "output_type": "stream",
     "text": [
      "The chain is shorter than 50 times the integrated autocorrelation time for 4 parameter(s). Use this estimate with caution and run a longer chain!\n",
      "N/50 = 400;\n",
      "tau: [ 279.11148483  259.82139849 1306.44656113  930.28163159  564.31685065\n",
      " 1048.76270781]\n"
     ]
    },
    {
     "name": "stderr",
     "output_type": "stream",
     "text": [
      "\n"
     ]
    }
   ],
   "source": [
    "loc_dblbeta_1r500_dp = inv_abel_fitted_model(locuss_srcs, 'double_beta', 'mcmc', locuss_srcs.r500, \n",
    "                                          conv_temp=loc_conv_txs)"
   ]
  },
  {
   "cell_type": "markdown",
   "id": "b10e8235",
   "metadata": {},
   "source": []
  },
  {
   "cell_type": "markdown",
   "id": "aa2d6f8d",
   "metadata": {},
   "source": []
  },
  {
   "cell_type": "code",
   "execution_count": 15,
   "id": "6529bdfc",
   "metadata": {},
   "outputs": [
    {
     "name": "stdout",
     "output_type": "stream",
     "text": [
      "╒════════════════════════════════╤═══════════════════════════════════════════════════════════════════════╕\n",
      "│ Simplified Vikhlinin Profile   │                                                                       │\n",
      "╞════════════════════════════════╪═══════════════════════════════════════════════════════════════════════╡\n",
      "│ DESCRIBES                      │ Gas Density                                                           │\n",
      "├────────────────────────────────┼───────────────────────────────────────────────────────────────────────┤\n",
      "│ UNIT                           │ 1 / cm3                                                               │\n",
      "├────────────────────────────────┼───────────────────────────────────────────────────────────────────────┤\n",
      "│ PARAMETERS                     │ beta, r_core, alpha, r_s, epsilon, norm                               │\n",
      "├────────────────────────────────┼───────────────────────────────────────────────────────────────────────┤\n",
      "│ PARAMETER UNITS                │ , kpc, , kpc, , 1 / cm3                                               │\n",
      "├────────────────────────────────┼───────────────────────────────────────────────────────────────────────┤\n",
      "│ AUTHOR                         │ Ghirardini et al.                                                     │\n",
      "├────────────────────────────────┼───────────────────────────────────────────────────────────────────────┤\n",
      "│ YEAR                           │ 2019                                                                  │\n",
      "├────────────────────────────────┼───────────────────────────────────────────────────────────────────────┤\n",
      "│ PAPER                          │ https://doi.org/10.1051/0004-6361/201833325                           │\n",
      "├────────────────────────────────┼───────────────────────────────────────────────────────────────────────┤\n",
      "│ INFO                           │ A simplified form of Vikhlinin's full density model, a type of broken │\n",
      "│                                │  power law that deals well with most galaxy cluster density profile.  │\n",
      "╘════════════════════════════════╧═══════════════════════════════════════════════════════════════════════╛\n"
     ]
    },
    {
     "data": {
      "text/plain": [
       "[{'prior': <Quantity [0., 3.]>, 'type': 'uniform'},\n",
       " {'prior': <Quantity [   0., 2000.] kpc>, 'type': 'uniform'},\n",
       " {'prior': <Quantity [0., 3.]>, 'type': 'uniform'},\n",
       " {'prior': <Quantity [   0., 2000.] kpc>, 'type': 'uniform'},\n",
       " {'prior': <Quantity [0., 5.]>, 'type': 'uniform'},\n",
       " {'prior': <Quantity [ 0., 10.] 1 / cm3>, 'type': 'uniform'}]"
      ]
     },
     "execution_count": 15,
     "metadata": {},
     "output_type": "execute_result"
    }
   ],
   "source": [
    "demo_d_mod = SimpleVikhlininDensity1D(y_unit=Unit(\"1 / cm^3\"))\n",
    "demo_d_mod.info()\n",
    "demo_d_mod.par_priors"
   ]
  },
  {
   "cell_type": "code",
   "execution_count": 16,
   "id": "38022e29",
   "metadata": {
    "scrolled": true
   },
   "outputs": [
    {
     "name": "stderr",
     "output_type": "stream",
     "text": [
      "Fitting density model to LoCuSS profiles:   7%|██▏                             | 3/45 [02:10<30:22, 43.39s/it]"
     ]
    },
    {
     "name": "stdout",
     "output_type": "stream",
     "text": [
      "The chain is shorter than 50 times the integrated autocorrelation time for 1 parameter(s). Use this estimate with caution and run a longer chain!\n",
      "N/50 = 600;\n",
      "tau: [130.83581225 213.12699094 910.14404325 126.77006696 122.08300495\n",
      " 548.48184106]\n"
     ]
    },
    {
     "name": "stderr",
     "output_type": "stream",
     "text": [
      "\r",
      "Fitting density model to LoCuSS profiles:   9%|██▊                             | 4/45 [02:50<28:48, 42.16s/it]"
     ]
    },
    {
     "name": "stdout",
     "output_type": "stream",
     "text": [
      "The chain is shorter than 50 times the integrated autocorrelation time for 4 parameter(s). Use this estimate with caution and run a longer chain!\n",
      "N/50 = 600;\n",
      "tau: [709.70105254 731.31627481 714.99515556 575.64388566 335.99943411\n",
      " 733.54243744]\n"
     ]
    },
    {
     "name": "stderr",
     "output_type": "stream",
     "text": [
      "\r",
      "Fitting density model to LoCuSS profiles:  11%|███▌                            | 5/45 [03:32<27:53, 41.84s/it]"
     ]
    },
    {
     "name": "stdout",
     "output_type": "stream",
     "text": [
      "The chain is shorter than 50 times the integrated autocorrelation time for 3 parameter(s). Use this estimate with caution and run a longer chain!\n",
      "N/50 = 600;\n",
      "tau: [ 208.89533955  853.98003407 1080.46724206  120.17144919  507.78164609\n",
      " 1257.18010016]\n"
     ]
    },
    {
     "name": "stderr",
     "output_type": "stream",
     "text": [
      "Fitting density model to LoCuSS profiles:  18%|█████▋                          | 8/45 [05:36<25:56, 42.06s/it]"
     ]
    },
    {
     "name": "stdout",
     "output_type": "stream",
     "text": [
      "The chain is shorter than 50 times the integrated autocorrelation time for 1 parameter(s). Use this estimate with caution and run a longer chain!\n",
      "N/50 = 600;\n",
      "tau: [101.24528917  94.67594354 858.8490014  111.21964038 134.75221943\n",
      "  93.91279958]\n"
     ]
    },
    {
     "name": "stderr",
     "output_type": "stream",
     "text": [
      "Fitting density model to LoCuSS profiles:  22%|██████▉                        | 10/45 [07:03<25:02, 42.93s/it]"
     ]
    },
    {
     "name": "stdout",
     "output_type": "stream",
     "text": [
      "The chain is shorter than 50 times the integrated autocorrelation time for 1 parameter(s). Use this estimate with caution and run a longer chain!\n",
      "N/50 = 600;\n",
      "tau: [ 82.31875938  86.13931435 616.16497294  84.13823965  85.22374747\n",
      "  88.7772634 ]\n"
     ]
    },
    {
     "name": "stderr",
     "output_type": "stream",
     "text": [
      "\r",
      "Fitting density model to LoCuSS profiles:  24%|███████▌                       | 11/45 [07:46<24:14, 42.79s/it]"
     ]
    },
    {
     "name": "stdout",
     "output_type": "stream",
     "text": [
      "The chain is shorter than 50 times the integrated autocorrelation time for 6 parameter(s). Use this estimate with caution and run a longer chain!\n",
      "N/50 = 600;\n",
      "tau: [2105.09581857 2359.94276264 1579.80356533 1776.50686709 2104.50233529\n",
      " 1634.6786875 ]\n"
     ]
    },
    {
     "name": "stderr",
     "output_type": "stream",
     "text": [
      "Fitting density model to LoCuSS profiles:  31%|█████████▋                     | 14/45 [09:54<22:08, 42.85s/it]"
     ]
    },
    {
     "name": "stdout",
     "output_type": "stream",
     "text": [
      "The chain is shorter than 50 times the integrated autocorrelation time for 1 parameter(s). Use this estimate with caution and run a longer chain!\n",
      "N/50 = 600;\n",
      "tau: [ 116.15533379  155.15626637 1065.5975761   113.99642605  113.14316412\n",
      "  527.77721208]\n"
     ]
    },
    {
     "name": "stderr",
     "output_type": "stream",
     "text": [
      "\r",
      "Fitting density model to LoCuSS profiles:  33%|██████████▎                    | 15/45 [10:35<21:06, 42.21s/it]"
     ]
    },
    {
     "name": "stdout",
     "output_type": "stream",
     "text": [
      "The chain is shorter than 50 times the integrated autocorrelation time for 1 parameter(s). Use this estimate with caution and run a longer chain!\n",
      "N/50 = 600;\n",
      "tau: [  99.56925173  104.85424438 1078.86146741  101.99745521  106.67748834\n",
      "  112.66753014]\n"
     ]
    },
    {
     "name": "stderr",
     "output_type": "stream",
     "text": [
      "\r",
      "Fitting density model to LoCuSS profiles:  36%|███████████                    | 16/45 [11:21<21:00, 43.46s/it]"
     ]
    },
    {
     "name": "stdout",
     "output_type": "stream",
     "text": [
      "The chain is shorter than 50 times the integrated autocorrelation time for 6 parameter(s). Use this estimate with caution and run a longer chain!\n",
      "N/50 = 600;\n",
      "tau: [1893.3303808  2084.32139614 2140.45823588 1569.46168659 1003.98900181\n",
      " 2166.88395945]\n"
     ]
    },
    {
     "name": "stderr",
     "output_type": "stream",
     "text": [
      "Fitting density model to LoCuSS profiles:  42%|█████████████                  | 19/45 [12:48<14:28, 33.42s/it]"
     ]
    },
    {
     "name": "stdout",
     "output_type": "stream",
     "text": [
      "The chain is shorter than 50 times the integrated autocorrelation time for 1 parameter(s). Use this estimate with caution and run a longer chain!\n",
      "N/50 = 600;\n",
      "tau: [ 83.50463822  84.79621606 627.26809636  87.54615719  88.66828843\n",
      "  86.45504371]\n"
     ]
    },
    {
     "name": "stderr",
     "output_type": "stream",
     "text": [
      "Fitting density model to LoCuSS profiles:  51%|███████████████▊               | 23/45 [15:43<14:55, 40.70s/it]"
     ]
    },
    {
     "name": "stdout",
     "output_type": "stream",
     "text": [
      "The chain is shorter than 50 times the integrated autocorrelation time for 1 parameter(s). Use this estimate with caution and run a longer chain!\n",
      "N/50 = 600;\n",
      "tau: [ 100.24300226  105.23786324 1504.31340924  102.98824108  129.83960856\n",
      "  169.7458778 ]\n"
     ]
    },
    {
     "name": "stderr",
     "output_type": "stream",
     "text": [
      "Fitting density model to LoCuSS profiles:  58%|█████████████████▉             | 26/45 [17:57<13:36, 42.98s/it]"
     ]
    },
    {
     "name": "stdout",
     "output_type": "stream",
     "text": [
      "The chain is shorter than 50 times the integrated autocorrelation time for 6 parameter(s). Use this estimate with caution and run a longer chain!\n",
      "N/50 = 600;\n",
      "tau: [1697.04319907 1682.40440918  863.6603505  1659.06211467 1491.8789947\n",
      " 1101.50867959]\n"
     ]
    },
    {
     "name": "stderr",
     "output_type": "stream",
     "text": [
      "Fitting density model to LoCuSS profiles:  64%|███████████████████▉           | 29/45 [20:08<11:31, 43.20s/it]"
     ]
    },
    {
     "name": "stdout",
     "output_type": "stream",
     "text": [
      "The chain is shorter than 50 times the integrated autocorrelation time for 4 parameter(s). Use this estimate with caution and run a longer chain!\n",
      "N/50 = 600;\n",
      "tau: [ 923.75870574  682.98285012 2105.27824468  329.14261941  317.1363027\n",
      " 1013.60531017]\n"
     ]
    },
    {
     "name": "stderr",
     "output_type": "stream",
     "text": [
      "\r",
      "Fitting density model to LoCuSS profiles:  67%|████████████████████▋          | 30/45 [20:49<10:36, 42.43s/it]"
     ]
    },
    {
     "name": "stdout",
     "output_type": "stream",
     "text": [
      "The chain is shorter than 50 times the integrated autocorrelation time for 1 parameter(s). Use this estimate with caution and run a longer chain!\n",
      "N/50 = 600;\n",
      "tau: [102.07577611  97.27848034 929.72771232 115.61823157 138.82238061\n",
      "  88.87551977]\n"
     ]
    },
    {
     "name": "stderr",
     "output_type": "stream",
     "text": [
      "Fitting density model to LoCuSS profiles:  71%|██████████████████████         | 32/45 [22:20<09:28, 43.74s/it]"
     ]
    },
    {
     "name": "stdout",
     "output_type": "stream",
     "text": [
      "The chain is shorter than 50 times the integrated autocorrelation time for 6 parameter(s). Use this estimate with caution and run a longer chain!\n",
      "N/50 = 600;\n",
      "tau: [1812.17528012 1948.19685543 1709.38449861 1028.68286718 1842.35108819\n",
      " 1372.53740284]\n"
     ]
    },
    {
     "name": "stderr",
     "output_type": "stream",
     "text": [
      "\r",
      "Fitting density model to LoCuSS profiles:  73%|██████████████████████▋        | 33/45 [23:08<08:59, 44.97s/it]"
     ]
    },
    {
     "name": "stdout",
     "output_type": "stream",
     "text": [
      "The chain is shorter than 50 times the integrated autocorrelation time for 1 parameter(s). Use this estimate with caution and run a longer chain!\n",
      "N/50 = 600;\n",
      "tau: [ 64.1572976   64.58236112 708.8738109   86.05332142  87.05725295\n",
      "  35.50147961]\n"
     ]
    },
    {
     "name": "stderr",
     "output_type": "stream",
     "text": [
      "Fitting density model to LoCuSS profiles:  93%|████████████████████████████▉  | 42/45 [30:06<02:15, 45.17s/it]"
     ]
    },
    {
     "name": "stdout",
     "output_type": "stream",
     "text": [
      "The chain is shorter than 50 times the integrated autocorrelation time for 3 parameter(s). Use this estimate with caution and run a longer chain!\n",
      "N/50 = 600;\n",
      "tau: [ 549.34456345  940.04604025  854.99290603  334.96403738  177.89435305\n",
      " 1070.07686689]\n"
     ]
    },
    {
     "name": "stderr",
     "output_type": "stream",
     "text": [
      "Fitting density model to LoCuSS profiles: 100%|███████████████████████████████| 45/45 [32:16<00:00, 43.03s/it]\n"
     ]
    }
   ],
   "source": [
    "with tqdm(desc=\"Fitting density model to LoCuSS profiles\", total=len(loc_dblbeta_1r500_dp)) as onwards:\n",
    "    for dp in loc_dblbeta_1r500_dp:\n",
    "        if dp is not None:\n",
    "            dp.fit('simple_vikhlinin_dens', progress_bar=False)\n",
    "        onwards.update(1)"
   ]
  },
  {
   "cell_type": "code",
   "execution_count": 17,
   "id": "2aa45460",
   "metadata": {},
   "outputs": [
    {
     "name": "stderr",
     "output_type": "stream",
     "text": [
      "Calculating LoCuSS gas masses:   0%|                                                   | 0/45 [00:00<?, ?it/s]/mnt/pact/dt237/code/PycharmProjects/XGA/xga/products/profile.py:475: UserWarning: The outer radius you supplied is greater than or equal to the outer radius covered by the data, so you are effectively extrapolating using the model.\n",
      "  warn(\"The outer radius you supplied is greater than or equal to the outer radius covered by the data, so\"\n",
      "Calculating LoCuSS gas masses: 100%|██████████████████████████████████████████| 45/45 [07:15<00:00,  9.69s/it]\n"
     ]
    }
   ],
   "source": [
    "loc_dblbeta_svikh_1r500_gm500 = []\n",
    "loc_dblbeta_svikh_1r500_gm2500 = []\n",
    "with tqdm(desc=\"Calculating LoCuSS gas masses\", total=len(loc_dblbeta_1r500_dp)) as onwards:\n",
    "    for dp in loc_dblbeta_1r500_dp:\n",
    "        if dp is not None:\n",
    "            gm = dp.gas_mass(\"simple_vikhlinin_dens\", locuss_srcs[dp.src_name].r500)[0]\n",
    "            loc_dblbeta_svikh_1r500_gm500.append(gm)\n",
    "            gm = dp.gas_mass(\"simple_vikhlinin_dens\", locuss_srcs[dp.src_name].r2500)[0]\n",
    "            loc_dblbeta_svikh_1r500_gm2500.append(gm)\n",
    "        else:\n",
    "            loc_dblbeta_svikh_1r500_gm500.append([np.NaN, np.NaN, np.NaN])\n",
    "            loc_dblbeta_svikh_1r500_gm2500.append([np.NaN, np.NaN, np.NaN])\n",
    "            \n",
    "        onwards.update(1)        \n",
    "\n",
    "loc_dblbeta_svikh_1r500_gm500 = Quantity(loc_dblbeta_svikh_1r500_gm500, 'Msun')\n",
    "loc_dblbeta_svikh_1r500_gm2500 = Quantity(loc_dblbeta_svikh_1r500_gm2500, 'Msun')"
   ]
  },
  {
   "cell_type": "code",
   "execution_count": 18,
   "id": "f6ce4baf",
   "metadata": {},
   "outputs": [
    {
     "name": "stdout",
     "output_type": "stream",
     "text": [
      "44 out of 45 R2500 gas mass measurements produced a result\n",
      "44 out of 45 R500 gas mass measurements produced a result\n"
     ]
    }
   ],
   "source": [
    "print(\"{s} out of {t} R2500 gas mass measurements produced a \"\\\n",
    "      \"result\".format(s=np.isfinite(loc_dblbeta_svikh_1r500_gm2500[:, 0]).sum(), \n",
    "                      t=len(loc_dblbeta_svikh_1r500_gm2500)))\n",
    "print(\"{s} out of {t} R500 gas mass measurements produced a \"\\\n",
    "      \"result\".format(s=np.isfinite(loc_dblbeta_svikh_1r500_gm500[:, 0]).sum(), \n",
    "                      t=len(loc_dblbeta_svikh_1r500_gm500)))"
   ]
  },
  {
   "cell_type": "code",
   "execution_count": 20,
   "id": "60239ecd",
   "metadata": {},
   "outputs": [
    {
     "data": {
      "image/png": "[encoded data removed]",
      "text/plain": [
       "<Figure size 864x432 with 2 Axes>"
      ]
     },
     "metadata": {
      "needs_background": "light"
     },
     "output_type": "display_data"
    }
   ],
   "source": [
    "direct_comparison_plot([loc_lit_gm2500s, loc_lit_gms], [loc_dblbeta_svikh_1r500_gm2500, \n",
    "                                                        loc_dblbeta_svikh_1r500_gm500], \n",
    "                       [r\"LoCuSS $M_{\\rm{gas, 2500}}$ [M$_{\\odot}$]\", r\"LoCuSS $M_{\\rm{gas, 500}}$ [M$_{\\odot}$]\"], \n",
    "                       [r\"XGA $M_{\\rm{gas, 2500}}$ [keV]\", r\"XGA $M_{\\rm{gas, 500}}$ [keV]\"],\n",
    "                       r\"LoCuSS High-$L_{\\rm{X}}$\", (12, 6), ['log', 'log'], ['log', 'log'], \n",
    "                       savepath='../../outputs/figures/locuss_1r500_gmcomp_dblbeta_svikh.pdf')"
   ]
  }
 ],
 "metadata": {
  "kernelspec": {
   "display_name": "Python 3 (ipykernel)",
   "language": "python",
   "name": "python3"
  },
  "language_info": {
   "codemirror_mode": {
    "name": "ipython",
    "version": 3
   },
   "file_extension": ".py",
   "mimetype": "text/x-python",
   "name": "python",
   "nbconvert_exporter": "python",
   "pygments_lexer": "ipython3",
   "version": "3.8.11"
  }
 },
 "nbformat": 4,
 "nbformat_minor": 5
}
