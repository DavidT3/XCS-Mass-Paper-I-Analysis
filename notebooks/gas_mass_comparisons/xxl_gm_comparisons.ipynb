{
 "cells": [
  {
   "cell_type": "markdown",
   "id": "56365db4",
   "metadata": {},
   "source": [
    "# Comparing Total Gas Masses Between Analyses - XXL-100-GC"
   ]
  },
  {
   "cell_type": "markdown",
   "id": "dc4bf697",
   "metadata": {},
   "source": [
    "This notebook measures gas masses for the XXL-100-GC sample, then compares them to the measurements from literature. While the focus of this work is the measurement of total galaxy cluster masses, comparing measured gas masses gives us an avenue to probe how similar our measurements of the baryon density of the clusters are to those from literature. Seeing as knowledge of the gas density profile feeds into the total gas mass, its important to know if we are consistent."
   ]
  },
  {
   "cell_type": "markdown",
   "id": "723ab4b7",
   "metadata": {},
   "source": [
    "## Import Statements"
   ]
  },
  {
   "cell_type": "code",
   "execution_count": 15,
   "id": "c41a3b88",
   "metadata": {},
   "outputs": [],
   "source": [
    "import pandas as pd\n",
    "import numpy as np\n",
    "from astropy.units import Quantity, UnitConversionError, Unit\n",
    "from astropy.cosmology import LambdaCDM, WMAP9\n",
    "import matplotlib.pyplot as plt\n",
    "from typing import Union, List\n",
    "from shutil import rmtree\n",
    "import os\n",
    "from tqdm import tqdm\n",
    "\n",
    "# This adds the directory above to the path, allowing me to import the common functions that I've written in\n",
    "#  common.py - this just saves me repeating boring code and makes sure its all consistent\n",
    "import sys\n",
    "sys.path.insert(0, '..')\n",
    "from common import xxlgc100_colour, xxl_cosmo, direct_comparison_plot, find_lims, fit_comp\n",
    "\n",
    "import xga\n",
    "# This just sets the number of cores this analysis is allowed to use\n",
    "xga.NUM_CORES = 40\n",
    "# This is a bodge that will only work because xga_output in notebooks has already been defined, XGA\n",
    "#  will be made to handle this more gracefully at some point\n",
    "temp_dir = xga.OUTPUT\n",
    "actual_dir = temp_dir.split('notebooks/')[0]+'notebooks/xga_output/'\n",
    "xga.OUTPUT = actual_dir\n",
    "xga.utils.OUTPUT = actual_dir\n",
    "# As currently XGA will setup an xga_output directory in our current directory, I remove it to keep it all clean\n",
    "if os.path.exists('xga_output'):\n",
    "    rmtree('xga_output')\n",
    "from xga.samples import ClusterSample\n",
    "from xga.imagetools.psf import rl_psf\n",
    "from xga.sourcetools.density import inv_abel_fitted_model, ann_spectra_apec_norm\n",
    "from xga.models import BetaProfile1D, DoubleBetaProfile1D, KingProfile1D, SimpleVikhlininDensity1D\n",
    "from xga.exceptions import ModelNotAssociatedError\n",
    "from xga.xspec import single_temp_apec"
   ]
  },
  {
   "cell_type": "markdown",
   "id": "840bef7f",
   "metadata": {},
   "source": [
    "## Reading in Sample Files and Declaring XGA ClusterSamples"
   ]
  },
  {
   "cell_type": "markdown",
   "id": "a4339940",
   "metadata": {},
   "source": [
    "$\\color{red}{\\text{NEED TO MENTION/PUBLISH THE OBSIDS THAT WE EXCLUDE FROM USE DUE TO DATA PROBLEMS LIKE FLARING}}$"
   ]
  },
  {
   "cell_type": "markdown",
   "id": "5d38b971",
   "metadata": {},
   "source": [
    "This subsection involves reading in the sample files of the four test samples (described in [the sample properties notebook](sample_properties.ipynb)), then setting up separate XGA ClusterSample instances (see [the documentation](https://xga.readthedocs.io/en/latest/notebooks/tutorials/sources_samples.html) for an introduction to XGA source and sample objects.\n",
    "\n",
    "We impose an additional cleaning step on each sample, where we make sure that (for each XMM observation initially associated with a source) at least 70% of a cluster's $R_{500}$ falls on that observation - if this requirement is not met then the observation is excluded. These requirements are set with the `clean_obs=True`, `clean_obs_reg='r500'`, and `clean_obs_threshold=0.7` arguments when a ClusterSample instance is declared."
   ]
  },
  {
   "cell_type": "code",
   "execution_count": 2,
   "id": "c302faf5",
   "metadata": {},
   "outputs": [],
   "source": [
    "xxlgc100 = pd.read_csv(\"../../sample_files/xxl_gc100.csv\")\n",
    "\n",
    "# Limit the comparison to clusters with a flag of 0 - meaning it is in the main sample of 100 clusters\n",
    "xxlgc100 = xxlgc100[xxlgc100['Flag'] == 0]\n",
    "\n",
    "# Excluding a specific cluster which was excluded in the XXL analysis\n",
    "xxlgc100 = xxlgc100[xxlgc100['XLSSC'] != 504]"
   ]
  },
  {
   "cell_type": "code",
   "execution_count": 3,
   "id": "2974bcac",
   "metadata": {
    "scrolled": true
   },
   "outputs": [
    {
     "name": "stderr",
     "output_type": "stream",
     "text": [
      "Declaring BaseSource Sample: 100%|████████████████████████████████████████████| 99/99 [02:52<00:00,  1.75s/it]\n",
      "Setting up Galaxy Clusters:   0%|                                                      | 0/99 [00:00<?, ?it/s]/mnt/pact/dt237/code/PycharmProjects/XGA/xga/sources/general.py:124: UserWarning: XLSSC-94 has not been detected in all region files, so generating and fitting products with the 'region' reg_type will not use all available data\n",
      "  warnings.warn(\"{n} has not been detected in all region files, so generating and fitting products\"\n",
      "Setting up Galaxy Clusters:   1%|▍                                             | 1/99 [00:05<08:54,  5.45s/it]/mnt/pact/dt237/code/PycharmProjects/XGA/xga/sources/general.py:124: UserWarning: XLSSC-96 has not been detected in all region files, so generating and fitting products with the 'region' reg_type will not use all available data\n",
      "  warnings.warn(\"{n} has not been detected in all region files, so generating and fitting products\"\n",
      "Setting up Galaxy Clusters:   2%|▉                                             | 2/99 [00:13<10:48,  6.69s/it]/mnt/pact/dt237/code/PycharmProjects/XGA/xga/sources/general.py:109: UserWarning: There are 1 alternative matches for observation 0677630137, associated with source XLSSC-102\n",
      "  warnings.warn(\"There are {0} alternative matches for observation {1}, associated with \"\n",
      "/mnt/pact/dt237/code/PycharmProjects/XGA/xga/sources/general.py:124: UserWarning: XLSSC-102 has not been detected in all region files, so generating and fitting products with the 'region' reg_type will not use all available data\n",
      "  warnings.warn(\"{n} has not been detected in all region files, so generating and fitting products\"\n",
      "Setting up Galaxy Clusters:   3%|█▍                                            | 3/99 [00:18<09:54,  6.19s/it]/mnt/pact/dt237/code/PycharmProjects/XGA/xga/sources/general.py:124: UserWarning: XLSSC-106 has not been detected in all region files, so generating and fitting products with the 'region' reg_type will not use all available data\n",
      "  warnings.warn(\"{n} has not been detected in all region files, so generating and fitting products\"\n",
      "Setting up Galaxy Clusters:   4%|█▊                                            | 4/99 [00:25<10:21,  6.55s/it]/mnt/pact/dt237/code/PycharmProjects/XGA/xga/sources/general.py:124: UserWarning: XLSSC-107 has not been detected in all region files, so generating and fitting products with the 'region' reg_type will not use all available data\n",
      "  warnings.warn(\"{n} has not been detected in all region files, so generating and fitting products\"\n",
      "Setting up Galaxy Clusters:   5%|██▎                                           | 5/99 [00:28<08:09,  5.21s/it]/mnt/pact/dt237/code/PycharmProjects/XGA/xga/sources/general.py:124: UserWarning: XLSSC-100 has not been detected in all region files, so generating and fitting products with the 'region' reg_type will not use all available data\n",
      "  warnings.warn(\"{n} has not been detected in all region files, so generating and fitting products\"\n",
      "Setting up Galaxy Clusters:   6%|██▊                                           | 6/99 [00:37<10:04,  6.50s/it]/mnt/pact/dt237/code/PycharmProjects/XGA/xga/sources/general.py:124: UserWarning: XLSSC-93 has not been detected in all region files, so generating and fitting products with the 'region' reg_type will not use all available data\n",
      "  warnings.warn(\"{n} has not been detected in all region files, so generating and fitting products\"\n",
      "Setting up Galaxy Clusters:   7%|███▎                                          | 7/99 [00:43<09:30,  6.20s/it]/mnt/pact/dt237/code/PycharmProjects/XGA/xga/sources/general.py:124: UserWarning: XLSSC-108 has not been detected in all region files, so generating and fitting products with the 'region' reg_type will not use all available data\n",
      "  warnings.warn(\"{n} has not been detected in all region files, so generating and fitting products\"\n",
      "Setting up Galaxy Clusters:   8%|███▋                                          | 8/99 [00:47<08:35,  5.67s/it]/mnt/pact/dt237/code/PycharmProjects/XGA/xga/sources/general.py:109: UserWarning: There are 1 alternative matches for observation 0677640135, associated with source XLSSC-95\n",
      "  warnings.warn(\"There are {0} alternative matches for observation {1}, associated with \"\n",
      "Setting up Galaxy Clusters:   9%|████▏                                         | 9/99 [00:51<07:36,  5.07s/it]/mnt/pact/dt237/code/PycharmProjects/XGA/xga/sources/general.py:124: UserWarning: XLSSC-92 has not been detected in all region files, so generating and fitting products with the 'region' reg_type will not use all available data\n",
      "  warnings.warn(\"{n} has not been detected in all region files, so generating and fitting products\"\n",
      "Setting up Galaxy Clusters:  10%|████▌                                        | 10/99 [00:53<06:15,  4.22s/it]/mnt/pact/dt237/code/PycharmProjects/XGA/xga/sources/general.py:124: UserWarning: XLSSC-101 has not been detected in all region files, so generating and fitting products with the 'region' reg_type will not use all available data\n",
      "  warnings.warn(\"{n} has not been detected in all region files, so generating and fitting products\"\n",
      "Setting up Galaxy Clusters:  11%|█████                                        | 11/99 [00:58<06:13,  4.24s/it]/mnt/pact/dt237/code/PycharmProjects/XGA/xga/sources/general.py:124: UserWarning: XLSSC-109 has not been detected in all region files, so generating and fitting products with the 'region' reg_type will not use all available data\n",
      "  warnings.warn(\"{n} has not been detected in all region files, so generating and fitting products\"\n",
      "Setting up Galaxy Clusters:  12%|█████▍                                       | 12/99 [01:02<06:18,  4.35s/it]/mnt/pact/dt237/code/PycharmProjects/XGA/xga/sources/extended.py:225: UserWarning: A PSF sized extended source has been detected in 0677650134 and is very close to the user supplied coordinates of XLSSC-112. It will not be excluded from analysis due to the possibility of a mis-identified cool core\n",
      "  warnings.warn(\"A PSF sized extended source has been detected in {o} and is very close to the \"\n",
      "/mnt/pact/dt237/code/PycharmProjects/XGA/xga/sources/general.py:124: UserWarning: XLSSC-112 has not been detected in all region files, so generating and fitting products with the 'region' reg_type will not use all available data\n",
      "  warnings.warn(\"{n} has not been detected in all region files, so generating and fitting products\"\n",
      "Setting up Galaxy Clusters:  13%|█████▉                                       | 13/99 [01:08<06:49,  4.76s/it]/mnt/pact/dt237/code/PycharmProjects/XGA/xga/sources/general.py:124: UserWarning: XLSSC-83 has not been detected in all region files, so generating and fitting products with the 'region' reg_type will not use all available data\n",
      "  warnings.warn(\"{n} has not been detected in all region files, so generating and fitting products\"\n",
      "Setting up Galaxy Clusters:  14%|██████▎                                      | 14/99 [01:10<05:51,  4.13s/it]/mnt/pact/dt237/code/PycharmProjects/XGA/xga/sources/general.py:124: UserWarning: XLSSC-84 has not been detected in all region files, so generating and fitting products with the 'region' reg_type will not use all available data\n",
      "  warnings.warn(\"{n} has not been detected in all region files, so generating and fitting products\"\n",
      "Setting up Galaxy Clusters:  15%|██████▊                                      | 15/99 [01:13<04:59,  3.57s/it]/mnt/pact/dt237/code/PycharmProjects/XGA/xga/sources/general.py:124: UserWarning: XLSSC-85 has not been detected in all region files, so generating and fitting products with the 'region' reg_type will not use all available data\n",
      "  warnings.warn(\"{n} has not been detected in all region files, so generating and fitting products\"\n",
      "Setting up Galaxy Clusters:  16%|███████▎                                     | 16/99 [01:16<04:49,  3.49s/it]/mnt/pact/dt237/code/PycharmProjects/XGA/xga/sources/general.py:124: UserWarning: XLSSC-111 has not been detected in all region files, so generating and fitting products with the 'region' reg_type will not use all available data\n",
      "  warnings.warn(\"{n} has not been detected in all region files, so generating and fitting products\"\n",
      "Setting up Galaxy Clusters:  17%|███████▋                                     | 17/99 [01:22<05:41,  4.16s/it]/mnt/pact/dt237/code/PycharmProjects/XGA/xga/sources/general.py:124: UserWarning: XLSSC-98 has not been detected in all region files, so generating and fitting products with the 'region' reg_type will not use all available data\n",
      "  warnings.warn(\"{n} has not been detected in all region files, so generating and fitting products\"\n",
      "Setting up Galaxy Clusters:  18%|████████▏                                    | 18/99 [01:25<05:13,  3.87s/it]/mnt/pact/dt237/code/PycharmProjects/XGA/xga/sources/general.py:124: UserWarning: XLSSC-99 has not been detected in all region files, so generating and fitting products with the 'region' reg_type will not use all available data\n",
      "  warnings.warn(\"{n} has not been detected in all region files, so generating and fitting products\"\n",
      "Setting up Galaxy Clusters:  19%|████████▋                                    | 19/99 [01:29<05:01,  3.77s/it]/mnt/pact/dt237/code/PycharmProjects/XGA/xga/sources/general.py:124: UserWarning: XLSSC-97 has not been detected in all region files, so generating and fitting products with the 'region' reg_type will not use all available data\n",
      "  warnings.warn(\"{n} has not been detected in all region files, so generating and fitting products\"\n",
      "Setting up Galaxy Clusters:  20%|█████████                                    | 20/99 [01:34<05:33,  4.22s/it]/mnt/pact/dt237/code/PycharmProjects/XGA/xga/sources/general.py:124: UserWarning: XLSSC-110 has not been detected in all region files, so generating and fitting products with the 'region' reg_type will not use all available data\n",
      "  warnings.warn(\"{n} has not been detected in all region files, so generating and fitting products\"\n",
      "Setting up Galaxy Clusters:  21%|█████████▌                                   | 21/99 [01:41<06:39,  5.12s/it]/mnt/pact/dt237/code/PycharmProjects/XGA/xga/sources/general.py:124: UserWarning: XLSSC-60 has not been detected in all region files, so generating and fitting products with the 'region' reg_type will not use all available data\n",
      "  warnings.warn(\"{n} has not been detected in all region files, so generating and fitting products\"\n",
      "Setting up Galaxy Clusters:  22%|██████████                                   | 22/99 [01:50<08:08,  6.34s/it]/mnt/pact/dt237/code/PycharmProjects/XGA/xga/sources/general.py:109: UserWarning: There are 1 alternative matches for observation 0553911701, associated with source XLSSC-72\n",
      "  warnings.warn(\"There are {0} alternative matches for observation {1}, associated with \"\n",
      "/mnt/pact/dt237/code/PycharmProjects/XGA/xga/sources/general.py:109: UserWarning: There are 1 alternative matches for observation 0404968101, associated with source XLSSC-72\n",
      "  warnings.warn(\"There are {0} alternative matches for observation {1}, associated with \"\n",
      "/mnt/pact/dt237/code/PycharmProjects/XGA/xga/sources/general.py:124: UserWarning: XLSSC-72 has not been detected in all region files, so generating and fitting products with the 'region' reg_type will not use all available data\n",
      "  warnings.warn(\"{n} has not been detected in all region files, so generating and fitting products\"\n",
      "Setting up Galaxy Clusters:  23%|██████████▍                                  | 23/99 [01:59<09:07,  7.20s/it]/mnt/pact/dt237/code/PycharmProjects/XGA/xga/sources/general.py:109: UserWarning: There are 1 alternative matches for observation 0404967101, associated with source XLSSC-56\n",
      "  warnings.warn(\"There are {0} alternative matches for observation {1}, associated with \"\n",
      "/mnt/pact/dt237/code/PycharmProjects/XGA/xga/sources/general.py:124: UserWarning: XLSSC-56 has not been detected in all region files, so generating and fitting products with the 'region' reg_type will not use all available data\n",
      "  warnings.warn(\"{n} has not been detected in all region files, so generating and fitting products\"\n",
      "Setting up Galaxy Clusters:  24%|██████████▉                                  | 24/99 [02:08<09:29,  7.59s/it]/mnt/pact/dt237/code/PycharmProjects/XGA/xga/sources/extended.py:225: UserWarning: A PSF sized extended source has been detected in 0404967101 and is very close to the user supplied coordinates of XLSSC-57. It will not be excluded from analysis due to the possibility of a mis-identified cool core\n",
      "  warnings.warn(\"A PSF sized extended source has been detected in {o} and is very close to the \"\n",
      "/mnt/pact/dt237/code/PycharmProjects/XGA/xga/sources/general.py:109: UserWarning: There are 1 alternative matches for observation 0404967501, associated with source XLSSC-57\n",
      "  warnings.warn(\"There are {0} alternative matches for observation {1}, associated with \"\n",
      "/mnt/pact/dt237/code/PycharmProjects/XGA/xga/sources/general.py:124: UserWarning: XLSSC-57 has not been detected in all region files, so generating and fitting products with the 'region' reg_type will not use all available data\n",
      "  warnings.warn(\"{n} has not been detected in all region files, so generating and fitting products\"\n",
      "Setting up Galaxy Clusters:  25%|███████████▎                                 | 25/99 [02:20<11:02,  8.95s/it]/mnt/pact/dt237/code/PycharmProjects/XGA/xga/sources/general.py:124: UserWarning: XLSSC-23 has not been detected in all region files, so generating and fitting products with the 'region' reg_type will not use all available data\n",
      "  warnings.warn(\"{n} has not been detected in all region files, so generating and fitting products\"\n",
      "Setting up Galaxy Clusters:  26%|███████████▊                                 | 26/99 [02:26<09:47,  8.05s/it]/mnt/pact/dt237/code/PycharmProjects/XGA/xga/sources/general.py:109: UserWarning: There are 1 alternative matches for observation 0037980101, associated with source XLSSC-6\n",
      "  warnings.warn(\"There are {0} alternative matches for observation {1}, associated with \"\n",
      "/mnt/pact/dt237/code/PycharmProjects/XGA/xga/sources/general.py:124: UserWarning: XLSSC-6 has not been detected in all region files, so generating and fitting products with the 'region' reg_type will not use all available data\n",
      "  warnings.warn(\"{n} has not been detected in all region files, so generating and fitting products\"\n",
      "Setting up Galaxy Clusters:  27%|████████████▎                                | 27/99 [02:47<14:12, 11.85s/it]/mnt/pact/dt237/code/PycharmProjects/XGA/xga/samples/extended.py:164: UserWarning: After applying the criteria for the minimum amount of cluster required on an observation, XLSSC-61 cannot be declared as all potential observations were removed\n",
      "  warn(\"After applying the criteria for the minimum amount of cluster required on an \"\n",
      "Setting up Galaxy Clusters:  28%|████████████▋                                | 28/99 [02:54<12:34, 10.63s/it]/mnt/pact/dt237/code/PycharmProjects/XGA/xga/sources/general.py:124: UserWarning: XLSSC-36 has not been detected in all region files, so generating and fitting products with the 'region' reg_type will not use all available data\n",
      "  warnings.warn(\"{n} has not been detected in all region files, so generating and fitting products\"\n",
      "Setting up Galaxy Clusters:  29%|█████████████▏                               | 29/99 [03:02<11:28,  9.84s/it]/mnt/pact/dt237/code/PycharmProjects/XGA/xga/sources/general.py:124: UserWarning: XLSSC-29 has not been detected in all region files, so generating and fitting products with the 'region' reg_type will not use all available data\n",
      "  warnings.warn(\"{n} has not been detected in all region files, so generating and fitting products\"\n",
      "Setting up Galaxy Clusters:  30%|█████████████▋                               | 30/99 [03:29<17:09, 14.92s/it]/mnt/pact/dt237/code/PycharmProjects/XGA/xga/sources/general.py:124: UserWarning: XLSSC-62 has not been detected in all region files, so generating and fitting products with the 'region' reg_type will not use all available data\n",
      "  warnings.warn(\"{n} has not been detected in all region files, so generating and fitting products\"\n",
      "Setting up Galaxy Clusters:  31%|██████████████                               | 31/99 [03:36<14:12, 12.54s/it]/mnt/pact/dt237/code/PycharmProjects/XGA/xga/sources/general.py:124: UserWarning: XLSSC-1 has not been detected in all region files, so generating and fitting products with the 'region' reg_type will not use all available data\n",
      "  warnings.warn(\"{n} has not been detected in all region files, so generating and fitting products\"\n"
     ]
    },
    {
     "name": "stderr",
     "output_type": "stream",
     "text": [
      "Setting up Galaxy Clusters:  32%|██████████████▌                              | 32/99 [03:47<13:25, 12.02s/it]/mnt/pact/dt237/code/PycharmProjects/XGA/xga/sources/general.py:109: UserWarning: There are 1 alternative matches for observation 0404965201, associated with source XLSSC-54\n",
      "  warnings.warn(\"There are {0} alternative matches for observation {1}, associated with \"\n",
      "Setting up Galaxy Clusters:  33%|███████████████                              | 33/99 [03:52<10:52,  9.89s/it]/mnt/pact/dt237/code/PycharmProjects/XGA/xga/sources/general.py:109: UserWarning: There are 1 alternative matches for observation 0780452501, associated with source XLSSC-25\n",
      "  warnings.warn(\"There are {0} alternative matches for observation {1}, associated with \"\n",
      "/mnt/pact/dt237/code/PycharmProjects/XGA/xga/sources/general.py:109: UserWarning: There are 1 alternative matches for observation 0109520401, associated with source XLSSC-25\n",
      "  warnings.warn(\"There are {0} alternative matches for observation {1}, associated with \"\n",
      "/mnt/pact/dt237/code/PycharmProjects/XGA/xga/sources/general.py:124: UserWarning: XLSSC-25 has not been detected in all region files, so generating and fitting products with the 'region' reg_type will not use all available data\n",
      "  warnings.warn(\"{n} has not been detected in all region files, so generating and fitting products\"\n",
      "Setting up Galaxy Clusters:  34%|███████████████▍                             | 34/99 [04:24<17:59, 16.61s/it]/mnt/pact/dt237/code/PycharmProjects/XGA/xga/sources/general.py:124: UserWarning: XLSSC-41 has not been detected in all region files, so generating and fitting products with the 'region' reg_type will not use all available data\n",
      "  warnings.warn(\"{n} has not been detected in all region files, so generating and fitting products\"\n",
      "Setting up Galaxy Clusters:  35%|███████████████▉                             | 35/99 [04:49<20:25, 19.14s/it]/mnt/pact/dt237/code/PycharmProjects/XGA/xga/sources/general.py:124: UserWarning: XLSSC-50 has not been detected in all region files, so generating and fitting products with the 'region' reg_type will not use all available data\n",
      "  warnings.warn(\"{n} has not been detected in all region files, so generating and fitting products\"\n",
      "Setting up Galaxy Clusters:  36%|████████████████▎                            | 36/99 [04:57<16:32, 15.75s/it]/mnt/pact/dt237/code/PycharmProjects/XGA/xga/sources/general.py:124: UserWarning: XLSSC-55 has not been detected in all region files, so generating and fitting products with the 'region' reg_type will not use all available data\n",
      "  warnings.warn(\"{n} has not been detected in all region files, so generating and fitting products\"\n",
      "Setting up Galaxy Clusters:  37%|████████████████▊                            | 37/99 [05:00<12:08, 11.76s/it]/mnt/pact/dt237/code/PycharmProjects/XGA/xga/sources/extended.py:221: UserWarning: A point source has been detected in 0780450901 and is very close to the user supplied coordinates of XLSSC-11. It will not be excluded from analysis due to the possibility of a mis-identified cool core\n",
      "  warnings.warn(\"A point source has been detected in {o} and is very close to the user supplied \"\n",
      "/mnt/pact/dt237/code/PycharmProjects/XGA/xga/sources/extended.py:221: UserWarning: A point source has been detected in 0109520301 and is very close to the user supplied coordinates of XLSSC-11. It will not be excluded from analysis due to the possibility of a mis-identified cool core\n",
      "  warnings.warn(\"A point source has been detected in {o} and is very close to the user supplied \"\n",
      "/mnt/pact/dt237/code/PycharmProjects/XGA/xga/sources/extended.py:221: UserWarning: A point source has been detected in 0780451301 and is very close to the user supplied coordinates of XLSSC-11. It will not be excluded from analysis due to the possibility of a mis-identified cool core\n",
      "  warnings.warn(\"A point source has been detected in {o} and is very close to the user supplied \"\n",
      "/mnt/pact/dt237/code/PycharmProjects/XGA/xga/sources/extended.py:221: UserWarning: A point source has been detected in 0780452601 and is very close to the user supplied coordinates of XLSSC-11. It will not be excluded from analysis due to the possibility of a mis-identified cool core\n",
      "  warnings.warn(\"A point source has been detected in {o} and is very close to the user supplied \"\n",
      "/mnt/pact/dt237/code/PycharmProjects/XGA/xga/sources/extended.py:221: UserWarning: A point source has been detected in 0780451201 and is very close to the user supplied coordinates of XLSSC-11. It will not be excluded from analysis due to the possibility of a mis-identified cool core\n",
      "  warnings.warn(\"A point source has been detected in {o} and is very close to the user supplied \"\n",
      "/mnt/pact/dt237/code/PycharmProjects/XGA/xga/sources/general.py:109: UserWarning: There are 1 alternative matches for observation 0111110201, associated with source XLSSC-11\n",
      "  warnings.warn(\"There are {0} alternative matches for observation {1}, associated with \"\n",
      "/mnt/pact/dt237/code/PycharmProjects/XGA/xga/sources/general.py:124: UserWarning: XLSSC-11 has not been detected in all region files, so generating and fitting products with the 'region' reg_type will not use all available data\n",
      "  warnings.warn(\"{n} has not been detected in all region files, so generating and fitting products\"\n",
      "Setting up Galaxy Clusters:  38%|█████████████████▎                           | 38/99 [05:43<21:31, 21.16s/it]/mnt/pact/dt237/code/PycharmProjects/XGA/xga/sources/general.py:124: UserWarning: XLSSC-52 has not been detected in all region files, so generating and fitting products with the 'region' reg_type will not use all available data\n",
      "  warnings.warn(\"{n} has not been detected in all region files, so generating and fitting products\"\n",
      "Setting up Galaxy Clusters:  39%|█████████████████▋                           | 39/99 [05:46<15:52, 15.87s/it]/mnt/pact/dt237/code/PycharmProjects/XGA/xga/sources/general.py:124: UserWarning: XLSSC-10 has not been detected in all region files, so generating and fitting products with the 'region' reg_type will not use all available data\n",
      "  warnings.warn(\"{n} has not been detected in all region files, so generating and fitting products\"\n",
      "Setting up Galaxy Clusters:  40%|██████████████████▏                          | 40/99 [05:52<12:34, 12.78s/it]/mnt/pact/dt237/code/PycharmProjects/XGA/xga/sources/general.py:124: UserWarning: XLSSC-103 has not been detected in all region files, so generating and fitting products with the 'region' reg_type will not use all available data\n",
      "  warnings.warn(\"{n} has not been detected in all region files, so generating and fitting products\"\n",
      "Setting up Galaxy Clusters:  41%|██████████████████▋                          | 41/99 [05:54<09:14,  9.56s/it]/mnt/pact/dt237/code/PycharmProjects/XGA/xga/sources/general.py:124: UserWarning: XLSSC-3 has not been detected in all region files, so generating and fitting products with the 'region' reg_type will not use all available data\n",
      "  warnings.warn(\"{n} has not been detected in all region files, so generating and fitting products\"\n",
      "Setting up Galaxy Clusters:  42%|███████████████████                          | 42/99 [05:59<07:57,  8.38s/it]/mnt/pact/dt237/code/PycharmProjects/XGA/xga/sources/general.py:124: UserWarning: XLSSC-22 has not been detected in all region files, so generating and fitting products with the 'region' reg_type will not use all available data\n",
      "  warnings.warn(\"{n} has not been detected in all region files, so generating and fitting products\"\n",
      "Setting up Galaxy Clusters:  43%|███████████████████▌                         | 43/99 [06:21<11:35, 12.41s/it]/mnt/pact/dt237/code/PycharmProjects/XGA/xga/sources/general.py:124: UserWarning: XLSSC-27 has not been detected in all region files, so generating and fitting products with the 'region' reg_type will not use all available data\n",
      "  warnings.warn(\"{n} has not been detected in all region files, so generating and fitting products\"\n",
      "Setting up Galaxy Clusters:  44%|████████████████████                         | 44/99 [06:42<13:47, 15.05s/it]/mnt/pact/dt237/code/PycharmProjects/XGA/xga/sources/general.py:109: UserWarning: There are 1 alternative matches for observation 0677590131, associated with source XLSSC-90\n",
      "  warnings.warn(\"There are {0} alternative matches for observation {1}, associated with \"\n"
     ]
    },
    {
     "name": "stderr",
     "output_type": "stream",
     "text": [
      "Setting up Galaxy Clusters:  45%|████████████████████▍                        | 45/99 [06:51<11:48, 13.13s/it]/mnt/pact/dt237/code/PycharmProjects/XGA/xga/sources/general.py:124: UserWarning: XLSSC-89 has not been detected in all region files, so generating and fitting products with the 'region' reg_type will not use all available data\n",
      "  warnings.warn(\"{n} has not been detected in all region files, so generating and fitting products\"\n",
      "Setting up Galaxy Clusters:  46%|████████████████████▉                        | 46/99 [06:59<10:08, 11.48s/it]/mnt/pact/dt237/code/PycharmProjects/XGA/xga/sources/extended.py:221: UserWarning: A point source has been detected in 0677600133 and is very close to the user supplied coordinates of XLSSC-104. It will not be excluded from analysis due to the possibility of a mis-identified cool core\n",
      "  warnings.warn(\"A point source has been detected in {o} and is very close to the user supplied \"\n",
      "/mnt/pact/dt237/code/PycharmProjects/XGA/xga/sources/general.py:124: UserWarning: XLSSC-104 has not been detected in all region files, so generating and fitting products with the 'region' reg_type will not use all available data\n",
      "  warnings.warn(\"{n} has not been detected in all region files, so generating and fitting products\"\n",
      "Setting up Galaxy Clusters:  47%|█████████████████████▎                       | 47/99 [07:03<07:56,  9.16s/it]/mnt/pact/dt237/code/PycharmProjects/XGA/xga/sources/general.py:124: UserWarning: XLSSC-88 has not been detected in all region files, so generating and fitting products with the 'region' reg_type will not use all available data\n",
      "  warnings.warn(\"{n} has not been detected in all region files, so generating and fitting products\"\n",
      "Setting up Galaxy Clusters:  48%|█████████████████████▊                       | 48/99 [07:10<07:27,  8.77s/it]/mnt/pact/dt237/code/PycharmProjects/XGA/xga/sources/general.py:124: UserWarning: XLSSC-87 has not been detected in all region files, so generating and fitting products with the 'region' reg_type will not use all available data\n",
      "  warnings.warn(\"{n} has not been detected in all region files, so generating and fitting products\"\n",
      "Setting up Galaxy Clusters:  49%|██████████████████████▎                      | 49/99 [07:16<06:30,  7.80s/it]/mnt/pact/dt237/code/PycharmProjects/XGA/xga/sources/general.py:124: UserWarning: XLSSC-91 has not been detected in all region files, so generating and fitting products with the 'region' reg_type will not use all available data\n",
      "  warnings.warn(\"{n} has not been detected in all region files, so generating and fitting products\"\n",
      "Setting up Galaxy Clusters:  51%|██████████████████████▋                      | 50/99 [07:24<06:29,  7.94s/it]/mnt/pact/dt237/code/PycharmProjects/XGA/xga/sources/general.py:124: UserWarning: XLSSC-105 has not been detected in all region files, so generating and fitting products with the 'region' reg_type will not use all available data\n",
      "  warnings.warn(\"{n} has not been detected in all region files, so generating and fitting products\"\n",
      "Setting up Galaxy Clusters:  52%|███████████████████████▏                     | 51/99 [07:35<07:02,  8.81s/it]/mnt/pact/dt237/code/PycharmProjects/XGA/xga/sources/general.py:124: UserWarning: XLSSC-502 has not been detected in all region files, so generating and fitting products with the 'region' reg_type will not use all available data\n",
      "  warnings.warn(\"{n} has not been detected in all region files, so generating and fitting products\"\n",
      "Setting up Galaxy Clusters:  53%|███████████████████████▋                     | 52/99 [07:37<05:23,  6.88s/it]/mnt/pact/dt237/code/PycharmProjects/XGA/xga/sources/general.py:124: UserWarning: XLSSC-530 has not been detected in all region files, so generating and fitting products with the 'region' reg_type will not use all available data\n",
      "  warnings.warn(\"{n} has not been detected in all region files, so generating and fitting products\"\n",
      "Setting up Galaxy Clusters:  54%|████████████████████████                     | 53/99 [07:42<04:40,  6.09s/it]/mnt/pact/dt237/code/PycharmProjects/XGA/xga/sources/general.py:109: UserWarning: There are 1 alternative matches for observation 0677700138, associated with source XLSSC-501\n",
      "  warnings.warn(\"There are {0} alternative matches for observation {1}, associated with \"\n",
      "/mnt/pact/dt237/code/PycharmProjects/XGA/xga/sources/general.py:124: UserWarning: XLSSC-501 has not been detected in all region files, so generating and fitting products with the 'region' reg_type will not use all available data\n",
      "  warnings.warn(\"{n} has not been detected in all region files, so generating and fitting products\"\n",
      "Setting up Galaxy Clusters:  55%|████████████████████████▌                    | 54/99 [07:44<03:40,  4.91s/it]/mnt/pact/dt237/code/PycharmProjects/XGA/xga/sources/general.py:124: UserWarning: XLSSC-513 has not been detected in all region files, so generating and fitting products with the 'region' reg_type will not use all available data\n",
      "  warnings.warn(\"{n} has not been detected in all region files, so generating and fitting products\"\n",
      "Setting up Galaxy Clusters:  56%|█████████████████████████                    | 55/99 [07:48<03:24,  4.65s/it]/mnt/pact/dt237/code/PycharmProjects/XGA/xga/sources/general.py:124: UserWarning: XLSSC-525 has not been detected in all region files, so generating and fitting products with the 'region' reg_type will not use all available data\n",
      "  warnings.warn(\"{n} has not been detected in all region files, so generating and fitting products\"\n",
      "Setting up Galaxy Clusters:  57%|█████████████████████████▍                   | 56/99 [07:51<02:59,  4.18s/it]/mnt/pact/dt237/code/PycharmProjects/XGA/xga/sources/general.py:109: UserWarning: There are 1 alternative matches for observation 0677800137, associated with source XLSSC-527\n",
      "  warnings.warn(\"There are {0} alternative matches for observation {1}, associated with \"\n",
      "/mnt/pact/dt237/code/PycharmProjects/XGA/xga/sources/general.py:124: UserWarning: XLSSC-527 has not been detected in all region files, so generating and fitting products with the 'region' reg_type will not use all available data\n",
      "  warnings.warn(\"{n} has not been detected in all region files, so generating and fitting products\"\n",
      "/mnt/pact/dt237/code/PycharmProjects/XGA/xga/samples/extended.py:164: UserWarning: After applying the criteria for the minimum amount of cluster required on an observation, XLSSC-527 cannot be declared as all potential observations were removed\n",
      "  warn(\"After applying the criteria for the minimum amount of cluster required on an \"\n",
      "Setting up Galaxy Clusters:  58%|█████████████████████████▉                   | 57/99 [07:55<02:52,  4.10s/it]/mnt/pact/dt237/code/PycharmProjects/XGA/xga/sources/general.py:124: UserWarning: XLSSC-528 has not been detected in all region files, so generating and fitting products with the 'region' reg_type will not use all available data\n",
      "  warnings.warn(\"{n} has not been detected in all region files, so generating and fitting products\"\n",
      "Setting up Galaxy Clusters:  60%|██████████████████████████▊                  | 59/99 [07:58<01:50,  2.77s/it]/mnt/pact/dt237/code/PycharmProjects/XGA/xga/sources/general.py:124: UserWarning: XLSSC-526 has not been detected in all region files, so generating and fitting products with the 'region' reg_type will not use all available data\n",
      "  warnings.warn(\"{n} has not been detected in all region files, so generating and fitting products\"\n",
      "Setting up Galaxy Clusters:  61%|███████████████████████████▎                 | 60/99 [08:00<01:42,  2.63s/it]/mnt/pact/dt237/code/PycharmProjects/XGA/xga/sources/extended.py:225: UserWarning: A PSF sized extended source has been detected in 0677810132 and is very close to the user supplied coordinates of XLSSC-544. It will not be excluded from analysis due to the possibility of a mis-identified cool core\n",
      "  warnings.warn(\"A PSF sized extended source has been detected in {o} and is very close to the \"\n",
      "/mnt/pact/dt237/code/PycharmProjects/XGA/xga/sources/general.py:109: UserWarning: There are 1 alternative matches for observation 0604873932, associated with source XLSSC-544\n",
      "  warnings.warn(\"There are {0} alternative matches for observation {1}, associated with \"\n",
      "/mnt/pact/dt237/code/PycharmProjects/XGA/xga/sources/general.py:109: UserWarning: There are 1 alternative matches for observation 0677810132, associated with source XLSSC-544\n",
      "  warnings.warn(\"There are {0} alternative matches for observation {1}, associated with \"\n"
     ]
    },
    {
     "name": "stderr",
     "output_type": "stream",
     "text": [
      "Setting up Galaxy Clusters:  62%|███████████████████████████▋                 | 61/99 [08:03<01:36,  2.54s/it]/mnt/pact/dt237/code/PycharmProjects/XGA/xga/sources/general.py:124: UserWarning: XLSSC-518 has not been detected in all region files, so generating and fitting products with the 'region' reg_type will not use all available data\n",
      "  warnings.warn(\"{n} has not been detected in all region files, so generating and fitting products\"\n",
      "Setting up Galaxy Clusters:  63%|████████████████████████████▏                | 62/99 [08:04<01:19,  2.16s/it]/mnt/pact/dt237/code/PycharmProjects/XGA/xga/sources/general.py:109: UserWarning: There are 1 alternative matches for observation 0604873944, associated with source XLSSC-531\n",
      "  warnings.warn(\"There are {0} alternative matches for observation {1}, associated with \"\n",
      "/mnt/pact/dt237/code/PycharmProjects/XGA/xga/sources/general.py:124: UserWarning: XLSSC-531 has not been detected in all region files, so generating and fitting products with the 'region' reg_type will not use all available data\n",
      "  warnings.warn(\"{n} has not been detected in all region files, so generating and fitting products\"\n",
      "Setting up Galaxy Clusters:  64%|████████████████████████████▋                | 63/99 [08:06<01:18,  2.19s/it]/mnt/pact/dt237/code/PycharmProjects/XGA/xga/sources/general.py:124: UserWarning: XLSSC-534 has not been detected in all region files, so generating and fitting products with the 'region' reg_type will not use all available data\n",
      "  warnings.warn(\"{n} has not been detected in all region files, so generating and fitting products\"\n",
      "Setting up Galaxy Clusters:  65%|█████████████████████████████                | 64/99 [08:09<01:18,  2.24s/it]/mnt/pact/dt237/code/PycharmProjects/XGA/xga/sources/general.py:124: UserWarning: XLSSC-517 has not been detected in all region files, so generating and fitting products with the 'region' reg_type will not use all available data\n",
      "  warnings.warn(\"{n} has not been detected in all region files, so generating and fitting products\"\n",
      "Setting up Galaxy Clusters:  66%|█████████████████████████████▌               | 65/99 [08:12<01:26,  2.54s/it]/mnt/pact/dt237/code/PycharmProjects/XGA/xga/sources/general.py:124: UserWarning: XLSSC-523 has not been detected in all region files, so generating and fitting products with the 'region' reg_type will not use all available data\n",
      "  warnings.warn(\"{n} has not been detected in all region files, so generating and fitting products\"\n",
      "Setting up Galaxy Clusters:  67%|██████████████████████████████               | 66/99 [08:14<01:24,  2.55s/it]/mnt/pact/dt237/code/PycharmProjects/XGA/xga/sources/general.py:124: UserWarning: XLSSC-503 has not been detected in all region files, so generating and fitting products with the 'region' reg_type will not use all available data\n",
      "  warnings.warn(\"{n} has not been detected in all region files, so generating and fitting products\"\n",
      "Setting up Galaxy Clusters:  68%|██████████████████████████████▍              | 67/99 [08:19<01:44,  3.26s/it]/mnt/pact/dt237/code/PycharmProjects/XGA/xga/sources/general.py:109: UserWarning: There are 1 alternative matches for observation 0677820141, associated with source XLSSC-545\n",
      "  warnings.warn(\"There are {0} alternative matches for observation {1}, associated with \"\n",
      "/mnt/pact/dt237/code/PycharmProjects/XGA/xga/sources/general.py:124: UserWarning: XLSSC-545 has not been detected in all region files, so generating and fitting products with the 'region' reg_type will not use all available data\n",
      "  warnings.warn(\"{n} has not been detected in all region files, so generating and fitting products\"\n",
      "Setting up Galaxy Clusters:  69%|██████████████████████████████▉              | 68/99 [08:22<01:38,  3.18s/it]/mnt/pact/dt237/code/PycharmProjects/XGA/xga/sources/general.py:124: UserWarning: XLSSC-514 has not been detected in all region files, so generating and fitting products with the 'region' reg_type will not use all available data\n",
      "  warnings.warn(\"{n} has not been detected in all region files, so generating and fitting products\"\n",
      "Setting up Galaxy Clusters:  70%|███████████████████████████████▎             | 69/99 [08:28<02:00,  4.03s/it]/mnt/pact/dt237/code/PycharmProjects/XGA/xga/sources/general.py:109: UserWarning: There are 1 alternative matches for observation 0677820144, associated with source XLSSC-515\n",
      "  warnings.warn(\"There are {0} alternative matches for observation {1}, associated with \"\n",
      "/mnt/pact/dt237/code/PycharmProjects/XGA/xga/sources/general.py:109: UserWarning: There are 1 alternative matches for observation 0505383201, associated with source XLSSC-515\n",
      "  warnings.warn(\"There are {0} alternative matches for observation {1}, associated with \"\n",
      "/mnt/pact/dt237/code/PycharmProjects/XGA/xga/sources/general.py:124: UserWarning: XLSSC-515 has not been detected in all region files, so generating and fitting products with the 'region' reg_type will not use all available data\n",
      "  warnings.warn(\"{n} has not been detected in all region files, so generating and fitting products\"\n",
      "Setting up Galaxy Clusters:  71%|███████████████████████████████▊             | 70/99 [08:32<01:53,  3.92s/it]/mnt/pact/dt237/code/PycharmProjects/XGA/xga/sources/general.py:124: UserWarning: XLSSC-547 has not been detected in all region files, so generating and fitting products with the 'region' reg_type will not use all available data\n",
      "  warnings.warn(\"{n} has not been detected in all region files, so generating and fitting products\"\n",
      "Setting up Galaxy Clusters:  72%|████████████████████████████████▎            | 71/99 [08:35<01:40,  3.60s/it]/mnt/pact/dt237/code/PycharmProjects/XGA/xga/sources/general.py:124: UserWarning: XLSSC-535 has not been detected in all region files, so generating and fitting products with the 'region' reg_type will not use all available data\n",
      "  warnings.warn(\"{n} has not been detected in all region files, so generating and fitting products\"\n",
      "Setting up Galaxy Clusters:  73%|████████████████████████████████▋            | 72/99 [08:38<01:36,  3.59s/it]/mnt/pact/dt237/code/PycharmProjects/XGA/xga/sources/general.py:109: UserWarning: There are 1 alternative matches for observation 0604873438, associated with source XLSSC-536\n",
      "  warnings.warn(\"There are {0} alternative matches for observation {1}, associated with \"\n",
      "/mnt/pact/dt237/code/PycharmProjects/XGA/xga/sources/general.py:109: UserWarning: There are 1 alternative matches for observation 0677820136, associated with source XLSSC-536\n",
      "  warnings.warn(\"There are {0} alternative matches for observation {1}, associated with \"\n",
      "/mnt/pact/dt237/code/PycharmProjects/XGA/xga/sources/general.py:124: UserWarning: XLSSC-536 has not been detected in all region files, so generating and fitting products with the 'region' reg_type will not use all available data\n",
      "  warnings.warn(\"{n} has not been detected in all region files, so generating and fitting products\"\n",
      "Setting up Galaxy Clusters:  74%|█████████████████████████████████▏           | 73/99 [08:41<01:27,  3.35s/it]/mnt/pact/dt237/code/PycharmProjects/XGA/xga/sources/general.py:124: UserWarning: XLSSC-522 has not been detected in all region files, so generating and fitting products with the 'region' reg_type will not use all available data\n",
      "  warnings.warn(\"{n} has not been detected in all region files, so generating and fitting products\"\n",
      "Setting up Galaxy Clusters:  75%|█████████████████████████████████▋           | 74/99 [08:44<01:21,  3.25s/it]/mnt/pact/dt237/code/PycharmProjects/XGA/xga/sources/general.py:124: UserWarning: XLSSC-533 has not been detected in all region files, so generating and fitting products with the 'region' reg_type will not use all available data\n",
      "  warnings.warn(\"{n} has not been detected in all region files, so generating and fitting products\"\n",
      "Setting up Galaxy Clusters:  76%|██████████████████████████████████           | 75/99 [08:48<01:25,  3.57s/it]/mnt/pact/dt237/code/PycharmProjects/XGA/xga/sources/general.py:124: UserWarning: XLSSC-521 has not been detected in all region files, so generating and fitting products with the 'region' reg_type will not use all available data\n",
      "  warnings.warn(\"{n} has not been detected in all region files, so generating and fitting products\"\n",
      "Setting up Galaxy Clusters:  77%|██████████████████████████████████▌          | 76/99 [08:51<01:17,  3.36s/it]/mnt/pact/dt237/code/PycharmProjects/XGA/xga/sources/general.py:124: UserWarning: XLSSC-505 has not been detected in all region files, so generating and fitting products with the 'region' reg_type will not use all available data\n",
      "  warnings.warn(\"{n} has not been detected in all region files, so generating and fitting products\"\n",
      "Setting up Galaxy Clusters:  78%|███████████████████████████████████          | 77/99 [08:53<01:03,  2.88s/it]/mnt/pact/dt237/code/PycharmProjects/XGA/xga/sources/general.py:109: UserWarning: There are 1 alternative matches for observation 0677720134, associated with source XLSSC-506\n",
      "  warnings.warn(\"There are {0} alternative matches for observation {1}, associated with \"\n",
      "/mnt/pact/dt237/code/PycharmProjects/XGA/xga/sources/general.py:124: UserWarning: XLSSC-506 has not been detected in all region files, so generating and fitting products with the 'region' reg_type will not use all available data\n",
      "  warnings.warn(\"{n} has not been detected in all region files, so generating and fitting products\"\n",
      "Setting up Galaxy Clusters:  79%|███████████████████████████████████▍         | 78/99 [08:55<00:55,  2.66s/it]/mnt/pact/dt237/code/PycharmProjects/XGA/xga/sources/general.py:109: UserWarning: There are 1 alternative matches for observation 0604873444, associated with source XLSSC-546\n",
      "  warnings.warn(\"There are {0} alternative matches for observation {1}, associated with \"\n",
      "/mnt/pact/dt237/code/PycharmProjects/XGA/xga/sources/general.py:109: UserWarning: There are 1 alternative matches for observation 0604873439, associated with source XLSSC-546\n",
      "  warnings.warn(\"There are {0} alternative matches for observation {1}, associated with \"\n",
      "/mnt/pact/dt237/code/PycharmProjects/XGA/xga/sources/general.py:124: UserWarning: XLSSC-546 has not been detected in all region files, so generating and fitting products with the 'region' reg_type will not use all available data\n",
      "  warnings.warn(\"{n} has not been detected in all region files, so generating and fitting products\"\n",
      "Setting up Galaxy Clusters:  80%|███████████████████████████████████▉         | 79/99 [08:58<00:54,  2.72s/it]/mnt/pact/dt237/code/PycharmProjects/XGA/xga/sources/general.py:124: UserWarning: XLSSC-512 has not been detected in all region files, so generating and fitting products with the 'region' reg_type will not use all available data\n",
      "  warnings.warn(\"{n} has not been detected in all region files, so generating and fitting products\"\n",
      "Setting up Galaxy Clusters:  81%|████████████████████████████████████▎        | 80/99 [09:02<00:57,  3.02s/it]/mnt/pact/dt237/code/PycharmProjects/XGA/xga/sources/general.py:124: UserWarning: XLSSC-520 has not been detected in all region files, so generating and fitting products with the 'region' reg_type will not use all available data\n",
      "  warnings.warn(\"{n} has not been detected in all region files, so generating and fitting products\"\n",
      "Setting up Galaxy Clusters:  82%|████████████████████████████████████▊        | 81/99 [09:04<00:48,  2.70s/it]/mnt/pact/dt237/code/PycharmProjects/XGA/xga/sources/general.py:124: UserWarning: XLSSC-532 has not been detected in all region files, so generating and fitting products with the 'region' reg_type will not use all available data\n",
      "  warnings.warn(\"{n} has not been detected in all region files, so generating and fitting products\"\n",
      "Setting up Galaxy Clusters:  83%|█████████████████████████████████████▎       | 82/99 [09:07<00:47,  2.81s/it]/mnt/pact/dt237/code/PycharmProjects/XGA/xga/sources/general.py:124: UserWarning: XLSSC-519 has not been detected in all region files, so generating and fitting products with the 'region' reg_type will not use all available data\n",
      "  warnings.warn(\"{n} has not been detected in all region files, so generating and fitting products\"\n",
      "Setting up Galaxy Clusters:  84%|█████████████████████████████████████▋       | 83/99 [09:09<00:40,  2.56s/it]/mnt/pact/dt237/code/PycharmProjects/XGA/xga/sources/general.py:124: UserWarning: XLSSC-524 has not been detected in all region files, so generating and fitting products with the 'region' reg_type will not use all available data\n",
      "  warnings.warn(\"{n} has not been detected in all region files, so generating and fitting products\"\n",
      "Setting up Galaxy Clusters:  85%|██████████████████████████████████████▏      | 84/99 [09:12<00:40,  2.67s/it]/mnt/pact/dt237/code/PycharmProjects/XGA/xga/sources/general.py:109: UserWarning: There are 1 alternative matches for observation 0604873431, associated with source XLSSC-542\n",
      "  warnings.warn(\"There are {0} alternative matches for observation {1}, associated with \"\n",
      "/mnt/pact/dt237/code/PycharmProjects/XGA/xga/sources/general.py:124: UserWarning: XLSSC-542 has not been detected in all region files, so generating and fitting products with the 'region' reg_type will not use all available data\n",
      "  warnings.warn(\"{n} has not been detected in all region files, so generating and fitting products\"\n",
      "Setting up Galaxy Clusters:  86%|██████████████████████████████████████▋      | 85/99 [09:15<00:41,  3.00s/it]/mnt/pact/dt237/code/PycharmProjects/XGA/xga/sources/general.py:124: UserWarning: XLSSC-507 has not been detected in all region files, so generating and fitting products with the 'region' reg_type will not use all available data\n",
      "  warnings.warn(\"{n} has not been detected in all region files, so generating and fitting products\"\n",
      "Setting up Galaxy Clusters:  87%|███████████████████████████████████████      | 86/99 [09:17<00:31,  2.44s/it]/mnt/pact/dt237/code/PycharmProjects/XGA/xga/sources/general.py:124: UserWarning: XLSSC-549 has not been detected in all region files, so generating and fitting products with the 'region' reg_type will not use all available data\n",
      "  warnings.warn(\"{n} has not been detected in all region files, so generating and fitting products\"\n",
      "Setting up Galaxy Clusters:  88%|███████████████████████████████████████▌     | 87/99 [09:24<00:48,  4.06s/it]/mnt/pact/dt237/code/PycharmProjects/XGA/xga/sources/general.py:124: UserWarning: XLSSC-516 has not been detected in all region files, so generating and fitting products with the 'region' reg_type will not use all available data\n",
      "  warnings.warn(\"{n} has not been detected in all region files, so generating and fitting products\"\n",
      "Setting up Galaxy Clusters:  89%|████████████████████████████████████████     | 88/99 [09:27<00:40,  3.68s/it]/mnt/pact/dt237/code/PycharmProjects/XGA/xga/sources/general.py:124: UserWarning: XLSSC-537 has not been detected in all region files, so generating and fitting products with the 'region' reg_type will not use all available data\n",
      "  warnings.warn(\"{n} has not been detected in all region files, so generating and fitting products\"\n",
      "Setting up Galaxy Clusters:  90%|████████████████████████████████████████▍    | 89/99 [09:32<00:39,  3.94s/it]/mnt/pact/dt237/code/PycharmProjects/XGA/xga/sources/general.py:109: UserWarning: There are 1 alternative matches for observation 0677830133, associated with source XLSSC-548\n",
      "  warnings.warn(\"There are {0} alternative matches for observation {1}, associated with \"\n",
      "/mnt/pact/dt237/code/PycharmProjects/XGA/xga/sources/general.py:124: UserWarning: XLSSC-548 has not been detected in all region files, so generating and fitting products with the 'region' reg_type will not use all available data\n",
      "  warnings.warn(\"{n} has not been detected in all region files, so generating and fitting products\"\n",
      "Setting up Galaxy Clusters:  91%|████████████████████████████████████████▉    | 90/99 [09:35<00:34,  3.82s/it]/mnt/pact/dt237/code/PycharmProjects/XGA/xga/sources/general.py:109: UserWarning: There are 1 alternative matches for observation 0604870334, associated with source XLSSC-538\n",
      "  warnings.warn(\"There are {0} alternative matches for observation {1}, associated with \"\n",
      "/mnt/pact/dt237/code/PycharmProjects/XGA/xga/sources/general.py:124: UserWarning: XLSSC-538 has not been detected in all region files, so generating and fitting products with the 'region' reg_type will not use all available data\n",
      "  warnings.warn(\"{n} has not been detected in all region files, so generating and fitting products\"\n"
     ]
    },
    {
     "name": "stderr",
     "output_type": "stream",
     "text": [
      "Setting up Galaxy Clusters:  92%|█████████████████████████████████████████▎   | 91/99 [09:39<00:29,  3.68s/it]/mnt/pact/dt237/code/PycharmProjects/XGA/xga/sources/general.py:109: UserWarning: There are 1 alternative matches for observation 0677761132, associated with source XLSSC-543\n",
      "  warnings.warn(\"There are {0} alternative matches for observation {1}, associated with \"\n",
      "/mnt/pact/dt237/code/PycharmProjects/XGA/xga/sources/general.py:124: UserWarning: XLSSC-543 has not been detected in all region files, so generating and fitting products with the 'region' reg_type will not use all available data\n",
      "  warnings.warn(\"{n} has not been detected in all region files, so generating and fitting products\"\n",
      "Setting up Galaxy Clusters:  93%|█████████████████████████████████████████▊   | 92/99 [09:44<00:29,  4.25s/it]/mnt/pact/dt237/code/PycharmProjects/XGA/xga/sources/general.py:124: UserWarning: XLSSC-541 has not been detected in all region files, so generating and fitting products with the 'region' reg_type will not use all available data\n",
      "  warnings.warn(\"{n} has not been detected in all region files, so generating and fitting products\"\n",
      "Setting up Galaxy Clusters:  94%|██████████████████████████████████████████▎  | 93/99 [09:47<00:23,  3.89s/it]/mnt/pact/dt237/code/PycharmProjects/XGA/xga/sources/general.py:124: UserWarning: XLSSC-508 has not been detected in all region files, so generating and fitting products with the 'region' reg_type will not use all available data\n",
      "  warnings.warn(\"{n} has not been detected in all region files, so generating and fitting products\"\n",
      "Setting up Galaxy Clusters:  95%|██████████████████████████████████████████▋  | 94/99 [09:56<00:27,  5.47s/it]/mnt/pact/dt237/code/PycharmProjects/XGA/xga/sources/general.py:124: UserWarning: XLSSC-540 has not been detected in all region files, so generating and fitting products with the 'region' reg_type will not use all available data\n",
      "  warnings.warn(\"{n} has not been detected in all region files, so generating and fitting products\"\n",
      "Setting up Galaxy Clusters:  96%|███████████████████████████████████████████▏ | 95/99 [09:59<00:18,  4.63s/it]/mnt/pact/dt237/code/PycharmProjects/XGA/xga/sources/general.py:124: UserWarning: XLSSC-539 has not been detected in all region files, so generating and fitting products with the 'region' reg_type will not use all available data\n",
      "  warnings.warn(\"{n} has not been detected in all region files, so generating and fitting products\"\n",
      "Setting up Galaxy Clusters:  97%|███████████████████████████████████████████▋ | 96/99 [10:02<00:12,  4.21s/it]/mnt/pact/dt237/code/PycharmProjects/XGA/xga/sources/general.py:124: UserWarning: XLSSC-509 has not been detected in all region files, so generating and fitting products with the 'region' reg_type will not use all available data\n",
      "  warnings.warn(\"{n} has not been detected in all region files, so generating and fitting products\"\n",
      "Setting up Galaxy Clusters:  98%|████████████████████████████████████████████ | 97/99 [10:06<00:08,  4.04s/it]/mnt/pact/dt237/code/PycharmProjects/XGA/xga/sources/general.py:124: UserWarning: XLSSC-510 has not been detected in all region files, so generating and fitting products with the 'region' reg_type will not use all available data\n",
      "  warnings.warn(\"{n} has not been detected in all region files, so generating and fitting products\"\n",
      "Setting up Galaxy Clusters:  99%|████████████████████████████████████████████▌| 98/99 [10:09<00:03,  3.61s/it]/mnt/pact/dt237/code/PycharmProjects/XGA/xga/sources/general.py:124: UserWarning: XLSSC-511 has not been detected in all region files, so generating and fitting products with the 'region' reg_type will not use all available data\n",
      "  warnings.warn(\"{n} has not been detected in all region files, so generating and fitting products\"\n",
      "Setting up Galaxy Clusters: 100%|█████████████████████████████████████████████| 99/99 [10:10<00:00,  6.17s/it]\n"
     ]
    }
   ],
   "source": [
    "# Reading out the relevant values into arrays just for ease of passing into the ClusterSample object\n",
    "ra = xxlgc100['ra'].values\n",
    "dec = xxlgc100['dec'].values\n",
    "z = xxlgc100['z'].values\n",
    "n = xxlgc100['name'].values\n",
    "r500 = Quantity(xxlgc100['r500MT'].values, 'Mpc')\n",
    "\n",
    "# Declaring the actual ClusterSample instance for the XXL sample\n",
    "# This is the only sample whose original analysis used the WMAP9 cosmology\n",
    "xxl_srcs = ClusterSample(ra, dec, z, n, r500=r500, cosmology=xxl_cosmo, load_fits=True, use_peak=False, \n",
    "                         clean_obs=True, clean_obs_reg='r500', clean_obs_threshold=0.7)"
   ]
  },
  {
   "cell_type": "markdown",
   "id": "4ccbc1a6",
   "metadata": {},
   "source": [
    "## Running PSF Correction"
   ]
  },
  {
   "cell_type": "markdown",
   "id": "5c5c6f51",
   "metadata": {},
   "source": []
  },
  {
   "cell_type": "code",
   "execution_count": 4,
   "id": "eb11d505",
   "metadata": {},
   "outputs": [
    {
     "name": "stderr",
     "output_type": "stream",
     "text": [
      "Preparing PSF generation commands: 100%|██████████████████████████████████████| 97/97 [00:43<00:00,  2.22it/s]\n",
      "Generating products of type(s) psf: 100%|███████████████████████████████████| 525/525 [01:01<00:00,  8.47it/s]\n",
      "PSF Correcting Observations - Currently complete: 100%|███████████████████████| 97/97 [17:07<00:00, 10.59s/it]\n",
      "Generating products of type(s) image: 100%|███████████████████████████████████| 97/97 [00:10<00:00,  9.45it/s]\n"
     ]
    }
   ],
   "source": [
    "rl_psf(xxl_srcs)"
   ]
  },
  {
   "cell_type": "markdown",
   "id": "24db86c8",
   "metadata": {},
   "source": [
    "## Reading in literature data"
   ]
  },
  {
   "cell_type": "markdown",
   "id": "134be8fe",
   "metadata": {},
   "source": []
  },
  {
   "cell_type": "markdown",
   "id": "9af06a7d",
   "metadata": {},
   "source": [
    "### Gas masses from literature"
   ]
  },
  {
   "cell_type": "markdown",
   "id": "608ab541",
   "metadata": {},
   "source": []
  },
  {
   "cell_type": "code",
   "execution_count": 5,
   "id": "f2f5725f",
   "metadata": {},
   "outputs": [],
   "source": [
    "xxl_lit_gms = [xxlgc100[xxlgc100['name'] == n].iloc[0][['mg500', 'mg500_err']].values*1e+13 \n",
    "               for n in xxl_srcs.names]\n",
    "xxl_lit_gms = Quantity(xxl_lit_gms, 'Msun')"
   ]
  },
  {
   "cell_type": "markdown",
   "id": "9a66b719",
   "metadata": {},
   "source": [
    "### Conversion Temperatures"
   ]
  },
  {
   "cell_type": "markdown",
   "id": "0f3cebca",
   "metadata": {},
   "source": []
  },
  {
   "cell_type": "code",
   "execution_count": 6,
   "id": "622ab3b7",
   "metadata": {},
   "outputs": [],
   "source": [
    "xxl_conv_txs = []\n",
    "\n",
    "for src in xxl_srcs:\n",
    "    xxl_conv_txs.append(xxlgc100[xxlgc100['name'] == src.name].iloc[0]['T300kpc'])\n",
    "    \n",
    "xxl_conv_txs = Quantity(xxl_conv_txs, 'keV')"
   ]
  },
  {
   "cell_type": "markdown",
   "id": "cce675ae",
   "metadata": {},
   "source": [
    "## Gas Density Profile Generation and Comparison to Literature - from $S_{B}$ Profiles"
   ]
  },
  {
   "cell_type": "markdown",
   "id": "93237f0b",
   "metadata": {},
   "source": []
  },
  {
   "cell_type": "markdown",
   "id": "91fbfd46",
   "metadata": {},
   "source": [
    "### Beta and King Profiles - out to 1.3$R_{500}$"
   ]
  },
  {
   "cell_type": "markdown",
   "id": "809534ab",
   "metadata": {},
   "source": []
  },
  {
   "cell_type": "code",
   "execution_count": 8,
   "id": "3be50990",
   "metadata": {},
   "outputs": [
    {
     "name": "stdout",
     "output_type": "stream",
     "text": [
      "╒═════════════════╤═════════════════════════════════════════════════════════════════════════════╕\n",
      "│ Beta Profile    │                                                                             │\n",
      "╞═════════════════╪═════════════════════════════════════════════════════════════════════════════╡\n",
      "│ DESCRIBES       │ Surface Brightness                                                          │\n",
      "├─────────────────┼─────────────────────────────────────────────────────────────────────────────┤\n",
      "│ UNIT            │ ct / (arcmin2 s)                                                            │\n",
      "├─────────────────┼─────────────────────────────────────────────────────────────────────────────┤\n",
      "│ PARAMETERS      │ beta, r_core, norm                                                          │\n",
      "├─────────────────┼─────────────────────────────────────────────────────────────────────────────┤\n",
      "│ PARAMETER UNITS │ , kpc, ct / (arcmin2 s)                                                     │\n",
      "├─────────────────┼─────────────────────────────────────────────────────────────────────────────┤\n",
      "│ AUTHOR          │ placeholder                                                                 │\n",
      "├─────────────────┼─────────────────────────────────────────────────────────────────────────────┤\n",
      "│ YEAR            │ placeholder                                                                 │\n",
      "├─────────────────┼─────────────────────────────────────────────────────────────────────────────┤\n",
      "│ PAPER           │ placeholder                                                                 │\n",
      "├─────────────────┼─────────────────────────────────────────────────────────────────────────────┤\n",
      "│ INFO            │ Essentially a projected isothermal king profile, it can be                  │\n",
      "│                 │ used to describe a simple galaxy cluster radial surface brightness profile. │\n",
      "╘═════════════════╧═════════════════════════════════════════════════════════════════════════════╛\n"
     ]
    },
    {
     "data": {
      "text/plain": [
       "[{'prior': <Quantity [0., 3.]>, 'type': 'uniform'},\n",
       " {'prior': <Quantity [   0., 2000.] kpc>, 'type': 'uniform'},\n",
       " {'prior': <Quantity [0., 3.] ct / (arcmin2 s)>, 'type': 'uniform'}]"
      ]
     },
     "execution_count": 8,
     "metadata": {},
     "output_type": "execute_result"
    }
   ],
   "source": [
    "demo_sb_mod = BetaProfile1D()\n",
    "demo_sb_mod.info()\n",
    "demo_sb_mod.par_priors"
   ]
  },
  {
   "cell_type": "markdown",
   "id": "0a0e578f",
   "metadata": {},
   "source": []
  },
  {
   "cell_type": "code",
   "execution_count": 9,
   "id": "f61c4763",
   "metadata": {
    "scrolled": true
   },
   "outputs": [
    {
     "name": "stderr",
     "output_type": "stream",
     "text": [
      "Running XSPEC Simulations: 100%|██████████████████████████████████████████████| 97/97 [00:32<00:00,  2.96it/s]\n",
      "Fitting data, inverse Abel transforming, and measuring densities:  14%|█      | 14/97 [05:21<32:50, 23.74s/it]/its/home/dt237/.conda/envs/dev_xga/lib/python3.8/site-packages/astropy/units/quantity.py:477: RuntimeWarning: invalid value encountered in sqrt\n",
      "  result = super().__array_ufunc__(function, method, *arrays, **kwargs)\n",
      "/mnt/pact/dt237/code/PycharmProjects/XGA/xga/sourcetools/density.py:531: UserWarning: One or more of the quantities passed to the init of XLSSC-84's density profile has a NaN or Inf value in it.\n",
      "  warn(\"One or more of the quantities passed to the init of {}'s density profile has a NaN or Inf value\"\n",
      "Fitting data, inverse Abel transforming, and measuring densities:  32%|██▏    | 31/97 [12:47<28:46, 26.15s/it]"
     ]
    },
    {
     "name": "stdout",
     "output_type": "stream",
     "text": [
      "The chain is shorter than 50 times the integrated autocorrelation time for 3 parameter(s). Use this estimate with caution and run a longer chain!\n",
      "N/50 = 400;\n",
      "tau: [ 522.3990568   952.27731963 1571.4358241 ]\n"
     ]
    },
    {
     "name": "stderr",
     "output_type": "stream",
     "text": [
      "Fitting data, inverse Abel transforming, and measuring densities:  37%|██▌    | 36/97 [15:11<28:53, 28.41s/it]"
     ]
    },
    {
     "name": "stdout",
     "output_type": "stream",
     "text": [
      "The chain is shorter than 50 times the integrated autocorrelation time for 2 parameter(s). Use this estimate with caution and run a longer chain!\n",
      "N/50 = 400;\n",
      "tau: [ 203.77074113 1538.75670892 1313.72185505]\n"
     ]
    },
    {
     "name": "stderr",
     "output_type": "stream",
     "text": [
      "Fitting data, inverse Abel transforming, and measuring densities:  44%|███    | 43/97 [18:19<23:16, 25.87s/it]"
     ]
    },
    {
     "name": "stdout",
     "output_type": "stream",
     "text": [
      "The chain is shorter than 50 times the integrated autocorrelation time for 2 parameter(s). Use this estimate with caution and run a longer chain!\n",
      "N/50 = 400;\n",
      "tau: [ 225.27099856 1144.81501493 1479.98061146]\n"
     ]
    },
    {
     "name": "stderr",
     "output_type": "stream",
     "text": [
      "Fitting data, inverse Abel transforming, and measuring densities:  62%|████▎  | 60/97 [25:56<15:39, 25.40s/it]/its/home/dt237/.conda/envs/dev_xga/lib/python3.8/site-packages/astropy/units/quantity.py:477: RuntimeWarning: invalid value encountered in sqrt\n",
      "  result = super().__array_ufunc__(function, method, *arrays, **kwargs)\n",
      "/mnt/pact/dt237/code/PycharmProjects/XGA/xga/sourcetools/density.py:531: UserWarning: One or more of the quantities passed to the init of XLSSC-531's density profile has a NaN or Inf value in it.\n",
      "  warn(\"One or more of the quantities passed to the init of {}'s density profile has a NaN or Inf value\"\n",
      "Fitting data, inverse Abel transforming, and measuring densities:  68%|████▊  | 66/97 [28:19<12:34, 24.35s/it]"
     ]
    },
    {
     "name": "stdout",
     "output_type": "stream",
     "text": [
      "The chain is shorter than 50 times the integrated autocorrelation time for 2 parameter(s). Use this estimate with caution and run a longer chain!\n",
      "N/50 = 400;\n",
      "tau: [474.59096642 517.56047229 313.36330646]\n"
     ]
    },
    {
     "name": "stderr",
     "output_type": "stream",
     "text": [
      "Fitting data, inverse Abel transforming, and measuring densities:  90%|██████▎| 87/97 [40:16<08:22, 50.27s/it]/its/home/dt237/.conda/envs/dev_xga/lib/python3.8/site-packages/astropy/units/quantity.py:477: RuntimeWarning: invalid value encountered in sqrt\n",
      "  result = super().__array_ufunc__(function, method, *arrays, **kwargs)\n",
      "/mnt/pact/dt237/code/PycharmProjects/XGA/xga/sourcetools/density.py:531: UserWarning: One or more of the quantities passed to the init of XLSSC-548's density profile has a NaN or Inf value in it.\n",
      "  warn(\"One or more of the quantities passed to the init of {}'s density profile has a NaN or Inf value\"\n",
      "Fitting data, inverse Abel transforming, and measuring densities: 100%|████| 97/97 [3:23:55<00:00, 126.14s/it]\n"
     ]
    }
   ],
   "source": [
    "xxl_beta_13_dp = inv_abel_fitted_model(xxl_srcs, 'beta', 'mcmc', xxl_srcs.r500*1.3, \n",
    "                                       conv_temp=xxl_conv_txs, conv_outer_radius=Quantity(300, 'kpc'))"
   ]
  },
  {
   "cell_type": "markdown",
   "id": "a1e322e5",
   "metadata": {},
   "source": []
  },
  {
   "cell_type": "code",
   "execution_count": 13,
   "id": "d91de399",
   "metadata": {},
   "outputs": [
    {
     "name": "stdout",
     "output_type": "stream",
     "text": [
      "╒═════════════════╤═════════════════════════════════════════════════════════════════════════╕\n",
      "│ King Profile    │                                                                         │\n",
      "╞═════════════════╪═════════════════════════════════════════════════════════════════════════╡\n",
      "│ DESCRIBES       │ Gas Density                                                             │\n",
      "├─────────────────┼─────────────────────────────────────────────────────────────────────────┤\n",
      "│ UNIT            │ 1 / cm3                                                                 │\n",
      "├─────────────────┼─────────────────────────────────────────────────────────────────────────┤\n",
      "│ PARAMETERS      │ beta, r_core, norm                                                      │\n",
      "├─────────────────┼─────────────────────────────────────────────────────────────────────────┤\n",
      "│ PARAMETER UNITS │ , kpc, 1 / cm3                                                          │\n",
      "├─────────────────┼─────────────────────────────────────────────────────────────────────────┤\n",
      "│ AUTHOR          │ placeholder                                                             │\n",
      "├─────────────────┼─────────────────────────────────────────────────────────────────────────┤\n",
      "│ YEAR            │ placeholder                                                             │\n",
      "├─────────────────┼─────────────────────────────────────────────────────────────────────────┤\n",
      "│ PAPER           │ placeholder                                                             │\n",
      "├─────────────────┼─────────────────────────────────────────────────────────────────────────┤\n",
      "│ INFO            │ The un-projected version of the beta profile, suitable for a simple fit │\n",
      "│                 │  to 3D density distributions. Describes a simple isothermal sphere.     │\n",
      "╘═════════════════╧═════════════════════════════════════════════════════════════════════════╛\n"
     ]
    },
    {
     "data": {
      "text/plain": [
       "[{'prior': <Quantity [0., 3.]>, 'type': 'uniform'},\n",
       " {'prior': <Quantity [   0., 2000.] kpc>, 'type': 'uniform'},\n",
       " {'prior': <Quantity [ 0., 10.] 1 / cm3>, 'type': 'uniform'}]"
      ]
     },
     "execution_count": 13,
     "metadata": {},
     "output_type": "execute_result"
    }
   ],
   "source": [
    "demo_d_mod = KingProfile1D(y_unit=Unit(\"1 / cm^3\"))\n",
    "demo_d_mod.info()\n",
    "demo_d_mod.par_priors"
   ]
  },
  {
   "cell_type": "markdown",
   "id": "627e75ab",
   "metadata": {},
   "source": []
  },
  {
   "cell_type": "code",
   "execution_count": 16,
   "id": "502d8cbe",
   "metadata": {},
   "outputs": [
    {
     "name": "stderr",
     "output_type": "stream",
     "text": [
      "Fitting density model to XXL profiles:  33%|███████████▏                      | 32/97 [16:22<36:12, 33.42s/it]"
     ]
    },
    {
     "name": "stdout",
     "output_type": "stream",
     "text": [
      "The chain is shorter than 50 times the integrated autocorrelation time for 2 parameter(s). Use this estimate with caution and run a longer chain!\n",
      "N/50 = 600;\n",
      "tau: [ 495.18632452 3180.7455314  3222.13470549]\n"
     ]
    },
    {
     "name": "stderr",
     "output_type": "stream",
     "text": [
      "Fitting density model to XXL profiles:  37%|████████████▌                     | 36/97 [18:34<33:42, 33.16s/it]/mnt/pact/dt237/code/PycharmProjects/XGA/xga/products/base.py:1010: UserWarning: Optimal parameters not found: The maximum number of function evaluations is exceeded., curve_fit has failed.\n",
      "  warn(\"{}, curve_fit has failed.\".format(str(r_err)))\n",
      "/mnt/pact/dt237/code/PycharmProjects/XGA/xga/products/base.py:810: UserWarning: Maximum likelihood estimator has produced at least one start parameter that is outside the allowed values defined by the prior, reverting to default start parameters for this model.\n",
      "  warn(\"Maximum likelihood estimator has produced at least one start parameter that is outside\"\n",
      "Fitting density model to XXL profiles:  84%|████████████████████████████▍     | 81/97 [41:58<08:21, 31.33s/it]"
     ]
    },
    {
     "name": "stdout",
     "output_type": "stream",
     "text": [
      "The chain is shorter than 50 times the integrated autocorrelation time for 2 parameter(s). Use this estimate with caution and run a longer chain!\n",
      "N/50 = 600;\n",
      "tau: [ 514.3766724  1325.47056331 1282.43640001]\n"
     ]
    },
    {
     "name": "stderr",
     "output_type": "stream",
     "text": [
      "Fitting density model to XXL profiles: 100%|██████████████████████████████████| 97/97 [49:48<00:00, 30.80s/it]\n"
     ]
    }
   ],
   "source": [
    "with tqdm(desc=\"Fitting density model to XXL profiles\", total=len(xxl_beta_13_dp)) as onwards:\n",
    "    for dp in xxl_beta_13_dp:\n",
    "        if dp is not None:\n",
    "            dp.fit('king', progress_bar=False)\n",
    "        onwards.update(1)\n"
   ]
  },
  {
   "cell_type": "code",
   "execution_count": 17,
   "id": "112df31a",
   "metadata": {},
   "outputs": [
    {
     "name": "stderr",
     "output_type": "stream",
     "text": [
      "Calculating XXL gas masses:  37%|████████████████▋                            | 36/97 [00:37<01:12,  1.19s/it]/mnt/pact/dt237/code/PycharmProjects/XGA/xga/models/base.py:423: IntegrationWarning: The integral is probably divergent, or slowly convergent.\n",
      "  integral_res[par_ind] = 4 * np.pi * quad(integrand, 0, outer_radius.value,\n",
      "Calculating XXL gas masses: 100%|█████████████████████████████████████████████| 97/97 [01:51<00:00,  1.15s/it]\n"
     ]
    }
   ],
   "source": [
    "xxl_beta_king_13_gm = []\n",
    "with tqdm(desc=\"Calculating XXL gas masses\", total=len(xxl_beta_13_dp)) as onwards:\n",
    "    for dp in xxl_beta_13_dp:\n",
    "        if dp is not None:\n",
    "            gm = dp.gas_mass(\"king\", xxl_srcs[dp.src_name].r500)[0]\n",
    "            xxl_beta_king_13_gm.append(gm)\n",
    "        else:\n",
    "            xxl_beta_king_13_gm.append([np.NaN, np.NaN, np.NaN])\n",
    "        onwards.update(1)\n",
    "        \n",
    "xxl_beta_king_13_gm = Quantity(xxl_beta_king_13_gm, 'Msun')"
   ]
  },
  {
   "cell_type": "code",
   "execution_count": 31,
   "id": "388494ed",
   "metadata": {},
   "outputs": [
    {
     "data": {
      "image/png": "[encoded data removed]",
      "text/plain": [
       "<Figure size 432x432 with 1 Axes>"
      ]
     },
     "metadata": {
      "needs_background": "light"
     },
     "output_type": "display_data"
    }
   ],
   "source": [
    "# Setting the y-position and font size of the a, b, and c labels that are added below the subplots\n",
    "sublabel_ypos = -0.115\n",
    "sublabel_fsize = 14\n",
    "\n",
    "# Set up the matplotlib figure with 3 columns, meaning three subplots\n",
    "fig, ax = plt.subplots(ncols=1, figsize=(6, 6))\n",
    "\n",
    "ax.minorticks_on()\n",
    "ax.tick_params(which='both', top=True, right=True, direction='in')\n",
    "plt.sca(ax)\n",
    "\n",
    "# Fetching appropriate limits for comparing the two sets of gas-mass measurements\n",
    "xxl_lims = find_lims(xxl_lit_gms, xxl_beta_king_13_gm).value\n",
    "\n",
    "# Plotting a 1:1 line to help with comparisons\n",
    "plt.plot(xxl_lims, xxl_lims, color='red', linestyle=\"dashed\", label=\"1:1\")\n",
    "# Plotting the two datasets with uncertainties\n",
    "plt.errorbar(xxl_lit_gms[:, 0].value, xxl_beta_king_13_gm[:, 0].value, xerr=xxl_lit_gms[:, 1].value, \n",
    "             yerr=xxl_beta_king_13_gm[:, 1:].T.value, fmt='x', \n",
    "             color=xxlgc100_colour, capsize=2, label=\"XXL-100-GC\")\n",
    "\n",
    "# # Labelling axes, setting labels etc.\n",
    "ax.set_xlabel(r\"XXL Gas Mass [M$_{\\odot}$]\", fontsize=15)\n",
    "ax.set_xlim(xxl_lims)\n",
    "ax.set_ylabel(\"XGA Gas Mass [M$_{\\odot}$]\", fontsize=15)\n",
    "ax.set_ylim(xxl_lims)\n",
    "\n",
    "ax.set_xscale('log')\n",
    "ax.set_yscale('log')\n",
    "\n",
    "\n",
    "ax.legend(loc='best', fontsize=14)\n",
    "\n",
    "# Saving and plotting the resulting figure\n",
    "plt.tight_layout()\n",
    "# plt.savefig(\"non_paper_figures/xxl_beta_king_1.3r500_gm_comp.pdf\")\n",
    "plt.show()\n",
    "plt.close('all')"
   ]
  },
  {
   "cell_type": "markdown",
   "id": "19e6bebd",
   "metadata": {},
   "source": [
    "### Double Beta and Simplified Vikhlinin Profiles - out to 1.3$R_{500}$"
   ]
  },
  {
   "cell_type": "markdown",
   "id": "6f68ee12",
   "metadata": {},
   "source": []
  },
  {
   "cell_type": "markdown",
   "id": "bd5741f1",
   "metadata": {},
   "source": []
  },
  {
   "cell_type": "code",
   "execution_count": 23,
   "id": "035973f6",
   "metadata": {
    "scrolled": false
   },
   "outputs": [
    {
     "name": "stdout",
     "output_type": "stream",
     "text": [
      "╒═══════════════════════╤════════════════════════════════════════════════════════════════════════════╕\n",
      "│ Double Beta Profile   │                                                                            │\n",
      "╞═══════════════════════╪════════════════════════════════════════════════════════════════════════════╡\n",
      "│ DESCRIBES             │ Surface Brightness                                                         │\n",
      "├───────────────────────┼────────────────────────────────────────────────────────────────────────────┤\n",
      "│ UNIT                  │ ct / (arcmin2 s)                                                           │\n",
      "├───────────────────────┼────────────────────────────────────────────────────────────────────────────┤\n",
      "│ PARAMETERS            │ beta_one, r_core_one, norm_one, beta_two, r_core_two, norm_two             │\n",
      "├───────────────────────┼────────────────────────────────────────────────────────────────────────────┤\n",
      "│ PARAMETER UNITS       │ , kpc, ct / (arcmin2 s), , kpc, ct / (arcmin2 s)                           │\n",
      "├───────────────────────┼────────────────────────────────────────────────────────────────────────────┤\n",
      "│ AUTHOR                │ placeholder                                                                │\n",
      "├───────────────────────┼────────────────────────────────────────────────────────────────────────────┤\n",
      "│ YEAR                  │ placeholder                                                                │\n",
      "├───────────────────────┼────────────────────────────────────────────────────────────────────────────┤\n",
      "│ PAPER                 │ placeholder                                                                │\n",
      "├───────────────────────┼────────────────────────────────────────────────────────────────────────────┤\n",
      "│ INFO                  │ The double beta profile, a summation of two single beta models. Often      │\n",
      "│                       │  thought to deal better with peaky cluster cores that you might get from a │\n",
      "│                       │  cool-core cluster, this model can be used to describe a galaxy cluster    │\n",
      "│                       │  radial surface brightness profile.                                        │\n",
      "╘═══════════════════════╧════════════════════════════════════════════════════════════════════════════╛\n"
     ]
    },
    {
     "data": {
      "text/plain": [
       "[{'prior': <Quantity [0., 3.]>, 'type': 'uniform'},\n",
       " {'prior': <Quantity [1.e+00, 2.e+03] kpc>, 'type': 'uniform'},\n",
       " {'prior': <Quantity [0., 3.] ct / (arcmin2 s)>, 'type': 'uniform'},\n",
       " {'prior': <Quantity [0., 3.]>, 'type': 'uniform'},\n",
       " {'prior': <Quantity [1.e+00, 2.e+03] kpc>, 'type': 'uniform'},\n",
       " {'prior': <Quantity [0., 3.] ct / (arcmin2 s)>, 'type': 'uniform'}]"
      ]
     },
     "execution_count": 23,
     "metadata": {},
     "output_type": "execute_result"
    }
   ],
   "source": [
    "demo_sb_mod = DoubleBetaProfile1D()\n",
    "demo_sb_mod.info()\n",
    "demo_sb_mod.par_priors"
   ]
  },
  {
   "cell_type": "code",
   "execution_count": 24,
   "id": "b1822fc4",
   "metadata": {
    "scrolled": true
   },
   "outputs": [
    {
     "name": "stderr",
     "output_type": "stream",
     "text": [
      "/mnt/pact/dt237/code/PycharmProjects/XGA/xga/xspec/run.py:186: UserWarning: All XSPEC operations had already been run.\n",
      "  warnings.warn(\"All XSPEC operations had already been run.\")\n",
      "Fitting data, inverse Abel transforming, and measuring densities:   0%|                | 0/97 [00:00<?, ?it/s]/its/home/dt237/.conda/envs/dev_xga/lib/python3.8/site-packages/astropy/units/quantity.py:477: RuntimeWarning: invalid value encountered in sqrt\n",
      "  result = super().__array_ufunc__(function, method, *arrays, **kwargs)\n",
      "/mnt/pact/dt237/code/PycharmProjects/XGA/xga/sourcetools/density.py:531: UserWarning: One or more of the quantities passed to the init of XLSSC-94's density profile has a NaN or Inf value in it.\n",
      "  warn(\"One or more of the quantities passed to the init of {}'s density profile has a NaN or Inf value\"\n",
      "Fitting data, inverse Abel transforming, and measuring densities:   1%|        | 1/97 [00:19<31:49, 19.89s/it]"
     ]
    },
    {
     "name": "stdout",
     "output_type": "stream",
     "text": [
      "The chain is shorter than 50 times the integrated autocorrelation time for 6 parameter(s). Use this estimate with caution and run a longer chain!\n",
      "N/50 = 400;\n",
      "tau: [686.37775934 741.7841404  740.29701057 472.07979104 609.42800368\n",
      " 825.60259852]\n"
     ]
    },
    {
     "name": "stderr",
     "output_type": "stream",
     "text": [
      "/its/home/dt237/.conda/envs/dev_xga/lib/python3.8/site-packages/astropy/units/quantity.py:477: RuntimeWarning: invalid value encountered in sqrt\n",
      "  result = super().__array_ufunc__(function, method, *arrays, **kwargs)\n",
      "/mnt/pact/dt237/code/PycharmProjects/XGA/xga/sourcetools/density.py:531: UserWarning: One or more of the quantities passed to the init of XLSSC-96's density profile has a NaN or Inf value in it.\n",
      "  warn(\"One or more of the quantities passed to the init of {}'s density profile has a NaN or Inf value\"\n",
      "\r",
      "Fitting data, inverse Abel transforming, and measuring densities:   2%|▏       | 2/97 [00:41<33:15, 21.01s/it]"
     ]
    },
    {
     "name": "stdout",
     "output_type": "stream",
     "text": [
      "The chain is shorter than 50 times the integrated autocorrelation time for 4 parameter(s). Use this estimate with caution and run a longer chain!\n",
      "N/50 = 400;\n",
      "tau: [ 329.05752767  577.16432534 1306.4929303   267.83060745  487.82935008\n",
      " 1180.83390794]\n"
     ]
    },
    {
     "name": "stderr",
     "output_type": "stream",
     "text": [
      "/its/home/dt237/.conda/envs/dev_xga/lib/python3.8/site-packages/astropy/units/quantity.py:477: RuntimeWarning: invalid value encountered in sqrt\n",
      "  result = super().__array_ufunc__(function, method, *arrays, **kwargs)\n",
      "/mnt/pact/dt237/code/PycharmProjects/XGA/xga/sourcetools/density.py:531: UserWarning: One or more of the quantities passed to the init of XLSSC-102's density profile has a NaN or Inf value in it.\n",
      "  warn(\"One or more of the quantities passed to the init of {}'s density profile has a NaN or Inf value\"\n",
      "Fitting data, inverse Abel transforming, and measuring densities:   3%|▏       | 3/97 [01:02<32:35, 20.80s/it]/its/home/dt237/.conda/envs/dev_xga/lib/python3.8/site-packages/astropy/units/quantity.py:477: RuntimeWarning: invalid value encountered in sqrt\n",
      "  result = super().__array_ufunc__(function, method, *arrays, **kwargs)\n",
      "/mnt/pact/dt237/code/PycharmProjects/XGA/xga/sourcetools/density.py:531: UserWarning: One or more of the quantities passed to the init of XLSSC-106's density profile has a NaN or Inf value in it.\n",
      "  warn(\"One or more of the quantities passed to the init of {}'s density profile has a NaN or Inf value\"\n",
      "Fitting data, inverse Abel transforming, and measuring densities:   4%|▎       | 4/97 [01:24<33:19, 21.50s/it]"
     ]
    },
    {
     "name": "stdout",
     "output_type": "stream",
     "text": [
      "The chain is shorter than 50 times the integrated autocorrelation time for 5 parameter(s). Use this estimate with caution and run a longer chain!\n",
      "N/50 = 400;\n",
      "tau: [ 392.94762889  770.92557841 1285.6266838   493.63458676  902.14651249\n",
      " 1194.16721224]\n"
     ]
    },
    {
     "name": "stderr",
     "output_type": "stream",
     "text": [
      "/its/home/dt237/.conda/envs/dev_xga/lib/python3.8/site-packages/astropy/units/quantity.py:477: RuntimeWarning: invalid value encountered in sqrt\n",
      "  result = super().__array_ufunc__(function, method, *arrays, **kwargs)\n",
      "/mnt/pact/dt237/code/PycharmProjects/XGA/xga/sourcetools/density.py:531: UserWarning: One or more of the quantities passed to the init of XLSSC-107's density profile has a NaN or Inf value in it.\n",
      "  warn(\"One or more of the quantities passed to the init of {}'s density profile has a NaN or Inf value\"\n",
      "\r",
      "Fitting data, inverse Abel transforming, and measuring densities:   5%|▍       | 5/97 [01:45<32:24, 21.14s/it]"
     ]
    },
    {
     "name": "stdout",
     "output_type": "stream",
     "text": [
      "The chain is shorter than 50 times the integrated autocorrelation time for 4 parameter(s). Use this estimate with caution and run a longer chain!\n",
      "N/50 = 400;\n",
      "tau: [ 359.48629833  929.72325844 1031.5058882   314.4140635   635.81984978\n",
      "  996.63791553]\n"
     ]
    },
    {
     "name": "stderr",
     "output_type": "stream",
     "text": [
      "/its/home/dt237/.conda/envs/dev_xga/lib/python3.8/site-packages/astropy/units/quantity.py:477: RuntimeWarning: invalid value encountered in sqrt\n",
      "  result = super().__array_ufunc__(function, method, *arrays, **kwargs)\n",
      "/mnt/pact/dt237/code/PycharmProjects/XGA/xga/sourcetools/density.py:531: UserWarning: One or more of the quantities passed to the init of XLSSC-100's density profile has a NaN or Inf value in it.\n",
      "  warn(\"One or more of the quantities passed to the init of {}'s density profile has a NaN or Inf value\"\n",
      "\r",
      "Fitting data, inverse Abel transforming, and measuring densities:   6%|▍       | 6/97 [02:05<31:37, 20.85s/it]"
     ]
    },
    {
     "name": "stdout",
     "output_type": "stream",
     "text": [
      "The chain is shorter than 50 times the integrated autocorrelation time for 6 parameter(s). Use this estimate with caution and run a longer chain!\n",
      "N/50 = 400;\n",
      "tau: [ 662.9100648  1191.76767868  833.64344859  524.06438244 1077.79814291\n",
      "  701.95299829]\n"
     ]
    },
    {
     "name": "stderr",
     "output_type": "stream",
     "text": [
      "/its/home/dt237/.conda/envs/dev_xga/lib/python3.8/site-packages/astropy/units/quantity.py:477: RuntimeWarning: invalid value encountered in sqrt\n",
      "  result = super().__array_ufunc__(function, method, *arrays, **kwargs)\n",
      "/mnt/pact/dt237/code/PycharmProjects/XGA/xga/sourcetools/density.py:531: UserWarning: One or more of the quantities passed to the init of XLSSC-93's density profile has a NaN or Inf value in it.\n",
      "  warn(\"One or more of the quantities passed to the init of {}'s density profile has a NaN or Inf value\"\n",
      "\r",
      "Fitting data, inverse Abel transforming, and measuring densities:   7%|▌       | 7/97 [02:27<31:48, 21.21s/it]"
     ]
    },
    {
     "name": "stdout",
     "output_type": "stream",
     "text": [
      "The chain is shorter than 50 times the integrated autocorrelation time for 6 parameter(s). Use this estimate with caution and run a longer chain!\n",
      "N/50 = 400;\n",
      "tau: [ 454.10562954 1106.65640189 1566.7403783   687.29358988 1386.85021114\n",
      " 1589.19456155]\n"
     ]
    },
    {
     "name": "stderr",
     "output_type": "stream",
     "text": [
      "/its/home/dt237/.conda/envs/dev_xga/lib/python3.8/site-packages/astropy/units/quantity.py:477: RuntimeWarning: invalid value encountered in sqrt\n",
      "  result = super().__array_ufunc__(function, method, *arrays, **kwargs)\n",
      "/mnt/pact/dt237/code/PycharmProjects/XGA/xga/sourcetools/density.py:531: UserWarning: One or more of the quantities passed to the init of XLSSC-108's density profile has a NaN or Inf value in it.\n",
      "  warn(\"One or more of the quantities passed to the init of {}'s density profile has a NaN or Inf value\"\n",
      "\r",
      "Fitting data, inverse Abel transforming, and measuring densities:   8%|▋       | 8/97 [02:48<31:31, 21.25s/it]"
     ]
    },
    {
     "name": "stdout",
     "output_type": "stream",
     "text": [
      "The chain is shorter than 50 times the integrated autocorrelation time for 4 parameter(s). Use this estimate with caution and run a longer chain!\n",
      "N/50 = 400;\n",
      "tau: [ 496.32974633 1879.81505013 2069.07951078  216.96276629  261.54789372\n",
      " 1794.8681846 ]\n"
     ]
    },
    {
     "name": "stderr",
     "output_type": "stream",
     "text": [
      "/its/home/dt237/.conda/envs/dev_xga/lib/python3.8/site-packages/astropy/units/quantity.py:477: RuntimeWarning: invalid value encountered in sqrt\n",
      "  result = super().__array_ufunc__(function, method, *arrays, **kwargs)\n",
      "/mnt/pact/dt237/code/PycharmProjects/XGA/xga/sourcetools/density.py:531: UserWarning: One or more of the quantities passed to the init of XLSSC-95's density profile has a NaN or Inf value in it.\n",
      "  warn(\"One or more of the quantities passed to the init of {}'s density profile has a NaN or Inf value\"\n",
      "\r",
      "Fitting data, inverse Abel transforming, and measuring densities:   9%|▋       | 9/97 [03:09<30:47, 21.00s/it]"
     ]
    },
    {
     "name": "stdout",
     "output_type": "stream",
     "text": [
      "The chain is shorter than 50 times the integrated autocorrelation time for 4 parameter(s). Use this estimate with caution and run a longer chain!\n",
      "N/50 = 400;\n",
      "tau: [290.76386798 687.5465479  760.88289071 359.22988478 760.334645\n",
      " 733.94839846]\n"
     ]
    },
    {
     "name": "stderr",
     "output_type": "stream",
     "text": [
      "/its/home/dt237/.conda/envs/dev_xga/lib/python3.8/site-packages/astropy/units/quantity.py:477: RuntimeWarning: invalid value encountered in sqrt\n",
      "  result = super().__array_ufunc__(function, method, *arrays, **kwargs)\n",
      "/mnt/pact/dt237/code/PycharmProjects/XGA/xga/sourcetools/density.py:531: UserWarning: One or more of the quantities passed to the init of XLSSC-92's density profile has a NaN or Inf value in it.\n",
      "  warn(\"One or more of the quantities passed to the init of {}'s density profile has a NaN or Inf value\"\n",
      "\r",
      "Fitting data, inverse Abel transforming, and measuring densities:  10%|▋      | 10/97 [03:30<30:25, 20.98s/it]"
     ]
    },
    {
     "name": "stdout",
     "output_type": "stream",
     "text": [
      "The chain is shorter than 50 times the integrated autocorrelation time for 4 parameter(s). Use this estimate with caution and run a longer chain!\n",
      "N/50 = 400;\n",
      "tau: [ 416.26526135 1108.58885386 1830.75016938  198.57217896  303.6342853\n",
      " 1504.81857042]\n"
     ]
    },
    {
     "name": "stderr",
     "output_type": "stream",
     "text": [
      "/its/home/dt237/.conda/envs/dev_xga/lib/python3.8/site-packages/astropy/units/quantity.py:477: RuntimeWarning: invalid value encountered in sqrt\n",
      "  result = super().__array_ufunc__(function, method, *arrays, **kwargs)\n",
      "/mnt/pact/dt237/code/PycharmProjects/XGA/xga/sourcetools/density.py:531: UserWarning: One or more of the quantities passed to the init of XLSSC-101's density profile has a NaN or Inf value in it.\n",
      "  warn(\"One or more of the quantities passed to the init of {}'s density profile has a NaN or Inf value\"\n",
      "\r",
      "Fitting data, inverse Abel transforming, and measuring densities:  11%|▊      | 11/97 [03:51<30:01, 20.94s/it]"
     ]
    },
    {
     "name": "stdout",
     "output_type": "stream",
     "text": [
      "The chain is shorter than 50 times the integrated autocorrelation time for 6 parameter(s). Use this estimate with caution and run a longer chain!\n",
      "N/50 = 400;\n",
      "tau: [486.99242098 865.96421963 867.12275198 480.83254337 653.2129199\n",
      " 713.79439048]\n"
     ]
    },
    {
     "name": "stderr",
     "output_type": "stream",
     "text": [
      "/its/home/dt237/.conda/envs/dev_xga/lib/python3.8/site-packages/astropy/units/quantity.py:477: RuntimeWarning: invalid value encountered in sqrt\n",
      "  result = super().__array_ufunc__(function, method, *arrays, **kwargs)\n",
      "/mnt/pact/dt237/code/PycharmProjects/XGA/xga/sourcetools/density.py:531: UserWarning: One or more of the quantities passed to the init of XLSSC-109's density profile has a NaN or Inf value in it.\n",
      "  warn(\"One or more of the quantities passed to the init of {}'s density profile has a NaN or Inf value\"\n",
      "\r",
      "Fitting data, inverse Abel transforming, and measuring densities:  12%|▊      | 12/97 [04:11<29:31, 20.84s/it]"
     ]
    },
    {
     "name": "stdout",
     "output_type": "stream",
     "text": [
      "The chain is shorter than 50 times the integrated autocorrelation time for 4 parameter(s). Use this estimate with caution and run a longer chain!\n",
      "N/50 = 400;\n",
      "tau: [281.57724556 544.12861872 614.02670328 315.38687468 588.0708008\n",
      " 625.82195219]\n"
     ]
    },
    {
     "name": "stderr",
     "output_type": "stream",
     "text": [
      "/its/home/dt237/.conda/envs/dev_xga/lib/python3.8/site-packages/astropy/units/quantity.py:477: RuntimeWarning: invalid value encountered in sqrt\n",
      "  result = super().__array_ufunc__(function, method, *arrays, **kwargs)\n",
      "/mnt/pact/dt237/code/PycharmProjects/XGA/xga/sourcetools/density.py:531: UserWarning: One or more of the quantities passed to the init of XLSSC-112's density profile has a NaN or Inf value in it.\n",
      "  warn(\"One or more of the quantities passed to the init of {}'s density profile has a NaN or Inf value\"\n",
      "\r",
      "Fitting data, inverse Abel transforming, and measuring densities:  13%|▉      | 13/97 [04:35<30:22, 21.70s/it]"
     ]
    },
    {
     "name": "stdout",
     "output_type": "stream",
     "text": [
      "The chain is shorter than 50 times the integrated autocorrelation time for 5 parameter(s). Use this estimate with caution and run a longer chain!\n",
      "N/50 = 400;\n",
      "tau: [ 554.54483014 1655.67816447 2083.05639251  347.5329359   430.71573217\n",
      " 1975.34819445]\n"
     ]
    },
    {
     "name": "stderr",
     "output_type": "stream",
     "text": [
      "/its/home/dt237/.conda/envs/dev_xga/lib/python3.8/site-packages/astropy/units/quantity.py:477: RuntimeWarning: invalid value encountered in sqrt\n",
      "  result = super().__array_ufunc__(function, method, *arrays, **kwargs)\n",
      "/mnt/pact/dt237/code/PycharmProjects/XGA/xga/sourcetools/density.py:531: UserWarning: One or more of the quantities passed to the init of XLSSC-83's density profile has a NaN or Inf value in it.\n",
      "  warn(\"One or more of the quantities passed to the init of {}'s density profile has a NaN or Inf value\"\n",
      "\r",
      "Fitting data, inverse Abel transforming, and measuring densities:  14%|█      | 14/97 [04:56<29:45, 21.51s/it]"
     ]
    },
    {
     "name": "stdout",
     "output_type": "stream",
     "text": [
      "The chain is shorter than 50 times the integrated autocorrelation time for 5 parameter(s). Use this estimate with caution and run a longer chain!\n",
      "N/50 = 400;\n",
      "tau: [ 425.38443926  987.46264875  884.35023808  380.50978159  945.21217258\n",
      " 1056.67772061]\n"
     ]
    },
    {
     "name": "stderr",
     "output_type": "stream",
     "text": [
      "/its/home/dt237/.conda/envs/dev_xga/lib/python3.8/site-packages/astropy/units/quantity.py:477: RuntimeWarning: invalid value encountered in sqrt\n",
      "  result = super().__array_ufunc__(function, method, *arrays, **kwargs)\n",
      "/mnt/pact/dt237/code/PycharmProjects/XGA/xga/sourcetools/density.py:531: UserWarning: One or more of the quantities passed to the init of XLSSC-84's density profile has a NaN or Inf value in it.\n",
      "  warn(\"One or more of the quantities passed to the init of {}'s density profile has a NaN or Inf value\"\n",
      "\r",
      "Fitting data, inverse Abel transforming, and measuring densities:  15%|█      | 15/97 [05:16<28:58, 21.20s/it]"
     ]
    },
    {
     "name": "stdout",
     "output_type": "stream",
     "text": [
      "The chain is shorter than 50 times the integrated autocorrelation time for 5 parameter(s). Use this estimate with caution and run a longer chain!\n",
      "N/50 = 400;\n",
      "tau: [ 351.60469187  490.59569336 2282.46930313  626.75387911  624.04794265\n",
      "  954.85974755]\n"
     ]
    },
    {
     "name": "stderr",
     "output_type": "stream",
     "text": [
      "\r",
      "Fitting data, inverse Abel transforming, and measuring densities:  16%|█▏     | 16/97 [05:38<28:43, 21.28s/it]"
     ]
    },
    {
     "name": "stdout",
     "output_type": "stream",
     "text": [
      "The chain is shorter than 50 times the integrated autocorrelation time for 4 parameter(s). Use this estimate with caution and run a longer chain!\n",
      "N/50 = 400;\n",
      "tau: [256.55311236 578.41690985 884.55059098 277.39911592 426.8158331\n",
      " 770.96627001]\n"
     ]
    },
    {
     "name": "stderr",
     "output_type": "stream",
     "text": [
      "\r",
      "Fitting data, inverse Abel transforming, and measuring densities:  18%|█▏     | 17/97 [06:01<29:10, 21.88s/it]"
     ]
    },
    {
     "name": "stdout",
     "output_type": "stream",
     "text": [
      "The chain is shorter than 50 times the integrated autocorrelation time for 6 parameter(s). Use this estimate with caution and run a longer chain!\n",
      "N/50 = 400;\n",
      "tau: [ 432.92033613 1103.25194457 1800.41331219 1316.17074842 1719.0991311\n",
      " 1595.78931926]\n"
     ]
    },
    {
     "name": "stderr",
     "output_type": "stream",
     "text": [
      "/its/home/dt237/.conda/envs/dev_xga/lib/python3.8/site-packages/astropy/units/quantity.py:477: RuntimeWarning: invalid value encountered in sqrt\n",
      "  result = super().__array_ufunc__(function, method, *arrays, **kwargs)\n",
      "/mnt/pact/dt237/code/PycharmProjects/XGA/xga/sourcetools/density.py:531: UserWarning: One or more of the quantities passed to the init of XLSSC-98's density profile has a NaN or Inf value in it.\n",
      "  warn(\"One or more of the quantities passed to the init of {}'s density profile has a NaN or Inf value\"\n",
      "\r",
      "Fitting data, inverse Abel transforming, and measuring densities:  19%|█▎     | 18/97 [06:24<29:19, 22.27s/it]"
     ]
    },
    {
     "name": "stdout",
     "output_type": "stream",
     "text": [
      "The chain is shorter than 50 times the integrated autocorrelation time for 4 parameter(s). Use this estimate with caution and run a longer chain!\n",
      "N/50 = 400;\n",
      "tau: [ 242.44659967  379.2538491  1420.76658132 1058.81297583  790.14941199\n",
      "  625.88526151]\n"
     ]
    },
    {
     "name": "stderr",
     "output_type": "stream",
     "text": [
      "\r",
      "Fitting data, inverse Abel transforming, and measuring densities:  20%|█▎     | 19/97 [06:46<28:49, 22.17s/it]"
     ]
    },
    {
     "name": "stdout",
     "output_type": "stream",
     "text": [
      "The chain is shorter than 50 times the integrated autocorrelation time for 3 parameter(s). Use this estimate with caution and run a longer chain!\n",
      "N/50 = 400;\n",
      "tau: [306.99908701 507.56088928 551.97413351 259.65483544 478.68602662\n",
      " 392.44728569]\n"
     ]
    },
    {
     "name": "stderr",
     "output_type": "stream",
     "text": [
      "/its/home/dt237/.conda/envs/dev_xga/lib/python3.8/site-packages/astropy/units/quantity.py:477: RuntimeWarning: invalid value encountered in sqrt\n",
      "  result = super().__array_ufunc__(function, method, *arrays, **kwargs)\n",
      "/mnt/pact/dt237/code/PycharmProjects/XGA/xga/sourcetools/density.py:531: UserWarning: One or more of the quantities passed to the init of XLSSC-97's density profile has a NaN or Inf value in it.\n",
      "  warn(\"One or more of the quantities passed to the init of {}'s density profile has a NaN or Inf value\"\n",
      "\r",
      "Fitting data, inverse Abel transforming, and measuring densities:  21%|█▍     | 20/97 [07:07<27:54, 21.74s/it]"
     ]
    },
    {
     "name": "stdout",
     "output_type": "stream",
     "text": [
      "The chain is shorter than 50 times the integrated autocorrelation time for 6 parameter(s). Use this estimate with caution and run a longer chain!\n",
      "N/50 = 400;\n",
      "tau: [ 753.83976757  908.14917669 1270.9867958   750.73659271 1009.12298435\n",
      " 1297.91319742]\n"
     ]
    },
    {
     "name": "stderr",
     "output_type": "stream",
     "text": [
      "/its/home/dt237/.conda/envs/dev_xga/lib/python3.8/site-packages/astropy/units/quantity.py:477: RuntimeWarning: invalid value encountered in sqrt\n",
      "  result = super().__array_ufunc__(function, method, *arrays, **kwargs)\n",
      "/mnt/pact/dt237/code/PycharmProjects/XGA/xga/sourcetools/density.py:531: UserWarning: One or more of the quantities passed to the init of XLSSC-110's density profile has a NaN or Inf value in it.\n",
      "  warn(\"One or more of the quantities passed to the init of {}'s density profile has a NaN or Inf value\"\n",
      "\r",
      "Fitting data, inverse Abel transforming, and measuring densities:  22%|█▌     | 21/97 [07:28<27:21, 21.60s/it]"
     ]
    },
    {
     "name": "stdout",
     "output_type": "stream",
     "text": [
      "The chain is shorter than 50 times the integrated autocorrelation time for 2 parameter(s). Use this estimate with caution and run a longer chain!\n",
      "N/50 = 400;\n",
      "tau: [ 333.52273646  392.50427332 1943.66849575  216.37527157  335.8103671\n",
      " 1713.18372589]\n"
     ]
    },
    {
     "name": "stderr",
     "output_type": "stream",
     "text": [
      "Fitting data, inverse Abel transforming, and measuring densities:  23%|█▌     | 22/97 [07:56<29:25, 23.54s/it]/its/home/dt237/.conda/envs/dev_xga/lib/python3.8/site-packages/astropy/units/quantity.py:477: RuntimeWarning: invalid value encountered in sqrt\n",
      "  result = super().__array_ufunc__(function, method, *arrays, **kwargs)\n",
      "/mnt/pact/dt237/code/PycharmProjects/XGA/xga/sourcetools/density.py:531: UserWarning: One or more of the quantities passed to the init of XLSSC-72's density profile has a NaN or Inf value in it.\n",
      "  warn(\"One or more of the quantities passed to the init of {}'s density profile has a NaN or Inf value\"\n",
      "Fitting data, inverse Abel transforming, and measuring densities:  24%|█▋     | 23/97 [08:19<28:35, 23.18s/it]"
     ]
    },
    {
     "name": "stdout",
     "output_type": "stream",
     "text": [
      "The chain is shorter than 50 times the integrated autocorrelation time for 5 parameter(s). Use this estimate with caution and run a longer chain!\n",
      "N/50 = 400;\n",
      "tau: [ 362.58712241  600.79248925 1120.92189075  927.32793397 1102.26231539\n",
      "  929.62291416]\n"
     ]
    },
    {
     "name": "stderr",
     "output_type": "stream",
     "text": [
      "/its/home/dt237/.conda/envs/dev_xga/lib/python3.8/site-packages/astropy/units/quantity.py:477: RuntimeWarning: invalid value encountered in sqrt\n",
      "  result = super().__array_ufunc__(function, method, *arrays, **kwargs)\n",
      "/mnt/pact/dt237/code/PycharmProjects/XGA/xga/sourcetools/density.py:531: UserWarning: One or more of the quantities passed to the init of XLSSC-56's density profile has a NaN or Inf value in it.\n",
      "  warn(\"One or more of the quantities passed to the init of {}'s density profile has a NaN or Inf value\"\n",
      "\r",
      "Fitting data, inverse Abel transforming, and measuring densities:  25%|█▋     | 24/97 [08:41<27:47, 22.85s/it]"
     ]
    },
    {
     "name": "stdout",
     "output_type": "stream",
     "text": [
      "The chain is shorter than 50 times the integrated autocorrelation time for 4 parameter(s). Use this estimate with caution and run a longer chain!\n",
      "N/50 = 400;\n",
      "tau: [ 817.96115102 1458.08765    1848.17919884  247.5841474   275.04589635\n",
      " 1785.22233605]\n",
      "The chain is shorter than 50 times the integrated autocorrelation time for 2 parameter(s). Use this estimate with caution and run a longer chain!\n",
      "N/50 = 400;\n",
      "tau: [ 223.18902348  553.17072179 1026.94994498  231.76278153  240.88980712\n",
      "  235.97956592]\n"
     ]
    },
    {
     "name": "stderr",
     "output_type": "stream",
     "text": [
      "Fitting data, inverse Abel transforming, and measuring densities:  26%|█▊     | 25/97 [09:06<28:11, 23.49s/it]/its/home/dt237/.conda/envs/dev_xga/lib/python3.8/site-packages/astropy/units/quantity.py:477: RuntimeWarning: invalid value encountered in sqrt\n",
      "  result = super().__array_ufunc__(function, method, *arrays, **kwargs)\n",
      "/mnt/pact/dt237/code/PycharmProjects/XGA/xga/sourcetools/density.py:531: UserWarning: One or more of the quantities passed to the init of XLSSC-23's density profile has a NaN or Inf value in it.\n",
      "  warn(\"One or more of the quantities passed to the init of {}'s density profile has a NaN or Inf value\"\n",
      "Fitting data, inverse Abel transforming, and measuring densities:  27%|█▉     | 26/97 [09:26<26:43, 22.58s/it]"
     ]
    },
    {
     "name": "stdout",
     "output_type": "stream",
     "text": [
      "The chain is shorter than 50 times the integrated autocorrelation time for 6 parameter(s). Use this estimate with caution and run a longer chain!\n",
      "N/50 = 400;\n",
      "tau: [610.67082374 754.34600822 714.41906904 488.79918747 543.03888243\n",
      " 594.49328989]\n"
     ]
    },
    {
     "name": "stderr",
     "output_type": "stream",
     "text": [
      "\r",
      "Fitting data, inverse Abel transforming, and measuring densities:  28%|█▉     | 27/97 [09:50<26:36, 22.81s/it]"
     ]
    },
    {
     "name": "stdout",
     "output_type": "stream",
     "text": [
      "The chain is shorter than 50 times the integrated autocorrelation time for 6 parameter(s). Use this estimate with caution and run a longer chain!\n",
      "N/50 = 400;\n",
      "tau: [ 713.2123619  1077.25270083 2129.5994193  1805.99532691 2054.31577421\n",
      " 2236.79229396]\n"
     ]
    },
    {
     "name": "stderr",
     "output_type": "stream",
     "text": [
      "\r",
      "Fitting data, inverse Abel transforming, and measuring densities:  29%|██     | 28/97 [10:11<25:41, 22.34s/it]"
     ]
    },
    {
     "name": "stdout",
     "output_type": "stream",
     "text": [
      "The chain is shorter than 50 times the integrated autocorrelation time for 6 parameter(s). Use this estimate with caution and run a longer chain!\n",
      "N/50 = 400;\n",
      "tau: [ 995.30856757 1396.58503047 1259.12649991 1335.09832763 1271.85368716\n",
      " 1386.0234857 ]\n"
     ]
    },
    {
     "name": "stderr",
     "output_type": "stream",
     "text": [
      "\r",
      "Fitting data, inverse Abel transforming, and measuring densities:  30%|██     | 29/97 [10:33<25:23, 22.40s/it]"
     ]
    },
    {
     "name": "stdout",
     "output_type": "stream",
     "text": [
      "The chain is shorter than 50 times the integrated autocorrelation time for 6 parameter(s). Use this estimate with caution and run a longer chain!\n",
      "N/50 = 400;\n",
      "tau: [ 872.19413214 1710.97549685 1275.32997066 1472.47091934 1551.42789444\n",
      " 1794.34511891]\n"
     ]
    },
    {
     "name": "stderr",
     "output_type": "stream",
     "text": [
      "/its/home/dt237/.conda/envs/dev_xga/lib/python3.8/site-packages/astropy/units/quantity.py:477: RuntimeWarning: invalid value encountered in sqrt\n",
      "  result = super().__array_ufunc__(function, method, *arrays, **kwargs)\n",
      "/mnt/pact/dt237/code/PycharmProjects/XGA/xga/sourcetools/density.py:531: UserWarning: One or more of the quantities passed to the init of XLSSC-62's density profile has a NaN or Inf value in it.\n",
      "  warn(\"One or more of the quantities passed to the init of {}'s density profile has a NaN or Inf value\"\n",
      "\r",
      "Fitting data, inverse Abel transforming, and measuring densities:  31%|██▏    | 30/97 [10:58<25:52, 23.17s/it]"
     ]
    },
    {
     "name": "stdout",
     "output_type": "stream",
     "text": [
      "The chain is shorter than 50 times the integrated autocorrelation time for 2 parameter(s). Use this estimate with caution and run a longer chain!\n",
      "N/50 = 400;\n",
      "tau: [293.90063968 564.73265155 662.34117933 277.51799918 330.52696788\n",
      " 237.052398  ]\n"
     ]
    },
    {
     "name": "stderr",
     "output_type": "stream",
     "text": [
      "/its/home/dt237/.conda/envs/dev_xga/lib/python3.8/site-packages/astropy/units/quantity.py:477: RuntimeWarning: invalid value encountered in sqrt\n",
      "  result = super().__array_ufunc__(function, method, *arrays, **kwargs)\n",
      "/mnt/pact/dt237/code/PycharmProjects/XGA/xga/sourcetools/density.py:531: UserWarning: One or more of the quantities passed to the init of XLSSC-1's density profile has a NaN or Inf value in it.\n",
      "  warn(\"One or more of the quantities passed to the init of {}'s density profile has a NaN or Inf value\"\n",
      "\r",
      "Fitting data, inverse Abel transforming, and measuring densities:  32%|██▏    | 31/97 [11:21<25:24, 23.11s/it]"
     ]
    },
    {
     "name": "stdout",
     "output_type": "stream",
     "text": [
      "The chain is shorter than 50 times the integrated autocorrelation time for 4 parameter(s). Use this estimate with caution and run a longer chain!\n",
      "N/50 = 400;\n",
      "tau: [ 272.5753956   369.39432629 1301.04071796 1340.24695512 1058.74066634\n",
      "  653.17529497]\n",
      "The chain is shorter than 50 times the integrated autocorrelation time for 6 parameter(s). Use this estimate with caution and run a longer chain!\n",
      "N/50 = 400;\n",
      "tau: [1771.19122223 1561.58310977 1709.29200906  732.32390338  915.71283597\n",
      " 1095.45444606]\n"
     ]
    },
    {
     "name": "stderr",
     "output_type": "stream",
     "text": [
      "/its/home/dt237/.conda/envs/dev_xga/lib/python3.8/site-packages/astropy/units/quantity.py:477: RuntimeWarning: invalid value encountered in sqrt\n",
      "  result = super().__array_ufunc__(function, method, *arrays, **kwargs)\n",
      "/mnt/pact/dt237/code/PycharmProjects/XGA/xga/sourcetools/density.py:531: UserWarning: One or more of the quantities passed to the init of XLSSC-54's density profile has a NaN or Inf value in it.\n",
      "  warn(\"One or more of the quantities passed to the init of {}'s density profile has a NaN or Inf value\"\n",
      "Fitting data, inverse Abel transforming, and measuring densities:  34%|██▍    | 33/97 [12:16<26:49, 25.15s/it]"
     ]
    },
    {
     "name": "stdout",
     "output_type": "stream",
     "text": [
      "The chain is shorter than 50 times the integrated autocorrelation time for 4 parameter(s). Use this estimate with caution and run a longer chain!\n",
      "N/50 = 400;\n",
      "tau: [256.61704451 276.68627546 968.72487366 774.28638081 912.72948122\n",
      " 508.38371068]\n"
     ]
    },
    {
     "name": "stderr",
     "output_type": "stream",
     "text": [
      "\r",
      "Fitting data, inverse Abel transforming, and measuring densities:  35%|██▍    | 34/97 [12:44<27:25, 26.12s/it]"
     ]
    },
    {
     "name": "stdout",
     "output_type": "stream",
     "text": [
      "The chain is shorter than 50 times the integrated autocorrelation time for 5 parameter(s). Use this estimate with caution and run a longer chain!\n",
      "N/50 = 400;\n",
      "tau: [599.95634967 635.5070909  376.47929031 658.09384991 711.66870495\n",
      " 622.21554959]\n"
     ]
    },
    {
     "name": "stderr",
     "output_type": "stream",
     "text": [
      "/its/home/dt237/.conda/envs/dev_xga/lib/python3.8/site-packages/astropy/units/quantity.py:477: RuntimeWarning: invalid value encountered in sqrt\n",
      "  result = super().__array_ufunc__(function, method, *arrays, **kwargs)\n",
      "/mnt/pact/dt237/code/PycharmProjects/XGA/xga/sourcetools/density.py:531: UserWarning: One or more of the quantities passed to the init of XLSSC-50's density profile has a NaN or Inf value in it.\n",
      "  warn(\"One or more of the quantities passed to the init of {}'s density profile has a NaN or Inf value\"\n",
      "\r",
      "Fitting data, inverse Abel transforming, and measuring densities:  36%|██▌    | 35/97 [13:07<26:00, 25.18s/it]"
     ]
    },
    {
     "name": "stdout",
     "output_type": "stream",
     "text": [
      "The chain is shorter than 50 times the integrated autocorrelation time for 6 parameter(s). Use this estimate with caution and run a longer chain!\n",
      "N/50 = 400;\n",
      "tau: [2005.27803234  838.93153995 2241.08978203 1215.36643906 1213.20163494\n",
      " 2185.53741573]\n"
     ]
    },
    {
     "name": "stderr",
     "output_type": "stream",
     "text": [
      "\r",
      "Fitting data, inverse Abel transforming, and measuring densities:  37%|██▌    | 36/97 [13:30<24:59, 24.59s/it]"
     ]
    },
    {
     "name": "stdout",
     "output_type": "stream",
     "text": [
      "The chain is shorter than 50 times the integrated autocorrelation time for 6 parameter(s). Use this estimate with caution and run a longer chain!\n",
      "N/50 = 400;\n",
      "tau: [ 423.03218737 1262.80408002 1591.25680385  781.85324669 1326.23255611\n",
      " 1533.21744464]\n",
      "The chain is shorter than 50 times the integrated autocorrelation time for 6 parameter(s). Use this estimate with caution and run a longer chain!\n",
      "N/50 = 400;\n",
      "tau: [ 583.43899777 1022.22788294 1331.39736729  535.19451765  570.31966954\n",
      "  812.82616269]\n"
     ]
    },
    {
     "name": "stderr",
     "output_type": "stream",
     "text": [
      "Fitting data, inverse Abel transforming, and measuring densities:  38%|██▋    | 37/97 [13:58<25:32, 25.54s/it]/its/home/dt237/.conda/envs/dev_xga/lib/python3.8/site-packages/astropy/units/quantity.py:477: RuntimeWarning: invalid value encountered in sqrt\n",
      "  result = super().__array_ufunc__(function, method, *arrays, **kwargs)\n",
      "/mnt/pact/dt237/code/PycharmProjects/XGA/xga/sourcetools/density.py:531: UserWarning: One or more of the quantities passed to the init of XLSSC-52's density profile has a NaN or Inf value in it.\n",
      "  warn(\"One or more of the quantities passed to the init of {}'s density profile has a NaN or Inf value\"\n",
      "Fitting data, inverse Abel transforming, and measuring densities:  39%|██▋    | 38/97 [14:21<24:19, 24.73s/it]"
     ]
    },
    {
     "name": "stdout",
     "output_type": "stream",
     "text": [
      "The chain is shorter than 50 times the integrated autocorrelation time for 6 parameter(s). Use this estimate with caution and run a longer chain!\n",
      "N/50 = 400;\n",
      "tau: [ 658.72424966  968.06592196 1431.58655522  673.75407549  962.61265932\n",
      "  856.84706735]\n"
     ]
    },
    {
     "name": "stderr",
     "output_type": "stream",
     "text": [
      "\r",
      "Fitting data, inverse Abel transforming, and measuring densities:  40%|██▊    | 39/97 [14:43<23:18, 24.11s/it]"
     ]
    },
    {
     "name": "stdout",
     "output_type": "stream",
     "text": [
      "The chain is shorter than 50 times the integrated autocorrelation time for 6 parameter(s). Use this estimate with caution and run a longer chain!\n",
      "N/50 = 400;\n",
      "tau: [ 436.14007692 1214.787312    451.70535048  947.03166744 1131.10478052\n",
      " 1210.56732516]\n"
     ]
    },
    {
     "name": "stderr",
     "output_type": "stream",
     "text": [
      "/its/home/dt237/.conda/envs/dev_xga/lib/python3.8/site-packages/astropy/units/quantity.py:477: RuntimeWarning: invalid value encountered in sqrt\n",
      "  result = super().__array_ufunc__(function, method, *arrays, **kwargs)\n",
      "/mnt/pact/dt237/code/PycharmProjects/XGA/xga/sourcetools/density.py:531: UserWarning: One or more of the quantities passed to the init of XLSSC-103's density profile has a NaN or Inf value in it.\n",
      "  warn(\"One or more of the quantities passed to the init of {}'s density profile has a NaN or Inf value\"\n",
      "\r",
      "Fitting data, inverse Abel transforming, and measuring densities:  41%|██▉    | 40/97 [15:05<22:15, 23.42s/it]"
     ]
    },
    {
     "name": "stdout",
     "output_type": "stream",
     "text": [
      "The chain is shorter than 50 times the integrated autocorrelation time for 3 parameter(s). Use this estimate with caution and run a longer chain!\n",
      "N/50 = 400;\n",
      "tau: [ 312.5908255  1027.25146311 1234.71405169  188.18817068  315.99816152\n",
      "  942.86553644]\n"
     ]
    },
    {
     "name": "stderr",
     "output_type": "stream",
     "text": [
      "\r",
      "Fitting data, inverse Abel transforming, and measuring densities:  42%|██▉    | 41/97 [15:27<21:25, 22.96s/it]"
     ]
    },
    {
     "name": "stdout",
     "output_type": "stream",
     "text": [
      "The chain is shorter than 50 times the integrated autocorrelation time for 6 parameter(s). Use this estimate with caution and run a longer chain!\n",
      "N/50 = 400;\n",
      "tau: [ 958.85440557 1295.5958849  1210.35415812 1039.39914272 1059.59081827\n",
      " 1432.53533561]\n"
     ]
    },
    {
     "name": "stderr",
     "output_type": "stream",
     "text": [
      "\r",
      "Fitting data, inverse Abel transforming, and measuring densities:  43%|███    | 42/97 [15:51<21:16, 23.21s/it]"
     ]
    },
    {
     "name": "stdout",
     "output_type": "stream",
     "text": [
      "The chain is shorter than 50 times the integrated autocorrelation time for 6 parameter(s). Use this estimate with caution and run a longer chain!\n",
      "N/50 = 400;\n",
      "tau: [ 740.84192574  666.61550267  823.64937903  826.67099131  889.65023554\n",
      " 1033.67402071]\n"
     ]
    },
    {
     "name": "stderr",
     "output_type": "stream",
     "text": [
      "/its/home/dt237/.conda/envs/dev_xga/lib/python3.8/site-packages/astropy/units/quantity.py:477: RuntimeWarning: invalid value encountered in sqrt\n",
      "  result = super().__array_ufunc__(function, method, *arrays, **kwargs)\n",
      "/mnt/pact/dt237/code/PycharmProjects/XGA/xga/sourcetools/density.py:531: UserWarning: One or more of the quantities passed to the init of XLSSC-27's density profile has a NaN or Inf value in it.\n",
      "  warn(\"One or more of the quantities passed to the init of {}'s density profile has a NaN or Inf value\"\n",
      "\r",
      "Fitting data, inverse Abel transforming, and measuring densities:  44%|███    | 43/97 [16:14<20:44, 23.05s/it]"
     ]
    },
    {
     "name": "stdout",
     "output_type": "stream",
     "text": [
      "The chain is shorter than 50 times the integrated autocorrelation time for 5 parameter(s). Use this estimate with caution and run a longer chain!\n",
      "N/50 = 400;\n",
      "tau: [ 810.99303257  725.88573111 1304.80845724  294.38662826  438.99459517\n",
      " 1237.03145572]\n"
     ]
    },
    {
     "name": "stderr",
     "output_type": "stream",
     "text": [
      "\r",
      "Fitting data, inverse Abel transforming, and measuring densities:  45%|███▏   | 44/97 [16:34<19:35, 22.18s/it]"
     ]
    },
    {
     "name": "stdout",
     "output_type": "stream",
     "text": [
      "The chain is shorter than 50 times the integrated autocorrelation time for 6 parameter(s). Use this estimate with caution and run a longer chain!\n",
      "N/50 = 400;\n",
      "tau: [ 853.12314776  935.53771207 1105.72943908  685.39910516  997.0285047\n",
      " 1105.4906042 ]\n"
     ]
    },
    {
     "name": "stderr",
     "output_type": "stream",
     "text": [
      "/its/home/dt237/.conda/envs/dev_xga/lib/python3.8/site-packages/astropy/units/quantity.py:477: RuntimeWarning: invalid value encountered in sqrt\n",
      "  result = super().__array_ufunc__(function, method, *arrays, **kwargs)\n",
      "/mnt/pact/dt237/code/PycharmProjects/XGA/xga/sourcetools/density.py:531: UserWarning: One or more of the quantities passed to the init of XLSSC-89's density profile has a NaN or Inf value in it.\n",
      "  warn(\"One or more of the quantities passed to the init of {}'s density profile has a NaN or Inf value\"\n",
      "\r",
      "Fitting data, inverse Abel transforming, and measuring densities:  46%|███▏   | 45/97 [16:54<18:42, 21.58s/it]"
     ]
    },
    {
     "name": "stdout",
     "output_type": "stream",
     "text": [
      "The chain is shorter than 50 times the integrated autocorrelation time for 3 parameter(s). Use this estimate with caution and run a longer chain!\n",
      "N/50 = 400;\n",
      "tau: [248.37647595 348.02176063 587.57079791 276.78452186 479.55061185\n",
      " 489.93634916]\n"
     ]
    },
    {
     "name": "stderr",
     "output_type": "stream",
     "text": [
      "/its/home/dt237/.conda/envs/dev_xga/lib/python3.8/site-packages/astropy/units/quantity.py:477: RuntimeWarning: invalid value encountered in sqrt\n",
      "  result = super().__array_ufunc__(function, method, *arrays, **kwargs)\n",
      "/mnt/pact/dt237/code/PycharmProjects/XGA/xga/sourcetools/density.py:531: UserWarning: One or more of the quantities passed to the init of XLSSC-104's density profile has a NaN or Inf value in it.\n",
      "  warn(\"One or more of the quantities passed to the init of {}'s density profile has a NaN or Inf value\"\n",
      "\r",
      "Fitting data, inverse Abel transforming, and measuring densities:  47%|███▎   | 46/97 [17:16<18:29, 21.76s/it]"
     ]
    },
    {
     "name": "stdout",
     "output_type": "stream",
     "text": [
      "The chain is shorter than 50 times the integrated autocorrelation time for 5 parameter(s). Use this estimate with caution and run a longer chain!\n",
      "N/50 = 400;\n",
      "tau: [ 986.01516318 1814.34639612 2141.28832014  237.51939036  411.14548599\n",
      " 2047.25611386]\n"
     ]
    },
    {
     "name": "stderr",
     "output_type": "stream",
     "text": [
      "/its/home/dt237/.conda/envs/dev_xga/lib/python3.8/site-packages/astropy/units/quantity.py:477: RuntimeWarning: invalid value encountered in sqrt\n",
      "  result = super().__array_ufunc__(function, method, *arrays, **kwargs)\n",
      "/mnt/pact/dt237/code/PycharmProjects/XGA/xga/sourcetools/density.py:531: UserWarning: One or more of the quantities passed to the init of XLSSC-88's density profile has a NaN or Inf value in it.\n",
      "  warn(\"One or more of the quantities passed to the init of {}'s density profile has a NaN or Inf value\"\n",
      "\r",
      "Fitting data, inverse Abel transforming, and measuring densities:  48%|███▍   | 47/97 [17:37<17:49, 21.40s/it]"
     ]
    },
    {
     "name": "stdout",
     "output_type": "stream",
     "text": [
      "The chain is shorter than 50 times the integrated autocorrelation time for 6 parameter(s). Use this estimate with caution and run a longer chain!\n",
      "N/50 = 400;\n",
      "tau: [ 427.7588229  1389.4714492  1213.8348282   449.24280303 1431.24059936\n",
      " 1100.69580171]\n"
     ]
    },
    {
     "name": "stderr",
     "output_type": "stream",
     "text": [
      "\r",
      "Fitting data, inverse Abel transforming, and measuring densities:  49%|███▍   | 48/97 [18:02<18:22, 22.49s/it]"
     ]
    },
    {
     "name": "stdout",
     "output_type": "stream",
     "text": [
      "The chain is shorter than 50 times the integrated autocorrelation time for 4 parameter(s). Use this estimate with caution and run a longer chain!\n",
      "N/50 = 400;\n",
      "tau: [ 293.94551753  548.36387753 1432.37053094 1278.76642211 1405.52779036\n",
      "  237.91032423]\n",
      "The chain is shorter than 50 times the integrated autocorrelation time for 3 parameter(s). Use this estimate with caution and run a longer chain!\n",
      "N/50 = 400;\n",
      "tau: [239.23651108 716.96387362 366.13498168 287.29550345 425.79756735\n",
      " 502.47006864]\n"
     ]
    },
    {
     "name": "stderr",
     "output_type": "stream",
     "text": [
      "Fitting data, inverse Abel transforming, and measuring densities:  52%|███▌   | 50/97 [18:52<18:31, 23.65s/it]"
     ]
    },
    {
     "name": "stdout",
     "output_type": "stream",
     "text": [
      "The chain is shorter than 50 times the integrated autocorrelation time for 5 parameter(s). Use this estimate with caution and run a longer chain!\n",
      "N/50 = 400;\n",
      "tau: [ 250.68411363 1910.089325    673.09892823 1765.3840428  1863.87345716\n",
      " 1790.32548636]\n"
     ]
    },
    {
     "name": "stderr",
     "output_type": "stream",
     "text": [
      "\r",
      "Fitting data, inverse Abel transforming, and measuring densities:  53%|███▋   | 51/97 [19:15<18:10, 23.72s/it]"
     ]
    },
    {
     "name": "stdout",
     "output_type": "stream",
     "text": [
      "The chain is shorter than 50 times the integrated autocorrelation time for 1 parameter(s). Use this estimate with caution and run a longer chain!\n",
      "N/50 = 400;\n",
      "tau: [253.33495554 284.59097441 291.65013605 310.75818399 373.55014613\n",
      " 594.85878416]\n"
     ]
    },
    {
     "name": "stderr",
     "output_type": "stream",
     "text": [
      "\r",
      "Fitting data, inverse Abel transforming, and measuring densities:  54%|███▊   | 52/97 [19:37<17:19, 23.10s/it]"
     ]
    },
    {
     "name": "stdout",
     "output_type": "stream",
     "text": [
      "The chain is shorter than 50 times the integrated autocorrelation time for 6 parameter(s). Use this estimate with caution and run a longer chain!\n",
      "N/50 = 400;\n",
      "tau: [1016.09468353 2045.52698635 1521.58192857  979.45341481 1187.16679907\n",
      " 1330.81436961]\n"
     ]
    },
    {
     "name": "stderr",
     "output_type": "stream",
     "text": [
      "/its/home/dt237/.conda/envs/dev_xga/lib/python3.8/site-packages/astropy/units/quantity.py:477: RuntimeWarning: invalid value encountered in sqrt\n",
      "  result = super().__array_ufunc__(function, method, *arrays, **kwargs)\n",
      "/mnt/pact/dt237/code/PycharmProjects/XGA/xga/sourcetools/density.py:531: UserWarning: One or more of the quantities passed to the init of XLSSC-501's density profile has a NaN or Inf value in it.\n",
      "  warn(\"One or more of the quantities passed to the init of {}'s density profile has a NaN or Inf value\"\n",
      "\r",
      "Fitting data, inverse Abel transforming, and measuring densities:  55%|███▊   | 53/97 [19:58<16:34, 22.60s/it]"
     ]
    },
    {
     "name": "stdout",
     "output_type": "stream",
     "text": [
      "The chain is shorter than 50 times the integrated autocorrelation time for 4 parameter(s). Use this estimate with caution and run a longer chain!\n",
      "N/50 = 400;\n",
      "tau: [392.01615655 611.55863037 970.29251105 398.14626172 658.9997815\n",
      " 775.74733714]\n"
     ]
    },
    {
     "name": "stderr",
     "output_type": "stream",
     "text": [
      "Fitting data, inverse Abel transforming, and measuring densities:  56%|███▉   | 54/97 [20:22<16:27, 22.97s/it]/its/home/dt237/.conda/envs/dev_xga/lib/python3.8/site-packages/astropy/units/quantity.py:477: RuntimeWarning: invalid value encountered in sqrt\n",
      "  result = super().__array_ufunc__(function, method, *arrays, **kwargs)\n",
      "/mnt/pact/dt237/code/PycharmProjects/XGA/xga/sourcetools/density.py:531: UserWarning: One or more of the quantities passed to the init of XLSSC-525's density profile has a NaN or Inf value in it.\n",
      "  warn(\"One or more of the quantities passed to the init of {}'s density profile has a NaN or Inf value\"\n",
      "Fitting data, inverse Abel transforming, and measuring densities:  57%|███▉   | 55/97 [20:44<15:50, 22.63s/it]"
     ]
    },
    {
     "name": "stdout",
     "output_type": "stream",
     "text": [
      "The chain is shorter than 50 times the integrated autocorrelation time for 6 parameter(s). Use this estimate with caution and run a longer chain!\n",
      "N/50 = 400;\n",
      "tau: [ 469.121916    857.59711498 1835.24124939 1003.80972905 1291.1058131\n",
      " 1668.03402527]\n"
     ]
    },
    {
     "name": "stderr",
     "output_type": "stream",
     "text": [
      "/its/home/dt237/.conda/envs/dev_xga/lib/python3.8/site-packages/astropy/units/quantity.py:477: RuntimeWarning: invalid value encountered in sqrt\n",
      "  result = super().__array_ufunc__(function, method, *arrays, **kwargs)\n",
      "/mnt/pact/dt237/code/PycharmProjects/XGA/xga/sourcetools/density.py:531: UserWarning: One or more of the quantities passed to the init of XLSSC-528's density profile has a NaN or Inf value in it.\n",
      "  warn(\"One or more of the quantities passed to the init of {}'s density profile has a NaN or Inf value\"\n",
      "\r",
      "Fitting data, inverse Abel transforming, and measuring densities:  58%|████   | 56/97 [21:05<15:04, 22.05s/it]"
     ]
    },
    {
     "name": "stdout",
     "output_type": "stream",
     "text": [
      "The chain is shorter than 50 times the integrated autocorrelation time for 4 parameter(s). Use this estimate with caution and run a longer chain!\n",
      "N/50 = 400;\n",
      "tau: [ 399.25696804 1002.37694733  848.23640602  359.68744749  562.97280339\n",
      "  721.14964943]\n"
     ]
    },
    {
     "name": "stderr",
     "output_type": "stream",
     "text": [
      "/its/home/dt237/.conda/envs/dev_xga/lib/python3.8/site-packages/astropy/units/quantity.py:477: RuntimeWarning: invalid value encountered in sqrt\n",
      "  result = super().__array_ufunc__(function, method, *arrays, **kwargs)\n",
      "/mnt/pact/dt237/code/PycharmProjects/XGA/xga/sourcetools/density.py:531: UserWarning: One or more of the quantities passed to the init of XLSSC-529's density profile has a NaN or Inf value in it.\n",
      "  warn(\"One or more of the quantities passed to the init of {}'s density profile has a NaN or Inf value\"\n",
      "\r",
      "Fitting data, inverse Abel transforming, and measuring densities:  59%|████   | 57/97 [21:25<14:24, 21.61s/it]"
     ]
    },
    {
     "name": "stdout",
     "output_type": "stream",
     "text": [
      "The chain is shorter than 50 times the integrated autocorrelation time for 4 parameter(s). Use this estimate with caution and run a longer chain!\n",
      "N/50 = 400;\n",
      "tau: [ 426.3775524   606.28666413 1132.8464869   210.3199953   329.3632649\n",
      " 1091.94265598]\n"
     ]
    },
    {
     "name": "stderr",
     "output_type": "stream",
     "text": [
      "\r",
      "Fitting data, inverse Abel transforming, and measuring densities:  60%|████▏  | 58/97 [21:47<13:59, 21.53s/it]"
     ]
    },
    {
     "name": "stdout",
     "output_type": "stream",
     "text": [
      "The chain is shorter than 50 times the integrated autocorrelation time for 4 parameter(s). Use this estimate with caution and run a longer chain!\n",
      "N/50 = 400;\n",
      "tau: [1178.13071028 1273.17885747 1542.07590318  296.26509114  365.47563154\n",
      " 1412.56977499]\n",
      "The chain is shorter than 50 times the integrated autocorrelation time for 2 parameter(s). Use this estimate with caution and run a longer chain!\n",
      "N/50 = 400;\n",
      "tau: [317.79490376 469.15655161 984.56670838 254.23107152 230.38964328\n",
      " 186.86826823]\n"
     ]
    },
    {
     "name": "stderr",
     "output_type": "stream",
     "text": [
      "Fitting data, inverse Abel transforming, and measuring densities:  62%|████▎  | 60/97 [22:35<13:50, 22.45s/it]"
     ]
    },
    {
     "name": "stdout",
     "output_type": "stream",
     "text": [
      "The chain is shorter than 50 times the integrated autocorrelation time for 6 parameter(s). Use this estimate with caution and run a longer chain!\n",
      "N/50 = 400;\n",
      "tau: [ 523.76098989  779.80390495 1295.34211451  467.59911505  903.81866044\n",
      " 1240.35605761]\n"
     ]
    },
    {
     "name": "stderr",
     "output_type": "stream",
     "text": [
      "/its/home/dt237/.conda/envs/dev_xga/lib/python3.8/site-packages/astropy/units/quantity.py:477: RuntimeWarning: invalid value encountered in sqrt\n",
      "  result = super().__array_ufunc__(function, method, *arrays, **kwargs)\n",
      "/mnt/pact/dt237/code/PycharmProjects/XGA/xga/sourcetools/density.py:531: UserWarning: One or more of the quantities passed to the init of XLSSC-531's density profile has a NaN or Inf value in it.\n",
      "  warn(\"One or more of the quantities passed to the init of {}'s density profile has a NaN or Inf value\"\n",
      "\r",
      "Fitting data, inverse Abel transforming, and measuring densities:  63%|████▍  | 61/97 [22:55<13:01, 21.72s/it]"
     ]
    },
    {
     "name": "stdout",
     "output_type": "stream",
     "text": [
      "The chain is shorter than 50 times the integrated autocorrelation time for 5 parameter(s). Use this estimate with caution and run a longer chain!\n",
      "N/50 = 400;\n",
      "tau: [390.23185425 567.4760125  618.22080977 456.95432048 723.99670334\n",
      " 575.33385538]\n"
     ]
    },
    {
     "name": "stderr",
     "output_type": "stream",
     "text": [
      "/its/home/dt237/.conda/envs/dev_xga/lib/python3.8/site-packages/astropy/units/quantity.py:477: RuntimeWarning: invalid value encountered in sqrt\n",
      "  result = super().__array_ufunc__(function, method, *arrays, **kwargs)\n",
      "/mnt/pact/dt237/code/PycharmProjects/XGA/xga/sourcetools/density.py:531: UserWarning: One or more of the quantities passed to the init of XLSSC-534's density profile has a NaN or Inf value in it.\n",
      "  warn(\"One or more of the quantities passed to the init of {}'s density profile has a NaN or Inf value\"\n",
      "\r",
      "Fitting data, inverse Abel transforming, and measuring densities:  64%|████▍  | 62/97 [23:15<12:23, 21.24s/it]"
     ]
    },
    {
     "name": "stdout",
     "output_type": "stream",
     "text": [
      "The chain is shorter than 50 times the integrated autocorrelation time for 4 parameter(s). Use this estimate with caution and run a longer chain!\n",
      "N/50 = 400;\n",
      "tau: [ 312.17106246  747.468707   1092.99098537  284.2523362   415.10115157\n",
      "  963.64293787]\n"
     ]
    },
    {
     "name": "stderr",
     "output_type": "stream",
     "text": [
      "/its/home/dt237/.conda/envs/dev_xga/lib/python3.8/site-packages/astropy/units/quantity.py:477: RuntimeWarning: invalid value encountered in sqrt\n",
      "  result = super().__array_ufunc__(function, method, *arrays, **kwargs)\n",
      "/mnt/pact/dt237/code/PycharmProjects/XGA/xga/sourcetools/density.py:531: UserWarning: One or more of the quantities passed to the init of XLSSC-517's density profile has a NaN or Inf value in it.\n",
      "  warn(\"One or more of the quantities passed to the init of {}'s density profile has a NaN or Inf value\"\n",
      "Fitting data, inverse Abel transforming, and measuring densities:  66%|████▌  | 64/97 [23:55<11:25, 20.76s/it]"
     ]
    },
    {
     "name": "stdout",
     "output_type": "stream",
     "text": [
      "The chain is shorter than 50 times the integrated autocorrelation time for 6 parameter(s). Use this estimate with caution and run a longer chain!\n",
      "N/50 = 400;\n",
      "tau: [ 434.12732765  830.52612641 1136.62104983  591.97884612  706.51667758\n",
      "  628.5800944 ]\n"
     ]
    },
    {
     "name": "stderr",
     "output_type": "stream",
     "text": [
      "/its/home/dt237/.conda/envs/dev_xga/lib/python3.8/site-packages/astropy/units/quantity.py:477: RuntimeWarning: invalid value encountered in sqrt\n",
      "  result = super().__array_ufunc__(function, method, *arrays, **kwargs)\n",
      "/mnt/pact/dt237/code/PycharmProjects/XGA/xga/sourcetools/density.py:531: UserWarning: One or more of the quantities passed to the init of XLSSC-503's density profile has a NaN or Inf value in it.\n",
      "  warn(\"One or more of the quantities passed to the init of {}'s density profile has a NaN or Inf value\"\n",
      "\r",
      "Fitting data, inverse Abel transforming, and measuring densities:  67%|████▋  | 65/97 [24:16<11:05, 20.80s/it]"
     ]
    },
    {
     "name": "stdout",
     "output_type": "stream",
     "text": [
      "The chain is shorter than 50 times the integrated autocorrelation time for 6 parameter(s). Use this estimate with caution and run a longer chain!\n",
      "N/50 = 400;\n",
      "tau: [ 474.89328967 1022.9935251  1484.65028606  590.13269756 1285.56825231\n",
      " 1283.28038074]\n"
     ]
    },
    {
     "name": "stderr",
     "output_type": "stream",
     "text": [
      "\r",
      "Fitting data, inverse Abel transforming, and measuring densities:  68%|████▊  | 66/97 [24:37<10:39, 20.61s/it]"
     ]
    },
    {
     "name": "stdout",
     "output_type": "stream",
     "text": [
      "The chain is shorter than 50 times the integrated autocorrelation time for 4 parameter(s). Use this estimate with caution and run a longer chain!\n",
      "N/50 = 400;\n",
      "tau: [286.76737809 575.30829639 535.81308242 312.13466661 666.89433557\n",
      " 641.27218637]\n"
     ]
    },
    {
     "name": "stderr",
     "output_type": "stream",
     "text": [
      "\r",
      "Fitting data, inverse Abel transforming, and measuring densities:  69%|████▊  | 67/97 [25:00<10:47, 21.58s/it]"
     ]
    },
    {
     "name": "stdout",
     "output_type": "stream",
     "text": [
      "The chain is shorter than 50 times the integrated autocorrelation time for 4 parameter(s). Use this estimate with caution and run a longer chain!\n",
      "N/50 = 400;\n",
      "tau: [ 212.81029274  415.48496309 1433.85588919 1029.33653271  773.46700276\n",
      "  284.59759553]\n"
     ]
    },
    {
     "name": "stderr",
     "output_type": "stream",
     "text": [
      "Fitting data, inverse Abel transforming, and measuring densities:  70%|████▉  | 68/97 [25:26<11:04, 22.92s/it]/its/home/dt237/.conda/envs/dev_xga/lib/python3.8/site-packages/astropy/units/quantity.py:477: RuntimeWarning: invalid value encountered in sqrt\n",
      "  result = super().__array_ufunc__(function, method, *arrays, **kwargs)\n",
      "/mnt/pact/dt237/code/PycharmProjects/XGA/xga/sourcetools/density.py:531: UserWarning: One or more of the quantities passed to the init of XLSSC-547's density profile has a NaN or Inf value in it.\n",
      "  warn(\"One or more of the quantities passed to the init of {}'s density profile has a NaN or Inf value\"\n",
      "Fitting data, inverse Abel transforming, and measuring densities:  71%|████▉  | 69/97 [25:48<10:28, 22.45s/it]"
     ]
    },
    {
     "name": "stdout",
     "output_type": "stream",
     "text": [
      "The chain is shorter than 50 times the integrated autocorrelation time for 4 parameter(s). Use this estimate with caution and run a longer chain!\n",
      "N/50 = 400;\n",
      "tau: [378.18402088 671.66218683 615.56356114 505.02911994 518.70024478\n",
      " 313.14949145]\n"
     ]
    },
    {
     "name": "stderr",
     "output_type": "stream",
     "text": [
      "/its/home/dt237/.conda/envs/dev_xga/lib/python3.8/site-packages/astropy/units/quantity.py:477: RuntimeWarning: invalid value encountered in sqrt\n",
      "  result = super().__array_ufunc__(function, method, *arrays, **kwargs)\n",
      "/mnt/pact/dt237/code/PycharmProjects/XGA/xga/sourcetools/density.py:531: UserWarning: One or more of the quantities passed to the init of XLSSC-535's density profile has a NaN or Inf value in it.\n",
      "  warn(\"One or more of the quantities passed to the init of {}'s density profile has a NaN or Inf value\"\n",
      "\r",
      "Fitting data, inverse Abel transforming, and measuring densities:  72%|█████  | 70/97 [26:09<09:58, 22.15s/it]"
     ]
    },
    {
     "name": "stdout",
     "output_type": "stream",
     "text": [
      "The chain is shorter than 50 times the integrated autocorrelation time for 6 parameter(s). Use this estimate with caution and run a longer chain!\n",
      "N/50 = 400;\n",
      "tau: [1557.25709456 1083.54280233 1381.16000288 1401.94705692 1109.377742\n",
      " 1379.58061089]\n"
     ]
    },
    {
     "name": "stderr",
     "output_type": "stream",
     "text": [
      "/its/home/dt237/.conda/envs/dev_xga/lib/python3.8/site-packages/astropy/units/quantity.py:477: RuntimeWarning: invalid value encountered in sqrt\n",
      "  result = super().__array_ufunc__(function, method, *arrays, **kwargs)\n",
      "/mnt/pact/dt237/code/PycharmProjects/XGA/xga/sourcetools/density.py:531: UserWarning: One or more of the quantities passed to the init of XLSSC-536's density profile has a NaN or Inf value in it.\n",
      "  warn(\"One or more of the quantities passed to the init of {}'s density profile has a NaN or Inf value\"\n",
      "\r",
      "Fitting data, inverse Abel transforming, and measuring densities:  73%|█████  | 71/97 [26:30<09:23, 21.68s/it]"
     ]
    },
    {
     "name": "stdout",
     "output_type": "stream",
     "text": [
      "The chain is shorter than 50 times the integrated autocorrelation time for 6 parameter(s). Use this estimate with caution and run a longer chain!\n",
      "N/50 = 400;\n",
      "tau: [ 458.35266408  966.77278213 1088.00509962  512.39613276  643.4307768\n",
      "  467.19794171]\n"
     ]
    },
    {
     "name": "stderr",
     "output_type": "stream",
     "text": [
      "/its/home/dt237/.conda/envs/dev_xga/lib/python3.8/site-packages/astropy/units/quantity.py:477: RuntimeWarning: invalid value encountered in sqrt\n",
      "  result = super().__array_ufunc__(function, method, *arrays, **kwargs)\n",
      "/mnt/pact/dt237/code/PycharmProjects/XGA/xga/sourcetools/density.py:531: UserWarning: One or more of the quantities passed to the init of XLSSC-522's density profile has a NaN or Inf value in it.\n",
      "  warn(\"One or more of the quantities passed to the init of {}'s density profile has a NaN or Inf value\"\n",
      "\r",
      "Fitting data, inverse Abel transforming, and measuring densities:  74%|█████▏ | 72/97 [26:51<08:58, 21.53s/it]"
     ]
    },
    {
     "name": "stdout",
     "output_type": "stream",
     "text": [
      "The chain is shorter than 50 times the integrated autocorrelation time for 4 parameter(s). Use this estimate with caution and run a longer chain!\n",
      "N/50 = 400;\n",
      "tau: [ 350.17643194 1624.28651683 1706.46351452  321.97606338  561.35929013\n",
      " 1635.26748968]\n",
      "The chain is shorter than 50 times the integrated autocorrelation time for 6 parameter(s). Use this estimate with caution and run a longer chain!\n",
      "N/50 = 400;\n",
      "tau: [ 811.57019155  766.16753413 1088.0066307   576.91837741  739.19180874\n",
      " 1064.93070623]\n"
     ]
    },
    {
     "name": "stderr",
     "output_type": "stream",
     "text": [
      "Fitting data, inverse Abel transforming, and measuring densities:  76%|█████▎ | 74/97 [27:36<08:27, 22.07s/it]"
     ]
    },
    {
     "name": "stdout",
     "output_type": "stream",
     "text": [
      "The chain is shorter than 50 times the integrated autocorrelation time for 6 parameter(s). Use this estimate with caution and run a longer chain!\n",
      "N/50 = 400;\n",
      "tau: [ 450.95911921  898.62114011 1783.73210862 1112.65722389 1606.62077451\n",
      " 1617.57707375]\n",
      "The chain is shorter than 50 times the integrated autocorrelation time for 2 parameter(s). Use this estimate with caution and run a longer chain!\n",
      "N/50 = 400;\n",
      "tau: [193.36553388 557.37767506 608.64229782 245.84586919 233.11402121\n",
      " 285.94583238]\n"
     ]
    },
    {
     "name": "stderr",
     "output_type": "stream",
     "text": [
      "Fitting data, inverse Abel transforming, and measuring densities:  77%|█████▍ | 75/97 [28:06<08:56, 24.38s/it]/its/home/dt237/.conda/envs/dev_xga/lib/python3.8/site-packages/astropy/units/quantity.py:477: RuntimeWarning: invalid value encountered in sqrt\n",
      "  result = super().__array_ufunc__(function, method, *arrays, **kwargs)\n",
      "/mnt/pact/dt237/code/PycharmProjects/XGA/xga/sourcetools/density.py:531: UserWarning: One or more of the quantities passed to the init of XLSSC-506's density profile has a NaN or Inf value in it.\n",
      "  warn(\"One or more of the quantities passed to the init of {}'s density profile has a NaN or Inf value\"\n",
      "Fitting data, inverse Abel transforming, and measuring densities:  78%|█████▍ | 76/97 [28:27<08:08, 23.27s/it]"
     ]
    },
    {
     "name": "stdout",
     "output_type": "stream",
     "text": [
      "The chain is shorter than 50 times the integrated autocorrelation time for 4 parameter(s). Use this estimate with caution and run a longer chain!\n",
      "N/50 = 400;\n",
      "tau: [ 353.34331051 1012.2079211  1232.13193591  261.97434097  437.83199884\n",
      " 1087.58109145]\n"
     ]
    },
    {
     "name": "stderr",
     "output_type": "stream",
     "text": [
      "/its/home/dt237/.conda/envs/dev_xga/lib/python3.8/site-packages/astropy/units/quantity.py:477: RuntimeWarning: invalid value encountered in sqrt\n",
      "  result = super().__array_ufunc__(function, method, *arrays, **kwargs)\n",
      "/mnt/pact/dt237/code/PycharmProjects/XGA/xga/sourcetools/density.py:531: UserWarning: One or more of the quantities passed to the init of XLSSC-546's density profile has a NaN or Inf value in it.\n",
      "  warn(\"One or more of the quantities passed to the init of {}'s density profile has a NaN or Inf value\"\n",
      "\r",
      "Fitting data, inverse Abel transforming, and measuring densities:  79%|█████▌ | 77/97 [28:47<07:28, 22.42s/it]"
     ]
    },
    {
     "name": "stdout",
     "output_type": "stream",
     "text": [
      "The chain is shorter than 50 times the integrated autocorrelation time for 4 parameter(s). Use this estimate with caution and run a longer chain!\n",
      "N/50 = 400;\n",
      "tau: [319.48977984 486.73064884 723.91221173 367.59524753 502.50947946\n",
      " 747.62357734]\n"
     ]
    },
    {
     "name": "stderr",
     "output_type": "stream",
     "text": [
      "/its/home/dt237/.conda/envs/dev_xga/lib/python3.8/site-packages/astropy/units/quantity.py:477: RuntimeWarning: invalid value encountered in sqrt\n",
      "  result = super().__array_ufunc__(function, method, *arrays, **kwargs)\n",
      "/mnt/pact/dt237/code/PycharmProjects/XGA/xga/sourcetools/density.py:531: UserWarning: One or more of the quantities passed to the init of XLSSC-512's density profile has a NaN or Inf value in it.\n",
      "  warn(\"One or more of the quantities passed to the init of {}'s density profile has a NaN or Inf value\"\n",
      "\r",
      "Fitting data, inverse Abel transforming, and measuring densities:  80%|█████▋ | 78/97 [29:09<07:03, 22.29s/it]"
     ]
    },
    {
     "name": "stdout",
     "output_type": "stream",
     "text": [
      "The chain is shorter than 50 times the integrated autocorrelation time for 4 parameter(s). Use this estimate with caution and run a longer chain!\n",
      "N/50 = 400;\n",
      "tau: [ 506.67527861  683.32634138 1953.30362987  267.52154569  363.69977764\n",
      " 1747.10578031]\n"
     ]
    },
    {
     "name": "stderr",
     "output_type": "stream",
     "text": [
      "\r",
      "Fitting data, inverse Abel transforming, and measuring densities:  81%|█████▋ | 79/97 [29:34<06:53, 22.96s/it]"
     ]
    },
    {
     "name": "stdout",
     "output_type": "stream",
     "text": [
      "The chain is shorter than 50 times the integrated autocorrelation time for 1 parameter(s). Use this estimate with caution and run a longer chain!\n",
      "N/50 = 400;\n",
      "tau: [206.66209963 252.18479718 543.27400042 191.91875151 182.18475969\n",
      " 152.46197733]\n"
     ]
    },
    {
     "name": "stderr",
     "output_type": "stream",
     "text": [
      "/its/home/dt237/.conda/envs/dev_xga/lib/python3.8/site-packages/astropy/units/quantity.py:477: RuntimeWarning: invalid value encountered in sqrt\n",
      "  result = super().__array_ufunc__(function, method, *arrays, **kwargs)\n",
      "/mnt/pact/dt237/code/PycharmProjects/XGA/xga/sourcetools/density.py:531: UserWarning: One or more of the quantities passed to the init of XLSSC-532's density profile has a NaN or Inf value in it.\n",
      "  warn(\"One or more of the quantities passed to the init of {}'s density profile has a NaN or Inf value\"\n",
      "\r",
      "Fitting data, inverse Abel transforming, and measuring densities:  82%|█████▊ | 80/97 [29:54<06:15, 22.12s/it]"
     ]
    },
    {
     "name": "stdout",
     "output_type": "stream",
     "text": [
      "The chain is shorter than 50 times the integrated autocorrelation time for 4 parameter(s). Use this estimate with caution and run a longer chain!\n",
      "N/50 = 400;\n",
      "tau: [377.79447545 604.4506347  831.18749612 382.62615376 453.55108457\n",
      " 461.78114361]\n"
     ]
    },
    {
     "name": "stderr",
     "output_type": "stream",
     "text": [
      "/its/home/dt237/.conda/envs/dev_xga/lib/python3.8/site-packages/astropy/units/quantity.py:477: RuntimeWarning: invalid value encountered in sqrt\n",
      "  result = super().__array_ufunc__(function, method, *arrays, **kwargs)\n",
      "/mnt/pact/dt237/code/PycharmProjects/XGA/xga/sourcetools/density.py:531: UserWarning: One or more of the quantities passed to the init of XLSSC-519's density profile has a NaN or Inf value in it.\n",
      "  warn(\"One or more of the quantities passed to the init of {}'s density profile has a NaN or Inf value\"\n",
      "\r",
      "Fitting data, inverse Abel transforming, and measuring densities:  84%|█████▊ | 81/97 [30:16<05:51, 21.99s/it]"
     ]
    },
    {
     "name": "stdout",
     "output_type": "stream",
     "text": [
      "The chain is shorter than 50 times the integrated autocorrelation time for 4 parameter(s). Use this estimate with caution and run a longer chain!\n",
      "N/50 = 400;\n",
      "tau: [268.75974738 437.70184925 761.17351036 553.35003973 442.69784695\n",
      " 219.84799203]\n"
     ]
    },
    {
     "name": "stderr",
     "output_type": "stream",
     "text": [
      "\r",
      "Fitting data, inverse Abel transforming, and measuring densities:  85%|█████▉ | 82/97 [30:37<05:26, 21.74s/it]"
     ]
    },
    {
     "name": "stdout",
     "output_type": "stream",
     "text": [
      "The chain is shorter than 50 times the integrated autocorrelation time for 6 parameter(s). Use this estimate with caution and run a longer chain!\n",
      "N/50 = 400;\n",
      "tau: [423.61833049 743.91331701 712.98920812 446.25701889 774.27987533\n",
      " 481.76737206]\n"
     ]
    },
    {
     "name": "stderr",
     "output_type": "stream",
     "text": [
      "\r",
      "Fitting data, inverse Abel transforming, and measuring densities:  86%|█████▉ | 83/97 [31:03<05:22, 23.06s/it]"
     ]
    },
    {
     "name": "stdout",
     "output_type": "stream",
     "text": [
      "The chain is shorter than 50 times the integrated autocorrelation time for 5 parameter(s). Use this estimate with caution and run a longer chain!\n",
      "N/50 = 400;\n",
      "tau: [558.96032855 315.32326046 403.80422213 533.48033614 508.06909463\n",
      " 532.35901733]\n"
     ]
    },
    {
     "name": "stderr",
     "output_type": "stream",
     "text": [
      "/its/home/dt237/.conda/envs/dev_xga/lib/python3.8/site-packages/astropy/units/quantity.py:477: RuntimeWarning: invalid value encountered in sqrt\n",
      "  result = super().__array_ufunc__(function, method, *arrays, **kwargs)\n",
      "/mnt/pact/dt237/code/PycharmProjects/XGA/xga/sourcetools/density.py:531: UserWarning: One or more of the quantities passed to the init of XLSSC-507's density profile has a NaN or Inf value in it.\n",
      "  warn(\"One or more of the quantities passed to the init of {}'s density profile has a NaN or Inf value\"\n",
      "\r",
      "Fitting data, inverse Abel transforming, and measuring densities:  87%|██████ | 84/97 [31:22<04:45, 21.93s/it]"
     ]
    },
    {
     "name": "stdout",
     "output_type": "stream",
     "text": [
      "The chain is shorter than 50 times the integrated autocorrelation time for 5 parameter(s). Use this estimate with caution and run a longer chain!\n",
      "N/50 = 400;\n",
      "tau: [437.35394737 517.17646227 628.19234115 313.75832575 504.01903091\n",
      " 448.38483705]\n"
     ]
    },
    {
     "name": "stderr",
     "output_type": "stream",
     "text": [
      "\r",
      "Fitting data, inverse Abel transforming, and measuring densities:  88%|██████▏| 85/97 [31:44<04:22, 21.87s/it]"
     ]
    },
    {
     "name": "stdout",
     "output_type": "stream",
     "text": [
      "The chain is shorter than 50 times the integrated autocorrelation time for 6 parameter(s). Use this estimate with caution and run a longer chain!\n",
      "N/50 = 400;\n",
      "tau: [ 475.25414662 1154.5400204   811.26904824  513.78596928  696.90223471\n",
      "  667.57744067]\n"
     ]
    },
    {
     "name": "stderr",
     "output_type": "stream",
     "text": [
      "/its/home/dt237/.conda/envs/dev_xga/lib/python3.8/site-packages/astropy/units/quantity.py:477: RuntimeWarning: invalid value encountered in sqrt\n",
      "  result = super().__array_ufunc__(function, method, *arrays, **kwargs)\n",
      "/mnt/pact/dt237/code/PycharmProjects/XGA/xga/sourcetools/density.py:531: UserWarning: One or more of the quantities passed to the init of XLSSC-516's density profile has a NaN or Inf value in it.\n",
      "  warn(\"One or more of the quantities passed to the init of {}'s density profile has a NaN or Inf value\"\n",
      "\r",
      "Fitting data, inverse Abel transforming, and measuring densities:  89%|██████▏| 86/97 [32:04<03:55, 21.38s/it]"
     ]
    },
    {
     "name": "stdout",
     "output_type": "stream",
     "text": [
      "The chain is shorter than 50 times the integrated autocorrelation time for 5 parameter(s). Use this estimate with caution and run a longer chain!\n",
      "N/50 = 400;\n",
      "tau: [372.06044271 784.77347826 998.326418   464.37843094 628.08783324\n",
      " 998.90882347]\n"
     ]
    },
    {
     "name": "stderr",
     "output_type": "stream",
     "text": [
      "/its/home/dt237/.conda/envs/dev_xga/lib/python3.8/site-packages/astropy/units/quantity.py:477: RuntimeWarning: invalid value encountered in sqrt\n",
      "  result = super().__array_ufunc__(function, method, *arrays, **kwargs)\n",
      "/mnt/pact/dt237/code/PycharmProjects/XGA/xga/sourcetools/density.py:531: UserWarning: One or more of the quantities passed to the init of XLSSC-537's density profile has a NaN or Inf value in it.\n",
      "  warn(\"One or more of the quantities passed to the init of {}'s density profile has a NaN or Inf value\"\n",
      "\r",
      "Fitting data, inverse Abel transforming, and measuring densities:  90%|██████▎| 87/97 [32:25<03:33, 21.32s/it]"
     ]
    },
    {
     "name": "stdout",
     "output_type": "stream",
     "text": [
      "The chain is shorter than 50 times the integrated autocorrelation time for 4 parameter(s). Use this estimate with caution and run a longer chain!\n",
      "N/50 = 400;\n",
      "tau: [ 340.68804976  753.77926424 1284.98094509  235.67665521  453.97145591\n",
      " 1224.39226424]\n"
     ]
    },
    {
     "name": "stderr",
     "output_type": "stream",
     "text": [
      "/its/home/dt237/.conda/envs/dev_xga/lib/python3.8/site-packages/astropy/units/quantity.py:477: RuntimeWarning: invalid value encountered in sqrt\n",
      "  result = super().__array_ufunc__(function, method, *arrays, **kwargs)\n",
      "/mnt/pact/dt237/code/PycharmProjects/XGA/xga/sourcetools/density.py:531: UserWarning: One or more of the quantities passed to the init of XLSSC-548's density profile has a NaN or Inf value in it.\n",
      "  warn(\"One or more of the quantities passed to the init of {}'s density profile has a NaN or Inf value\"\n",
      "\r",
      "Fitting data, inverse Abel transforming, and measuring densities:  91%|██████▎| 88/97 [32:46<03:09, 21.01s/it]"
     ]
    },
    {
     "name": "stdout",
     "output_type": "stream",
     "text": [
      "The chain is shorter than 50 times the integrated autocorrelation time for 2 parameter(s). Use this estimate with caution and run a longer chain!\n",
      "N/50 = 400;\n",
      "tau: [ 254.34803914  372.84348916 1291.57184113  249.50609569  356.54858048\n",
      " 1064.36620651]\n"
     ]
    },
    {
     "name": "stderr",
     "output_type": "stream",
     "text": [
      "/its/home/dt237/.conda/envs/dev_xga/lib/python3.8/site-packages/astropy/units/quantity.py:477: RuntimeWarning: invalid value encountered in sqrt\n",
      "  result = super().__array_ufunc__(function, method, *arrays, **kwargs)\n",
      "/mnt/pact/dt237/code/PycharmProjects/XGA/xga/sourcetools/density.py:531: UserWarning: One or more of the quantities passed to the init of XLSSC-538's density profile has a NaN or Inf value in it.\n",
      "  warn(\"One or more of the quantities passed to the init of {}'s density profile has a NaN or Inf value\"\n",
      "\r",
      "Fitting data, inverse Abel transforming, and measuring densities:  92%|██████▍| 89/97 [33:06<02:47, 20.93s/it]"
     ]
    },
    {
     "name": "stdout",
     "output_type": "stream",
     "text": [
      "The chain is shorter than 50 times the integrated autocorrelation time for 4 parameter(s). Use this estimate with caution and run a longer chain!\n",
      "N/50 = 400;\n",
      "tau: [ 313.84793418  750.37411513 1276.00681581  287.59741545  654.3817517\n",
      " 1056.35992106]\n"
     ]
    },
    {
     "name": "stderr",
     "output_type": "stream",
     "text": [
      "\r",
      "Fitting data, inverse Abel transforming, and measuring densities:  93%|██████▍| 90/97 [33:30<02:31, 21.66s/it]"
     ]
    },
    {
     "name": "stdout",
     "output_type": "stream",
     "text": [
      "The chain is shorter than 50 times the integrated autocorrelation time for 1 parameter(s). Use this estimate with caution and run a longer chain!\n",
      "N/50 = 400;\n",
      "tau: [160.84606693 180.182995   559.21103635 392.50738477 227.96044747\n",
      " 236.39570559]\n"
     ]
    },
    {
     "name": "stderr",
     "output_type": "stream",
     "text": [
      "\r",
      "Fitting data, inverse Abel transforming, and measuring densities:  94%|██████▌| 91/97 [33:54<02:13, 22.33s/it]"
     ]
    },
    {
     "name": "stdout",
     "output_type": "stream",
     "text": [
      "The chain is shorter than 50 times the integrated autocorrelation time for 5 parameter(s). Use this estimate with caution and run a longer chain!\n",
      "N/50 = 400;\n",
      "tau: [709.30661426 390.07554771 591.93456167 824.20401421 795.768896\n",
      " 925.76719685]\n"
     ]
    },
    {
     "name": "stderr",
     "output_type": "stream",
     "text": [
      "/its/home/dt237/.conda/envs/dev_xga/lib/python3.8/site-packages/astropy/units/quantity.py:477: RuntimeWarning: invalid value encountered in sqrt\n",
      "  result = super().__array_ufunc__(function, method, *arrays, **kwargs)\n",
      "/mnt/pact/dt237/code/PycharmProjects/XGA/xga/sourcetools/density.py:531: UserWarning: One or more of the quantities passed to the init of XLSSC-508's density profile has a NaN or Inf value in it.\n",
      "  warn(\"One or more of the quantities passed to the init of {}'s density profile has a NaN or Inf value\"\n",
      "\r",
      "Fitting data, inverse Abel transforming, and measuring densities:  95%|██████▋| 92/97 [34:15<01:50, 22.06s/it]"
     ]
    },
    {
     "name": "stdout",
     "output_type": "stream",
     "text": [
      "The chain is shorter than 50 times the integrated autocorrelation time for 3 parameter(s). Use this estimate with caution and run a longer chain!\n",
      "N/50 = 400;\n",
      "tau: [ 656.49351521  361.26226587 1652.96834699  246.51002556  352.37074236\n",
      " 1575.74308091]\n"
     ]
    },
    {
     "name": "stderr",
     "output_type": "stream",
     "text": [
      "/its/home/dt237/.conda/envs/dev_xga/lib/python3.8/site-packages/astropy/units/quantity.py:477: RuntimeWarning: invalid value encountered in sqrt\n",
      "  result = super().__array_ufunc__(function, method, *arrays, **kwargs)\n",
      "/mnt/pact/dt237/code/PycharmProjects/XGA/xga/sourcetools/density.py:531: UserWarning: One or more of the quantities passed to the init of XLSSC-540's density profile has a NaN or Inf value in it.\n",
      "  warn(\"One or more of the quantities passed to the init of {}'s density profile has a NaN or Inf value\"\n",
      "\r",
      "Fitting data, inverse Abel transforming, and measuring densities:  96%|██████▋| 93/97 [34:36<01:26, 21.65s/it]"
     ]
    },
    {
     "name": "stdout",
     "output_type": "stream",
     "text": [
      "The chain is shorter than 50 times the integrated autocorrelation time for 4 parameter(s). Use this estimate with caution and run a longer chain!\n",
      "N/50 = 400;\n",
      "tau: [ 320.72344135 1035.97306571 1439.52884607  370.9219204   954.96997753\n",
      " 1419.17598969]\n"
     ]
    },
    {
     "name": "stderr",
     "output_type": "stream",
     "text": [
      "/its/home/dt237/.conda/envs/dev_xga/lib/python3.8/site-packages/astropy/units/quantity.py:477: RuntimeWarning: invalid value encountered in sqrt\n",
      "  result = super().__array_ufunc__(function, method, *arrays, **kwargs)\n",
      "/mnt/pact/dt237/code/PycharmProjects/XGA/xga/sourcetools/density.py:531: UserWarning: One or more of the quantities passed to the init of XLSSC-539's density profile has a NaN or Inf value in it.\n",
      "  warn(\"One or more of the quantities passed to the init of {}'s density profile has a NaN or Inf value\"\n",
      "\r",
      "Fitting data, inverse Abel transforming, and measuring densities:  97%|██████▊| 94/97 [34:57<01:04, 21.44s/it]"
     ]
    },
    {
     "name": "stdout",
     "output_type": "stream",
     "text": [
      "The chain is shorter than 50 times the integrated autocorrelation time for 4 parameter(s). Use this estimate with caution and run a longer chain!\n",
      "N/50 = 400;\n",
      "tau: [246.94978574 808.85373706 861.73684244 328.59157673 864.77517631\n",
      " 913.18223388]\n"
     ]
    },
    {
     "name": "stderr",
     "output_type": "stream",
     "text": [
      "/its/home/dt237/.conda/envs/dev_xga/lib/python3.8/site-packages/astropy/units/quantity.py:477: RuntimeWarning: invalid value encountered in sqrt\n",
      "  result = super().__array_ufunc__(function, method, *arrays, **kwargs)\n",
      "/mnt/pact/dt237/code/PycharmProjects/XGA/xga/sourcetools/density.py:531: UserWarning: One or more of the quantities passed to the init of XLSSC-509's density profile has a NaN or Inf value in it.\n",
      "  warn(\"One or more of the quantities passed to the init of {}'s density profile has a NaN or Inf value\"\n",
      "\r",
      "Fitting data, inverse Abel transforming, and measuring densities:  98%|██████▊| 95/97 [35:18<00:42, 21.26s/it]"
     ]
    },
    {
     "name": "stdout",
     "output_type": "stream",
     "text": [
      "The chain is shorter than 50 times the integrated autocorrelation time for 6 parameter(s). Use this estimate with caution and run a longer chain!\n",
      "N/50 = 400;\n",
      "tau: [ 411.7123887  1351.68644793 1231.64855407  561.55577335 1074.68057541\n",
      " 1188.14082312]\n"
     ]
    },
    {
     "name": "stderr",
     "output_type": "stream",
     "text": [
      "/its/home/dt237/.conda/envs/dev_xga/lib/python3.8/site-packages/astropy/units/quantity.py:477: RuntimeWarning: invalid value encountered in sqrt\n",
      "  result = super().__array_ufunc__(function, method, *arrays, **kwargs)\n",
      "/mnt/pact/dt237/code/PycharmProjects/XGA/xga/sourcetools/density.py:531: UserWarning: One or more of the quantities passed to the init of XLSSC-510's density profile has a NaN or Inf value in it.\n",
      "  warn(\"One or more of the quantities passed to the init of {}'s density profile has a NaN or Inf value\"\n",
      "\r",
      "Fitting data, inverse Abel transforming, and measuring densities:  99%|██████▉| 96/97 [35:38<00:21, 21.05s/it]"
     ]
    },
    {
     "name": "stdout",
     "output_type": "stream",
     "text": [
      "The chain is shorter than 50 times the integrated autocorrelation time for 4 parameter(s). Use this estimate with caution and run a longer chain!\n",
      "N/50 = 400;\n",
      "tau: [328.30231586 713.54329209 677.12178248 323.08953941 507.03541346\n",
      " 677.91820736]\n"
     ]
    },
    {
     "name": "stderr",
     "output_type": "stream",
     "text": [
      "Fitting data, inverse Abel transforming, and measuring densities: 100%|███████| 97/97 [36:01<00:00, 22.28s/it]"
     ]
    },
    {
     "name": "stdout",
     "output_type": "stream",
     "text": [
      "The chain is shorter than 50 times the integrated autocorrelation time for 5 parameter(s). Use this estimate with caution and run a longer chain!\n",
      "N/50 = 400;\n",
      "tau: [ 368.1119864   932.14917731 1037.32886913  506.78257008  553.33231361\n",
      "  846.15480429]\n"
     ]
    },
    {
     "name": "stderr",
     "output_type": "stream",
     "text": [
      "\n"
     ]
    }
   ],
   "source": [
    "xxl_dblbeta_13_dp = inv_abel_fitted_model(xxl_srcs, 'double_beta', 'mcmc', xxl_srcs.r500*1.3, \n",
    "                                       conv_temp=xxl_conv_txs, conv_outer_radius=Quantity(300, 'kpc'))"
   ]
  },
  {
   "cell_type": "code",
   "execution_count": 25,
   "id": "6529bdfc",
   "metadata": {},
   "outputs": [
    {
     "name": "stdout",
     "output_type": "stream",
     "text": [
      "╒════════════════════════════════╤═══════════════════════════════════════════════════════════════════════╕\n",
      "│ Simplified Vikhlinin Profile   │                                                                       │\n",
      "╞════════════════════════════════╪═══════════════════════════════════════════════════════════════════════╡\n",
      "│ DESCRIBES                      │ Gas Density                                                           │\n",
      "├────────────────────────────────┼───────────────────────────────────────────────────────────────────────┤\n",
      "│ UNIT                           │ 1 / cm3                                                               │\n",
      "├────────────────────────────────┼───────────────────────────────────────────────────────────────────────┤\n",
      "│ PARAMETERS                     │ beta, r_core, alpha, r_s, epsilon, norm                               │\n",
      "├────────────────────────────────┼───────────────────────────────────────────────────────────────────────┤\n",
      "│ PARAMETER UNITS                │ , kpc, , kpc, , 1 / cm3                                               │\n",
      "├────────────────────────────────┼───────────────────────────────────────────────────────────────────────┤\n",
      "│ AUTHOR                         │ Ghirardini et al.                                                     │\n",
      "├────────────────────────────────┼───────────────────────────────────────────────────────────────────────┤\n",
      "│ YEAR                           │ 2019                                                                  │\n",
      "├────────────────────────────────┼───────────────────────────────────────────────────────────────────────┤\n",
      "│ PAPER                          │ https://doi.org/10.1051/0004-6361/201833325                           │\n",
      "├────────────────────────────────┼───────────────────────────────────────────────────────────────────────┤\n",
      "│ INFO                           │ A simplified form of Vikhlinin's full density model, a type of broken │\n",
      "│                                │  power law that deals well with most galaxy cluster density profile.  │\n",
      "╘════════════════════════════════╧═══════════════════════════════════════════════════════════════════════╛\n"
     ]
    },
    {
     "data": {
      "text/plain": [
       "[{'prior': <Quantity [0., 3.]>, 'type': 'uniform'},\n",
       " {'prior': <Quantity [   0., 2000.] kpc>, 'type': 'uniform'},\n",
       " {'prior': <Quantity [0., 3.]>, 'type': 'uniform'},\n",
       " {'prior': <Quantity [   0., 2000.] kpc>, 'type': 'uniform'},\n",
       " {'prior': <Quantity [0., 5.]>, 'type': 'uniform'},\n",
       " {'prior': <Quantity [ 0., 10.] 1 / cm3>, 'type': 'uniform'}]"
      ]
     },
     "execution_count": 25,
     "metadata": {},
     "output_type": "execute_result"
    }
   ],
   "source": [
    "demo_d_mod = SimpleVikhlininDensity1D(y_unit=Unit(\"1 / cm^3\"))\n",
    "demo_d_mod.info()\n",
    "demo_d_mod.par_priors"
   ]
  },
  {
   "cell_type": "code",
   "execution_count": 26,
   "id": "38022e29",
   "metadata": {
    "scrolled": true
   },
   "outputs": [
    {
     "name": "stderr",
     "output_type": "stream",
     "text": [
      "Fitting density model to XXL profiles:  16%|█████▌                            | 16/97 [00:35<03:01,  2.24s/it]"
     ]
    },
    {
     "name": "stdout",
     "output_type": "stream",
     "text": [
      "The chain is shorter than 50 times the integrated autocorrelation time for 3 parameter(s). Use this estimate with caution and run a longer chain!\n",
      "N/50 = 600;\n",
      "tau: [ 846.94777134 1497.52287957  485.42603301 1206.62220169  324.28101695\n",
      "  578.91509088]\n"
     ]
    },
    {
     "name": "stderr",
     "output_type": "stream",
     "text": [
      "\r",
      "Fitting density model to XXL profiles:  18%|█████▉                            | 17/97 [01:17<07:18,  5.48s/it]"
     ]
    },
    {
     "name": "stdout",
     "output_type": "stream",
     "text": [
      "The chain is shorter than 50 times the integrated autocorrelation time for 1 parameter(s). Use this estimate with caution and run a longer chain!\n",
      "N/50 = 600;\n",
      "tau: [191.33205272 286.52508187 765.94305786 162.71380425 128.80952109\n",
      " 462.5299912 ]\n"
     ]
    },
    {
     "name": "stderr",
     "output_type": "stream",
     "text": [
      "\r",
      "Fitting density model to XXL profiles:  20%|██████▋                           | 19/97 [01:54<10:19,  7.95s/it]"
     ]
    },
    {
     "name": "stdout",
     "output_type": "stream",
     "text": [
      "The chain is shorter than 50 times the integrated autocorrelation time for 3 parameter(s). Use this estimate with caution and run a longer chain!\n",
      "N/50 = 600;\n",
      "tau: [ 651.07571969 1423.92487859  442.42841791 1246.54397099  330.01375715\n",
      "  558.04564012]\n"
     ]
    },
    {
     "name": "stderr",
     "output_type": "stream",
     "text": [
      "\r",
      "Fitting density model to XXL profiles:  23%|███████▋                          | 22/97 [02:48<13:31, 10.83s/it]"
     ]
    },
    {
     "name": "stdout",
     "output_type": "stream",
     "text": [
      "The chain is shorter than 50 times the integrated autocorrelation time for 6 parameter(s). Use this estimate with caution and run a longer chain!\n",
      "N/50 = 600;\n",
      "tau: [ 626.39198214 1445.70836585 1034.79018239 1129.05262774 1129.66262982\n",
      " 1305.70805655]\n"
     ]
    },
    {
     "name": "stderr",
     "output_type": "stream",
     "text": [
      "\r",
      "Fitting density model to XXL profiles:  26%|████████▊                         | 25/97 [03:27<13:44, 11.45s/it]"
     ]
    },
    {
     "name": "stdout",
     "output_type": "stream",
     "text": [
      "The chain is shorter than 50 times the integrated autocorrelation time for 6 parameter(s). Use this estimate with caution and run a longer chain!\n",
      "N/50 = 600;\n",
      "tau: [ 949.42227368 1795.49793216  925.98176777 1875.11766541  775.87066649\n",
      " 1312.40754279]\n"
     ]
    },
    {
     "name": "stderr",
     "output_type": "stream",
     "text": [
      "\r",
      "Fitting density model to XXL profiles:  28%|█████████▍                        | 27/97 [04:05<15:20, 13.15s/it]"
     ]
    },
    {
     "name": "stdout",
     "output_type": "stream",
     "text": [
      "The chain is shorter than 50 times the integrated autocorrelation time for 3 parameter(s). Use this estimate with caution and run a longer chain!\n",
      "N/50 = 600;\n",
      "tau: [345.74636226 620.14244819 761.80602595 502.36435544 414.58137194\n",
      " 675.58869566]\n"
     ]
    },
    {
     "name": "stderr",
     "output_type": "stream",
     "text": [
      "\r",
      "Fitting density model to XXL profiles:  29%|█████████▊                        | 28/97 [04:42<18:46, 16.32s/it]"
     ]
    },
    {
     "name": "stdout",
     "output_type": "stream",
     "text": [
      "The chain is shorter than 50 times the integrated autocorrelation time for 5 parameter(s). Use this estimate with caution and run a longer chain!\n",
      "N/50 = 600;\n",
      "tau: [1173.41810073 1496.15183216  998.37753327  884.96024882  479.69142098\n",
      " 1591.94454197]\n"
     ]
    },
    {
     "name": "stderr",
     "output_type": "stream",
     "text": [
      "\r",
      "Fitting density model to XXL profiles:  30%|██████████▏                       | 29/97 [05:17<21:56, 19.36s/it]"
     ]
    },
    {
     "name": "stdout",
     "output_type": "stream",
     "text": [
      "The chain is shorter than 50 times the integrated autocorrelation time for 6 parameter(s). Use this estimate with caution and run a longer chain!\n",
      "N/50 = 600;\n",
      "tau: [2883.63617846 3019.26644569 1662.45709292 2073.35529913 1423.25840335\n",
      " 2968.5728293 ]\n"
     ]
    },
    {
     "name": "stderr",
     "output_type": "stream",
     "text": [
      "Fitting density model to XXL profiles:  35%|███████████▉                      | 34/97 [06:42<20:17, 19.33s/it]"
     ]
    },
    {
     "name": "stdout",
     "output_type": "stream",
     "text": [
      "The chain is shorter than 50 times the integrated autocorrelation time for 3 parameter(s). Use this estimate with caution and run a longer chain!\n",
      "N/50 = 600;\n",
      "tau: [ 154.95520045  844.14181204 1443.67804985  139.63458843  121.58832169\n",
      " 1257.15332157]\n"
     ]
    },
    {
     "name": "stderr",
     "output_type": "stream",
     "text": [
      "Fitting density model to XXL profiles:  38%|████████████▉                     | 37/97 [08:09<24:09, 24.15s/it]"
     ]
    },
    {
     "name": "stdout",
     "output_type": "stream",
     "text": [
      "The chain is shorter than 50 times the integrated autocorrelation time for 3 parameter(s). Use this estimate with caution and run a longer chain!\n",
      "N/50 = 600;\n",
      "tau: [ 515.95582811 1560.37824092  554.27293224  554.48812189  632.30822043\n",
      " 1097.20448035]\n"
     ]
    },
    {
     "name": "stderr",
     "output_type": "stream",
     "text": [
      "\r",
      "Fitting density model to XXL profiles:  40%|█████████████▋                    | 39/97 [08:46<21:35, 22.34s/it]"
     ]
    },
    {
     "name": "stdout",
     "output_type": "stream",
     "text": [
      "The chain is shorter than 50 times the integrated autocorrelation time for 4 parameter(s). Use this estimate with caution and run a longer chain!\n",
      "N/50 = 600;\n",
      "tau: [ 547.2799765  1361.63606552  658.91065597 1020.49460846  555.49352728\n",
      " 1158.53996899]\n"
     ]
    },
    {
     "name": "stderr",
     "output_type": "stream",
     "text": [
      "\r",
      "Fitting density model to XXL profiles:  42%|██████████████▎                   | 41/97 [09:21<19:19, 20.70s/it]"
     ]
    },
    {
     "name": "stdout",
     "output_type": "stream",
     "text": [
      "The chain is shorter than 50 times the integrated autocorrelation time for 6 parameter(s). Use this estimate with caution and run a longer chain!\n",
      "N/50 = 600;\n",
      "tau: [2548.48610098 2875.0677434  3474.20136258 1980.73108582 1012.90893115\n",
      " 3084.13949068]\n"
     ]
    },
    {
     "name": "stderr",
     "output_type": "stream",
     "text": [
      "\r",
      "Fitting density model to XXL profiles:  43%|██████████████▋                   | 42/97 [10:00<22:09, 24.18s/it]"
     ]
    },
    {
     "name": "stdout",
     "output_type": "stream",
     "text": [
      "The chain is shorter than 50 times the integrated autocorrelation time for 5 parameter(s). Use this estimate with caution and run a longer chain!\n",
      "N/50 = 600;\n",
      "tau: [1556.08938628 1547.2146829  1154.73135919 1262.64398074  471.79354441\n",
      " 1655.12973833]\n"
     ]
    },
    {
     "name": "stderr",
     "output_type": "stream",
     "text": [
      "\r",
      "Fitting density model to XXL profiles:  45%|███████████████▍                  | 44/97 [10:32<18:48, 21.30s/it]"
     ]
    },
    {
     "name": "stdout",
     "output_type": "stream",
     "text": [
      "The chain is shorter than 50 times the integrated autocorrelation time for 4 parameter(s). Use this estimate with caution and run a longer chain!\n",
      "N/50 = 600;\n",
      "tau: [ 588.60211667 2072.76805359 2646.81196041  767.88717669  586.66275036\n",
      " 1236.62960614]\n"
     ]
    },
    {
     "name": "stderr",
     "output_type": "stream",
     "text": [
      "\r",
      "Fitting density model to XXL profiles:  49%|████████████████▊                 | 48/97 [11:14<13:00, 15.94s/it]"
     ]
    },
    {
     "name": "stdout",
     "output_type": "stream",
     "text": [
      "The chain is shorter than 50 times the integrated autocorrelation time for 1 parameter(s). Use this estimate with caution and run a longer chain!\n",
      "N/50 = 600;\n",
      "tau: [105.13883936 170.9918504  841.49366236 109.74051724 128.44871456\n",
      " 289.77420044]\n"
     ]
    },
    {
     "name": "stderr",
     "output_type": "stream",
     "text": [
      "\r",
      "Fitting density model to XXL profiles:  51%|█████████████████▏                | 49/97 [12:04<16:49, 21.04s/it]"
     ]
    },
    {
     "name": "stdout",
     "output_type": "stream",
     "text": [
      "The chain is shorter than 50 times the integrated autocorrelation time for 6 parameter(s). Use this estimate with caution and run a longer chain!\n",
      "N/50 = 600;\n",
      "tau: [1118.11764972 1834.74312903 1569.2632736  1781.36027705 1110.54242549\n",
      " 1778.1988495 ]\n"
     ]
    },
    {
     "name": "stderr",
     "output_type": "stream",
     "text": [
      "Fitting density model to XXL profiles:  53%|█████████████████▉                | 51/97 [13:23<21:00, 27.40s/it]"
     ]
    },
    {
     "name": "stdout",
     "output_type": "stream",
     "text": [
      "The chain is shorter than 50 times the integrated autocorrelation time for 6 parameter(s). Use this estimate with caution and run a longer chain!\n",
      "N/50 = 600;\n",
      "tau: [2144.64547414 2525.38525951 2994.66319134 1564.59743169 1266.77477221\n",
      " 2798.78432068]\n"
     ]
    },
    {
     "name": "stderr",
     "output_type": "stream",
     "text": [
      "\r",
      "Fitting density model to XXL profiles:  54%|██████████████████▏               | 52/97 [14:02<22:28, 29.96s/it]"
     ]
    },
    {
     "name": "stdout",
     "output_type": "stream",
     "text": [
      "The chain is shorter than 50 times the integrated autocorrelation time for 6 parameter(s). Use this estimate with caution and run a longer chain!\n",
      "N/50 = 600;\n",
      "tau: [1253.54047833 1831.75865957 1554.87304858 1291.3363042   661.75130459\n",
      " 1782.51636637]\n"
     ]
    },
    {
     "name": "stderr",
     "output_type": "stream",
     "text": [
      "\r",
      "Fitting density model to XXL profiles:  56%|██████████████████▉               | 54/97 [14:40<18:26, 25.73s/it]"
     ]
    },
    {
     "name": "stdout",
     "output_type": "stream",
     "text": [
      "The chain is shorter than 50 times the integrated autocorrelation time for 2 parameter(s). Use this estimate with caution and run a longer chain!\n",
      "N/50 = 600;\n",
      "tau: [362.05224221 565.93475481 596.09344646 649.87517196 393.96292892\n",
      " 702.7761278 ]\n"
     ]
    },
    {
     "name": "stderr",
     "output_type": "stream",
     "text": [
      "\r",
      "Fitting density model to XXL profiles:  60%|████████████████████▎             | 58/97 [15:17<11:03, 17.01s/it]"
     ]
    },
    {
     "name": "stdout",
     "output_type": "stream",
     "text": [
      "The chain is shorter than 50 times the integrated autocorrelation time for 2 parameter(s). Use this estimate with caution and run a longer chain!\n",
      "N/50 = 600;\n",
      "tau: [516.69037215 613.39905283 221.33835505 797.74144993 231.16239319\n",
      " 290.2410294 ]\n"
     ]
    },
    {
     "name": "stderr",
     "output_type": "stream",
     "text": [
      "\r",
      "Fitting density model to XXL profiles:  61%|████████████████████▋             | 59/97 [16:02<13:34, 21.45s/it]"
     ]
    },
    {
     "name": "stdout",
     "output_type": "stream",
     "text": [
      "The chain is shorter than 50 times the integrated autocorrelation time for 1 parameter(s). Use this estimate with caution and run a longer chain!\n",
      "N/50 = 600;\n",
      "tau: [582.89736682 449.57670775 385.92181254 660.92209853 263.15109513\n",
      " 410.50316652]\n"
     ]
    },
    {
     "name": "stderr",
     "output_type": "stream",
     "text": [
      "\r",
      "Fitting density model to XXL profiles:  62%|█████████████████████             | 60/97 [16:38<14:55, 24.20s/it]"
     ]
    },
    {
     "name": "stdout",
     "output_type": "stream",
     "text": [
      "The chain is shorter than 50 times the integrated autocorrelation time for 4 parameter(s). Use this estimate with caution and run a longer chain!\n",
      "N/50 = 600;\n",
      "tau: [ 625.7007345   859.93022999 1754.88658576  403.74728049  230.09027857\n",
      " 1111.59954586]\n"
     ]
    },
    {
     "name": "stderr",
     "output_type": "stream",
     "text": [
      "\r",
      "Fitting density model to XXL profiles:  66%|██████████████████████▍           | 64/97 [17:14<09:01, 16.42s/it]"
     ]
    },
    {
     "name": "stdout",
     "output_type": "stream",
     "text": [
      "The chain is shorter than 50 times the integrated autocorrelation time for 5 parameter(s). Use this estimate with caution and run a longer chain!\n",
      "N/50 = 600;\n",
      "tau: [ 776.51312724 1357.30116624  965.42801739  620.07410995  425.53729685\n",
      " 1226.96256907]\n"
     ]
    },
    {
     "name": "stderr",
     "output_type": "stream",
     "text": [
      "\r",
      "Fitting density model to XXL profiles:  68%|███████████████████████▏          | 66/97 [17:49<08:35, 16.64s/it]"
     ]
    },
    {
     "name": "stdout",
     "output_type": "stream",
     "text": [
      "The chain is shorter than 50 times the integrated autocorrelation time for 2 parameter(s). Use this estimate with caution and run a longer chain!\n",
      "N/50 = 600;\n",
      "tau: [ 399.17650768 1124.32018903  420.22368546 1044.9575986   376.96804541\n",
      "  563.36114306]\n"
     ]
    },
    {
     "name": "stderr",
     "output_type": "stream",
     "text": [
      "\r",
      "Fitting density model to XXL profiles:  69%|███████████████████████▍          | 67/97 [18:29<10:14, 20.48s/it]"
     ]
    },
    {
     "name": "stdout",
     "output_type": "stream",
     "text": [
      "The chain is shorter than 50 times the integrated autocorrelation time for 3 parameter(s). Use this estimate with caution and run a longer chain!\n",
      "N/50 = 600;\n",
      "tau: [ 393.38459763 1424.33840071 2413.08642467  405.97882835  259.75938081\n",
      " 1690.72422813]\n"
     ]
    },
    {
     "name": "stderr",
     "output_type": "stream",
     "text": [
      "\r",
      "Fitting density model to XXL profiles:  70%|███████████████████████▊          | 68/97 [19:11<11:48, 24.44s/it]"
     ]
    },
    {
     "name": "stdout",
     "output_type": "stream",
     "text": [
      "The chain is shorter than 50 times the integrated autocorrelation time for 3 parameter(s). Use this estimate with caution and run a longer chain!\n",
      "N/50 = 600;\n",
      "tau: [332.56332933 728.91641927 371.54957855 872.14238483 410.31966067\n",
      " 745.96602508]\n"
     ]
    },
    {
     "name": "stderr",
     "output_type": "stream",
     "text": [
      "\r",
      "Fitting density model to XXL profiles:  75%|█████████████████████████▌        | 73/97 [19:54<06:10, 15.42s/it]"
     ]
    },
    {
     "name": "stdout",
     "output_type": "stream",
     "text": [
      "The chain is shorter than 50 times the integrated autocorrelation time for 3 parameter(s). Use this estimate with caution and run a longer chain!\n",
      "N/50 = 600;\n",
      "tau: [1190.12355536  827.0713899   466.30095659  941.98480053  288.7322477\n",
      "  567.50635098]\n"
     ]
    },
    {
     "name": "stderr",
     "output_type": "stream",
     "text": [
      "\r",
      "Fitting density model to XXL profiles:  76%|█████████████████████████▉        | 74/97 [20:31<07:04, 18.44s/it]"
     ]
    },
    {
     "name": "stdout",
     "output_type": "stream",
     "text": [
      "The chain is shorter than 50 times the integrated autocorrelation time for 3 parameter(s). Use this estimate with caution and run a longer chain!\n",
      "N/50 = 600;\n",
      "tau: [ 404.66499073  616.91052738 1148.7321984   436.11624174  233.99499755\n",
      "  701.48620283]\n"
     ]
    },
    {
     "name": "stderr",
     "output_type": "stream",
     "text": [
      "\r",
      "Fitting density model to XXL profiles:  77%|██████████████████████████▎       | 75/97 [21:21<08:42, 23.77s/it]"
     ]
    },
    {
     "name": "stdout",
     "output_type": "stream",
     "text": [
      "The chain is shorter than 50 times the integrated autocorrelation time for 3 parameter(s). Use this estimate with caution and run a longer chain!\n",
      "N/50 = 600;\n",
      "tau: [720.06561245 656.99270882 563.88117524 487.47829676 393.96779982\n",
      " 607.57150406]\n"
     ]
    },
    {
     "name": "stderr",
     "output_type": "stream",
     "text": [
      "\r",
      "Fitting density model to XXL profiles:  81%|███████████████████████████▋      | 79/97 [22:01<05:05, 16.96s/it]"
     ]
    },
    {
     "name": "stdout",
     "output_type": "stream",
     "text": [
      "The chain is shorter than 50 times the integrated autocorrelation time for 6 parameter(s). Use this estimate with caution and run a longer chain!\n",
      "N/50 = 600;\n",
      "tau: [ 890.56914092 2673.42522889 1368.70232861 2787.80995765 1008.76991456\n",
      " 2228.77206902]\n"
     ]
    },
    {
     "name": "stderr",
     "output_type": "stream",
     "text": [
      "\r",
      "Fitting density model to XXL profiles:  85%|████████████████████████████▋     | 82/97 [22:37<03:49, 15.33s/it]"
     ]
    },
    {
     "name": "stdout",
     "output_type": "stream",
     "text": [
      "The chain is shorter than 50 times the integrated autocorrelation time for 4 parameter(s). Use this estimate with caution and run a longer chain!\n",
      "N/50 = 600;\n",
      "tau: [ 607.05967944 1182.39343752  533.75954128 1100.66029129  388.52518252\n",
      "  617.13388966]\n"
     ]
    },
    {
     "name": "stderr",
     "output_type": "stream",
     "text": [
      "\r",
      "Fitting density model to XXL profiles:  86%|█████████████████████████████     | 83/97 [23:20<04:28, 19.16s/it]"
     ]
    },
    {
     "name": "stdout",
     "output_type": "stream",
     "text": [
      "The chain is shorter than 50 times the integrated autocorrelation time for 4 parameter(s). Use this estimate with caution and run a longer chain!\n",
      "N/50 = 600;\n",
      "tau: [1288.91029856 2470.77291963 1938.41345596  573.56605674  463.97897427\n",
      " 2520.35053979]\n"
     ]
    },
    {
     "name": "stderr",
     "output_type": "stream",
     "text": [
      "\r",
      "Fitting density model to XXL profiles:  88%|█████████████████████████████▊    | 85/97 [23:54<03:42, 18.53s/it]"
     ]
    },
    {
     "name": "stdout",
     "output_type": "stream",
     "text": [
      "The chain is shorter than 50 times the integrated autocorrelation time for 6 parameter(s). Use this estimate with caution and run a longer chain!\n",
      "N/50 = 600;\n",
      "tau: [ 793.07117044 1096.21485416  756.78045178 1112.12746125  601.36049748\n",
      "  846.17595592]\n"
     ]
    },
    {
     "name": "stderr",
     "output_type": "stream",
     "text": [
      "\r",
      "Fitting density model to XXL profiles:  93%|███████████████████████████████▌  | 90/97 [24:29<01:28, 12.68s/it]"
     ]
    },
    {
     "name": "stdout",
     "output_type": "stream",
     "text": [
      "The chain is shorter than 50 times the integrated autocorrelation time for 6 parameter(s). Use this estimate with caution and run a longer chain!\n",
      "N/50 = 600;\n",
      "tau: [2912.34821268 3209.07215032 2962.29012398 1925.37780418 2452.65621285\n",
      " 3139.96430405]\n"
     ]
    },
    {
     "name": "stderr",
     "output_type": "stream",
     "text": [
      "\r",
      "Fitting density model to XXL profiles:  94%|███████████████████████████████▉  | 91/97 [25:10<01:38, 16.35s/it]"
     ]
    },
    {
     "name": "stdout",
     "output_type": "stream",
     "text": [
      "The chain is shorter than 50 times the integrated autocorrelation time for 6 parameter(s). Use this estimate with caution and run a longer chain!\n",
      "N/50 = 600;\n",
      "tau: [2956.18039441 3233.23539676 3354.01269554 2357.18917015  706.77107445\n",
      " 3521.17355397]\n"
     ]
    },
    {
     "name": "stderr",
     "output_type": "stream",
     "text": [
      "Fitting density model to XXL profiles: 100%|██████████████████████████████████| 97/97 [25:49<00:00, 15.97s/it]"
     ]
    },
    {
     "name": "stdout",
     "output_type": "stream",
     "text": [
      "The chain is shorter than 50 times the integrated autocorrelation time for 4 parameter(s). Use this estimate with caution and run a longer chain!\n",
      "N/50 = 600;\n",
      "tau: [ 545.56122386 1090.3708709   875.16908116  799.35096133  412.03544178\n",
      "  992.30947402]\n"
     ]
    },
    {
     "name": "stderr",
     "output_type": "stream",
     "text": [
      "\n"
     ]
    }
   ],
   "source": [
    "with tqdm(desc=\"Fitting density model to XXL profiles\", total=len(xxl_dblbeta_13_dp)) as onwards:\n",
    "    for dp in xxl_dblbeta_13_dp:\n",
    "        if dp is not None:\n",
    "            dp.fit('simple_vikhlinin_dens', progress_bar=False)\n",
    "        onwards.update(1)"
   ]
  },
  {
   "cell_type": "code",
   "execution_count": 27,
   "id": "2aa45460",
   "metadata": {},
   "outputs": [
    {
     "name": "stderr",
     "output_type": "stream",
     "text": [
      "Calculating XXL gas masses:  37%|████████████████▋                            | 36/97 [01:23<03:41,  3.63s/it]/mnt/pact/dt237/code/PycharmProjects/XGA/xga/models/base.py:423: IntegrationWarning: The integral is probably divergent, or slowly convergent.\n",
      "  integral_res[par_ind] = 4 * np.pi * quad(integrand, 0, outer_radius.value,\n",
      "/mnt/pact/dt237/code/PycharmProjects/XGA/xga/models/base.py:423: IntegrationWarning: The algorithm does not converge.  Roundoff error is detected\n",
      "  in the extrapolation table.  It is assumed that the requested tolerance\n",
      "  cannot be achieved, and that the returned result (if full_output = 1) is \n",
      "  the best which can be obtained.\n",
      "  integral_res[par_ind] = 4 * np.pi * quad(integrand, 0, outer_radius.value,\n",
      "Calculating XXL gas masses: 100%|█████████████████████████████████████████████| 97/97 [05:52<00:00,  3.63s/it]\n"
     ]
    }
   ],
   "source": [
    "xxl_dblbeta_svikh_13_gm = []\n",
    "with tqdm(desc=\"Calculating XXL gas masses\", total=len(xxl_dblbeta_13_dp)) as onwards:\n",
    "    for dp in xxl_dblbeta_13_dp:\n",
    "        if dp is not None:\n",
    "            gm = dp.gas_mass(\"simple_vikhlinin_dens\", xxl_srcs[dp.src_name].r500)[0]\n",
    "            xxl_dblbeta_svikh_13_gm.append(gm)\n",
    "        else:\n",
    "            xxl_dblbeta_svikh_13_gm.append([np.NaN, np.NaN, np.NaN])\n",
    "        onwards.update(1)\n",
    "        \n",
    "xxl_dblbeta_svikh_13_gm = Quantity(xxl_dblbeta_svikh_13_gm, 'Msun')"
   ]
  },
  {
   "cell_type": "code",
   "execution_count": 33,
   "id": "40d4acc6",
   "metadata": {},
   "outputs": [
    {
     "data": {
      "image/png": "[encoded data removed]",
      "text/plain": [
       "<Figure size 432x432 with 1 Axes>"
      ]
     },
     "metadata": {
      "needs_background": "light"
     },
     "output_type": "display_data"
    }
   ],
   "source": [
    "# Setting the y-position and font size of the a, b, and c labels that are added below the subplots\n",
    "sublabel_ypos = -0.115\n",
    "sublabel_fsize = 14\n",
    "\n",
    "# Set up the matplotlib figure with 3 columns, meaning three subplots\n",
    "fig, ax = plt.subplots(ncols=1, figsize=(6, 6))\n",
    "ax.minorticks_on()\n",
    "ax.tick_params(which='both', top=True, right=True, direction='in')\n",
    "plt.sca(ax)\n",
    "\n",
    "# Fetching appropriate limits for comparing the two sets of gas-mass measurements\n",
    "xxl_lims = find_lims(xxl_lit_gms, xxl_dblbeta_svikh_13_gm).value\n",
    "\n",
    "# Plotting a 1:1 line to help with comparisons\n",
    "plt.plot(xxl_lims, xxl_lims, color='red', linestyle=\"dashed\", label=\"1:1\")\n",
    "# Plotting the two datasets with uncertainties\n",
    "plt.errorbar(xxl_lit_gms[:, 0].value, xxl_dblbeta_svikh_13_gm[:, 0].value, xerr=xxl_lit_gms[:, 1].value, \n",
    "             yerr=xxl_dblbeta_svikh_13_gm[:, 1:].T.value, fmt='x', \n",
    "             color=xxlgc100_colour, capsize=2, label=\"XXL-100-GC\")\n",
    "\n",
    "# # Labelling axes, setting labels etc.\n",
    "ax.set_xlabel(r\"XXL Gas Mass [M$_{\\odot}$]\", fontsize=15)\n",
    "ax.set_xlim(xxl_lims)\n",
    "ax.set_ylabel(\"XGA Gas Mass [M$_{\\odot}$]\", fontsize=15)\n",
    "ax.set_ylim(xxl_lims)\n",
    "\n",
    "ax.legend(loc='best', fontsize=14)\n",
    "\n",
    "# Saving and plotting the resulting figure\n",
    "plt.tight_layout()\n",
    "# plt.savefig(\"non_paper_figures/xxl_dblbeta_svikh_1.3r500_gm_comp.pdf\")\n",
    "plt.show()\n",
    "plt.close('all')"
   ]
  }
 ],
 "metadata": {
  "kernelspec": {
   "display_name": "Python 3 (ipykernel)",
   "language": "python",
   "name": "python3"
  },
  "language_info": {
   "codemirror_mode": {
    "name": "ipython",
    "version": 3
   },
   "file_extension": ".py",
   "mimetype": "text/x-python",
   "name": "python",
   "nbconvert_exporter": "python",
   "pygments_lexer": "ipython3",
   "version": "3.8.11"
  }
 },
 "nbformat": 4,
 "nbformat_minor": 5
}
