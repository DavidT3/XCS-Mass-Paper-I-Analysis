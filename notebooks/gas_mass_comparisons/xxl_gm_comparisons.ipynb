{
 "cells": [
  {
   "cell_type": "markdown",
   "id": "56365db4",
   "metadata": {},
   "source": [
    "# Comparing Total Gas Masses Between Analyses - XXL-100-GC"
   ]
  },
  {
   "cell_type": "markdown",
   "id": "dc4bf697",
   "metadata": {},
   "source": [
    "This notebook measures gas masses for the XXL-100-GC sample, then compares them to the measurements from literature. While the focus of this work is the measurement of total galaxy cluster masses, comparing measured gas masses gives us an avenue to probe how similar our measurements of the baryon density of the clusters are to those from literature. Seeing as knowledge of the gas density profile feeds into the total gas mass, its important to know if we are consistent."
   ]
  },
  {
   "cell_type": "markdown",
   "id": "723ab4b7",
   "metadata": {},
   "source": [
    "## Import Statements"
   ]
  },
  {
   "cell_type": "code",
   "execution_count": 58,
   "id": "c41a3b88",
   "metadata": {},
   "outputs": [],
   "source": [
    "import pandas as pd\n",
    "import numpy as np\n",
    "from astropy.units import Quantity, UnitConversionError, Unit\n",
    "from astropy.cosmology import LambdaCDM, WMAP9\n",
    "import matplotlib.pyplot as plt\n",
    "from typing import Union, List\n",
    "from shutil import rmtree\n",
    "import os\n",
    "from tqdm import tqdm\n",
    "\n",
    "# This adds the directory above to the path, allowing me to import the common functions that I've written in\n",
    "#  common.py - this just saves me repeating boring code and makes sure its all consistent\n",
    "import sys\n",
    "sys.path.insert(0, '..')\n",
    "from common import xxlgc100_colour, xxl_cosmo, direct_comparison_plot, find_lims, fit_comp\n",
    "\n",
    "import xga\n",
    "# This just sets the number of cores this analysis is allowed to use\n",
    "xga.NUM_CORES = 30\n",
    "# This is a bodge that will only work because xga_output in notebooks has already been defined, XGA\n",
    "#  will be made to handle this more gracefully at some point\n",
    "temp_dir = xga.OUTPUT\n",
    "actual_dir = temp_dir.split('notebooks/')[0]+'notebooks/xga_output/'\n",
    "xga.OUTPUT = actual_dir\n",
    "xga.utils.OUTPUT = actual_dir\n",
    "# As currently XGA will setup an xga_output directory in our current directory, I remove it to keep it all clean\n",
    "if os.path.exists('xga_output'):\n",
    "    rmtree('xga_output')\n",
    "from xga.samples import ClusterSample\n",
    "from xga.imagetools.psf import rl_psf\n",
    "from xga.sourcetools.density import inv_abel_fitted_model, ann_spectra_apec_norm\n",
    "from xga.models import BetaProfile1D, DoubleBetaProfile1D, KingProfile1D, SimpleVikhlininDensity1D\n",
    "from xga.exceptions import ModelNotAssociatedError\n",
    "from xga.xspec import single_temp_apec"
   ]
  },
  {
   "cell_type": "markdown",
   "id": "840bef7f",
   "metadata": {},
   "source": [
    "## Reading in Sample Files and Declaring XGA ClusterSamples"
   ]
  },
  {
   "cell_type": "markdown",
   "id": "5d38b971",
   "metadata": {},
   "source": [
    "This subsection involves reading in the sample files of the four test samples (described in [the sample properties notebook](sample_properties.ipynb)), then setting up separate XGA ClusterSample instances (see [the documentation](https://xga.readthedocs.io/en/latest/notebooks/tutorials/sources_samples.html) for an introduction to XGA source and sample objects.\n",
    "\n",
    "We impose an additional cleaning step on each sample, where we make sure that (for each XMM observation initially associated with a source) at least 70% of a cluster's $R_{500}$ falls on that observation - if this requirement is not met then the observation is excluded. These requirements are set with the `clean_obs=True`, `clean_obs_reg='r500'`, and `clean_obs_threshold=0.7` arguments when a ClusterSample instance is declared."
   ]
  },
  {
   "cell_type": "code",
   "execution_count": 40,
   "id": "c302faf5",
   "metadata": {},
   "outputs": [],
   "source": [
    "xxlgc100 = pd.read_csv(\"../../sample_files/xxl_gc100.csv\")\n",
    "\n",
    "# Limit the comparison to clusters with a flag of 0 - meaning it is in the main sample of 100 clusters\n",
    "xxlgc100 = xxlgc100[xxlgc100['Flag'] == 0]\n",
    "\n",
    "# Excluding a specific cluster which was excluded in the XXL analysis\n",
    "xxlgc100 = xxlgc100[xxlgc100['XLSSC'] != 504]"
   ]
  },
  {
   "cell_type": "code",
   "execution_count": 3,
   "id": "2974bcac",
   "metadata": {
    "scrolled": true
   },
   "outputs": [
    {
     "name": "stderr",
     "output_type": "stream",
     "text": [
      "Declaring BaseSource Sample: 100%|████████████████████████████████████████████| 99/99 [04:42<00:00,  2.85s/it]\n",
      "Setting up Galaxy Clusters: 100%|█████████████████████████████████████████████| 99/99 [11:34<00:00,  7.02s/it]\n",
      "/tmp/ipykernel_8519/1200257332.py:10: UserWarning: The following do not appear to have any XMM data, and will not be included in the sample (can also check .failed_names); XLSSC-61, XLSSC-527\n",
      "  xxl_srcs = ClusterSample(ra, dec, z, n, r500=r500, cosmology=xxl_cosmo, load_fits=True, use_peak=False,\n",
      "/mnt/pact/dt237/code/PycharmProjects/XGA/xga/samples/extended.py:237: UserWarning: Non-fatal warnings occurred during the declaration of some sources, to access them please use the suppressed_warnings property of this sample.\n",
      "  self._check_source_warnings()\n"
     ]
    }
   ],
   "source": [
    "# Reading out the relevant values into arrays just for ease of passing into the ClusterSample object\n",
    "ra = xxlgc100['ra'].values\n",
    "dec = xxlgc100['dec'].values\n",
    "z = xxlgc100['z'].values\n",
    "n = xxlgc100['name'].values\n",
    "r500 = Quantity(xxlgc100['r500MT'].values, 'Mpc')\n",
    "\n",
    "# Declaring the actual ClusterSample instance for the XXL sample\n",
    "# This is the only sample whose original analysis used the WMAP9 cosmology\n",
    "xxl_srcs = ClusterSample(ra, dec, z, n, r500=r500, cosmology=xxl_cosmo, load_fits=True, use_peak=False, \n",
    "                         clean_obs=True, clean_obs_reg='r500', clean_obs_threshold=0.7)"
   ]
  },
  {
   "cell_type": "code",
   "execution_count": 4,
   "id": "d3ec9200",
   "metadata": {},
   "outputs": [],
   "source": [
    "del xxl_srcs['XLSSC-11']"
   ]
  },
  {
   "cell_type": "markdown",
   "id": "4ccbc1a6",
   "metadata": {},
   "source": [
    "## Running PSF Correction"
   ]
  },
  {
   "cell_type": "markdown",
   "id": "5c5c6f51",
   "metadata": {},
   "source": []
  },
  {
   "cell_type": "code",
   "execution_count": 5,
   "id": "eb11d505",
   "metadata": {},
   "outputs": [],
   "source": [
    "rl_psf(xxl_srcs)"
   ]
  },
  {
   "cell_type": "markdown",
   "id": "24db86c8",
   "metadata": {},
   "source": [
    "## Reading in literature data"
   ]
  },
  {
   "cell_type": "markdown",
   "id": "134be8fe",
   "metadata": {},
   "source": []
  },
  {
   "cell_type": "markdown",
   "id": "9af06a7d",
   "metadata": {},
   "source": [
    "### Gas masses from literature"
   ]
  },
  {
   "cell_type": "markdown",
   "id": "608ab541",
   "metadata": {},
   "source": []
  },
  {
   "cell_type": "code",
   "execution_count": 50,
   "id": "f2f5725f",
   "metadata": {},
   "outputs": [],
   "source": [
    "xxl_lit_gms = [xxlgc100[xxlgc100['name'] == n].iloc[0][['mg500', 'mg500_err', 'mg500_err']].values*1e+13 \n",
    "               for n in xxl_srcs.names]\n",
    "xxl_lit_gms = Quantity(xxl_lit_gms, 'Msun')"
   ]
  },
  {
   "cell_type": "markdown",
   "id": "9a66b719",
   "metadata": {},
   "source": [
    "### Conversion Temperatures"
   ]
  },
  {
   "cell_type": "markdown",
   "id": "0f3cebca",
   "metadata": {},
   "source": []
  },
  {
   "cell_type": "code",
   "execution_count": 7,
   "id": "622ab3b7",
   "metadata": {},
   "outputs": [],
   "source": [
    "xxl_conv_txs = []\n",
    "\n",
    "for src in xxl_srcs:\n",
    "    xxl_conv_txs.append(xxlgc100[xxlgc100['name'] == src.name].iloc[0]['T300kpc'])\n",
    "    \n",
    "xxl_conv_txs = Quantity(xxl_conv_txs, 'keV')"
   ]
  },
  {
   "cell_type": "markdown",
   "id": "cce675ae",
   "metadata": {},
   "source": [
    "## Gas Density Profile Generation and Comparison to Literature - from $S_{B}$ Profiles"
   ]
  },
  {
   "cell_type": "markdown",
   "id": "93237f0b",
   "metadata": {},
   "source": []
  },
  {
   "cell_type": "markdown",
   "id": "91fbfd46",
   "metadata": {},
   "source": [
    "### Beta and King Profiles - out to $R_{500}$"
   ]
  },
  {
   "cell_type": "markdown",
   "id": "809534ab",
   "metadata": {},
   "source": []
  },
  {
   "cell_type": "code",
   "execution_count": 8,
   "id": "3be50990",
   "metadata": {},
   "outputs": [
    {
     "name": "stdout",
     "output_type": "stream",
     "text": [
      "╒═════════════════╤═════════════════════════════════════════════════════════════════════════════╕\n",
      "│ Beta Profile    │                                                                             │\n",
      "╞═════════════════╪═════════════════════════════════════════════════════════════════════════════╡\n",
      "│ DESCRIBES       │ Surface Brightness                                                          │\n",
      "├─────────────────┼─────────────────────────────────────────────────────────────────────────────┤\n",
      "│ UNIT            │ ct / (arcmin2 s)                                                            │\n",
      "├─────────────────┼─────────────────────────────────────────────────────────────────────────────┤\n",
      "│ PARAMETERS      │ beta, r_core, norm                                                          │\n",
      "├─────────────────┼─────────────────────────────────────────────────────────────────────────────┤\n",
      "│ PARAMETER UNITS │ , kpc, ct / (arcmin2 s)                                                     │\n",
      "├─────────────────┼─────────────────────────────────────────────────────────────────────────────┤\n",
      "│ AUTHOR          │ placeholder                                                                 │\n",
      "├─────────────────┼─────────────────────────────────────────────────────────────────────────────┤\n",
      "│ YEAR            │ placeholder                                                                 │\n",
      "├─────────────────┼─────────────────────────────────────────────────────────────────────────────┤\n",
      "│ PAPER           │ placeholder                                                                 │\n",
      "├─────────────────┼─────────────────────────────────────────────────────────────────────────────┤\n",
      "│ INFO            │ Essentially a projected isothermal king profile, it can be                  │\n",
      "│                 │ used to describe a simple galaxy cluster radial surface brightness profile. │\n",
      "╘═════════════════╧═════════════════════════════════════════════════════════════════════════════╛\n"
     ]
    },
    {
     "data": {
      "text/plain": [
       "[{'prior': <Quantity [0., 3.]>, 'type': 'uniform'},\n",
       " {'prior': <Quantity [   0., 2000.] kpc>, 'type': 'uniform'},\n",
       " {'prior': <Quantity [0., 3.] ct / (arcmin2 s)>, 'type': 'uniform'}]"
      ]
     },
     "execution_count": 8,
     "metadata": {},
     "output_type": "execute_result"
    }
   ],
   "source": [
    "demo_sb_mod = BetaProfile1D()\n",
    "demo_sb_mod.info()\n",
    "demo_sb_mod.par_priors"
   ]
  },
  {
   "cell_type": "markdown",
   "id": "0a0e578f",
   "metadata": {},
   "source": []
  },
  {
   "cell_type": "code",
   "execution_count": 9,
   "id": "f61c4763",
   "metadata": {
    "scrolled": true
   },
   "outputs": [
    {
     "name": "stderr",
     "output_type": "stream",
     "text": [
      "/mnt/pact/dt237/code/PycharmProjects/XGA/xga/xspec/run.py:186: UserWarning: All XSPEC operations had already been run.\n",
      "  warnings.warn(\"All XSPEC operations had already been run.\")\n",
      "Fitting data, inverse Abel transforming, and measuring densities:   9%|▊       | 9/96 [03:04<29:23, 20.27s/it]"
     ]
    },
    {
     "name": "stdout",
     "output_type": "stream",
     "text": [
      "The chain is shorter than 50 times the integrated autocorrelation time for 1 parameter(s). Use this estimate with caution and run a longer chain!\n",
      "N/50 = 400;\n",
      "tau: [ 90.97108472 108.36851664 408.32353189]\n"
     ]
    },
    {
     "name": "stderr",
     "output_type": "stream",
     "text": [
      "Fitting data, inverse Abel transforming, and measuring densities:  15%|█      | 14/96 [04:48<28:32, 20.88s/it]/its/home/dt237/.conda/envs/dev_xga/lib/python3.8/site-packages/astropy/units/quantity.py:614: RuntimeWarning: invalid value encountered in sqrt\n",
      "  result = super().__array_ufunc__(function, method, *arrays, **kwargs)\n",
      "/mnt/pact/dt237/code/PycharmProjects/XGA/xga/sourcetools/density.py:531: UserWarning: One or more of the quantities passed to the init of XLSSC-84's density profile has a NaN or Inf value in it.\n",
      "  warn(\"One or more of the quantities passed to the init of {}'s density profile has a NaN or Inf value\"\n",
      "Fitting data, inverse Abel transforming, and measuring densities:  33%|██▎    | 32/96 [11:17<23:07, 21.68s/it]"
     ]
    },
    {
     "name": "stdout",
     "output_type": "stream",
     "text": [
      "The chain is shorter than 50 times the integrated autocorrelation time for 2 parameter(s). Use this estimate with caution and run a longer chain!\n",
      "N/50 = 400;\n",
      "tau: [ 205.71914867 1228.30664556 1167.34053882]\n"
     ]
    },
    {
     "name": "stderr",
     "output_type": "stream",
     "text": [
      "Fitting data, inverse Abel transforming, and measuring densities:  45%|███▏   | 43/96 [15:22<18:59, 21.51s/it]"
     ]
    },
    {
     "name": "stdout",
     "output_type": "stream",
     "text": [
      "The chain is shorter than 50 times the integrated autocorrelation time for 1 parameter(s). Use this estimate with caution and run a longer chain!\n",
      "N/50 = 400;\n",
      "tau: [ 95.70740129 177.33787979 526.91352846]\n"
     ]
    },
    {
     "name": "stderr",
     "output_type": "stream",
     "text": [
      "Fitting data, inverse Abel transforming, and measuring densities:  61%|████▎  | 59/96 [21:04<13:04, 21.19s/it]/its/home/dt237/.conda/envs/dev_xga/lib/python3.8/site-packages/astropy/units/quantity.py:614: RuntimeWarning: invalid value encountered in sqrt\n",
      "  result = super().__array_ufunc__(function, method, *arrays, **kwargs)\n",
      "/mnt/pact/dt237/code/PycharmProjects/XGA/xga/sourcetools/density.py:531: UserWarning: One or more of the quantities passed to the init of XLSSC-531's density profile has a NaN or Inf value in it.\n",
      "  warn(\"One or more of the quantities passed to the init of {}'s density profile has a NaN or Inf value\"\n",
      "Fitting data, inverse Abel transforming, and measuring densities:  90%|██████▎| 86/96 [30:29<03:25, 20.53s/it]/its/home/dt237/.conda/envs/dev_xga/lib/python3.8/site-packages/astropy/units/quantity.py:614: RuntimeWarning: invalid value encountered in sqrt\n",
      "  result = super().__array_ufunc__(function, method, *arrays, **kwargs)\n",
      "/mnt/pact/dt237/code/PycharmProjects/XGA/xga/sourcetools/density.py:531: UserWarning: One or more of the quantities passed to the init of XLSSC-548's density profile has a NaN or Inf value in it.\n",
      "  warn(\"One or more of the quantities passed to the init of {}'s density profile has a NaN or Inf value\"\n",
      "Fitting data, inverse Abel transforming, and measuring densities: 100%|███████| 96/96 [33:58<00:00, 21.23s/it]\n"
     ]
    }
   ],
   "source": [
    "xxl_beta_1r500_dp = inv_abel_fitted_model(xxl_srcs, 'beta', 'mcmc', xxl_srcs.r500, \n",
    "                                       conv_temp=xxl_conv_txs, conv_outer_radius=Quantity(300, 'kpc'))"
   ]
  },
  {
   "cell_type": "markdown",
   "id": "a1e322e5",
   "metadata": {},
   "source": []
  },
  {
   "cell_type": "code",
   "execution_count": 10,
   "id": "d91de399",
   "metadata": {},
   "outputs": [
    {
     "name": "stdout",
     "output_type": "stream",
     "text": [
      "╒═════════════════╤═════════════════════════════════════════════════════════════════════════╕\n",
      "│ King Profile    │                                                                         │\n",
      "╞═════════════════╪═════════════════════════════════════════════════════════════════════════╡\n",
      "│ DESCRIBES       │ Gas Density                                                             │\n",
      "├─────────────────┼─────────────────────────────────────────────────────────────────────────┤\n",
      "│ UNIT            │ 1 / cm3                                                                 │\n",
      "├─────────────────┼─────────────────────────────────────────────────────────────────────────┤\n",
      "│ PARAMETERS      │ beta, r_core, norm                                                      │\n",
      "├─────────────────┼─────────────────────────────────────────────────────────────────────────┤\n",
      "│ PARAMETER UNITS │ , kpc, 1 / cm3                                                          │\n",
      "├─────────────────┼─────────────────────────────────────────────────────────────────────────┤\n",
      "│ AUTHOR          │ placeholder                                                             │\n",
      "├─────────────────┼─────────────────────────────────────────────────────────────────────────┤\n",
      "│ YEAR            │ placeholder                                                             │\n",
      "├─────────────────┼─────────────────────────────────────────────────────────────────────────┤\n",
      "│ PAPER           │ placeholder                                                             │\n",
      "├─────────────────┼─────────────────────────────────────────────────────────────────────────┤\n",
      "│ INFO            │ The un-projected version of the beta profile, suitable for a simple fit │\n",
      "│                 │  to 3D density distributions. Describes a simple isothermal sphere.     │\n",
      "╘═════════════════╧═════════════════════════════════════════════════════════════════════════╛\n"
     ]
    },
    {
     "data": {
      "text/plain": [
       "[{'prior': <Quantity [0., 3.]>, 'type': 'uniform'},\n",
       " {'prior': <Quantity [   0., 2000.] kpc>, 'type': 'uniform'},\n",
       " {'prior': <Quantity [ 0., 10.] 1 / cm3>, 'type': 'uniform'}]"
      ]
     },
     "execution_count": 10,
     "metadata": {},
     "output_type": "execute_result"
    }
   ],
   "source": [
    "demo_d_mod = KingProfile1D(y_unit=Unit(\"1 / cm^3\"))\n",
    "demo_d_mod.info()\n",
    "demo_d_mod.par_priors"
   ]
  },
  {
   "cell_type": "markdown",
   "id": "627e75ab",
   "metadata": {},
   "source": []
  },
  {
   "cell_type": "code",
   "execution_count": 11,
   "id": "502d8cbe",
   "metadata": {},
   "outputs": [
    {
     "name": "stderr",
     "output_type": "stream",
     "text": [
      "Fitting density model to XXL profiles:  32%|██████████▉                       | 31/96 [15:31<34:02, 31.43s/it]/mnt/pact/dt237/code/PycharmProjects/XGA/xga/products/base.py:1034: UserWarning: Optimal parameters not found: The maximum number of function evaluations is exceeded., curve_fit has failed.\n",
      "  warn(\"{}, curve_fit has failed.\".format(str(r_err)))\n",
      "/mnt/pact/dt237/code/PycharmProjects/XGA/xga/products/base.py:834: UserWarning: Maximum likelihood estimator has produced at least one start parameter that is outside the allowed values defined by the prior, reverting to default start parameters for this model.\n",
      "  warn(\"Maximum likelihood estimator has produced at least one start parameter that is outside\"\n",
      "Fitting density model to XXL profiles:  45%|███████████████▏                  | 43/96 [21:43<25:54, 29.33s/it]"
     ]
    },
    {
     "name": "stdout",
     "output_type": "stream",
     "text": [
      "The chain is shorter than 50 times the integrated autocorrelation time for 2 parameter(s). Use this estimate with caution and run a longer chain!\n",
      "N/50 = 600;\n",
      "tau: [160.09948928 778.78323517 632.23226286]\n"
     ]
    },
    {
     "name": "stderr",
     "output_type": "stream",
     "text": [
      "Fitting density model to XXL profiles: 100%|██████████████████████████████████| 96/96 [48:20<00:00, 30.21s/it]\n"
     ]
    }
   ],
   "source": [
    "with tqdm(desc=\"Fitting density model to XXL profiles\", total=len(xxl_beta_1r500_dp)) as onwards:\n",
    "    for dp in xxl_beta_1r500_dp:\n",
    "        if dp is not None:\n",
    "            dp.fit('king', progress_bar=False)\n",
    "        onwards.update(1)\n"
   ]
  },
  {
   "cell_type": "code",
   "execution_count": 43,
   "id": "112df31a",
   "metadata": {},
   "outputs": [
    {
     "name": "stderr",
     "output_type": "stream",
     "text": [
      "Calculating XXL gas masses:   0%|                                                      | 0/96 [00:00<?, ?it/s]/tmp/ipykernel_8519/3237557579.py:9: UserWarning: The outer radius you supplied is greater than or equal to the outer radius covered by the data, so you are effectively extrapolating using the model.\n",
      "  gm = dp.gas_mass('king', rel_src.r500, radius_err=r_err)[0]\n",
      "Calculating XXL gas masses:  32%|██████████████▌                              | 31/96 [00:29<01:05,  1.01s/it]/mnt/pact/dt237/code/PycharmProjects/XGA/xga/models/base.py:504: IntegrationWarning: The integral is probably divergent, or slowly convergent.\n",
      "  integral_res[par_ind] = 4 * np.pi * quad(integrand, inn_rad, out_rad,\n",
      "Calculating XXL gas masses: 100%|█████████████████████████████████████████████| 96/96 [01:50<00:00,  1.15s/it]\n"
     ]
    }
   ],
   "source": [
    "xxl_beta_king_1r500_gm = []\n",
    "with tqdm(desc=\"Calculating XXL gas masses\", total=len(xxl_beta_1r500_dp)) as onwards:\n",
    "    for dp in xxl_beta_1r500_dp:\n",
    "        if dp is not None:\n",
    "            rel_src = xxl_srcs[dp.src_name]\n",
    "            rel_row = xxlgc100[xxlgc100['name'] == dp.src_name]\n",
    "            \n",
    "            r_err = Quantity(rel_row['r500MT_err'].iloc[0], 'Mpc')\n",
    "            gm = dp.gas_mass('king', rel_src.r500, radius_err=r_err)[0]\n",
    "            xxl_beta_king_1r500_gm.append(gm)\n",
    "        else:\n",
    "            xxl_beta_king_1r500_gm.append([np.NaN, np.NaN, np.NaN])\n",
    "        onwards.update(1)\n",
    "        \n",
    "xxl_beta_king_1r500_gm = Quantity(xxl_beta_king_1r500_gm, 'Msun')"
   ]
  },
  {
   "cell_type": "code",
   "execution_count": 44,
   "id": "a20cc2ce",
   "metadata": {},
   "outputs": [
    {
     "name": "stdout",
     "output_type": "stream",
     "text": [
      "93 out of 96 gas mass measurements produced a result\n"
     ]
    }
   ],
   "source": [
    "print(\"{s} out of {t} gas mass measurements produced a \"\\\n",
    "      \"result\".format(s=np.isfinite(xxl_beta_king_1r500_gm[:, 0]).sum(), t=len(xxl_beta_king_1r500_gm)))"
   ]
  },
  {
   "cell_type": "markdown",
   "id": "a95ac3e7",
   "metadata": {},
   "source": [
    "This section deals with two data problems, one with the literature XXL values (where an XXL gas mass is smaller than its uncertainty - messes up the plot), and another with an XGA measurement. This measurement was very low mass, and again was messing up the plot. I have made this section print the name of the cluster with this problem, but it is also removed from the gas mass array to improve the look of the figure."
   ]
  },
  {
   "cell_type": "code",
   "execution_count": 45,
   "id": "b18a8673",
   "metadata": {},
   "outputs": [
    {
     "name": "stdout",
     "output_type": "stream",
     "text": [
      "['XLSSC-54' 'XLSSC-90']\n"
     ]
    }
   ],
   "source": [
    "if np.any((xxl_lit_gms[:, 0] - xxl_lit_gms[:, 1]) < 0):\n",
    "    xxl_lit_gms[np.argmin((xxl_lit_gms[:, 0] - xxl_lit_gms[:, 1]))] = Quantity([np.NaN, np.NaN], 'Msun')\n",
    "\n",
    "if len(xxl_beta_king_1r500_gm[xxl_beta_king_1r500_gm < Quantity(1e+9, 'Msun')]) != 0:\n",
    "    which_low = np.where(xxl_beta_king_1r500_gm[:, 0] < Quantity(1e+9, 'Msun'))[0]\n",
    "    print(xxl_srcs.names[which_low])\n",
    "    xxl_beta_king_1r500_gm[which_low] = np.NaN"
   ]
  },
  {
   "cell_type": "code",
   "execution_count": 59,
   "id": "92dcf054",
   "metadata": {},
   "outputs": [
    {
     "data": {
      "image/png": "[encoded data removed]",
      "text/plain": [
       "<Figure size 504x504 with 1 Axes>"
      ]
     },
     "metadata": {
      "needs_background": "light"
     },
     "output_type": "display_data"
    }
   ],
   "source": [
    "direct_comparison_plot(xxl_lit_gms, xxl_beta_king_1r500_gm, r\"XXL Gas Mass [M$_{\\odot}$]\", \n",
    "                       \"XGA Gas Mass [M$_{\\odot}$]\", \"XXL-100-GC\", (7, 7), dat_colour=xxlgc100_colour, \n",
    "                       savepath=\"../../outputs/figures/xxl_beta_king_1r500_gm_comp.pdf\")"
   ]
  },
  {
   "cell_type": "code",
   "execution_count": null,
   "id": "b3a074bd",
   "metadata": {},
   "outputs": [],
   "source": [
    "# TODO - THE REST OF THE NOTEBOOK WILL BE CHANGED OR REMOVED AT SOME POINT SOON\n",
    "break"
   ]
  },
  {
   "cell_type": "code",
   "execution_count": null,
   "id": "388494ed",
   "metadata": {},
   "outputs": [],
   "source": [
    "# Setting the y-position and font size of the a, b, and c labels that are added below the subplots\n",
    "sublabel_ypos = -0.115\n",
    "sublabel_fsize = 14\n",
    "\n",
    "# Set up the matplotlib figure with 3 columns, meaning three subplots\n",
    "fig, ax = plt.subplots(ncols=1, figsize=(6, 6))\n",
    "\n",
    "ax.minorticks_on()\n",
    "ax.tick_params(which='both', top=True, right=True, direction='in')\n",
    "plt.sca(ax)\n",
    "\n",
    "# Fetching appropriate limits for comparing the two sets of gas-mass measurements\n",
    "xxl_lims = find_lims(xxl_lit_gms, xxl_beta_king_1r500_gm).value\n",
    "\n",
    "# Plotting a 1:1 line to help with comparisons\n",
    "plt.plot(xxl_lims, xxl_lims, color='red', linestyle=\"dashed\", label=\"1:1\")\n",
    "# Plotting the two datasets with uncertainties\n",
    "plt.errorbar(xxl_lit_gms[:, 0].value, xxl_beta_king_1r500_gm[:, 0].value, xerr=xxl_lit_gms[:, 1].value, \n",
    "             yerr=xxl_beta_king_1r500_gm[:, 1:].T.value, fmt='x', \n",
    "             color=xxlgc100_colour, capsize=2, label=\"XXL-100-GC\")\n",
    "\n",
    "# # Labelling axes, setting labels etc.\n",
    "ax.set_xlabel(r\"XXL Gas Mass [M$_{\\odot}$]\", fontsize=15)\n",
    "ax.set_xlim(xxl_lims)\n",
    "ax.set_ylabel(\"XGA Gas Mass [M$_{\\odot}$]\", fontsize=15)\n",
    "ax.set_ylim(xxl_lims)\n",
    "\n",
    "ax.set_xscale('log')\n",
    "ax.set_yscale('log')\n",
    "\n",
    "ax.legend(loc='best', fontsize=14)\n",
    "\n",
    "# Saving and plotting the resulting figure\n",
    "plt.tight_layout()\n",
    "plt.savefig(\"../../outputs/figures/xxl_beta_king_1r500_gm_comp.pdf\")\n",
    "plt.show()\n",
    "plt.close('all')"
   ]
  },
  {
   "cell_type": "markdown",
   "id": "19e6bebd",
   "metadata": {},
   "source": [
    "### Double Beta and Simplified Vikhlinin Profiles - out to $R_{500}$"
   ]
  },
  {
   "cell_type": "markdown",
   "id": "6f68ee12",
   "metadata": {},
   "source": []
  },
  {
   "cell_type": "markdown",
   "id": "bd5741f1",
   "metadata": {},
   "source": []
  },
  {
   "cell_type": "code",
   "execution_count": null,
   "id": "035973f6",
   "metadata": {
    "scrolled": false
   },
   "outputs": [],
   "source": [
    "demo_sb_mod = DoubleBetaProfile1D()\n",
    "demo_sb_mod.info()\n",
    "demo_sb_mod.par_priors"
   ]
  },
  {
   "cell_type": "code",
   "execution_count": null,
   "id": "b1822fc4",
   "metadata": {
    "scrolled": true
   },
   "outputs": [],
   "source": [
    "xxl_dblbeta_1r500_dp = inv_abel_fitted_model(xxl_srcs, 'double_beta', 'mcmc', xxl_srcs.r500*1.3, \n",
    "                                       conv_temp=xxl_conv_txs, conv_outer_radius=Quantity(300, 'kpc'))"
   ]
  },
  {
   "cell_type": "code",
   "execution_count": null,
   "id": "6529bdfc",
   "metadata": {},
   "outputs": [],
   "source": [
    "demo_d_mod = SimpleVikhlininDensity1D(y_unit=Unit(\"1 / cm^3\"))\n",
    "demo_d_mod.info()\n",
    "demo_d_mod.par_priors"
   ]
  },
  {
   "cell_type": "code",
   "execution_count": null,
   "id": "38022e29",
   "metadata": {
    "scrolled": true
   },
   "outputs": [],
   "source": [
    "with tqdm(desc=\"Fitting density model to XXL profiles\", total=len(xxl_dblbeta_1r500_dp)) as onwards:\n",
    "    for dp in xxl_dblbeta_1r500_dp:\n",
    "        if dp is not None:\n",
    "            dp.fit('simple_vikhlinin_dens', progress_bar=False)\n",
    "        onwards.update(1)"
   ]
  },
  {
   "cell_type": "code",
   "execution_count": null,
   "id": "2aa45460",
   "metadata": {},
   "outputs": [],
   "source": [
    "xxl_dblbeta_svikh_1r500_gm = []\n",
    "with tqdm(desc=\"Calculating XXL gas masses\", total=len(xxl_dblbeta_1r500_dp)) as onwards:\n",
    "    for dp in xxl_dblbeta_1r500_dp:\n",
    "        if dp is not None:\n",
    "            gm = dp.gas_mass(\"simple_vikhlinin_dens\", xxl_srcs[dp.src_name].r500)[0]\n",
    "            xxl_dblbeta_svikh_1r500_gm.append(gm)\n",
    "        else:\n",
    "            xxl_dblbeta_svikh_1r500_gm.append([np.NaN, np.NaN, np.NaN])\n",
    "        onwards.update(1)\n",
    "        \n",
    "xxl_dblbeta_svikh_1r500_gm = Quantity(xxl_dblbeta_svikh_1r500_gm, 'Msun')"
   ]
  },
  {
   "cell_type": "code",
   "execution_count": null,
   "id": "80c5807f",
   "metadata": {},
   "outputs": [],
   "source": [
    "print(\"{s} out of {t} gas mass measurements produced a \"\\\n",
    "      \"result\".format(s=np.isfinite(xxl_dblbeta_svikh_1r500_gm[:, 0]).sum(), t=len(xxl_dblbeta_svikh_1r500_gm)))"
   ]
  },
  {
   "cell_type": "code",
   "execution_count": null,
   "id": "40d4acc6",
   "metadata": {},
   "outputs": [],
   "source": [
    "# Setting the y-position and font size of the a, b, and c labels that are added below the subplots\n",
    "sublabel_ypos = -0.115\n",
    "sublabel_fsize = 14\n",
    "\n",
    "# Set up the matplotlib figure with 3 columns, meaning three subplots\n",
    "fig, ax = plt.subplots(ncols=1, figsize=(6, 6))\n",
    "ax.minorticks_on()\n",
    "ax.tick_params(which='both', top=True, right=True, direction='in')\n",
    "plt.sca(ax)\n",
    "\n",
    "# Fetching appropriate limits for comparing the two sets of gas-mass measurements\n",
    "xxl_lims = find_lims(xxl_lit_gms, xxl_dblbeta_svikh_1r500_gm).value\n",
    "\n",
    "# Plotting a 1:1 line to help with comparisons\n",
    "plt.plot(xxl_lims, xxl_lims, color='red', linestyle=\"dashed\", label=\"1:1\")\n",
    "# Plotting the two datasets with uncertainties\n",
    "plt.errorbar(xxl_lit_gms[:, 0].value, xxl_dblbeta_svikh_1r500_gm[:, 0].value, xerr=xxl_lit_gms[:, 1].value, \n",
    "             yerr=xxl_dblbeta_svikh_1r500_gm[:, 1:].T.value, fmt='x', \n",
    "             color=xxlgc100_colour, capsize=2, label=\"XXL-100-GC\")\n",
    "\n",
    "# # Labelling axes, setting labels etc.\n",
    "ax.set_xlabel(r\"XXL Gas Mass [M$_{\\odot}$]\", fontsize=15)\n",
    "ax.set_xlim(xxl_lims)\n",
    "ax.set_ylabel(\"XGA Gas Mass [M$_{\\odot}$]\", fontsize=15)\n",
    "ax.set_ylim(xxl_lims)\n",
    "\n",
    "ax.legend(loc='best', fontsize=14)\n",
    "# Saving and plotting the resulting figure\n",
    "plt.tight_layout()\n",
    "# plt.savefig(\"non_paper_figures/xxl_dblbeta_svikh_1.3r500_gm_comp.pdf\")\n",
    "plt.show()\n",
    "plt.close('all')"
   ]
  }
 ],
 "metadata": {
  "kernelspec": {
   "display_name": "Python 3 (ipykernel)",
   "language": "python",
   "name": "python3"
  },
  "language_info": {
   "codemirror_mode": {
    "name": "ipython",
    "version": 3
   },
   "file_extension": ".py",
   "mimetype": "text/x-python",
   "name": "python",
   "nbconvert_exporter": "python",
   "pygments_lexer": "ipython3",
   "version": "3.8.11"
  }
 },
 "nbformat": 4,
 "nbformat_minor": 5
}
