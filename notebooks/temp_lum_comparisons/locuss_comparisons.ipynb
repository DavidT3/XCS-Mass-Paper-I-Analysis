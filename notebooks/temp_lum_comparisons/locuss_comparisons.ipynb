{
 "cells": [
  {
   "cell_type": "markdown",
   "id": "9ca38d73",
   "metadata": {},
   "source": [
    "# Comparing global LoCuSS High-$L_{\\rm{X}}$ $T_{\\rm{X}}$ and $L_{\\rm{X}}$ measurements to literature"
   ]
  },
  {
   "cell_type": "markdown",
   "id": "2bbdc738",
   "metadata": {},
   "source": [
    "This notebook measures global temperatures and luminosities for the samples we are using to verify our method, then compares them to the measurements from literature. While the focus of this work is the measurement of galaxy cluster masses, temperatures and luminosities play an important role in the construction of X-ray mass-observable scaling relations - thus they must also be shown to be consistent with previous work. "
   ]
  },
  {
   "cell_type": "markdown",
   "id": "18907eb5",
   "metadata": {},
   "source": [
    "## Import Statements"
   ]
  },
  {
   "cell_type": "code",
   "execution_count": 1,
   "id": "baf73311",
   "metadata": {},
   "outputs": [],
   "source": [
    "import pandas as pd\n",
    "import numpy as np\n",
    "from astropy.units import Quantity, UnitConversionError\n",
    "from astropy.cosmology import LambdaCDM, WMAP9\n",
    "import matplotlib.pyplot as plt\n",
    "from typing import Union, List\n",
    "from shutil import rmtree\n",
    "import os\n",
    "\n",
    "# This adds the directory above to the path, allowing me to import the common functions that I've written in\n",
    "#  common.py - this just saves me repeating boring code and makes sure its all consistent\n",
    "import sys\n",
    "sys.path.insert(0, '..')\n",
    "from common import locuss_colour, locuss_cosmo, direct_comparison_plot, find_lims, fit_comp\n",
    "\n",
    "import xga\n",
    "# This just sets the number of cores this analysis is allowed to use\n",
    "xga.NUM_CORES = 80\n",
    "# This is a bodge that will only work because xga_output in notebooks has already been defined, XGA\n",
    "#  will be made to handle this more gracefully at some point\n",
    "temp_dir = xga.OUTPUT\n",
    "actual_dir = temp_dir.split('notebooks/')[0]+'notebooks/xga_output/'\n",
    "xga.OUTPUT = actual_dir\n",
    "xga.utils.OUTPUT = actual_dir\n",
    "# As currently XGA will setup an xga_output directory in our current directory, I remove it to keep it all clean\n",
    "if os.path.exists('xga_output'):\n",
    "    rmtree('xga_output')\n",
    "from xga.samples import ClusterSample\n",
    "from xga.sources import GalaxyCluster\n",
    "from xga.sources import BaseSource\n",
    "from xga.xspec import single_temp_apec\n",
    "\n",
    "# This is a bit cheeky, but suppresses the warnings that XGA spits out (they are \n",
    "#  useful, but not when I'm trying to present this notebook on GitHub)\n",
    "import warnings\n",
    "warnings.filterwarnings('ignore')"
   ]
  },
  {
   "cell_type": "markdown",
   "id": "e46e5150",
   "metadata": {},
   "source": [
    "This subsection involves reading in the sample files of the four test samples (described in [the sample properties notebook](sample_properties.ipynb)), then setting up separate XGA ClusterSample instances (see [the documentation](https://xga.readthedocs.io/en/latest/notebooks/tutorials/sources_samples.html) for an introduction to XGA source and sample objects.\n",
    "\n",
    "We impose an additional cleaning step on each sample, where we make sure that (for each XMM observation initially associated with a source) at least 70% of a cluster's $R_{500}$ falls on that observation - if this requirement is not met then the observation is excluded. These requirements are set with the `clean_obs=True`, `clean_obs_reg='r500'`, and `clean_obs_threshold=0.7` arguments when a ClusterSample instance is declared."
   ]
  },
  {
   "cell_type": "markdown",
   "id": "ae081f4b",
   "metadata": {},
   "source": [
    "### LoCuSS High-$L_{\\rm{X}}$"
   ]
  },
  {
   "cell_type": "markdown",
   "id": "7936d805",
   "metadata": {},
   "source": [
    "The LoCuSS High-$L_{\\rm{X}}$ sample was selected from ROSAT for its high luminosity clusters, and will again be a useful comparison as testing against various different analyses is beneficial in establishing the veracity of our new measurements."
   ]
  },
  {
   "cell_type": "code",
   "execution_count": 2,
   "id": "c0738ef0",
   "metadata": {},
   "outputs": [],
   "source": [
    "locuss = pd.read_csv(\"../../sample_files/locuss_highlx_clusters.csv\", dtype={'chandra_id': str, 'xmm_obsid': str})"
   ]
  },
  {
   "cell_type": "code",
   "execution_count": 3,
   "id": "2f2aee9a",
   "metadata": {
    "scrolled": true
   },
   "outputs": [
    {
     "name": "stderr",
     "output_type": "stream",
     "text": [
      "Declaring BaseSource Sample: 100%|████████████████████████████████████████████| 50/50 [00:21<00:00,  2.35it/s]\n",
      "Setting up Galaxy Clusters: 50it [00:55,  1.10s/it]                                                           \n"
     ]
    }
   ],
   "source": [
    "# Reading out the relevant values into arrays just for ease of passing into the ClusterSample object\n",
    "ra = locuss['ra'].values\n",
    "dec = locuss['dec'].values\n",
    "z = locuss['z'].values\n",
    "n = locuss['name'].values\n",
    "r500 = Quantity(locuss['r500'].values, 'kpc')\n",
    "r2500 = Quantity(locuss['r2500'].values, 'kpc')\n",
    "\n",
    "\n",
    "# Declaring the actual ClusterSample instance for the LoCuSS sample\n",
    "locuss_srcs = ClusterSample(ra, dec, z, n, r500=r500, r2500=r2500, cosmology=locuss_cosmo, load_fits=True, \n",
    "                            use_peak=False, clean_obs=True, clean_obs_reg='r500', clean_obs_threshold=0.7)"
   ]
  },
  {
   "cell_type": "markdown",
   "id": "64de782d",
   "metadata": {},
   "source": [
    "## Running $T_{\\rm{X}}$ and $L_{\\rm{X}}$ Measurements"
   ]
  },
  {
   "cell_type": "markdown",
   "id": "b514f1fb",
   "metadata": {},
   "source": [
    "The XGA XSPEC functions that we use here all automatically call the XGA SAS interface, so the necessary spectra are generated before the fits begin. As the different samples measure properties within different spatial regions, all the function calls differ slightly.\n",
    "\n",
    "The results of the fits are stored within the indivual source objects that make up each sample."
   ]
  },
  {
   "cell_type": "markdown",
   "id": "a3501193",
   "metadata": {},
   "source": [
    "### LoCuSS"
   ]
  },
  {
   "cell_type": "markdown",
   "id": "00ae65eb",
   "metadata": {},
   "source": [
    "The LoCuSS temperatures and luminosities are slightly different, and have been measured with the core of the X-ray emission removed (spectra are generated in the 0.15-1 $R_{500}$ region). This approach has been shown to reduce the scatter in mass with $L_{\\rm{X}}$. We can replicate it by setting an inner radius when we call `single_temp_apec`."
   ]
  },
  {
   "cell_type": "code",
   "execution_count": 4,
   "id": "7e527da1",
   "metadata": {},
   "outputs": [
    {
     "name": "stderr",
     "output_type": "stream",
     "text": [
      "Generating products of type(s) spectrum: 100%|████████████████████████████| 221/221 [1:24:23<00:00, 22.91s/it]\n",
      "Running XSPEC Fits: 100%|█████████████████████████████████████████████████████| 45/45 [11:47<00:00, 15.73s/it]\n",
      "Generating products of type(s) spectrum: 100%|████████████████████████████| 221/221 [1:16:31<00:00, 20.78s/it]\n",
      "Running XSPEC Fits: 100%|█████████████████████████████████████████████████████| 45/45 [11:01<00:00, 14.69s/it]\n"
     ]
    },
    {
     "data": {
      "text/plain": [
       "<xga.samples.extended.ClusterSample at 0x2aab14c4ab50>"
      ]
     },
     "execution_count": 4,
     "metadata": {},
     "output_type": "execute_result"
    }
   ],
   "source": [
    "single_temp_apec(locuss_srcs, locuss_srcs.r500, inner_radius=0.15*locuss_srcs.r500, lo_en=Quantity(0.7, 'keV'), \n",
    "                 hi_en=Quantity(10, 'keV'), freeze_met=False, timeout=Quantity(4, 'hr'))\n",
    "single_temp_apec(locuss_srcs, locuss_srcs.r500, lo_en=Quantity(0.7, 'keV'), hi_en=Quantity(10, 'keV'), \n",
    "                 freeze_met=False, timeout=Quantity(4, 'hr'))"
   ]
  },
  {
   "cell_type": "markdown",
   "id": "f6ff6258",
   "metadata": {},
   "source": [
    "## Retrieving $T_{\\rm{X}}$ and $L_{\\rm{X}}$ measurements from the samples"
   ]
  },
  {
   "cell_type": "markdown",
   "id": "1f343c25",
   "metadata": {},
   "source": [
    "We must extract and judge the quality of the temperature and luminosity measurements that we have made for each of the samples, then later on we will be able to directly compare them. At the same time we make sure that the results from literature are formatted in such a way that we can easily compare them."
   ]
  },
  {
   "cell_type": "markdown",
   "id": "7fec9b7c",
   "metadata": {},
   "source": [
    "### LoCuSS"
   ]
  },
  {
   "cell_type": "code",
   "execution_count": null,
   "id": "f7e6b22c",
   "metadata": {},
   "outputs": [],
   "source": [
    "locuss_txce_all = locuss_srcs.Tx(locuss_srcs.r500, inner_radius=0.15*locuss_srcs.r500, quality_checks=False)\n",
    "locuss_txce = locuss_srcs.Tx(locuss_srcs.r500, inner_radius=0.15*locuss_srcs.r500, quality_checks=True)\n",
    "\n",
    "locuss_lxbocel_all = locuss_srcs.Lx(locuss_srcs.r500, inner_radius=0.15*locuss_srcs.r500, quality_checks=False, \n",
    "                                    lo_en=Quantity(0.01, 'keV'), hi_en=Quantity(100.0, 'keV'))\n",
    "locuss_lxbolce = locuss_srcs.Lx(locuss_srcs.r500, inner_radius=0.15*locuss_srcs.r500, quality_checks=True, \n",
    "                                lo_en=Quantity(0.01, 'keV'), hi_en=Quantity(100.0, 'keV'))\n",
    "\n",
    "locuss_lxbol_all = locuss_srcs.Lx(locuss_srcs.r500, quality_checks=False, lo_en=Quantity(0.01, 'keV'), \n",
    "                                  hi_en=Quantity(100.0, 'keV'))\n",
    "locuss_lxbol = locuss_srcs.Lx(locuss_srcs.r500,  quality_checks=True, lo_en=Quantity(0.01, 'keV'), \n",
    "                              hi_en=Quantity(100.0, 'keV'))"
   ]
  },
  {
   "cell_type": "code",
   "execution_count": null,
   "id": "7e0de1e7",
   "metadata": {},
   "outputs": [],
   "source": [
    "loclit_tx = []\n",
    "loclit_lxbol = []\n",
    "for n in locuss_srcs.names:\n",
    "    rel_row = locuss[locuss['name'] == n].iloc[0]\n",
    "    loclit_tx.append(Quantity(rel_row[['x_Tx500ce', 'x_Tx500ce-', 'x_Tx500ce+']], 'keV'))\n",
    "    loclit_lxbol.append(Quantity(rel_row[['x_Lxbol', 'x_Lxbol_err', 'x_Lxbol_err']]*1e+44, 'erg/s'))\n",
    "    \n",
    "loclit_tx = Quantity(loclit_tx)\n",
    "loclit_lxbol = Quantity(loclit_lxbol)"
   ]
  },
  {
   "cell_type": "markdown",
   "id": "90129eb9",
   "metadata": {},
   "source": [
    "## Direct comparisons between original and XGA measurements"
   ]
  },
  {
   "cell_type": "markdown",
   "id": "ca71bb3a",
   "metadata": {},
   "source": [
    "This is the the point of this notebook, making direct comparisons of like for like (or as near as we can achieve) measurements from literature to measurements made using XGA. In each case we plot simple one-to-one comparisons, with a one-to-one dashed line in red to give a reference."
   ]
  },
  {
   "cell_type": "markdown",
   "id": "1ab609e1",
   "metadata": {},
   "source": [
    "### LoCuSS"
   ]
  },
  {
   "cell_type": "markdown",
   "id": "19f27f52",
   "metadata": {},
   "source": [
    "We directly compare temperatures and luminosities measured by LoCuSS - specifically those measured by XMM; LoCuSS used both XMM and Chandra. We have measured more XMM $T_{\\rm{X}}$ and $L_{\\rm{X}}$ values for the LoCuSS sample than were originally measured, most likely due to the several years of extra data that we have access to."
   ]
  },
  {
   "cell_type": "code",
   "execution_count": null,
   "id": "c72fd16d",
   "metadata": {},
   "outputs": [],
   "source": [
    "print('{s} out of {t} XGA Txce measurements were successful'.format(s=np.isfinite(locuss_txce[:, 0]).sum(), \n",
    "                                                                  t=len(locuss_txce)))\n",
    "print('{s} out of {t} XGA Lxbolce measurements were successful'.format(s=np.isfinite(locuss_lxbol[:, 0]).sum(), \n",
    "                                                                    t=len(locuss_lxbol)))"
   ]
  },
  {
   "cell_type": "code",
   "execution_count": null,
   "id": "f36fb721",
   "metadata": {},
   "outputs": [],
   "source": [
    "print('There were {n} LoCuSS temperatures originally from Graham'.format(n=np.isfinite(loclit_tx[:, 0]).sum()))"
   ]
  },
  {
   "cell_type": "markdown",
   "id": "0ce44a77",
   "metadata": {},
   "source": [
    "#### $T_{\\rm{X}, 500ce}$ and $L^{\\rm{bol}}_{\\rm{X}, 500}$"
   ]
  },
  {
   "cell_type": "code",
   "execution_count": null,
   "id": "67a5f0df",
   "metadata": {},
   "outputs": [],
   "source": [
    "direct_comparison_plot([loclit_tx, loclit_lxbol], [locuss_txce, locuss_lxbol], \n",
    "                       [r\"LoCuSS $T_{\\rm{X, 500ce}}$ [keV]\", r\"LoCuSS $L^{\\rm{bol}}_{\\rm{X, 500}}$ [erg s$^{-1}$]\"], \n",
    "                       [r\"XGA $T_{\\rm{X, 500ce}}$ [keV]\", r\"XGA $L^{\\rm{bol}}_{\\rm{X, 500}}$ [erg s$^{-1}$]\"],\n",
    "                       r\"LoCuSS High-$L_{\\rm{X}}$\", (12, 6), ['linear', 'log'], ['linear', 'log'], \n",
    "                       savepath='../../outputs/figures/locuss_Txce_Lxbol_comp.pdf')"
   ]
  },
  {
   "cell_type": "code",
   "execution_count": null,
   "id": "882ba860",
   "metadata": {},
   "outputs": [],
   "source": [
    "fit_comp(loclit_tx, locuss_txce, [[0, 100], [0, 5]], r\"LoCuSS $T_{\\rm{X, 500ce}}$ [keV]\", \n",
    "         r\"XGA $T_{\\rm{X, 500ce}}$ [keV]\", Quantity(1, 'keV'),  num_steps=20000, view_chains=True, \n",
    "         linear=True, view_corner=True)\n",
    "# fit_comp(loclit_tx, locuss_txce, [[0, 100], [0, 5]], num_steps=10000, view_chains=False)"
   ]
  },
  {
   "cell_type": "code",
   "execution_count": null,
   "id": "58075081",
   "metadata": {},
   "outputs": [],
   "source": [
    "fit_comp(loclit_lxbol, locuss_lxbol, [[0, 100], [0, 5]], r\"LoCuSS $L^{\\rm{bol}}_{\\rm{X, 500}}$ [erg s$^{-1}$]\", \n",
    "         r\"XGA $L^{\\rm{bol}}_{\\rm{X, 500}}$ [erg s$^{-1}$]\", Quantity(5e+45, 'erg/s'), num_steps=20000, \n",
    "         view_chains=True, linear=False, view_corner=True, xscale='log', yscale='log')"
   ]
  }
 ],
 "metadata": {
  "kernelspec": {
   "display_name": "Python 3 (ipykernel)",
   "language": "python",
   "name": "python3"
  },
  "language_info": {
   "codemirror_mode": {
    "name": "ipython",
    "version": 3
   },
   "file_extension": ".py",
   "mimetype": "text/x-python",
   "name": "python",
   "nbconvert_exporter": "python",
   "pygments_lexer": "ipython3",
   "version": "3.8.11"
  }
 },
 "nbformat": 4,
 "nbformat_minor": 5
}
