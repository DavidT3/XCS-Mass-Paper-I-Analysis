{
 "cells": [
  {
   "cell_type": "markdown",
   "id": "9ca38d73",
   "metadata": {},
   "source": [
    "# Comparing Temperatures and Luminosities Between Analyses"
   ]
  },
  {
   "cell_type": "markdown",
   "id": "2bbdc738",
   "metadata": {},
   "source": [
    "This notebook measures global temperatures and luminosities for the samples we are using to verify our method, then compares them to the measurements from literature. While the focus of this work is the measurement of galaxy cluster masses, temperatures and luminosities play an important role in the construction of X-ray mass-observable scaling relations - thus they must also be shown to be consistent with previous work. "
   ]
  },
  {
   "cell_type": "markdown",
   "id": "18907eb5",
   "metadata": {},
   "source": [
    "## Import Statements"
   ]
  },
  {
   "cell_type": "code",
   "execution_count": 1,
   "id": "baf73311",
   "metadata": {},
   "outputs": [],
   "source": [
    "import pandas as pd\n",
    "import numpy as np\n",
    "from astropy.units import Quantity, UnitConversionError\n",
    "import matplotlib.pyplot as plt\n",
    "from typing import Union, List\n",
    "from shutil import rmtree\n",
    "import os\n",
    "\n",
    "# This adds the directory above to the path, allowing me to import the common functions that I've written in\n",
    "#  common.py - this just saves me repeating boring code and makes sure its all consistent\n",
    "import sys\n",
    "sys.path.insert(0, '..')\n",
    "from common import xcs3p_colour, xcs_cosmo, direct_comparison_plot, find_lims, fit_comp\n",
    "\n",
    "import xga\n",
    "# This just sets the number of cores this analysis is allowed to use\n",
    "xga.NUM_CORES = 80\n",
    "# This is a bodge that will only work because xga_output in notebooks has already been defined, XGA\n",
    "#  will be made to handle this more gracefully at some point\n",
    "temp_dir = xga.OUTPUT\n",
    "actual_dir = temp_dir.split('notebooks/')[0]+'notebooks/xga_output/'\n",
    "xga.OUTPUT = actual_dir\n",
    "xga.utils.OUTPUT = actual_dir\n",
    "# As currently XGA will setup an xga_output directory in our current directory, I remove it to keep it all clean\n",
    "if os.path.exists('xga_output'):\n",
    "    rmtree('xga_output')\n",
    "from xga.samples import ClusterSample\n",
    "from xga.sources import GalaxyCluster\n",
    "from xga.sources import BaseSource\n",
    "from xga.xspec import single_temp_apec\n",
    "\n",
    "# This is a bit cheeky, but suppresses the warnings that XGA spits out (they are \n",
    "#  useful, but not when I'm trying to present this notebook on GitHub)\n",
    "import warnings\n",
    "warnings.filterwarnings('ignore')"
   ]
  },
  {
   "cell_type": "markdown",
   "id": "c7eed232",
   "metadata": {},
   "source": [
    "## Reading in Sample Files and Declaring XGA ClusterSamples"
   ]
  },
  {
   "cell_type": "markdown",
   "id": "e46e5150",
   "metadata": {},
   "source": [
    "This subsection involves reading in the sample files of the four test samples (described in [the sample properties notebook](sample_properties.ipynb)), then setting up separate XGA ClusterSample instances (see [the documentation](https://xga.readthedocs.io/en/latest/notebooks/tutorials/sources_samples.html) for an introduction to XGA source and sample objects.\n",
    "\n",
    "We impose an additional cleaning step on each sample, where we make sure that (for each XMM observation initially associated with a source) at least 70% of a cluster's $R_{500}$ falls on that observation - if this requirement is not met then the observation is excluded. These requirements are set with the `clean_obs=True`, `clean_obs_reg='r500'`, and `clean_obs_threshold=0.7` arguments when a ClusterSample instance is declared."
   ]
  },
  {
   "cell_type": "markdown",
   "id": "bf00d24c",
   "metadata": {},
   "source": [
    "### SDSSRM-XCS Volume Limited"
   ]
  },
  {
   "cell_type": "markdown",
   "id": "3269f883",
   "metadata": {},
   "source": [
    "This is the recent SDSSRM-XCS sample. The temperatures and luminosities are measured by the XCS luminosity-temperature pipeline, and with this we demonstrate that XGA temperatures and luminosities are consistent with existing XCS results.\n",
    "\n",
    "In order to achieve maximum consistency, we use the XAPA coordinates as the central position for spectrum generation (turning off the XGA peak finder with `use_peak=False`). We have also made sure to use the same cosmology.\n",
    "\n",
    "Two files are read in here, one with the results of the XCS3P luminosity-temperature pipeline measured within $R_{500}$ and another with results measured within $R_{2500}$. Not all clusters in the $R_{500}$ sample have a corresponding $R_{2500}$."
   ]
  },
  {
   "cell_type": "code",
   "execution_count": 2,
   "id": "4c3eb5d6",
   "metadata": {},
   "outputs": [],
   "source": [
    "xcs3p = pd.read_csv(\"../../sample_files/xcs3p_sdssrm_vol_lim_temperr_25%_clusters.csv\")\n",
    "xcs3p_r2500 = pd.read_csv(\"../../sample_files/xcs3p_sdssrm_r2500_props_nonvol_lim_temperr_100%_clusters.csv\")"
   ]
  },
  {
   "cell_type": "code",
   "execution_count": 3,
   "id": "f5f39185",
   "metadata": {
    "scrolled": false
   },
   "outputs": [
    {
     "name": "stderr",
     "output_type": "stream",
     "text": [
      "Declaring BaseSource Sample: 100%|██████████████████████████████████████████| 150/150 [01:24<00:00,  1.78it/s]\n",
      "Setting up Galaxy Clusters: 100%|███████████████████████████████████████████| 150/150 [06:50<00:00,  2.74s/it]\n"
     ]
    }
   ],
   "source": [
    "# Reading out the relevant values into arrays just for ease of passing into the ClusterSample object\n",
    "ra = xcs3p['xapa_ra'].values\n",
    "dec = xcs3p['xapa_dec'].values\n",
    "z = xcs3p['z'].values\n",
    "# Not using the IAU names in XCS_NAME column, its easier for me to use the name based on redMaPPer ID\n",
    "n = xcs3p['name'].values\n",
    "# In arcminutes, ClusterSample declaration will convert to kpc using the provided cosmology\n",
    "r500 = Quantity(xcs3p['r500'].values, 'arcmin')\n",
    "# Not likely to use richness in this notebook, but I'm putting it in the sample object anyway\n",
    "r = xcs3p['richness'].values\n",
    "r_err = xcs3p['richness_err'].values\n",
    "\n",
    "# Declaring the actual ClusterSample instance for the XCS sample\n",
    "xcs_srcs = ClusterSample(ra, dec, z, n, r500=r500, richness=r, richness_err=r_err, cosmology=xcs_cosmo, \n",
    "                         load_fits=True, use_peak=False, clean_obs=True, clean_obs_reg='r500', \n",
    "                         clean_obs_threshold=0.7)"
   ]
  },
  {
   "cell_type": "markdown",
   "id": "b12ce522",
   "metadata": {},
   "source": [
    "Also define another sample with a subset of those clusters, specifically for those clusters that also have an $R_{2500}$ value as measured by the XCS3P luminosity temperature pipeline. A separate sample in this case makes it easier to run XGA measurements of temperature and luminosity within $R_{2500}$."
   ]
  },
  {
   "cell_type": "code",
   "execution_count": 4,
   "id": "c28954e3",
   "metadata": {},
   "outputs": [
    {
     "name": "stderr",
     "output_type": "stream",
     "text": [
      "Declaring BaseSource Sample: 100%|██████████████████████████████████████████| 133/133 [01:16<00:00,  1.74it/s]\n",
      "Setting up Galaxy Clusters: 100%|███████████████████████████████████████████| 133/133 [03:53<00:00,  1.76s/it]\n"
     ]
    }
   ],
   "source": [
    "# Read in the R2500 values from a different file, as they result from a different analysis\n",
    "r2500 = []\n",
    "with_r2500 = []\n",
    "for row_ind, row in xcs3p.iterrows():\n",
    "    rel_row = xcs3p_r2500[xcs3p_r2500['MEM_MATCH_ID'] == row['MEM_MATCH_ID']]\n",
    "    # Not all the R500 clusters have a valid R2500, so accounting for that\n",
    "    try:\n",
    "        r2500.append(rel_row['r2500'].values[0])\n",
    "        with_r2500.append(True)\n",
    "    except IndexError:\n",
    "        with_r2500.append(False)\n",
    "r2500 = Quantity(r2500, 'arcmin')\n",
    "with_r2500 = np.array(with_r2500)\n",
    "\n",
    "# Reading out the relevant values into arrays just for ease of passing into the ClusterSample object\n",
    "ra = xcs3p['xapa_ra'].values[with_r2500]\n",
    "dec = xcs3p['xapa_dec'].values[with_r2500]\n",
    "z = xcs3p['z'].values[with_r2500]\n",
    "# Not using the IAU names in XCS_NAME column, its easier for me to use the name based on redMaPPer ID\n",
    "n = xcs3p['name'].values[with_r2500]\n",
    "# Not likely to use richness in this notebook, but I'm putting it in the sample object anyway\n",
    "r = xcs3p['richness'].values[with_r2500]\n",
    "r_err = xcs3p['richness_err'].values[with_r2500]\n",
    "# In arcminutes, ClusterSample declaration will convert to kpc using the provided cosmology\n",
    "r500 = Quantity(xcs3p['r500'].values, 'arcmin')[with_r2500]\n",
    "\n",
    "# Slightly annoying but at the moment I have only let XGA take one set of factors for deciding a background \n",
    "#  region, so I also have to define a blanket one for this. As this will be used to measure R2500 quantities \n",
    "xcs_srcs_subset = ClusterSample(ra, dec, z, n, r500=r500, r2500=r2500, richness=r, richness_err=r_err, \n",
    "                                cosmology=xcs_cosmo, load_fits=True, use_peak=False, clean_obs=True, \n",
    "                                clean_obs_reg='r500', clean_obs_threshold=0.7, back_inn_rad_factor=2, \n",
    "                                back_out_rad_factor=3)"
   ]
  },
  {
   "cell_type": "markdown",
   "id": "64de782d",
   "metadata": {},
   "source": [
    "## Running $T_{\\rm{X}}$ and $L_{\\rm{X}}$ Measurements"
   ]
  },
  {
   "cell_type": "markdown",
   "id": "b514f1fb",
   "metadata": {},
   "source": [
    "The XGA XSPEC functions that we use here all automatically call the XGA SAS interface, so the necessary spectra are generated before the fits begin. As the different samples measure properties within different spatial regions, all the function calls differ slightly.\n",
    "\n",
    "The results of the fits are stored within the indivual source objects that make up each sample."
   ]
  },
  {
   "cell_type": "markdown",
   "id": "20234a62",
   "metadata": {},
   "source": [
    "###  Measurements within $R_{500}$"
   ]
  },
  {
   "cell_type": "markdown",
   "id": "f47a9f0b",
   "metadata": {},
   "source": [
    "For our comparisons here we wish to measure the temperature ($T_{\\rm{X}}$) and luminosity ($L_\\rm{X}$; both in the 0.5-2.0 keV and bolometric keV energy bands) within $R_{\\rm{500}}$. We fit a `constant*tbabs*apec` model; with the choices for absorption (`tbabs`) and plasma emission (`tbabs`) consistent with the XCS analysis, though the addition of a multiplicative constant to manage differences in sensitivity is different from the original analysis."
   ]
  },
  {
   "cell_type": "code",
   "execution_count": 5,
   "id": "fd35baac",
   "metadata": {},
   "outputs": [
    {
     "name": "stderr",
     "output_type": "stream",
     "text": [
      "Running XSPEC Fits: 100%|█████████████████████████████████████████████████| 150/150 [1:39:34<00:00, 39.83s/it]\n"
     ]
    },
    {
     "data": {
      "text/plain": [
       "<xga.samples.extended.ClusterSample at 0x2aab129e9a30>"
      ]
     },
     "execution_count": 5,
     "metadata": {},
     "output_type": "execute_result"
    }
   ],
   "source": [
    "single_temp_apec(xcs_srcs, xcs_srcs.r500, timeout=Quantity(4, 'hr'))"
   ]
  },
  {
   "cell_type": "markdown",
   "id": "3135a55e",
   "metadata": {},
   "source": [
    "### Measurements within 0.15-1$R_{500}$"
   ]
  },
  {
   "cell_type": "markdown",
   "id": "c56a44c7",
   "metadata": {},
   "source": [
    "Though we aren't comparing to any core-excised measurements for the SDSSRM-XCS sample, we might as well generate and fit spectra with the core excised. That way we can also create scaling relations with core-excised properties if we want to later."
   ]
  },
  {
   "cell_type": "code",
   "execution_count": 7,
   "id": "f2102481",
   "metadata": {},
   "outputs": [
    {
     "name": "stderr",
     "output_type": "stream",
     "text": [
      "Generating products of type(s) spectrum: 100%|████████████████████████████| 660/660 [2:16:23<00:00, 12.40s/it]\n",
      "Running XSPEC Fits: 100%|█████████████████████████████████████████████████| 150/150 [2:06:29<00:00, 50.60s/it]\n"
     ]
    },
    {
     "data": {
      "text/plain": [
       "<xga.samples.extended.ClusterSample at 0x2aab129e9a30>"
      ]
     },
     "execution_count": 7,
     "metadata": {},
     "output_type": "execute_result"
    }
   ],
   "source": [
    "single_temp_apec(xcs_srcs, xcs_srcs.r500, inner_radius=0.15*xcs_srcs.r500, timeout=Quantity(4, 'hr'))"
   ]
  },
  {
   "cell_type": "markdown",
   "id": "5495d7fa",
   "metadata": {},
   "source": [
    "### Measurements within $R_{2500}$"
   ]
  },
  {
   "cell_type": "code",
   "execution_count": 8,
   "id": "6585ba53",
   "metadata": {},
   "outputs": [
    {
     "name": "stderr",
     "output_type": "stream",
     "text": [
      "Generating products of type(s) spectrum: 100%|██████████████████████████████| 537/537 [40:36<00:00,  4.54s/it]\n",
      "Running XSPEC Fits: 100%|███████████████████████████████████████████████████| 133/133 [41:23<00:00, 18.67s/it]\n"
     ]
    },
    {
     "data": {
      "text/plain": [
       "<xga.samples.extended.ClusterSample at 0x2aab1299f940>"
      ]
     },
     "execution_count": 8,
     "metadata": {},
     "output_type": "execute_result"
    }
   ],
   "source": [
    "single_temp_apec(xcs_srcs_subset, xcs_srcs_subset.r2500, timeout=Quantity(4, 'hr'))"
   ]
  },
  {
   "cell_type": "markdown",
   "id": "f6ff6258",
   "metadata": {},
   "source": [
    "## Retrieving $T_{\\rm{X}}$ and $L_{\\rm{X}}$ measurements from the samples"
   ]
  },
  {
   "cell_type": "markdown",
   "id": "1f343c25",
   "metadata": {},
   "source": [
    "We must extract and judge the quality of the temperature and luminosity measurements that we have made for each of the samples, then later on we will be able to directly compare them. At the same time we make sure that the results from literature are formatted in such a way that we can easily compare them."
   ]
  },
  {
   "cell_type": "markdown",
   "id": "06174ee4",
   "metadata": {},
   "source": [
    "### Within $R_{500}$"
   ]
  },
  {
   "cell_type": "markdown",
   "id": "107282f8",
   "metadata": {},
   "source": []
  },
  {
   "cell_type": "code",
   "execution_count": 9,
   "id": "79fba088",
   "metadata": {},
   "outputs": [],
   "source": [
    "sdss_tx_all = xcs_srcs.Tx(xcs_srcs.r500, quality_checks=False).value\n",
    "sdss_tx = xcs_srcs.Tx(xcs_srcs.r500, quality_checks=True)\n",
    "\n",
    "sdss_lxbol_all = xcs_srcs.Lx(xcs_srcs.r500, quality_checks=False, lo_en=Quantity(0.01, 'keV'), \n",
    "                             hi_en=Quantity(100.0, 'keV'))\n",
    "sdss_lxbol = xcs_srcs.Lx(xcs_srcs.r500, quality_checks=True, lo_en=Quantity(0.01, 'keV'), \n",
    "                         hi_en=Quantity(100.0, 'keV'))\n",
    "\n",
    "sdss_lx_all = xcs_srcs.Lx(xcs_srcs.r500, quality_checks=False, lo_en=Quantity(0.5, 'keV'), \n",
    "                             hi_en=Quantity(2.0, 'keV'))\n",
    "sdss_lx = xcs_srcs.Lx(xcs_srcs.r500, quality_checks=True, lo_en=Quantity(0.5, 'keV'), \n",
    "                         hi_en=Quantity(2.0, 'keV'))"
   ]
  },
  {
   "cell_type": "code",
   "execution_count": 10,
   "id": "bf3345e5",
   "metadata": {},
   "outputs": [],
   "source": [
    "xcs3p_tx = []\n",
    "xcs3p_lx52 = []\n",
    "xcs3p_lxbol = []\n",
    "\n",
    "for src in xcs_srcs:\n",
    "    n = src.name\n",
    "    rel_row = xcs3p[xcs3p['name'] == n].iloc[0]\n",
    "    xcs3p_tx.append(Quantity(rel_row[['Tx', 'Tx-', 'Tx+']].values, 'keV'))\n",
    "    xcs3p_lx52.append(Quantity(rel_row[['Lx52', 'Lx52-', 'Lx52+']].values*1e+44, 'erg/s'))\n",
    "    xcs3p_lxbol.append(Quantity(rel_row[['Lx', 'Lx-', 'Lx+']].values*1e+44, 'erg/s'))  \n",
    "\n",
    "xcs3p_tx = Quantity(xcs3p_tx)\n",
    "xcs3p_lx52 = Quantity(xcs3p_lx52)\n",
    "xcs3p_lxbol = Quantity(xcs3p_lxbol)"
   ]
  },
  {
   "cell_type": "markdown",
   "id": "c9b4d7e8",
   "metadata": {},
   "source": [
    "### Within $R_{2500}$"
   ]
  },
  {
   "cell_type": "code",
   "execution_count": 11,
   "id": "716411f2",
   "metadata": {},
   "outputs": [],
   "source": [
    "sdss_tx2500_all = xcs_srcs_subset.Tx(xcs_srcs_subset.r2500, quality_checks=False).value\n",
    "sdss_tx2500 = xcs_srcs_subset.Tx(xcs_srcs_subset.r2500, quality_checks=True)\n",
    "\n",
    "sdss_lxbol2500_all = xcs_srcs_subset.Lx(xcs_srcs_subset.r2500, quality_checks=False, lo_en=Quantity(0.01, 'keV'), \n",
    "                             hi_en=Quantity(100.0, 'keV'))\n",
    "sdss_lxbol2500 = xcs_srcs_subset.Lx(xcs_srcs_subset.r2500, quality_checks=True, lo_en=Quantity(0.01, 'keV'), \n",
    "                         hi_en=Quantity(100.0, 'keV'))\n",
    "\n",
    "sdss_lx2500_all = xcs_srcs_subset.Lx(xcs_srcs_subset.r2500, quality_checks=False, lo_en=Quantity(0.5, 'keV'), \n",
    "                             hi_en=Quantity(2.0, 'keV'))\n",
    "sdss_lx2500 = xcs_srcs_subset.Lx(xcs_srcs_subset.r2500, quality_checks=True, lo_en=Quantity(0.5, 'keV'), \n",
    "                         hi_en=Quantity(2.0, 'keV'))"
   ]
  },
  {
   "cell_type": "code",
   "execution_count": 12,
   "id": "7b64de2f",
   "metadata": {},
   "outputs": [],
   "source": [
    "xcs3p_tx2500 = []\n",
    "xcs3p_lx522500 = []\n",
    "xcs3p_lxbol2500 = []\n",
    "\n",
    "for src in xcs_srcs_subset: \n",
    "    n = src.name\n",
    "    rel_row = xcs3p_r2500[xcs3p_r2500['name'] == n].iloc[0]\n",
    "    xcs3p_tx2500.append(Quantity(rel_row[['Tx', 'Tx-', 'Tx+']].values, 'keV'))\n",
    "    xcs3p_lx522500.append(Quantity(rel_row[['Lx52', 'Lx52-', 'Lx52+']].values*1e+44, 'erg/s'))\n",
    "    xcs3p_lxbol2500.append(Quantity(rel_row[['Lx', 'Lx-', 'Lx+']].values*1e+44, 'erg/s'))  \n",
    "\n",
    "xcs3p_tx2500 = Quantity(xcs3p_tx2500)\n",
    "xcs3p_lx522500 = Quantity(xcs3p_lx522500)\n",
    "xcs3p_lxbol2500 = Quantity(xcs3p_lxbol2500)"
   ]
  },
  {
   "cell_type": "markdown",
   "id": "90129eb9",
   "metadata": {},
   "source": [
    "## Direct comparisons between original and XGA measurements"
   ]
  },
  {
   "cell_type": "markdown",
   "id": "ca71bb3a",
   "metadata": {},
   "source": [
    "This is the the point of this notebook, making direct comparisons of like for like (or as near as we can achieve) measurements from literature to measurements made using XGA. In each case we plot simple one-to-one comparisons, with a one-to-one dashed line in red to give a reference."
   ]
  },
  {
   "cell_type": "markdown",
   "id": "8ccb84ab",
   "metadata": {},
   "source": [
    "### Within $R_{500}$"
   ]
  },
  {
   "cell_type": "markdown",
   "id": "e9fb159e",
   "metadata": {},
   "source": [
    "We directly compare temperatures and luminosities (soft band and bolimetric) between the XCS3P pipeline and XGA."
   ]
  },
  {
   "cell_type": "code",
   "execution_count": 13,
   "id": "73a96de9",
   "metadata": {},
   "outputs": [
    {
     "name": "stdout",
     "output_type": "stream",
     "text": [
      "149 out of 150 XGA Tx measurements were successful\n",
      "149 out of 150 XGA Lx52 measurements were successful\n",
      "149 out of 150 XGA Lxbol measurements were successful\n"
     ]
    }
   ],
   "source": [
    "print('{s} out of {t} XGA Tx measurements were successful'.format(s=np.isfinite(sdss_tx[:, 0]).sum(), \n",
    "                                                                  t=len(sdss_tx)))\n",
    "print('{s} out of {t} XGA Lx52 measurements were successful'.format(s=np.isfinite(sdss_lx[:, 0]).sum(), \n",
    "                                                                    t=len(sdss_lx)))\n",
    "print('{s} out of {t} XGA Lxbol measurements were successful'.format(s=np.isfinite(sdss_lxbol[:, 0]).sum(), \n",
    "                                                                    t=len(sdss_lxbol)))"
   ]
  },
  {
   "cell_type": "code",
   "execution_count": 17,
   "id": "e4b33f40",
   "metadata": {},
   "outputs": [
    {
     "data": {
      "text/plain": [
       "array(['SDSSXCS-6307'], dtype='<U13')"
      ]
     },
     "execution_count": 17,
     "metadata": {},
     "output_type": "execute_result"
    }
   ],
   "source": [
    "xcs_srcs.names[np.isnan(sdss_tx[:, 0])]"
   ]
  },
  {
   "cell_type": "markdown",
   "id": "a56cdf58",
   "metadata": {},
   "source": [
    "#### $T_{\\rm{X}, 500}$, $L^{\\rm{0.5-2.0}}_{\\rm{X}, 500}$, and $L^{\\rm{bol}}_{\\rm{X}, 500}$ "
   ]
  },
  {
   "cell_type": "code",
   "execution_count": null,
   "id": "9fba19af",
   "metadata": {},
   "outputs": [],
   "source": [
    "direct_comparison_plot([xcs3p_tx, xcs3p_lx52, xcs3p_lxbol], [sdss_tx, sdss_lx, sdss_lxbol], \n",
    "                       [r\"XCS3P $T_{\\rm{X, 500}}$ [keV]\", r\"XCS3P $L^{\\rm{0.5-2.0}}_{\\rm{X, 500}}$ [erg s$^{-1}$]\", \n",
    "                        r\"XCS3P $L^{\\rm{bol}}_{\\rm{X, 500}}$ [erg s$^{-1}$]\"], \n",
    "                       [r\"XGA $T_{\\rm{X, 500}}$ [keV]\", r\"XGA $L^{\\rm{0.5-2.0}}_{\\rm{X, 500}}$ [erg s$^{-1}$]\", \n",
    "                        r\"XGA $L^{\\rm{bol}}_{\\rm{X, 500}}$ [erg s$^{-1}$]\"],\n",
    "                       r\"SDSSRM-XCS\", (18, 6), ['linear', 'log', 'log'], ['linear', 'log', 'log'], \n",
    "                       savepath='../../outputs/figures/sdssxcs_Tx_Lxb_Lx52_comp.pdf')"
   ]
  },
  {
   "cell_type": "code",
   "execution_count": null,
   "id": "dd430fe6",
   "metadata": {},
   "outputs": [],
   "source": [
    "fit_comp(xcs3p_tx, sdss_tx, [[-5, 5], [-5, 5]], r\"XCS3P $T_{\\rm{X, 500}}$ [keV]\", \n",
    "         r\"XGA $T_{\\rm{X, 500}}$ [keV]\", Quantity(5.5, 'keV'),  num_steps=20000, view_chains=True, \n",
    "         linear=False, view_corner=True)"
   ]
  },
  {
   "cell_type": "code",
   "execution_count": null,
   "id": "2ff0cd72",
   "metadata": {},
   "outputs": [],
   "source": [
    "fit_comp(xcs3p_lx52, sdss_lx, [[-10, 10], [-20, 20]], r\"XCS3P $L^{\\rm{0.5-2.0}}_{\\rm{X, 500}}$ [erg s$^{-1}$]\", \n",
    "         r\"XGA $L^{\\rm{0.5-2.0}}_{\\rm{X, 500}}$ [erg s$^{-1}$]\", Quantity(1e+44, 'erg/s'),  num_steps=20000, \n",
    "         view_chains=True, linear=False, view_corner=True, xscale='log', yscale='log')"
   ]
  },
  {
   "cell_type": "code",
   "execution_count": null,
   "id": "99791155",
   "metadata": {},
   "outputs": [],
   "source": [
    "fit_comp(xcs3p_lxbol, sdss_lxbol, [[-10, 10], [-20, 20]], r\"XCS3P $L^{\\rm{bol}}_{\\rm{X, 500}}$ [erg s$^{-1}$]\", \n",
    "         r\"XGA $L^{\\rm{bol}}_{\\rm{X, 500}}$ [erg s$^{-1}$]\", Quantity(5e+44, 'erg/s'),  num_steps=20000, \n",
    "         view_chains=True, linear=True, view_corner=True, xscale='linear', yscale='linear')"
   ]
  },
  {
   "cell_type": "markdown",
   "id": "cae91feb",
   "metadata": {},
   "source": [
    "### Within $R_{2500}$"
   ]
  },
  {
   "cell_type": "code",
   "execution_count": null,
   "id": "a298fdb3",
   "metadata": {},
   "outputs": [],
   "source": [
    "print('{s} out of {t} XGA Tx measurements were successful'.format(s=np.isfinite(sdss_tx2500[:, 0]).sum(), \n",
    "                                                                  t=len(sdss_tx2500)))\n",
    "print('{s} out of {t} XGA Lx52 measurements were successful'.format(s=np.isfinite(sdss_lx2500[:, 0]).sum(), \n",
    "                                                                    t=len(sdss_lx2500)))\n",
    "print('{s} out of {t} XGA Lxbol measurements were successful'.format(s=np.isfinite(sdss_lxbol2500[:, 0]).sum(), \n",
    "                                                                    t=len(sdss_lxbol2500)))"
   ]
  },
  {
   "cell_type": "code",
   "execution_count": null,
   "id": "917e0e4e",
   "metadata": {},
   "outputs": [],
   "source": [
    "direct_comparison_plot([xcs3p_tx2500, xcs3p_lx522500, xcs3p_lxbol2500], [sdss_tx2500, sdss_lx2500, sdss_lxbol2500], \n",
    "                       [r\"XCS3P $T_{\\rm{X, 2500}}$ [keV]\", r\"XCS3P $L^{\\rm{0.5-2.0}}_{\\rm{X, 2500}}$ [erg s$^{-1}$]\", \n",
    "                        r\"XCS3P $L^{\\rm{bol}}_{\\rm{X, 2500}}$ [erg s$^{-1}$]\"], \n",
    "                       [r\"XGA $T_{\\rm{X, 2500}}$ [keV]\", r\"XGA $L^{\\rm{0.5-2.0}}_{\\rm{X, 2500}}$ [erg s$^{-1}$]\", \n",
    "                        r\"XGA $L^{\\rm{bol}}_{\\rm{X, 2500}}$ [erg s$^{-1}$]\"],\n",
    "                       r\"SDSSRM-XCS\", (18, 6), ['linear', 'log', 'log'], ['linear', 'log', 'log'], \n",
    "                       savepath='../../outputs/figures/sdssxcs_Tx_Lxb_Lx52_r2500_comp.pdf')"
   ]
  },
  {
   "cell_type": "code",
   "execution_count": null,
   "id": "83541d7b",
   "metadata": {},
   "outputs": [],
   "source": [
    "fit_comp(xcs3p_tx2500, sdss_tx2500, [[-5, 5], [-5, 5]], r\"XCS3P $T_{\\rm{X, 2500}}$ [keV]\", \n",
    "         r\"XGA $T_{\\rm{X, 2500}}$ [keV]\", Quantity(5.5, 'keV'),  num_steps=20000, view_chains=True, \n",
    "         linear=True, view_corner=True)"
   ]
  },
  {
   "cell_type": "code",
   "execution_count": null,
   "id": "b98e9aba",
   "metadata": {},
   "outputs": [],
   "source": [
    "fit_comp(xcs3p_lx522500, sdss_lx2500, [[-10, 10], [-20, 20]], \n",
    "         r\"XCS3P $L^{\\rm{0.5-2.0}}_{\\rm{X, 2500}}$ [erg s$^{-1}$]\", \n",
    "         r\"XGA $L^{\\rm{0.5-2.0}}_{\\rm{X, 2500}}$ [erg s$^{-1}$]\", Quantity(1e+44, 'erg/s'),  num_steps=20000, \n",
    "         view_chains=True, linear=False, view_corner=True, xscale='log', yscale='log')"
   ]
  }
 ],
 "metadata": {
  "kernelspec": {
   "display_name": "Python 3 (ipykernel)",
   "language": "python",
   "name": "python3"
  },
  "language_info": {
   "codemirror_mode": {
    "name": "ipython",
    "version": 3
   },
   "file_extension": ".py",
   "mimetype": "text/x-python",
   "name": "python",
   "nbconvert_exporter": "python",
   "pygments_lexer": "ipython3",
   "version": "3.8.11"
  }
 },
 "nbformat": 4,
 "nbformat_minor": 5
}
