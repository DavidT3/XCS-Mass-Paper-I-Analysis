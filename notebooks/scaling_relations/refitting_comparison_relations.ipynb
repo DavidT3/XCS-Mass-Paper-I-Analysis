{
 "cells": [
  {
   "cell_type": "markdown",
   "id": "25866bc9",
   "metadata": {},
   "source": [
    "# Re-fitting literature scaling relations for comparisons"
   ]
  },
  {
   "cell_type": "markdown",
   "id": "4e8f0edb",
   "metadata": {},
   "source": []
  },
  {
   "cell_type": "markdown",
   "id": "f7e95e52",
   "metadata": {},
   "source": [
    "## Import statements"
   ]
  },
  {
   "cell_type": "code",
   "execution_count": 1,
   "id": "591c450b",
   "metadata": {},
   "outputs": [],
   "source": [
    "import pandas as pd\n",
    "import numpy as np\n",
    "from astropy.units import Quantity, UnitConversionError\n",
    "import matplotlib.pyplot as plt\n",
    "from typing import Union, List\n",
    "from shutil import rmtree\n",
    "import os\n",
    "import pickle\n",
    "\n",
    "# This adds the directory above to the path, allowing me to import the common functions that I've written in\n",
    "#  common.py - this just saves me repeating boring code and makes sure its all consistent\n",
    "import sys\n",
    "sys.path.insert(0, '..')\n",
    "from common import xcs_cosmo\n",
    "\n",
    "import xga\n",
    "# This is a bodge that will only work because xga_output in notebooks has already been defined, XGA\n",
    "#  will be made to handle this more gracefully at some point\n",
    "temp_dir = xga.OUTPUT\n",
    "actual_dir = temp_dir.split('notebooks/')[0]+'notebooks/xga_output/'\n",
    "xga.OUTPUT = actual_dir\n",
    "xga.utils.OUTPUT = actual_dir\n",
    "# As currently XGA will setup an xga_output directory in our current directory, I remove it to keep it all clean\n",
    "if os.path.exists('xga_output'):\n",
    "    rmtree('xga_output')\n",
    "from xga.relations.fit import scaling_relation_lira"
   ]
  },
  {
   "cell_type": "markdown",
   "id": "267236b9",
   "metadata": {},
   "source": [
    "## Setting up parameter normalisations"
   ]
  },
  {
   "cell_type": "markdown",
   "id": "d2801f91",
   "metadata": {},
   "source": []
  },
  {
   "cell_type": "code",
   "execution_count": 12,
   "id": "715c273d",
   "metadata": {},
   "outputs": [],
   "source": [
    "tx_norm = Quantity(5, 'keV')\n",
    "mhy_norm = Quantity(4e+14, 'Msun')\n",
    "lx_norm = Quantity(1e+44, 'erg/s')\n",
    "rich_norm = Quantity(50)"
   ]
  },
  {
   "cell_type": "markdown",
   "id": "fff1ee7e",
   "metadata": {},
   "source": [
    "## Mass-Temperature"
   ]
  },
  {
   "cell_type": "markdown",
   "id": "138eb74e",
   "metadata": {},
   "source": []
  },
  {
   "cell_type": "markdown",
   "id": "d4711a23",
   "metadata": {},
   "source": [
    "### [Arnaud et al. 2005](https://arxiv.org/abs/astro-ph/0502210)"
   ]
  },
  {
   "cell_type": "markdown",
   "id": "897f3c5d",
   "metadata": {},
   "source": []
  },
  {
   "cell_type": "markdown",
   "id": "8494a3f8",
   "metadata": {},
   "source": [
    "#### Reading in the data"
   ]
  },
  {
   "cell_type": "markdown",
   "id": "20705fdd",
   "metadata": {},
   "source": [
    "I took this data from Table 1 of the paper.\n",
    "\n",
    "It is worth noting that the cosmology used for the Arnaud analysis is the same concordance cosmology that we assume for our SDSSRM-XCS analysis. \n",
    "\n",
    "Its also important to note that their 'global' temperature measurements are taken in a fairly odd region, between 0.1-0.5$R_{200}$. As we don't have an external measure of $R_{200}$ for the SDSSRM-XCS clusters, we cannot easily replicate this for a comparison to this scaling relation."
   ]
  },
  {
   "cell_type": "code",
   "execution_count": null,
   "id": "84ed0b3d",
   "metadata": {},
   "outputs": [],
   "source": [
    "arnaud_data = pd.read_csv('../../sample_files/for_sr_comp/arnaud2005.csv')\n",
    "arnaud_data"
   ]
  },
  {
   "cell_type": "markdown",
   "id": "924fddaf",
   "metadata": {},
   "source": [
    "Now we need to put this data into astropy quantities so that its compatible with XGA's scaling relation objects."
   ]
  },
  {
   "cell_type": "code",
   "execution_count": null,
   "id": "dd6201bd",
   "metadata": {},
   "outputs": [],
   "source": [
    "arnaud_ez = xcs_cosmo.efunc(arnaud_data['z'].values)\n",
    "arnaud_m500 = Quantity(arnaud_data[['m500', 'm500_err']], '10^14Msun').to(\"Msun\")\n",
    "arnaud_tx = Quantity(arnaud_data[['Tx', 'Tx_err']], 'keV')"
   ]
  },
  {
   "cell_type": "markdown",
   "id": "c3c4f796",
   "metadata": {},
   "source": [
    "#### Fitting the Arnaud $M^{\\rm{hy}}_{500}$-$T_{\\rm{X}}$ relation with LIRA"
   ]
  },
  {
   "cell_type": "code",
   "execution_count": null,
   "id": "a55e59cc",
   "metadata": {},
   "outputs": [],
   "source": [
    "y_name = r'E(z)$M^{\\rm{hy}}_{500}$'\n",
    "x_name = r'$T_{\\rm{X}}$'\n",
    "arnaud_m500_Tx = scaling_relation_lira(arnaud_m500[:, 0]*arnaud_ez, arnaud_m500[:, 1]*arnaud_ez, \n",
    "                                       arnaud_tx[:, 0], arnaud_tx[:, 1],  mhy_norm, tx_norm, y_name=y_name, \n",
    "                                       x_name=x_name)\n",
    "arnaud_m500_Tx.name = 'Arnaud et al. 2005'\n",
    "arnaud_m500_Tx.year = 2005\n",
    "arnaud_m500_Tx.author = 'Arnaud et al.'\n",
    "arnaud_m500_Tx.doi = '10.1051/0004-6361:20052856'"
   ]
  },
  {
   "cell_type": "code",
   "execution_count": null,
   "id": "6922768f",
   "metadata": {},
   "outputs": [],
   "source": [
    "arnaud_m500_Tx.view(figsize=(6.5, 6.5), model_colour='tab:blue')"
   ]
  },
  {
   "cell_type": "markdown",
   "id": "c8b1bf7e",
   "metadata": {},
   "source": [
    "### [Lovisari et al. 2020](https://ui.adsabs.harvard.edu/abs/2020ApJ...892..102L/abstract)"
   ]
  },
  {
   "cell_type": "markdown",
   "id": "bd0daf44",
   "metadata": {},
   "source": []
  },
  {
   "cell_type": "markdown",
   "id": "db224731",
   "metadata": {},
   "source": [
    "#### Reading in the data"
   ]
  },
  {
   "cell_type": "markdown",
   "id": "65c5a6fe",
   "metadata": {},
   "source": [
    "This data was taken from the [VizieR table](https://vizier.u-strasbg.fr/viz-bin/VizieR-3?-source=J/ApJ/892/102&-out.max=50&-out.form=HTML%20Table&-out.add=_r&-out.add=_RAJ,_DEJ&-sort=_r&-oc.form=sexa) that accompanied the paper. Multiple measures of temperature and luminosity are available, with and without core excision; I believe that the global kT measurements are taken within $R_{500}$, and the core-excised are within $0.15-1R_{500}$."
   ]
  },
  {
   "cell_type": "code",
   "execution_count": null,
   "id": "12a92932",
   "metadata": {},
   "outputs": [],
   "source": [
    "lovisari_data = pd.read_csv('../../sample_files/for_sr_comp/lovisari2020.csv')\n",
    "lovisari_data.head(5)"
   ]
  },
  {
   "cell_type": "markdown",
   "id": "55589079",
   "metadata": {},
   "source": [
    "Creating astropy quantities to fit scaling relations from. Lowercase 'e' indicates a lower uncertainty, uppercase 'E' indicates an upper uncertainty:"
   ]
  },
  {
   "cell_type": "code",
   "execution_count": null,
   "id": "fa814841",
   "metadata": {},
   "outputs": [],
   "source": [
    "lovisari_ez = xcs_cosmo.efunc(lovisari_data['z'].values)\n",
    "lovisari_m500 = Quantity(lovisari_data[['M500', 'e_M500', 'E_M500']], '10^14Msun').to(\"Msun\")\n",
    "lovisari_tx = Quantity(lovisari_data[['kT', 'e_kT', 'E_kT']], 'keV')"
   ]
  },
  {
   "cell_type": "markdown",
   "id": "8b8f831e",
   "metadata": {},
   "source": [
    "#### Fitting the Lovisari $M^{\\rm{hy}}_{500}$-$T_{\\rm{X}}$ relation with LIRA"
   ]
  },
  {
   "cell_type": "code",
   "execution_count": null,
   "id": "36a434b9",
   "metadata": {},
   "outputs": [],
   "source": [
    "y_name = r'E(z)$M^{\\rm{hy}}_{500}$'\n",
    "x_name = r'$T_{\\rm{X}}$'\n",
    "lovisari_m500_Tx = scaling_relation_lira(lovisari_m500[:, 0]*lovisari_ez, \n",
    "                                         lovisari_m500[:, 1:]*lovisari_ez[..., None], \n",
    "                                         lovisari_tx[:, 0], lovisari_tx[:, 1:], mhy_norm, tx_norm, y_name=y_name, \n",
    "                                         x_name=x_name)\n",
    "lovisari_m500_Tx.name = 'Lovisari et al. 2020'\n",
    "arnaud_m500_Tx.year = 2020\n",
    "arnaud_m500_Tx.author = 'Lovisari et al.'\n",
    "arnaud_m500_Tx.doi = '10.3847/1538-4357/ab7997'"
   ]
  },
  {
   "cell_type": "code",
   "execution_count": null,
   "id": "dfa3dc2b",
   "metadata": {},
   "outputs": [],
   "source": [
    "lovisari_m500_Tx.view(figsize=(6.5, 6.5), model_colour='darkgreen')"
   ]
  },
  {
   "cell_type": "markdown",
   "id": "e2f382cb",
   "metadata": {},
   "source": [
    "### Contours of both comparison relations"
   ]
  },
  {
   "cell_type": "code",
   "execution_count": null,
   "id": "10d205a2",
   "metadata": {},
   "outputs": [],
   "source": [
    "(lovisari_m500_Tx+arnaud_m500_Tx).view_corner(contour_colours=['darkgreen', 'tab:blue'])"
   ]
  },
  {
   "cell_type": "markdown",
   "id": "7c911fe6",
   "metadata": {},
   "source": [
    "## Mass-Luminosity"
   ]
  },
  {
   "cell_type": "code",
   "execution_count": null,
   "id": "4239a8e2",
   "metadata": {},
   "outputs": [],
   "source": []
  },
  {
   "cell_type": "markdown",
   "id": "7d9d056b",
   "metadata": {},
   "source": [
    "### [Lovisari et al. 2020](https://ui.adsabs.harvard.edu/abs/2020ApJ...892..102L/abstract)"
   ]
  },
  {
   "cell_type": "markdown",
   "id": "b439c182",
   "metadata": {},
   "source": [
    "Luminosities are measured both within a 0.1-2.4keV band, and a 0.01-100keV (bolometric) band. There are also measurements within $R_{500}$, and within $0.15-1R_{500}$ (core-excised)."
   ]
  },
  {
   "cell_type": "markdown",
   "id": "adc8672c",
   "metadata": {},
   "source": [
    "#### Defining astropy quantities for fitting"
   ]
  },
  {
   "cell_type": "code",
   "execution_count": null,
   "id": "bef049ce",
   "metadata": {},
   "outputs": [],
   "source": [
    "lovisari_lx = Quantity(lovisari_data[['LX', 'e_LX', 'E_LX']]*1e+44, 'erg/s')\n",
    "lovisari_lxce = Quantity(lovisari_data[['LXexc', 'e_LXexc', 'E_LXexc']]*1e+44, 'erg/s')\n",
    "\n",
    "lovisari_lxbol = Quantity(lovisari_data[['Lbol', 'e_Lbol', 'E_Lbol']]*1e+44, 'erg/s')\n",
    "lovisari_lxbolce = Quantity(lovisari_data[['Lbolexc', 'e_Lbolexc', 'E_Lbolexc']]*1e+44, 'erg/s')"
   ]
  },
  {
   "cell_type": "markdown",
   "id": "73ba93b5",
   "metadata": {},
   "source": [
    "#### Fitting the Lovisari $M^{\\rm{hy}}_{500}$-$L^{0.1-2.4\\rm{keV}}_{\\rm{X, 500}}$ relation with LIRA"
   ]
  },
  {
   "cell_type": "code",
   "execution_count": null,
   "id": "ed8aeeb3",
   "metadata": {},
   "outputs": [],
   "source": [
    "y_name = r'E(z)$M^{\\rm{hy}}_{500}$'\n",
    "x_name = r'$L^{0.1-2.4\\rm{keV}}_{\\rm{X, 500}}$'\n",
    "lovisari_m500_Lx = scaling_relation_lira(lovisari_m500[:, 0]*lovisari_ez, \n",
    "                                         lovisari_m500[:, 1:]*lovisari_ez[..., None], \n",
    "                                           lovisari_lx[:, 0], lovisari_lx[:, 1:], mhy_norm, lx_norm, \n",
    "                                           y_name=y_name, x_name=x_name)\n",
    "lovisari_m500_Lx.name = 'Lovisari et al. 2020'"
   ]
  },
  {
   "cell_type": "code",
   "execution_count": null,
   "id": "ef7cb743",
   "metadata": {},
   "outputs": [],
   "source": [
    "lovisari_m500_Lx.view(figsize=(6.5, 6.5), model_colour='teal')"
   ]
  },
  {
   "cell_type": "markdown",
   "id": "d4bc0e0c",
   "metadata": {},
   "source": [
    "#### Fitting the Lovisari $M^{\\rm{hy}}_{500}$-$L^{0.1-2.4\\rm{keV}}_{\\rm{X, 500ce}}$ relation with LIRA"
   ]
  },
  {
   "cell_type": "code",
   "execution_count": null,
   "id": "7765e6fa",
   "metadata": {},
   "outputs": [],
   "source": [
    "y_name = r'E(z)$M^{\\rm{hy}}_{500}$'\n",
    "x_name = r'$L^{0.1-2.4\\rm{keV}}_{\\rm{X, 500ce}}$'\n",
    "lovisari_m500_Lxce = scaling_relation_lira(lovisari_m500[:, 0]*lovisari_ez, \n",
    "                                           lovisari_m500[:, 1:]*lovisari_ez[..., None], \n",
    "                                           lovisari_lxce[:, 0], lovisari_lxce[:, 1:], mhy_norm, lx_norm, \n",
    "                                           y_name=y_name, x_name=x_name)\n",
    "lovisari_m500_Lxce.name = 'Lovisari et al. 2020'"
   ]
  },
  {
   "cell_type": "code",
   "execution_count": null,
   "id": "a2e6dfaa",
   "metadata": {},
   "outputs": [],
   "source": [
    "lovisari_m500_Lxce.view(figsize=(6.5, 6.5), model_colour='lightsteelblue')"
   ]
  },
  {
   "cell_type": "markdown",
   "id": "b4839943",
   "metadata": {},
   "source": [
    "#### Fitting the Lovisari $M^{\\rm{hy}}_{500}$-$L^{\\rm{bol}}_{\\rm{X, 500}}$ relation with LIRA"
   ]
  },
  {
   "cell_type": "code",
   "execution_count": null,
   "id": "5269d702",
   "metadata": {},
   "outputs": [],
   "source": [
    "y_name = r'E(z)$M^{\\rm{hy}}_{500}$'\n",
    "x_name = r'$L^{0.1-2.4\\rm{keV}}_{\\rm{X, 500}}$'\n",
    "lovisari_m500_Lbol = scaling_relation_lira(lovisari_m500[:, 0]*lovisari_ez, \n",
    "                                           lovisari_m500[:, 1:]*lovisari_ez[..., None], \n",
    "                                           lovisari_lxbol[:, 0], lovisari_lxbol[:, 1:], mhy_norm, lx_norm, \n",
    "                                           y_name=y_name, x_name=x_name)\n",
    "lovisari_m500_Lbol.name = 'Lovisari et al. 2020'"
   ]
  },
  {
   "cell_type": "code",
   "execution_count": null,
   "id": "c36ccaa7",
   "metadata": {},
   "outputs": [],
   "source": [
    "lovisari_m500_Lbol.view(figsize=(6.5, 6.5), model_colour='olive')"
   ]
  },
  {
   "cell_type": "markdown",
   "id": "bfa60966",
   "metadata": {},
   "source": [
    "#### Fitting the Lovisari $M^{\\rm{hy}}_{500}$-$L^{\\rm{bol}}_{\\rm{X, 500ce}}$ relation with LIRA"
   ]
  },
  {
   "cell_type": "code",
   "execution_count": null,
   "id": "3df3b355",
   "metadata": {},
   "outputs": [],
   "source": [
    "y_name = r'E(z)$M^{\\rm{hy}}_{500}$'\n",
    "x_name = r'$L^{0.1-2.4\\rm{keV}}_{\\rm{X, 500ce}}$'\n",
    "lovisari_m500_Lbolce = scaling_relation_lira(lovisari_m500[:, 0]*lovisari_ez, \n",
    "                                             lovisari_m500[:, 1:]*lovisari_ez[..., None], \n",
    "                                             lovisari_lxbolce[:, 0], lovisari_lxbolce[:, 1:], mhy_norm, lx_norm, \n",
    "                                             y_name=y_name, x_name=x_name)\n",
    "lovisari_m500_Lbolce.name = 'Lovisari et al. 2020'"
   ]
  },
  {
   "cell_type": "code",
   "execution_count": null,
   "id": "c1b7606a",
   "metadata": {},
   "outputs": [],
   "source": [
    "lovisari_m500_Lbolce.view(figsize=(6.5, 6.5), model_colour='seagreen')"
   ]
  },
  {
   "cell_type": "markdown",
   "id": "63d9629c",
   "metadata": {},
   "source": [
    "###  Contours of the Mass-Luminosity comparison relations"
   ]
  },
  {
   "cell_type": "code",
   "execution_count": null,
   "id": "1273f0e2",
   "metadata": {},
   "outputs": [],
   "source": [
    "comb_MLx_colours = ['teal', 'lightsteelblue', 'olive', 'seagreen'] \n",
    "comb_MLx = (lovisari_m500_Lx+lovisari_m500_Lxce+lovisari_m500_Lbol+lovisari_m500_Lbolce)\n",
    "comb_MLx.view_corner(contour_colours=comb_MLx_colours)"
   ]
  },
  {
   "cell_type": "markdown",
   "id": "31fbbda5",
   "metadata": {},
   "source": [
    "## Mass-Richness"
   ]
  },
  {
   "cell_type": "markdown",
   "id": "ec75d08c",
   "metadata": {},
   "source": []
  },
  {
   "cell_type": "markdown",
   "id": "181b8e55",
   "metadata": {},
   "source": [
    "### [Andreon et al. 2014](https://www.aanda.org/articles/aa/full_html/2014/08/aa23616-14/aa23616-14.html)"
   ]
  },
  {
   "cell_type": "markdown",
   "id": "9684b17f",
   "metadata": {},
   "source": []
  },
  {
   "cell_type": "markdown",
   "id": "a6c2a36b",
   "metadata": {},
   "source": [
    "#### Reading in the data"
   ]
  },
  {
   "cell_type": "markdown",
   "id": "a203d02e",
   "metadata": {},
   "source": [
    "Table 1"
   ]
  },
  {
   "cell_type": "code",
   "execution_count": 3,
   "id": "c757755e",
   "metadata": {},
   "outputs": [
    {
     "data": {
      "text/html": [
       "<div>\n",
       "<style scoped>\n",
       "    .dataframe tbody tr th:only-of-type {\n",
       "        vertical-align: middle;\n",
       "    }\n",
       "\n",
       "    .dataframe tbody tr th {\n",
       "        vertical-align: top;\n",
       "    }\n",
       "\n",
       "    .dataframe thead th {\n",
       "        text-align: right;\n",
       "    }\n",
       "</style>\n",
       "<table border=\"1\" class=\"dataframe\">\n",
       "  <thead>\n",
       "    <tr style=\"text-align: right;\">\n",
       "      <th></th>\n",
       "      <th>Name</th>\n",
       "      <th>z</th>\n",
       "      <th>log10n0.5</th>\n",
       "      <th>log10n0.5_err</th>\n",
       "      <th>log10M0.5</th>\n",
       "      <th>log10M0.5_err</th>\n",
       "    </tr>\n",
       "  </thead>\n",
       "  <tbody>\n",
       "    <tr>\n",
       "      <th>0</th>\n",
       "      <td>Abell2104</td>\n",
       "      <td>0.15</td>\n",
       "      <td>1.44</td>\n",
       "      <td>0.08</td>\n",
       "      <td>14.53</td>\n",
       "      <td>0.06</td>\n",
       "    </tr>\n",
       "    <tr>\n",
       "      <th>1</th>\n",
       "      <td>Abell1914</td>\n",
       "      <td>0.17</td>\n",
       "      <td>1.72</td>\n",
       "      <td>0.06</td>\n",
       "      <td>14.54</td>\n",
       "      <td>0.05</td>\n",
       "    </tr>\n",
       "    <tr>\n",
       "      <th>2</th>\n",
       "      <td>MS0440.5+0204</td>\n",
       "      <td>0.19</td>\n",
       "      <td>1.29</td>\n",
       "      <td>0.09</td>\n",
       "      <td>14.40</td>\n",
       "      <td>0.09</td>\n",
       "    </tr>\n",
       "    <tr>\n",
       "      <th>3</th>\n",
       "      <td>Abell520</td>\n",
       "      <td>0.20</td>\n",
       "      <td>1.42</td>\n",
       "      <td>0.08</td>\n",
       "      <td>14.53</td>\n",
       "      <td>0.06</td>\n",
       "    </tr>\n",
       "    <tr>\n",
       "      <th>4</th>\n",
       "      <td>Abell2163</td>\n",
       "      <td>0.20</td>\n",
       "      <td>1.49</td>\n",
       "      <td>0.07</td>\n",
       "      <td>14.62</td>\n",
       "      <td>0.06</td>\n",
       "    </tr>\n",
       "  </tbody>\n",
       "</table>\n",
       "</div>"
      ],
      "text/plain": [
       "            Name     z  log10n0.5  log10n0.5_err  log10M0.5  log10M0.5_err\n",
       "0      Abell2104  0.15       1.44           0.08      14.53           0.06\n",
       "1      Abell1914  0.17       1.72           0.06      14.54           0.05\n",
       "2  MS0440.5+0204  0.19       1.29           0.09      14.40           0.09\n",
       "3       Abell520  0.20       1.42           0.08      14.53           0.06\n",
       "4      Abell2163  0.20       1.49           0.07      14.62           0.06"
      ]
     },
     "execution_count": 3,
     "metadata": {},
     "output_type": "execute_result"
    }
   ],
   "source": [
    "andreon_data = pd.read_csv('../../sample_files/for_sr_comp/andreon2014.csv')\n",
    "andreon_data.head(5)"
   ]
  },
  {
   "cell_type": "markdown",
   "id": "73f2637a",
   "metadata": {},
   "source": [
    "Again need to put these values into astropy quantities. This requires a little massaging due to the format of the data stored in the table."
   ]
  },
  {
   "cell_type": "code",
   "execution_count": 4,
   "id": "9600392b",
   "metadata": {},
   "outputs": [],
   "source": [
    "andreon_ez = xcs_cosmo.efunc(andreon_data['z'].values)\n",
    "\n",
    "# Has to be done this way because the errors presented in the paper are logged\n",
    "andreon_m_vals = 10**andreon_data['log10M0.5']\n",
    "andreon_m_errs = andreon_data['log10M0.5_err']*np.log(10)*andreon_m_vals\n",
    "andreon_m = Quantity([andreon_m_vals, andreon_m_errs], 'Msun').T\n",
    "\n",
    "andreon_rich = Quantity(10**andreon_data[['log10n0.5', 'log10n0.5_err']], '')\n",
    "andreon_rich_vals = 10**andreon_data['log10n0.5']\n",
    "andreon_rich_errs = andreon_data['log10n0.5_err']*np.log(10)*andreon_rich_vals\n",
    "andreon_rich = Quantity([andreon_rich_vals, andreon_rich_errs], '').T"
   ]
  },
  {
   "cell_type": "markdown",
   "id": "812f7589",
   "metadata": {},
   "source": [
    "#### Fitting an Andreon $M^{\\rm{}}_{0.5\\rm{Mpc}}$-$\\lambda$ relation with LIRA"
   ]
  },
  {
   "cell_type": "code",
   "execution_count": 13,
   "id": "feb47b92",
   "metadata": {},
   "outputs": [
    {
     "name": "stdout",
     "output_type": "stream",
     "text": [
      "  |**************************************************| 100%\n"
     ]
    }
   ],
   "source": [
    "y_name = r'E(z)$M^{\\rm{WL}}_{0.5\\rm{Mpc}}$'\n",
    "x_name = r'$\\lambda_{0.5\\rm{Mpc}}$'\n",
    "andreon_m_rich = scaling_relation_lira(andreon_m[:, 0]*andreon_ez, andreon_m[:, 1]*andreon_ez, andreon_rich[:, 0], \n",
    "                                       andreon_rich[:, 1],  mhy_norm, rich_norm, y_name=y_name, x_name=x_name)\n",
    "andreon_m_rich.name = 'Andreon et al. 2014'\n",
    "andreon_m_rich.year = 2014\n",
    "andreon_m_rich.author = 'Andreon et al.'\n",
    "andreon_m_rich.doi = '10.1051/0004-6361/201423616'"
   ]
  },
  {
   "cell_type": "code",
   "execution_count": 14,
   "id": "0c12d1a9",
   "metadata": {},
   "outputs": [
    {
     "data": {
      "image/png": "[encoded data removed]",
      "text/plain": [
       "<Figure size 540x540 with 1 Axes>"
      ]
     },
     "metadata": {
      "needs_background": "light"
     },
     "output_type": "display_data"
    }
   ],
   "source": [
    "andreon_m_rich.view(figsize=(7.5, 7.5), model_colour='maroon')"
   ]
  },
  {
   "cell_type": "code",
   "execution_count": 15,
   "id": "acf00c56",
   "metadata": {},
   "outputs": [
    {
     "name": "stdout",
     "output_type": "stream",
     "text": [
      "Removed no burn in\n"
     ]
    },
    {
     "data": {
      "image/png": "[encoded data removed]",
      "text/plain": [
       "<Figure size 720x720 with 6 Axes>"
      ]
     },
     "metadata": {
      "needs_background": "light"
     },
     "output_type": "display_data"
    }
   ],
   "source": [
    "andreon_m_rich.view_corner(colour='maroon')"
   ]
  }
 ],
 "metadata": {
  "kernelspec": {
   "display_name": "Python 3 (ipykernel)",
   "language": "python",
   "name": "python3"
  },
  "language_info": {
   "codemirror_mode": {
    "name": "ipython",
    "version": 3
   },
   "file_extension": ".py",
   "mimetype": "text/x-python",
   "name": "python",
   "nbconvert_exporter": "python",
   "pygments_lexer": "ipython3",
   "version": "3.8.12"
  }
 },
 "nbformat": 4,
 "nbformat_minor": 5
}
