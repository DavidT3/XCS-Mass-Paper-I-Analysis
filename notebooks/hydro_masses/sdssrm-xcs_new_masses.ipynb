{
 "cells": [
  {
   "cell_type": "markdown",
   "id": "e9ab26f6",
   "metadata": {},
   "source": [
    "# Measuring hydrostatic masses for SDSSRM-XCS galaxy clusters"
   ]
  },
  {
   "cell_type": "markdown",
   "id": "143018c0",
   "metadata": {},
   "source": [
    "In this notebook we perform new measurements of hydrostatic mass for a subset of the SDSSRM-XCS volume-limited, temperature error limited, galaxy cluster sample. We also aim to use the masses to construct mass observable relations between mass and various X-ray quantities, as well as mass and the optical quantity richness. These mass measurements are meant as a companion to the [Giles et al. (2022)](https://arxiv.org/abs/2202.11107) paper, which constructed the sample and reported measurements of temperature and luminosity."
   ]
  },
  {
   "cell_type": "code",
   "execution_count": 1,
   "id": "6967ea28",
   "metadata": {},
   "outputs": [],
   "source": [
    "import pandas as pd\n",
    "import numpy as np\n",
    "from astropy.units import Quantity, UnitConversionError\n",
    "from astropy.cosmology import LambdaCDM, WMAP9\n",
    "import matplotlib.pyplot as plt\n",
    "from typing import Union, List\n",
    "from shutil import rmtree\n",
    "import os\n",
    "from tqdm import tqdm\n",
    "from warnings import warn\n",
    "\n",
    "# This adds the directory above to the path, allowing me to import the common functions that I've written in\n",
    "#  common.py - this just saves me repeating boring code and makes sure its all consistent\n",
    "import sys\n",
    "sys.path.insert(0, '..')\n",
    "from common import xcs3p_colour, xcs_cosmo, direct_comparison_plot, find_lims, fit_comp\n",
    "\n",
    "import xga\n",
    "# This just sets the number of cores this analysis is allowed to use\n",
    "xga.NUM_CORES = 100\n",
    "# This is a bodge that will only work because xga_output in notebooks has already been defined, XGA\n",
    "#  will be made to handle this more gracefully at some point\n",
    "temp_dir = xga.OUTPUT\n",
    "actual_dir = temp_dir.split('notebooks/')[0]+'notebooks/xga_output/'\n",
    "xga.OUTPUT = actual_dir\n",
    "xga.utils.OUTPUT = actual_dir\n",
    "# As currently XGA will setup an xga_output directory in our current directory, I remove it to keep it all clean\n",
    "if os.path.exists('xga_output'):\n",
    "    rmtree('xga_output')\n",
    "from xga.samples import ClusterSample\n",
    "from xga.sourcetools.mass import inv_abel_dens_onion_temp\n",
    "from xga.relations.fit import scaling_relation_odr\n",
    "from xga.relations.clusters.MT import arnaud_m500\n",
    "from xga.models.misc import power_law\n",
    "from xga.exceptions import NoProductAvailableError, ModelNotAssociatedError\n",
    "from xga.xspec import single_temp_apec\n"
   ]
  },
  {
   "cell_type": "markdown",
   "id": "e5156436",
   "metadata": {},
   "source": [
    "## Reading in sample file and Declaring XGA ClusterSample"
   ]
  },
  {
   "cell_type": "markdown",
   "id": "8537959f",
   "metadata": {},
   "source": [
    "Reading in the sample csv file, containing XAPA positions, redshifts, XCS3P $R_{500}$ estimates, and richnesses. This is used to define the XGA ClusterSample, which in turn is what hydrostatic mass measurements are run on. We make sure to turn peak-finding off, as we base our measurements on XAPA positions."
   ]
  },
  {
   "cell_type": "code",
   "execution_count": 2,
   "id": "a76cc51b",
   "metadata": {},
   "outputs": [],
   "source": [
    "xcs3p = pd.read_csv(\"../../sample_files/xcs3p_sdssrm_vol_lim_temperr_25%_clusters.csv\")\n",
    "xcs3p_r2500 = pd.read_csv(\"../../sample_files/xcs3p_sdssrm_r2500_props_nonvol_lim_temperr_100%_clusters.csv\")"
   ]
  },
  {
   "cell_type": "code",
   "execution_count": 3,
   "id": "d11f9544",
   "metadata": {
    "scrolled": true
   },
   "outputs": [
    {
     "name": "stderr",
     "output_type": "stream",
     "text": [
      "Declaring BaseSource Sample:  48%|████████████████████▋                      | 72/150 [03:38<02:58,  2.29s/it]/mnt/pact/dt237/code/PycharmProjects/XGA/xga/sources/base.py:870: UserWarning: SDSSXCS-408 spectrum /mnt/lustre/projects/astro/general/dt237/mass_papers/XCS-Mass-Paper-I-Analysis/notebooks/xga_output/0502690101/0502690101_mos2_SDSSXCS-408_ra178.82585_dec23.406762_ri0.049541661400259285_ro0.055583327424681146_grpTrue_mincnt5_ident10604555_8_spec.fits cannot be loaded in due to a mismatch in available ancillary files\n",
      "  warnings.warn(\"{src} spectrum {sp} cannot be loaded in due to a mismatch in available\"\n",
      "Declaring BaseSource Sample:  78%|████████████████████████████████▊         | 117/150 [06:52<03:02,  5.52s/it]/mnt/pact/dt237/code/PycharmProjects/XGA/xga/sources/base.py:870: UserWarning: SDSSXCS-55 spectrum /mnt/lustre/projects/astro/general/dt237/mass_papers/XCS-Mass-Paper-I-Analysis/notebooks/xga_output/0149880101/0149880101_pn_SDSSXCS-55_ra227.55039_dec33.516138_ri0.08579161500459656_ro0.09183327803308927_grpTrue_mincnt5_ident85228453_14_spec.fits cannot be loaded in due to a mismatch in available ancillary files\n",
      "  warnings.warn(\"{src} spectrum {sp} cannot be loaded in due to a mismatch in available\"\n",
      "Declaring BaseSource Sample:  79%|█████████████████████████████████▎        | 119/150 [07:09<03:38,  7.05s/it]/mnt/pact/dt237/code/PycharmProjects/XGA/xga/sources/base.py:870: UserWarning: SDSSXCS-123 spectrum /mnt/lustre/projects/astro/general/dt237/mass_papers/XCS-Mass-Paper-I-Analysis/notebooks/xga_output/0103860601/0103860601_mos1_SDSSXCS-123_ra229.07719_dec0.092336076_ri0.08699997425133257_ro0.09908330400846209_grpTrue_mincnt5_ident27274588_14_spec.fits cannot be loaded in due to a mismatch in available ancillary files\n",
      "  warnings.warn(\"{src} spectrum {sp} cannot be loaded in due to a mismatch in available\"\n",
      "Declaring BaseSource Sample: 100%|██████████████████████████████████████████| 150/150 [09:15<00:00,  3.70s/it]\n",
      "Setting up Galaxy Clusters:   7%|██▉                                         | 10/150 [00:23<05:16,  2.26s/it]/mnt/pact/dt237/code/PycharmProjects/XGA/xga/sources/base.py:1039: UserWarning: A previous annular spectra profile fit for SDSSXCS-2346 was not successful, or no matching spectrum has been loaded, so it cannot be read in\n",
      "  warnings.warn(\"A previous annular spectra profile fit for {src} was not successful, or no \"\n",
      "/mnt/pact/dt237/code/PycharmProjects/XGA/xga/sources/general.py:124: UserWarning: SDSSXCS-2346 has not been detected in all region files, so generating and fitting products with the 'region' reg_type will not use all available data\n",
      "  warnings.warn(\"{n} has not been detected in all region files, so generating and fitting products\"\n",
      "/mnt/pact/dt237/code/PycharmProjects/XGA/xga/sources/base.py:1039: UserWarning: A previous annular spectra profile fit for SDSSXCS-2346 was not successful, or no matching spectrum has been loaded, so it cannot be read in\n",
      "  warnings.warn(\"A previous annular spectra profile fit for {src} was not successful, or no \"\n",
      "Setting up Galaxy Clusters:   8%|███▌                                        | 12/150 [00:32<07:25,  3.23s/it]/mnt/pact/dt237/code/PycharmProjects/XGA/xga/sources/general.py:124: UserWarning: SDSSXCS-11331 has not been detected in all region files, so generating and fitting products with the 'region' reg_type will not use all available data\n",
      "  warnings.warn(\"{n} has not been detected in all region files, so generating and fitting products\"\n",
      "Setting up Galaxy Clusters:   9%|███▊                                        | 13/150 [00:35<07:21,  3.22s/it]/mnt/pact/dt237/code/PycharmProjects/XGA/xga/sources/base.py:1039: UserWarning: A previous annular spectra profile fit for SDSSXCS-28849 was not successful, or no matching spectrum has been loaded, so it cannot be read in\n",
      "  warnings.warn(\"A previous annular spectra profile fit for {src} was not successful, or no \"\n",
      "/mnt/pact/dt237/code/PycharmProjects/XGA/xga/sources/general.py:124: UserWarning: SDSSXCS-28849 has not been detected in all region files, so generating and fitting products with the 'region' reg_type will not use all available data\n",
      "  warnings.warn(\"{n} has not been detected in all region files, so generating and fitting products\"\n",
      "/mnt/pact/dt237/code/PycharmProjects/XGA/xga/sources/base.py:1039: UserWarning: A previous annular spectra profile fit for SDSSXCS-28849 was not successful, or no matching spectrum has been loaded, so it cannot be read in\n",
      "  warnings.warn(\"A previous annular spectra profile fit for {src} was not successful, or no \"\n",
      "Setting up Galaxy Clusters:   9%|████                                        | 14/150 [00:40<08:36,  3.80s/it]/mnt/pact/dt237/code/PycharmProjects/XGA/xga/sources/general.py:124: UserWarning: SDSSXCS-31144 has not been detected in all region files, so generating and fitting products with the 'region' reg_type will not use all available data\n",
      "  warnings.warn(\"{n} has not been detected in all region files, so generating and fitting products\"\n",
      "Setting up Galaxy Clusters:  13%|█████▌                                      | 19/150 [00:55<06:05,  2.79s/it]/mnt/pact/dt237/code/PycharmProjects/XGA/xga/sources/general.py:124: UserWarning: SDSSXCS-35404 has not been detected in all region files, so generating and fitting products with the 'region' reg_type will not use all available data\n",
      "  warnings.warn(\"{n} has not been detected in all region files, so generating and fitting products\"\n",
      "Setting up Galaxy Clusters:  13%|█████▊                                      | 20/150 [00:58<06:19,  2.92s/it]/mnt/pact/dt237/code/PycharmProjects/XGA/xga/sources/general.py:124: UserWarning: SDSSXCS-7190 has not been detected in all region files, so generating and fitting products with the 'region' reg_type will not use all available data\n",
      "  warnings.warn(\"{n} has not been detected in all region files, so generating and fitting products\"\n",
      "Setting up Galaxy Clusters:  15%|██████▍                                     | 22/150 [01:05<06:28,  3.04s/it]/mnt/pact/dt237/code/PycharmProjects/XGA/xga/sources/general.py:124: UserWarning: SDSSXCS-5743 has not been detected in all region files, so generating and fitting products with the 'region' reg_type will not use all available data\n",
      "  warnings.warn(\"{n} has not been detected in all region files, so generating and fitting products\"\n",
      "Setting up Galaxy Clusters:  15%|██████▋                                     | 23/150 [01:12<08:47,  4.15s/it]/mnt/pact/dt237/code/PycharmProjects/XGA/xga/sources/general.py:124: UserWarning: SDSSXCS-1131 has not been detected in all region files, so generating and fitting products with the 'region' reg_type will not use all available data\n",
      "  warnings.warn(\"{n} has not been detected in all region files, so generating and fitting products\"\n",
      "Setting up Galaxy Clusters:  16%|███████                                     | 24/150 [01:19<10:40,  5.08s/it]/mnt/pact/dt237/code/PycharmProjects/XGA/xga/sources/general.py:124: UserWarning: SDSSXCS-29799 has not been detected in all region files, so generating and fitting products with the 'region' reg_type will not use all available data\n",
      "  warnings.warn(\"{n} has not been detected in all region files, so generating and fitting products\"\n",
      "Setting up Galaxy Clusters:  17%|███████▎                                    | 25/150 [01:25<11:01,  5.30s/it]/mnt/pact/dt237/code/PycharmProjects/XGA/xga/sources/general.py:124: UserWarning: SDSSXCS-852 has not been detected in all region files, so generating and fitting products with the 'region' reg_type will not use all available data\n",
      "  warnings.warn(\"{n} has not been detected in all region files, so generating and fitting products\"\n",
      "Setting up Galaxy Clusters:  17%|███████▋                                    | 26/150 [01:34<13:21,  6.46s/it]/mnt/pact/dt237/code/PycharmProjects/XGA/xga/sources/general.py:124: UserWarning: SDSSXCS-5830 has not been detected in all region files, so generating and fitting products with the 'region' reg_type will not use all available data\n",
      "  warnings.warn(\"{n} has not been detected in all region files, so generating and fitting products\"\n",
      "Setting up Galaxy Clusters:  18%|███████▉                                    | 27/150 [01:48<17:42,  8.64s/it]/mnt/pact/dt237/code/PycharmProjects/XGA/xga/sources/base.py:1039: UserWarning: A previous annular spectra profile fit for SDSSXCS-5977 was not successful, or no matching spectrum has been loaded, so it cannot be read in\n",
      "  warnings.warn(\"A previous annular spectra profile fit for {src} was not successful, or no \"\n",
      "/mnt/pact/dt237/code/PycharmProjects/XGA/xga/sources/general.py:124: UserWarning: SDSSXCS-5977 has not been detected in all region files, so generating and fitting products with the 'region' reg_type will not use all available data\n",
      "  warnings.warn(\"{n} has not been detected in all region files, so generating and fitting products\"\n",
      "/mnt/pact/dt237/code/PycharmProjects/XGA/xga/sources/base.py:1039: UserWarning: A previous annular spectra profile fit for SDSSXCS-5977 was not successful, or no matching spectrum has been loaded, so it cannot be read in\n",
      "  warnings.warn(\"A previous annular spectra profile fit for {src} was not successful, or no \"\n",
      "Setting up Galaxy Clusters:  19%|████████▌                                   | 29/150 [01:52<10:22,  5.15s/it]/mnt/pact/dt237/code/PycharmProjects/XGA/xga/sources/general.py:124: UserWarning: SDSSXCS-2984 has not been detected in all region files, so generating and fitting products with the 'region' reg_type will not use all available data\n",
      "  warnings.warn(\"{n} has not been detected in all region files, so generating and fitting products\"\n",
      "Setting up Galaxy Clusters:  20%|████████▊                                   | 30/150 [01:59<11:45,  5.88s/it]/mnt/pact/dt237/code/PycharmProjects/XGA/xga/sources/general.py:124: UserWarning: SDSSXCS-6955 has not been detected in all region files, so generating and fitting products with the 'region' reg_type will not use all available data\n",
      "  warnings.warn(\"{n} has not been detected in all region files, so generating and fitting products\"\n",
      "Setting up Galaxy Clusters:  21%|█████████                                   | 31/150 [02:04<10:46,  5.44s/it]/mnt/pact/dt237/code/PycharmProjects/XGA/xga/sources/general.py:124: UserWarning: SDSSXCS-64824 has not been detected in all region files, so generating and fitting products with the 'region' reg_type will not use all available data\n",
      "  warnings.warn(\"{n} has not been detected in all region files, so generating and fitting products\"\n",
      "Setting up Galaxy Clusters:  21%|█████████▍                                  | 32/150 [02:12<12:31,  6.37s/it]/mnt/pact/dt237/code/PycharmProjects/XGA/xga/sources/base.py:1039: UserWarning: A previous annular spectra profile fit for SDSSXCS-8366 was not successful, or no matching spectrum has been loaded, so it cannot be read in\n",
      "  warnings.warn(\"A previous annular spectra profile fit for {src} was not successful, or no \"\n",
      "/mnt/pact/dt237/code/PycharmProjects/XGA/xga/sources/extended.py:221: UserWarning: A point source has been detected in 0677590135 and is very close to the user supplied coordinates of SDSSXCS-8366. It will not be excluded from analysis due to the possibility of a mis-identified cool core\n",
      "  warnings.warn(\"A point source has been detected in {o} and is very close to the user supplied \"\n",
      "/mnt/pact/dt237/code/PycharmProjects/XGA/xga/sources/general.py:124: UserWarning: SDSSXCS-8366 has not been detected in all region files, so generating and fitting products with the 'region' reg_type will not use all available data\n",
      "  warnings.warn(\"{n} has not been detected in all region files, so generating and fitting products\"\n",
      "/mnt/pact/dt237/code/PycharmProjects/XGA/xga/sources/base.py:1039: UserWarning: A previous annular spectra profile fit for SDSSXCS-8366 was not successful, or no matching spectrum has been loaded, so it cannot be read in\n",
      "  warnings.warn(\"A previous annular spectra profile fit for {src} was not successful, or no \"\n",
      "Setting up Galaxy Clusters:  22%|█████████▋                                  | 33/150 [02:21<14:10,  7.27s/it]/mnt/pact/dt237/code/PycharmProjects/XGA/xga/sources/general.py:124: UserWarning: SDSSXCS-120 has not been detected in all region files, so generating and fitting products with the 'region' reg_type will not use all available data\n",
      "  warnings.warn(\"{n} has not been detected in all region files, so generating and fitting products\"\n",
      "Setting up Galaxy Clusters:  25%|██████████▊                                 | 37/150 [02:47<10:24,  5.53s/it]/mnt/pact/dt237/code/PycharmProjects/XGA/xga/sources/general.py:124: UserWarning: SDSSXCS-103 has not been detected in all region files, so generating and fitting products with the 'region' reg_type will not use all available data\n",
      "  warnings.warn(\"{n} has not been detected in all region files, so generating and fitting products\"\n",
      "Setting up Galaxy Clusters:  27%|████████████                                | 41/150 [03:00<05:59,  3.30s/it]/mnt/pact/dt237/code/PycharmProjects/XGA/xga/sources/general.py:124: UserWarning: SDSSXCS-31 has not been detected in all region files, so generating and fitting products with the 'region' reg_type will not use all available data\n",
      "  warnings.warn(\"{n} has not been detected in all region files, so generating and fitting products\"\n",
      "Setting up Galaxy Clusters:  28%|████████████▎                               | 42/150 [03:03<05:56,  3.30s/it]/mnt/pact/dt237/code/PycharmProjects/XGA/xga/sources/general.py:124: UserWarning: SDSSXCS-325 has not been detected in all region files, so generating and fitting products with the 'region' reg_type will not use all available data\n",
      "  warnings.warn(\"{n} has not been detected in all region files, so generating and fitting products\"\n",
      "Setting up Galaxy Clusters:  29%|████████████▌                               | 43/150 [03:06<05:32,  3.11s/it]/mnt/pact/dt237/code/PycharmProjects/XGA/xga/sources/base.py:1039: UserWarning: A previous annular spectra profile fit for SDSSXCS-26424 was not successful, or no matching spectrum has been loaded, so it cannot be read in\n",
      "  warnings.warn(\"A previous annular spectra profile fit for {src} was not successful, or no \"\n",
      "Setting up Galaxy Clusters:  29%|████████████▉                               | 44/150 [03:08<04:42,  2.66s/it]/mnt/pact/dt237/code/PycharmProjects/XGA/xga/sources/extended.py:225: UserWarning: A PSF sized extended source has been detected in 0842950401 and is very close to the user supplied coordinates of SDSSXCS-5159. It will not be excluded from analysis due to the possibility of a mis-identified cool core\n",
      "  warnings.warn(\"A PSF sized extended source has been detected in {o} and is very close to the \"\n",
      "Setting up Galaxy Clusters:  33%|██████████████▋                             | 50/150 [03:25<04:31,  2.72s/it]/mnt/pact/dt237/code/PycharmProjects/XGA/xga/sources/extended.py:221: UserWarning: A point source has been detected in 0401170101 and is very close to the user supplied coordinates of SDSSXCS-21. It will not be excluded from analysis due to the possibility of a mis-identified cool core\n",
      "  warnings.warn(\"A point source has been detected in {o} and is very close to the user supplied \"\n",
      "/mnt/pact/dt237/code/PycharmProjects/XGA/xga/sources/general.py:124: UserWarning: SDSSXCS-21 has not been detected in all region files, so generating and fitting products with the 'region' reg_type will not use all available data\n",
      "  warnings.warn(\"{n} has not been detected in all region files, so generating and fitting products\"\n",
      "Setting up Galaxy Clusters:  34%|██████████████▉                             | 51/150 [03:31<06:14,  3.79s/it]/mnt/pact/dt237/code/PycharmProjects/XGA/xga/sources/general.py:124: UserWarning: SDSSXCS-23 has not been detected in all region files, so generating and fitting products with the 'region' reg_type will not use all available data\n",
      "  warnings.warn(\"{n} has not been detected in all region files, so generating and fitting products\"\n",
      "Setting up Galaxy Clusters:  35%|███████████████▎                            | 52/150 [03:36<06:39,  4.08s/it]/mnt/pact/dt237/code/PycharmProjects/XGA/xga/sources/base.py:1039: UserWarning: A previous annular spectra profile fit for SDSSXCS-617 was not successful, or no matching spectrum has been loaded, so it cannot be read in\n",
      "  warnings.warn(\"A previous annular spectra profile fit for {src} was not successful, or no \"\n"
     ]
    },
    {
     "name": "stderr",
     "output_type": "stream",
     "text": [
      "/mnt/pact/dt237/code/PycharmProjects/XGA/xga/sources/general.py:124: UserWarning: SDSSXCS-617 has not been detected in all region files, so generating and fitting products with the 'region' reg_type will not use all available data\n",
      "  warnings.warn(\"{n} has not been detected in all region files, so generating and fitting products\"\n",
      "/mnt/pact/dt237/code/PycharmProjects/XGA/xga/sources/base.py:1039: UserWarning: A previous annular spectra profile fit for SDSSXCS-617 was not successful, or no matching spectrum has been loaded, so it cannot be read in\n",
      "  warnings.warn(\"A previous annular spectra profile fit for {src} was not successful, or no \"\n",
      "Setting up Galaxy Clusters:  35%|███████████████▌                            | 53/150 [03:38<05:39,  3.50s/it]/mnt/pact/dt237/code/PycharmProjects/XGA/xga/sources/base.py:1039: UserWarning: A previous annular spectra profile fit for SDSSXCS-6245 was not successful, or no matching spectrum has been loaded, so it cannot be read in\n",
      "  warnings.warn(\"A previous annular spectra profile fit for {src} was not successful, or no \"\n",
      "Setting up Galaxy Clusters:  36%|███████████████▊                            | 54/150 [03:40<04:54,  3.07s/it]/mnt/pact/dt237/code/PycharmProjects/XGA/xga/sources/general.py:109: UserWarning: There are 1 alternative matches for observation 0671540501, associated with source SDSSXCS-21847\n",
      "  warnings.warn(\"There are {0} alternative matches for observation {1}, associated with \"\n",
      "/mnt/pact/dt237/code/PycharmProjects/XGA/xga/sources/general.py:109: UserWarning: There are 1 alternative matches for observation 0743950701, associated with source SDSSXCS-21847\n",
      "  warnings.warn(\"There are {0} alternative matches for observation {1}, associated with \"\n",
      "/mnt/pact/dt237/code/PycharmProjects/XGA/xga/sources/general.py:109: UserWarning: There are 1 alternative matches for observation 0671540701, associated with source SDSSXCS-21847\n",
      "  warnings.warn(\"There are {0} alternative matches for observation {1}, associated with \"\n",
      "/mnt/pact/dt237/code/PycharmProjects/XGA/xga/sources/general.py:124: UserWarning: SDSSXCS-21847 has not been detected in all region files, so generating and fitting products with the 'region' reg_type will not use all available data\n",
      "  warnings.warn(\"{n} has not been detected in all region files, so generating and fitting products\"\n",
      "Setting up Galaxy Clusters:  38%|████████████████▋                           | 57/150 [04:15<10:09,  6.55s/it]/mnt/pact/dt237/code/PycharmProjects/XGA/xga/sources/general.py:124: UserWarning: SDSSXCS-8060 has not been detected in all region files, so generating and fitting products with the 'region' reg_type will not use all available data\n",
      "  warnings.warn(\"{n} has not been detected in all region files, so generating and fitting products\"\n",
      "Setting up Galaxy Clusters:  41%|██████████████████▏                         | 62/150 [04:33<05:53,  4.01s/it]/mnt/pact/dt237/code/PycharmProjects/XGA/xga/sources/general.py:124: UserWarning: SDSSXCS-1628 has not been detected in all region files, so generating and fitting products with the 'region' reg_type will not use all available data\n",
      "  warnings.warn(\"{n} has not been detected in all region files, so generating and fitting products\"\n",
      "Setting up Galaxy Clusters:  45%|███████████████████▉                        | 68/150 [04:58<05:02,  3.69s/it]/mnt/pact/dt237/code/PycharmProjects/XGA/xga/sources/base.py:1039: UserWarning: A previous annular spectra profile fit for SDSSXCS-10897 was not successful, or no matching spectrum has been loaded, so it cannot be read in\n",
      "  warnings.warn(\"A previous annular spectra profile fit for {src} was not successful, or no \"\n",
      "/mnt/pact/dt237/code/PycharmProjects/XGA/xga/sources/general.py:109: UserWarning: There are 1 alternative matches for observation 0107860201, associated with source SDSSXCS-10897\n",
      "  warnings.warn(\"There are {0} alternative matches for observation {1}, associated with \"\n",
      "Setting up Galaxy Clusters:  47%|████████████████████▊                       | 71/150 [05:05<03:35,  2.72s/it]/mnt/pact/dt237/code/PycharmProjects/XGA/xga/sources/extended.py:221: UserWarning: A point source has been detected in 0827341301 and is very close to the user supplied coordinates of SDSSXCS-4245. It will not be excluded from analysis due to the possibility of a mis-identified cool core\n",
      "  warnings.warn(\"A point source has been detected in {o} and is very close to the user supplied \"\n",
      "Setting up Galaxy Clusters:  48%|█████████████████████                       | 72/150 [05:07<03:12,  2.47s/it]/mnt/pact/dt237/code/PycharmProjects/XGA/xga/sources/base.py:870: UserWarning: SDSSXCS-408 spectrum /mnt/lustre/projects/astro/general/dt237/mass_papers/XCS-Mass-Paper-I-Analysis/notebooks/xga_output/0502690101/0502690101_mos2_SDSSXCS-408_ra178.82585_dec23.406762_ri0.049541661400259285_ro0.055583327424681146_grpTrue_mincnt5_ident10604555_8_spec.fits cannot be loaded in due to a mismatch in available ancillary files\n",
      "  warnings.warn(\"{src} spectrum {sp} cannot be loaded in due to a mismatch in available\"\n",
      "Setting up Galaxy Clusters:  49%|█████████████████████▍                      | 73/150 [05:26<09:31,  7.42s/it]/mnt/pact/dt237/code/PycharmProjects/XGA/xga/sources/extended.py:221: UserWarning: A point source has been detected in 0601260201 and is very close to the user supplied coordinates of SDSSXCS-10401. It will not be excluded from analysis due to the possibility of a mis-identified cool core\n",
      "  warnings.warn(\"A point source has been detected in {o} and is very close to the user supplied \"\n",
      "Setting up Galaxy Clusters:  49%|█████████████████████▋                      | 74/150 [05:29<07:41,  6.08s/it]/mnt/pact/dt237/code/PycharmProjects/XGA/xga/sources/base.py:1039: UserWarning: A previous annular spectra profile fit for SDSSXCS-58896 was not successful, or no matching spectrum has been loaded, so it cannot be read in\n",
      "  warnings.warn(\"A previous annular spectra profile fit for {src} was not successful, or no \"\n",
      "/mnt/pact/dt237/code/PycharmProjects/XGA/xga/sources/general.py:124: UserWarning: SDSSXCS-58896 has not been detected in all region files, so generating and fitting products with the 'region' reg_type will not use all available data\n",
      "  warnings.warn(\"{n} has not been detected in all region files, so generating and fitting products\"\n",
      "/mnt/pact/dt237/code/PycharmProjects/XGA/xga/sources/base.py:1039: UserWarning: A previous annular spectra profile fit for SDSSXCS-58896 was not successful, or no matching spectrum has been loaded, so it cannot be read in\n",
      "  warnings.warn(\"A previous annular spectra profile fit for {src} was not successful, or no \"\n",
      "Setting up Galaxy Clusters:  50%|██████████████████████                      | 75/150 [06:08<19:57, 15.97s/it]/mnt/pact/dt237/code/PycharmProjects/XGA/xga/sources/general.py:124: UserWarning: SDSSXCS-474 has not been detected in all region files, so generating and fitting products with the 'region' reg_type will not use all available data\n",
      "  warnings.warn(\"{n} has not been detected in all region files, so generating and fitting products\"\n",
      "Setting up Galaxy Clusters:  51%|██████████████████████▎                     | 76/150 [06:15<16:28, 13.36s/it]/mnt/pact/dt237/code/PycharmProjects/XGA/xga/sources/base.py:1039: UserWarning: A previous annular spectra profile fit for SDSSXCS-7247 was not successful, or no matching spectrum has been loaded, so it cannot be read in\n",
      "  warnings.warn(\"A previous annular spectra profile fit for {src} was not successful, or no \"\n",
      "Setting up Galaxy Clusters:  51%|██████████████████████▌                     | 77/150 [06:17<12:18, 10.11s/it]/mnt/pact/dt237/code/PycharmProjects/XGA/xga/sources/general.py:124: UserWarning: SDSSXCS-19467 has not been detected in all region files, so generating and fitting products with the 'region' reg_type will not use all available data\n",
      "  warnings.warn(\"{n} has not been detected in all region files, so generating and fitting products\"\n",
      "Setting up Galaxy Clusters:  53%|███████████████████████▏                    | 79/150 [07:54<30:03, 25.40s/it]/mnt/pact/dt237/code/PycharmProjects/XGA/xga/sources/general.py:124: UserWarning: SDSSXCS-1174 has not been detected in all region files, so generating and fitting products with the 'region' reg_type will not use all available data\n",
      "  warnings.warn(\"{n} has not been detected in all region files, so generating and fitting products\"\n"
     ]
    },
    {
     "name": "stderr",
     "output_type": "stream",
     "text": [
      "Setting up Galaxy Clusters:  53%|███████████████████████▍                    | 80/150 [07:57<21:47, 18.67s/it]/mnt/pact/dt237/code/PycharmProjects/XGA/xga/sources/base.py:1039: UserWarning: A previous annular spectra profile fit for SDSSXCS-608 was not successful, or no matching spectrum has been loaded, so it cannot be read in\n",
      "  warnings.warn(\"A previous annular spectra profile fit for {src} was not successful, or no \"\n",
      "/mnt/pact/dt237/code/PycharmProjects/XGA/xga/sources/general.py:124: UserWarning: SDSSXCS-608 has not been detected in all region files, so generating and fitting products with the 'region' reg_type will not use all available data\n",
      "  warnings.warn(\"{n} has not been detected in all region files, so generating and fitting products\"\n",
      "/mnt/pact/dt237/code/PycharmProjects/XGA/xga/sources/base.py:1039: UserWarning: A previous annular spectra profile fit for SDSSXCS-608 was not successful, or no matching spectrum has been loaded, so it cannot be read in\n",
      "  warnings.warn(\"A previous annular spectra profile fit for {src} was not successful, or no \"\n",
      "Setting up Galaxy Clusters:  57%|█████████████████████████▏                  | 86/150 [08:14<04:50,  4.54s/it]/mnt/pact/dt237/code/PycharmProjects/XGA/xga/sources/base.py:1039: UserWarning: A previous annular spectra profile fit for SDSSXCS-28269 was not successful, or no matching spectrum has been loaded, so it cannot be read in\n",
      "  warnings.warn(\"A previous annular spectra profile fit for {src} was not successful, or no \"\n",
      "Setting up Galaxy Clusters:  61%|██████████████████████████▉                 | 92/150 [08:24<02:07,  2.19s/it]/mnt/pact/dt237/code/PycharmProjects/XGA/xga/sources/general.py:124: UserWarning: SDSSXCS-3 has not been detected in all region files, so generating and fitting products with the 'region' reg_type will not use all available data\n",
      "  warnings.warn(\"{n} has not been detected in all region files, so generating and fitting products\"\n",
      "Setting up Galaxy Clusters:  62%|███████████████████████████▎                | 93/150 [08:32<03:41,  3.89s/it]/mnt/pact/dt237/code/PycharmProjects/XGA/xga/sources/general.py:124: UserWarning: SDSSXCS-5939 has not been detected in all region files, so generating and fitting products with the 'region' reg_type will not use all available data\n",
      "  warnings.warn(\"{n} has not been detected in all region files, so generating and fitting products\"\n",
      "Setting up Galaxy Clusters:  64%|████████████████████████████▏               | 96/150 [08:39<02:30,  2.79s/it]/mnt/pact/dt237/code/PycharmProjects/XGA/xga/sources/general.py:124: UserWarning: SDSSXCS-907 has not been detected in all region files, so generating and fitting products with the 'region' reg_type will not use all available data\n",
      "  warnings.warn(\"{n} has not been detected in all region files, so generating and fitting products\"\n",
      "Setting up Galaxy Clusters:  65%|████████████████████████████▍               | 97/150 [08:44<02:56,  3.32s/it]/mnt/pact/dt237/code/PycharmProjects/XGA/xga/sources/base.py:1039: UserWarning: A previous annular spectra profile fit for SDSSXCS-14715 was not successful, or no matching spectrum has been loaded, so it cannot be read in\n",
      "  warnings.warn(\"A previous annular spectra profile fit for {src} was not successful, or no \"\n",
      "/mnt/pact/dt237/code/PycharmProjects/XGA/xga/sources/general.py:109: UserWarning: There are 1 alternative matches for observation 0109080301, associated with source SDSSXCS-14715\n",
      "  warnings.warn(\"There are {0} alternative matches for observation {1}, associated with \"\n",
      "/mnt/pact/dt237/code/PycharmProjects/XGA/xga/sources/general.py:124: UserWarning: SDSSXCS-14715 has not been detected in all region files, so generating and fitting products with the 'region' reg_type will not use all available data\n",
      "  warnings.warn(\"{n} has not been detected in all region files, so generating and fitting products\"\n",
      "/mnt/pact/dt237/code/PycharmProjects/XGA/xga/sources/base.py:1039: UserWarning: A previous annular spectra profile fit for SDSSXCS-14715 was not successful, or no matching spectrum has been loaded, so it cannot be read in\n",
      "  warnings.warn(\"A previous annular spectra profile fit for {src} was not successful, or no \"\n",
      "Setting up Galaxy Clusters:  66%|█████████████████████████████               | 99/150 [08:49<02:35,  3.06s/it]/mnt/pact/dt237/code/PycharmProjects/XGA/xga/sources/general.py:124: UserWarning: SDSSXCS-457 has not been detected in all region files, so generating and fitting products with the 'region' reg_type will not use all available data\n",
      "  warnings.warn(\"{n} has not been detected in all region files, so generating and fitting products\"\n",
      "Setting up Galaxy Clusters:  67%|████████████████████████████▋              | 100/150 [08:55<03:14,  3.90s/it]/mnt/pact/dt237/code/PycharmProjects/XGA/xga/sources/base.py:1039: UserWarning: A previous annular spectra profile fit for SDSSXCS-35 was not successful, or no matching spectrum has been loaded, so it cannot be read in\n",
      "  warnings.warn(\"A previous annular spectra profile fit for {src} was not successful, or no \"\n",
      "/mnt/pact/dt237/code/PycharmProjects/XGA/xga/sources/general.py:124: UserWarning: SDSSXCS-35 has not been detected in all region files, so generating and fitting products with the 'region' reg_type will not use all available data\n",
      "  warnings.warn(\"{n} has not been detected in all region files, so generating and fitting products\"\n",
      "/mnt/pact/dt237/code/PycharmProjects/XGA/xga/sources/base.py:1039: UserWarning: A previous annular spectra profile fit for SDSSXCS-35 was not successful, or no matching spectrum has been loaded, so it cannot be read in\n",
      "  warnings.warn(\"A previous annular spectra profile fit for {src} was not successful, or no \"\n",
      "Setting up Galaxy Clusters:  75%|████████████████████████████████           | 112/150 [10:47<05:55,  9.35s/it]/mnt/pact/dt237/code/PycharmProjects/XGA/xga/sources/general.py:124: UserWarning: SDSSXCS-4003 has not been detected in all region files, so generating and fitting products with the 'region' reg_type will not use all available data\n",
      "  warnings.warn(\"{n} has not been detected in all region files, so generating and fitting products\"\n",
      "Setting up Galaxy Clusters:  78%|█████████████████████████████████▌         | 117/150 [11:05<02:40,  4.85s/it]/mnt/pact/dt237/code/PycharmProjects/XGA/xga/sources/base.py:870: UserWarning: SDSSXCS-55 spectrum /mnt/lustre/projects/astro/general/dt237/mass_papers/XCS-Mass-Paper-I-Analysis/notebooks/xga_output/0149880101/0149880101_pn_SDSSXCS-55_ra227.55039_dec33.516138_ri0.08579161500459656_ro0.09183327803308927_grpTrue_mincnt5_ident85228453_14_spec.fits cannot be loaded in due to a mismatch in available ancillary files\n",
      "  warnings.warn(\"{src} spectrum {sp} cannot be loaded in due to a mismatch in available\"\n",
      "Setting up Galaxy Clusters:  79%|█████████████████████████████████▊         | 118/150 [11:11<02:37,  4.92s/it]/mnt/pact/dt237/code/PycharmProjects/XGA/xga/sources/extended.py:221: UserWarning: A point source has been detected in 0760230301 and is very close to the user supplied coordinates of SDSSXCS-137. It will not be excluded from analysis due to the possibility of a mis-identified cool core\n",
      "  warnings.warn(\"A point source has been detected in {o} and is very close to the user supplied \"\n",
      "Setting up Galaxy Clusters:  79%|██████████████████████████████████         | 119/150 [11:18<02:53,  5.60s/it]/mnt/pact/dt237/code/PycharmProjects/XGA/xga/sources/base.py:870: UserWarning: SDSSXCS-123 spectrum /mnt/lustre/projects/astro/general/dt237/mass_papers/XCS-Mass-Paper-I-Analysis/notebooks/xga_output/0103860601/0103860601_mos1_SDSSXCS-123_ra229.07719_dec0.092336076_ri0.08699997425133257_ro0.09908330400846209_grpTrue_mincnt5_ident27274588_14_spec.fits cannot be loaded in due to a mismatch in available ancillary files\n",
      "  warnings.warn(\"{src} spectrum {sp} cannot be loaded in due to a mismatch in available\"\n",
      "/mnt/pact/dt237/code/PycharmProjects/XGA/xga/sources/base.py:870: UserWarning: SDSSXCS-123 spectrum /mnt/lustre/projects/astro/general/dt237/mass_papers/XCS-Mass-Paper-I-Analysis/notebooks/xga_output/0103860601/0103860601_mos1_SDSSXCS-123_ra229.07719_dec0.092336076_ri0.08699997425133257_ro0.09908330400846209_grpTrue_mincnt5_ident27274588_14_spec.fits cannot be loaded in due to a mismatch in available ancillary files\n",
      "  warnings.warn(\"{src} spectrum {sp} cannot be loaded in due to a mismatch in available\"\n"
     ]
    },
    {
     "name": "stderr",
     "output_type": "stream",
     "text": [
      "Setting up Galaxy Clusters:  80%|██████████████████████████████████▍        | 120/150 [11:25<02:58,  5.96s/it]/mnt/pact/dt237/code/PycharmProjects/XGA/xga/sources/general.py:124: UserWarning: SDSSXCS-382 has not been detected in all region files, so generating and fitting products with the 'region' reg_type will not use all available data\n",
      "  warnings.warn(\"{n} has not been detected in all region files, so generating and fitting products\"\n",
      "Setting up Galaxy Clusters:  81%|██████████████████████████████████▉        | 122/150 [11:32<02:07,  4.56s/it]/mnt/pact/dt237/code/PycharmProjects/XGA/xga/sources/base.py:1039: UserWarning: A previous annular spectra profile fit for SDSSXCS-5624 was not successful, or no matching spectrum has been loaded, so it cannot be read in\n",
      "  warnings.warn(\"A previous annular spectra profile fit for {src} was not successful, or no \"\n",
      "Setting up Galaxy Clusters:  83%|███████████████████████████████████▊       | 125/150 [11:38<01:13,  2.95s/it]/mnt/pact/dt237/code/PycharmProjects/XGA/xga/sources/general.py:124: UserWarning: SDSSXCS-575 has not been detected in all region files, so generating and fitting products with the 'region' reg_type will not use all available data\n",
      "  warnings.warn(\"{n} has not been detected in all region files, so generating and fitting products\"\n",
      "Setting up Galaxy Clusters:  84%|████████████████████████████████████       | 126/150 [11:41<01:14,  3.09s/it]/mnt/pact/dt237/code/PycharmProjects/XGA/xga/sources/general.py:124: UserWarning: SDSSXCS-2 has not been detected in all region files, so generating and fitting products with the 'region' reg_type will not use all available data\n",
      "  warnings.warn(\"{n} has not been detected in all region files, so generating and fitting products\"\n",
      "Setting up Galaxy Clusters:  85%|████████████████████████████████████▍      | 127/150 [11:47<01:28,  3.84s/it]/mnt/pact/dt237/code/PycharmProjects/XGA/xga/sources/general.py:124: UserWarning: SDSSXCS-30950 has not been detected in all region files, so generating and fitting products with the 'region' reg_type will not use all available data\n",
      "  warnings.warn(\"{n} has not been detected in all region files, so generating and fitting products\"\n",
      "Setting up Galaxy Clusters:  87%|█████████████████████████████████████▎     | 130/150 [12:05<01:48,  5.41s/it]/mnt/pact/dt237/code/PycharmProjects/XGA/xga/sources/general.py:124: UserWarning: SDSSXCS-1137 has not been detected in all region files, so generating and fitting products with the 'region' reg_type will not use all available data\n",
      "  warnings.warn(\"{n} has not been detected in all region files, so generating and fitting products\"\n",
      "Setting up Galaxy Clusters:  87%|█████████████████████████████████████▌     | 131/150 [12:10<01:42,  5.41s/it]/mnt/pact/dt237/code/PycharmProjects/XGA/xga/sources/general.py:124: UserWarning: SDSSXCS-487 has not been detected in all region files, so generating and fitting products with the 'region' reg_type will not use all available data\n",
      "  warnings.warn(\"{n} has not been detected in all region files, so generating and fitting products\"\n",
      "Setting up Galaxy Clusters:  89%|██████████████████████████████████████▍    | 134/150 [12:19<00:56,  3.55s/it]/mnt/pact/dt237/code/PycharmProjects/XGA/xga/sources/general.py:124: UserWarning: SDSSXCS-10223 has not been detected in all region files, so generating and fitting products with the 'region' reg_type will not use all available data\n",
      "  warnings.warn(\"{n} has not been detected in all region files, so generating and fitting products\"\n",
      "Setting up Galaxy Clusters:  91%|██████████████████████████████████████▉    | 136/150 [12:29<00:57,  4.10s/it]/mnt/pact/dt237/code/PycharmProjects/XGA/xga/sources/general.py:124: UserWarning: SDSSXCS-110 has not been detected in all region files, so generating and fitting products with the 'region' reg_type will not use all available data\n",
      "  warnings.warn(\"{n} has not been detected in all region files, so generating and fitting products\"\n",
      "Setting up Galaxy Clusters: 100%|███████████████████████████████████████████| 150/150 [13:13<00:00,  5.29s/it]\n"
     ]
    }
   ],
   "source": [
    "# Reading out the relevant values into arrays just for ease of passing into the ClusterSample object\n",
    "ra = xcs3p['xapa_ra'].values\n",
    "dec = xcs3p['xapa_dec'].values\n",
    "z = xcs3p['z'].values\n",
    "# Not using the IAU names in XCS_NAME column, its easier for me to use the name based on redMaPPer ID\n",
    "n = xcs3p['name'].values\n",
    "# In kpc\n",
    "r500 = Quantity(xcs3p['r500'].values, 'kpc')\n",
    "# Not likely to use richness in this notebook, but I'm putting it in the sample object anyway\n",
    "r = xcs3p['richness'].values\n",
    "r_err = xcs3p['richness_err'].values\n",
    "\n",
    "# Declaring the actual ClusterSample instance for the XCS sample\n",
    "xcs_srcs = ClusterSample(ra, dec, z, n, r500=r500, richness=r, richness_err=r_err, cosmology=xcs_cosmo, \n",
    "                         load_fits=True, use_peak=False, clean_obs=True, clean_obs_reg='r500', \n",
    "                         clean_obs_threshold=0.7)"
   ]
  },
  {
   "cell_type": "code",
   "execution_count": 95,
   "id": "bc62f1bc",
   "metadata": {},
   "outputs": [
    {
     "data": {
      "text/plain": [
       "{'SDSSXCS-124': 12,\n",
       " 'SDSSXCS-2789': 17,\n",
       " 'SDSSXCS-290': 4,\n",
       " 'SDSSXCS-1018': 6,\n",
       " 'SDSSXCS-134': 10,\n",
       " 'SDSSXCS-119': 4,\n",
       " 'SDSSXCS-209': 9,\n",
       " 'SDSSXCS-15': 7,\n",
       " 'SDSSXCS-71': 14,\n",
       " 'SDSSXCS-5020': 4,\n",
       " 'SDSSXCS-2346': 2,\n",
       " 'SDSSXCS-586': 4,\n",
       " 'SDSSXCS-11331': 6,\n",
       " 'SDSSXCS-28849': 4,\n",
       " 'SDSSXCS-31144': 4,\n",
       " 'SDSSXCS-239': 8,\n",
       " 'SDSSXCS-395': 9,\n",
       " 'SDSSXCS-944': 8,\n",
       " 'SDSSXCS-593': 8,\n",
       " 'SDSSXCS-35404': 4,\n",
       " 'SDSSXCS-7190': 4,\n",
       " 'SDSSXCS-7783': 8,\n",
       " 'SDSSXCS-5743': 4,\n",
       " 'SDSSXCS-1131': 4,\n",
       " 'SDSSXCS-29799': 4,\n",
       " 'SDSSXCS-852': 12,\n",
       " 'SDSSXCS-5830': 4,\n",
       " 'SDSSXCS-5977': 4,\n",
       " 'SDSSXCS-16227': 4,\n",
       " 'SDSSXCS-2984': 4,\n",
       " 'SDSSXCS-6955': 4,\n",
       " 'SDSSXCS-64824': 4,\n",
       " 'SDSSXCS-8366': 4,\n",
       " 'SDSSXCS-120': 12,\n",
       " 'SDSSXCS-572': 9,\n",
       " 'SDSSXCS-226': 9,\n",
       " 'SDSSXCS-22': 15,\n",
       " 'SDSSXCS-103': 12,\n",
       " 'SDSSXCS-212': 4,\n",
       " 'SDSSXCS-19922': 4,\n",
       " 'SDSSXCS-890': 4,\n",
       " 'SDSSXCS-31': 13,\n",
       " 'SDSSXCS-325': 4,\n",
       " 'SDSSXCS-26424': 4,\n",
       " 'SDSSXCS-5159': 12,\n",
       " 'SDSSXCS-9803': 5,\n",
       " 'SDSSXCS-1884': 4,\n",
       " 'SDSSXCS-5': 14,\n",
       " 'SDSSXCS-13': 10,\n",
       " 'SDSSXCS-5225': 5,\n",
       " 'SDSSXCS-21': 10,\n",
       " 'SDSSXCS-23': 4,\n",
       " 'SDSSXCS-617': 4,\n",
       " 'SDSSXCS-6245': 4,\n",
       " 'SDSSXCS-21847': 4,\n",
       " 'SDSSXCS-22748': 4,\n",
       " 'SDSSXCS-9': 4,\n",
       " 'SDSSXCS-8060': 16,\n",
       " 'SDSSXCS-15984': 11,\n",
       " 'SDSSXCS-75': 4,\n",
       " 'SDSSXCS-667': 10,\n",
       " 'SDSSXCS-9258': 4,\n",
       " 'SDSSXCS-1628': 15,\n",
       " 'SDSSXCS-7405': 5,\n",
       " 'SDSSXCS-47': 4,\n",
       " 'SDSSXCS-7416': 4,\n",
       " 'SDSSXCS-2588': 4,\n",
       " 'SDSSXCS-298': 15,\n",
       " 'SDSSXCS-10897': 4,\n",
       " 'SDSSXCS-3746': 11,\n",
       " 'SDSSXCS-189': 4,\n",
       " 'SDSSXCS-4245': 4,\n",
       " 'SDSSXCS-408': 23,\n",
       " 'SDSSXCS-10401': 4,\n",
       " 'SDSSXCS-58896': 4,\n",
       " 'SDSSXCS-474': 4,\n",
       " 'SDSSXCS-7247': 4,\n",
       " 'SDSSXCS-19467': 4,\n",
       " 'SDSSXCS-455': 5,\n",
       " 'SDSSXCS-1174': 4,\n",
       " 'SDSSXCS-608': 4,\n",
       " 'SDSSXCS-1645': 7,\n",
       " 'SDSSXCS-225': 10,\n",
       " 'SDSSXCS-9313': 6,\n",
       " 'SDSSXCS-286': 5,\n",
       " 'SDSSXCS-2347': 4,\n",
       " 'SDSSXCS-28269': 4,\n",
       " 'SDSSXCS-241': 4,\n",
       " 'SDSSXCS-893': 4,\n",
       " 'SDSSXCS-7432': 4,\n",
       " 'SDSSXCS-11613': 4,\n",
       " 'SDSSXCS-3': 17,\n",
       " 'SDSSXCS-5939': 4,\n",
       " 'SDSSXCS-11881': 4,\n",
       " 'SDSSXCS-11394': 4,\n",
       " 'SDSSXCS-907': 7,\n",
       " 'SDSSXCS-14715': 4,\n",
       " 'SDSSXCS-309': 4,\n",
       " 'SDSSXCS-457': 10,\n",
       " 'SDSSXCS-35': 11,\n",
       " 'SDSSXCS-6': 11,\n",
       " 'SDSSXCS-176': 4,\n",
       " 'SDSSXCS-3672': 4,\n",
       " 'SDSSXCS-43': 13,\n",
       " 'SDSSXCS-32': 4,\n",
       " 'SDSSXCS-16286': 4,\n",
       " 'SDSSXCS-5527': 12,\n",
       " 'SDSSXCS-4313': 7,\n",
       " 'SDSSXCS-574': 10,\n",
       " 'SDSSXCS-65': 17,\n",
       " 'SDSSXCS-165': 4,\n",
       " 'SDSSXCS-4003': 10,\n",
       " 'SDSSXCS-2836': 11,\n",
       " 'SDSSXCS-210': 4,\n",
       " 'SDSSXCS-2288': 8,\n",
       " 'SDSSXCS-78': 17,\n",
       " 'SDSSXCS-55': 22,\n",
       " 'SDSSXCS-137': 19,\n",
       " 'SDSSXCS-123': 17,\n",
       " 'SDSSXCS-382': 9,\n",
       " 'SDSSXCS-2282': 4,\n",
       " 'SDSSXCS-5624': 4,\n",
       " 'SDSSXCS-19': 11,\n",
       " 'SDSSXCS-3312': 4,\n",
       " 'SDSSXCS-575': 4,\n",
       " 'SDSSXCS-2': 13,\n",
       " 'SDSSXCS-30950': 4,\n",
       " 'SDSSXCS-480': 18,\n",
       " 'SDSSXCS-14': 13,\n",
       " 'SDSSXCS-1137': 11,\n",
       " 'SDSSXCS-487': 4,\n",
       " 'SDSSXCS-155': 10,\n",
       " 'SDSSXCS-2032': 5,\n",
       " 'SDSSXCS-10223': 4,\n",
       " 'SDSSXCS-29': 12,\n",
       " 'SDSSXCS-110': 26,\n",
       " 'SDSSXCS-913': 4,\n",
       " 'SDSSXCS-62': 4,\n",
       " 'SDSSXCS-236': 11,\n",
       " 'SDSSXCS-765': 4,\n",
       " 'SDSSXCS-51': 5,\n",
       " 'SDSSXCS-41': 11,\n",
       " 'SDSSXCS-34': 4,\n",
       " 'SDSSXCS-11154': 11,\n",
       " 'SDSSXCS-2092': 4,\n",
       " 'SDSSXCS-17923': 4,\n",
       " 'SDSSXCS-68': 7,\n",
       " 'SDSSXCS-147': 9,\n",
       " 'SDSSXCS-314': 7}"
      ]
     },
     "execution_count": 95,
     "metadata": {},
     "output_type": "execute_result"
    }
   ],
   "source": [
    "nums = {}\n",
    "for src in xcs_srcs:\n",
    "    try:\n",
    "        annspec = src.get_annular_spectra()\n",
    "        nums[src.name] = annspec.num_annuli\n",
    "    except NoProductAvailableError:\n",
    "        pass\n",
    "nums"
   ]
  },
  {
   "cell_type": "code",
   "execution_count": 4,
   "id": "3b8a7e5c",
   "metadata": {},
   "outputs": [],
   "source": [
    "# This cluster is causing some problems for an unknown reason, but will be restored later when I've figured out why\n",
    "# del xcs_srcs['SDSSXCS-408']"
   ]
  },
  {
   "cell_type": "markdown",
   "id": "0eb9463e",
   "metadata": {},
   "source": [
    "## Hydrostatic Mass Measurement"
   ]
  },
  {
   "cell_type": "markdown",
   "id": "f637b10d",
   "metadata": {},
   "source": [
    "Here we measure hydrostatic mass profiles for clusters in the SDSSRM-XCS sample, using $S_{B}$ profiles to calculate density profiles and combining them with temperature profiles to measure hydrostatic mass. "
   ]
  },
  {
   "cell_type": "markdown",
   "id": "e8f5c6c5",
   "metadata": {},
   "source": [
    "We fit double beta models to the PSF-corrected $S_B$ profiles, from which we infer density profiles and fit simplified Vikhlinin density models to them. Temperature profiles are measured from annular spectra, deprojected, and then fitted with simplified Vikhlinin temperature models.\n",
    "\n",
    "In this instance we choose to generate profiles out to the $R_{500}$ value measured by Giles et al. 2022. Each annulus is required to have a total of 1500 counts in each annulus when the annulus is applied to the combined observations."
   ]
  },
  {
   "cell_type": "code",
   "execution_count": null,
   "id": "c8cd2b6c",
   "metadata": {
    "scrolled": true
   },
   "outputs": [
    {
     "name": "stderr",
     "output_type": "stream",
     "text": [
      "Running XSPEC Fits: 100%|███████████████████████████████████████████████████████| 1/1 [00:19<00:00, 19.95s/it]\n",
      "/mnt/pact/dt237/code/PycharmProjects/XGA/xga/sourcetools/mass.py:51: UserWarning: The global temperature fit for SDSSXCS-6307 has failed, and as such we're very unlikely to be able to measure a mass and we're not even going to try.\n",
      "  warn(\"The global temperature fit for {} has failed, and as such we're very unlikely to be able to measure \"\n",
      "/mnt/pact/dt237/code/PycharmProjects/XGA/xga/sourcetools/temperature.py:291: UserWarning: The requested annuli for SDSSXCS-290 cannot be created, the data quality is too low. As such a set of four annuli will be returned\n",
      "  warn(\"The requested annuli for {s} cannot be created, the data quality is too low. As such a set \"\n",
      "/mnt/pact/dt237/code/PycharmProjects/XGA/xga/sourcetools/temperature.py:291: UserWarning: The requested annuli for SDSSXCS-119 cannot be created, the data quality is too low. As such a set of four annuli will be returned\n",
      "  warn(\"The requested annuli for {s} cannot be created, the data quality is too low. As such a set \"\n",
      "/mnt/pact/dt237/code/PycharmProjects/XGA/xga/sourcetools/temperature.py:291: UserWarning: The requested annuli for SDSSXCS-5020 cannot be created, the data quality is too low. As such a set of four annuli will be returned\n",
      "  warn(\"The requested annuli for {s} cannot be created, the data quality is too low. As such a set \"\n",
      "/mnt/pact/dt237/code/PycharmProjects/XGA/xga/sourcetools/temperature.py:251: UserWarning: The min_width combined with the outer radius of the source means that there are only 2 initial annuli, normally four is the minimum number I will allow, so I will do no re-binning.\n",
      "  warn(\"The min_width combined with the outer radius of the source means that there are only {} initial\"\n",
      "/mnt/pact/dt237/code/PycharmProjects/XGA/xga/sourcetools/temperature.py:291: UserWarning: The requested annuli for SDSSXCS-586 cannot be created, the data quality is too low. As such a set of four annuli will be returned\n",
      "  warn(\"The requested annuli for {s} cannot be created, the data quality is too low. As such a set \"\n",
      "/mnt/pact/dt237/code/PycharmProjects/XGA/xga/sourcetools/temperature.py:291: UserWarning: The requested annuli for SDSSXCS-28849 cannot be created, the data quality is too low. As such a set of four annuli will be returned\n",
      "  warn(\"The requested annuli for {s} cannot be created, the data quality is too low. As such a set \"\n",
      "/mnt/pact/dt237/code/PycharmProjects/XGA/xga/sourcetools/temperature.py:291: UserWarning: The requested annuli for SDSSXCS-31144 cannot be created, the data quality is too low. As such a set of four annuli will be returned\n",
      "  warn(\"The requested annuli for {s} cannot be created, the data quality is too low. As such a set \"\n",
      "/mnt/pact/dt237/code/PycharmProjects/XGA/xga/sourcetools/temperature.py:291: UserWarning: The requested annuli for SDSSXCS-35404 cannot be created, the data quality is too low. As such a set of four annuli will be returned\n",
      "  warn(\"The requested annuli for {s} cannot be created, the data quality is too low. As such a set \"\n",
      "/mnt/pact/dt237/code/PycharmProjects/XGA/xga/sourcetools/temperature.py:251: UserWarning: The min_width combined with the outer radius of the source means that there are only 4 initial annuli, normally four is the minimum number I will allow, so I will do no re-binning.\n",
      "  warn(\"The min_width combined with the outer radius of the source means that there are only {} initial\"\n",
      "/mnt/pact/dt237/code/PycharmProjects/XGA/xga/sourcetools/temperature.py:291: UserWarning: The requested annuli for SDSSXCS-5743 cannot be created, the data quality is too low. As such a set of four annuli will be returned\n",
      "  warn(\"The requested annuli for {s} cannot be created, the data quality is too low. As such a set \"\n",
      "/mnt/pact/dt237/code/PycharmProjects/XGA/xga/sourcetools/temperature.py:291: UserWarning: The requested annuli for SDSSXCS-1131 cannot be created, the data quality is too low. As such a set of four annuli will be returned\n",
      "  warn(\"The requested annuli for {s} cannot be created, the data quality is too low. As such a set \"\n",
      "/mnt/pact/dt237/code/PycharmProjects/XGA/xga/sourcetools/temperature.py:251: UserWarning: The min_width combined with the outer radius of the source means that there are only 4 initial annuli, normally four is the minimum number I will allow, so I will do no re-binning.\n",
      "  warn(\"The min_width combined with the outer radius of the source means that there are only {} initial\"\n",
      "/mnt/pact/dt237/code/PycharmProjects/XGA/xga/sourcetools/temperature.py:291: UserWarning: The requested annuli for SDSSXCS-5830 cannot be created, the data quality is too low. As such a set of four annuli will be returned\n",
      "  warn(\"The requested annuli for {s} cannot be created, the data quality is too low. As such a set \"\n",
      "/mnt/pact/dt237/code/PycharmProjects/XGA/xga/sourcetools/temperature.py:291: UserWarning: The requested annuli for SDSSXCS-5977 cannot be created, the data quality is too low. As such a set of four annuli will be returned\n",
      "  warn(\"The requested annuli for {s} cannot be created, the data quality is too low. As such a set \"\n",
      "/mnt/pact/dt237/code/PycharmProjects/XGA/xga/sourcetools/temperature.py:291: UserWarning: The requested annuli for SDSSXCS-16227 cannot be created, the data quality is too low. As such a set of four annuli will be returned\n",
      "  warn(\"The requested annuli for {s} cannot be created, the data quality is too low. As such a set \"\n",
      "/mnt/pact/dt237/code/PycharmProjects/XGA/xga/sourcetools/temperature.py:291: UserWarning: The requested annuli for SDSSXCS-2984 cannot be created, the data quality is too low. As such a set of four annuli will be returned\n",
      "  warn(\"The requested annuli for {s} cannot be created, the data quality is too low. As such a set \"\n",
      "/mnt/pact/dt237/code/PycharmProjects/XGA/xga/sourcetools/temperature.py:291: UserWarning: The requested annuli for SDSSXCS-6955 cannot be created, the data quality is too low. As such a set of four annuli will be returned\n",
      "  warn(\"The requested annuli for {s} cannot be created, the data quality is too low. As such a set \"\n",
      "/mnt/pact/dt237/code/PycharmProjects/XGA/xga/sourcetools/temperature.py:291: UserWarning: The requested annuli for SDSSXCS-64824 cannot be created, the data quality is too low. As such a set of four annuli will be returned\n",
      "  warn(\"The requested annuli for {s} cannot be created, the data quality is too low. As such a set \"\n",
      "/mnt/pact/dt237/code/PycharmProjects/XGA/xga/sourcetools/temperature.py:291: UserWarning: The requested annuli for SDSSXCS-8366 cannot be created, the data quality is too low. As such a set of four annuli will be returned\n",
      "  warn(\"The requested annuli for {s} cannot be created, the data quality is too low. As such a set \"\n",
      "/mnt/pact/dt237/code/PycharmProjects/XGA/xga/sourcetools/temperature.py:291: UserWarning: The requested annuli for SDSSXCS-212 cannot be created, the data quality is too low. As such a set of four annuli will be returned\n",
      "  warn(\"The requested annuli for {s} cannot be created, the data quality is too low. As such a set \"\n",
      "/mnt/pact/dt237/code/PycharmProjects/XGA/xga/sourcetools/temperature.py:291: UserWarning: The requested annuli for SDSSXCS-19922 cannot be created, the data quality is too low. As such a set of four annuli will be returned\n",
      "  warn(\"The requested annuli for {s} cannot be created, the data quality is too low. As such a set \"\n",
      "/mnt/pact/dt237/code/PycharmProjects/XGA/xga/sourcetools/temperature.py:291: UserWarning: The requested annuli for SDSSXCS-890 cannot be created, the data quality is too low. As such a set of four annuli will be returned\n",
      "  warn(\"The requested annuli for {s} cannot be created, the data quality is too low. As such a set \"\n",
      "/mnt/pact/dt237/code/PycharmProjects/XGA/xga/sourcetools/temperature.py:291: UserWarning: The requested annuli for SDSSXCS-325 cannot be created, the data quality is too low. As such a set of four annuli will be returned\n",
      "  warn(\"The requested annuli for {s} cannot be created, the data quality is too low. As such a set \"\n",
      "/mnt/pact/dt237/code/PycharmProjects/XGA/xga/sourcetools/temperature.py:291: UserWarning: The requested annuli for SDSSXCS-26424 cannot be created, the data quality is too low. As such a set of four annuli will be returned\n",
      "  warn(\"The requested annuli for {s} cannot be created, the data quality is too low. As such a set \"\n"
     ]
    },
    {
     "name": "stderr",
     "output_type": "stream",
     "text": [
      "/mnt/pact/dt237/code/PycharmProjects/XGA/xga/sourcetools/temperature.py:291: UserWarning: The requested annuli for SDSSXCS-1884 cannot be created, the data quality is too low. As such a set of four annuli will be returned\n",
      "  warn(\"The requested annuli for {s} cannot be created, the data quality is too low. As such a set \"\n",
      "/mnt/pact/dt237/code/PycharmProjects/XGA/xga/sourcetools/temperature.py:291: UserWarning: The requested annuli for SDSSXCS-23 cannot be created, the data quality is too low. As such a set of four annuli will be returned\n",
      "  warn(\"The requested annuli for {s} cannot be created, the data quality is too low. As such a set \"\n",
      "/mnt/pact/dt237/code/PycharmProjects/XGA/xga/sourcetools/temperature.py:291: UserWarning: The requested annuli for SDSSXCS-617 cannot be created, the data quality is too low. As such a set of four annuli will be returned\n",
      "  warn(\"The requested annuli for {s} cannot be created, the data quality is too low. As such a set \"\n",
      "/mnt/pact/dt237/code/PycharmProjects/XGA/xga/sourcetools/temperature.py:291: UserWarning: The requested annuli for SDSSXCS-6245 cannot be created, the data quality is too low. As such a set of four annuli will be returned\n",
      "  warn(\"The requested annuli for {s} cannot be created, the data quality is too low. As such a set \"\n",
      "/mnt/pact/dt237/code/PycharmProjects/XGA/xga/sourcetools/temperature.py:291: UserWarning: The requested annuli for SDSSXCS-21847 cannot be created, the data quality is too low. As such a set of four annuli will be returned\n",
      "  warn(\"The requested annuli for {s} cannot be created, the data quality is too low. As such a set \"\n",
      "/mnt/pact/dt237/code/PycharmProjects/XGA/xga/sourcetools/temperature.py:291: UserWarning: The requested annuli for SDSSXCS-22748 cannot be created, the data quality is too low. As such a set of four annuli will be returned\n",
      "  warn(\"The requested annuli for {s} cannot be created, the data quality is too low. As such a set \"\n",
      "/mnt/pact/dt237/code/PycharmProjects/XGA/xga/sourcetools/temperature.py:291: UserWarning: The requested annuli for SDSSXCS-9 cannot be created, the data quality is too low. As such a set of four annuli will be returned\n",
      "  warn(\"The requested annuli for {s} cannot be created, the data quality is too low. As such a set \"\n",
      "/mnt/pact/dt237/code/PycharmProjects/XGA/xga/sourcetools/temperature.py:291: UserWarning: The requested annuli for SDSSXCS-75 cannot be created, the data quality is too low. As such a set of four annuli will be returned\n",
      "  warn(\"The requested annuli for {s} cannot be created, the data quality is too low. As such a set \"\n",
      "/mnt/pact/dt237/code/PycharmProjects/XGA/xga/sourcetools/temperature.py:291: UserWarning: The requested annuli for SDSSXCS-9258 cannot be created, the data quality is too low. As such a set of four annuli will be returned\n",
      "  warn(\"The requested annuli for {s} cannot be created, the data quality is too low. As such a set \"\n",
      "/mnt/pact/dt237/code/PycharmProjects/XGA/xga/sourcetools/temperature.py:291: UserWarning: The requested annuli for SDSSXCS-47 cannot be created, the data quality is too low. As such a set of four annuli will be returned\n",
      "  warn(\"The requested annuli for {s} cannot be created, the data quality is too low. As such a set \"\n",
      "/mnt/pact/dt237/code/PycharmProjects/XGA/xga/sourcetools/temperature.py:291: UserWarning: The requested annuli for SDSSXCS-7416 cannot be created, the data quality is too low. As such a set of four annuli will be returned\n",
      "  warn(\"The requested annuli for {s} cannot be created, the data quality is too low. As such a set \"\n",
      "/mnt/pact/dt237/code/PycharmProjects/XGA/xga/sourcetools/temperature.py:291: UserWarning: The requested annuli for SDSSXCS-2588 cannot be created, the data quality is too low. As such a set of four annuli will be returned\n",
      "  warn(\"The requested annuli for {s} cannot be created, the data quality is too low. As such a set \"\n",
      "/mnt/pact/dt237/code/PycharmProjects/XGA/xga/sourcetools/temperature.py:291: UserWarning: The requested annuli for SDSSXCS-10897 cannot be created, the data quality is too low. As such a set of four annuli will be returned\n",
      "  warn(\"The requested annuli for {s} cannot be created, the data quality is too low. As such a set \"\n",
      "/mnt/pact/dt237/code/PycharmProjects/XGA/xga/sourcetools/temperature.py:291: UserWarning: The requested annuli for SDSSXCS-189 cannot be created, the data quality is too low. As such a set of four annuli will be returned\n",
      "  warn(\"The requested annuli for {s} cannot be created, the data quality is too low. As such a set \"\n",
      "/mnt/pact/dt237/code/PycharmProjects/XGA/xga/sourcetools/temperature.py:291: UserWarning: The requested annuli for SDSSXCS-4245 cannot be created, the data quality is too low. As such a set of four annuli will be returned\n",
      "  warn(\"The requested annuli for {s} cannot be created, the data quality is too low. As such a set \"\n",
      "/mnt/pact/dt237/code/PycharmProjects/XGA/xga/sourcetools/temperature.py:291: UserWarning: The requested annuli for SDSSXCS-10401 cannot be created, the data quality is too low. As such a set of four annuli will be returned\n",
      "  warn(\"The requested annuli for {s} cannot be created, the data quality is too low. As such a set \"\n",
      "/mnt/pact/dt237/code/PycharmProjects/XGA/xga/sourcetools/temperature.py:251: UserWarning: The min_width combined with the outer radius of the source means that there are only 4 initial annuli, normally four is the minimum number I will allow, so I will do no re-binning.\n",
      "  warn(\"The min_width combined with the outer radius of the source means that there are only {} initial\"\n",
      "/mnt/pact/dt237/code/PycharmProjects/XGA/xga/sourcetools/temperature.py:291: UserWarning: The requested annuli for SDSSXCS-474 cannot be created, the data quality is too low. As such a set of four annuli will be returned\n",
      "  warn(\"The requested annuli for {s} cannot be created, the data quality is too low. As such a set \"\n",
      "/mnt/pact/dt237/code/PycharmProjects/XGA/xga/sourcetools/temperature.py:291: UserWarning: The requested annuli for SDSSXCS-7247 cannot be created, the data quality is too low. As such a set of four annuli will be returned\n",
      "  warn(\"The requested annuli for {s} cannot be created, the data quality is too low. As such a set \"\n",
      "/mnt/pact/dt237/code/PycharmProjects/XGA/xga/sourcetools/temperature.py:291: UserWarning: The requested annuli for SDSSXCS-19467 cannot be created, the data quality is too low. As such a set of four annuli will be returned\n",
      "  warn(\"The requested annuli for {s} cannot be created, the data quality is too low. As such a set \"\n",
      "/mnt/pact/dt237/code/PycharmProjects/XGA/xga/sourcetools/temperature.py:291: UserWarning: The requested annuli for SDSSXCS-1174 cannot be created, the data quality is too low. As such a set of four annuli will be returned\n",
      "  warn(\"The requested annuli for {s} cannot be created, the data quality is too low. As such a set \"\n",
      "/mnt/pact/dt237/code/PycharmProjects/XGA/xga/sourcetools/temperature.py:291: UserWarning: The requested annuli for SDSSXCS-608 cannot be created, the data quality is too low. As such a set of four annuli will be returned\n",
      "  warn(\"The requested annuli for {s} cannot be created, the data quality is too low. As such a set \"\n",
      "/mnt/pact/dt237/code/PycharmProjects/XGA/xga/sourcetools/temperature.py:291: UserWarning: The requested annuli for SDSSXCS-2347 cannot be created, the data quality is too low. As such a set of four annuli will be returned\n",
      "  warn(\"The requested annuli for {s} cannot be created, the data quality is too low. As such a set \"\n",
      "/mnt/pact/dt237/code/PycharmProjects/XGA/xga/sourcetools/temperature.py:291: UserWarning: The requested annuli for SDSSXCS-28269 cannot be created, the data quality is too low. As such a set of four annuli will be returned\n",
      "  warn(\"The requested annuli for {s} cannot be created, the data quality is too low. As such a set \"\n",
      "/mnt/pact/dt237/code/PycharmProjects/XGA/xga/sourcetools/temperature.py:291: UserWarning: The requested annuli for SDSSXCS-241 cannot be created, the data quality is too low. As such a set of four annuli will be returned\n",
      "  warn(\"The requested annuli for {s} cannot be created, the data quality is too low. As such a set \"\n",
      "/mnt/pact/dt237/code/PycharmProjects/XGA/xga/sourcetools/temperature.py:291: UserWarning: The requested annuli for SDSSXCS-893 cannot be created, the data quality is too low. As such a set of four annuli will be returned\n",
      "  warn(\"The requested annuli for {s} cannot be created, the data quality is too low. As such a set \"\n"
     ]
    },
    {
     "name": "stderr",
     "output_type": "stream",
     "text": [
      "/mnt/pact/dt237/code/PycharmProjects/XGA/xga/sourcetools/temperature.py:291: UserWarning: The requested annuli for SDSSXCS-7432 cannot be created, the data quality is too low. As such a set of four annuli will be returned\n",
      "  warn(\"The requested annuli for {s} cannot be created, the data quality is too low. As such a set \"\n",
      "/mnt/pact/dt237/code/PycharmProjects/XGA/xga/sourcetools/temperature.py:291: UserWarning: The requested annuli for SDSSXCS-11613 cannot be created, the data quality is too low. As such a set of four annuli will be returned\n",
      "  warn(\"The requested annuli for {s} cannot be created, the data quality is too low. As such a set \"\n",
      "/mnt/pact/dt237/code/PycharmProjects/XGA/xga/sourcetools/temperature.py:291: UserWarning: The requested annuli for SDSSXCS-5939 cannot be created, the data quality is too low. As such a set of four annuli will be returned\n",
      "  warn(\"The requested annuli for {s} cannot be created, the data quality is too low. As such a set \"\n",
      "/mnt/pact/dt237/code/PycharmProjects/XGA/xga/sourcetools/temperature.py:291: UserWarning: The requested annuli for SDSSXCS-11881 cannot be created, the data quality is too low. As such a set of four annuli will be returned\n",
      "  warn(\"The requested annuli for {s} cannot be created, the data quality is too low. As such a set \"\n",
      "/mnt/pact/dt237/code/PycharmProjects/XGA/xga/sourcetools/temperature.py:291: UserWarning: The requested annuli for SDSSXCS-11394 cannot be created, the data quality is too low. As such a set of four annuli will be returned\n",
      "  warn(\"The requested annuli for {s} cannot be created, the data quality is too low. As such a set \"\n",
      "/mnt/pact/dt237/code/PycharmProjects/XGA/xga/sourcetools/temperature.py:291: UserWarning: The requested annuli for SDSSXCS-14715 cannot be created, the data quality is too low. As such a set of four annuli will be returned\n",
      "  warn(\"The requested annuli for {s} cannot be created, the data quality is too low. As such a set \"\n",
      "/mnt/pact/dt237/code/PycharmProjects/XGA/xga/sourcetools/temperature.py:291: UserWarning: The requested annuli for SDSSXCS-309 cannot be created, the data quality is too low. As such a set of four annuli will be returned\n",
      "  warn(\"The requested annuli for {s} cannot be created, the data quality is too low. As such a set \"\n",
      "/mnt/pact/dt237/code/PycharmProjects/XGA/xga/sourcetools/temperature.py:291: UserWarning: The requested annuli for SDSSXCS-176 cannot be created, the data quality is too low. As such a set of four annuli will be returned\n",
      "  warn(\"The requested annuli for {s} cannot be created, the data quality is too low. As such a set \"\n",
      "/mnt/pact/dt237/code/PycharmProjects/XGA/xga/sourcetools/temperature.py:291: UserWarning: The requested annuli for SDSSXCS-3672 cannot be created, the data quality is too low. As such a set of four annuli will be returned\n",
      "  warn(\"The requested annuli for {s} cannot be created, the data quality is too low. As such a set \"\n",
      "/mnt/pact/dt237/code/PycharmProjects/XGA/xga/sourcetools/temperature.py:291: UserWarning: The requested annuli for SDSSXCS-32 cannot be created, the data quality is too low. As such a set of four annuli will be returned\n",
      "  warn(\"The requested annuli for {s} cannot be created, the data quality is too low. As such a set \"\n",
      "/mnt/pact/dt237/code/PycharmProjects/XGA/xga/sourcetools/temperature.py:291: UserWarning: The requested annuli for SDSSXCS-16286 cannot be created, the data quality is too low. As such a set of four annuli will be returned\n",
      "  warn(\"The requested annuli for {s} cannot be created, the data quality is too low. As such a set \"\n",
      "/mnt/pact/dt237/code/PycharmProjects/XGA/xga/sourcetools/temperature.py:291: UserWarning: The requested annuli for SDSSXCS-165 cannot be created, the data quality is too low. As such a set of four annuli will be returned\n",
      "  warn(\"The requested annuli for {s} cannot be created, the data quality is too low. As such a set \"\n",
      "/mnt/pact/dt237/code/PycharmProjects/XGA/xga/sourcetools/temperature.py:291: UserWarning: The requested annuli for SDSSXCS-210 cannot be created, the data quality is too low. As such a set of four annuli will be returned\n",
      "  warn(\"The requested annuli for {s} cannot be created, the data quality is too low. As such a set \"\n",
      "/mnt/pact/dt237/code/PycharmProjects/XGA/xga/sourcetools/temperature.py:291: UserWarning: The requested annuli for SDSSXCS-2282 cannot be created, the data quality is too low. As such a set of four annuli will be returned\n",
      "  warn(\"The requested annuli for {s} cannot be created, the data quality is too low. As such a set \"\n",
      "/mnt/pact/dt237/code/PycharmProjects/XGA/xga/sourcetools/temperature.py:291: UserWarning: The requested annuli for SDSSXCS-5624 cannot be created, the data quality is too low. As such a set of four annuli will be returned\n",
      "  warn(\"The requested annuli for {s} cannot be created, the data quality is too low. As such a set \"\n",
      "/mnt/pact/dt237/code/PycharmProjects/XGA/xga/sourcetools/temperature.py:291: UserWarning: The requested annuli for SDSSXCS-3312 cannot be created, the data quality is too low. As such a set of four annuli will be returned\n",
      "  warn(\"The requested annuli for {s} cannot be created, the data quality is too low. As such a set \"\n",
      "/mnt/pact/dt237/code/PycharmProjects/XGA/xga/sourcetools/temperature.py:291: UserWarning: The requested annuli for SDSSXCS-575 cannot be created, the data quality is too low. As such a set of four annuli will be returned\n",
      "  warn(\"The requested annuli for {s} cannot be created, the data quality is too low. As such a set \"\n",
      "/mnt/pact/dt237/code/PycharmProjects/XGA/xga/sourcetools/temperature.py:291: UserWarning: The requested annuli for SDSSXCS-30950 cannot be created, the data quality is too low. As such a set of four annuli will be returned\n",
      "  warn(\"The requested annuli for {s} cannot be created, the data quality is too low. As such a set \"\n",
      "/mnt/pact/dt237/code/PycharmProjects/XGA/xga/sourcetools/temperature.py:291: UserWarning: The requested annuli for SDSSXCS-487 cannot be created, the data quality is too low. As such a set of four annuli will be returned\n",
      "  warn(\"The requested annuli for {s} cannot be created, the data quality is too low. As such a set \"\n",
      "/mnt/pact/dt237/code/PycharmProjects/XGA/xga/sourcetools/temperature.py:291: UserWarning: The requested annuli for SDSSXCS-10223 cannot be created, the data quality is too low. As such a set of four annuli will be returned\n",
      "  warn(\"The requested annuli for {s} cannot be created, the data quality is too low. As such a set \"\n",
      "/mnt/pact/dt237/code/PycharmProjects/XGA/xga/sourcetools/temperature.py:291: UserWarning: The requested annuli for SDSSXCS-913 cannot be created, the data quality is too low. As such a set of four annuli will be returned\n",
      "  warn(\"The requested annuli for {s} cannot be created, the data quality is too low. As such a set \"\n",
      "/mnt/pact/dt237/code/PycharmProjects/XGA/xga/sourcetools/temperature.py:291: UserWarning: The requested annuli for SDSSXCS-62 cannot be created, the data quality is too low. As such a set of four annuli will be returned\n",
      "  warn(\"The requested annuli for {s} cannot be created, the data quality is too low. As such a set \"\n",
      "/mnt/pact/dt237/code/PycharmProjects/XGA/xga/sourcetools/temperature.py:291: UserWarning: The requested annuli for SDSSXCS-765 cannot be created, the data quality is too low. As such a set of four annuli will be returned\n",
      "  warn(\"The requested annuli for {s} cannot be created, the data quality is too low. As such a set \"\n",
      "/mnt/pact/dt237/code/PycharmProjects/XGA/xga/sourcetools/temperature.py:291: UserWarning: The requested annuli for SDSSXCS-34 cannot be created, the data quality is too low. As such a set of four annuli will be returned\n",
      "  warn(\"The requested annuli for {s} cannot be created, the data quality is too low. As such a set \"\n",
      "/mnt/pact/dt237/code/PycharmProjects/XGA/xga/sourcetools/temperature.py:291: UserWarning: The requested annuli for SDSSXCS-2092 cannot be created, the data quality is too low. As such a set of four annuli will be returned\n",
      "  warn(\"The requested annuli for {s} cannot be created, the data quality is too low. As such a set \"\n",
      "/mnt/pact/dt237/code/PycharmProjects/XGA/xga/sourcetools/temperature.py:291: UserWarning: The requested annuli for SDSSXCS-17923 cannot be created, the data quality is too low. As such a set of four annuli will be returned\n",
      "  warn(\"The requested annuli for {s} cannot be created, the data quality is too low. As such a set \"\n"
     ]
    },
    {
     "name": "stderr",
     "output_type": "stream",
     "text": [
      "Running XSPEC Fits: 100%|███████████████████████████████████████████████▊| 1106/1109 [34:56<10:36, 212.07s/it]/mnt/pact/dt237/code/PycharmProjects/XGA/xga/xspec/run.py:59: UserWarning: An XSPEC fit for SDSSXCS-21847 has timed out\n",
      "  warnings.warn(\"An XSPEC fit for {} has timed out\".format(source_name))\n",
      "Running XSPEC Fits: 100%|█████████████████████████████████████████████▉| 1107/1109 [1:02:07<21:16, 638.02s/it]/mnt/pact/dt237/code/PycharmProjects/XGA/xga/xspec/run.py:59: UserWarning: An XSPEC fit for SDSSXCS-21847 has timed out\n",
      "  warnings.warn(\"An XSPEC fit for {} has timed out\".format(source_name))\n",
      "Running XSPEC Fits: 100%|█████████████████████████████████████████████▉| 1108/1109 [1:02:08<07:26, 446.85s/it]/mnt/pact/dt237/code/PycharmProjects/XGA/xga/xspec/run.py:59: UserWarning: An XSPEC fit for SDSSXCS-21847 has timed out\n",
      "  warnings.warn(\"An XSPEC fit for {} has timed out\".format(source_name))\n",
      "Running XSPEC Fits: 100%|███████████████████████████████████████████████| 1109/1109 [1:02:09<00:00,  3.36s/it]\n",
      "/mnt/pact/dt237/code/PycharmProjects/XGA/xga/xspec/run.py:326: UserWarning: SDSSXCS-2346 annular spectra profile fit was not successful\n",
      "  warnings.warn(\"{src} annular spectra profile fit was not successful\".format(src=ann_spec.src_name))\n",
      "/mnt/pact/dt237/code/PycharmProjects/XGA/xga/xspec/run.py:326: UserWarning: SDSSXCS-28849 annular spectra profile fit was not successful\n",
      "  warnings.warn(\"{src} annular spectra profile fit was not successful\".format(src=ann_spec.src_name))\n",
      "/mnt/pact/dt237/code/PycharmProjects/XGA/xga/xspec/run.py:326: UserWarning: SDSSXCS-5977 annular spectra profile fit was not successful\n",
      "  warnings.warn(\"{src} annular spectra profile fit was not successful\".format(src=ann_spec.src_name))\n",
      "/mnt/pact/dt237/code/PycharmProjects/XGA/xga/xspec/run.py:326: UserWarning: SDSSXCS-8366 annular spectra profile fit was not successful\n",
      "  warnings.warn(\"{src} annular spectra profile fit was not successful\".format(src=ann_spec.src_name))\n",
      "/mnt/pact/dt237/code/PycharmProjects/XGA/xga/xspec/run.py:326: UserWarning: SDSSXCS-26424 annular spectra profile fit was not successful\n",
      "  warnings.warn(\"{src} annular spectra profile fit was not successful\".format(src=ann_spec.src_name))\n",
      "/mnt/pact/dt237/code/PycharmProjects/XGA/xga/xspec/run.py:326: UserWarning: SDSSXCS-617 annular spectra profile fit was not successful\n",
      "  warnings.warn(\"{src} annular spectra profile fit was not successful\".format(src=ann_spec.src_name))\n",
      "/mnt/pact/dt237/code/PycharmProjects/XGA/xga/xspec/run.py:326: UserWarning: SDSSXCS-6245 annular spectra profile fit was not successful\n",
      "  warnings.warn(\"{src} annular spectra profile fit was not successful\".format(src=ann_spec.src_name))\n",
      "/mnt/pact/dt237/code/PycharmProjects/XGA/xga/xspec/run.py:326: UserWarning: SDSSXCS-10897 annular spectra profile fit was not successful\n",
      "  warnings.warn(\"{src} annular spectra profile fit was not successful\".format(src=ann_spec.src_name))\n",
      "/mnt/pact/dt237/code/PycharmProjects/XGA/xga/xspec/run.py:326: UserWarning: SDSSXCS-58896 annular spectra profile fit was not successful\n",
      "  warnings.warn(\"{src} annular spectra profile fit was not successful\".format(src=ann_spec.src_name))\n",
      "/mnt/pact/dt237/code/PycharmProjects/XGA/xga/xspec/run.py:326: UserWarning: SDSSXCS-7247 annular spectra profile fit was not successful\n",
      "  warnings.warn(\"{src} annular spectra profile fit was not successful\".format(src=ann_spec.src_name))\n",
      "/mnt/pact/dt237/code/PycharmProjects/XGA/xga/xspec/run.py:326: UserWarning: SDSSXCS-608 annular spectra profile fit was not successful\n",
      "  warnings.warn(\"{src} annular spectra profile fit was not successful\".format(src=ann_spec.src_name))\n",
      "/mnt/pact/dt237/code/PycharmProjects/XGA/xga/xspec/run.py:326: UserWarning: SDSSXCS-28269 annular spectra profile fit was not successful\n",
      "  warnings.warn(\"{src} annular spectra profile fit was not successful\".format(src=ann_spec.src_name))\n",
      "/mnt/pact/dt237/code/PycharmProjects/XGA/xga/xspec/run.py:326: UserWarning: SDSSXCS-14715 annular spectra profile fit was not successful\n",
      "  warnings.warn(\"{src} annular spectra profile fit was not successful\".format(src=ann_spec.src_name))\n",
      "/mnt/pact/dt237/code/PycharmProjects/XGA/xga/xspec/run.py:326: UserWarning: SDSSXCS-35 annular spectra profile fit was not successful\n",
      "  warnings.warn(\"{src} annular spectra profile fit was not successful\".format(src=ann_spec.src_name))\n",
      "/mnt/pact/dt237/code/PycharmProjects/XGA/xga/xspec/run.py:326: UserWarning: SDSSXCS-5624 annular spectra profile fit was not successful\n",
      "  warnings.warn(\"{src} annular spectra profile fit was not successful\".format(src=ann_spec.src_name))\n",
      "/mnt/pact/dt237/code/PycharmProjects/XGA/xga/sourcetools/temperature.py:716: UserWarning: {s} doesn't have a matching projected temperature profile, skipping.\n",
      "  warn(\"{s} doesn't have a matching projected temperature profile, skipping.\")\n",
      "/mnt/pact/dt237/code/PycharmProjects/XGA/xga/sourcetools/temperature.py:778: UserWarning: The projected temperature profile for SDSSXCS-3746 is not considered usable by XGA\n",
      "  warn(\"The projected temperature profile for {src} is not considered usable by XGA\".format(src=src.name))\n",
      "/mnt/pact/dt237/code/PycharmProjects/XGA/xga/xspec/run.py:186: UserWarning: All XSPEC operations had already been run.\n",
      "  warnings.warn(\"All XSPEC operations had already been run.\")\n",
      "Running XSPEC Simulations: 100%|████████████████████████████████████████████| 132/132 [00:23<00:00,  5.60it/s]\n",
      "Fitting data, inverse Abel transforming, and measuring densities:   1%|       | 1/132 [00:25<55:05, 25.23s/it]"
     ]
    },
    {
     "name": "stdout",
     "output_type": "stream",
     "text": [
      "The chain is shorter than 50 times the integrated autocorrelation time for 6 parameter(s). Use this estimate with caution and run a longer chain!\n",
      "N/50 = 400;\n",
      "tau: [ 746.76270404  901.02431188 1664.97523285 1486.3947845  1551.48875216\n",
      " 1635.78633931]\n",
      "The chain is shorter than 50 times the integrated autocorrelation time for 5 parameter(s). Use this estimate with caution and run a longer chain!\n",
      "N/50 = 400;\n",
      "tau: [785.15830836 305.30235483 655.47334201 752.39408518 784.42562666\n",
      " 604.7694877 ]\n"
     ]
    },
    {
     "name": "stderr",
     "output_type": "stream",
     "text": [
      "Fitting data, inverse Abel transforming, and measuring densities:   2%|▏      | 3/132 [01:17<54:41, 25.44s/it]"
     ]
    },
    {
     "name": "stdout",
     "output_type": "stream",
     "text": [
      "The chain is shorter than 50 times the integrated autocorrelation time for 2 parameter(s). Use this estimate with caution and run a longer chain!\n",
      "N/50 = 400;\n",
      "tau: [381.79073204 166.47412669 346.0413207  469.9570272  395.08849113\n",
      " 415.52631509]\n"
     ]
    },
    {
     "name": "stderr",
     "output_type": "stream",
     "text": [
      "\r",
      "Fitting data, inverse Abel transforming, and measuring densities:   3%|▏      | 4/132 [01:40<52:46, 24.74s/it]"
     ]
    },
    {
     "name": "stdout",
     "output_type": "stream",
     "text": [
      "The chain is shorter than 50 times the integrated autocorrelation time for 5 parameter(s). Use this estimate with caution and run a longer chain!\n",
      "N/50 = 400;\n",
      "tau: [ 754.56826041  379.10003669 1897.93376553 1840.9973883  1854.35380573\n",
      " 1680.44909933]\n"
     ]
    },
    {
     "name": "stderr",
     "output_type": "stream",
     "text": [
      "\r",
      "Fitting data, inverse Abel transforming, and measuring densities:   4%|▎      | 5/132 [02:04<51:41, 24.42s/it]"
     ]
    },
    {
     "name": "stdout",
     "output_type": "stream",
     "text": [
      "The chain is shorter than 50 times the integrated autocorrelation time for 5 parameter(s). Use this estimate with caution and run a longer chain!\n",
      "N/50 = 400;\n",
      "tau: [ 687.52179006  341.5318336  1517.66317001 1661.56156419 1647.28835653\n",
      " 1410.9501682 ]\n",
      "The chain is shorter than 50 times the integrated autocorrelation time for 4 parameter(s). Use this estimate with caution and run a longer chain!\n",
      "N/50 = 400;\n",
      "tau: [403.44515137 430.19150721 665.1727501  268.2646812  385.35188201\n",
      " 661.26018622]\n"
     ]
    },
    {
     "name": "stderr",
     "output_type": "stream",
     "text": [
      "/its/home/dt237/.conda/envs/dev_xga/lib/python3.8/site-packages/astropy/units/quantity.py:477: RuntimeWarning: invalid value encountered in sqrt\n",
      "  result = super().__array_ufunc__(function, method, *arrays, **kwargs)\n",
      "/mnt/pact/dt237/code/PycharmProjects/XGA/xga/sourcetools/density.py:531: UserWarning: One or more of the quantities passed to the init of SDSSXCS-119's density profile has a NaN or Inf value in it.\n",
      "  warn(\"One or more of the quantities passed to the init of {}'s density profile has a NaN or Inf value\"\n",
      "Fitting data, inverse Abel transforming, and measuring densities:   7%|▍      | 9/132 [03:46<52:40, 25.70s/it]"
     ]
    },
    {
     "name": "stdout",
     "output_type": "stream",
     "text": [
      "The chain is shorter than 50 times the integrated autocorrelation time for 5 parameter(s). Use this estimate with caution and run a longer chain!\n",
      "N/50 = 400;\n",
      "tau: [1199.78083653  246.90961521 1091.53101717  945.13882715 1133.25897374\n",
      " 1065.64753182]\n"
     ]
    },
    {
     "name": "stderr",
     "output_type": "stream",
     "text": [
      "Fitting data, inverse Abel transforming, and measuring densities:   9%|▌     | 12/132 [04:59<49:49, 24.91s/it]"
     ]
    },
    {
     "name": "stdout",
     "output_type": "stream",
     "text": [
      "The chain is shorter than 50 times the integrated autocorrelation time for 6 parameter(s). Use this estimate with caution and run a longer chain!\n",
      "N/50 = 400;\n",
      "tau: [ 683.86518857  514.06657184 1068.70259359  942.70757991 1033.63445457\n",
      " 1079.13772615]\n"
     ]
    },
    {
     "name": "stderr",
     "output_type": "stream",
     "text": [
      "/its/home/dt237/.conda/envs/dev_xga/lib/python3.8/site-packages/astropy/units/quantity.py:477: RuntimeWarning: invalid value encountered in sqrt\n",
      "  result = super().__array_ufunc__(function, method, *arrays, **kwargs)\n",
      "/mnt/pact/dt237/code/PycharmProjects/XGA/xga/sourcetools/density.py:531: UserWarning: One or more of the quantities passed to the init of SDSSXCS-31144's density profile has a NaN or Inf value in it.\n",
      "  warn(\"One or more of the quantities passed to the init of {}'s density profile has a NaN or Inf value\"\n",
      "\r",
      "Fitting data, inverse Abel transforming, and measuring densities:  10%|▌     | 13/132 [05:20<47:04, 23.74s/it]"
     ]
    },
    {
     "name": "stdout",
     "output_type": "stream",
     "text": [
      "The chain is shorter than 50 times the integrated autocorrelation time for 4 parameter(s). Use this estimate with caution and run a longer chain!\n",
      "N/50 = 400;\n",
      "tau: [326.63677243 655.91401518 665.14638405 332.11860057 497.2269192\n",
      " 630.19158196]\n"
     ]
    },
    {
     "name": "stderr",
     "output_type": "stream",
     "text": [
      "\r",
      "Fitting data, inverse Abel transforming, and measuring densities:  11%|▋     | 14/132 [05:45<47:29, 24.15s/it]"
     ]
    },
    {
     "name": "stdout",
     "output_type": "stream",
     "text": [
      "The chain is shorter than 50 times the integrated autocorrelation time for 4 parameter(s). Use this estimate with caution and run a longer chain!\n",
      "N/50 = 400;\n",
      "tau: [ 186.06908198  241.78370646 1260.55835085 1188.05847948 1274.44734631\n",
      " 1207.29723609]\n"
     ]
    },
    {
     "name": "stderr",
     "output_type": "stream",
     "text": [
      "Fitting data, inverse Abel transforming, and measuring densities:  12%|▋     | 16/132 [06:37<48:17, 24.98s/it]"
     ]
    },
    {
     "name": "stdout",
     "output_type": "stream",
     "text": [
      "The chain is shorter than 50 times the integrated autocorrelation time for 1 parameter(s). Use this estimate with caution and run a longer chain!\n",
      "N/50 = 400;\n",
      "tau: [190.11307722 504.17059775 356.75913665 274.30802144 320.98094838\n",
      " 392.1949914 ]\n"
     ]
    },
    {
     "name": "stderr",
     "output_type": "stream",
     "text": [
      "\r",
      "Fitting data, inverse Abel transforming, and measuring densities:  13%|▊     | 17/132 [06:59<46:11, 24.10s/it]"
     ]
    },
    {
     "name": "stdout",
     "output_type": "stream",
     "text": [
      "The chain is shorter than 50 times the integrated autocorrelation time for 3 parameter(s). Use this estimate with caution and run a longer chain!\n",
      "N/50 = 400;\n",
      "tau: [260.5803037  418.46147723 514.07380016 263.08023574 336.65943769\n",
      " 516.4854734 ]\n"
     ]
    },
    {
     "name": "stderr",
     "output_type": "stream",
     "text": [
      "\r",
      "Fitting data, inverse Abel transforming, and measuring densities:  14%|▊     | 18/132 [07:19<43:40, 22.98s/it]"
     ]
    },
    {
     "name": "stdout",
     "output_type": "stream",
     "text": [
      "The chain is shorter than 50 times the integrated autocorrelation time for 6 parameter(s). Use this estimate with caution and run a longer chain!\n",
      "N/50 = 400;\n",
      "tau: [ 401.27443994 1486.90481877  961.34589094  531.37212783 1405.56424677\n",
      "  758.00207076]\n"
     ]
    },
    {
     "name": "stderr",
     "output_type": "stream",
     "text": [
      "/its/home/dt237/.conda/envs/dev_xga/lib/python3.8/site-packages/astropy/units/quantity.py:477: RuntimeWarning: invalid value encountered in sqrt\n",
      "  result = super().__array_ufunc__(function, method, *arrays, **kwargs)\n",
      "/mnt/pact/dt237/code/PycharmProjects/XGA/xga/sourcetools/density.py:531: UserWarning: One or more of the quantities passed to the init of SDSSXCS-7190's density profile has a NaN or Inf value in it.\n",
      "  warn(\"One or more of the quantities passed to the init of {}'s density profile has a NaN or Inf value\"\n",
      "\r",
      "Fitting data, inverse Abel transforming, and measuring densities:  14%|▊     | 19/132 [07:40<41:44, 22.16s/it]"
     ]
    },
    {
     "name": "stdout",
     "output_type": "stream",
     "text": [
      "The chain is shorter than 50 times the integrated autocorrelation time for 5 parameter(s). Use this estimate with caution and run a longer chain!\n",
      "N/50 = 400;\n",
      "tau: [ 456.68687196  967.78560938 1452.09573078  281.06192465  660.623641\n",
      " 1343.07402233]\n"
     ]
    },
    {
     "name": "stderr",
     "output_type": "stream",
     "text": [
      "Fitting data, inverse Abel transforming, and measuring densities:  15%|▉     | 20/132 [08:07<44:30, 23.84s/it]/its/home/dt237/.conda/envs/dev_xga/lib/python3.8/site-packages/astropy/units/quantity.py:477: RuntimeWarning: invalid value encountered in sqrt\n",
      "  result = super().__array_ufunc__(function, method, *arrays, **kwargs)\n",
      "/mnt/pact/dt237/code/PycharmProjects/XGA/xga/sourcetools/density.py:531: UserWarning: One or more of the quantities passed to the init of SDSSXCS-5743's density profile has a NaN or Inf value in it.\n",
      "  warn(\"One or more of the quantities passed to the init of {}'s density profile has a NaN or Inf value\"\n",
      "Fitting data, inverse Abel transforming, and measuring densities:  16%|▉     | 21/132 [08:29<43:08, 23.32s/it]"
     ]
    },
    {
     "name": "stdout",
     "output_type": "stream",
     "text": [
      "The chain is shorter than 50 times the integrated autocorrelation time for 4 parameter(s). Use this estimate with caution and run a longer chain!\n",
      "N/50 = 400;\n",
      "tau: [342.34750672 550.57011502 942.38302186 323.30171403 586.68976017\n",
      " 887.56751704]\n"
     ]
    },
    {
     "name": "stderr",
     "output_type": "stream",
     "text": [
      "\r",
      "Fitting data, inverse Abel transforming, and measuring densities:  17%|█     | 22/132 [08:52<42:13, 23.03s/it]"
     ]
    },
    {
     "name": "stdout",
     "output_type": "stream",
     "text": [
      "The chain is shorter than 50 times the integrated autocorrelation time for 6 parameter(s). Use this estimate with caution and run a longer chain!\n",
      "N/50 = 400;\n",
      "tau: [ 768.85884947 1455.61445203 1359.17283013  668.54053179 1253.22604849\n",
      " 1205.39439471]\n"
     ]
    },
    {
     "name": "stderr",
     "output_type": "stream",
     "text": [
      "/its/home/dt237/.conda/envs/dev_xga/lib/python3.8/site-packages/astropy/units/quantity.py:477: RuntimeWarning: invalid value encountered in sqrt\n",
      "  result = super().__array_ufunc__(function, method, *arrays, **kwargs)\n",
      "/mnt/pact/dt237/code/PycharmProjects/XGA/xga/sourcetools/density.py:531: UserWarning: One or more of the quantities passed to the init of SDSSXCS-29799's density profile has a NaN or Inf value in it.\n",
      "  warn(\"One or more of the quantities passed to the init of {}'s density profile has a NaN or Inf value\"\n",
      "\r",
      "Fitting data, inverse Abel transforming, and measuring densities:  17%|█     | 23/132 [09:12<40:19, 22.20s/it]"
     ]
    },
    {
     "name": "stdout",
     "output_type": "stream",
     "text": [
      "The chain is shorter than 50 times the integrated autocorrelation time for 5 parameter(s). Use this estimate with caution and run a longer chain!\n",
      "N/50 = 400;\n",
      "tau: [578.66858916 866.01000566 928.96862199 386.53347037 824.87432889\n",
      " 798.76778678]\n"
     ]
    },
    {
     "name": "stderr",
     "output_type": "stream",
     "text": [
      "\r",
      "Fitting data, inverse Abel transforming, and measuring densities:  18%|█     | 24/132 [09:38<42:03, 23.37s/it]"
     ]
    },
    {
     "name": "stdout",
     "output_type": "stream",
     "text": [
      "The chain is shorter than 50 times the integrated autocorrelation time for 4 parameter(s). Use this estimate with caution and run a longer chain!\n",
      "N/50 = 400;\n",
      "tau: [170.99757979 435.28262482 243.5923391  406.48161123 445.59740146\n",
      " 427.70651813]\n"
     ]
    },
    {
     "name": "stderr",
     "output_type": "stream",
     "text": [
      "\r",
      "Fitting data, inverse Abel transforming, and measuring densities:  19%|█▏    | 25/132 [10:03<42:39, 23.92s/it]"
     ]
    },
    {
     "name": "stdout",
     "output_type": "stream",
     "text": [
      "The chain is shorter than 50 times the integrated autocorrelation time for 3 parameter(s). Use this estimate with caution and run a longer chain!\n",
      "N/50 = 400;\n",
      "tau: [353.30595356 245.66860441 418.3794457  452.35355355 403.50345391\n",
      " 391.93028553]\n"
     ]
    },
    {
     "name": "stderr",
     "output_type": "stream",
     "text": [
      "/its/home/dt237/.conda/envs/dev_xga/lib/python3.8/site-packages/astropy/units/quantity.py:477: RuntimeWarning: invalid value encountered in sqrt\n",
      "  result = super().__array_ufunc__(function, method, *arrays, **kwargs)\n",
      "/mnt/pact/dt237/code/PycharmProjects/XGA/xga/sourcetools/density.py:531: UserWarning: One or more of the quantities passed to the init of SDSSXCS-16227's density profile has a NaN or Inf value in it.\n",
      "  warn(\"One or more of the quantities passed to the init of {}'s density profile has a NaN or Inf value\"\n",
      "\r",
      "Fitting data, inverse Abel transforming, and measuring densities:  20%|█▏    | 26/132 [10:25<41:08, 23.29s/it]"
     ]
    },
    {
     "name": "stdout",
     "output_type": "stream",
     "text": [
      "The chain is shorter than 50 times the integrated autocorrelation time for 6 parameter(s). Use this estimate with caution and run a longer chain!\n",
      "N/50 = 400;\n",
      "tau: [ 468.45691432 1355.82546358 1679.70971471  588.08308183  882.79040789\n",
      " 1274.84203258]\n"
     ]
    },
    {
     "name": "stderr",
     "output_type": "stream",
     "text": [
      "/its/home/dt237/.conda/envs/dev_xga/lib/python3.8/site-packages/astropy/units/quantity.py:477: RuntimeWarning: invalid value encountered in sqrt\n",
      "  result = super().__array_ufunc__(function, method, *arrays, **kwargs)\n",
      "/mnt/pact/dt237/code/PycharmProjects/XGA/xga/sourcetools/density.py:531: UserWarning: One or more of the quantities passed to the init of SDSSXCS-2984's density profile has a NaN or Inf value in it.\n",
      "  warn(\"One or more of the quantities passed to the init of {}'s density profile has a NaN or Inf value\"\n",
      "\r",
      "Fitting data, inverse Abel transforming, and measuring densities:  20%|█▏    | 27/132 [10:48<40:22, 23.07s/it]"
     ]
    },
    {
     "name": "stdout",
     "output_type": "stream",
     "text": [
      "The chain is shorter than 50 times the integrated autocorrelation time for 6 parameter(s). Use this estimate with caution and run a longer chain!\n",
      "N/50 = 400;\n",
      "tau: [1200.56430451  627.94396003 2042.60529643  479.1282897   574.31713075\n",
      " 1898.57824529]\n"
     ]
    },
    {
     "name": "stderr",
     "output_type": "stream",
     "text": [
      "/its/home/dt237/.conda/envs/dev_xga/lib/python3.8/site-packages/astropy/units/quantity.py:477: RuntimeWarning: invalid value encountered in sqrt\n",
      "  result = super().__array_ufunc__(function, method, *arrays, **kwargs)\n",
      "/mnt/pact/dt237/code/PycharmProjects/XGA/xga/sourcetools/density.py:531: UserWarning: One or more of the quantities passed to the init of SDSSXCS-6955's density profile has a NaN or Inf value in it.\n",
      "  warn(\"One or more of the quantities passed to the init of {}'s density profile has a NaN or Inf value\"\n",
      "\r",
      "Fitting data, inverse Abel transforming, and measuring densities:  21%|█▎    | 28/132 [11:10<39:27, 22.76s/it]"
     ]
    },
    {
     "name": "stdout",
     "output_type": "stream",
     "text": [
      "The chain is shorter than 50 times the integrated autocorrelation time for 6 parameter(s). Use this estimate with caution and run a longer chain!\n",
      "N/50 = 400;\n",
      "tau: [ 424.4909016  1533.82639704 1851.30033063  977.01579328  956.19339567\n",
      " 1745.40964445]\n"
     ]
    },
    {
     "name": "stderr",
     "output_type": "stream",
     "text": [
      "\r",
      "Fitting data, inverse Abel transforming, and measuring densities:  22%|█▎    | 29/132 [11:32<38:57, 22.69s/it]"
     ]
    },
    {
     "name": "stdout",
     "output_type": "stream",
     "text": [
      "The chain is shorter than 50 times the integrated autocorrelation time for 6 parameter(s). Use this estimate with caution and run a longer chain!\n",
      "N/50 = 400;\n",
      "tau: [ 638.41257903 1228.17229171  720.53573922 1333.09352063 1420.87500685\n",
      " 1308.63069239]\n"
     ]
    },
    {
     "name": "stderr",
     "output_type": "stream",
     "text": [
      "\r",
      "Fitting data, inverse Abel transforming, and measuring densities:  23%|█▎    | 30/132 [11:58<39:53, 23.46s/it]"
     ]
    },
    {
     "name": "stdout",
     "output_type": "stream",
     "text": [
      "The chain is shorter than 50 times the integrated autocorrelation time for 6 parameter(s). Use this estimate with caution and run a longer chain!\n",
      "N/50 = 400;\n",
      "tau: [ 655.15657522  466.59685391 1881.20235992 1294.08646942 1181.39677472\n",
      " 1857.68957098]\n"
     ]
    },
    {
     "name": "stderr",
     "output_type": "stream",
     "text": [
      "Fitting data, inverse Abel transforming, and measuring densities:  24%|█▍    | 32/132 [12:48<40:33, 24.34s/it]"
     ]
    },
    {
     "name": "stdout",
     "output_type": "stream",
     "text": [
      "The chain is shorter than 50 times the integrated autocorrelation time for 6 parameter(s). Use this estimate with caution and run a longer chain!\n",
      "N/50 = 400;\n",
      "tau: [ 741.25644412  441.33959351 1289.05766936 1265.99454382 1223.09464123\n",
      " 1152.59794151]\n"
     ]
    },
    {
     "name": "stderr",
     "output_type": "stream",
     "text": [
      "\r",
      "Fitting data, inverse Abel transforming, and measuring densities:  25%|█▌    | 33/132 [13:17<42:07, 25.53s/it]"
     ]
    },
    {
     "name": "stdout",
     "output_type": "stream",
     "text": [
      "The chain is shorter than 50 times the integrated autocorrelation time for 6 parameter(s). Use this estimate with caution and run a longer chain!\n",
      "N/50 = 400;\n",
      "tau: [1259.45343272 1293.12984632 1276.94099215 1195.4429924  1218.83825683\n",
      " 1269.15354191]\n"
     ]
    },
    {
     "name": "stderr",
     "output_type": "stream",
     "text": [
      "\r",
      "Fitting data, inverse Abel transforming, and measuring densities:  26%|█▌    | 34/132 [13:39<40:07, 24.57s/it]"
     ]
    },
    {
     "name": "stdout",
     "output_type": "stream",
     "text": [
      "The chain is shorter than 50 times the integrated autocorrelation time for 2 parameter(s). Use this estimate with caution and run a longer chain!\n",
      "N/50 = 400;\n",
      "tau: [ 393.79089087  800.19448984 1068.52853356  321.03630476  322.75771836\n",
      "  290.46595748]\n"
     ]
    },
    {
     "name": "stderr",
     "output_type": "stream",
     "text": [
      "\r",
      "Fitting data, inverse Abel transforming, and measuring densities:  27%|█▌    | 35/132 [14:03<39:28, 24.42s/it]"
     ]
    },
    {
     "name": "stdout",
     "output_type": "stream",
     "text": [
      "The chain is shorter than 50 times the integrated autocorrelation time for 5 parameter(s). Use this estimate with caution and run a longer chain!\n",
      "N/50 = 400;\n",
      "tau: [1285.94197167  295.35111813 2314.3583227  2188.40534192 2181.89891309\n",
      " 1814.65759223]\n"
     ]
    },
    {
     "name": "stderr",
     "output_type": "stream",
     "text": [
      "/its/home/dt237/.conda/envs/dev_xga/lib/python3.8/site-packages/astropy/units/quantity.py:477: RuntimeWarning: invalid value encountered in sqrt\n",
      "  result = super().__array_ufunc__(function, method, *arrays, **kwargs)\n",
      "/mnt/pact/dt237/code/PycharmProjects/XGA/xga/sourcetools/density.py:531: UserWarning: One or more of the quantities passed to the init of SDSSXCS-19922's density profile has a NaN or Inf value in it.\n",
      "  warn(\"One or more of the quantities passed to the init of {}'s density profile has a NaN or Inf value\"\n",
      "\r",
      "Fitting data, inverse Abel transforming, and measuring densities:  27%|█▋    | 36/132 [14:23<36:54, 23.06s/it]"
     ]
    },
    {
     "name": "stdout",
     "output_type": "stream",
     "text": [
      "The chain is shorter than 50 times the integrated autocorrelation time for 6 parameter(s). Use this estimate with caution and run a longer chain!\n",
      "N/50 = 400;\n",
      "tau: [ 511.78041239 1239.07785684 1219.34492295  554.31164716 1056.94670291\n",
      "  975.96764884]\n"
     ]
    },
    {
     "name": "stderr",
     "output_type": "stream",
     "text": [
      "\r",
      "Fitting data, inverse Abel transforming, and measuring densities:  28%|█▋    | 37/132 [14:48<37:30, 23.69s/it]"
     ]
    },
    {
     "name": "stdout",
     "output_type": "stream",
     "text": [
      "The chain is shorter than 50 times the integrated autocorrelation time for 6 parameter(s). Use this estimate with caution and run a longer chain!\n",
      "N/50 = 400;\n",
      "tau: [ 423.21840099  425.49498457 1353.6653533   952.74108589  947.80232772\n",
      " 1178.18029751]\n"
     ]
    },
    {
     "name": "stderr",
     "output_type": "stream",
     "text": [
      "\r",
      "Fitting data, inverse Abel transforming, and measuring densities:  29%|█▋    | 38/132 [15:13<37:51, 24.17s/it]"
     ]
    },
    {
     "name": "stdout",
     "output_type": "stream",
     "text": [
      "The chain is shorter than 50 times the integrated autocorrelation time for 6 parameter(s). Use this estimate with caution and run a longer chain!\n",
      "N/50 = 400;\n",
      "tau: [1880.86462366 1599.20528913 2000.78918428 1772.27289222 1877.74683123\n",
      " 1979.0724796 ]\n"
     ]
    },
    {
     "name": "stderr",
     "output_type": "stream",
     "text": [
      "/its/home/dt237/.conda/envs/dev_xga/lib/python3.8/site-packages/astropy/units/quantity.py:477: RuntimeWarning: invalid value encountered in sqrt\n",
      "  result = super().__array_ufunc__(function, method, *arrays, **kwargs)\n",
      "/mnt/pact/dt237/code/PycharmProjects/XGA/xga/sourcetools/density.py:531: UserWarning: One or more of the quantities passed to the init of SDSSXCS-325's density profile has a NaN or Inf value in it.\n",
      "  warn(\"One or more of the quantities passed to the init of {}'s density profile has a NaN or Inf value\"\n",
      "\r",
      "Fitting data, inverse Abel transforming, and measuring densities:  30%|█▊    | 39/132 [15:36<36:43, 23.69s/it]"
     ]
    },
    {
     "name": "stdout",
     "output_type": "stream",
     "text": [
      "The chain is shorter than 50 times the integrated autocorrelation time for 6 parameter(s). Use this estimate with caution and run a longer chain!\n",
      "N/50 = 400;\n",
      "tau: [ 883.17444286  904.94675359 1729.36566745 1364.33517349 1449.96031315\n",
      " 1717.34358753]\n",
      "The chain is shorter than 50 times the integrated autocorrelation time for 1 parameter(s). Use this estimate with caution and run a longer chain!\n",
      "N/50 = 400;\n",
      "tau: [209.75158535 321.41971215 625.98454889 210.59522908 206.98456053\n",
      " 177.55896015]\n"
     ]
    },
    {
     "name": "stderr",
     "output_type": "stream",
     "text": [
      "Fitting data, inverse Abel transforming, and measuring densities:  32%|█▉    | 42/132 [16:51<36:24, 24.27s/it]"
     ]
    },
    {
     "name": "stdout",
     "output_type": "stream",
     "text": [
      "The chain is shorter than 50 times the integrated autocorrelation time for 6 parameter(s). Use this estimate with caution and run a longer chain!\n",
      "N/50 = 400;\n",
      "tau: [ 445.45057612  510.69564765 1195.2914947   957.1415139   819.7622067\n",
      "  802.44723093]\n"
     ]
    },
    {
     "name": "stderr",
     "output_type": "stream",
     "text": [
      "\r",
      "Fitting data, inverse Abel transforming, and measuring densities:  33%|█▉    | 43/132 [17:15<36:01, 24.28s/it]"
     ]
    },
    {
     "name": "stdout",
     "output_type": "stream",
     "text": [
      "The chain is shorter than 50 times the integrated autocorrelation time for 6 parameter(s). Use this estimate with caution and run a longer chain!\n",
      "N/50 = 400;\n",
      "tau: [ 509.05082858 1108.17798962 1620.44818103  694.18912883 1351.47789647\n",
      " 1606.77584518]\n"
     ]
    },
    {
     "name": "stderr",
     "output_type": "stream",
     "text": [
      "\r",
      "Fitting data, inverse Abel transforming, and measuring densities:  33%|██    | 44/132 [17:41<36:04, 24.59s/it]"
     ]
    },
    {
     "name": "stdout",
     "output_type": "stream",
     "text": [
      "The chain is shorter than 50 times the integrated autocorrelation time for 5 parameter(s). Use this estimate with caution and run a longer chain!\n",
      "N/50 = 400;\n",
      "tau: [ 954.61470238  387.85575733 2037.31862814 1955.1748533  2044.09752209\n",
      " 2080.47653085]\n"
     ]
    },
    {
     "name": "stderr",
     "output_type": "stream",
     "text": [
      "Fitting data, inverse Abel transforming, and measuring densities:  35%|██    | 46/132 [18:26<33:35, 23.44s/it]"
     ]
    },
    {
     "name": "stdout",
     "output_type": "stream",
     "text": [
      "The chain is shorter than 50 times the integrated autocorrelation time for 6 parameter(s). Use this estimate with caution and run a longer chain!\n",
      "N/50 = 400;\n",
      "tau: [1294.83532881  761.03113516 1763.94436854  920.95026855  670.2973531\n",
      " 1740.69424351]\n"
     ]
    },
    {
     "name": "stderr",
     "output_type": "stream",
     "text": [
      "\r",
      "Fitting data, inverse Abel transforming, and measuring densities:  36%|██▏   | 47/132 [18:49<32:56, 23.25s/it]"
     ]
    },
    {
     "name": "stdout",
     "output_type": "stream",
     "text": [
      "The chain is shorter than 50 times the integrated autocorrelation time for 6 parameter(s). Use this estimate with caution and run a longer chain!\n",
      "N/50 = 400;\n",
      "tau: [ 670.58802226  806.12562294 1253.36615611 1143.04468133  980.20454238\n",
      " 1255.48379349]\n"
     ]
    },
    {
     "name": "stderr",
     "output_type": "stream",
     "text": [
      "/its/home/dt237/.conda/envs/dev_xga/lib/python3.8/site-packages/astropy/units/quantity.py:477: RuntimeWarning: invalid value encountered in sqrt\n",
      "  result = super().__array_ufunc__(function, method, *arrays, **kwargs)\n",
      "/mnt/pact/dt237/code/PycharmProjects/XGA/xga/sourcetools/density.py:531: UserWarning: One or more of the quantities passed to the init of SDSSXCS-22748's density profile has a NaN or Inf value in it.\n",
      "  warn(\"One or more of the quantities passed to the init of {}'s density profile has a NaN or Inf value\"\n",
      "\r",
      "Fitting data, inverse Abel transforming, and measuring densities:  36%|██▏   | 48/132 [19:09<31:23, 22.42s/it]"
     ]
    },
    {
     "name": "stdout",
     "output_type": "stream",
     "text": [
      "The chain is shorter than 50 times the integrated autocorrelation time for 5 parameter(s). Use this estimate with caution and run a longer chain!\n",
      "N/50 = 400;\n",
      "tau: [ 662.32840772 1033.03470298 1584.57908871  313.76701715  452.53190595\n",
      " 1548.68818211]\n"
     ]
    },
    {
     "name": "stderr",
     "output_type": "stream",
     "text": [
      "\r",
      "Fitting data, inverse Abel transforming, and measuring densities:  37%|██▏   | 49/132 [19:32<31:15, 22.60s/it]"
     ]
    },
    {
     "name": "stdout",
     "output_type": "stream",
     "text": [
      "The chain is shorter than 50 times the integrated autocorrelation time for 6 parameter(s). Use this estimate with caution and run a longer chain!\n",
      "N/50 = 400;\n",
      "tau: [ 668.85135461  926.78893152 1049.53761168  632.77044881  853.66991551\n",
      " 1216.14416039]\n"
     ]
    },
    {
     "name": "stderr",
     "output_type": "stream",
     "text": [
      "Fitting data, inverse Abel transforming, and measuring densities:  39%|██▎   | 51/132 [20:29<34:40, 25.68s/it]"
     ]
    },
    {
     "name": "stdout",
     "output_type": "stream",
     "text": [
      "The chain is shorter than 50 times the integrated autocorrelation time for 6 parameter(s). Use this estimate with caution and run a longer chain!\n",
      "N/50 = 400;\n",
      "tau: [500.73247985 496.44983074 437.71940794 567.18855614 561.15138423\n",
      " 521.44709879]\n"
     ]
    },
    {
     "name": "stderr",
     "output_type": "stream",
     "text": [
      "/its/home/dt237/.conda/envs/dev_xga/lib/python3.8/site-packages/astropy/units/quantity.py:477: RuntimeWarning: invalid value encountered in sqrt\n",
      "  result = super().__array_ufunc__(function, method, *arrays, **kwargs)\n",
      "/mnt/pact/dt237/code/PycharmProjects/XGA/xga/sourcetools/density.py:531: UserWarning: One or more of the quantities passed to the init of SDSSXCS-75's density profile has a NaN or Inf value in it.\n",
      "  warn(\"One or more of the quantities passed to the init of {}'s density profile has a NaN or Inf value\"\n",
      "\r",
      "Fitting data, inverse Abel transforming, and measuring densities:  39%|██▎   | 52/132 [20:52<32:53, 24.67s/it]"
     ]
    },
    {
     "name": "stdout",
     "output_type": "stream",
     "text": [
      "The chain is shorter than 50 times the integrated autocorrelation time for 3 parameter(s). Use this estimate with caution and run a longer chain!\n",
      "N/50 = 400;\n",
      "tau: [1581.11949026  306.28873047 2136.68197629  305.19254121  344.51213266\n",
      " 2122.05044973]\n"
     ]
    },
    {
     "name": "stderr",
     "output_type": "stream",
     "text": [
      "Fitting data, inverse Abel transforming, and measuring densities:  41%|██▍   | 54/132 [21:44<32:40, 25.14s/it]"
     ]
    },
    {
     "name": "stdout",
     "output_type": "stream",
     "text": [
      "The chain is shorter than 50 times the integrated autocorrelation time for 1 parameter(s). Use this estimate with caution and run a longer chain!\n",
      "N/50 = 400;\n",
      "tau: [189.06901212 284.86760127 799.98553973 258.42200327 231.81078814\n",
      " 164.16135354]\n"
     ]
    },
    {
     "name": "stderr",
     "output_type": "stream",
     "text": [
      "Fitting data, inverse Abel transforming, and measuring densities:  42%|██▌   | 55/132 [22:13<33:54, 26.43s/it]/its/home/dt237/.conda/envs/dev_xga/lib/python3.8/site-packages/astropy/units/quantity.py:477: RuntimeWarning: invalid value encountered in sqrt\n",
      "  result = super().__array_ufunc__(function, method, *arrays, **kwargs)\n",
      "/mnt/pact/dt237/code/PycharmProjects/XGA/xga/sourcetools/density.py:531: UserWarning: One or more of the quantities passed to the init of SDSSXCS-7405's density profile has a NaN or Inf value in it.\n",
      "  warn(\"One or more of the quantities passed to the init of {}'s density profile has a NaN or Inf value\"\n",
      "Fitting data, inverse Abel transforming, and measuring densities:  42%|██▌   | 56/132 [22:35<31:37, 24.97s/it]"
     ]
    },
    {
     "name": "stdout",
     "output_type": "stream",
     "text": [
      "The chain is shorter than 50 times the integrated autocorrelation time for 6 parameter(s). Use this estimate with caution and run a longer chain!\n",
      "N/50 = 400;\n",
      "tau: [1315.67321662  662.17642535 1581.77883142  735.27520034  793.96182122\n",
      " 1524.4659267 ]\n"
     ]
    },
    {
     "name": "stderr",
     "output_type": "stream",
     "text": [
      "/its/home/dt237/.conda/envs/dev_xga/lib/python3.8/site-packages/astropy/units/quantity.py:477: RuntimeWarning: invalid value encountered in sqrt\n",
      "  result = super().__array_ufunc__(function, method, *arrays, **kwargs)\n",
      "/mnt/pact/dt237/code/PycharmProjects/XGA/xga/sourcetools/density.py:531: UserWarning: One or more of the quantities passed to the init of SDSSXCS-47's density profile has a NaN or Inf value in it.\n",
      "  warn(\"One or more of the quantities passed to the init of {}'s density profile has a NaN or Inf value\"\n",
      "\r",
      "Fitting data, inverse Abel transforming, and measuring densities:  43%|██▌   | 57/132 [22:57<30:03, 24.05s/it]"
     ]
    },
    {
     "name": "stdout",
     "output_type": "stream",
     "text": [
      "The chain is shorter than 50 times the integrated autocorrelation time for 4 parameter(s). Use this estimate with caution and run a longer chain!\n",
      "N/50 = 400;\n",
      "tau: [385.58773981 278.08250379 855.89254595 406.98796792 476.8399635\n",
      " 847.84477224]\n"
     ]
    },
    {
     "name": "stderr",
     "output_type": "stream",
     "text": [
      "\r",
      "Fitting data, inverse Abel transforming, and measuring densities:  44%|██▋   | 58/132 [23:18<28:35, 23.19s/it]"
     ]
    },
    {
     "name": "stdout",
     "output_type": "stream",
     "text": [
      "The chain is shorter than 50 times the integrated autocorrelation time for 6 parameter(s). Use this estimate with caution and run a longer chain!\n",
      "N/50 = 400;\n",
      "tau: [ 903.68066792 2219.5701211  1662.19146385  553.36987769  861.9542749\n",
      " 1677.63098933]\n"
     ]
    },
    {
     "name": "stderr",
     "output_type": "stream",
     "text": [
      "/its/home/dt237/.conda/envs/dev_xga/lib/python3.8/site-packages/astropy/units/quantity.py:477: RuntimeWarning: invalid value encountered in sqrt\n",
      "  result = super().__array_ufunc__(function, method, *arrays, **kwargs)\n",
      "/mnt/pact/dt237/code/PycharmProjects/XGA/xga/sourcetools/density.py:531: UserWarning: One or more of the quantities passed to the init of SDSSXCS-2588's density profile has a NaN or Inf value in it.\n",
      "  warn(\"One or more of the quantities passed to the init of {}'s density profile has a NaN or Inf value\"\n",
      "\r",
      "Fitting data, inverse Abel transforming, and measuring densities:  45%|██▋   | 59/132 [23:38<27:11, 22.34s/it]"
     ]
    },
    {
     "name": "stdout",
     "output_type": "stream",
     "text": [
      "The chain is shorter than 50 times the integrated autocorrelation time for 6 parameter(s). Use this estimate with caution and run a longer chain!\n",
      "N/50 = 400;\n",
      "tau: [ 553.55307597 1345.76688508 1990.84071967 1263.59118343 1585.31350933\n",
      " 1337.43473701]\n"
     ]
    },
    {
     "name": "stderr",
     "output_type": "stream",
     "text": [
      "/its/home/dt237/.conda/envs/dev_xga/lib/python3.8/site-packages/astropy/units/quantity.py:477: RuntimeWarning: invalid value encountered in sqrt\n",
      "  result = super().__array_ufunc__(function, method, *arrays, **kwargs)\n",
      "/mnt/pact/dt237/code/PycharmProjects/XGA/xga/sourcetools/density.py:531: UserWarning: One or more of the quantities passed to the init of SDSSXCS-298's density profile has a NaN or Inf value in it.\n",
      "  warn(\"One or more of the quantities passed to the init of {}'s density profile has a NaN or Inf value\"\n",
      "\r",
      "Fitting data, inverse Abel transforming, and measuring densities:  45%|██▋   | 60/132 [24:03<27:43, 23.10s/it]"
     ]
    },
    {
     "name": "stdout",
     "output_type": "stream",
     "text": [
      "The chain is shorter than 50 times the integrated autocorrelation time for 6 parameter(s). Use this estimate with caution and run a longer chain!\n",
      "N/50 = 400;\n",
      "tau: [ 492.0778944   936.70370883 1533.73555025 1600.83598725 1637.10392006\n",
      " 1624.17751796]\n"
     ]
    },
    {
     "name": "stderr",
     "output_type": "stream",
     "text": [
      "/its/home/dt237/.conda/envs/dev_xga/lib/python3.8/site-packages/astropy/units/quantity.py:477: RuntimeWarning: invalid value encountered in sqrt\n",
      "  result = super().__array_ufunc__(function, method, *arrays, **kwargs)\n",
      "/mnt/pact/dt237/code/PycharmProjects/XGA/xga/sourcetools/density.py:531: UserWarning: One or more of the quantities passed to the init of SDSSXCS-189's density profile has a NaN or Inf value in it.\n",
      "  warn(\"One or more of the quantities passed to the init of {}'s density profile has a NaN or Inf value\"\n",
      "\r",
      "Fitting data, inverse Abel transforming, and measuring densities:  46%|██▊   | 61/132 [24:24<26:38, 22.51s/it]"
     ]
    },
    {
     "name": "stdout",
     "output_type": "stream",
     "text": [
      "The chain is shorter than 50 times the integrated autocorrelation time for 6 parameter(s). Use this estimate with caution and run a longer chain!\n",
      "N/50 = 400;\n",
      "tau: [ 530.89854439 1354.05564368 1226.88037792  714.6056775   964.02555174\n",
      " 1213.51272023]\n"
     ]
    },
    {
     "name": "stderr",
     "output_type": "stream",
     "text": [
      "\r",
      "Fitting data, inverse Abel transforming, and measuring densities:  47%|██▊   | 62/132 [24:47<26:15, 22.51s/it]"
     ]
    },
    {
     "name": "stdout",
     "output_type": "stream",
     "text": [
      "The chain is shorter than 50 times the integrated autocorrelation time for 4 parameter(s). Use this estimate with caution and run a longer chain!\n",
      "N/50 = 400;\n",
      "tau: [1033.89325666 1618.91108465 1728.39539561  303.77926817  355.21959279\n",
      " 1710.86082957]\n"
     ]
    },
    {
     "name": "stderr",
     "output_type": "stream",
     "text": [
      "Fitting data, inverse Abel transforming, and measuring densities:  48%|██▉   | 64/132 [25:43<28:16, 24.95s/it]"
     ]
    },
    {
     "name": "stdout",
     "output_type": "stream",
     "text": [
      "The chain is shorter than 50 times the integrated autocorrelation time for 5 parameter(s). Use this estimate with caution and run a longer chain!\n",
      "N/50 = 400;\n",
      "tau: [ 339.03487132  479.37438205 1874.89663177 1779.59291981 1643.74967999\n",
      " 1698.78646906]\n"
     ]
    },
    {
     "name": "stderr",
     "output_type": "stream",
     "text": [
      "\r",
      "Fitting data, inverse Abel transforming, and measuring densities:  49%|██▉   | 65/132 [26:03<26:23, 23.64s/it]"
     ]
    },
    {
     "name": "stdout",
     "output_type": "stream",
     "text": [
      "The chain is shorter than 50 times the integrated autocorrelation time for 6 parameter(s). Use this estimate with caution and run a longer chain!\n",
      "N/50 = 400;\n",
      "tau: [ 489.3274098  1500.33538811 1127.26503772  741.87467918  748.26529661\n",
      " 1175.15173398]\n"
     ]
    },
    {
     "name": "stderr",
     "output_type": "stream",
     "text": [
      "\r",
      "Fitting data, inverse Abel transforming, and measuring densities:  50%|███   | 66/132 [26:28<26:23, 23.99s/it]"
     ]
    },
    {
     "name": "stdout",
     "output_type": "stream",
     "text": [
      "The chain is shorter than 50 times the integrated autocorrelation time for 6 parameter(s). Use this estimate with caution and run a longer chain!\n",
      "N/50 = 400;\n",
      "tau: [ 561.47813643  803.75660298 1822.12397927 1542.42247379 1521.28238385\n",
      " 1598.87121569]\n"
     ]
    },
    {
     "name": "stderr",
     "output_type": "stream",
     "text": [
      "\r",
      "Fitting data, inverse Abel transforming, and measuring densities:  51%|███   | 67/132 [26:51<25:37, 23.66s/it]"
     ]
    },
    {
     "name": "stdout",
     "output_type": "stream",
     "text": [
      "The chain is shorter than 50 times the integrated autocorrelation time for 4 parameter(s). Use this estimate with caution and run a longer chain!\n",
      "N/50 = 400;\n",
      "tau: [285.05830011 325.48134469 597.35700105 777.71738223 671.98084731\n",
      " 564.80021915]\n"
     ]
    },
    {
     "name": "stderr",
     "output_type": "stream",
     "text": [
      "/its/home/dt237/.conda/envs/dev_xga/lib/python3.8/site-packages/astropy/units/quantity.py:477: RuntimeWarning: invalid value encountered in sqrt\n",
      "  result = super().__array_ufunc__(function, method, *arrays, **kwargs)\n",
      "/mnt/pact/dt237/code/PycharmProjects/XGA/xga/sourcetools/density.py:531: UserWarning: One or more of the quantities passed to the init of SDSSXCS-1174's density profile has a NaN or Inf value in it.\n",
      "  warn(\"One or more of the quantities passed to the init of {}'s density profile has a NaN or Inf value\"\n",
      "\r",
      "Fitting data, inverse Abel transforming, and measuring densities:  52%|███   | 68/132 [27:14<24:52, 23.32s/it]"
     ]
    },
    {
     "name": "stdout",
     "output_type": "stream",
     "text": [
      "The chain is shorter than 50 times the integrated autocorrelation time for 6 parameter(s). Use this estimate with caution and run a longer chain!\n",
      "N/50 = 400;\n",
      "tau: [ 519.17558909 1045.5641407  1801.71928583 1164.10854649 1413.32754843\n",
      " 1786.14665056]\n"
     ]
    },
    {
     "name": "stderr",
     "output_type": "stream",
     "text": [
      "\r",
      "Fitting data, inverse Abel transforming, and measuring densities:  52%|███▏  | 69/132 [27:38<24:46, 23.59s/it]"
     ]
    },
    {
     "name": "stdout",
     "output_type": "stream",
     "text": [
      "The chain is shorter than 50 times the integrated autocorrelation time for 5 parameter(s). Use this estimate with caution and run a longer chain!\n",
      "N/50 = 400;\n",
      "tau: [1228.77210296  227.39947567 1905.11263286 1774.38900226 1503.66120216\n",
      " 1849.57846384]\n"
     ]
    },
    {
     "name": "stderr",
     "output_type": "stream",
     "text": [
      "Fitting data, inverse Abel transforming, and measuring densities:  54%|███▏  | 71/132 [28:26<24:15, 23.86s/it]"
     ]
    },
    {
     "name": "stdout",
     "output_type": "stream",
     "text": [
      "The chain is shorter than 50 times the integrated autocorrelation time for 6 parameter(s). Use this estimate with caution and run a longer chain!\n",
      "N/50 = 400;\n",
      "tau: [ 755.00601027 1027.10396834 2105.04020453  924.20442822 1368.54268979\n",
      " 2023.59061555]\n"
     ]
    },
    {
     "name": "stderr",
     "output_type": "stream",
     "text": [
      "\r",
      "Fitting data, inverse Abel transforming, and measuring densities:  55%|███▎  | 72/132 [28:49<23:34, 23.57s/it]"
     ]
    },
    {
     "name": "stdout",
     "output_type": "stream",
     "text": [
      "The chain is shorter than 50 times the integrated autocorrelation time for 6 parameter(s). Use this estimate with caution and run a longer chain!\n",
      "N/50 = 400;\n",
      "tau: [ 914.90631104 1093.88455249 1710.60322455 1475.71812101 1721.24617019\n",
      " 1745.10205933]\n"
     ]
    },
    {
     "name": "stderr",
     "output_type": "stream",
     "text": [
      "\r",
      "Fitting data, inverse Abel transforming, and measuring densities:  55%|███▎  | 73/132 [29:12<23:00, 23.40s/it]"
     ]
    },
    {
     "name": "stdout",
     "output_type": "stream",
     "text": [
      "The chain is shorter than 50 times the integrated autocorrelation time for 3 parameter(s). Use this estimate with caution and run a longer chain!\n",
      "N/50 = 400;\n",
      "tau: [366.38736993 392.2741789  341.14874855 489.80618131 518.30162538\n",
      " 618.24612044]\n"
     ]
    },
    {
     "name": "stderr",
     "output_type": "stream",
     "text": [
      "/its/home/dt237/.conda/envs/dev_xga/lib/python3.8/site-packages/astropy/units/quantity.py:477: RuntimeWarning: invalid value encountered in sqrt\n",
      "  result = super().__array_ufunc__(function, method, *arrays, **kwargs)\n",
      "/mnt/pact/dt237/code/PycharmProjects/XGA/xga/sourcetools/density.py:531: UserWarning: One or more of the quantities passed to the init of SDSSXCS-241's density profile has a NaN or Inf value in it.\n",
      "  warn(\"One or more of the quantities passed to the init of {}'s density profile has a NaN or Inf value\"\n",
      "\r",
      "Fitting data, inverse Abel transforming, and measuring densities:  56%|███▎  | 74/132 [29:34<22:03, 22.82s/it]"
     ]
    },
    {
     "name": "stdout",
     "output_type": "stream",
     "text": [
      "The chain is shorter than 50 times the integrated autocorrelation time for 6 parameter(s). Use this estimate with caution and run a longer chain!\n",
      "N/50 = 400;\n",
      "tau: [1614.26970293  735.16801281 1987.32645623  763.8865339   523.00007118\n",
      " 1966.16809532]\n"
     ]
    },
    {
     "name": "stderr",
     "output_type": "stream",
     "text": [
      "Fitting data, inverse Abel transforming, and measuring densities:  58%|███▍  | 76/132 [30:23<22:14, 23.83s/it]"
     ]
    },
    {
     "name": "stdout",
     "output_type": "stream",
     "text": [
      "The chain is shorter than 50 times the integrated autocorrelation time for 3 parameter(s). Use this estimate with caution and run a longer chain!\n",
      "N/50 = 400;\n",
      "tau: [433.91632527 442.83604616 286.49275318 358.25906499 397.12102994\n",
      " 446.06304041]\n"
     ]
    },
    {
     "name": "stderr",
     "output_type": "stream",
     "text": [
      "/its/home/dt237/.conda/envs/dev_xga/lib/python3.8/site-packages/astropy/units/quantity.py:477: RuntimeWarning: invalid value encountered in sqrt\n",
      "  result = super().__array_ufunc__(function, method, *arrays, **kwargs)\n",
      "/mnt/pact/dt237/code/PycharmProjects/XGA/xga/sourcetools/density.py:531: UserWarning: One or more of the quantities passed to the init of SDSSXCS-11613's density profile has a NaN or Inf value in it.\n",
      "  warn(\"One or more of the quantities passed to the init of {}'s density profile has a NaN or Inf value\"\n",
      "\r",
      "Fitting data, inverse Abel transforming, and measuring densities:  58%|███▌  | 77/132 [30:45<21:23, 23.34s/it]"
     ]
    },
    {
     "name": "stdout",
     "output_type": "stream",
     "text": [
      "The chain is shorter than 50 times the integrated autocorrelation time for 6 parameter(s). Use this estimate with caution and run a longer chain!\n",
      "N/50 = 400;\n",
      "tau: [ 560.59056898  689.68425457 1754.54365213 1189.57154139 1149.06510951\n",
      " 1627.01198214]\n"
     ]
    },
    {
     "name": "stderr",
     "output_type": "stream",
     "text": [
      "Fitting data, inverse Abel transforming, and measuring densities:  59%|███▌  | 78/132 [31:14<22:24, 24.89s/it]/its/home/dt237/.conda/envs/dev_xga/lib/python3.8/site-packages/astropy/units/quantity.py:477: RuntimeWarning: invalid value encountered in sqrt\n",
      "  result = super().__array_ufunc__(function, method, *arrays, **kwargs)\n",
      "/mnt/pact/dt237/code/PycharmProjects/XGA/xga/sourcetools/density.py:531: UserWarning: One or more of the quantities passed to the init of SDSSXCS-5939's density profile has a NaN or Inf value in it.\n",
      "  warn(\"One or more of the quantities passed to the init of {}'s density profile has a NaN or Inf value\"\n",
      "Fitting data, inverse Abel transforming, and measuring densities:  60%|███▌  | 79/132 [31:37<21:25, 24.26s/it]"
     ]
    },
    {
     "name": "stdout",
     "output_type": "stream",
     "text": [
      "The chain is shorter than 50 times the integrated autocorrelation time for 6 parameter(s). Use this estimate with caution and run a longer chain!\n",
      "N/50 = 400;\n",
      "tau: [ 556.36540765 1112.19132858 1373.38865286  416.42900337  610.87756233\n",
      " 1310.49619229]\n"
     ]
    },
    {
     "name": "stderr",
     "output_type": "stream",
     "text": [
      "Fitting data, inverse Abel transforming, and measuring densities:  61%|███▋  | 80/132 [32:01<20:58, 24.20s/it]/its/home/dt237/.conda/envs/dev_xga/lib/python3.8/site-packages/astropy/units/quantity.py:477: RuntimeWarning: invalid value encountered in sqrt\n",
      "  result = super().__array_ufunc__(function, method, *arrays, **kwargs)\n",
      "/mnt/pact/dt237/code/PycharmProjects/XGA/xga/sourcetools/density.py:531: UserWarning: One or more of the quantities passed to the init of SDSSXCS-11394's density profile has a NaN or Inf value in it.\n",
      "  warn(\"One or more of the quantities passed to the init of {}'s density profile has a NaN or Inf value\"\n",
      "Fitting data, inverse Abel transforming, and measuring densities:  61%|███▋  | 81/132 [32:22<19:47, 23.29s/it]"
     ]
    },
    {
     "name": "stdout",
     "output_type": "stream",
     "text": [
      "The chain is shorter than 50 times the integrated autocorrelation time for 2 parameter(s). Use this estimate with caution and run a longer chain!\n",
      "N/50 = 400;\n",
      "tau: [ 354.56858506  258.58020268 1408.98679068  206.58456699  237.72443392\n",
      " 1267.53612312]\n"
     ]
    },
    {
     "name": "stderr",
     "output_type": "stream",
     "text": [
      "\r",
      "Fitting data, inverse Abel transforming, and measuring densities:  62%|███▋  | 82/132 [32:46<19:41, 23.63s/it]"
     ]
    },
    {
     "name": "stdout",
     "output_type": "stream",
     "text": [
      "The chain is shorter than 50 times the integrated autocorrelation time for 6 parameter(s). Use this estimate with caution and run a longer chain!\n",
      "N/50 = 400;\n",
      "tau: [ 483.57456822  450.73534641 1844.03001306 1698.87781463 1507.00626353\n",
      " 1801.32778171]\n"
     ]
    },
    {
     "name": "stderr",
     "output_type": "stream",
     "text": [
      "\r",
      "Fitting data, inverse Abel transforming, and measuring densities:  63%|███▊  | 83/132 [33:11<19:40, 24.10s/it]"
     ]
    },
    {
     "name": "stdout",
     "output_type": "stream",
     "text": [
      "The chain is shorter than 50 times the integrated autocorrelation time for 1 parameter(s). Use this estimate with caution and run a longer chain!\n",
      "N/50 = 400;\n",
      "tau: [161.55181745 166.98328635 410.83750507 122.32591634 116.46492725\n",
      " 121.81868188]\n"
     ]
    },
    {
     "name": "stderr",
     "output_type": "stream",
     "text": [
      "\r",
      "Fitting data, inverse Abel transforming, and measuring densities:  64%|███▊  | 84/132 [33:37<19:42, 24.63s/it]"
     ]
    },
    {
     "name": "stdout",
     "output_type": "stream",
     "text": [
      "The chain is shorter than 50 times the integrated autocorrelation time for 5 parameter(s). Use this estimate with caution and run a longer chain!\n",
      "N/50 = 400;\n",
      "tau: [317.20279495 533.18000647 432.33669121 415.64391692 447.26033797\n",
      " 501.39020683]\n"
     ]
    },
    {
     "name": "stderr",
     "output_type": "stream",
     "text": [
      "\r",
      "Fitting data, inverse Abel transforming, and measuring densities:  64%|███▊  | 85/132 [34:01<19:07, 24.42s/it]"
     ]
    },
    {
     "name": "stdout",
     "output_type": "stream",
     "text": [
      "The chain is shorter than 50 times the integrated autocorrelation time for 6 parameter(s). Use this estimate with caution and run a longer chain!\n",
      "N/50 = 400;\n",
      "tau: [2181.95379571 1167.87850868 2328.9179954  2039.7527987  2254.27711081\n",
      " 2287.82232566]\n"
     ]
    },
    {
     "name": "stderr",
     "output_type": "stream",
     "text": [
      "Fitting data, inverse Abel transforming, and measuring densities:  66%|███▉  | 87/132 [34:48<17:49, 23.77s/it]"
     ]
    },
    {
     "name": "stdout",
     "output_type": "stream",
     "text": [
      "The chain is shorter than 50 times the integrated autocorrelation time for 1 parameter(s). Use this estimate with caution and run a longer chain!\n",
      "N/50 = 400;\n",
      "tau: [258.56744887 465.66155883 342.31949011 285.78284144 270.52592132\n",
      " 342.31636383]\n"
     ]
    },
    {
     "name": "stderr",
     "output_type": "stream",
     "text": [
      "Fitting data, inverse Abel transforming, and measuring densities:  67%|████  | 89/132 [35:37<17:18, 24.16s/it]"
     ]
    },
    {
     "name": "stdout",
     "output_type": "stream",
     "text": [
      "The chain is shorter than 50 times the integrated autocorrelation time for 4 parameter(s). Use this estimate with caution and run a longer chain!\n",
      "N/50 = 400;\n",
      "tau: [ 266.17258345 1514.91726335 1023.02935978  333.48051507 1391.9237531\n",
      " 1019.61247703]\n"
     ]
    },
    {
     "name": "stderr",
     "output_type": "stream",
     "text": [
      "Fitting data, inverse Abel transforming, and measuring densities:  69%|████▏ | 91/132 [36:27<16:58, 24.84s/it]"
     ]
    },
    {
     "name": "stdout",
     "output_type": "stream",
     "text": [
      "The chain is shorter than 50 times the integrated autocorrelation time for 4 parameter(s). Use this estimate with caution and run a longer chain!\n",
      "N/50 = 400;\n",
      "tau: [415.13430191 162.11825139 423.98092654 364.43175947 412.08436809\n",
      " 537.5222037 ]\n"
     ]
    },
    {
     "name": "stderr",
     "output_type": "stream",
     "text": [
      "/its/home/dt237/.conda/envs/dev_xga/lib/python3.8/site-packages/astropy/units/quantity.py:477: RuntimeWarning: invalid value encountered in sqrt\n",
      "  result = super().__array_ufunc__(function, method, *arrays, **kwargs)\n",
      "/mnt/pact/dt237/code/PycharmProjects/XGA/xga/sourcetools/density.py:531: UserWarning: One or more of the quantities passed to the init of SDSSXCS-4313's density profile has a NaN or Inf value in it.\n",
      "  warn(\"One or more of the quantities passed to the init of {}'s density profile has a NaN or Inf value\"\n",
      "\r",
      "Fitting data, inverse Abel transforming, and measuring densities:  70%|████▏ | 92/132 [36:50<16:10, 24.27s/it]"
     ]
    },
    {
     "name": "stdout",
     "output_type": "stream",
     "text": [
      "The chain is shorter than 50 times the integrated autocorrelation time for 6 parameter(s). Use this estimate with caution and run a longer chain!\n",
      "N/50 = 400;\n",
      "tau: [ 934.76816167  515.6620811  1979.95790679  761.62765361  723.74998475\n",
      " 1961.77188187]\n"
     ]
    },
    {
     "name": "stderr",
     "output_type": "stream",
     "text": [
      "Fitting data, inverse Abel transforming, and measuring densities:  72%|████▎ | 95/132 [38:10<15:36, 25.30s/it]"
     ]
    },
    {
     "name": "stdout",
     "output_type": "stream",
     "text": [
      "The chain is shorter than 50 times the integrated autocorrelation time for 2 parameter(s). Use this estimate with caution and run a longer chain!\n",
      "N/50 = 400;\n",
      "tau: [242.54273401 408.57509715 931.58814374 207.15020845 177.58963027\n",
      " 290.51767816]\n"
     ]
    },
    {
     "name": "stderr",
     "output_type": "stream",
     "text": [
      "Fitting data, inverse Abel transforming, and measuring densities:  74%|████▍ | 98/132 [39:27<14:17, 25.21s/it]"
     ]
    },
    {
     "name": "stdout",
     "output_type": "stream",
     "text": [
      "The chain is shorter than 50 times the integrated autocorrelation time for 4 parameter(s). Use this estimate with caution and run a longer chain!\n",
      "N/50 = 400;\n",
      "tau: [ 389.60181954 1056.90347311  422.07244587  348.46008351  855.5293802\n",
      "  463.17304674]\n"
     ]
    },
    {
     "name": "stderr",
     "output_type": "stream",
     "text": [
      "Fitting data, inverse Abel transforming, and measuring densities:  76%|███▊ | 100/132 [40:23<14:14, 26.69s/it]"
     ]
    },
    {
     "name": "stdout",
     "output_type": "stream",
     "text": [
      "The chain is shorter than 50 times the integrated autocorrelation time for 6 parameter(s). Use this estimate with caution and run a longer chain!\n",
      "N/50 = 400;\n",
      "tau: [1165.59534645  967.5541441  1791.76234362 1854.03096903 1855.94333446\n",
      " 1731.54546437]\n"
     ]
    },
    {
     "name": "stderr",
     "output_type": "stream",
     "text": [
      "Fitting data, inverse Abel transforming, and measuring densities:  77%|███▊ | 101/132 [40:51<14:00, 27.12s/it]/its/home/dt237/.conda/envs/dev_xga/lib/python3.8/site-packages/astropy/units/quantity.py:477: RuntimeWarning: invalid value encountered in sqrt\n",
      "  result = super().__array_ufunc__(function, method, *arrays, **kwargs)\n",
      "/mnt/pact/dt237/code/PycharmProjects/XGA/xga/sourcetools/density.py:531: UserWarning: One or more of the quantities passed to the init of SDSSXCS-137's density profile has a NaN or Inf value in it.\n",
      "  warn(\"One or more of the quantities passed to the init of {}'s density profile has a NaN or Inf value\"\n",
      "Fitting data, inverse Abel transforming, and measuring densities:  77%|███▊ | 102/132 [41:16<13:10, 26.37s/it]"
     ]
    },
    {
     "name": "stdout",
     "output_type": "stream",
     "text": [
      "The chain is shorter than 50 times the integrated autocorrelation time for 6 parameter(s). Use this estimate with caution and run a longer chain!\n",
      "N/50 = 400;\n",
      "tau: [1089.47550129  681.33172388 1872.25442755  407.26310703  471.5278839\n",
      " 1855.34671012]\n",
      "The chain is shorter than 50 times the integrated autocorrelation time for 6 parameter(s). Use this estimate with caution and run a longer chain!\n",
      "N/50 = 400;\n",
      "tau: [ 994.03644675  539.05936059 1665.52927644 1289.1441007  1195.0641856\n",
      " 1599.76712733]\n"
     ]
    },
    {
     "name": "stderr",
     "output_type": "stream",
     "text": [
      "Fitting data, inverse Abel transforming, and measuring densities:  80%|███▉ | 105/132 [42:35<11:47, 26.19s/it]"
     ]
    },
    {
     "name": "stdout",
     "output_type": "stream",
     "text": [
      "The chain is shorter than 50 times the integrated autocorrelation time for 1 parameter(s). Use this estimate with caution and run a longer chain!\n",
      "N/50 = 400;\n",
      "tau: [224.5740296  193.76411298 287.85392728 408.43849551 376.63895514\n",
      " 252.74760021]\n"
     ]
    },
    {
     "name": "stderr",
     "output_type": "stream",
     "text": [
      "\r",
      "Fitting data, inverse Abel transforming, and measuring densities:  80%|████ | 106/132 [43:01<11:21, 26.22s/it]"
     ]
    },
    {
     "name": "stdout",
     "output_type": "stream",
     "text": [
      "The chain is shorter than 50 times the integrated autocorrelation time for 6 parameter(s). Use this estimate with caution and run a longer chain!\n",
      "N/50 = 400;\n",
      "tau: [1069.53698189 1016.88109113 1242.44327164 1191.95275263 1201.14979286\n",
      " 1233.45092891]\n"
     ]
    },
    {
     "name": "stderr",
     "output_type": "stream",
     "text": [
      "Fitting data, inverse Abel transforming, and measuring densities:  82%|████ | 108/132 [43:52<10:17, 25.71s/it]"
     ]
    },
    {
     "name": "stdout",
     "output_type": "stream",
     "text": [
      "The chain is shorter than 50 times the integrated autocorrelation time for 2 parameter(s). Use this estimate with caution and run a longer chain!\n",
      "N/50 = 400;\n",
      "tau: [302.77572041 471.76765482 308.92470956 256.70792016 283.09604152\n",
      " 421.16689115]\n"
     ]
    },
    {
     "name": "stderr",
     "output_type": "stream",
     "text": [
      "\r",
      "Fitting data, inverse Abel transforming, and measuring densities:  83%|████▏| 109/132 [44:20<10:05, 26.32s/it]"
     ]
    },
    {
     "name": "stdout",
     "output_type": "stream",
     "text": [
      "The chain is shorter than 50 times the integrated autocorrelation time for 4 parameter(s). Use this estimate with caution and run a longer chain!\n",
      "N/50 = 400;\n",
      "tau: [543.94094448 557.10465904 494.33698504 235.35696814 304.3137845\n",
      " 531.06826582]\n"
     ]
    },
    {
     "name": "stderr",
     "output_type": "stream",
     "text": [
      "/its/home/dt237/.conda/envs/dev_xga/lib/python3.8/site-packages/astropy/units/quantity.py:477: RuntimeWarning: invalid value encountered in sqrt\n",
      "  result = super().__array_ufunc__(function, method, *arrays, **kwargs)\n",
      "/mnt/pact/dt237/code/PycharmProjects/XGA/xga/sourcetools/density.py:531: UserWarning: One or more of the quantities passed to the init of SDSSXCS-30950's density profile has a NaN or Inf value in it.\n",
      "  warn(\"One or more of the quantities passed to the init of {}'s density profile has a NaN or Inf value\"\n",
      "\r",
      "Fitting data, inverse Abel transforming, and measuring densities:  83%|████▏| 110/132 [44:41<09:02, 24.67s/it]"
     ]
    },
    {
     "name": "stdout",
     "output_type": "stream",
     "text": [
      "The chain is shorter than 50 times the integrated autocorrelation time for 2 parameter(s). Use this estimate with caution and run a longer chain!\n",
      "N/50 = 400;\n",
      "tau: [ 304.77901225  286.75647023 2131.24436558  195.44489097  243.75836701\n",
      " 1784.88962959]\n"
     ]
    },
    {
     "name": "stderr",
     "output_type": "stream",
     "text": [
      "Fitting data, inverse Abel transforming, and measuring densities:  86%|████▎| 113/132 [46:01<08:14, 26.02s/it]"
     ]
    },
    {
     "name": "stdout",
     "output_type": "stream",
     "text": [
      "The chain is shorter than 50 times the integrated autocorrelation time for 6 parameter(s). Use this estimate with caution and run a longer chain!\n",
      "N/50 = 400;\n",
      "tau: [579.43500533 593.26530738 621.55594375 485.17519519 641.26589513\n",
      " 649.90297215]\n"
     ]
    },
    {
     "name": "stderr",
     "output_type": "stream",
     "text": [
      "Fitting data, inverse Abel transforming, and measuring densities:  87%|████▎| 115/132 [46:48<06:57, 24.54s/it]"
     ]
    },
    {
     "name": "stdout",
     "output_type": "stream",
     "text": [
      "The chain is shorter than 50 times the integrated autocorrelation time for 6 parameter(s). Use this estimate with caution and run a longer chain!\n",
      "N/50 = 400;\n",
      "tau: [1938.17407283 1142.53440971 2060.33373214 1291.31148444  806.8857596\n",
      " 2057.20585415]\n"
     ]
    },
    {
     "name": "stderr",
     "output_type": "stream",
     "text": [
      "\r",
      "Fitting data, inverse Abel transforming, and measuring densities:  88%|████▍| 116/132 [47:15<06:43, 25.24s/it]"
     ]
    },
    {
     "name": "stdout",
     "output_type": "stream",
     "text": [
      "The chain is shorter than 50 times the integrated autocorrelation time for 5 parameter(s). Use this estimate with caution and run a longer chain!\n",
      "N/50 = 400;\n",
      "tau: [510.5043467  539.0605876  388.96528271 536.90148039 547.75243075\n",
      " 539.569834  ]\n"
     ]
    },
    {
     "name": "stderr",
     "output_type": "stream",
     "text": [
      "\r",
      "Fitting data, inverse Abel transforming, and measuring densities:  89%|████▍| 117/132 [47:39<06:15, 25.01s/it]"
     ]
    },
    {
     "name": "stdout",
     "output_type": "stream",
     "text": [
      "The chain is shorter than 50 times the integrated autocorrelation time for 5 parameter(s). Use this estimate with caution and run a longer chain!\n",
      "N/50 = 400;\n",
      "tau: [1382.71565347 1349.09907931 2373.96003564 1955.23094818  211.5038595\n",
      " 1642.55544787]\n"
     ]
    },
    {
     "name": "stderr",
     "output_type": "stream",
     "text": [
      "\r",
      "Fitting data, inverse Abel transforming, and measuring densities:  89%|████▍| 118/132 [48:07<06:00, 25.76s/it]"
     ]
    },
    {
     "name": "stdout",
     "output_type": "stream",
     "text": [
      "The chain is shorter than 50 times the integrated autocorrelation time for 5 parameter(s). Use this estimate with caution and run a longer chain!\n",
      "N/50 = 400;\n",
      "tau: [ 941.98465479  344.81600106 1390.30323717 1481.19623268 1464.51339293\n",
      " 1390.4450807 ]\n"
     ]
    },
    {
     "name": "stderr",
     "output_type": "stream",
     "text": [
      "Fitting data, inverse Abel transforming, and measuring densities:  91%|████▌| 120/132 [48:56<04:58, 24.91s/it]"
     ]
    },
    {
     "name": "stdout",
     "output_type": "stream",
     "text": [
      "The chain is shorter than 50 times the integrated autocorrelation time for 6 parameter(s). Use this estimate with caution and run a longer chain!\n",
      "N/50 = 400;\n",
      "tau: [ 924.79347549 1247.66329796 1293.29064498 1432.93187899 1643.68140977\n",
      " 1485.47236703]\n"
     ]
    },
    {
     "name": "stderr",
     "output_type": "stream",
     "text": [
      "/its/home/dt237/.conda/envs/dev_xga/lib/python3.8/site-packages/astropy/units/quantity.py:477: RuntimeWarning: invalid value encountered in sqrt\n",
      "  result = super().__array_ufunc__(function, method, *arrays, **kwargs)\n",
      "/mnt/pact/dt237/code/PycharmProjects/XGA/xga/sourcetools/density.py:531: UserWarning: One or more of the quantities passed to the init of SDSSXCS-62's density profile has a NaN or Inf value in it.\n",
      "  warn(\"One or more of the quantities passed to the init of {}'s density profile has a NaN or Inf value\"\n",
      "\r",
      "Fitting data, inverse Abel transforming, and measuring densities:  92%|████▌| 121/132 [49:18<04:24, 24.04s/it]"
     ]
    },
    {
     "name": "stdout",
     "output_type": "stream",
     "text": [
      "The chain is shorter than 50 times the integrated autocorrelation time for 6 parameter(s). Use this estimate with caution and run a longer chain!\n",
      "N/50 = 400;\n",
      "tau: [ 505.34838618  718.55682189 1578.4732825   829.92224341 1163.08986266\n",
      " 1575.53075517]\n"
     ]
    },
    {
     "name": "stderr",
     "output_type": "stream",
     "text": [
      "\r",
      "Fitting data, inverse Abel transforming, and measuring densities:  92%|████▌| 122/132 [49:46<04:10, 25.00s/it]"
     ]
    },
    {
     "name": "stdout",
     "output_type": "stream",
     "text": [
      "The chain is shorter than 50 times the integrated autocorrelation time for 6 parameter(s). Use this estimate with caution and run a longer chain!\n",
      "N/50 = 400;\n",
      "tau: [785.58532836 570.06063865 651.45828945 882.62370402 912.82197247\n",
      " 895.19765958]\n"
     ]
    },
    {
     "name": "stderr",
     "output_type": "stream",
     "text": [
      "/its/home/dt237/.conda/envs/dev_xga/lib/python3.8/site-packages/astropy/units/quantity.py:477: RuntimeWarning: invalid value encountered in sqrt\n",
      "  result = super().__array_ufunc__(function, method, *arrays, **kwargs)\n",
      "/mnt/pact/dt237/code/PycharmProjects/XGA/xga/sourcetools/density.py:531: UserWarning: One or more of the quantities passed to the init of SDSSXCS-765's density profile has a NaN or Inf value in it.\n",
      "  warn(\"One or more of the quantities passed to the init of {}'s density profile has a NaN or Inf value\"\n",
      "\r",
      "Fitting data, inverse Abel transforming, and measuring densities:  93%|████▋| 123/132 [50:07<03:34, 23.80s/it]"
     ]
    },
    {
     "name": "stdout",
     "output_type": "stream",
     "text": [
      "The chain is shorter than 50 times the integrated autocorrelation time for 6 parameter(s). Use this estimate with caution and run a longer chain!\n",
      "N/50 = 400;\n",
      "tau: [ 580.30026161 1263.92558573  616.6955234   491.32796587  958.08146103\n",
      "  771.48295484]\n"
     ]
    },
    {
     "name": "stderr",
     "output_type": "stream",
     "text": [
      "\r",
      "Fitting data, inverse Abel transforming, and measuring densities:  94%|████▋| 124/132 [50:31<03:13, 24.14s/it]"
     ]
    },
    {
     "name": "stdout",
     "output_type": "stream",
     "text": [
      "The chain is shorter than 50 times the integrated autocorrelation time for 6 parameter(s). Use this estimate with caution and run a longer chain!\n",
      "N/50 = 400;\n",
      "tau: [1337.34011686  950.29326636 1184.92112792  949.90625513 1030.45511548\n",
      " 1227.06958986]\n"
     ]
    },
    {
     "name": "stderr",
     "output_type": "stream",
     "text": [
      "Fitting data, inverse Abel transforming, and measuring densities:  95%|████▊| 126/132 [51:21<02:25, 24.29s/it]"
     ]
    },
    {
     "name": "stdout",
     "output_type": "stream",
     "text": [
      "The chain is shorter than 50 times the integrated autocorrelation time for 6 parameter(s). Use this estimate with caution and run a longer chain!\n",
      "N/50 = 400;\n",
      "tau: [ 535.97406745  589.51101696 1881.09573087 1703.37815334 1632.58096077\n",
      " 1808.45307766]\n"
     ]
    },
    {
     "name": "stderr",
     "output_type": "stream",
     "text": [
      "Fitting data, inverse Abel transforming, and measuring densities:  96%|████▊| 127/132 [51:48<02:05, 25.10s/it]/its/home/dt237/.conda/envs/dev_xga/lib/python3.8/site-packages/astropy/units/quantity.py:477: RuntimeWarning: invalid value encountered in sqrt\n",
      "  result = super().__array_ufunc__(function, method, *arrays, **kwargs)\n",
      "/mnt/pact/dt237/code/PycharmProjects/XGA/xga/sourcetools/density.py:531: UserWarning: One or more of the quantities passed to the init of SDSSXCS-2092's density profile has a NaN or Inf value in it.\n",
      "  warn(\"One or more of the quantities passed to the init of {}'s density profile has a NaN or Inf value\"\n",
      "Fitting data, inverse Abel transforming, and measuring densities:  97%|████▊| 128/132 [52:11<01:37, 24.45s/it]"
     ]
    },
    {
     "name": "stdout",
     "output_type": "stream",
     "text": [
      "The chain is shorter than 50 times the integrated autocorrelation time for 4 parameter(s). Use this estimate with caution and run a longer chain!\n",
      "N/50 = 400;\n",
      "tau: [ 297.81082975  374.50391328 1436.32809913 1526.52247932 1636.33789335\n",
      " 1339.21271832]\n"
     ]
    },
    {
     "name": "stderr",
     "output_type": "stream",
     "text": [
      "/its/home/dt237/.conda/envs/dev_xga/lib/python3.8/site-packages/astropy/units/quantity.py:477: RuntimeWarning: invalid value encountered in sqrt\n",
      "  result = super().__array_ufunc__(function, method, *arrays, **kwargs)\n",
      "/mnt/pact/dt237/code/PycharmProjects/XGA/xga/sourcetools/density.py:531: UserWarning: One or more of the quantities passed to the init of SDSSXCS-17923's density profile has a NaN or Inf value in it.\n",
      "  warn(\"One or more of the quantities passed to the init of {}'s density profile has a NaN or Inf value\"\n",
      "\r",
      "Fitting data, inverse Abel transforming, and measuring densities:  98%|████▉| 129/132 [52:31<01:09, 23.14s/it]"
     ]
    },
    {
     "name": "stdout",
     "output_type": "stream",
     "text": [
      "The chain is shorter than 50 times the integrated autocorrelation time for 4 parameter(s). Use this estimate with caution and run a longer chain!\n",
      "N/50 = 400;\n",
      "tau: [297.01911809 575.27305164 871.7649154  313.80651493 723.27603625\n",
      " 743.52907353]\n"
     ]
    },
    {
     "name": "stderr",
     "output_type": "stream",
     "text": [
      "\r",
      "Fitting data, inverse Abel transforming, and measuring densities:  98%|████▉| 130/132 [52:54<00:46, 23.25s/it]"
     ]
    },
    {
     "name": "stdout",
     "output_type": "stream",
     "text": [
      "The chain is shorter than 50 times the integrated autocorrelation time for 6 parameter(s). Use this estimate with caution and run a longer chain!\n",
      "N/50 = 400;\n",
      "tau: [ 807.75217269 1010.51361847 1329.51610957 1126.17461885 1215.83572781\n",
      " 1273.74049696]\n"
     ]
    },
    {
     "name": "stderr",
     "output_type": "stream",
     "text": [
      "\r",
      "Fitting data, inverse Abel transforming, and measuring densities:  99%|████▉| 131/132 [53:19<00:23, 23.68s/it]"
     ]
    },
    {
     "name": "stdout",
     "output_type": "stream",
     "text": [
      "The chain is shorter than 50 times the integrated autocorrelation time for 5 parameter(s). Use this estimate with caution and run a longer chain!\n",
      "N/50 = 400;\n",
      "tau: [389.87521697 827.92928115 838.51545217 449.16447775 516.90367733\n",
      " 678.85533074]\n"
     ]
    },
    {
     "name": "stderr",
     "output_type": "stream",
     "text": [
      "Fitting data, inverse Abel transforming, and measuring densities: 100%|█████| 132/132 [53:42<00:00, 24.42s/it]\n",
      "Generating SDSSXCS-124 hydrostatic mass profile:   0%|                                | 0/150 [00:00<?, ?it/s]"
     ]
    },
    {
     "name": "stdout",
     "output_type": "stream",
     "text": [
      "The chain is shorter than 50 times the integrated autocorrelation time for 1 parameter(s). Use this estimate with caution and run a longer chain!\n",
      "N/50 = 400;\n",
      "tau: [260.08457196 496.51285337 267.19366552 287.35399303 257.36106917\n",
      " 206.39806475]\n",
      "The chain is shorter than 50 times the integrated autocorrelation time for 1 parameter(s). Use this estimate with caution and run a longer chain!\n",
      "N/50 = 400;\n",
      "tau: [104.4171472  121.3954221  689.40794187 114.15783576 131.94009968\n",
      " 208.32827536]\n"
     ]
    },
    {
     "name": "stderr",
     "output_type": "stream",
     "text": [
      "Generating SDSSXCS-2789 hydrostatic mass profile:   1%|▏                    | 1/150 [00:49<2:01:44, 49.02s/it]"
     ]
    },
    {
     "name": "stdout",
     "output_type": "stream",
     "text": [
      "The chain is shorter than 50 times the integrated autocorrelation time for 3 parameter(s). Use this estimate with caution and run a longer chain!\n",
      "N/50 = 400;\n",
      "tau: [ 441.66978303 1363.0458458  1151.99753587  343.29006503  242.78862002\n",
      "  398.36342133]\n"
     ]
    },
    {
     "name": "stderr",
     "output_type": "stream",
     "text": [
      "Generating SDSSXCS-290 hydrostatic mass profile:   1%|▎                     | 2/150 [01:41<2:06:27, 51.26s/it]"
     ]
    },
    {
     "name": "stdout",
     "output_type": "stream",
     "text": [
      "The chain is shorter than 50 times the integrated autocorrelation time for 3 parameter(s). Use this estimate with caution and run a longer chain!\n",
      "N/50 = 400;\n",
      "tau: [ 351.96545826 1740.14497526 1643.26458384  290.36222965  298.16647621\n",
      "  623.89200617]\n"
     ]
    },
    {
     "name": "stderr",
     "output_type": "stream",
     "text": [
      "Generating SDSSXCS-1018 hydrostatic mass profile:   2%|▍                    | 3/150 [02:26<1:58:27, 48.35s/it]"
     ]
    },
    {
     "name": "stdout",
     "output_type": "stream",
     "text": [
      "The chain is shorter than 50 times the integrated autocorrelation time for 6 parameter(s). Use this estimate with caution and run a longer chain!\n",
      "N/50 = 400;\n",
      "tau: [1198.13981173  828.1785125   401.72410017 1154.13331448 1158.11942049\n",
      "  589.08246979]\n"
     ]
    },
    {
     "name": "stderr",
     "output_type": "stream",
     "text": [
      "Generating SDSSXCS-134 hydrostatic mass profile:   3%|▌                     | 4/150 [03:15<1:58:02, 48.51s/it]"
     ]
    },
    {
     "name": "stdout",
     "output_type": "stream",
     "text": [
      "The chain is shorter than 50 times the integrated autocorrelation time for 1 parameter(s). Use this estimate with caution and run a longer chain!\n",
      "N/50 = 400;\n",
      "tau: [  98.44398562  102.1445116  1228.66543286  113.29077437  137.50465838\n",
      "  109.51704473]\n",
      "The chain is shorter than 50 times the integrated autocorrelation time for 3 parameter(s). Use this estimate with caution and run a longer chain!\n",
      "N/50 = 400;\n",
      "tau: [ 513.75463163 1052.9990905   306.02749861  824.68784081  303.63199248\n",
      "  273.13012387]\n",
      "The chain is shorter than 50 times the integrated autocorrelation time for 6 parameter(s). Use this estimate with caution and run a longer chain!\n",
      "N/50 = 400;\n",
      "tau: [2089.06936388 2137.70603391 1656.75585215  846.91799089 2087.07129667\n",
      " 1820.99815753]\n"
     ]
    },
    {
     "name": "stderr",
     "output_type": "stream",
     "text": [
      "Generating SDSSXCS-119 hydrostatic mass profile:   3%|▋                     | 5/150 [04:04<1:58:02, 48.85s/it]/mnt/pact/dt237/code/PycharmProjects/XGA/xga/sourcetools/mass.py:240: UserWarning: The density profile for SDSSXCS-119 could not be generated\n",
      "  warn(\"The density profile for {} could not be generated\".format(src.name))\n",
      "Generating SDSSXCS-209 hydrostatic mass profile:   4%|▉                     | 6/150 [04:04<1:57:14, 48.85s/it]"
     ]
    },
    {
     "name": "stdout",
     "output_type": "stream",
     "text": [
      "The chain is shorter than 50 times the integrated autocorrelation time for 3 parameter(s). Use this estimate with caution and run a longer chain!\n",
      "N/50 = 400;\n",
      "tau: [ 372.95998467 1026.09587633  401.82325813  763.92979894  285.57893972\n",
      "  248.9970029 ]\n",
      "The chain is shorter than 50 times the integrated autocorrelation time for 1 parameter(s). Use this estimate with caution and run a longer chain!\n",
      "N/50 = 400;\n",
      "tau: [114.67641446 132.45463735 545.3189743  107.7503532  137.15922688\n",
      " 134.90833632]\n"
     ]
    },
    {
     "name": "stderr",
     "output_type": "stream",
     "text": [
      "Generating SDSSXCS-71 hydrostatic mass profile:   5%|█▏                     | 8/150 [05:45<1:36:06, 40.61s/it]"
     ]
    },
    {
     "name": "stdout",
     "output_type": "stream",
     "text": [
      "The chain is shorter than 50 times the integrated autocorrelation time for 6 parameter(s). Use this estimate with caution and run a longer chain!\n",
      "N/50 = 400;\n",
      "tau: [649.86607281 869.67062818 475.8790708  682.12127328 637.93856297\n",
      " 641.35451218]\n",
      "The chain is shorter than 50 times the integrated autocorrelation time for 1 parameter(s). Use this estimate with caution and run a longer chain!\n",
      "N/50 = 400;\n",
      "tau: [106.23114241 115.39962435 782.32282542 120.2385387  119.38428556\n",
      " 121.71904897]\n"
     ]
    },
    {
     "name": "stderr",
     "output_type": "stream",
     "text": [
      "Generating SDSSXCS-5020 hydrostatic mass profile:   6%|█▎                   | 9/150 [06:36<1:41:53, 43.36s/it]"
     ]
    },
    {
     "name": "stdout",
     "output_type": "stream",
     "text": [
      "The chain is shorter than 50 times the integrated autocorrelation time for 2 parameter(s). Use this estimate with caution and run a longer chain!\n",
      "N/50 = 400;\n",
      "tau: [ 301.21211256  282.81057306  218.6962332   938.74336762  228.45035652\n",
      " 1400.58853672]\n"
     ]
    },
    {
     "name": "stderr",
     "output_type": "stream",
     "text": [
      "Generating SDSSXCS-586 hydrostatic mass profile:   7%|█▌                   | 11/150 [07:24<1:43:27, 44.66s/it]"
     ]
    },
    {
     "name": "stdout",
     "output_type": "stream",
     "text": [
      "The chain is shorter than 50 times the integrated autocorrelation time for 5 parameter(s). Use this estimate with caution and run a longer chain!\n",
      "N/50 = 400;\n",
      "tau: [616.89880909 618.1829438  454.84128609 494.48718994 314.02190368\n",
      " 618.8167958 ]\n"
     ]
    },
    {
     "name": "stderr",
     "output_type": "stream",
     "text": [
      "Generating SDSSXCS-11331 hydrostatic mass profile:   8%|█▌                 | 12/150 [08:08<1:19:34, 34.60s/it]"
     ]
    },
    {
     "name": "stdout",
     "output_type": "stream",
     "text": [
      "The chain is shorter than 50 times the integrated autocorrelation time for 6 parameter(s). Use this estimate with caution and run a longer chain!\n",
      "N/50 = 400;\n",
      "tau: [ 646.93142017 1134.1476646   684.36755874 1133.21622652  621.39299952\n",
      "  875.06929406]\n",
      "The chain is shorter than 50 times the integrated autocorrelation time for 1 parameter(s). Use this estimate with caution and run a longer chain!\n",
      "N/50 = 400;\n",
      "tau: [400.99101694 378.22915846 205.33027999 370.62394726 229.01297695\n",
      " 294.3638341 ]\n"
     ]
    },
    {
     "name": "stderr",
     "output_type": "stream",
     "text": [
      "Generating SDSSXCS-31144 hydrostatic mass profile:   9%|█▊                 | 14/150 [08:54<1:24:27, 37.26s/it]/mnt/pact/dt237/code/PycharmProjects/XGA/xga/sourcetools/mass.py:240: UserWarning: The density profile for SDSSXCS-31144 could not be generated\n",
      "  warn(\"The density profile for {} could not be generated\".format(src.name))\n",
      "Generating SDSSXCS-239 hydrostatic mass profile:  10%|██                   | 15/150 [08:54<1:23:49, 37.26s/it]"
     ]
    },
    {
     "name": "stdout",
     "output_type": "stream",
     "text": [
      "The chain is shorter than 50 times the integrated autocorrelation time for 6 parameter(s). Use this estimate with caution and run a longer chain!\n",
      "N/50 = 400;\n",
      "tau: [1077.2995994   566.75667456  804.73040749 1623.19177859  981.71105404\n",
      " 1154.0756993 ]\n",
      "The chain is shorter than 50 times the integrated autocorrelation time for 5 parameter(s). Use this estimate with caution and run a longer chain!\n",
      "N/50 = 400;\n",
      "tau: [ 428.56751716 1247.38455295 1469.79701213  471.27193666  283.18572834\n",
      "  495.32275821]\n",
      "The chain is shorter than 50 times the integrated autocorrelation time for 1 parameter(s). Use this estimate with caution and run a longer chain!\n",
      "N/50 = 400;\n",
      "tau: [100.48199058 103.85244704 817.86155239 103.3275211  122.96179548\n",
      " 108.62561288]\n"
     ]
    },
    {
     "name": "stderr",
     "output_type": "stream",
     "text": [
      "Generating SDSSXCS-395 hydrostatic mass profile:  11%|██▍                    | 16/150 [09:42<59:11, 26.50s/it]"
     ]
    },
    {
     "name": "stdout",
     "output_type": "stream",
     "text": [
      "The chain is shorter than 50 times the integrated autocorrelation time for 1 parameter(s). Use this estimate with caution and run a longer chain!\n",
      "N/50 = 400;\n",
      "tau: [313.44003284 380.03418797 413.47897599 307.25508144 215.85294867\n",
      " 221.10488567]\n",
      "The chain is shorter than 50 times the integrated autocorrelation time for 3 parameter(s). Use this estimate with caution and run a longer chain!\n",
      "N/50 = 400;\n",
      "tau: [ 363.62094849 1254.84667255 1253.47487767  292.20714496  359.63112121\n",
      " 1313.43804028]\n"
     ]
    },
    {
     "name": "stderr",
     "output_type": "stream",
     "text": [
      "Generating SDSSXCS-593 hydrostatic mass profile:  12%|██▌                  | 18/150 [11:23<1:17:48, 35.37s/it]"
     ]
    },
    {
     "name": "stdout",
     "output_type": "stream",
     "text": [
      "The chain is shorter than 50 times the integrated autocorrelation time for 5 parameter(s). Use this estimate with caution and run a longer chain!\n",
      "N/50 = 400;\n",
      "tau: [ 591.57531038 1303.9413267   529.973834    609.59944629  367.5663503\n",
      "  469.02865848]\n",
      "The chain is shorter than 50 times the integrated autocorrelation time for 2 parameter(s). Use this estimate with caution and run a longer chain!\n",
      "N/50 = 400;\n",
      "tau: [691.59209914 278.75500157 297.47894418 467.72484844 266.04141567\n",
      " 327.54629009]\n"
     ]
    },
    {
     "name": "stderr",
     "output_type": "stream",
     "text": [
      "Generating SDSSXCS-7190 hydrostatic mass profile:  13%|██▋                 | 20/150 [12:52<1:25:09, 39.30s/it]/mnt/pact/dt237/code/PycharmProjects/XGA/xga/sourcetools/mass.py:240: UserWarning: The density profile for SDSSXCS-7190 could not be generated\n",
      "  warn(\"The density profile for {} could not be generated\".format(src.name))\n",
      "Generating SDSSXCS-7783 hydrostatic mass profile:  14%|██▊                 | 21/150 [12:52<1:24:30, 39.30s/it]"
     ]
    },
    {
     "name": "stdout",
     "output_type": "stream",
     "text": [
      "The chain is shorter than 50 times the integrated autocorrelation time for 5 parameter(s). Use this estimate with caution and run a longer chain!\n",
      "N/50 = 400;\n",
      "tau: [648.23334432 983.47993711 661.82207629 820.11884963 337.7955198\n",
      " 844.52645384]\n",
      "The chain is shorter than 50 times the integrated autocorrelation time for 1 parameter(s). Use this estimate with caution and run a longer chain!\n",
      "N/50 = 400;\n",
      "tau: [100.15462468 100.76336158 400.12914587  92.434187    90.74861595\n",
      "  95.31748379]\n"
     ]
    },
    {
     "name": "stderr",
     "output_type": "stream",
     "text": [
      "Generating SDSSXCS-5743 hydrostatic mass profile:  15%|██▉                 | 22/150 [13:45<1:12:11, 33.84s/it]/mnt/pact/dt237/code/PycharmProjects/XGA/xga/sourcetools/mass.py:240: UserWarning: The density profile for SDSSXCS-5743 could not be generated\n",
      "  warn(\"The density profile for {} could not be generated\".format(src.name))\n",
      "Generating SDSSXCS-29799 hydrostatic mass profile:  16%|███                | 24/150 [14:31<1:02:35, 29.81s/it]/mnt/pact/dt237/code/PycharmProjects/XGA/xga/sourcetools/mass.py:240: UserWarning: The density profile for SDSSXCS-29799 could not be generated\n",
      "  warn(\"The density profile for {} could not be generated\".format(src.name))\n",
      "Generating SDSSXCS-852 hydrostatic mass profile:  17%|███▌                 | 25/150 [14:31<1:02:05, 29.81s/it]"
     ]
    },
    {
     "name": "stdout",
     "output_type": "stream",
     "text": [
      "The chain is shorter than 50 times the integrated autocorrelation time for 6 parameter(s). Use this estimate with caution and run a longer chain!\n",
      "N/50 = 400;\n",
      "tau: [1725.89208933 1923.66898831 2308.16239909 1436.48809641  770.12468097\n",
      " 2188.08434896]\n",
      "The chain is shorter than 50 times the integrated autocorrelation time for 1 parameter(s). Use this estimate with caution and run a longer chain!\n",
      "N/50 = 400;\n",
      "tau: [249.39251762 766.36632543 334.76202853 276.98830602 226.1747798\n",
      " 251.75271154]\n",
      "The chain is shorter than 50 times the integrated autocorrelation time for 4 parameter(s). Use this estimate with caution and run a longer chain!\n",
      "N/50 = 400;\n",
      "tau: [244.04143079 662.93501275 566.50865721 638.5248453  281.4691829\n",
      " 708.18338713]\n"
     ]
    },
    {
     "name": "stderr",
     "output_type": "stream",
     "text": [
      "Generating SDSSXCS-5830 hydrostatic mass profile:  17%|███▊                  | 26/150 [15:21<58:08, 28.13s/it]"
     ]
    },
    {
     "name": "stdout",
     "output_type": "stream",
     "text": [
      "The chain is shorter than 50 times the integrated autocorrelation time for 6 parameter(s). Use this estimate with caution and run a longer chain!\n",
      "N/50 = 400;\n",
      "tau: [1502.97824899 1974.52574152 1397.66284227 1600.61265458 1439.4853826\n",
      " 1861.30476276]\n"
     ]
    },
    {
     "name": "stderr",
     "output_type": "stream",
     "text": [
      "Generating SDSSXCS-16227 hydrostatic mass profile:  19%|███▌               | 28/150 [16:08<1:04:54, 31.93s/it]/mnt/pact/dt237/code/PycharmProjects/XGA/xga/sourcetools/mass.py:240: UserWarning: The density profile for SDSSXCS-16227 could not be generated\n",
      "  warn(\"The density profile for {} could not be generated\".format(src.name))\n",
      "Generating SDSSXCS-2984 hydrostatic mass profile:  19%|███▊                | 29/150 [16:08<1:04:22, 31.93s/it]/mnt/pact/dt237/code/PycharmProjects/XGA/xga/sourcetools/mass.py:240: UserWarning: The density profile for SDSSXCS-2984 could not be generated\n",
      "  warn(\"The density profile for {} could not be generated\".format(src.name))\n",
      "Generating SDSSXCS-6955 hydrostatic mass profile:  20%|████                | 30/150 [16:08<1:03:51, 31.93s/it]/mnt/pact/dt237/code/PycharmProjects/XGA/xga/sourcetools/mass.py:240: UserWarning: The density profile for SDSSXCS-6955 could not be generated\n",
      "  warn(\"The density profile for {} could not be generated\".format(src.name))\n",
      "Generating SDSSXCS-64824 hydrostatic mass profile:  21%|███▉               | 31/150 [16:08<1:03:19, 31.93s/it]"
     ]
    },
    {
     "name": "stdout",
     "output_type": "stream",
     "text": [
      "The chain is shorter than 50 times the integrated autocorrelation time for 6 parameter(s). Use this estimate with caution and run a longer chain!\n",
      "N/50 = 400;\n",
      "tau: [ 634.36842038 1422.0721255   879.78499096  698.70383626  685.61715663\n",
      " 1568.08122878]\n"
     ]
    },
    {
     "name": "stderr",
     "output_type": "stream",
     "text": [
      "Generating SDSSXCS-120 hydrostatic mass profile:  22%|█████                  | 33/150 [16:53<36:00, 18.47s/it]"
     ]
    },
    {
     "name": "stdout",
     "output_type": "stream",
     "text": [
      "The chain is shorter than 50 times the integrated autocorrelation time for 5 parameter(s). Use this estimate with caution and run a longer chain!\n",
      "N/50 = 400;\n",
      "tau: [ 639.41261701 2006.11939906 1741.95337031  413.96850309  349.5239233\n",
      "  746.99062873]\n"
     ]
    },
    {
     "name": "stderr",
     "output_type": "stream",
     "text": [
      "Generating SDSSXCS-572 hydrostatic mass profile:  23%|█████▏                 | 34/150 [17:43<38:50, 20.09s/it]"
     ]
    },
    {
     "name": "stdout",
     "output_type": "stream",
     "text": [
      "The chain is shorter than 50 times the integrated autocorrelation time for 3 parameter(s). Use this estimate with caution and run a longer chain!\n",
      "N/50 = 400;\n",
      "tau: [580.99341314 643.08135546 201.29819085 581.25779412 346.80034696\n",
      " 347.98794478]\n",
      "The chain is shorter than 50 times the integrated autocorrelation time for 1 parameter(s). Use this estimate with caution and run a longer chain!\n",
      "N/50 = 400;\n",
      "tau: [106.71691761 109.61733586 499.61385012 115.17772424 119.58785617\n",
      " 102.63319055]\n"
     ]
    },
    {
     "name": "stderr",
     "output_type": "stream",
     "text": [
      "Generating SDSSXCS-226 hydrostatic mass profile:  23%|█████▎                 | 35/150 [18:34<47:21, 24.71s/it]"
     ]
    },
    {
     "name": "stdout",
     "output_type": "stream",
     "text": [
      "The chain is shorter than 50 times the integrated autocorrelation time for 1 parameter(s). Use this estimate with caution and run a longer chain!\n",
      "N/50 = 400;\n",
      "tau: [328.84313071 662.78102501 312.38954251 391.35471624 260.43683178\n",
      " 233.09092767]\n",
      "The chain is shorter than 50 times the integrated autocorrelation time for 1 parameter(s). Use this estimate with caution and run a longer chain!\n",
      "N/50 = 400;\n",
      "tau: [  90.69911283   90.31759363 1543.61944633   97.02349299  124.54266889\n",
      "  105.32842962]\n"
     ]
    },
    {
     "name": "stderr",
     "output_type": "stream",
     "text": [
      "Generating SDSSXCS-22 hydrostatic mass profile:  24%|█████▊                  | 36/150 [19:23<55:20, 29.13s/it]"
     ]
    },
    {
     "name": "stdout",
     "output_type": "stream",
     "text": [
      "The chain is shorter than 50 times the integrated autocorrelation time for 2 parameter(s). Use this estimate with caution and run a longer chain!\n",
      "N/50 = 400;\n",
      "tau: [396.50651168 545.29068553 559.77255185 325.6453827  214.33916217\n",
      " 263.6477213 ]\n"
     ]
    },
    {
     "name": "stderr",
     "output_type": "stream",
     "text": [
      "Generating SDSSXCS-103 hydrostatic mass profile:  25%|█████▏               | 37/150 [20:15<1:03:25, 33.68s/it]"
     ]
    },
    {
     "name": "stdout",
     "output_type": "stream",
     "text": [
      "The chain is shorter than 50 times the integrated autocorrelation time for 1 parameter(s). Use this estimate with caution and run a longer chain!\n",
      "N/50 = 400;\n",
      "tau: [344.26094242 237.0508858  250.36276625 491.76480747 237.50685027\n",
      " 363.47770887]\n",
      "The chain is shorter than 50 times the integrated autocorrelation time for 6 parameter(s). Use this estimate with caution and run a longer chain!\n",
      "N/50 = 400;\n",
      "tau: [1201.81554784 1886.79237224 1299.1648532  1600.75417033 1551.08006367\n",
      " 1500.26928722]\n"
     ]
    },
    {
     "name": "stderr",
     "output_type": "stream",
     "text": [
      "Generating SDSSXCS-19922 hydrostatic mass profile:  26%|████▉              | 39/150 [21:54<1:14:39, 40.36s/it]/mnt/pact/dt237/code/PycharmProjects/XGA/xga/sourcetools/mass.py:240: UserWarning: The density profile for SDSSXCS-19922 could not be generated\n",
      "  warn(\"The density profile for {} could not be generated\".format(src.name))\n",
      "Generating SDSSXCS-890 hydrostatic mass profile:  27%|█████▌               | 40/150 [21:54<1:13:59, 40.36s/it]"
     ]
    },
    {
     "name": "stdout",
     "output_type": "stream",
     "text": [
      "The chain is shorter than 50 times the integrated autocorrelation time for 1 parameter(s). Use this estimate with caution and run a longer chain!\n",
      "N/50 = 400;\n",
      "tau: [ 92.2401686   95.17725775 573.44436639  99.20585226 111.39027843\n",
      "  98.58663982]\n",
      "The chain is shorter than 50 times the integrated autocorrelation time for 4 parameter(s). Use this estimate with caution and run a longer chain!\n",
      "N/50 = 400;\n",
      "tau: [ 402.99266087  342.38588215  431.80303018 1171.7383442   266.03426667\n",
      " 1867.8835772 ]\n"
     ]
    },
    {
     "name": "stderr",
     "output_type": "stream",
     "text": [
      "Generating SDSSXCS-31 hydrostatic mass profile:  27%|██████                | 41/150 [22:42<1:00:58, 33.57s/it]"
     ]
    },
    {
     "name": "stdout",
     "output_type": "stream",
     "text": [
      "The chain is shorter than 50 times the integrated autocorrelation time for 1 parameter(s). Use this estimate with caution and run a longer chain!\n",
      "N/50 = 400;\n",
      "tau: [104.17867371 106.18722795 767.01598663 111.42575547 112.36354978\n",
      " 105.60665967]\n",
      "The chain is shorter than 50 times the integrated autocorrelation time for 4 parameter(s). Use this estimate with caution and run a longer chain!\n",
      "N/50 = 400;\n",
      "tau: [541.36975999 949.77825977 286.66607693 807.19027144 434.91047223\n",
      " 282.08296762]\n",
      "The chain is shorter than 50 times the integrated autocorrelation time for 2 parameter(s). Use this estimate with caution and run a longer chain!\n",
      "N/50 = 400;\n",
      "tau: [135.68512819 259.95920063 670.79936502 111.23749688 106.14703734\n",
      " 527.09977622]\n"
     ]
    },
    {
     "name": "stderr",
     "output_type": "stream",
     "text": [
      "Generating SDSSXCS-325 hydrostatic mass profile:  28%|█████▉               | 42/150 [23:32<1:06:55, 37.18s/it]/mnt/pact/dt237/code/PycharmProjects/XGA/xga/sourcetools/mass.py:240: UserWarning: The density profile for SDSSXCS-325 could not be generated\n",
      "  warn(\"The density profile for {} could not be generated\".format(src.name))\n",
      "Generating SDSSXCS-5159 hydrostatic mass profile:  29%|█████▊              | 44/150 [23:32<1:05:41, 37.18s/it]"
     ]
    },
    {
     "name": "stdout",
     "output_type": "stream",
     "text": [
      "The chain is shorter than 50 times the integrated autocorrelation time for 6 parameter(s). Use this estimate with caution and run a longer chain!\n",
      "N/50 = 400;\n",
      "tau: [1661.71690525 1129.71719892 1344.34676804 1988.07911724  602.47929603\n",
      " 1558.77504505]\n"
     ]
    },
    {
     "name": "stderr",
     "output_type": "stream",
     "text": [
      "Generating SDSSXCS-9803 hydrostatic mass profile:  30%|██████▌               | 45/150 [24:21<47:09, 26.94s/it]"
     ]
    },
    {
     "name": "stdout",
     "output_type": "stream",
     "text": [
      "The chain is shorter than 50 times the integrated autocorrelation time for 1 parameter(s). Use this estimate with caution and run a longer chain!\n",
      "N/50 = 400;\n",
      "tau: [387.67163222 549.26907755 392.89302569 369.48742697 325.51629094\n",
      " 292.50987392]\n"
     ]
    },
    {
     "name": "stderr",
     "output_type": "stream",
     "text": [
      "Generating SDSSXCS-1884 hydrostatic mass profile:  31%|██████▋               | 46/150 [25:09<53:45, 31.01s/it]"
     ]
    },
    {
     "name": "stdout",
     "output_type": "stream",
     "text": [
      "The chain is shorter than 50 times the integrated autocorrelation time for 1 parameter(s). Use this estimate with caution and run a longer chain!\n",
      "N/50 = 400;\n",
      "tau: [  93.83501194   98.32847724 1247.31154594  116.54148023  121.88765331\n",
      "  114.52398572]\n"
     ]
    },
    {
     "name": "stderr",
     "output_type": "stream",
     "text": [
      "Generating SDSSXCS-5 hydrostatic mass profile:  31%|███████▊                 | 47/150 [25:56<59:13, 34.50s/it]"
     ]
    },
    {
     "name": "stdout",
     "output_type": "stream",
     "text": [
      "The chain is shorter than 50 times the integrated autocorrelation time for 4 parameter(s). Use this estimate with caution and run a longer chain!\n",
      "N/50 = 400;\n",
      "tau: [ 597.95420519  863.53972723 1682.19381298  364.78043619  248.16574015\n",
      "  898.78728751]\n",
      "The chain is shorter than 50 times the integrated autocorrelation time for 5 parameter(s). Use this estimate with caution and run a longer chain!\n",
      "N/50 = 400;\n",
      "tau: [ 516.62482218  945.4557806  1120.56295674  524.83007235  365.98955573\n",
      "  452.55630409]\n",
      "The chain is shorter than 50 times the integrated autocorrelation time for 2 parameter(s). Use this estimate with caution and run a longer chain!\n",
      "N/50 = 400;\n",
      "tau: [208.50402392 232.05225016 861.57080071 285.6576897  234.70987421\n",
      " 405.7946087 ]\n"
     ]
    },
    {
     "name": "stderr",
     "output_type": "stream",
     "text": [
      "Generating SDSSXCS-13 hydrostatic mass profile:  32%|███████               | 48/150 [26:45<1:04:07, 37.72s/it]"
     ]
    },
    {
     "name": "stdout",
     "output_type": "stream",
     "text": [
      "The chain is shorter than 50 times the integrated autocorrelation time for 3 parameter(s). Use this estimate with caution and run a longer chain!\n",
      "N/50 = 400;\n",
      "tau: [613.79941995 971.34247703 374.1486589  768.53667445 378.97597486\n",
      " 288.27615075]\n",
      "The chain is shorter than 50 times the integrated autocorrelation time for 1 parameter(s). Use this estimate with caution and run a longer chain!\n",
      "N/50 = 400;\n",
      "tau: [ 94.95646589  92.39123899 794.82529375 111.19681789 118.16207907\n",
      "  95.58449665]\n"
     ]
    },
    {
     "name": "stderr",
     "output_type": "stream",
     "text": [
      "Generating SDSSXCS-5225 hydrostatic mass profile:  33%|██████▌             | 49/150 [27:33<1:08:06, 40.46s/it]"
     ]
    },
    {
     "name": "stdout",
     "output_type": "stream",
     "text": [
      "The chain is shorter than 50 times the integrated autocorrelation time for 6 parameter(s). Use this estimate with caution and run a longer chain!\n",
      "N/50 = 400;\n",
      "tau: [ 728.08383595 1254.98310795 1674.8480413   570.10287551  569.7820011\n",
      "  672.02682079]\n"
     ]
    },
    {
     "name": "stderr",
     "output_type": "stream",
     "text": [
      "Generating SDSSXCS-21 hydrostatic mass profile:  33%|███████▎              | 50/150 [28:18<1:09:20, 41.60s/it]"
     ]
    },
    {
     "name": "stdout",
     "output_type": "stream",
     "text": [
      "The chain is shorter than 50 times the integrated autocorrelation time for 3 parameter(s). Use this estimate with caution and run a longer chain!\n",
      "N/50 = 400;\n",
      "tau: [369.93532974 242.10262552 647.32965655 780.19462409 570.49409375\n",
      " 303.33275188]\n",
      "The chain is shorter than 50 times the integrated autocorrelation time for 6 parameter(s). Use this estimate with caution and run a longer chain!\n",
      "N/50 = 400;\n",
      "tau: [981.12251225 993.50776296 618.37590956 738.70665399 927.42459348\n",
      " 648.53850972]\n"
     ]
    },
    {
     "name": "stderr",
     "output_type": "stream",
     "text": [
      "Generating SDSSXCS-22748 hydrostatic mass profile:  37%|██████▉            | 55/150 [29:49<1:08:38, 43.36s/it]/mnt/pact/dt237/code/PycharmProjects/XGA/xga/sourcetools/mass.py:240: UserWarning: The density profile for SDSSXCS-22748 could not be generated\n",
      "  warn(\"The density profile for {} could not be generated\".format(src.name))\n",
      "Generating SDSSXCS-9 hydrostatic mass profile:  37%|████████▌              | 56/150 [29:49<1:07:55, 43.36s/it]"
     ]
    },
    {
     "name": "stdout",
     "output_type": "stream",
     "text": [
      "The chain is shorter than 50 times the integrated autocorrelation time for 4 parameter(s). Use this estimate with caution and run a longer chain!\n",
      "N/50 = 400;\n",
      "tau: [ 539.33870362  486.93474059 1939.96270173  387.54483229  205.29894045\n",
      "  695.3990143 ]\n"
     ]
    },
    {
     "name": "stderr",
     "output_type": "stream",
     "text": [
      "Generating SDSSXCS-8060 hydrostatic mass profile:  38%|████████▎             | 57/150 [30:36<32:09, 20.75s/it]"
     ]
    },
    {
     "name": "stdout",
     "output_type": "stream",
     "text": [
      "The chain is shorter than 50 times the integrated autocorrelation time for 4 parameter(s). Use this estimate with caution and run a longer chain!\n",
      "N/50 = 400;\n",
      "tau: [ 548.36655992  908.33710021 1764.26213778  351.95881419  217.14151959\n",
      " 1061.3136745 ]\n",
      "The chain is shorter than 50 times the integrated autocorrelation time for 2 parameter(s). Use this estimate with caution and run a longer chain!\n",
      "N/50 = 400;\n",
      "tau: [296.13062192 259.39427838 188.93186545 507.46226081 205.51301698\n",
      " 627.6289137 ]\n",
      "The chain is shorter than 50 times the integrated autocorrelation time for 5 parameter(s). Use this estimate with caution and run a longer chain!\n",
      "N/50 = 400;\n",
      "tau: [1088.37283567 1064.49431801  226.60463831  772.67423519  448.33933176\n",
      "  886.09851575]\n"
     ]
    },
    {
     "name": "stderr",
     "output_type": "stream",
     "text": [
      "Generating SDSSXCS-15984 hydrostatic mass profile:  39%|████████             | 58/150 [31:27<39:09, 25.54s/it]"
     ]
    },
    {
     "name": "stdout",
     "output_type": "stream",
     "text": [
      "The chain is shorter than 50 times the integrated autocorrelation time for 2 parameter(s). Use this estimate with caution and run a longer chain!\n",
      "N/50 = 400;\n",
      "tau: [296.14941421 423.90957856 725.48729814 336.89412802 272.98901587\n",
      " 278.69699864]\n",
      "The chain is shorter than 50 times the integrated autocorrelation time for 1 parameter(s). Use this estimate with caution and run a longer chain!\n",
      "N/50 = 400;\n",
      "tau: [101.63657398 105.67367435 740.30585399 106.58919301 122.66291264\n",
      " 107.78375648]\n"
     ]
    },
    {
     "name": "stderr",
     "output_type": "stream",
     "text": [
      "Generating SDSSXCS-75 hydrostatic mass profile:  39%|█████████▍              | 59/150 [32:16<45:25, 29.95s/it]/mnt/pact/dt237/code/PycharmProjects/XGA/xga/sourcetools/mass.py:240: UserWarning: The density profile for SDSSXCS-75 could not be generated\n",
      "  warn(\"The density profile for {} could not be generated\".format(src.name))\n",
      "Generating SDSSXCS-667 hydrostatic mass profile:  40%|█████████▏             | 60/150 [32:16<44:55, 29.95s/it]"
     ]
    },
    {
     "name": "stdout",
     "output_type": "stream",
     "text": [
      "The chain is shorter than 50 times the integrated autocorrelation time for 5 parameter(s). Use this estimate with caution and run a longer chain!\n",
      "N/50 = 400;\n",
      "tau: [837.3501245  800.30839548 355.15238091 851.61417398 449.11677147\n",
      " 673.32195516]\n",
      "The chain is shorter than 50 times the integrated autocorrelation time for 1 parameter(s). Use this estimate with caution and run a longer chain!\n",
      "N/50 = 400;\n",
      "tau: [  84.78022862   91.36619044 1204.76829989   85.37249426  112.71757197\n",
      "   71.9295299 ]\n"
     ]
    },
    {
     "name": "stderr",
     "output_type": "stream",
     "text": [
      "Generating SDSSXCS-1628 hydrostatic mass profile:  41%|█████████             | 62/150 [33:52<46:38, 31.80s/it]"
     ]
    },
    {
     "name": "stdout",
     "output_type": "stream",
     "text": [
      "The chain is shorter than 50 times the integrated autocorrelation time for 6 parameter(s). Use this estimate with caution and run a longer chain!\n",
      "N/50 = 400;\n",
      "tau: [ 902.70441778 1722.53282248 1027.12885676 1814.52677705 1109.92479093\n",
      " 1340.73144155]\n",
      "The chain is shorter than 50 times the integrated autocorrelation time for 4 parameter(s). Use this estimate with caution and run a longer chain!\n",
      "N/50 = 400;\n",
      "tau: [1071.6263001  1031.93610524  229.71565784 1049.40360079  310.59103646\n",
      "  935.9754535 ]\n",
      "The chain is shorter than 50 times the integrated autocorrelation time for 1 parameter(s). Use this estimate with caution and run a longer chain!\n",
      "N/50 = 400;\n",
      "tau: [ 93.92144645  92.71163155 588.94030071  97.40115449 124.40267434\n",
      "  91.12706059]\n"
     ]
    },
    {
     "name": "stderr",
     "output_type": "stream",
     "text": [
      "Generating SDSSXCS-7405 hydrostatic mass profile:  42%|█████████▏            | 63/150 [34:43<52:18, 36.07s/it]/mnt/pact/dt237/code/PycharmProjects/XGA/xga/sourcetools/mass.py:240: UserWarning: The density profile for SDSSXCS-7405 could not be generated\n",
      "  warn(\"The density profile for {} could not be generated\".format(src.name))\n",
      "Generating SDSSXCS-47 hydrostatic mass profile:  43%|██████████▏             | 64/150 [34:43<51:41, 36.07s/it]/mnt/pact/dt237/code/PycharmProjects/XGA/xga/sourcetools/mass.py:240: UserWarning: The density profile for SDSSXCS-47 could not be generated\n",
      "  warn(\"The density profile for {} could not be generated\".format(src.name))\n",
      "Generating SDSSXCS-7416 hydrostatic mass profile:  43%|█████████▌            | 65/150 [34:43<51:05, 36.07s/it]/mnt/pact/dt237/code/PycharmProjects/XGA/xga/products/base.py:1012: UserWarning: Optimal parameters not found: The maximum number of function evaluations is exceeded., curve_fit has failed.\n",
      "  warn(\"{}, curve_fit has failed.\".format(str(r_err)))\n",
      "Generating SDSSXCS-2588 hydrostatic mass profile:  44%|█████████▋            | 66/150 [35:27<35:50, 25.60s/it]/mnt/pact/dt237/code/PycharmProjects/XGA/xga/sourcetools/mass.py:240: UserWarning: The density profile for SDSSXCS-2588 could not be generated\n",
      "  warn(\"The density profile for {} could not be generated\".format(src.name))\n",
      "Generating SDSSXCS-298 hydrostatic mass profile:  45%|██████████▎            | 67/150 [35:27<35:24, 25.60s/it]/mnt/pact/dt237/code/PycharmProjects/XGA/xga/sourcetools/mass.py:240: UserWarning: The density profile for SDSSXCS-298 could not be generated\n",
      "  warn(\"The density profile for {} could not be generated\".format(src.name))\n",
      "Generating SDSSXCS-189 hydrostatic mass profile:  47%|██████████▋            | 70/150 [35:27<34:07, 25.60s/it]/mnt/pact/dt237/code/PycharmProjects/XGA/xga/sourcetools/mass.py:240: UserWarning: The density profile for SDSSXCS-189 could not be generated\n",
      "  warn(\"The density profile for {} could not be generated\".format(src.name))\n",
      "Generating SDSSXCS-4245 hydrostatic mass profile:  47%|██████████▍           | 71/150 [35:27<33:42, 25.60s/it]"
     ]
    },
    {
     "name": "stdout",
     "output_type": "stream",
     "text": [
      "The chain is shorter than 50 times the integrated autocorrelation time for 6 parameter(s). Use this estimate with caution and run a longer chain!\n",
      "N/50 = 400;\n",
      "tau: [ 661.68884384 1276.1487103   723.06202499  844.50272865  673.19441558\n",
      " 1049.8341456 ]\n"
     ]
    },
    {
     "name": "stderr",
     "output_type": "stream",
     "text": [
      "Generating SDSSXCS-408 hydrostatic mass profile:  48%|███████████            | 72/150 [36:14<19:48, 15.23s/it]"
     ]
    },
    {
     "name": "stdout",
     "output_type": "stream",
     "text": [
      "The chain is shorter than 50 times the integrated autocorrelation time for 4 parameter(s). Use this estimate with caution and run a longer chain!\n",
      "N/50 = 400;\n",
      "tau: [1006.55151161  764.14888484  355.18311411  849.60035906  269.83100363\n",
      "  431.08760709]\n",
      "The chain is shorter than 50 times the integrated autocorrelation time for 1 parameter(s). Use this estimate with caution and run a longer chain!\n",
      "N/50 = 400;\n",
      "tau: [ 71.98350773  73.28416916 626.95937624  74.68524165  76.30795722\n",
      "  69.34965332]\n"
     ]
    },
    {
     "name": "stderr",
     "output_type": "stream",
     "text": [
      "Generating SDSSXCS-10401 hydrostatic mass profile:  49%|██████████▏          | 73/150 [37:09<25:53, 20.17s/it]"
     ]
    },
    {
     "name": "stdout",
     "output_type": "stream",
     "text": [
      "The chain is shorter than 50 times the integrated autocorrelation time for 4 parameter(s). Use this estimate with caution and run a longer chain!\n",
      "N/50 = 400;\n",
      "tau: [580.10272048 536.37165324 446.53924205 586.28429258 309.32635825\n",
      " 357.85364642]\n"
     ]
    },
    {
     "name": "stderr",
     "output_type": "stream",
     "text": [
      "Generating SDSSXCS-474 hydrostatic mass profile:  50%|███████████▌           | 75/150 [37:58<30:23, 24.31s/it]"
     ]
    },
    {
     "name": "stdout",
     "output_type": "stream",
     "text": [
      "The chain is shorter than 50 times the integrated autocorrelation time for 1 parameter(s). Use this estimate with caution and run a longer chain!\n",
      "N/50 = 400;\n",
      "tau: [368.35214872 415.5745508  167.9307729  202.90484733 287.9041486\n",
      " 177.07333446]\n"
     ]
    },
    {
     "name": "stderr",
     "output_type": "stream",
     "text": [
      "Generating SDSSXCS-19467 hydrostatic mass profile:  51%|██████████▊          | 77/150 [38:41<28:33, 23.47s/it]"
     ]
    },
    {
     "name": "stdout",
     "output_type": "stream",
     "text": [
      "The chain is shorter than 50 times the integrated autocorrelation time for 6 parameter(s). Use this estimate with caution and run a longer chain!\n",
      "N/50 = 400;\n",
      "tau: [ 636.74471423 1005.58603225  797.19945958  973.31139471  505.26209895\n",
      "  999.09903239]\n"
     ]
    },
    {
     "name": "stderr",
     "output_type": "stream",
     "text": [
      "Generating SDSSXCS-455 hydrostatic mass profile:  52%|███████████▉           | 78/150 [39:28<28:15, 23.55s/it]"
     ]
    },
    {
     "name": "stdout",
     "output_type": "stream",
     "text": [
      "The chain is shorter than 50 times the integrated autocorrelation time for 1 parameter(s). Use this estimate with caution and run a longer chain!\n",
      "N/50 = 400;\n",
      "tau: [133.12507555 139.50732915 644.27398521 136.85596505 109.48536502\n",
      " 148.85018921]\n"
     ]
    },
    {
     "name": "stderr",
     "output_type": "stream",
     "text": [
      "Generating SDSSXCS-1174 hydrostatic mass profile:  53%|███████████▌          | 79/150 [40:16<32:57, 27.85s/it]/mnt/pact/dt237/code/PycharmProjects/XGA/xga/sourcetools/mass.py:240: UserWarning: The density profile for SDSSXCS-1174 could not be generated\n",
      "  warn(\"The density profile for {} could not be generated\".format(src.name))\n",
      "Generating SDSSXCS-1645 hydrostatic mass profile:  54%|███████████▉          | 81/150 [40:16<32:01, 27.85s/it]"
     ]
    },
    {
     "name": "stdout",
     "output_type": "stream",
     "text": [
      "The chain is shorter than 50 times the integrated autocorrelation time for 5 parameter(s). Use this estimate with caution and run a longer chain!\n",
      "N/50 = 400;\n",
      "tau: [ 873.29934377 1122.76498641 1939.5449259   635.48639669  379.89259912\n",
      " 1180.37256992]\n"
     ]
    },
    {
     "name": "stderr",
     "output_type": "stream",
     "text": [
      "Generating SDSSXCS-225 hydrostatic mass profile:  55%|████████████▌          | 82/150 [41:04<25:47, 22.75s/it]"
     ]
    },
    {
     "name": "stdout",
     "output_type": "stream",
     "text": [
      "The chain is shorter than 50 times the integrated autocorrelation time for 1 parameter(s). Use this estimate with caution and run a longer chain!\n",
      "N/50 = 400;\n",
      "tau: [  95.66668578  104.87664386 1123.76699231   91.15132029  137.84408719\n",
      "  149.88977927]\n",
      "The chain is shorter than 50 times the integrated autocorrelation time for 1 parameter(s). Use this estimate with caution and run a longer chain!\n",
      "N/50 = 400;\n",
      "tau: [153.65740697 200.79983602 597.86054316 142.93753045 129.31357749\n",
      " 279.66916072]\n"
     ]
    },
    {
     "name": "stderr",
     "output_type": "stream",
     "text": [
      "Generating SDSSXCS-9313 hydrostatic mass profile:  55%|████████████▏         | 83/150 [41:53<30:19, 27.16s/it]"
     ]
    },
    {
     "name": "stdout",
     "output_type": "stream",
     "text": [
      "The chain is shorter than 50 times the integrated autocorrelation time for 2 parameter(s). Use this estimate with caution and run a longer chain!\n",
      "N/50 = 400;\n",
      "tau: [310.89584024 934.1019034  313.8681343  475.20372973 313.46667264\n",
      " 368.04055834]\n"
     ]
    },
    {
     "name": "stderr",
     "output_type": "stream",
     "text": [
      "Generating SDSSXCS-2347 hydrostatic mass profile:  57%|████████████▍         | 85/150 [43:29<37:42, 34.81s/it]"
     ]
    },
    {
     "name": "stdout",
     "output_type": "stream",
     "text": [
      "The chain is shorter than 50 times the integrated autocorrelation time for 2 parameter(s). Use this estimate with caution and run a longer chain!\n",
      "N/50 = 400;\n",
      "tau: [141.00773983 294.68185473 846.10275632 121.58805895 113.86916833\n",
      " 684.27699593]\n"
     ]
    },
    {
     "name": "stderr",
     "output_type": "stream",
     "text": [
      "Generating SDSSXCS-241 hydrostatic mass profile:  59%|█████████████▍         | 88/150 [44:16<39:01, 37.77s/it]/mnt/pact/dt237/code/PycharmProjects/XGA/xga/sourcetools/mass.py:240: UserWarning: The density profile for SDSSXCS-241 could not be generated\n",
      "  warn(\"The density profile for {} could not be generated\".format(src.name))\n",
      "Generating SDSSXCS-893 hydrostatic mass profile:  59%|█████████████▋         | 89/150 [44:16<38:23, 37.77s/it]"
     ]
    },
    {
     "name": "stdout",
     "output_type": "stream",
     "text": [
      "The chain is shorter than 50 times the integrated autocorrelation time for 6 parameter(s). Use this estimate with caution and run a longer chain!\n",
      "N/50 = 400;\n",
      "tau: [1213.16155044 1255.55586022 1075.1960708   976.91097311  672.49693553\n",
      " 1336.97209155]\n"
     ]
    },
    {
     "name": "stderr",
     "output_type": "stream",
     "text": [
      "Generating SDSSXCS-7432 hydrostatic mass profile:  60%|█████████████▏        | 90/150 [45:03<22:48, 22.80s/it]"
     ]
    },
    {
     "name": "stdout",
     "output_type": "stream",
     "text": [
      "The chain is shorter than 50 times the integrated autocorrelation time for 6 parameter(s). Use this estimate with caution and run a longer chain!\n",
      "N/50 = 400;\n",
      "tau: [ 537.53224307 1180.42279413  998.46943512 1096.87578539  728.57713984\n",
      " 1178.1024535 ]\n"
     ]
    },
    {
     "name": "stderr",
     "output_type": "stream",
     "text": [
      "Generating SDSSXCS-11613 hydrostatic mass profile:  61%|████████████▋        | 91/150 [45:53<26:55, 27.38s/it]/mnt/pact/dt237/code/PycharmProjects/XGA/xga/sourcetools/mass.py:240: UserWarning: The density profile for SDSSXCS-11613 could not be generated\n",
      "  warn(\"The density profile for {} could not be generated\".format(src.name))\n",
      "Generating SDSSXCS-3 hydrostatic mass profile:  61%|███████████████▎         | 92/150 [45:53<26:28, 27.38s/it]"
     ]
    },
    {
     "name": "stdout",
     "output_type": "stream",
     "text": [
      "The chain is shorter than 50 times the integrated autocorrelation time for 4 parameter(s). Use this estimate with caution and run a longer chain!\n",
      "N/50 = 400;\n",
      "tau: [ 434.06522212  917.31374303  996.62303902  259.34486426  245.09234675\n",
      " 1009.91547221]\n",
      "The chain is shorter than 50 times the integrated autocorrelation time for 1 parameter(s). Use this estimate with caution and run a longer chain!\n",
      "N/50 = 400;\n",
      "tau: [  77.56478592   76.19207496 1117.36797848   84.6824115    85.13461451\n",
      "   75.5534566 ]\n"
     ]
    },
    {
     "name": "stderr",
     "output_type": "stream",
     "text": [
      "Generating SDSSXCS-5939 hydrostatic mass profile:  62%|█████████████▋        | 93/150 [46:47<25:54, 27.28s/it]/mnt/pact/dt237/code/PycharmProjects/XGA/xga/sourcetools/mass.py:240: UserWarning: The density profile for SDSSXCS-5939 could not be generated\n",
      "  warn(\"The density profile for {} could not be generated\".format(src.name))\n",
      "Generating SDSSXCS-11881 hydrostatic mass profile:  63%|█████████████▏       | 94/150 [46:47<25:27, 27.28s/it]"
     ]
    },
    {
     "name": "stdout",
     "output_type": "stream",
     "text": [
      "The chain is shorter than 50 times the integrated autocorrelation time for 1 parameter(s). Use this estimate with caution and run a longer chain!\n",
      "N/50 = 400;\n",
      "tau: [378.75522941 323.92697337 297.64305568 415.54725795 328.48603086\n",
      " 215.73670896]\n"
     ]
    },
    {
     "name": "stderr",
     "output_type": "stream",
     "text": [
      "Generating SDSSXCS-11394 hydrostatic mass profile:  63%|█████████████▎       | 95/150 [47:33<23:51, 26.03s/it]/mnt/pact/dt237/code/PycharmProjects/XGA/xga/sourcetools/mass.py:240: UserWarning: The density profile for SDSSXCS-11394 could not be generated\n",
      "  warn(\"The density profile for {} could not be generated\".format(src.name))\n",
      "Generating SDSSXCS-907 hydrostatic mass profile:  64%|██████████████▋        | 96/150 [47:33<23:25, 26.03s/it]"
     ]
    },
    {
     "name": "stdout",
     "output_type": "stream",
     "text": [
      "The chain is shorter than 50 times the integrated autocorrelation time for 3 parameter(s). Use this estimate with caution and run a longer chain!\n",
      "N/50 = 400;\n",
      "tau: [ 320.57863106 1265.71661236 1688.31274205  224.02825511  257.97750345\n",
      " 1680.29163192]\n"
     ]
    },
    {
     "name": "stderr",
     "output_type": "stream",
     "text": [
      "Generating SDSSXCS-309 hydrostatic mass profile:  65%|███████████████        | 98/150 [48:21<22:00, 25.40s/it]"
     ]
    },
    {
     "name": "stdout",
     "output_type": "stream",
     "text": [
      "The chain is shorter than 50 times the integrated autocorrelation time for 3 parameter(s). Use this estimate with caution and run a longer chain!\n",
      "N/50 = 400;\n",
      "tau: [446.28309105 450.79513246 452.47010982 360.29768687 298.27922809\n",
      " 303.75925053]\n"
     ]
    },
    {
     "name": "stderr",
     "output_type": "stream",
     "text": [
      "Generating SDSSXCS-457 hydrostatic mass profile:  66%|███████████████▏       | 99/150 [49:11<21:27, 25.25s/it]"
     ]
    },
    {
     "name": "stdout",
     "output_type": "stream",
     "text": [
      "The chain is shorter than 50 times the integrated autocorrelation time for 6 parameter(s). Use this estimate with caution and run a longer chain!\n",
      "N/50 = 400;\n",
      "tau: [1408.90377341 1694.33277381 1394.18268972 1674.94470665 1456.61837454\n",
      " 1526.52919347]\n",
      "The chain is shorter than 50 times the integrated autocorrelation time for 3 parameter(s). Use this estimate with caution and run a longer chain!\n",
      "N/50 = 400;\n",
      "tau: [ 390.56630196 1377.02259516 1418.37140695  264.81680076  264.62454406\n",
      "  732.67939111]\n",
      "The chain is shorter than 50 times the integrated autocorrelation time for 6 parameter(s). Use this estimate with caution and run a longer chain!\n",
      "N/50 = 400;\n",
      "tau: [ 717.26442003 1195.69292126 1122.18920035  584.3152934   405.34915847\n",
      " 1218.94627689]\n"
     ]
    },
    {
     "name": "stderr",
     "output_type": "stream",
     "text": [
      "Generating SDSSXCS-6 hydrostatic mass profile:  67%|████████████████▏       | 101/150 [49:59<23:58, 29.35s/it]"
     ]
    },
    {
     "name": "stdout",
     "output_type": "stream",
     "text": [
      "The chain is shorter than 50 times the integrated autocorrelation time for 2 parameter(s). Use this estimate with caution and run a longer chain!\n",
      "N/50 = 400;\n",
      "tau: [349.53380231 540.19545635 320.81127776 479.07003686 253.99755903\n",
      " 208.61621337]\n",
      "The chain is shorter than 50 times the integrated autocorrelation time for 2 parameter(s). Use this estimate with caution and run a longer chain!\n",
      "N/50 = 400;\n",
      "tau: [ 103.52876828  150.98220034 1249.02125863  140.7710617   152.98513388\n",
      "  495.38297982]\n"
     ]
    },
    {
     "name": "stderr",
     "output_type": "stream",
     "text": [
      "Generating SDSSXCS-176 hydrostatic mass profile:  68%|██████████████▉       | 102/150 [50:48<22:04, 27.60s/it]"
     ]
    },
    {
     "name": "stdout",
     "output_type": "stream",
     "text": [
      "The chain is shorter than 50 times the integrated autocorrelation time for 6 parameter(s). Use this estimate with caution and run a longer chain!\n",
      "N/50 = 400;\n",
      "tau: [486.33970199 511.64439216 594.43904045 644.57888525 522.08329682\n",
      " 426.33948068]\n"
     ]
    },
    {
     "name": "stderr",
     "output_type": "stream",
     "text": [
      "Generating SDSSXCS-3672 hydrostatic mass profile:  69%|██████████████▍      | 103/150 [51:36<24:44, 31.58s/it]"
     ]
    },
    {
     "name": "stdout",
     "output_type": "stream",
     "text": [
      "The chain is shorter than 50 times the integrated autocorrelation time for 5 parameter(s). Use this estimate with caution and run a longer chain!\n",
      "N/50 = 400;\n",
      "tau: [394.25092065 822.01437319 887.42086497 961.66682718 478.99025274\n",
      " 987.77602085]\n"
     ]
    },
    {
     "name": "stderr",
     "output_type": "stream",
     "text": [
      "Generating SDSSXCS-43 hydrostatic mass profile:  69%|███████████████▉       | 104/150 [52:21<26:30, 34.58s/it]"
     ]
    },
    {
     "name": "stdout",
     "output_type": "stream",
     "text": [
      "The chain is shorter than 50 times the integrated autocorrelation time for 6 parameter(s). Use this estimate with caution and run a longer chain!\n",
      "N/50 = 400;\n",
      "tau: [671.58960048 910.44153072 839.7112275  815.8425027  457.93087469\n",
      " 930.42870469]\n",
      "The chain is shorter than 50 times the integrated autocorrelation time for 5 parameter(s). Use this estimate with caution and run a longer chain!\n",
      "N/50 = 400;\n",
      "tau: [1252.4301154  1478.75026421  463.3784295  1486.48148271  359.94774487\n",
      " 1410.98196443]\n"
     ]
    },
    {
     "name": "stderr",
     "output_type": "stream",
     "text": [
      "Generating SDSSXCS-5527 hydrostatic mass profile:  71%|██████████████▉      | 107/150 [54:46<30:06, 42.02s/it]"
     ]
    },
    {
     "name": "stdout",
     "output_type": "stream",
     "text": [
      "The chain is shorter than 50 times the integrated autocorrelation time for 6 parameter(s). Use this estimate with caution and run a longer chain!\n",
      "N/50 = 400;\n",
      "tau: [ 669.8418131  1272.74497922  718.04043053  691.51044095  588.10157897\n",
      "  973.55211802]\n",
      "The chain is shorter than 50 times the integrated autocorrelation time for 1 parameter(s). Use this estimate with caution and run a longer chain!\n",
      "N/50 = 400;\n",
      "tau: [384.20835176 397.59729265 488.56985339 299.873856   272.76498691\n",
      " 286.83420002]\n",
      "The chain is shorter than 50 times the integrated autocorrelation time for 1 parameter(s). Use this estimate with caution and run a longer chain!\n",
      "N/50 = 400;\n",
      "tau: [126.56312194 189.92854477 844.36435716 125.39123294 129.07120931\n",
      " 197.50491303]\n"
     ]
    },
    {
     "name": "stderr",
     "output_type": "stream",
     "text": [
      "Generating SDSSXCS-4313 hydrostatic mass profile:  72%|███████████████      | 108/150 [55:36<30:54, 44.16s/it]/mnt/pact/dt237/code/PycharmProjects/XGA/xga/sourcetools/mass.py:240: UserWarning: The density profile for SDSSXCS-4313 could not be generated\n",
      "  warn(\"The density profile for {} could not be generated\".format(src.name))\n",
      "Generating SDSSXCS-574 hydrostatic mass profile:  73%|███████████████▉      | 109/150 [55:36<30:10, 44.16s/it]"
     ]
    },
    {
     "name": "stdout",
     "output_type": "stream",
     "text": [
      "The chain is shorter than 50 times the integrated autocorrelation time for 2 parameter(s). Use this estimate with caution and run a longer chain!\n",
      "N/50 = 400;\n",
      "tau: [325.95286431 447.72323426 618.56418219 337.16282848 278.05924958\n",
      " 292.16478215]\n",
      "The chain is shorter than 50 times the integrated autocorrelation time for 1 parameter(s). Use this estimate with caution and run a longer chain!\n",
      "N/50 = 400;\n",
      "tau: [104.97625192 107.79197708 678.35725091 109.98077923 130.56406312\n",
      " 106.08518862]\n"
     ]
    },
    {
     "name": "stderr",
     "output_type": "stream",
     "text": [
      "Generating SDSSXCS-65 hydrostatic mass profile:  73%|████████████████▊      | 110/150 [56:27<23:57, 35.94s/it]"
     ]
    },
    {
     "name": "stdout",
     "output_type": "stream",
     "text": [
      "The chain is shorter than 50 times the integrated autocorrelation time for 2 parameter(s). Use this estimate with caution and run a longer chain!\n",
      "N/50 = 400;\n",
      "tau: [182.46338868 615.39569449 549.12669298 138.4924871  145.47096201\n",
      " 158.85861921]\n"
     ]
    },
    {
     "name": "stderr",
     "output_type": "stream",
     "text": [
      "Generating SDSSXCS-4003 hydrostatic mass profile:  75%|███████████████▋     | 112/150 [58:05<26:13, 41.41s/it]"
     ]
    },
    {
     "name": "stdout",
     "output_type": "stream",
     "text": [
      "The chain is shorter than 50 times the integrated autocorrelation time for 3 parameter(s). Use this estimate with caution and run a longer chain!\n",
      "N/50 = 400;\n",
      "tau: [636.89822199 409.6099158  266.59289136 634.8664742  251.60450773\n",
      " 274.32471011]\n",
      "The chain is shorter than 50 times the integrated autocorrelation time for 1 parameter(s). Use this estimate with caution and run a longer chain!\n",
      "N/50 = 400;\n",
      "tau: [402.65170388 301.37152514 155.60628852 398.93305981 288.94711478\n",
      " 208.15924814]\n",
      "The chain is shorter than 50 times the integrated autocorrelation time for 5 parameter(s). Use this estimate with caution and run a longer chain!\n",
      "N/50 = 400;\n",
      "tau: [624.2678535  739.0878143  239.43775064 567.18867825 599.65167533\n",
      " 670.92524015]\n"
     ]
    },
    {
     "name": "stderr",
     "output_type": "stream",
     "text": [
      "Generating SDSSXCS-2836 hydrostatic mass profile:  75%|███████████████▊     | 113/150 [58:58<27:28, 44.56s/it]"
     ]
    },
    {
     "name": "stdout",
     "output_type": "stream",
     "text": [
      "The chain is shorter than 50 times the integrated autocorrelation time for 4 parameter(s). Use this estimate with caution and run a longer chain!\n",
      "N/50 = 400;\n",
      "tau: [518.72587603 709.72090695 606.96481303 498.34530417 385.78867801\n",
      " 298.47204551]\n"
     ]
    },
    {
     "name": "stderr",
     "output_type": "stream",
     "text": [
      "Generating SDSSXCS-2288 hydrostatic mass profile:  77%|██████████████▌    | 115/150 [1:00:34<26:51, 46.04s/it]"
     ]
    },
    {
     "name": "stdout",
     "output_type": "stream",
     "text": [
      "The chain is shorter than 50 times the integrated autocorrelation time for 2 parameter(s). Use this estimate with caution and run a longer chain!\n",
      "N/50 = 400;\n",
      "tau: [466.42296478 398.53827715 219.27999041 549.76460525 280.92444223\n",
      " 257.31373435]\n",
      "The chain is shorter than 50 times the integrated autocorrelation time for 2 parameter(s). Use this estimate with caution and run a longer chain!\n",
      "N/50 = 400;\n",
      "tau: [377.53164201 404.04700605 377.37592856 426.12831566 338.19950044\n",
      " 332.58280351]\n"
     ]
    },
    {
     "name": "stderr",
     "output_type": "stream",
     "text": [
      "\r",
      "Generating SDSSXCS-2288 hydrostatic mass profile:  77%|██████████████▋    | 116/150 [1:01:23<26:29, 46.76s/it]"
     ]
    },
    {
     "name": "stdout",
     "output_type": "stream",
     "text": [
      "The chain is shorter than 50 times the integrated autocorrelation time for 1 parameter(s). Use this estimate with caution and run a longer chain!\n",
      "N/50 = 400;\n",
      "tau: [ 109.33858521  103.48867591 1315.36836506  101.76082417  123.06184584\n",
      "   90.51933868]\n"
     ]
    },
    {
     "name": "stderr",
     "output_type": "stream",
     "text": [
      "\r",
      "Generating SDSSXCS-78 hydrostatic mass profile:  77%|████████████████▏    | 116/150 [1:01:23<26:29, 46.76s/it]"
     ]
    },
    {
     "name": "stdout",
     "output_type": "stream",
     "text": [
      "The chain is shorter than 50 times the integrated autocorrelation time for 3 parameter(s). Use this estimate with caution and run a longer chain!\n",
      "N/50 = 400;\n",
      "tau: [398.72157396 694.38468014 707.68924036 488.29843273 309.90139675\n",
      " 294.75057842]\n",
      "The chain is shorter than 50 times the integrated autocorrelation time for 1 parameter(s). Use this estimate with caution and run a longer chain!\n",
      "N/50 = 400;\n",
      "tau: [ 79.58350367  82.04911839 562.30165893  78.65164169  84.15233845\n",
      "  81.94494801]\n"
     ]
    },
    {
     "name": "stderr",
     "output_type": "stream",
     "text": [
      "Generating SDSSXCS-55 hydrostatic mass profile:  78%|████████████████▍    | 117/150 [1:02:18<27:02, 49.16s/it]"
     ]
    },
    {
     "name": "stdout",
     "output_type": "stream",
     "text": [
      "The chain is shorter than 50 times the integrated autocorrelation time for 1 parameter(s). Use this estimate with caution and run a longer chain!\n",
      "N/50 = 400;\n",
      "tau: [161.17373086 171.73521502 941.28656657 137.67417376 127.45257077\n",
      " 226.77319679]\n"
     ]
    },
    {
     "name": "stderr",
     "output_type": "stream",
     "text": [
      "/mnt/pact/dt237/code/PycharmProjects/XGA/xga/sourcetools/mass.py:234: UserWarning: A mass of less than zero was measured by a hydrostatic mass profile, this is not physical and the profile is not valid.\n",
      "  warn(\"A mass of less than zero was measured by a hydrostatic mass profile, this is not physical\"\n",
      "Generating SDSSXCS-137 hydrostatic mass profile:  79%|███████████████▋    | 118/150 [1:03:16<27:34, 51.70s/it]/mnt/pact/dt237/code/PycharmProjects/XGA/xga/sourcetools/mass.py:240: UserWarning: The density profile for SDSSXCS-137 could not be generated\n",
      "  warn(\"The density profile for {} could not be generated\".format(src.name))\n",
      "Generating SDSSXCS-123 hydrostatic mass profile:  79%|███████████████▊    | 119/150 [1:03:16<26:42, 51.70s/it]"
     ]
    },
    {
     "name": "stdout",
     "output_type": "stream",
     "text": [
      "The chain is shorter than 50 times the integrated autocorrelation time for 3 parameter(s). Use this estimate with caution and run a longer chain!\n",
      "N/50 = 400;\n",
      "tau: [ 345.01250745 1099.50147793 1436.70684171  490.54734631  271.82196434\n",
      "  312.25460369]\n",
      "The chain is shorter than 50 times the integrated autocorrelation time for 1 parameter(s). Use this estimate with caution and run a longer chain!\n",
      "N/50 = 400;\n",
      "tau: [102.02767828 105.28164989 663.48281674 110.81880987 119.15433361\n",
      " 109.50748038]\n"
     ]
    },
    {
     "name": "stderr",
     "output_type": "stream",
     "text": [
      "Generating SDSSXCS-2282 hydrostatic mass profile:  81%|███████████████▎   | 121/150 [1:04:58<20:33, 42.52s/it]"
     ]
    },
    {
     "name": "stdout",
     "output_type": "stream",
     "text": [
      "The chain is shorter than 50 times the integrated autocorrelation time for 2 parameter(s). Use this estimate with caution and run a longer chain!\n",
      "N/50 = 400;\n",
      "tau: [293.31247538 250.97962743 282.37691353 690.12764628 288.38448897\n",
      " 731.3386017 ]\n"
     ]
    },
    {
     "name": "stderr",
     "output_type": "stream",
     "text": [
      "Generating SDSSXCS-19 hydrostatic mass profile:  82%|█████████████████▏   | 123/150 [1:05:45<19:38, 43.66s/it]"
     ]
    },
    {
     "name": "stdout",
     "output_type": "stream",
     "text": [
      "The chain is shorter than 50 times the integrated autocorrelation time for 6 parameter(s). Use this estimate with caution and run a longer chain!\n",
      "N/50 = 400;\n",
      "tau: [1375.54254659 1787.55620985 1615.98049139 1702.44557095 1209.39564011\n",
      " 1577.87599553]\n",
      "The chain is shorter than 50 times the integrated autocorrelation time for 3 parameter(s). Use this estimate with caution and run a longer chain!\n",
      "N/50 = 400;\n",
      "tau: [284.53318766 652.69111367 825.56466888 303.95464892 243.1893806\n",
      " 742.13293306]\n",
      "The chain is shorter than 50 times the integrated autocorrelation time for 3 parameter(s). Use this estimate with caution and run a longer chain!\n",
      "N/50 = 400;\n",
      "tau: [231.84003893 403.78177166 594.93688374 164.68054151 138.1514611\n",
      " 489.20984509]\n"
     ]
    },
    {
     "name": "stderr",
     "output_type": "stream",
     "text": [
      "Generating SDSSXCS-575 hydrostatic mass profile:  83%|████████████████▋   | 125/150 [1:07:23<16:04, 38.57s/it]"
     ]
    },
    {
     "name": "stdout",
     "output_type": "stream",
     "text": [
      "The chain is shorter than 50 times the integrated autocorrelation time for 3 parameter(s). Use this estimate with caution and run a longer chain!\n",
      "N/50 = 400;\n",
      "tau: [129.61747745 414.22229472 574.77565711 124.93091107 142.13150665\n",
      " 541.55734461]\n"
     ]
    },
    {
     "name": "stderr",
     "output_type": "stream",
     "text": [
      "Generating SDSSXCS-2 hydrostatic mass profile:  84%|██████████████████▍   | 126/150 [1:08:10<16:19, 40.79s/it]"
     ]
    },
    {
     "name": "stdout",
     "output_type": "stream",
     "text": [
      "The chain is shorter than 50 times the integrated autocorrelation time for 1 parameter(s). Use this estimate with caution and run a longer chain!\n",
      "N/50 = 400;\n",
      "tau: [ 127.21943996  209.69688823 1118.96337897  116.02369407  120.57889957\n",
      "  276.88388836]\n",
      "The chain is shorter than 50 times the integrated autocorrelation time for 2 parameter(s). Use this estimate with caution and run a longer chain!\n",
      "N/50 = 400;\n",
      "tau: [434.30173263 425.59822062 199.96850568 349.86872645 232.43608157\n",
      " 181.26585033]\n",
      "The chain is shorter than 50 times the integrated autocorrelation time for 1 parameter(s). Use this estimate with caution and run a longer chain!\n",
      "N/50 = 400;\n",
      "tau: [ 87.09281584  88.63974673 501.7529587   91.20946294  78.67983957\n",
      "  93.94268366]\n"
     ]
    },
    {
     "name": "stderr",
     "output_type": "stream",
     "text": [
      "Generating SDSSXCS-30950 hydrostatic mass profile:  85%|███████████████▏  | 127/150 [1:09:03<16:52, 44.02s/it]/mnt/pact/dt237/code/PycharmProjects/XGA/xga/sourcetools/mass.py:240: UserWarning: The density profile for SDSSXCS-30950 could not be generated\n",
      "  warn(\"The density profile for {} could not be generated\".format(src.name))\n",
      "Generating SDSSXCS-480 hydrostatic mass profile:  85%|█████████████████   | 128/150 [1:09:03<16:08, 44.02s/it]"
     ]
    },
    {
     "name": "stdout",
     "output_type": "stream",
     "text": [
      "The chain is shorter than 50 times the integrated autocorrelation time for 1 parameter(s). Use this estimate with caution and run a longer chain!\n",
      "N/50 = 400;\n",
      "tau: [ 80.88629538  79.8582661  584.15548178  84.87017272  82.86135072\n",
      "  80.52581728]\n"
     ]
    },
    {
     "name": "stderr",
     "output_type": "stream",
     "text": [
      "Generating SDSSXCS-14 hydrostatic mass profile:  86%|██████████████████   | 129/150 [1:09:59<13:00, 37.16s/it]"
     ]
    },
    {
     "name": "stdout",
     "output_type": "stream",
     "text": [
      "The chain is shorter than 50 times the integrated autocorrelation time for 1 parameter(s). Use this estimate with caution and run a longer chain!\n",
      "N/50 = 400;\n",
      "tau: [ 84.03561963  83.87203083 525.36663858  81.84152332  87.82558212\n",
      "  84.27843813]\n"
     ]
    },
    {
     "name": "stderr",
     "output_type": "stream",
     "text": [
      "Generating SDSSXCS-1137 hydrostatic mass profile:  87%|████████████████▍  | 130/150 [1:10:51<13:32, 40.61s/it]"
     ]
    },
    {
     "name": "stdout",
     "output_type": "stream",
     "text": [
      "The chain is shorter than 50 times the integrated autocorrelation time for 4 parameter(s). Use this estimate with caution and run a longer chain!\n",
      "N/50 = 400;\n",
      "tau: [522.97815685 646.58438769 615.78612714 469.25493833 331.4124318\n",
      " 328.06294243]\n",
      "The chain is shorter than 50 times the integrated autocorrelation time for 1 parameter(s). Use this estimate with caution and run a longer chain!\n",
      "N/50 = 400;\n",
      "tau: [ 93.58342185 105.21288083 456.96061737  94.33071132  86.9387494\n",
      " 113.3194593 ]\n"
     ]
    },
    {
     "name": "stderr",
     "output_type": "stream",
     "text": [
      "Generating SDSSXCS-487 hydrostatic mass profile:  87%|█████████████████▍  | 131/150 [1:11:43<13:43, 43.33s/it]"
     ]
    },
    {
     "name": "stdout",
     "output_type": "stream",
     "text": [
      "The chain is shorter than 50 times the integrated autocorrelation time for 3 parameter(s). Use this estimate with caution and run a longer chain!\n",
      "N/50 = 400;\n",
      "tau: [291.03511287 600.18270962 550.8471124  262.51443121 218.71705793\n",
      " 456.53109894]\n"
     ]
    },
    {
     "name": "stderr",
     "output_type": "stream",
     "text": [
      "Generating SDSSXCS-155 hydrostatic mass profile:  88%|█████████████████▌  | 132/150 [1:12:31<13:25, 44.73s/it]"
     ]
    },
    {
     "name": "stdout",
     "output_type": "stream",
     "text": [
      "The chain is shorter than 50 times the integrated autocorrelation time for 6 parameter(s). Use this estimate with caution and run a longer chain!\n",
      "N/50 = 400;\n",
      "tau: [841.14043484 951.11909742 575.47012312 972.38907295 947.12069265\n",
      " 642.45406951]\n"
     ]
    },
    {
     "name": "stderr",
     "output_type": "stream",
     "text": [
      "Generating SDSSXCS-2032 hydrostatic mass profile:  89%|████████████████▊  | 133/150 [1:13:19<12:56, 45.70s/it]"
     ]
    },
    {
     "name": "stdout",
     "output_type": "stream",
     "text": [
      "The chain is shorter than 50 times the integrated autocorrelation time for 4 parameter(s). Use this estimate with caution and run a longer chain!\n",
      "N/50 = 400;\n",
      "tau: [486.50998179 741.82388589 971.46040349 442.80254031 302.52623062\n",
      " 287.2337136 ]\n"
     ]
    },
    {
     "name": "stderr",
     "output_type": "stream",
     "text": [
      "Generating SDSSXCS-10223 hydrostatic mass profile:  89%|████████████████  | 134/150 [1:14:08<12:23, 46.45s/it]"
     ]
    },
    {
     "name": "stdout",
     "output_type": "stream",
     "text": [
      "The chain is shorter than 50 times the integrated autocorrelation time for 3 parameter(s). Use this estimate with caution and run a longer chain!\n",
      "N/50 = 400;\n",
      "tau: [162.53222001 627.56770019 793.77703215 146.15002212 136.92471977\n",
      " 739.26116388]\n"
     ]
    },
    {
     "name": "stderr",
     "output_type": "stream",
     "text": [
      "Generating SDSSXCS-29 hydrostatic mass profile:  90%|██████████████████▉  | 135/150 [1:14:57<11:49, 47.31s/it]"
     ]
    },
    {
     "name": "stdout",
     "output_type": "stream",
     "text": [
      "The chain is shorter than 50 times the integrated autocorrelation time for 2 parameter(s). Use this estimate with caution and run a longer chain!\n",
      "N/50 = 400;\n",
      "tau: [273.78724269 408.11984945 478.09988586 260.55134713 208.64636396\n",
      " 203.43667494]\n",
      "The chain is shorter than 50 times the integrated autocorrelation time for 1 parameter(s). Use this estimate with caution and run a longer chain!\n",
      "N/50 = 400;\n",
      "tau: [  82.53537154   84.59491801 1021.00735016   84.51444892   80.64819015\n",
      "   86.45092577]\n"
     ]
    },
    {
     "name": "stderr",
     "output_type": "stream",
     "text": [
      "Generating SDSSXCS-110 hydrostatic mass profile:  91%|██████████████████▏ | 136/150 [1:15:50<11:22, 48.75s/it]"
     ]
    },
    {
     "name": "stdout",
     "output_type": "stream",
     "text": [
      "The chain is shorter than 50 times the integrated autocorrelation time for 4 parameter(s). Use this estimate with caution and run a longer chain!\n",
      "N/50 = 400;\n",
      "tau: [1036.99512374 1528.96029832  450.71376669 1360.6153676   346.76158209\n",
      "  330.8095741 ]\n",
      "The chain is shorter than 50 times the integrated autocorrelation time for 1 parameter(s). Use this estimate with caution and run a longer chain!\n",
      "N/50 = 400;\n",
      "tau: [  93.75550798   97.00919659 1016.56282043  109.86181145  136.58874003\n",
      "   71.39722314]\n"
     ]
    },
    {
     "name": "stderr",
     "output_type": "stream",
     "text": [
      "Generating SDSSXCS-62 hydrostatic mass profile:  92%|███████████████████▎ | 138/150 [1:17:28<09:43, 48.58s/it]/mnt/pact/dt237/code/PycharmProjects/XGA/xga/sourcetools/mass.py:240: UserWarning: The density profile for SDSSXCS-62 could not be generated\n",
      "  warn(\"The density profile for {} could not be generated\".format(src.name))\n",
      "Generating SDSSXCS-236 hydrostatic mass profile:  93%|██████████████████▌ | 139/150 [1:17:28<08:54, 48.58s/it]"
     ]
    },
    {
     "name": "stdout",
     "output_type": "stream",
     "text": [
      "The chain is shorter than 50 times the integrated autocorrelation time for 6 parameter(s). Use this estimate with caution and run a longer chain!\n",
      "N/50 = 400;\n",
      "tau: [1057.4647488  1174.69675993 1204.54465512 1135.10451238 1080.78264642\n",
      " 1106.01842823]\n",
      "The chain is shorter than 50 times the integrated autocorrelation time for 4 parameter(s). Use this estimate with caution and run a longer chain!\n",
      "N/50 = 400;\n",
      "tau: [ 504.62606165 1088.86361947  647.76432057  508.05082209  312.57470359\n",
      "  283.71559457]\n",
      "The chain is shorter than 50 times the integrated autocorrelation time for 6 parameter(s). Use this estimate with caution and run a longer chain!\n",
      "N/50 = 400;\n",
      "tau: [ 657.2881914  1893.39944218 1709.30285912  584.91978601  523.2968303\n",
      " 1958.15271853]\n"
     ]
    },
    {
     "name": "stderr",
     "output_type": "stream",
     "text": [
      "Generating SDSSXCS-765 hydrostatic mass profile:  93%|██████████████████▋ | 140/150 [1:18:19<06:20, 38.03s/it]/mnt/pact/dt237/code/PycharmProjects/XGA/xga/sourcetools/mass.py:240: UserWarning: The density profile for SDSSXCS-765 could not be generated\n",
      "  warn(\"The density profile for {} could not be generated\".format(src.name))\n",
      "Generating SDSSXCS-51 hydrostatic mass profile:  94%|███████████████████▋ | 141/150 [1:18:19<05:42, 38.03s/it]"
     ]
    },
    {
     "name": "stdout",
     "output_type": "stream",
     "text": [
      "The chain is shorter than 50 times the integrated autocorrelation time for 1 parameter(s). Use this estimate with caution and run a longer chain!\n",
      "N/50 = 400;\n",
      "tau: [336.04311612 458.35791163 376.19350363 372.00863034 279.06160474\n",
      " 217.46861962]\n"
     ]
    },
    {
     "name": "stderr",
     "output_type": "stream",
     "text": [
      "Generating SDSSXCS-41 hydrostatic mass profile:  95%|███████████████████▉ | 142/150 [1:19:09<04:22, 32.76s/it]"
     ]
    },
    {
     "name": "stdout",
     "output_type": "stream",
     "text": [
      "The chain is shorter than 50 times the integrated autocorrelation time for 4 parameter(s). Use this estimate with caution and run a longer chain!\n",
      "N/50 = 400;\n",
      "tau: [ 574.15170417 1113.36155915 1389.32660502  297.40474741  186.60410091\n",
      " 1287.09107671]\n",
      "The chain is shorter than 50 times the integrated autocorrelation time for 1 parameter(s). Use this estimate with caution and run a longer chain!\n",
      "N/50 = 400;\n",
      "tau: [ 90.79060162  99.89338142 432.53920693  90.37527319  83.05975734\n",
      " 112.03875805]\n"
     ]
    },
    {
     "name": "stderr",
     "output_type": "stream",
     "text": [
      "Generating SDSSXCS-34 hydrostatic mass profile:  95%|████████████████████ | 143/150 [1:19:59<04:16, 36.64s/it]"
     ]
    },
    {
     "name": "stdout",
     "output_type": "stream",
     "text": [
      "The chain is shorter than 50 times the integrated autocorrelation time for 5 parameter(s). Use this estimate with caution and run a longer chain!\n",
      "N/50 = 400;\n",
      "tau: [ 543.37171879 1512.33514818  842.32005084  668.79842713  362.82036863\n",
      "  586.9991215 ]\n"
     ]
    },
    {
     "name": "stderr",
     "output_type": "stream",
     "text": [
      "Generating SDSSXCS-11154 hydrostatic mass profile:  96%|█████████████████▎| 144/150 [1:20:45<03:53, 38.95s/it]"
     ]
    },
    {
     "name": "stdout",
     "output_type": "stream",
     "text": [
      "The chain is shorter than 50 times the integrated autocorrelation time for 1 parameter(s). Use this estimate with caution and run a longer chain!\n",
      "N/50 = 400;\n",
      "tau: [239.75625622 244.79400541 826.03773634 254.260189   151.51616397\n",
      " 252.14558986]\n",
      "The chain is shorter than 50 times the integrated autocorrelation time for 4 parameter(s). Use this estimate with caution and run a longer chain!\n",
      "N/50 = 400;\n",
      "tau: [454.34351669 609.14150335 422.14559474 505.57645702 247.91246098\n",
      " 265.56419747]\n",
      "The chain is shorter than 50 times the integrated autocorrelation time for 1 parameter(s). Use this estimate with caution and run a longer chain!\n",
      "N/50 = 400;\n",
      "tau: [  84.30768494   86.39840641 1063.10177526   92.46393395   93.94192334\n",
      "   90.17067348]\n"
     ]
    },
    {
     "name": "stderr",
     "output_type": "stream",
     "text": [
      "Generating SDSSXCS-2092 hydrostatic mass profile:  97%|██████████████████▎| 145/150 [1:21:37<03:31, 42.26s/it]/mnt/pact/dt237/code/PycharmProjects/XGA/xga/sourcetools/mass.py:240: UserWarning: The density profile for SDSSXCS-2092 could not be generated\n",
      "  warn(\"The density profile for {} could not be generated\".format(src.name))\n",
      "Generating SDSSXCS-17923 hydrostatic mass profile:  97%|█████████████████▌| 146/150 [1:21:37<02:49, 42.26s/it]/mnt/pact/dt237/code/PycharmProjects/XGA/xga/sourcetools/mass.py:240: UserWarning: The density profile for SDSSXCS-17923 could not be generated\n",
      "  warn(\"The density profile for {} could not be generated\".format(src.name))\n",
      "Generating SDSSXCS-68 hydrostatic mass profile:  98%|████████████████████▌| 147/150 [1:21:37<02:06, 42.26s/it]"
     ]
    },
    {
     "name": "stdout",
     "output_type": "stream",
     "text": [
      "The chain is shorter than 50 times the integrated autocorrelation time for 3 parameter(s). Use this estimate with caution and run a longer chain!\n",
      "N/50 = 400;\n",
      "tau: [478.57120968 471.29247017 324.09308278 552.39224513 283.56223698\n",
      " 249.85481956]\n",
      "The chain is shorter than 50 times the integrated autocorrelation time for 4 parameter(s). Use this estimate with caution and run a longer chain!\n",
      "N/50 = 400;\n",
      "tau: [669.41967817 651.36869907 233.35471736 594.29698452 230.90578636\n",
      " 430.97462831]\n"
     ]
    },
    {
     "name": "stderr",
     "output_type": "stream",
     "text": [
      "Generating SDSSXCS-147 hydrostatic mass profile:  99%|███████████████████▋| 148/150 [1:22:26<00:57, 28.74s/it]"
     ]
    },
    {
     "name": "stdout",
     "output_type": "stream",
     "text": [
      "The chain is shorter than 50 times the integrated autocorrelation time for 3 parameter(s). Use this estimate with caution and run a longer chain!\n",
      "N/50 = 400;\n",
      "tau: [293.36414555 877.58024798 749.54970173 569.86668615 329.25485639\n",
      " 275.07516415]\n"
     ]
    }
   ],
   "source": [
    "sb_dblbeta_simpvikh_1_totmc1500_mp = inv_abel_dens_onion_temp(xcs_srcs, xcs_srcs.r500, 'double_beta', \n",
    "                                                                'simple_vikhlinin_dens', 'simple_vikhlinin_temp', \n",
    "                                                                'r500', temp_annulus_method='min_cnt', \n",
    "                                                                temp_min_cnt=Quantity(1500, 'ct'), \n",
    "                                                                temp_use_combined=True)"
   ]
  },
  {
   "cell_type": "code",
   "execution_count": null,
   "id": "707ccff0",
   "metadata": {},
   "outputs": [],
   "source": [
    "# print(\"There are\", len([m for m in sb_dblbeta_simpvikh_11_m500[:, 0] if np.isfinite(m)]), \n",
    "#       \"clusters with successful mass measurements\")"
   ]
  },
  {
   "cell_type": "code",
   "execution_count": 10,
   "id": "7476b82b",
   "metadata": {},
   "outputs": [
    {
     "name": "stderr",
     "output_type": "stream",
     "text": [
      "Measuring Masses for SDSSRM-XCS Clusters:   0%|                                       | 0/150 [00:00<?, ?it/s]/mnt/pact/dt237/code/PycharmProjects/XGA/xga/products/profile.py:475: UserWarning: The outer radius you supplied is greater than or equal to the outer radius covered by the data, so you are effectively extrapolating using the model.\n",
      "  warn(\"The outer radius you supplied is greater than or equal to the outer radius covered by the data, so\"\n",
      "Measuring Masses for SDSSRM-XCS Clusters: 100%|█████████████████████████████| 150/150 [10:55<00:00,  4.37s/it]\n"
     ]
    }
   ],
   "source": [
    "sb_dblbeta_simpvikh_1_mc1500_m500 = []\n",
    "# Tidy this up\n",
    "gmasses = []\n",
    "\n",
    "with tqdm(desc='Measuring Masses for SDSSRM-XCS Clusters', total=len(sb_dblbeta_simpvikh_1_totmc1500_mp)) as onwards:\n",
    "    for mp in sb_dblbeta_simpvikh_1_totmc1500_mp:\n",
    "        if mp is not None:\n",
    "            rel_src = xcs_srcs[mp.src_name]\n",
    "            m = mp.mass(rel_src.r500)[0]\n",
    "            gm = mp.density_profile.gas_mass('simple_vikhlinin_dens', rel_src.r500)[0]\n",
    "        else:\n",
    "            m = Quantity([np.NaN, np.NaN, np.NaN], 'Msun')\n",
    "            gm = Quantity([np.NaN, np.NaN, np.NaN], 'Msun')\n",
    "            \n",
    "        sb_dblbeta_simpvikh_1_mc1500_m500.append(m)\n",
    "        gmasses.append(gm)\n",
    "        \n",
    "        onwards.update(1)\n",
    "\n",
    "sb_dblbeta_simpvikh_1_mc1500_m500 = Quantity(sb_dblbeta_simpvikh_1_mc1500_m500)\n",
    "gmasses = Quantity(gmasses)"
   ]
  },
  {
   "cell_type": "code",
   "execution_count": null,
   "id": "078c8357",
   "metadata": {},
   "outputs": [],
   "source": [
    "# all_info = []\n",
    "# for src_ind, src in enumerate(xcs_srcs):\n",
    "#     mass = sb_dblbeta_simpvikh_1_mc1500_m500[src_ind, :].value\n",
    "    \n",
    "#     if sb_dblbeta_simpvikh_1_totmc1500_mp[src_ind] is not None:\n",
    "#         try:\n",
    "#             alt_r500 = sb_dblbeta_simpvikh_1_totmc1500_mp[src_ind].overdensity_radius(500, src.redshift, src.cosmo)\n",
    "#             alt_m500 = sb_dblbeta_simpvikh_1_totmc1500_mp[src_ind].mass(alt_r500)[0]\n",
    "            \n",
    "#             alt_r2500 = sb_dblbeta_simpvikh_1_totmc1500_mp[src_ind].overdensity_radius(2500, src.redshift, src.cosmo)\n",
    "#             alt_m2500 = sb_dblbeta_simpvikh_1_totmc1500_mp[src_ind].mass(alt_r2500)[0]\n",
    "#         except ValueError:\n",
    "#             alt_m500 = Quantity([np.NaN, np.NaN, np.NaN], 'Msun')\n",
    "#             alt_m2500 = Quantity([np.NaN, np.NaN, np.NaN], 'Msun')\n",
    "#     else:\n",
    "#         alt_m500 = Quantity([np.NaN, np.NaN, np.NaN], 'Msun')\n",
    "#         alt_m2500 = Quantity([np.NaN, np.NaN, np.NaN], 'Msun')\n",
    "                \n",
    "#     rich = src.richness.value\n",
    "#     z = src.redshift\n",
    "#     try:\n",
    "#         tx = src.get_temperature(src.r500).value\n",
    "#         lx = src.get_luminosities(src.r500, lo_en=Quantity(0.5, 'keV'), hi_en=Quantity(2.0, 'keV')).value\n",
    "#         lxce = src.get_luminosities(src.r500, inner_radius=src.r500*0.15, lo_en=Quantity(0.5, 'keV'), \n",
    "#                                     hi_en=Quantity(2.0, 'keV')).value\n",
    "#     except ModelNotAssociatedError:\n",
    "#         tx = np.array([np.NaN, np.NaN, np.NaN])\n",
    "#         lx = np.array([np.NaN, np.NaN, np.NaN])\n",
    "#         lxce = np.array([np.NaN, np.NaN, np.NaN])\n",
    "        \n",
    "#     all_info.append([z, *mass, *rich, *tx, *lx, *lxce, *alt_m500.value, *alt_m2500.value])\n",
    "\n",
    "# all_info = np.array(all_info)\n",
    "# all_info_df = pd.DataFrame(data=all_info, columns=['z', 'm500', 'm500-', 'm500+', 'richness', 'richness_err', \n",
    "#                                                    'Tx500', 'Tx500-', 'Tx500+', 'Lx500', 'Lx500-', 'Lx500+', \n",
    "#                                                    'Lxce500', 'Lxce500-', 'Lxce500+', 'alt_m500', 'alt_m500-', \n",
    "#                                                    'alt_m500+', 'alt_m2500', 'alt_m2500-', 'alt_m2500+'])\n",
    "# all_info_df.to_csv('prelim_masses_xapa_centres.csv', index=False)"
   ]
  },
  {
   "cell_type": "code",
   "execution_count": 12,
   "id": "07fbb6f2",
   "metadata": {},
   "outputs": [
    {
     "name": "stderr",
     "output_type": "stream",
     "text": [
      "/mnt/pact/dt237/code/PycharmProjects/XGA/xga/samples/extended.py:479: UserWarning: Those spectra have no associated XSPEC fit to SDSSXCS-6307\n",
      "  warn(str(err))\n",
      "/mnt/pact/dt237/code/PycharmProjects/XGA/xga/samples/base.py:280: UserWarning: These spectra have no associated XSPEC fit to SDSSXCS-6307.\n",
      "  warn(str(err))\n"
     ]
    },
    {
     "data": {
      "text/html": [
       "<div>\n",
       "<style scoped>\n",
       "    .dataframe tbody tr th:only-of-type {\n",
       "        vertical-align: middle;\n",
       "    }\n",
       "\n",
       "    .dataframe tbody tr th {\n",
       "        vertical-align: top;\n",
       "    }\n",
       "\n",
       "    .dataframe thead th {\n",
       "        text-align: right;\n",
       "    }\n",
       "</style>\n",
       "<table border=\"1\" class=\"dataframe\">\n",
       "  <thead>\n",
       "    <tr style=\"text-align: right;\">\n",
       "      <th></th>\n",
       "      <th>ra</th>\n",
       "      <th>dec</th>\n",
       "      <th>z</th>\n",
       "      <th>name</th>\n",
       "      <th>Tx</th>\n",
       "      <th>Tx-</th>\n",
       "      <th>Tx+</th>\n",
       "      <th>Lx</th>\n",
       "      <th>Lx-</th>\n",
       "      <th>Lx+</th>\n",
       "      <th>...</th>\n",
       "      <th>Lxb-</th>\n",
       "      <th>Lxb+</th>\n",
       "      <th>Mhy</th>\n",
       "      <th>Mhy-</th>\n",
       "      <th>Mhy+</th>\n",
       "      <th>Mg</th>\n",
       "      <th>Mg-</th>\n",
       "      <th>Mg+</th>\n",
       "      <th>rich</th>\n",
       "      <th>rich_err</th>\n",
       "    </tr>\n",
       "  </thead>\n",
       "  <tbody>\n",
       "    <tr>\n",
       "      <th>0</th>\n",
       "      <td>0.80057775</td>\n",
       "      <td>-6.0918182</td>\n",
       "      <td>0.2474828</td>\n",
       "      <td>SDSSXCS-124</td>\n",
       "      <td>6.92015</td>\n",
       "      <td>0.1163663749999992</td>\n",
       "      <td>0.1116456080000007</td>\n",
       "      <td>5.31039497e+44</td>\n",
       "      <td>2.66229592574526e+42</td>\n",
       "      <td>2.4917862502903803e+42</td>\n",
       "      <td>...</td>\n",
       "      <td>1.9472816076054843e+43</td>\n",
       "      <td>1.9727787831181053e+43</td>\n",
       "      <td>7.871461560565212</td>\n",
       "      <td>0.8315951962102863</td>\n",
       "      <td>0.8170935136556389</td>\n",
       "      <td>1.0497754408987432</td>\n",
       "      <td>0.002671203662080157</td>\n",
       "      <td>0.002677324929883438</td>\n",
       "      <td>109.550186</td>\n",
       "      <td>4.4896803</td>\n",
       "    </tr>\n",
       "    <tr>\n",
       "      <th>1</th>\n",
       "      <td>0.95553986</td>\n",
       "      <td>2.068019</td>\n",
       "      <td>0.105285384</td>\n",
       "      <td>SDSSXCS-2789</td>\n",
       "      <td>4.53982</td>\n",
       "      <td>0.0730187390000001</td>\n",
       "      <td>0.074565926</td>\n",
       "      <td>1.029585351e+44</td>\n",
       "      <td>5.9013117083831006e+41</td>\n",
       "      <td>6.4802489310322005e+41</td>\n",
       "      <td>...</td>\n",
       "      <td>3.6500470323010505e+42</td>\n",
       "      <td>3.5337758321586305e+42</td>\n",
       "      <td>5.305239234623756</td>\n",
       "      <td>0.769379385611082</td>\n",
       "      <td>0.8162252047987939</td>\n",
       "      <td>0.2776333161704526</td>\n",
       "      <td>0.0011944057560014847</td>\n",
       "      <td>0.0012060626664146487</td>\n",
       "      <td>38.904396000000006</td>\n",
       "      <td>2.8302057</td>\n",
       "    </tr>\n",
       "    <tr>\n",
       "      <th>2</th>\n",
       "      <td>2.7226392</td>\n",
       "      <td>29.161021</td>\n",
       "      <td>0.34849474</td>\n",
       "      <td>SDSSXCS-290</td>\n",
       "      <td>5.31695</td>\n",
       "      <td>0.2978612860000007</td>\n",
       "      <td>0.3363328149999995</td>\n",
       "      <td>2.856684648e+44</td>\n",
       "      <td>6.287688268367601e+42</td>\n",
       "      <td>5.761349886177681e+42</td>\n",
       "      <td>...</td>\n",
       "      <td>3.8814952482348093e+43</td>\n",
       "      <td>3.677474692465036e+43</td>\n",
       "      <td>3.0975910251578815</td>\n",
       "      <td>0.3826599999065154</td>\n",
       "      <td>0.3908021253239738</td>\n",
       "      <td>0.4870513623059551</td>\n",
       "      <td>0.0027624991008549224</td>\n",
       "      <td>0.0026620737390731252</td>\n",
       "      <td>105.09573</td>\n",
       "      <td>5.9943213</td>\n",
       "    </tr>\n",
       "    <tr>\n",
       "      <th>3</th>\n",
       "      <td>4.4063253</td>\n",
       "      <td>-0.87619162</td>\n",
       "      <td>0.21440332</td>\n",
       "      <td>SDSSXCS-1018</td>\n",
       "      <td>3.90154</td>\n",
       "      <td>0.1435351899999997</td>\n",
       "      <td>0.1515063040000006</td>\n",
       "      <td>8.044819691000001e+43</td>\n",
       "      <td>1.3301261795678301e+42</td>\n",
       "      <td>1.4429986532833002e+42</td>\n",
       "      <td>...</td>\n",
       "      <td>5.91709700237795e+42</td>\n",
       "      <td>5.5513793421503903e+42</td>\n",
       "      <td>3.5445171559147917</td>\n",
       "      <td>0.5806382140918169</td>\n",
       "      <td>0.5355195670608626</td>\n",
       "      <td>0.2619308180201717</td>\n",
       "      <td>0.002086735159660391</td>\n",
       "      <td>0.002161842676800977</td>\n",
       "      <td>56.996796</td>\n",
       "      <td>3.2192018</td>\n",
       "    </tr>\n",
       "    <tr>\n",
       "      <th>4</th>\n",
       "      <td>4.9083898</td>\n",
       "      <td>3.6098177</td>\n",
       "      <td>0.27730444</td>\n",
       "      <td>SDSSXCS-134</td>\n",
       "      <td>6.72636</td>\n",
       "      <td>0.1165286779999998</td>\n",
       "      <td>0.1165610109999999</td>\n",
       "      <td>4.8118889700000005e+44</td>\n",
       "      <td>2.5979896055238903e+42</td>\n",
       "      <td>2.5333202927755703e+42</td>\n",
       "      <td>...</td>\n",
       "      <td>1.941465344835279e+43</td>\n",
       "      <td>1.9757316883910582e+43</td>\n",
       "      <td>5.270972186945933</td>\n",
       "      <td>0.5204600816598332</td>\n",
       "      <td>0.5578078943261007</td>\n",
       "      <td>0.9027082384124043</td>\n",
       "      <td>0.002702996171646719</td>\n",
       "      <td>0.0028627354714790628</td>\n",
       "      <td>108.60438</td>\n",
       "      <td>4.7924843</td>\n",
       "    </tr>\n",
       "    <tr>\n",
       "      <th>5</th>\n",
       "      <td>8.464699000000001</td>\n",
       "      <td>-7.8629006</td>\n",
       "      <td>0.3041736</td>\n",
       "      <td>SDSSXCS-119</td>\n",
       "      <td>4.93463</td>\n",
       "      <td>0.400290461</td>\n",
       "      <td>0.4561698349999998</td>\n",
       "      <td>2.049786894e+44</td>\n",
       "      <td>5.98675870665629e+42</td>\n",
       "      <td>6.07824336733596e+42</td>\n",
       "      <td>...</td>\n",
       "      <td>4.1504687959522453e+43</td>\n",
       "      <td>4.024668259058132e+43</td>\n",
       "      <td>nan</td>\n",
       "      <td>nan</td>\n",
       "      <td>nan</td>\n",
       "      <td>nan</td>\n",
       "      <td>nan</td>\n",
       "      <td>nan</td>\n",
       "      <td>128.19176000000002</td>\n",
       "      <td>5.6970525</td>\n",
       "    </tr>\n",
       "    <tr>\n",
       "      <th>6</th>\n",
       "      <td>9.2768176</td>\n",
       "      <td>9.1571879</td>\n",
       "      <td>0.26882175</td>\n",
       "      <td>SDSSXCS-209</td>\n",
       "      <td>8.02713</td>\n",
       "      <td>0.1918950019999998</td>\n",
       "      <td>0.2117091880000003</td>\n",
       "      <td>4.4028654710000005e+44</td>\n",
       "      <td>3.9312175025851006e+42</td>\n",
       "      <td>2.2085091380510804e+42</td>\n",
       "      <td>...</td>\n",
       "      <td>2.7819152619000073e+43</td>\n",
       "      <td>2.1261039880213703e+43</td>\n",
       "      <td>9.312829063587843</td>\n",
       "      <td>0.9805979264132864</td>\n",
       "      <td>0.9469651774330526</td>\n",
       "      <td>0.993735860252137</td>\n",
       "      <td>0.001907227722551719</td>\n",
       "      <td>0.0019023319630782816</td>\n",
       "      <td>101.70913</td>\n",
       "      <td>4.746494</td>\n",
       "    </tr>\n",
       "    <tr>\n",
       "      <th>7</th>\n",
       "      <td>11.62825</td>\n",
       "      <td>20.467691</td>\n",
       "      <td>0.103966124</td>\n",
       "      <td>SDSSXCS-15</td>\n",
       "      <td>2.5989</td>\n",
       "      <td>0.1290666759999998</td>\n",
       "      <td>0.139564472</td>\n",
       "      <td>3.346000822e+43</td>\n",
       "      <td>8.221842210207401e+41</td>\n",
       "      <td>6.029793305055101e+41</td>\n",
       "      <td>...</td>\n",
       "      <td>2.80764836197768e+42</td>\n",
       "      <td>3.2759733752839103e+42</td>\n",
       "      <td>4.968998190985785</td>\n",
       "      <td>1.1576754211846683</td>\n",
       "      <td>1.187072948872649</td>\n",
       "      <td>0.159568496869965</td>\n",
       "      <td>0.0008463542119589259</td>\n",
       "      <td>0.0008320504403585158</td>\n",
       "      <td>123.355934</td>\n",
       "      <td>3.702013</td>\n",
       "    </tr>\n",
       "    <tr>\n",
       "      <th>8</th>\n",
       "      <td>13.996563</td>\n",
       "      <td>26.330304</td>\n",
       "      <td>0.1961017</td>\n",
       "      <td>SDSSXCS-71</td>\n",
       "      <td>5.79498</td>\n",
       "      <td>0.1212898949999994</td>\n",
       "      <td>0.1164601819999999</td>\n",
       "      <td>2.7011214620000004e+44</td>\n",
       "      <td>1.68283744445589e+42</td>\n",
       "      <td>1.58053911640011e+42</td>\n",
       "      <td>...</td>\n",
       "      <td>1.1123645993216431e+43</td>\n",
       "      <td>1.124697395489784e+43</td>\n",
       "      <td>5.484082314335319</td>\n",
       "      <td>0.4491889974406019</td>\n",
       "      <td>0.4375744513915813</td>\n",
       "      <td>1.045923426013181</td>\n",
       "      <td>0.0019086709274671878</td>\n",
       "      <td>0.001865632603873438</td>\n",
       "      <td>112.92153</td>\n",
       "      <td>4.16637</td>\n",
       "    </tr>\n",
       "    <tr>\n",
       "      <th>9</th>\n",
       "      <td>16.061785</td>\n",
       "      <td>25.086602</td>\n",
       "      <td>0.16580287</td>\n",
       "      <td>SDSSXCS-5020</td>\n",
       "      <td>3.97149</td>\n",
       "      <td>0.337614571</td>\n",
       "      <td>0.3905836569999996</td>\n",
       "      <td>5.026335576e+43</td>\n",
       "      <td>1.95047342614883e+42</td>\n",
       "      <td>1.66522980016521e+42</td>\n",
       "      <td>...</td>\n",
       "      <td>1.0519458398044761e+43</td>\n",
       "      <td>9.83199704102187e+42</td>\n",
       "      <td>3.994999508747787</td>\n",
       "      <td>1.8944469510403497</td>\n",
       "      <td>2.2483869713864615</td>\n",
       "      <td>0.0827848996292922</td>\n",
       "      <td>0.001828184417388184</td>\n",
       "      <td>0.0017045328285384671</td>\n",
       "      <td>30.468397</td>\n",
       "      <td>3.0966108</td>\n",
       "    </tr>\n",
       "  </tbody>\n",
       "</table>\n",
       "<p>10 rows × 21 columns</p>\n",
       "</div>"
      ],
      "text/plain": [
       "                  ra          dec            z          name       Tx  \\\n",
       "0         0.80057775   -6.0918182    0.2474828   SDSSXCS-124  6.92015   \n",
       "1         0.95553986     2.068019  0.105285384  SDSSXCS-2789  4.53982   \n",
       "2          2.7226392    29.161021   0.34849474   SDSSXCS-290  5.31695   \n",
       "3          4.4063253  -0.87619162   0.21440332  SDSSXCS-1018  3.90154   \n",
       "4          4.9083898    3.6098177   0.27730444   SDSSXCS-134  6.72636   \n",
       "5  8.464699000000001   -7.8629006    0.3041736   SDSSXCS-119  4.93463   \n",
       "6          9.2768176    9.1571879   0.26882175   SDSSXCS-209  8.02713   \n",
       "7           11.62825    20.467691  0.103966124    SDSSXCS-15   2.5989   \n",
       "8          13.996563    26.330304    0.1961017    SDSSXCS-71  5.79498   \n",
       "9          16.061785    25.086602   0.16580287  SDSSXCS-5020  3.97149   \n",
       "\n",
       "                  Tx-                 Tx+                      Lx  \\\n",
       "0  0.1163663749999992  0.1116456080000007          5.31039497e+44   \n",
       "1  0.0730187390000001         0.074565926         1.029585351e+44   \n",
       "2  0.2978612860000007  0.3363328149999995         2.856684648e+44   \n",
       "3  0.1435351899999997  0.1515063040000006   8.044819691000001e+43   \n",
       "4  0.1165286779999998  0.1165610109999999  4.8118889700000005e+44   \n",
       "5         0.400290461  0.4561698349999998         2.049786894e+44   \n",
       "6  0.1918950019999998  0.2117091880000003  4.4028654710000005e+44   \n",
       "7  0.1290666759999998         0.139564472         3.346000822e+43   \n",
       "8  0.1212898949999994  0.1164601819999999  2.7011214620000004e+44   \n",
       "9         0.337614571  0.3905836569999996         5.026335576e+43   \n",
       "\n",
       "                      Lx-                     Lx+  ...  \\\n",
       "0    2.66229592574526e+42  2.4917862502903803e+42  ...   \n",
       "1  5.9013117083831006e+41  6.4802489310322005e+41  ...   \n",
       "2   6.287688268367601e+42   5.761349886177681e+42  ...   \n",
       "3  1.3301261795678301e+42  1.4429986532833002e+42  ...   \n",
       "4  2.5979896055238903e+42  2.5333202927755703e+42  ...   \n",
       "5    5.98675870665629e+42    6.07824336733596e+42  ...   \n",
       "6  3.9312175025851006e+42  2.2085091380510804e+42  ...   \n",
       "7   8.221842210207401e+41   6.029793305055101e+41  ...   \n",
       "8    1.68283744445589e+42    1.58053911640011e+42  ...   \n",
       "9    1.95047342614883e+42    1.66522980016521e+42  ...   \n",
       "\n",
       "                     Lxb-                    Lxb+                 Mhy  \\\n",
       "0  1.9472816076054843e+43  1.9727787831181053e+43   7.871461560565212   \n",
       "1  3.6500470323010505e+42  3.5337758321586305e+42   5.305239234623756   \n",
       "2  3.8814952482348093e+43   3.677474692465036e+43  3.0975910251578815   \n",
       "3    5.91709700237795e+42  5.5513793421503903e+42  3.5445171559147917   \n",
       "4   1.941465344835279e+43  1.9757316883910582e+43   5.270972186945933   \n",
       "5  4.1504687959522453e+43   4.024668259058132e+43                 nan   \n",
       "6  2.7819152619000073e+43  2.1261039880213703e+43   9.312829063587843   \n",
       "7    2.80764836197768e+42  3.2759733752839103e+42   4.968998190985785   \n",
       "8  1.1123645993216431e+43   1.124697395489784e+43   5.484082314335319   \n",
       "9  1.0519458398044761e+43    9.83199704102187e+42   3.994999508747787   \n",
       "\n",
       "                 Mhy-                Mhy+                  Mg  \\\n",
       "0  0.8315951962102863  0.8170935136556389  1.0497754408987432   \n",
       "1   0.769379385611082  0.8162252047987939  0.2776333161704526   \n",
       "2  0.3826599999065154  0.3908021253239738  0.4870513623059551   \n",
       "3  0.5806382140918169  0.5355195670608626  0.2619308180201717   \n",
       "4  0.5204600816598332  0.5578078943261007  0.9027082384124043   \n",
       "5                 nan                 nan                 nan   \n",
       "6  0.9805979264132864  0.9469651774330526   0.993735860252137   \n",
       "7  1.1576754211846683   1.187072948872649   0.159568496869965   \n",
       "8  0.4491889974406019  0.4375744513915813   1.045923426013181   \n",
       "9  1.8944469510403497  2.2483869713864615  0.0827848996292922   \n",
       "\n",
       "                     Mg-                    Mg+                rich   rich_err  \n",
       "0   0.002671203662080157   0.002677324929883438          109.550186  4.4896803  \n",
       "1  0.0011944057560014847  0.0012060626664146487  38.904396000000006  2.8302057  \n",
       "2  0.0027624991008549224  0.0026620737390731252           105.09573  5.9943213  \n",
       "3   0.002086735159660391   0.002161842676800977           56.996796  3.2192018  \n",
       "4   0.002702996171646719  0.0028627354714790628           108.60438  4.7924843  \n",
       "5                    nan                    nan  128.19176000000002  5.6970525  \n",
       "6   0.001907227722551719  0.0019023319630782816           101.70913   4.746494  \n",
       "7  0.0008463542119589259  0.0008320504403585158          123.355934   3.702013  \n",
       "8  0.0019086709274671878   0.001865632603873438           112.92153    4.16637  \n",
       "9   0.001828184417388184  0.0017045328285384671           30.468397  3.0966108  \n",
       "\n",
       "[10 rows x 21 columns]"
      ]
     },
     "execution_count": 12,
     "metadata": {},
     "output_type": "execute_result"
    }
   ],
   "source": [
    "sdss_cols = ['ra', 'dec', 'z', 'name', 'Tx', 'Tx-', 'Tx+', 'Lx', 'Lx-', 'Lx+', 'Lxb', 'Lxb-', 'Lxb+', \n",
    "            'Mhy', 'Mhy-', 'Mhy+', 'Mg', 'Mg-', 'Mg+', 'rich', 'rich_err']\n",
    "sdss_data = np.hstack([xcs_srcs.ra_decs.value, xcs_srcs.redshifts.T[..., None], xcs_srcs.names.T[..., None], \n",
    "                           xcs_srcs.Tx(quality_checks=False).value, \n",
    "                           xcs_srcs.Lx(xcs_srcs.r500, quality_checks=False).value, \n",
    "                          xcs_srcs.Lx(xcs_srcs.r500, quality_checks=False, lo_en=Quantity(0.01, 'keV'), \n",
    "                                        hi_en=Quantity(100, 'keV')).value, \n",
    "                       sb_dblbeta_simpvikh_1_mc1500_m500.to('1e+14 Msun').value, \n",
    "                       gmasses.to('1e+14 Msun').value, xcs_srcs.richness.value])\n",
    "sdss_df = pd.DataFrame(sdss_data, columns=sdss_cols)\n",
    "sdss_df.to_csv('thesis_sdss_meas.csv', index=False)\n",
    "sdss_df.head(10)"
   ]
  }
 ],
 "metadata": {
  "kernelspec": {
   "display_name": "Python 3 (ipykernel)",
   "language": "python",
   "name": "python3"
  },
  "language_info": {
   "codemirror_mode": {
    "name": "ipython",
    "version": 3
   },
   "file_extension": ".py",
   "mimetype": "text/x-python",
   "name": "python",
   "nbconvert_exporter": "python",
   "pygments_lexer": "ipython3",
   "version": "3.8.11"
  }
 },
 "nbformat": 4,
 "nbformat_minor": 5
}
