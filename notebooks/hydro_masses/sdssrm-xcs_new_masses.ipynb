{
 "cells": [
  {
   "cell_type": "markdown",
   "id": "e9ab26f6",
   "metadata": {},
   "source": [
    "# Measuring hydrostatic masses for SDSSRM-XCS galaxy clusters"
   ]
  },
  {
   "cell_type": "markdown",
   "id": "143018c0",
   "metadata": {},
   "source": [
    "In this notebook we perform new measurements of hydrostatic mass for a subset of the SDSSRM-XCS volume-limited, temperature error limited, galaxy cluster sample. We also aim to use the masses to construct mass observable relations between mass and various X-ray quantities, as well as mass and the optical quantity richness. These mass measurements are meant as a companion to the [Giles et al. (2022)](https://arxiv.org/abs/2202.11107) paper, which constructed the sample and reported measurements of temperature and luminosity."
   ]
  },
  {
   "cell_type": "code",
   "execution_count": 1,
   "id": "6967ea28",
   "metadata": {},
   "outputs": [],
   "source": [
    "import pandas as pd\n",
    "import numpy as np\n",
    "from astropy.units import Quantity, UnitConversionError\n",
    "from astropy.cosmology import LambdaCDM, WMAP9\n",
    "import matplotlib.pyplot as plt\n",
    "from typing import Union, List\n",
    "from shutil import rmtree\n",
    "import os\n",
    "from tqdm import tqdm\n",
    "from warnings import warn\n",
    "\n",
    "# This adds the directory above to the path, allowing me to import the common functions that I've written in\n",
    "#  common.py - this just saves me repeating boring code and makes sure its all consistent\n",
    "import sys\n",
    "sys.path.insert(0, '..')\n",
    "from common import xcs3p_colour, xcs_cosmo, direct_comparison_plot, find_lims, fit_comp\n",
    "\n",
    "import xga\n",
    "# This just sets the number of cores this analysis is allowed to use\n",
    "xga.NUM_CORES = 100\n",
    "# This is a bodge that will only work because xga_output in notebooks has already been defined, XGA\n",
    "#  will be made to handle this more gracefully at some point\n",
    "temp_dir = xga.OUTPUT\n",
    "actual_dir = temp_dir.split('notebooks/')[0]+'notebooks/xga_output/'\n",
    "xga.OUTPUT = actual_dir\n",
    "xga.utils.OUTPUT = actual_dir\n",
    "# As currently XGA will setup an xga_output directory in our current directory, I remove it to keep it all clean\n",
    "if os.path.exists('xga_output'):\n",
    "    rmtree('xga_output')\n",
    "from xga.samples import ClusterSample\n",
    "from xga.sourcetools.mass import inv_abel_dens_onion_temp\n",
    "from xga.relations.fit import scaling_relation_odr\n",
    "from xga.relations.clusters.MT import arnaud_m500\n",
    "from xga.models.misc import power_law\n",
    "from xga.exceptions import NoProductAvailableError, ModelNotAssociatedError\n",
    "from xga.xspec import single_temp_apec\n"
   ]
  },
  {
   "cell_type": "markdown",
   "id": "e5156436",
   "metadata": {},
   "source": [
    "## Reading in sample file and Declaring XGA ClusterSample"
   ]
  },
  {
   "cell_type": "markdown",
   "id": "8537959f",
   "metadata": {},
   "source": [
    "Reading in the sample csv file, containing XAPA positions, redshifts, XCS3P $R_{500}$ estimates, and richnesses. This is used to define the XGA ClusterSample, which in turn is what hydrostatic mass measurements are run on. We make sure to turn peak-finding off, as we base our measurements on XAPA positions."
   ]
  },
  {
   "cell_type": "code",
   "execution_count": 3,
   "id": "a76cc51b",
   "metadata": {},
   "outputs": [],
   "source": [
    "xcs3p = pd.read_csv(\"../../sample_files/xcs3p_sdssrm_vol_lim_temperr_25%_clusters.csv\")\n",
    "xcs3p_r2500 = pd.read_csv(\"../../sample_files/xcs3p_sdssrm_r2500_props_nonvol_lim_temperr_100%_clusters.csv\")"
   ]
  },
  {
   "cell_type": "code",
   "execution_count": 5,
   "id": "d11f9544",
   "metadata": {
    "scrolled": true
   },
   "outputs": [
    {
     "name": "stderr",
     "output_type": "stream",
     "text": [
      "Declaring BaseSource Sample:  31%|█████████████▏                             | 46/150 [02:58<06:06,  3.52s/it]/mnt/pact/dt237/code/PycharmProjects/XGA/xga/samples/base.py:90: UserWarning: Source SDSSXCS-1884 does not appear to have any XMM data, and will not be included in the sample.\n",
      "  warn(\"Source {n} does not appear to have any XMM data, and will not be included in the \"\n",
      "Declaring BaseSource Sample:  76%|███████████████████████████████▉          | 114/150 [07:23<02:19,  3.88s/it]/mnt/pact/dt237/code/PycharmProjects/XGA/xga/samples/base.py:90: UserWarning: Source SDSSXCS-210 does not appear to have any XMM data, and will not be included in the sample.\n",
      "  warn(\"Source {n} does not appear to have any XMM data, and will not be included in the \"\n",
      "Declaring BaseSource Sample: 100%|██████████████████████████████████████████| 150/150 [09:55<00:00,  3.97s/it]\n",
      "Setting up Galaxy Clusters:   7%|██▉                                         | 10/148 [00:26<05:51,  2.55s/it]/mnt/pact/dt237/code/PycharmProjects/XGA/xga/sources/base.py:1039: UserWarning: A previous annular spectra profile fit for SDSSXCS-2346 was not successful, or no matching spectrum has been loaded, so it cannot be read in\n",
      "  warnings.warn(\"A previous annular spectra profile fit for {src} was not successful, or no \"\n",
      "/mnt/pact/dt237/code/PycharmProjects/XGA/xga/sources/general.py:124: UserWarning: SDSSXCS-2346 has not been detected in all region files, so generating and fitting products with the 'region' reg_type will not use all available data\n",
      "  warnings.warn(\"{n} has not been detected in all region files, so generating and fitting products\"\n",
      "/mnt/pact/dt237/code/PycharmProjects/XGA/xga/sources/base.py:1039: UserWarning: A previous annular spectra profile fit for SDSSXCS-2346 was not successful, or no matching spectrum has been loaded, so it cannot be read in\n",
      "  warnings.warn(\"A previous annular spectra profile fit for {src} was not successful, or no \"\n",
      "Setting up Galaxy Clusters:   7%|███▎                                        | 11/148 [00:32<08:11,  3.59s/it]/mnt/pact/dt237/code/PycharmProjects/XGA/xga/sources/base.py:1039: UserWarning: A previous annular spectra profile fit for SDSSXCS-586 was not successful, or no matching spectrum has been loaded, so it cannot be read in\n",
      "  warnings.warn(\"A previous annular spectra profile fit for {src} was not successful, or no \"\n",
      "/mnt/pact/dt237/code/PycharmProjects/XGA/xga/sources/base.py:1039: UserWarning: A previous annular spectra profile fit for SDSSXCS-586 was not successful, or no matching spectrum has been loaded, so it cannot be read in\n",
      "  warnings.warn(\"A previous annular spectra profile fit for {src} was not successful, or no \"\n",
      "Setting up Galaxy Clusters:   8%|███▌                                        | 12/148 [00:35<07:50,  3.46s/it]/mnt/pact/dt237/code/PycharmProjects/XGA/xga/sources/general.py:124: UserWarning: SDSSXCS-11331 has not been detected in all region files, so generating and fitting products with the 'region' reg_type will not use all available data\n",
      "  warnings.warn(\"{n} has not been detected in all region files, so generating and fitting products\"\n",
      "Setting up Galaxy Clusters:   9%|███▊                                        | 13/148 [00:39<07:50,  3.49s/it]/mnt/pact/dt237/code/PycharmProjects/XGA/xga/sources/base.py:1039: UserWarning: A previous annular spectra profile fit for SDSSXCS-28849 was not successful, or no matching spectrum has been loaded, so it cannot be read in\n",
      "  warnings.warn(\"A previous annular spectra profile fit for {src} was not successful, or no \"\n",
      "/mnt/pact/dt237/code/PycharmProjects/XGA/xga/sources/general.py:124: UserWarning: SDSSXCS-28849 has not been detected in all region files, so generating and fitting products with the 'region' reg_type will not use all available data\n",
      "  warnings.warn(\"{n} has not been detected in all region files, so generating and fitting products\"\n",
      "/mnt/pact/dt237/code/PycharmProjects/XGA/xga/sources/base.py:1039: UserWarning: A previous annular spectra profile fit for SDSSXCS-28849 was not successful, or no matching spectrum has been loaded, so it cannot be read in\n",
      "  warnings.warn(\"A previous annular spectra profile fit for {src} was not successful, or no \"\n",
      "Setting up Galaxy Clusters:   9%|████▏                                       | 14/148 [00:45<09:27,  4.24s/it]/mnt/pact/dt237/code/PycharmProjects/XGA/xga/sources/general.py:124: UserWarning: SDSSXCS-31144 has not been detected in all region files, so generating and fitting products with the 'region' reg_type will not use all available data\n",
      "  warnings.warn(\"{n} has not been detected in all region files, so generating and fitting products\"\n",
      "Setting up Galaxy Clusters:  13%|█████▋                                      | 19/148 [01:01<06:13,  2.90s/it]/mnt/pact/dt237/code/PycharmProjects/XGA/xga/sources/general.py:124: UserWarning: SDSSXCS-35404 has not been detected in all region files, so generating and fitting products with the 'region' reg_type will not use all available data\n",
      "  warnings.warn(\"{n} has not been detected in all region files, so generating and fitting products\"\n",
      "Setting up Galaxy Clusters:  14%|█████▉                                      | 20/148 [01:05<07:08,  3.35s/it]/mnt/pact/dt237/code/PycharmProjects/XGA/xga/sources/general.py:124: UserWarning: SDSSXCS-7190 has not been detected in all region files, so generating and fitting products with the 'region' reg_type will not use all available data\n",
      "  warnings.warn(\"{n} has not been detected in all region files, so generating and fitting products\"\n",
      "Setting up Galaxy Clusters:  15%|██████▌                                     | 22/148 [01:13<07:35,  3.62s/it]/mnt/pact/dt237/code/PycharmProjects/XGA/xga/sources/general.py:124: UserWarning: SDSSXCS-5743 has not been detected in all region files, so generating and fitting products with the 'region' reg_type will not use all available data\n",
      "  warnings.warn(\"{n} has not been detected in all region files, so generating and fitting products\"\n",
      "Setting up Galaxy Clusters:  16%|██████▊                                     | 23/148 [01:22<10:40,  5.12s/it]/mnt/pact/dt237/code/PycharmProjects/XGA/xga/sources/general.py:124: UserWarning: SDSSXCS-1131 has not been detected in all region files, so generating and fitting products with the 'region' reg_type will not use all available data\n",
      "  warnings.warn(\"{n} has not been detected in all region files, so generating and fitting products\"\n",
      "Setting up Galaxy Clusters:  16%|███████▏                                    | 24/148 [01:30<12:41,  6.14s/it]/mnt/pact/dt237/code/PycharmProjects/XGA/xga/sources/general.py:124: UserWarning: SDSSXCS-29799 has not been detected in all region files, so generating and fitting products with the 'region' reg_type will not use all available data\n",
      "  warnings.warn(\"{n} has not been detected in all region files, so generating and fitting products\"\n",
      "Setting up Galaxy Clusters:  17%|███████▍                                    | 25/148 [01:37<13:02,  6.36s/it]/mnt/pact/dt237/code/PycharmProjects/XGA/xga/sources/general.py:124: UserWarning: SDSSXCS-852 has not been detected in all region files, so generating and fitting products with the 'region' reg_type will not use all available data\n",
      "  warnings.warn(\"{n} has not been detected in all region files, so generating and fitting products\"\n",
      "Setting up Galaxy Clusters:  18%|███████▋                                    | 26/148 [01:48<15:18,  7.53s/it]/mnt/pact/dt237/code/PycharmProjects/XGA/xga/sources/general.py:124: UserWarning: SDSSXCS-5830 has not been detected in all region files, so generating and fitting products with the 'region' reg_type will not use all available data\n",
      "  warnings.warn(\"{n} has not been detected in all region files, so generating and fitting products\"\n",
      "Setting up Galaxy Clusters:  18%|████████                                    | 27/148 [02:04<20:27, 10.14s/it]/mnt/pact/dt237/code/PycharmProjects/XGA/xga/sources/general.py:124: UserWarning: SDSSXCS-5977 has not been detected in all region files, so generating and fitting products with the 'region' reg_type will not use all available data\n",
      "  warnings.warn(\"{n} has not been detected in all region files, so generating and fitting products\"\n",
      "Setting up Galaxy Clusters:  19%|████████▎                                   | 28/148 [02:08<16:34,  8.29s/it]/mnt/pact/dt237/code/PycharmProjects/XGA/xga/sources/base.py:1039: UserWarning: A previous annular spectra profile fit for SDSSXCS-16227 was not successful, or no matching spectrum has been loaded, so it cannot be read in\n",
      "  warnings.warn(\"A previous annular spectra profile fit for {src} was not successful, or no \"\n",
      "Setting up Galaxy Clusters:  20%|████████▌                                   | 29/148 [02:09<12:24,  6.26s/it]/mnt/pact/dt237/code/PycharmProjects/XGA/xga/sources/general.py:124: UserWarning: SDSSXCS-2984 has not been detected in all region files, so generating and fitting products with the 'region' reg_type will not use all available data\n",
      "  warnings.warn(\"{n} has not been detected in all region files, so generating and fitting products\"\n",
      "Setting up Galaxy Clusters:  20%|████████▉                                   | 30/148 [02:19<14:29,  7.37s/it]/mnt/pact/dt237/code/PycharmProjects/XGA/xga/sources/general.py:124: UserWarning: SDSSXCS-6955 has not been detected in all region files, so generating and fitting products with the 'region' reg_type will not use all available data\n",
      "  warnings.warn(\"{n} has not been detected in all region files, so generating and fitting products\"\n",
      "Setting up Galaxy Clusters:  21%|█████████▏                                  | 31/148 [02:26<14:12,  7.28s/it]/mnt/pact/dt237/code/PycharmProjects/XGA/xga/sources/general.py:124: UserWarning: SDSSXCS-64824 has not been detected in all region files, so generating and fitting products with the 'region' reg_type will not use all available data\n",
      "  warnings.warn(\"{n} has not been detected in all region files, so generating and fitting products\"\n",
      "Setting up Galaxy Clusters:  22%|█████████▌                                  | 32/148 [02:37<16:08,  8.35s/it]/mnt/pact/dt237/code/PycharmProjects/XGA/xga/sources/extended.py:221: UserWarning: A point source has been detected in 0677590135 and is very close to the user supplied coordinates of SDSSXCS-8366. It will not be excluded from analysis due to the possibility of a mis-identified cool core\n",
      "  warnings.warn(\"A point source has been detected in {o} and is very close to the user supplied \"\n",
      "/mnt/pact/dt237/code/PycharmProjects/XGA/xga/sources/general.py:124: UserWarning: SDSSXCS-8366 has not been detected in all region files, so generating and fitting products with the 'region' reg_type will not use all available data\n",
      "  warnings.warn(\"{n} has not been detected in all region files, so generating and fitting products\"\n",
      "Setting up Galaxy Clusters:  22%|█████████▊                                  | 33/148 [02:49<17:58,  9.38s/it]/mnt/pact/dt237/code/PycharmProjects/XGA/xga/sources/general.py:124: UserWarning: SDSSXCS-120 has not been detected in all region files, so generating and fitting products with the 'region' reg_type will not use all available data\n",
      "  warnings.warn(\"{n} has not been detected in all region files, so generating and fitting products\"\n",
      "Setting up Galaxy Clusters:  25%|███████████                                 | 37/148 [03:17<12:02,  6.51s/it]/mnt/pact/dt237/code/PycharmProjects/XGA/xga/sources/general.py:124: UserWarning: SDSSXCS-103 has not been detected in all region files, so generating and fitting products with the 'region' reg_type will not use all available data\n",
      "  warnings.warn(\"{n} has not been detected in all region files, so generating and fitting products\"\n",
      "Setting up Galaxy Clusters:  28%|████████████▏                               | 41/148 [03:31<06:42,  3.76s/it]/mnt/pact/dt237/code/PycharmProjects/XGA/xga/sources/general.py:124: UserWarning: SDSSXCS-31 has not been detected in all region files, so generating and fitting products with the 'region' reg_type will not use all available data\n",
      "  warnings.warn(\"{n} has not been detected in all region files, so generating and fitting products\"\n",
      "Setting up Galaxy Clusters:  28%|████████████▍                               | 42/148 [03:35<06:52,  3.89s/it]/mnt/pact/dt237/code/PycharmProjects/XGA/xga/sources/general.py:124: UserWarning: SDSSXCS-325 has not been detected in all region files, so generating and fitting products with the 'region' reg_type will not use all available data\n",
      "  warnings.warn(\"{n} has not been detected in all region files, so generating and fitting products\"\n",
      "Setting up Galaxy Clusters:  30%|█████████████                               | 44/148 [03:41<05:46,  3.34s/it]/mnt/pact/dt237/code/PycharmProjects/XGA/xga/sources/extended.py:225: UserWarning: A PSF sized extended source has been detected in 0842950401 and is very close to the user supplied coordinates of SDSSXCS-5159. It will not be excluded from analysis due to the possibility of a mis-identified cool core\n",
      "  warnings.warn(\"A PSF sized extended source has been detected in {o} and is very close to the \"\n",
      "Setting up Galaxy Clusters:  34%|██████████████▊                             | 50/148 [03:58<04:38,  2.84s/it]/mnt/pact/dt237/code/PycharmProjects/XGA/xga/sources/extended.py:221: UserWarning: A point source has been detected in 0401170101 and is very close to the user supplied coordinates of SDSSXCS-21. It will not be excluded from analysis due to the possibility of a mis-identified cool core\n",
      "  warnings.warn(\"A point source has been detected in {o} and is very close to the user supplied \"\n",
      "/mnt/pact/dt237/code/PycharmProjects/XGA/xga/sources/general.py:124: UserWarning: SDSSXCS-21 has not been detected in all region files, so generating and fitting products with the 'region' reg_type will not use all available data\n",
      "  warnings.warn(\"{n} has not been detected in all region files, so generating and fitting products\"\n",
      "Setting up Galaxy Clusters:  34%|███████████████▏                            | 51/148 [04:07<06:57,  4.30s/it]/mnt/pact/dt237/code/PycharmProjects/XGA/xga/sources/general.py:124: UserWarning: SDSSXCS-23 has not been detected in all region files, so generating and fitting products with the 'region' reg_type will not use all available data\n",
      "  warnings.warn(\"{n} has not been detected in all region files, so generating and fitting products\"\n",
      "Setting up Galaxy Clusters:  35%|███████████████▍                            | 52/148 [04:13<07:38,  4.78s/it]/mnt/pact/dt237/code/PycharmProjects/XGA/xga/sources/general.py:124: UserWarning: SDSSXCS-617 has not been detected in all region files, so generating and fitting products with the 'region' reg_type will not use all available data\n",
      "  warnings.warn(\"{n} has not been detected in all region files, so generating and fitting products\"\n",
      "Setting up Galaxy Clusters:  36%|███████████████▊                            | 53/148 [04:16<06:59,  4.42s/it]/mnt/pact/dt237/code/PycharmProjects/XGA/xga/sources/base.py:1039: UserWarning: A previous annular spectra profile fit for SDSSXCS-6245 was not successful, or no matching spectrum has been loaded, so it cannot be read in\n",
      "  warnings.warn(\"A previous annular spectra profile fit for {src} was not successful, or no \"\n",
      "Setting up Galaxy Clusters:  36%|████████████████                            | 54/148 [04:19<06:06,  3.90s/it]/mnt/pact/dt237/code/PycharmProjects/XGA/xga/sources/general.py:109: UserWarning: There are 1 alternative matches for observation 0671540501, associated with source SDSSXCS-21847\n",
      "  warnings.warn(\"There are {0} alternative matches for observation {1}, associated with \"\n",
      "/mnt/pact/dt237/code/PycharmProjects/XGA/xga/sources/general.py:109: UserWarning: There are 1 alternative matches for observation 0743950701, associated with source SDSSXCS-21847\n",
      "  warnings.warn(\"There are {0} alternative matches for observation {1}, associated with \"\n",
      "/mnt/pact/dt237/code/PycharmProjects/XGA/xga/sources/general.py:109: UserWarning: There are 1 alternative matches for observation 0671540701, associated with source SDSSXCS-21847\n",
      "  warnings.warn(\"There are {0} alternative matches for observation {1}, associated with \"\n",
      "/mnt/pact/dt237/code/PycharmProjects/XGA/xga/sources/general.py:124: UserWarning: SDSSXCS-21847 has not been detected in all region files, so generating and fitting products with the 'region' reg_type will not use all available data\n",
      "  warnings.warn(\"{n} has not been detected in all region files, so generating and fitting products\"\n"
     ]
    },
    {
     "name": "stderr",
     "output_type": "stream",
     "text": [
      "Setting up Galaxy Clusters:  39%|████████████████▉                           | 57/148 [04:51<09:45,  6.43s/it]/mnt/pact/dt237/code/PycharmProjects/XGA/xga/sources/general.py:124: UserWarning: SDSSXCS-8060 has not been detected in all region files, so generating and fitting products with the 'region' reg_type will not use all available data\n",
      "  warnings.warn(\"{n} has not been detected in all region files, so generating and fitting products\"\n",
      "Setting up Galaxy Clusters:  42%|██████████████████▍                         | 62/148 [05:12<06:29,  4.53s/it]/mnt/pact/dt237/code/PycharmProjects/XGA/xga/sources/general.py:124: UserWarning: SDSSXCS-1628 has not been detected in all region files, so generating and fitting products with the 'region' reg_type will not use all available data\n",
      "  warnings.warn(\"{n} has not been detected in all region files, so generating and fitting products\"\n",
      "Setting up Galaxy Clusters:  45%|███████████████████▌                        | 66/148 [05:36<08:18,  6.07s/it]/mnt/pact/dt237/code/PycharmProjects/XGA/xga/sources/base.py:1039: UserWarning: A previous annular spectra profile fit for SDSSXCS-2588 was not successful, or no matching spectrum has been loaded, so it cannot be read in\n",
      "  warnings.warn(\"A previous annular spectra profile fit for {src} was not successful, or no \"\n",
      "Setting up Galaxy Clusters:  46%|████████████████████▏                       | 68/148 [05:41<05:42,  4.28s/it]/mnt/pact/dt237/code/PycharmProjects/XGA/xga/sources/base.py:1039: UserWarning: A previous annular spectra profile fit for SDSSXCS-10897 was not successful, or no matching spectrum has been loaded, so it cannot be read in\n",
      "  warnings.warn(\"A previous annular spectra profile fit for {src} was not successful, or no \"\n",
      "/mnt/pact/dt237/code/PycharmProjects/XGA/xga/sources/general.py:109: UserWarning: There are 1 alternative matches for observation 0107860201, associated with source SDSSXCS-10897\n",
      "  warnings.warn(\"There are {0} alternative matches for observation {1}, associated with \"\n",
      "Setting up Galaxy Clusters:  48%|█████████████████████                       | 71/148 [05:48<03:47,  2.95s/it]/mnt/pact/dt237/code/PycharmProjects/XGA/xga/sources/extended.py:221: UserWarning: A point source has been detected in 0827341301 and is very close to the user supplied coordinates of SDSSXCS-4245. It will not be excluded from analysis due to the possibility of a mis-identified cool core\n",
      "  warnings.warn(\"A point source has been detected in {o} and is very close to the user supplied \"\n",
      "Setting up Galaxy Clusters:  49%|█████████████████████▋                      | 73/148 [06:00<06:03,  4.85s/it]/mnt/pact/dt237/code/PycharmProjects/XGA/xga/sources/extended.py:221: UserWarning: A point source has been detected in 0601260201 and is very close to the user supplied coordinates of SDSSXCS-10401. It will not be excluded from analysis due to the possibility of a mis-identified cool core\n",
      "  warnings.warn(\"A point source has been detected in {o} and is very close to the user supplied \"\n",
      "Setting up Galaxy Clusters:  50%|██████████████████████                      | 74/148 [06:03<05:18,  4.30s/it]/mnt/pact/dt237/code/PycharmProjects/XGA/xga/sources/general.py:124: UserWarning: SDSSXCS-58896 has not been detected in all region files, so generating and fitting products with the 'region' reg_type will not use all available data\n",
      "  warnings.warn(\"{n} has not been detected in all region files, so generating and fitting products\"\n",
      "Setting up Galaxy Clusters:  51%|██████████████████████▎                     | 75/148 [06:41<17:37, 14.48s/it]/mnt/pact/dt237/code/PycharmProjects/XGA/xga/sources/general.py:124: UserWarning: SDSSXCS-474 has not been detected in all region files, so generating and fitting products with the 'region' reg_type will not use all available data\n",
      "  warnings.warn(\"{n} has not been detected in all region files, so generating and fitting products\"\n",
      "Setting up Galaxy Clusters:  51%|██████████████████████▌                     | 76/148 [06:48<14:47, 12.32s/it]/mnt/pact/dt237/code/PycharmProjects/XGA/xga/sources/base.py:1039: UserWarning: A previous annular spectra profile fit for SDSSXCS-7247 was not successful, or no matching spectrum has been loaded, so it cannot be read in\n",
      "  warnings.warn(\"A previous annular spectra profile fit for {src} was not successful, or no \"\n",
      "Setting up Galaxy Clusters:  52%|██████████████████████▉                     | 77/148 [06:51<11:06,  9.39s/it]/mnt/pact/dt237/code/PycharmProjects/XGA/xga/sources/general.py:124: UserWarning: SDSSXCS-19467 has not been detected in all region files, so generating and fitting products with the 'region' reg_type will not use all available data\n",
      "  warnings.warn(\"{n} has not been detected in all region files, so generating and fitting products\"\n",
      "Setting up Galaxy Clusters:  53%|███████████████████████▍                    | 79/148 [08:26<28:28, 24.76s/it]/mnt/pact/dt237/code/PycharmProjects/XGA/xga/sources/general.py:124: UserWarning: SDSSXCS-1174 has not been detected in all region files, so generating and fitting products with the 'region' reg_type will not use all available data\n",
      "  warnings.warn(\"{n} has not been detected in all region files, so generating and fitting products\"\n",
      "Setting up Galaxy Clusters:  54%|███████████████████████▊                    | 80/148 [08:30<20:48, 18.36s/it]/mnt/pact/dt237/code/PycharmProjects/XGA/xga/sources/base.py:1039: UserWarning: A previous annular spectra profile fit for SDSSXCS-608 was not successful, or no matching spectrum has been loaded, so it cannot be read in\n",
      "  warnings.warn(\"A previous annular spectra profile fit for {src} was not successful, or no \"\n",
      "/mnt/pact/dt237/code/PycharmProjects/XGA/xga/sources/general.py:124: UserWarning: SDSSXCS-608 has not been detected in all region files, so generating and fitting products with the 'region' reg_type will not use all available data\n",
      "  warnings.warn(\"{n} has not been detected in all region files, so generating and fitting products\"\n",
      "/mnt/pact/dt237/code/PycharmProjects/XGA/xga/sources/base.py:1039: UserWarning: A previous annular spectra profile fit for SDSSXCS-608 was not successful, or no matching spectrum has been loaded, so it cannot be read in\n",
      "  warnings.warn(\"A previous annular spectra profile fit for {src} was not successful, or no \"\n",
      "Setting up Galaxy Clusters:  62%|███████████████████████████▎                | 92/148 [08:55<02:05,  2.24s/it]/mnt/pact/dt237/code/PycharmProjects/XGA/xga/sources/general.py:124: UserWarning: SDSSXCS-3 has not been detected in all region files, so generating and fitting products with the 'region' reg_type will not use all available data\n",
      "  warnings.warn(\"{n} has not been detected in all region files, so generating and fitting products\"\n",
      "Setting up Galaxy Clusters:  63%|███████████████████████████▋                | 93/148 [09:03<03:30,  3.83s/it]/mnt/pact/dt237/code/PycharmProjects/XGA/xga/sources/general.py:124: UserWarning: SDSSXCS-5939 has not been detected in all region files, so generating and fitting products with the 'region' reg_type will not use all available data\n",
      "  warnings.warn(\"{n} has not been detected in all region files, so generating and fitting products\"\n",
      "Setting up Galaxy Clusters:  65%|████████████████████████████▌               | 96/148 [09:11<02:38,  3.06s/it]/mnt/pact/dt237/code/PycharmProjects/XGA/xga/sources/general.py:124: UserWarning: SDSSXCS-907 has not been detected in all region files, so generating and fitting products with the 'region' reg_type will not use all available data\n",
      "  warnings.warn(\"{n} has not been detected in all region files, so generating and fitting products\"\n",
      "Setting up Galaxy Clusters:  66%|████████████████████████████▊               | 97/148 [09:15<02:49,  3.31s/it]/mnt/pact/dt237/code/PycharmProjects/XGA/xga/sources/general.py:109: UserWarning: There are 1 alternative matches for observation 0109080301, associated with source SDSSXCS-14715\n",
      "  warnings.warn(\"There are {0} alternative matches for observation {1}, associated with \"\n",
      "/mnt/pact/dt237/code/PycharmProjects/XGA/xga/sources/general.py:124: UserWarning: SDSSXCS-14715 has not been detected in all region files, so generating and fitting products with the 'region' reg_type will not use all available data\n",
      "  warnings.warn(\"{n} has not been detected in all region files, so generating and fitting products\"\n"
     ]
    },
    {
     "name": "stderr",
     "output_type": "stream",
     "text": [
      "Setting up Galaxy Clusters:  67%|█████████████████████████████▍              | 99/148 [09:21<02:35,  3.17s/it]/mnt/pact/dt237/code/PycharmProjects/XGA/xga/sources/general.py:124: UserWarning: SDSSXCS-457 has not been detected in all region files, so generating and fitting products with the 'region' reg_type will not use all available data\n",
      "  warnings.warn(\"{n} has not been detected in all region files, so generating and fitting products\"\n",
      "Setting up Galaxy Clusters:  68%|█████████████████████████████              | 100/148 [09:26<02:56,  3.68s/it]/mnt/pact/dt237/code/PycharmProjects/XGA/xga/sources/general.py:124: UserWarning: SDSSXCS-35 has not been detected in all region files, so generating and fitting products with the 'region' reg_type will not use all available data\n",
      "  warnings.warn(\"{n} has not been detected in all region files, so generating and fitting products\"\n",
      "Setting up Galaxy Clusters:  71%|██████████████████████████████▌            | 105/148 [09:57<05:34,  7.78s/it]/mnt/pact/dt237/code/PycharmProjects/XGA/xga/sources/base.py:1039: UserWarning: A previous annular spectra profile fit for SDSSXCS-32 was not successful, or no matching spectrum has been loaded, so it cannot be read in\n",
      "  warnings.warn(\"A previous annular spectra profile fit for {src} was not successful, or no \"\n",
      "/mnt/pact/dt237/code/PycharmProjects/XGA/xga/sources/base.py:1039: UserWarning: A previous annular spectra profile fit for SDSSXCS-32 was not successful, or no matching spectrum has been loaded, so it cannot be read in\n",
      "  warnings.warn(\"A previous annular spectra profile fit for {src} was not successful, or no \"\n",
      "Setting up Galaxy Clusters:  76%|████████████████████████████████▌          | 112/148 [11:08<04:59,  8.33s/it]/mnt/pact/dt237/code/PycharmProjects/XGA/xga/sources/general.py:124: UserWarning: SDSSXCS-4003 has not been detected in all region files, so generating and fitting products with the 'region' reg_type will not use all available data\n",
      "  warnings.warn(\"{n} has not been detected in all region files, so generating and fitting products\"\n",
      "Setting up Galaxy Clusters:  80%|██████████████████████████████████▎        | 118/148 [11:28<02:12,  4.41s/it]/mnt/pact/dt237/code/PycharmProjects/XGA/xga/sources/extended.py:221: UserWarning: A point source has been detected in 0760230301 and is very close to the user supplied coordinates of SDSSXCS-137. It will not be excluded from analysis due to the possibility of a mis-identified cool core\n",
      "  warnings.warn(\"A point source has been detected in {o} and is very close to the user supplied \"\n",
      "Setting up Galaxy Clusters:  81%|██████████████████████████████████▊        | 120/148 [11:40<02:29,  5.35s/it]/mnt/pact/dt237/code/PycharmProjects/XGA/xga/sources/general.py:124: UserWarning: SDSSXCS-382 has not been detected in all region files, so generating and fitting products with the 'region' reg_type will not use all available data\n",
      "  warnings.warn(\"{n} has not been detected in all region files, so generating and fitting products\"\n",
      "Setting up Galaxy Clusters:  82%|███████████████████████████████████▍       | 122/148 [11:46<01:47,  4.14s/it]/mnt/pact/dt237/code/PycharmProjects/XGA/xga/sources/base.py:1039: UserWarning: A previous annular spectra profile fit for SDSSXCS-5624 was not successful, or no matching spectrum has been loaded, so it cannot be read in\n",
      "  warnings.warn(\"A previous annular spectra profile fit for {src} was not successful, or no \"\n",
      "Setting up Galaxy Clusters:  84%|████████████████████████████████████▎      | 125/148 [11:52<01:02,  2.74s/it]/mnt/pact/dt237/code/PycharmProjects/XGA/xga/sources/general.py:124: UserWarning: SDSSXCS-575 has not been detected in all region files, so generating and fitting products with the 'region' reg_type will not use all available data\n",
      "  warnings.warn(\"{n} has not been detected in all region files, so generating and fitting products\"\n",
      "Setting up Galaxy Clusters:  85%|████████████████████████████████████▌      | 126/148 [11:56<01:07,  3.06s/it]/mnt/pact/dt237/code/PycharmProjects/XGA/xga/sources/general.py:124: UserWarning: SDSSXCS-2 has not been detected in all region files, so generating and fitting products with the 'region' reg_type will not use all available data\n",
      "  warnings.warn(\"{n} has not been detected in all region files, so generating and fitting products\"\n",
      "Setting up Galaxy Clusters:  86%|████████████████████████████████████▉      | 127/148 [12:01<01:19,  3.78s/it]/mnt/pact/dt237/code/PycharmProjects/XGA/xga/sources/base.py:1039: UserWarning: A previous annular spectra profile fit for SDSSXCS-30950 was not successful, or no matching spectrum has been loaded, so it cannot be read in\n",
      "  warnings.warn(\"A previous annular spectra profile fit for {src} was not successful, or no \"\n",
      "/mnt/pact/dt237/code/PycharmProjects/XGA/xga/sources/general.py:124: UserWarning: SDSSXCS-30950 has not been detected in all region files, so generating and fitting products with the 'region' reg_type will not use all available data\n",
      "  warnings.warn(\"{n} has not been detected in all region files, so generating and fitting products\"\n",
      "/mnt/pact/dt237/code/PycharmProjects/XGA/xga/sources/base.py:1039: UserWarning: A previous annular spectra profile fit for SDSSXCS-30950 was not successful, or no matching spectrum has been loaded, so it cannot be read in\n",
      "  warnings.warn(\"A previous annular spectra profile fit for {src} was not successful, or no \"\n",
      "Setting up Galaxy Clusters:  88%|█████████████████████████████████████▊     | 130/148 [12:17<01:25,  4.73s/it]/mnt/pact/dt237/code/PycharmProjects/XGA/xga/sources/general.py:124: UserWarning: SDSSXCS-1137 has not been detected in all region files, so generating and fitting products with the 'region' reg_type will not use all available data\n",
      "  warnings.warn(\"{n} has not been detected in all region files, so generating and fitting products\"\n",
      "Setting up Galaxy Clusters:  89%|██████████████████████████████████████     | 131/148 [12:22<01:23,  4.90s/it]/mnt/pact/dt237/code/PycharmProjects/XGA/xga/sources/general.py:124: UserWarning: SDSSXCS-487 has not been detected in all region files, so generating and fitting products with the 'region' reg_type will not use all available data\n",
      "  warnings.warn(\"{n} has not been detected in all region files, so generating and fitting products\"\n",
      "Setting up Galaxy Clusters:  91%|██████████████████████████████████████▉    | 134/148 [12:30<00:46,  3.29s/it]/mnt/pact/dt237/code/PycharmProjects/XGA/xga/sources/general.py:124: UserWarning: SDSSXCS-10223 has not been detected in all region files, so generating and fitting products with the 'region' reg_type will not use all available data\n",
      "  warnings.warn(\"{n} has not been detected in all region files, so generating and fitting products\"\n",
      "Setting up Galaxy Clusters:  92%|███████████████████████████████████████▌   | 136/148 [12:39<00:46,  3.85s/it]/mnt/pact/dt237/code/PycharmProjects/XGA/xga/sources/general.py:124: UserWarning: SDSSXCS-110 has not been detected in all region files, so generating and fitting products with the 'region' reg_type will not use all available data\n",
      "  warnings.warn(\"{n} has not been detected in all region files, so generating and fitting products\"\n",
      "Setting up Galaxy Clusters: 150it [13:20,  5.34s/it]                                                          \n"
     ]
    }
   ],
   "source": [
    "# Reading out the relevant values into arrays just for ease of passing into the ClusterSample object\n",
    "ra = xcs3p['xapa_ra'].values\n",
    "dec = xcs3p['xapa_dec'].values\n",
    "z = xcs3p['z'].values\n",
    "# Not using the IAU names in XCS_NAME column, its easier for me to use the name based on redMaPPer ID\n",
    "n = xcs3p['name'].values\n",
    "# In arcminutes, ClusterSample declaration will convert to kpc using the provided cosmology\n",
    "r500 = Quantity(xcs3p['r500'].values, 'arcmin')\n",
    "# Not likely to use richness in this notebook, but I'm putting it in the sample object anyway\n",
    "r = xcs3p['richness'].values\n",
    "r_err = xcs3p['richness_err'].values\n",
    "\n",
    "# Declaring the actual ClusterSample instance for the XCS sample\n",
    "xcs_srcs = ClusterSample(ra, dec, z, n, r500=r500, richness=r, richness_err=r_err, cosmology=xcs_cosmo, \n",
    "                         load_fits=True, use_peak=False, clean_obs=True, clean_obs_reg='r500', \n",
    "                         clean_obs_threshold=0.7)"
   ]
  },
  {
   "cell_type": "code",
   "execution_count": 6,
   "id": "3b8a7e5c",
   "metadata": {},
   "outputs": [],
   "source": [
    "# This cluster is causing some problems for an unknown reason, but will be restored later when I've figured out why\n",
    "del xcs_srcs['SDSSXCS-408']"
   ]
  },
  {
   "cell_type": "markdown",
   "id": "0eb9463e",
   "metadata": {},
   "source": [
    "## Hydrostatic Mass Measurement"
   ]
  },
  {
   "cell_type": "markdown",
   "id": "f637b10d",
   "metadata": {},
   "source": [
    "Here we measure hydrostatic mass profiles for clusters in the SDSSRM-XCS sample, using $S_{B}$ profiles to calculate density profiles and combining them with temperature profiles to measure hydrostatic mass. "
   ]
  },
  {
   "cell_type": "markdown",
   "id": "e8f5c6c5",
   "metadata": {},
   "source": [
    "We fit double beta models to the PSF-corrected $S_B$ profiles, from which we infer density profiles and fit simplified Vikhlinin density models to them. Temperature profiles are measured from annular spectra, deprojected, and then fitted with simplified Vikhlinin temperature models.\n",
    "\n",
    "In this instance we choose to generate profiles out to the $R_{500}$ value measured by Giles et al. 2022. Each annulus is required to have a total of 1500 counts in each annulus when the annulus is applied to the combined observations."
   ]
  },
  {
   "cell_type": "code",
   "execution_count": 11,
   "id": "c8cd2b6c",
   "metadata": {
    "scrolled": true
   },
   "outputs": [
    {
     "name": "stderr",
     "output_type": "stream",
     "text": [
      "Running XSPEC Fits: 100%|██████████████████████████████████████████████████████| 2/2 [09:53<00:00, 296.92s/it]\n",
      "/mnt/pact/dt237/code/PycharmProjects/XGA/xga/sourcetools/mass.py:51: UserWarning: The global temperature fit for SDSSXCS-21847 has failed, and as such we're very unlikely to be able to measure a mass and we're not even going to try.\n",
      "  warn(\"The global temperature fit for {} has failed, and as such we're very unlikely to be able to measure \"\n",
      "/mnt/pact/dt237/code/PycharmProjects/XGA/xga/sourcetools/mass.py:51: UserWarning: The global temperature fit for SDSSXCS-6307 has failed, and as such we're very unlikely to be able to measure a mass and we're not even going to try.\n",
      "  warn(\"The global temperature fit for {} has failed, and as such we're very unlikely to be able to measure \"\n",
      "/mnt/pact/dt237/code/PycharmProjects/XGA/xga/sourcetools/temperature.py:291: UserWarning: The requested annuli for SDSSXCS-290 cannot be created, the data quality is too low. As such a set of four annuli will be returned\n",
      "  warn(\"The requested annuli for {s} cannot be created, the data quality is too low. As such a set \"\n",
      "/mnt/pact/dt237/code/PycharmProjects/XGA/xga/sourcetools/temperature.py:291: UserWarning: The requested annuli for SDSSXCS-119 cannot be created, the data quality is too low. As such a set of four annuli will be returned\n",
      "  warn(\"The requested annuli for {s} cannot be created, the data quality is too low. As such a set \"\n",
      "/mnt/pact/dt237/code/PycharmProjects/XGA/xga/sourcetools/temperature.py:291: UserWarning: The requested annuli for SDSSXCS-5020 cannot be created, the data quality is too low. As such a set of four annuli will be returned\n",
      "  warn(\"The requested annuli for {s} cannot be created, the data quality is too low. As such a set \"\n",
      "/mnt/pact/dt237/code/PycharmProjects/XGA/xga/sourcetools/temperature.py:251: UserWarning: The min_width combined with the outer radius of the source means that there are only 2 initial annuli, normally four is the minimum number I will allow, so I will do no re-binning.\n",
      "  warn(\"The min_width combined with the outer radius of the source means that there are only {} initial\"\n",
      "/mnt/pact/dt237/code/PycharmProjects/XGA/xga/sourcetools/temperature.py:291: UserWarning: The requested annuli for SDSSXCS-586 cannot be created, the data quality is too low. As such a set of four annuli will be returned\n",
      "  warn(\"The requested annuli for {s} cannot be created, the data quality is too low. As such a set \"\n",
      "/mnt/pact/dt237/code/PycharmProjects/XGA/xga/sourcetools/temperature.py:291: UserWarning: The requested annuli for SDSSXCS-28849 cannot be created, the data quality is too low. As such a set of four annuli will be returned\n",
      "  warn(\"The requested annuli for {s} cannot be created, the data quality is too low. As such a set \"\n",
      "/mnt/pact/dt237/code/PycharmProjects/XGA/xga/sourcetools/temperature.py:291: UserWarning: The requested annuli for SDSSXCS-31144 cannot be created, the data quality is too low. As such a set of four annuli will be returned\n",
      "  warn(\"The requested annuli for {s} cannot be created, the data quality is too low. As such a set \"\n",
      "/mnt/pact/dt237/code/PycharmProjects/XGA/xga/sourcetools/temperature.py:291: UserWarning: The requested annuli for SDSSXCS-35404 cannot be created, the data quality is too low. As such a set of four annuli will be returned\n",
      "  warn(\"The requested annuli for {s} cannot be created, the data quality is too low. As such a set \"\n",
      "/mnt/pact/dt237/code/PycharmProjects/XGA/xga/sourcetools/temperature.py:251: UserWarning: The min_width combined with the outer radius of the source means that there are only 4 initial annuli, normally four is the minimum number I will allow, so I will do no re-binning.\n",
      "  warn(\"The min_width combined with the outer radius of the source means that there are only {} initial\"\n",
      "/mnt/pact/dt237/code/PycharmProjects/XGA/xga/sourcetools/temperature.py:291: UserWarning: The requested annuli for SDSSXCS-5743 cannot be created, the data quality is too low. As such a set of four annuli will be returned\n",
      "  warn(\"The requested annuli for {s} cannot be created, the data quality is too low. As such a set \"\n",
      "/mnt/pact/dt237/code/PycharmProjects/XGA/xga/sourcetools/temperature.py:291: UserWarning: The requested annuli for SDSSXCS-1131 cannot be created, the data quality is too low. As such a set of four annuli will be returned\n",
      "  warn(\"The requested annuli for {s} cannot be created, the data quality is too low. As such a set \"\n",
      "/mnt/pact/dt237/code/PycharmProjects/XGA/xga/sourcetools/temperature.py:251: UserWarning: The min_width combined with the outer radius of the source means that there are only 4 initial annuli, normally four is the minimum number I will allow, so I will do no re-binning.\n",
      "  warn(\"The min_width combined with the outer radius of the source means that there are only {} initial\"\n",
      "/mnt/pact/dt237/code/PycharmProjects/XGA/xga/sourcetools/temperature.py:291: UserWarning: The requested annuli for SDSSXCS-5830 cannot be created, the data quality is too low. As such a set of four annuli will be returned\n",
      "  warn(\"The requested annuli for {s} cannot be created, the data quality is too low. As such a set \"\n",
      "/mnt/pact/dt237/code/PycharmProjects/XGA/xga/sourcetools/temperature.py:291: UserWarning: The requested annuli for SDSSXCS-5977 cannot be created, the data quality is too low. As such a set of four annuli will be returned\n",
      "  warn(\"The requested annuli for {s} cannot be created, the data quality is too low. As such a set \"\n",
      "/mnt/pact/dt237/code/PycharmProjects/XGA/xga/sourcetools/temperature.py:291: UserWarning: The requested annuli for SDSSXCS-16227 cannot be created, the data quality is too low. As such a set of four annuli will be returned\n",
      "  warn(\"The requested annuli for {s} cannot be created, the data quality is too low. As such a set \"\n",
      "/mnt/pact/dt237/code/PycharmProjects/XGA/xga/sourcetools/temperature.py:291: UserWarning: The requested annuli for SDSSXCS-2984 cannot be created, the data quality is too low. As such a set of four annuli will be returned\n",
      "  warn(\"The requested annuli for {s} cannot be created, the data quality is too low. As such a set \"\n",
      "/mnt/pact/dt237/code/PycharmProjects/XGA/xga/sourcetools/temperature.py:291: UserWarning: The requested annuli for SDSSXCS-6955 cannot be created, the data quality is too low. As such a set of four annuli will be returned\n",
      "  warn(\"The requested annuli for {s} cannot be created, the data quality is too low. As such a set \"\n",
      "/mnt/pact/dt237/code/PycharmProjects/XGA/xga/sourcetools/temperature.py:291: UserWarning: The requested annuli for SDSSXCS-64824 cannot be created, the data quality is too low. As such a set of four annuli will be returned\n",
      "  warn(\"The requested annuli for {s} cannot be created, the data quality is too low. As such a set \"\n",
      "/mnt/pact/dt237/code/PycharmProjects/XGA/xga/sourcetools/temperature.py:291: UserWarning: The requested annuli for SDSSXCS-8366 cannot be created, the data quality is too low. As such a set of four annuli will be returned\n",
      "  warn(\"The requested annuli for {s} cannot be created, the data quality is too low. As such a set \"\n",
      "/mnt/pact/dt237/code/PycharmProjects/XGA/xga/sourcetools/temperature.py:291: UserWarning: The requested annuli for SDSSXCS-212 cannot be created, the data quality is too low. As such a set of four annuli will be returned\n",
      "  warn(\"The requested annuli for {s} cannot be created, the data quality is too low. As such a set \"\n",
      "/mnt/pact/dt237/code/PycharmProjects/XGA/xga/sourcetools/temperature.py:291: UserWarning: The requested annuli for SDSSXCS-19922 cannot be created, the data quality is too low. As such a set of four annuli will be returned\n",
      "  warn(\"The requested annuli for {s} cannot be created, the data quality is too low. As such a set \"\n",
      "/mnt/pact/dt237/code/PycharmProjects/XGA/xga/sourcetools/temperature.py:291: UserWarning: The requested annuli for SDSSXCS-890 cannot be created, the data quality is too low. As such a set of four annuli will be returned\n",
      "  warn(\"The requested annuli for {s} cannot be created, the data quality is too low. As such a set \"\n",
      "/mnt/pact/dt237/code/PycharmProjects/XGA/xga/sourcetools/temperature.py:291: UserWarning: The requested annuli for SDSSXCS-325 cannot be created, the data quality is too low. As such a set of four annuli will be returned\n",
      "  warn(\"The requested annuli for {s} cannot be created, the data quality is too low. As such a set \"\n"
     ]
    },
    {
     "name": "stderr",
     "output_type": "stream",
     "text": [
      "/mnt/pact/dt237/code/PycharmProjects/XGA/xga/sourcetools/temperature.py:291: UserWarning: The requested annuli for SDSSXCS-26424 cannot be created, the data quality is too low. As such a set of four annuli will be returned\n",
      "  warn(\"The requested annuli for {s} cannot be created, the data quality is too low. As such a set \"\n",
      "/mnt/pact/dt237/code/PycharmProjects/XGA/xga/sourcetools/temperature.py:291: UserWarning: The requested annuli for SDSSXCS-23 cannot be created, the data quality is too low. As such a set of four annuli will be returned\n",
      "  warn(\"The requested annuli for {s} cannot be created, the data quality is too low. As such a set \"\n",
      "/mnt/pact/dt237/code/PycharmProjects/XGA/xga/sourcetools/temperature.py:291: UserWarning: The requested annuli for SDSSXCS-617 cannot be created, the data quality is too low. As such a set of four annuli will be returned\n",
      "  warn(\"The requested annuli for {s} cannot be created, the data quality is too low. As such a set \"\n",
      "/mnt/pact/dt237/code/PycharmProjects/XGA/xga/sourcetools/temperature.py:291: UserWarning: The requested annuli for SDSSXCS-6245 cannot be created, the data quality is too low. As such a set of four annuli will be returned\n",
      "  warn(\"The requested annuli for {s} cannot be created, the data quality is too low. As such a set \"\n",
      "/mnt/pact/dt237/code/PycharmProjects/XGA/xga/sourcetools/temperature.py:291: UserWarning: The requested annuli for SDSSXCS-22748 cannot be created, the data quality is too low. As such a set of four annuli will be returned\n",
      "  warn(\"The requested annuli for {s} cannot be created, the data quality is too low. As such a set \"\n",
      "/mnt/pact/dt237/code/PycharmProjects/XGA/xga/sourcetools/temperature.py:291: UserWarning: The requested annuli for SDSSXCS-9 cannot be created, the data quality is too low. As such a set of four annuli will be returned\n",
      "  warn(\"The requested annuli for {s} cannot be created, the data quality is too low. As such a set \"\n",
      "/mnt/pact/dt237/code/PycharmProjects/XGA/xga/sourcetools/temperature.py:291: UserWarning: The requested annuli for SDSSXCS-75 cannot be created, the data quality is too low. As such a set of four annuli will be returned\n",
      "  warn(\"The requested annuli for {s} cannot be created, the data quality is too low. As such a set \"\n",
      "/mnt/pact/dt237/code/PycharmProjects/XGA/xga/sourcetools/temperature.py:291: UserWarning: The requested annuli for SDSSXCS-9258 cannot be created, the data quality is too low. As such a set of four annuli will be returned\n",
      "  warn(\"The requested annuli for {s} cannot be created, the data quality is too low. As such a set \"\n",
      "/mnt/pact/dt237/code/PycharmProjects/XGA/xga/sourcetools/temperature.py:291: UserWarning: The requested annuli for SDSSXCS-47 cannot be created, the data quality is too low. As such a set of four annuli will be returned\n",
      "  warn(\"The requested annuli for {s} cannot be created, the data quality is too low. As such a set \"\n",
      "/mnt/pact/dt237/code/PycharmProjects/XGA/xga/sourcetools/temperature.py:291: UserWarning: The requested annuli for SDSSXCS-7416 cannot be created, the data quality is too low. As such a set of four annuli will be returned\n",
      "  warn(\"The requested annuli for {s} cannot be created, the data quality is too low. As such a set \"\n",
      "/mnt/pact/dt237/code/PycharmProjects/XGA/xga/sourcetools/temperature.py:291: UserWarning: The requested annuli for SDSSXCS-2588 cannot be created, the data quality is too low. As such a set of four annuli will be returned\n",
      "  warn(\"The requested annuli for {s} cannot be created, the data quality is too low. As such a set \"\n",
      "/mnt/pact/dt237/code/PycharmProjects/XGA/xga/sourcetools/temperature.py:291: UserWarning: The requested annuli for SDSSXCS-10897 cannot be created, the data quality is too low. As such a set of four annuli will be returned\n",
      "  warn(\"The requested annuli for {s} cannot be created, the data quality is too low. As such a set \"\n",
      "/mnt/pact/dt237/code/PycharmProjects/XGA/xga/sourcetools/temperature.py:291: UserWarning: The requested annuli for SDSSXCS-189 cannot be created, the data quality is too low. As such a set of four annuli will be returned\n",
      "  warn(\"The requested annuli for {s} cannot be created, the data quality is too low. As such a set \"\n",
      "/mnt/pact/dt237/code/PycharmProjects/XGA/xga/sourcetools/temperature.py:291: UserWarning: The requested annuli for SDSSXCS-4245 cannot be created, the data quality is too low. As such a set of four annuli will be returned\n",
      "  warn(\"The requested annuli for {s} cannot be created, the data quality is too low. As such a set \"\n",
      "/mnt/pact/dt237/code/PycharmProjects/XGA/xga/sourcetools/temperature.py:291: UserWarning: The requested annuli for SDSSXCS-10401 cannot be created, the data quality is too low. As such a set of four annuli will be returned\n",
      "  warn(\"The requested annuli for {s} cannot be created, the data quality is too low. As such a set \"\n",
      "/mnt/pact/dt237/code/PycharmProjects/XGA/xga/sourcetools/temperature.py:251: UserWarning: The min_width combined with the outer radius of the source means that there are only 4 initial annuli, normally four is the minimum number I will allow, so I will do no re-binning.\n",
      "  warn(\"The min_width combined with the outer radius of the source means that there are only {} initial\"\n",
      "/mnt/pact/dt237/code/PycharmProjects/XGA/xga/sourcetools/temperature.py:291: UserWarning: The requested annuli for SDSSXCS-474 cannot be created, the data quality is too low. As such a set of four annuli will be returned\n",
      "  warn(\"The requested annuli for {s} cannot be created, the data quality is too low. As such a set \"\n",
      "/mnt/pact/dt237/code/PycharmProjects/XGA/xga/sourcetools/temperature.py:291: UserWarning: The requested annuli for SDSSXCS-7247 cannot be created, the data quality is too low. As such a set of four annuli will be returned\n",
      "  warn(\"The requested annuli for {s} cannot be created, the data quality is too low. As such a set \"\n",
      "/mnt/pact/dt237/code/PycharmProjects/XGA/xga/sourcetools/temperature.py:291: UserWarning: The requested annuli for SDSSXCS-19467 cannot be created, the data quality is too low. As such a set of four annuli will be returned\n",
      "  warn(\"The requested annuli for {s} cannot be created, the data quality is too low. As such a set \"\n",
      "/mnt/pact/dt237/code/PycharmProjects/XGA/xga/sourcetools/temperature.py:291: UserWarning: The requested annuli for SDSSXCS-1174 cannot be created, the data quality is too low. As such a set of four annuli will be returned\n",
      "  warn(\"The requested annuli for {s} cannot be created, the data quality is too low. As such a set \"\n",
      "/mnt/pact/dt237/code/PycharmProjects/XGA/xga/sourcetools/temperature.py:291: UserWarning: The requested annuli for SDSSXCS-608 cannot be created, the data quality is too low. As such a set of four annuli will be returned\n",
      "  warn(\"The requested annuli for {s} cannot be created, the data quality is too low. As such a set \"\n",
      "/mnt/pact/dt237/code/PycharmProjects/XGA/xga/sourcetools/temperature.py:291: UserWarning: The requested annuli for SDSSXCS-2347 cannot be created, the data quality is too low. As such a set of four annuli will be returned\n",
      "  warn(\"The requested annuli for {s} cannot be created, the data quality is too low. As such a set \"\n",
      "/mnt/pact/dt237/code/PycharmProjects/XGA/xga/sourcetools/temperature.py:291: UserWarning: The requested annuli for SDSSXCS-28269 cannot be created, the data quality is too low. As such a set of four annuli will be returned\n",
      "  warn(\"The requested annuli for {s} cannot be created, the data quality is too low. As such a set \"\n",
      "/mnt/pact/dt237/code/PycharmProjects/XGA/xga/sourcetools/temperature.py:291: UserWarning: The requested annuli for SDSSXCS-241 cannot be created, the data quality is too low. As such a set of four annuli will be returned\n",
      "  warn(\"The requested annuli for {s} cannot be created, the data quality is too low. As such a set \"\n",
      "/mnt/pact/dt237/code/PycharmProjects/XGA/xga/sourcetools/temperature.py:291: UserWarning: The requested annuli for SDSSXCS-893 cannot be created, the data quality is too low. As such a set of four annuli will be returned\n",
      "  warn(\"The requested annuli for {s} cannot be created, the data quality is too low. As such a set \"\n",
      "/mnt/pact/dt237/code/PycharmProjects/XGA/xga/sourcetools/temperature.py:291: UserWarning: The requested annuli for SDSSXCS-7432 cannot be created, the data quality is too low. As such a set of four annuli will be returned\n",
      "  warn(\"The requested annuli for {s} cannot be created, the data quality is too low. As such a set \"\n"
     ]
    },
    {
     "name": "stderr",
     "output_type": "stream",
     "text": [
      "/mnt/pact/dt237/code/PycharmProjects/XGA/xga/sourcetools/temperature.py:291: UserWarning: The requested annuli for SDSSXCS-11613 cannot be created, the data quality is too low. As such a set of four annuli will be returned\n",
      "  warn(\"The requested annuli for {s} cannot be created, the data quality is too low. As such a set \"\n",
      "/mnt/pact/dt237/code/PycharmProjects/XGA/xga/sourcetools/temperature.py:291: UserWarning: The requested annuli for SDSSXCS-5939 cannot be created, the data quality is too low. As such a set of four annuli will be returned\n",
      "  warn(\"The requested annuli for {s} cannot be created, the data quality is too low. As such a set \"\n",
      "/mnt/pact/dt237/code/PycharmProjects/XGA/xga/sourcetools/temperature.py:291: UserWarning: The requested annuli for SDSSXCS-11881 cannot be created, the data quality is too low. As such a set of four annuli will be returned\n",
      "  warn(\"The requested annuli for {s} cannot be created, the data quality is too low. As such a set \"\n",
      "/mnt/pact/dt237/code/PycharmProjects/XGA/xga/sourcetools/temperature.py:291: UserWarning: The requested annuli for SDSSXCS-11394 cannot be created, the data quality is too low. As such a set of four annuli will be returned\n",
      "  warn(\"The requested annuli for {s} cannot be created, the data quality is too low. As such a set \"\n",
      "/mnt/pact/dt237/code/PycharmProjects/XGA/xga/sourcetools/temperature.py:291: UserWarning: The requested annuli for SDSSXCS-14715 cannot be created, the data quality is too low. As such a set of four annuli will be returned\n",
      "  warn(\"The requested annuli for {s} cannot be created, the data quality is too low. As such a set \"\n",
      "/mnt/pact/dt237/code/PycharmProjects/XGA/xga/sourcetools/temperature.py:291: UserWarning: The requested annuli for SDSSXCS-309 cannot be created, the data quality is too low. As such a set of four annuli will be returned\n",
      "  warn(\"The requested annuli for {s} cannot be created, the data quality is too low. As such a set \"\n",
      "/mnt/pact/dt237/code/PycharmProjects/XGA/xga/sourcetools/temperature.py:291: UserWarning: The requested annuli for SDSSXCS-176 cannot be created, the data quality is too low. As such a set of four annuli will be returned\n",
      "  warn(\"The requested annuli for {s} cannot be created, the data quality is too low. As such a set \"\n",
      "/mnt/pact/dt237/code/PycharmProjects/XGA/xga/sourcetools/temperature.py:291: UserWarning: The requested annuli for SDSSXCS-3672 cannot be created, the data quality is too low. As such a set of four annuli will be returned\n",
      "  warn(\"The requested annuli for {s} cannot be created, the data quality is too low. As such a set \"\n",
      "/mnt/pact/dt237/code/PycharmProjects/XGA/xga/sourcetools/temperature.py:291: UserWarning: The requested annuli for SDSSXCS-32 cannot be created, the data quality is too low. As such a set of four annuli will be returned\n",
      "  warn(\"The requested annuli for {s} cannot be created, the data quality is too low. As such a set \"\n",
      "/mnt/pact/dt237/code/PycharmProjects/XGA/xga/sourcetools/temperature.py:291: UserWarning: The requested annuli for SDSSXCS-16286 cannot be created, the data quality is too low. As such a set of four annuli will be returned\n",
      "  warn(\"The requested annuli for {s} cannot be created, the data quality is too low. As such a set \"\n",
      "/mnt/pact/dt237/code/PycharmProjects/XGA/xga/sourcetools/temperature.py:291: UserWarning: The requested annuli for SDSSXCS-165 cannot be created, the data quality is too low. As such a set of four annuli will be returned\n",
      "  warn(\"The requested annuli for {s} cannot be created, the data quality is too low. As such a set \"\n",
      "/mnt/pact/dt237/code/PycharmProjects/XGA/xga/sourcetools/temperature.py:291: UserWarning: The requested annuli for SDSSXCS-2282 cannot be created, the data quality is too low. As such a set of four annuli will be returned\n",
      "  warn(\"The requested annuli for {s} cannot be created, the data quality is too low. As such a set \"\n",
      "/mnt/pact/dt237/code/PycharmProjects/XGA/xga/sourcetools/temperature.py:291: UserWarning: The requested annuli for SDSSXCS-5624 cannot be created, the data quality is too low. As such a set of four annuli will be returned\n",
      "  warn(\"The requested annuli for {s} cannot be created, the data quality is too low. As such a set \"\n",
      "/mnt/pact/dt237/code/PycharmProjects/XGA/xga/sourcetools/temperature.py:291: UserWarning: The requested annuli for SDSSXCS-3312 cannot be created, the data quality is too low. As such a set of four annuli will be returned\n",
      "  warn(\"The requested annuli for {s} cannot be created, the data quality is too low. As such a set \"\n",
      "/mnt/pact/dt237/code/PycharmProjects/XGA/xga/sourcetools/temperature.py:291: UserWarning: The requested annuli for SDSSXCS-575 cannot be created, the data quality is too low. As such a set of four annuli will be returned\n",
      "  warn(\"The requested annuli for {s} cannot be created, the data quality is too low. As such a set \"\n",
      "/mnt/pact/dt237/code/PycharmProjects/XGA/xga/sourcetools/temperature.py:291: UserWarning: The requested annuli for SDSSXCS-30950 cannot be created, the data quality is too low. As such a set of four annuli will be returned\n",
      "  warn(\"The requested annuli for {s} cannot be created, the data quality is too low. As such a set \"\n",
      "/mnt/pact/dt237/code/PycharmProjects/XGA/xga/sourcetools/temperature.py:291: UserWarning: The requested annuli for SDSSXCS-487 cannot be created, the data quality is too low. As such a set of four annuli will be returned\n",
      "  warn(\"The requested annuli for {s} cannot be created, the data quality is too low. As such a set \"\n",
      "/mnt/pact/dt237/code/PycharmProjects/XGA/xga/sourcetools/temperature.py:291: UserWarning: The requested annuli for SDSSXCS-10223 cannot be created, the data quality is too low. As such a set of four annuli will be returned\n",
      "  warn(\"The requested annuli for {s} cannot be created, the data quality is too low. As such a set \"\n",
      "/mnt/pact/dt237/code/PycharmProjects/XGA/xga/sourcetools/temperature.py:291: UserWarning: The requested annuli for SDSSXCS-913 cannot be created, the data quality is too low. As such a set of four annuli will be returned\n",
      "  warn(\"The requested annuli for {s} cannot be created, the data quality is too low. As such a set \"\n",
      "/mnt/pact/dt237/code/PycharmProjects/XGA/xga/sourcetools/temperature.py:291: UserWarning: The requested annuli for SDSSXCS-62 cannot be created, the data quality is too low. As such a set of four annuli will be returned\n",
      "  warn(\"The requested annuli for {s} cannot be created, the data quality is too low. As such a set \"\n",
      "/mnt/pact/dt237/code/PycharmProjects/XGA/xga/sourcetools/temperature.py:291: UserWarning: The requested annuli for SDSSXCS-765 cannot be created, the data quality is too low. As such a set of four annuli will be returned\n",
      "  warn(\"The requested annuli for {s} cannot be created, the data quality is too low. As such a set \"\n",
      "/mnt/pact/dt237/code/PycharmProjects/XGA/xga/sourcetools/temperature.py:291: UserWarning: The requested annuli for SDSSXCS-34 cannot be created, the data quality is too low. As such a set of four annuli will be returned\n",
      "  warn(\"The requested annuli for {s} cannot be created, the data quality is too low. As such a set \"\n",
      "/mnt/pact/dt237/code/PycharmProjects/XGA/xga/sourcetools/temperature.py:291: UserWarning: The requested annuli for SDSSXCS-2092 cannot be created, the data quality is too low. As such a set of four annuli will be returned\n",
      "  warn(\"The requested annuli for {s} cannot be created, the data quality is too low. As such a set \"\n",
      "/mnt/pact/dt237/code/PycharmProjects/XGA/xga/sourcetools/temperature.py:291: UserWarning: The requested annuli for SDSSXCS-17923 cannot be created, the data quality is too low. As such a set of four annuli will be returned\n",
      "  warn(\"The requested annuli for {s} cannot be created, the data quality is too low. As such a set \"\n",
      "Generating products of type(s) annular spectrum set components: 100%|███| 2260/2260 [1:48:39<00:00,  2.88s/it]\n",
      "Running XSPEC Fits: 100%|█████████████████████████████████████████████████| 1070/1070 [31:58<00:00,  1.79s/it]\n",
      "/mnt/pact/dt237/code/PycharmProjects/XGA/xga/xspec/run.py:326: UserWarning: SDSSXCS-2346 annular spectra profile fit was not successful\n",
      "  warnings.warn(\"{src} annular spectra profile fit was not successful\".format(src=ann_spec.src_name))\n",
      "/mnt/pact/dt237/code/PycharmProjects/XGA/xga/xspec/run.py:326: UserWarning: SDSSXCS-28849 annular spectra profile fit was not successful\n",
      "  warnings.warn(\"{src} annular spectra profile fit was not successful\".format(src=ann_spec.src_name))\n"
     ]
    },
    {
     "name": "stderr",
     "output_type": "stream",
     "text": [
      "/mnt/pact/dt237/code/PycharmProjects/XGA/xga/xspec/run.py:326: UserWarning: SDSSXCS-5977 annular spectra profile fit was not successful\n",
      "  warnings.warn(\"{src} annular spectra profile fit was not successful\".format(src=ann_spec.src_name))\n",
      "/mnt/pact/dt237/code/PycharmProjects/XGA/xga/xspec/run.py:326: UserWarning: SDSSXCS-8366 annular spectra profile fit was not successful\n",
      "  warnings.warn(\"{src} annular spectra profile fit was not successful\".format(src=ann_spec.src_name))\n",
      "/mnt/pact/dt237/code/PycharmProjects/XGA/xga/xspec/run.py:326: UserWarning: SDSSXCS-26424 annular spectra profile fit was not successful\n",
      "  warnings.warn(\"{src} annular spectra profile fit was not successful\".format(src=ann_spec.src_name))\n",
      "/mnt/pact/dt237/code/PycharmProjects/XGA/xga/xspec/run.py:326: UserWarning: SDSSXCS-617 annular spectra profile fit was not successful\n",
      "  warnings.warn(\"{src} annular spectra profile fit was not successful\".format(src=ann_spec.src_name))\n",
      "/mnt/pact/dt237/code/PycharmProjects/XGA/xga/xspec/run.py:326: UserWarning: SDSSXCS-6245 annular spectra profile fit was not successful\n",
      "  warnings.warn(\"{src} annular spectra profile fit was not successful\".format(src=ann_spec.src_name))\n",
      "/mnt/pact/dt237/code/PycharmProjects/XGA/xga/xspec/run.py:326: UserWarning: SDSSXCS-10897 annular spectra profile fit was not successful\n",
      "  warnings.warn(\"{src} annular spectra profile fit was not successful\".format(src=ann_spec.src_name))\n",
      "/mnt/pact/dt237/code/PycharmProjects/XGA/xga/xspec/run.py:326: UserWarning: SDSSXCS-58896 annular spectra profile fit was not successful\n",
      "  warnings.warn(\"{src} annular spectra profile fit was not successful\".format(src=ann_spec.src_name))\n",
      "/mnt/pact/dt237/code/PycharmProjects/XGA/xga/xspec/run.py:326: UserWarning: SDSSXCS-7247 annular spectra profile fit was not successful\n",
      "  warnings.warn(\"{src} annular spectra profile fit was not successful\".format(src=ann_spec.src_name))\n",
      "/mnt/pact/dt237/code/PycharmProjects/XGA/xga/xspec/run.py:326: UserWarning: SDSSXCS-608 annular spectra profile fit was not successful\n",
      "  warnings.warn(\"{src} annular spectra profile fit was not successful\".format(src=ann_spec.src_name))\n",
      "/mnt/pact/dt237/code/PycharmProjects/XGA/xga/xspec/run.py:326: UserWarning: SDSSXCS-28269 annular spectra profile fit was not successful\n",
      "  warnings.warn(\"{src} annular spectra profile fit was not successful\".format(src=ann_spec.src_name))\n",
      "/mnt/pact/dt237/code/PycharmProjects/XGA/xga/xspec/run.py:326: UserWarning: SDSSXCS-14715 annular spectra profile fit was not successful\n",
      "  warnings.warn(\"{src} annular spectra profile fit was not successful\".format(src=ann_spec.src_name))\n",
      "/mnt/pact/dt237/code/PycharmProjects/XGA/xga/xspec/run.py:326: UserWarning: SDSSXCS-35 annular spectra profile fit was not successful\n",
      "  warnings.warn(\"{src} annular spectra profile fit was not successful\".format(src=ann_spec.src_name))\n",
      "/mnt/pact/dt237/code/PycharmProjects/XGA/xga/xspec/run.py:326: UserWarning: SDSSXCS-5624 annular spectra profile fit was not successful\n",
      "  warnings.warn(\"{src} annular spectra profile fit was not successful\".format(src=ann_spec.src_name))\n",
      "/mnt/pact/dt237/code/PycharmProjects/XGA/xga/sourcetools/temperature.py:716: UserWarning: {s} doesn't have a matching projected temperature profile, skipping.\n",
      "  warn(\"{s} doesn't have a matching projected temperature profile, skipping.\")\n",
      "/mnt/pact/dt237/code/PycharmProjects/XGA/xga/sourcetools/temperature.py:778: UserWarning: The projected temperature profile for SDSSXCS-3746 is not considered usable by XGA\n",
      "  warn(\"The projected temperature profile for {src} is not considered usable by XGA\".format(src=src.name))\n",
      "/mnt/pact/dt237/code/PycharmProjects/XGA/xga/xspec/run.py:186: UserWarning: All XSPEC operations had already been run.\n",
      "  warnings.warn(\"All XSPEC operations had already been run.\")\n",
      "Running XSPEC Simulations: 100%|████████████████████████████████████████████| 128/128 [00:30<00:00,  4.22it/s]\n",
      "Fitting data, inverse Abel transforming, and measuring densities:   1%|       | 1/129 [00:24<52:57, 24.82s/it]"
     ]
    },
    {
     "name": "stdout",
     "output_type": "stream",
     "text": [
      "The chain is shorter than 50 times the integrated autocorrelation time for 6 parameter(s). Use this estimate with caution and run a longer chain!\n",
      "N/50 = 400;\n",
      "tau: [ 690.87134067  633.23142544  875.74019839  809.14636477  888.81544967\n",
      " 1013.19762009]\n",
      "The chain is shorter than 50 times the integrated autocorrelation time for 5 parameter(s). Use this estimate with caution and run a longer chain!\n",
      "N/50 = 400;\n",
      "tau: [598.23531012 344.92171083 595.03876752 545.96368243 639.90790407\n",
      " 619.48109622]\n"
     ]
    },
    {
     "name": "stderr",
     "output_type": "stream",
     "text": [
      "Fitting data, inverse Abel transforming, and measuring densities:   3%|▏      | 4/129 [01:40<51:01, 24.49s/it]"
     ]
    },
    {
     "name": "stdout",
     "output_type": "stream",
     "text": [
      "The chain is shorter than 50 times the integrated autocorrelation time for 5 parameter(s). Use this estimate with caution and run a longer chain!\n",
      "N/50 = 400;\n",
      "tau: [ 735.56480481  311.59147249 1821.59708078 1709.77078308 1759.83371087\n",
      " 1595.89104644]\n"
     ]
    },
    {
     "name": "stderr",
     "output_type": "stream",
     "text": [
      "\r",
      "Fitting data, inverse Abel transforming, and measuring densities:   4%|▎      | 5/129 [02:03<49:36, 24.00s/it]"
     ]
    },
    {
     "name": "stdout",
     "output_type": "stream",
     "text": [
      "The chain is shorter than 50 times the integrated autocorrelation time for 6 parameter(s). Use this estimate with caution and run a longer chain!\n",
      "N/50 = 400;\n",
      "tau: [1089.79550427  456.95151317 1854.5036582  1857.70783552 1869.63839693\n",
      " 1724.17748433]\n"
     ]
    },
    {
     "name": "stderr",
     "output_type": "stream",
     "text": [
      "/its/home/dt237/.conda/envs/dev_xga/lib/python3.8/site-packages/astropy/units/quantity.py:477: RuntimeWarning: invalid value encountered in sqrt\n",
      "  result = super().__array_ufunc__(function, method, *arrays, **kwargs)\n",
      "/mnt/pact/dt237/code/PycharmProjects/XGA/xga/sourcetools/density.py:531: UserWarning: One or more of the quantities passed to the init of SDSSXCS-119's density profile has a NaN or Inf value in it.\n",
      "  warn(\"One or more of the quantities passed to the init of {}'s density profile has a NaN or Inf value\"\n",
      "\r",
      "Fitting data, inverse Abel transforming, and measuring densities:   5%|▎      | 6/129 [02:24<47:11, 23.02s/it]"
     ]
    },
    {
     "name": "stdout",
     "output_type": "stream",
     "text": [
      "The chain is shorter than 50 times the integrated autocorrelation time for 3 parameter(s). Use this estimate with caution and run a longer chain!\n",
      "N/50 = 400;\n",
      "tau: [394.31369533 413.64942044 665.81173088 347.57464759 381.6852741\n",
      " 668.96300462]\n"
     ]
    },
    {
     "name": "stderr",
     "output_type": "stream",
     "text": [
      "\r",
      "Fitting data, inverse Abel transforming, and measuring densities:   5%|▍      | 7/129 [02:50<49:00, 24.10s/it]"
     ]
    },
    {
     "name": "stdout",
     "output_type": "stream",
     "text": [
      "The chain is shorter than 50 times the integrated autocorrelation time for 6 parameter(s). Use this estimate with caution and run a longer chain!\n",
      "N/50 = 400;\n",
      "tau: [555.06658901 564.06794271 586.66014637 516.0964332  541.82586178\n",
      " 624.47132813]\n"
     ]
    },
    {
     "name": "stderr",
     "output_type": "stream",
     "text": [
      "Fitting data, inverse Abel transforming, and measuring densities:   7%|▍      | 9/129 [03:41<49:54, 24.95s/it]"
     ]
    },
    {
     "name": "stdout",
     "output_type": "stream",
     "text": [
      "The chain is shorter than 50 times the integrated autocorrelation time for 5 parameter(s). Use this estimate with caution and run a longer chain!\n",
      "N/50 = 400;\n",
      "tau: [1069.30971249  341.39429033 1089.40577503 1029.83476463 1150.38437809\n",
      " 1074.91705406]\n"
     ]
    },
    {
     "name": "stderr",
     "output_type": "stream",
     "text": [
      "Fitting data, inverse Abel transforming, and measuring densities:   9%|▌     | 12/129 [04:53<47:16, 24.24s/it]"
     ]
    },
    {
     "name": "stdout",
     "output_type": "stream",
     "text": [
      "The chain is shorter than 50 times the integrated autocorrelation time for 6 parameter(s). Use this estimate with caution and run a longer chain!\n",
      "N/50 = 400;\n",
      "tau: [591.94066237 514.34377124 788.30374551 650.18327313 767.43050567\n",
      " 802.71584548]\n"
     ]
    },
    {
     "name": "stderr",
     "output_type": "stream",
     "text": [
      "/its/home/dt237/.conda/envs/dev_xga/lib/python3.8/site-packages/astropy/units/quantity.py:477: RuntimeWarning: invalid value encountered in sqrt\n",
      "  result = super().__array_ufunc__(function, method, *arrays, **kwargs)\n",
      "/mnt/pact/dt237/code/PycharmProjects/XGA/xga/sourcetools/density.py:531: UserWarning: One or more of the quantities passed to the init of SDSSXCS-31144's density profile has a NaN or Inf value in it.\n",
      "  warn(\"One or more of the quantities passed to the init of {}'s density profile has a NaN or Inf value\"\n",
      "\r",
      "Fitting data, inverse Abel transforming, and measuring densities:  10%|▌     | 13/129 [05:14<44:42, 23.12s/it]"
     ]
    },
    {
     "name": "stdout",
     "output_type": "stream",
     "text": [
      "The chain is shorter than 50 times the integrated autocorrelation time for 4 parameter(s). Use this estimate with caution and run a longer chain!\n",
      "N/50 = 400;\n",
      "tau: [317.71059147 512.71932321 583.82968352 376.24835131 467.30047856\n",
      " 592.38702681]\n"
     ]
    },
    {
     "name": "stderr",
     "output_type": "stream",
     "text": [
      "\r",
      "Fitting data, inverse Abel transforming, and measuring densities:  11%|▋     | 14/129 [05:38<44:53, 23.42s/it]"
     ]
    },
    {
     "name": "stdout",
     "output_type": "stream",
     "text": [
      "The chain is shorter than 50 times the integrated autocorrelation time for 4 parameter(s). Use this estimate with caution and run a longer chain!\n",
      "N/50 = 400;\n",
      "tau: [ 213.86392404  318.96454382 1189.79522882 1070.12144335 1126.93003107\n",
      " 1061.81909315]\n"
     ]
    },
    {
     "name": "stderr",
     "output_type": "stream",
     "text": [
      "Fitting data, inverse Abel transforming, and measuring densities:  13%|▊     | 17/129 [06:50<43:45, 23.45s/it]"
     ]
    },
    {
     "name": "stdout",
     "output_type": "stream",
     "text": [
      "The chain is shorter than 50 times the integrated autocorrelation time for 2 parameter(s). Use this estimate with caution and run a longer chain!\n",
      "N/50 = 400;\n",
      "tau: [296.76976503 398.78843078 491.02160064 243.93806315 358.12782032\n",
      " 489.26251846]\n"
     ]
    },
    {
     "name": "stderr",
     "output_type": "stream",
     "text": [
      "\r",
      "Fitting data, inverse Abel transforming, and measuring densities:  14%|▊     | 18/129 [07:09<41:24, 22.38s/it]"
     ]
    },
    {
     "name": "stdout",
     "output_type": "stream",
     "text": [
      "The chain is shorter than 50 times the integrated autocorrelation time for 6 parameter(s). Use this estimate with caution and run a longer chain!\n",
      "N/50 = 400;\n",
      "tau: [ 526.82333151 1253.30310413 1184.93380253  457.85434762 1183.16972954\n",
      "  788.28629981]\n"
     ]
    },
    {
     "name": "stderr",
     "output_type": "stream",
     "text": [
      "/its/home/dt237/.conda/envs/dev_xga/lib/python3.8/site-packages/astropy/units/quantity.py:477: RuntimeWarning: invalid value encountered in sqrt\n",
      "  result = super().__array_ufunc__(function, method, *arrays, **kwargs)\n",
      "/mnt/pact/dt237/code/PycharmProjects/XGA/xga/sourcetools/density.py:531: UserWarning: One or more of the quantities passed to the init of SDSSXCS-7190's density profile has a NaN or Inf value in it.\n",
      "  warn(\"One or more of the quantities passed to the init of {}'s density profile has a NaN or Inf value\"\n",
      "\r",
      "Fitting data, inverse Abel transforming, and measuring densities:  15%|▉     | 19/129 [07:29<39:29, 21.54s/it]"
     ]
    },
    {
     "name": "stdout",
     "output_type": "stream",
     "text": [
      "The chain is shorter than 50 times the integrated autocorrelation time for 4 parameter(s). Use this estimate with caution and run a longer chain!\n",
      "N/50 = 400;\n",
      "tau: [ 385.95131834  894.13303257 1325.52042468  290.34406191  677.44011893\n",
      " 1225.8661077 ]\n"
     ]
    },
    {
     "name": "stderr",
     "output_type": "stream",
     "text": [
      "Fitting data, inverse Abel transforming, and measuring densities:  16%|▉     | 20/129 [07:56<42:09, 23.21s/it]/its/home/dt237/.conda/envs/dev_xga/lib/python3.8/site-packages/astropy/units/quantity.py:477: RuntimeWarning: invalid value encountered in sqrt\n",
      "  result = super().__array_ufunc__(function, method, *arrays, **kwargs)\n",
      "/mnt/pact/dt237/code/PycharmProjects/XGA/xga/sourcetools/density.py:531: UserWarning: One or more of the quantities passed to the init of SDSSXCS-5743's density profile has a NaN or Inf value in it.\n",
      "  warn(\"One or more of the quantities passed to the init of {}'s density profile has a NaN or Inf value\"\n",
      "Fitting data, inverse Abel transforming, and measuring densities:  16%|▉     | 21/129 [08:18<40:48, 22.67s/it]"
     ]
    },
    {
     "name": "stdout",
     "output_type": "stream",
     "text": [
      "The chain is shorter than 50 times the integrated autocorrelation time for 4 parameter(s). Use this estimate with caution and run a longer chain!\n",
      "N/50 = 400;\n",
      "tau: [319.16891423 521.53599218 965.59575183 333.39044275 537.74926589\n",
      " 909.12624521]\n"
     ]
    },
    {
     "name": "stderr",
     "output_type": "stream",
     "text": [
      "\r",
      "Fitting data, inverse Abel transforming, and measuring densities:  17%|█     | 22/129 [08:39<40:01, 22.45s/it]"
     ]
    },
    {
     "name": "stdout",
     "output_type": "stream",
     "text": [
      "The chain is shorter than 50 times the integrated autocorrelation time for 6 parameter(s). Use this estimate with caution and run a longer chain!\n",
      "N/50 = 400;\n",
      "tau: [ 534.97298538 1468.51778173 1221.91351382  571.94781159 1340.36139468\n",
      " 1272.55455238]\n"
     ]
    },
    {
     "name": "stderr",
     "output_type": "stream",
     "text": [
      "/its/home/dt237/.conda/envs/dev_xga/lib/python3.8/site-packages/astropy/units/quantity.py:477: RuntimeWarning: invalid value encountered in sqrt\n",
      "  result = super().__array_ufunc__(function, method, *arrays, **kwargs)\n",
      "/mnt/pact/dt237/code/PycharmProjects/XGA/xga/sourcetools/density.py:531: UserWarning: One or more of the quantities passed to the init of SDSSXCS-29799's density profile has a NaN or Inf value in it.\n",
      "  warn(\"One or more of the quantities passed to the init of {}'s density profile has a NaN or Inf value\"\n",
      "\r",
      "Fitting data, inverse Abel transforming, and measuring densities:  18%|█     | 23/129 [08:59<38:15, 21.66s/it]"
     ]
    },
    {
     "name": "stdout",
     "output_type": "stream",
     "text": [
      "The chain is shorter than 50 times the integrated autocorrelation time for 6 parameter(s). Use this estimate with caution and run a longer chain!\n",
      "N/50 = 400;\n",
      "tau: [487.38815947 881.38538477 729.35438395 414.34701569 555.61415084\n",
      " 771.65273936]\n"
     ]
    },
    {
     "name": "stderr",
     "output_type": "stream",
     "text": [
      "Fitting data, inverse Abel transforming, and measuring densities:  19%|█▏    | 25/129 [09:49<40:21, 23.28s/it]"
     ]
    },
    {
     "name": "stdout",
     "output_type": "stream",
     "text": [
      "The chain is shorter than 50 times the integrated autocorrelation time for 6 parameter(s). Use this estimate with caution and run a longer chain!\n",
      "N/50 = 400;\n",
      "tau: [ 416.48960406  485.10855451 1021.9845742   411.32869049  448.40174823\n",
      "  559.86575718]\n"
     ]
    },
    {
     "name": "stderr",
     "output_type": "stream",
     "text": [
      "/its/home/dt237/.conda/envs/dev_xga/lib/python3.8/site-packages/astropy/units/quantity.py:477: RuntimeWarning: invalid value encountered in sqrt\n",
      "  result = super().__array_ufunc__(function, method, *arrays, **kwargs)\n",
      "/mnt/pact/dt237/code/PycharmProjects/XGA/xga/sourcetools/density.py:531: UserWarning: One or more of the quantities passed to the init of SDSSXCS-16227's density profile has a NaN or Inf value in it.\n",
      "  warn(\"One or more of the quantities passed to the init of {}'s density profile has a NaN or Inf value\"\n",
      "\r",
      "Fitting data, inverse Abel transforming, and measuring densities:  20%|█▏    | 26/129 [10:11<39:01, 22.73s/it]"
     ]
    },
    {
     "name": "stdout",
     "output_type": "stream",
     "text": [
      "The chain is shorter than 50 times the integrated autocorrelation time for 6 parameter(s). Use this estimate with caution and run a longer chain!\n",
      "N/50 = 400;\n",
      "tau: [ 413.72769688 1566.42793809 1804.79619112  670.84676692  930.93010894\n",
      " 1411.77403236]\n"
     ]
    },
    {
     "name": "stderr",
     "output_type": "stream",
     "text": [
      "/its/home/dt237/.conda/envs/dev_xga/lib/python3.8/site-packages/astropy/units/quantity.py:477: RuntimeWarning: invalid value encountered in sqrt\n",
      "  result = super().__array_ufunc__(function, method, *arrays, **kwargs)\n",
      "/mnt/pact/dt237/code/PycharmProjects/XGA/xga/sourcetools/density.py:531: UserWarning: One or more of the quantities passed to the init of SDSSXCS-2984's density profile has a NaN or Inf value in it.\n",
      "  warn(\"One or more of the quantities passed to the init of {}'s density profile has a NaN or Inf value\"\n",
      "\r",
      "Fitting data, inverse Abel transforming, and measuring densities:  21%|█▎    | 27/129 [10:33<38:17, 22.53s/it]"
     ]
    },
    {
     "name": "stdout",
     "output_type": "stream",
     "text": [
      "The chain is shorter than 50 times the integrated autocorrelation time for 6 parameter(s). Use this estimate with caution and run a longer chain!\n",
      "N/50 = 400;\n",
      "tau: [1042.26271028  741.27358484 2012.1509978   514.81972169  683.47597053\n",
      " 1955.51641628]\n"
     ]
    },
    {
     "name": "stderr",
     "output_type": "stream",
     "text": [
      "/its/home/dt237/.conda/envs/dev_xga/lib/python3.8/site-packages/astropy/units/quantity.py:477: RuntimeWarning: invalid value encountered in sqrt\n",
      "  result = super().__array_ufunc__(function, method, *arrays, **kwargs)\n",
      "/mnt/pact/dt237/code/PycharmProjects/XGA/xga/sourcetools/density.py:531: UserWarning: One or more of the quantities passed to the init of SDSSXCS-6955's density profile has a NaN or Inf value in it.\n",
      "  warn(\"One or more of the quantities passed to the init of {}'s density profile has a NaN or Inf value\"\n",
      "\r",
      "Fitting data, inverse Abel transforming, and measuring densities:  22%|█▎    | 28/129 [10:54<37:23, 22.22s/it]"
     ]
    },
    {
     "name": "stdout",
     "output_type": "stream",
     "text": [
      "The chain is shorter than 50 times the integrated autocorrelation time for 6 parameter(s). Use this estimate with caution and run a longer chain!\n",
      "N/50 = 400;\n",
      "tau: [ 539.54167172 1462.14448326 1820.53475495  773.54643258 1013.10442555\n",
      " 1754.08547806]\n"
     ]
    },
    {
     "name": "stderr",
     "output_type": "stream",
     "text": [
      "\r",
      "Fitting data, inverse Abel transforming, and measuring densities:  22%|█▎    | 29/129 [11:17<37:06, 22.26s/it]"
     ]
    },
    {
     "name": "stdout",
     "output_type": "stream",
     "text": [
      "The chain is shorter than 50 times the integrated autocorrelation time for 5 parameter(s). Use this estimate with caution and run a longer chain!\n",
      "N/50 = 400;\n",
      "tau: [220.45691244 845.05605047 416.39140521 530.52095759 682.7680971\n",
      " 904.67181782]\n"
     ]
    },
    {
     "name": "stderr",
     "output_type": "stream",
     "text": [
      "\r",
      "Fitting data, inverse Abel transforming, and measuring densities:  23%|█▍    | 30/129 [11:41<38:01, 23.04s/it]"
     ]
    },
    {
     "name": "stdout",
     "output_type": "stream",
     "text": [
      "The chain is shorter than 50 times the integrated autocorrelation time for 5 parameter(s). Use this estimate with caution and run a longer chain!\n",
      "N/50 = 400;\n",
      "tau: [ 415.29707745  294.74451253 1216.37027773 1127.75477154 1212.55728359\n",
      " 1158.37174424]\n"
     ]
    },
    {
     "name": "stderr",
     "output_type": "stream",
     "text": [
      "Fitting data, inverse Abel transforming, and measuring densities:  25%|█▍    | 32/129 [12:30<38:14, 23.65s/it]"
     ]
    },
    {
     "name": "stdout",
     "output_type": "stream",
     "text": [
      "The chain is shorter than 50 times the integrated autocorrelation time for 5 parameter(s). Use this estimate with caution and run a longer chain!\n",
      "N/50 = 400;\n",
      "tau: [ 982.18131536  312.08224358 1365.58157423 1258.24291604 1245.95107988\n",
      " 1281.56633246]\n"
     ]
    },
    {
     "name": "stderr",
     "output_type": "stream",
     "text": [
      "\r",
      "Fitting data, inverse Abel transforming, and measuring densities:  26%|█▌    | 33/129 [12:58<39:50, 24.90s/it]"
     ]
    },
    {
     "name": "stdout",
     "output_type": "stream",
     "text": [
      "The chain is shorter than 50 times the integrated autocorrelation time for 6 parameter(s). Use this estimate with caution and run a longer chain!\n",
      "N/50 = 400;\n",
      "tau: [1114.58804113 1134.19562186 1143.55296813 1054.09496173 1096.67258961\n",
      " 1146.52792144]\n"
     ]
    },
    {
     "name": "stderr",
     "output_type": "stream",
     "text": [
      "/its/home/dt237/.conda/envs/dev_xga/lib/python3.8/site-packages/astropy/units/quantity.py:477: RuntimeWarning: invalid value encountered in sqrt\n",
      "  result = super().__array_ufunc__(function, method, *arrays, **kwargs)\n",
      "/mnt/pact/dt237/code/PycharmProjects/XGA/xga/sourcetools/density.py:531: UserWarning: One or more of the quantities passed to the init of SDSSXCS-103's density profile has a NaN or Inf value in it.\n",
      "  warn(\"One or more of the quantities passed to the init of {}'s density profile has a NaN or Inf value\"\n",
      "\r",
      "Fitting data, inverse Abel transforming, and measuring densities:  26%|█▌    | 34/129 [13:21<38:20, 24.21s/it]"
     ]
    },
    {
     "name": "stdout",
     "output_type": "stream",
     "text": [
      "The chain is shorter than 50 times the integrated autocorrelation time for 6 parameter(s). Use this estimate with caution and run a longer chain!\n",
      "N/50 = 400;\n",
      "tau: [ 588.84554029 1654.96012304 1010.64841543 1080.96663309 1003.36750678\n",
      " 1070.50427161]\n"
     ]
    },
    {
     "name": "stderr",
     "output_type": "stream",
     "text": [
      "\r",
      "Fitting data, inverse Abel transforming, and measuring densities:  27%|█▋    | 35/129 [13:45<37:44, 24.09s/it]"
     ]
    },
    {
     "name": "stdout",
     "output_type": "stream",
     "text": [
      "The chain is shorter than 50 times the integrated autocorrelation time for 5 parameter(s). Use this estimate with caution and run a longer chain!\n",
      "N/50 = 400;\n",
      "tau: [1323.10906823  352.44843507 2213.66983481 2161.50818401 2164.59545384\n",
      " 1722.67915485]\n"
     ]
    },
    {
     "name": "stderr",
     "output_type": "stream",
     "text": [
      "/its/home/dt237/.conda/envs/dev_xga/lib/python3.8/site-packages/astropy/units/quantity.py:477: RuntimeWarning: invalid value encountered in sqrt\n",
      "  result = super().__array_ufunc__(function, method, *arrays, **kwargs)\n",
      "/mnt/pact/dt237/code/PycharmProjects/XGA/xga/sourcetools/density.py:531: UserWarning: One or more of the quantities passed to the init of SDSSXCS-19922's density profile has a NaN or Inf value in it.\n",
      "  warn(\"One or more of the quantities passed to the init of {}'s density profile has a NaN or Inf value\"\n",
      "\r",
      "Fitting data, inverse Abel transforming, and measuring densities:  28%|█▋    | 36/129 [14:04<35:05, 22.64s/it]"
     ]
    },
    {
     "name": "stdout",
     "output_type": "stream",
     "text": [
      "The chain is shorter than 50 times the integrated autocorrelation time for 6 parameter(s). Use this estimate with caution and run a longer chain!\n",
      "N/50 = 400;\n",
      "tau: [ 801.39203172 1405.51061408 1433.47877114  630.19332539 1119.54338014\n",
      "  742.77708749]\n"
     ]
    },
    {
     "name": "stderr",
     "output_type": "stream",
     "text": [
      "\r",
      "Fitting data, inverse Abel transforming, and measuring densities:  29%|█▋    | 37/129 [14:29<35:38, 23.24s/it]"
     ]
    },
    {
     "name": "stdout",
     "output_type": "stream",
     "text": [
      "The chain is shorter than 50 times the integrated autocorrelation time for 4 parameter(s). Use this estimate with caution and run a longer chain!\n",
      "N/50 = 400;\n",
      "tau: [ 345.18912935  325.3765186  1415.93814168 1208.71913471 1291.49753804\n",
      " 1272.92403528]\n"
     ]
    },
    {
     "name": "stderr",
     "output_type": "stream",
     "text": [
      "\r",
      "Fitting data, inverse Abel transforming, and measuring densities:  29%|█▊    | 38/129 [14:55<36:37, 24.15s/it]"
     ]
    },
    {
     "name": "stdout",
     "output_type": "stream",
     "text": [
      "The chain is shorter than 50 times the integrated autocorrelation time for 6 parameter(s). Use this estimate with caution and run a longer chain!\n",
      "N/50 = 400;\n",
      "tau: [1491.891331   1128.85686544 1519.79476887 1463.99639115 1546.71186297\n",
      " 1490.86352571]\n"
     ]
    },
    {
     "name": "stderr",
     "output_type": "stream",
     "text": [
      "\r",
      "Fitting data, inverse Abel transforming, and measuring densities:  30%|█▊    | 39/129 [15:18<35:33, 23.71s/it]"
     ]
    },
    {
     "name": "stdout",
     "output_type": "stream",
     "text": [
      "The chain is shorter than 50 times the integrated autocorrelation time for 6 parameter(s). Use this estimate with caution and run a longer chain!\n",
      "N/50 = 400;\n",
      "tau: [ 532.50028851  651.12256077 1437.6795327  1272.88157865 1094.2976923\n",
      " 1432.75423575]\n",
      "The chain is shorter than 50 times the integrated autocorrelation time for 1 parameter(s). Use this estimate with caution and run a longer chain!\n",
      "N/50 = 400;\n",
      "tau: [180.477872   291.13374937 471.17783459 160.42989447 169.98216532\n",
      " 196.37564345]\n"
     ]
    },
    {
     "name": "stderr",
     "output_type": "stream",
     "text": [
      "Fitting data, inverse Abel transforming, and measuring densities:  33%|█▉    | 42/129 [16:32<35:21, 24.39s/it]"
     ]
    },
    {
     "name": "stdout",
     "output_type": "stream",
     "text": [
      "The chain is shorter than 50 times the integrated autocorrelation time for 6 parameter(s). Use this estimate with caution and run a longer chain!\n",
      "N/50 = 400;\n",
      "tau: [ 861.16502987 1563.28071961 1972.3545987  1230.65790194 1613.27787878\n",
      " 1923.87382322]\n"
     ]
    },
    {
     "name": "stderr",
     "output_type": "stream",
     "text": [
      "\r",
      "Fitting data, inverse Abel transforming, and measuring densities:  33%|██    | 43/129 [16:58<35:23, 24.69s/it]"
     ]
    },
    {
     "name": "stdout",
     "output_type": "stream",
     "text": [
      "The chain is shorter than 50 times the integrated autocorrelation time for 6 parameter(s). Use this estimate with caution and run a longer chain!\n",
      "N/50 = 400;\n",
      "tau: [ 824.19550684  458.10483709 2068.34708023 1768.358886   1879.55711277\n",
      " 2003.58889099]\n"
     ]
    },
    {
     "name": "stderr",
     "output_type": "stream",
     "text": [
      "Fitting data, inverse Abel transforming, and measuring densities:  35%|██    | 45/129 [17:42<32:37, 23.30s/it]"
     ]
    },
    {
     "name": "stdout",
     "output_type": "stream",
     "text": [
      "The chain is shorter than 50 times the integrated autocorrelation time for 6 parameter(s). Use this estimate with caution and run a longer chain!\n",
      "N/50 = 400;\n",
      "tau: [1466.98795573  739.10009043 1483.50803696  846.70370807  792.78431311\n",
      " 1469.69272717]\n"
     ]
    },
    {
     "name": "stderr",
     "output_type": "stream",
     "text": [
      "\r",
      "Fitting data, inverse Abel transforming, and measuring densities:  36%|██▏   | 46/129 [18:04<31:45, 22.96s/it]"
     ]
    },
    {
     "name": "stdout",
     "output_type": "stream",
     "text": [
      "The chain is shorter than 50 times the integrated autocorrelation time for 6 parameter(s). Use this estimate with caution and run a longer chain!\n",
      "N/50 = 400;\n",
      "tau: [ 695.5999133   728.00670052 1849.59639709 1335.03966937 1136.70946959\n",
      " 1826.08213024]\n"
     ]
    },
    {
     "name": "stderr",
     "output_type": "stream",
     "text": [
      "/its/home/dt237/.conda/envs/dev_xga/lib/python3.8/site-packages/astropy/units/quantity.py:477: RuntimeWarning: invalid value encountered in sqrt\n",
      "  result = super().__array_ufunc__(function, method, *arrays, **kwargs)\n",
      "/mnt/pact/dt237/code/PycharmProjects/XGA/xga/sourcetools/density.py:531: UserWarning: One or more of the quantities passed to the init of SDSSXCS-22748's density profile has a NaN or Inf value in it.\n",
      "  warn(\"One or more of the quantities passed to the init of {}'s density profile has a NaN or Inf value\"\n",
      "\r",
      "Fitting data, inverse Abel transforming, and measuring densities:  36%|██▏   | 47/129 [18:24<30:08, 22.05s/it]"
     ]
    },
    {
     "name": "stdout",
     "output_type": "stream",
     "text": [
      "The chain is shorter than 50 times the integrated autocorrelation time for 6 parameter(s). Use this estimate with caution and run a longer chain!\n",
      "N/50 = 400;\n",
      "tau: [ 815.44209266 1067.59300797 1827.89501437  475.62881478  481.28900154\n",
      " 1799.54366595]\n"
     ]
    },
    {
     "name": "stderr",
     "output_type": "stream",
     "text": [
      "\r",
      "Fitting data, inverse Abel transforming, and measuring densities:  37%|██▏   | 48/129 [18:47<30:04, 22.28s/it]"
     ]
    },
    {
     "name": "stdout",
     "output_type": "stream",
     "text": [
      "The chain is shorter than 50 times the integrated autocorrelation time for 6 parameter(s). Use this estimate with caution and run a longer chain!\n",
      "N/50 = 400;\n",
      "tau: [524.47314075 519.16071301 852.03081955 611.19626263 671.08800595\n",
      " 895.78920543]\n"
     ]
    },
    {
     "name": "stderr",
     "output_type": "stream",
     "text": [
      "Fitting data, inverse Abel transforming, and measuring densities:  39%|██▎   | 50/129 [19:43<33:10, 25.19s/it]"
     ]
    },
    {
     "name": "stdout",
     "output_type": "stream",
     "text": [
      "The chain is shorter than 50 times the integrated autocorrelation time for 6 parameter(s). Use this estimate with caution and run a longer chain!\n",
      "N/50 = 400;\n",
      "tau: [526.42222867 526.9479057  498.91502672 489.98129221 498.15631156\n",
      " 512.66410493]\n"
     ]
    },
    {
     "name": "stderr",
     "output_type": "stream",
     "text": [
      "/its/home/dt237/.conda/envs/dev_xga/lib/python3.8/site-packages/astropy/units/quantity.py:477: RuntimeWarning: invalid value encountered in sqrt\n",
      "  result = super().__array_ufunc__(function, method, *arrays, **kwargs)\n",
      "/mnt/pact/dt237/code/PycharmProjects/XGA/xga/sourcetools/density.py:531: UserWarning: One or more of the quantities passed to the init of SDSSXCS-75's density profile has a NaN or Inf value in it.\n",
      "  warn(\"One or more of the quantities passed to the init of {}'s density profile has a NaN or Inf value\"\n",
      "\r",
      "Fitting data, inverse Abel transforming, and measuring densities:  40%|██▎   | 51/129 [20:05<31:28, 24.22s/it]"
     ]
    },
    {
     "name": "stdout",
     "output_type": "stream",
     "text": [
      "The chain is shorter than 50 times the integrated autocorrelation time for 4 parameter(s). Use this estimate with caution and run a longer chain!\n",
      "N/50 = 400;\n",
      "tau: [1417.72546535  385.98762317 2109.98876661  290.85710297  403.89275021\n",
      " 2082.72682672]\n"
     ]
    },
    {
     "name": "stderr",
     "output_type": "stream",
     "text": [
      "Fitting data, inverse Abel transforming, and measuring densities:  41%|██▍   | 53/129 [20:56<31:06, 24.56s/it]"
     ]
    },
    {
     "name": "stdout",
     "output_type": "stream",
     "text": [
      "The chain is shorter than 50 times the integrated autocorrelation time for 1 parameter(s). Use this estimate with caution and run a longer chain!\n",
      "N/50 = 400;\n",
      "tau: [196.36264937 312.74063679 782.54959399 285.41482    264.42417647\n",
      " 166.75210638]\n"
     ]
    },
    {
     "name": "stderr",
     "output_type": "stream",
     "text": [
      "Fitting data, inverse Abel transforming, and measuring densities:  43%|██▌   | 55/129 [21:46<30:09, 24.45s/it]"
     ]
    },
    {
     "name": "stdout",
     "output_type": "stream",
     "text": [
      "The chain is shorter than 50 times the integrated autocorrelation time for 6 parameter(s). Use this estimate with caution and run a longer chain!\n",
      "N/50 = 400;\n",
      "tau: [1390.89871155  599.21815125 1669.80188739  695.51941243  836.53490504\n",
      " 1618.14236994]\n"
     ]
    },
    {
     "name": "stderr",
     "output_type": "stream",
     "text": [
      "/its/home/dt237/.conda/envs/dev_xga/lib/python3.8/site-packages/astropy/units/quantity.py:477: RuntimeWarning: invalid value encountered in sqrt\n",
      "  result = super().__array_ufunc__(function, method, *arrays, **kwargs)\n",
      "/mnt/pact/dt237/code/PycharmProjects/XGA/xga/sourcetools/density.py:531: UserWarning: One or more of the quantities passed to the init of SDSSXCS-47's density profile has a NaN or Inf value in it.\n",
      "  warn(\"One or more of the quantities passed to the init of {}'s density profile has a NaN or Inf value\"\n",
      "\r",
      "Fitting data, inverse Abel transforming, and measuring densities:  43%|██▌   | 56/129 [22:07<28:31, 23.45s/it]"
     ]
    },
    {
     "name": "stdout",
     "output_type": "stream",
     "text": [
      "The chain is shorter than 50 times the integrated autocorrelation time for 6 parameter(s). Use this estimate with caution and run a longer chain!\n",
      "N/50 = 400;\n",
      "tau: [548.65346661 549.35777646 952.96630586 435.21501158 505.83998897\n",
      " 963.9562718 ]\n"
     ]
    },
    {
     "name": "stderr",
     "output_type": "stream",
     "text": [
      "\r",
      "Fitting data, inverse Abel transforming, and measuring densities:  44%|██▋   | 57/129 [22:28<27:12, 22.67s/it]"
     ]
    },
    {
     "name": "stdout",
     "output_type": "stream",
     "text": [
      "The chain is shorter than 50 times the integrated autocorrelation time for 6 parameter(s). Use this estimate with caution and run a longer chain!\n",
      "N/50 = 400;\n",
      "tau: [1332.17911659 2256.68350902 1918.42580549  445.58908277  779.71256674\n",
      " 1766.46301609]\n"
     ]
    },
    {
     "name": "stderr",
     "output_type": "stream",
     "text": [
      "/its/home/dt237/.conda/envs/dev_xga/lib/python3.8/site-packages/astropy/units/quantity.py:477: RuntimeWarning: invalid value encountered in sqrt\n",
      "  result = super().__array_ufunc__(function, method, *arrays, **kwargs)\n",
      "/mnt/pact/dt237/code/PycharmProjects/XGA/xga/sourcetools/density.py:531: UserWarning: One or more of the quantities passed to the init of SDSSXCS-2588's density profile has a NaN or Inf value in it.\n",
      "  warn(\"One or more of the quantities passed to the init of {}'s density profile has a NaN or Inf value\"\n",
      "\r",
      "Fitting data, inverse Abel transforming, and measuring densities:  45%|██▋   | 58/129 [22:48<25:52, 21.87s/it]"
     ]
    },
    {
     "name": "stdout",
     "output_type": "stream",
     "text": [
      "The chain is shorter than 50 times the integrated autocorrelation time for 6 parameter(s). Use this estimate with caution and run a longer chain!\n",
      "N/50 = 400;\n",
      "tau: [ 547.29672534  851.08858432 2046.8222929  1034.42310269 1214.38563872\n",
      " 1154.50173972]\n"
     ]
    },
    {
     "name": "stderr",
     "output_type": "stream",
     "text": [
      "/its/home/dt237/.conda/envs/dev_xga/lib/python3.8/site-packages/astropy/units/quantity.py:477: RuntimeWarning: invalid value encountered in sqrt\n",
      "  result = super().__array_ufunc__(function, method, *arrays, **kwargs)\n",
      "/mnt/pact/dt237/code/PycharmProjects/XGA/xga/sourcetools/density.py:531: UserWarning: One or more of the quantities passed to the init of SDSSXCS-298's density profile has a NaN or Inf value in it.\n",
      "  warn(\"One or more of the quantities passed to the init of {}'s density profile has a NaN or Inf value\"\n",
      "\r",
      "Fitting data, inverse Abel transforming, and measuring densities:  46%|██▋   | 59/129 [23:12<26:24, 22.63s/it]"
     ]
    },
    {
     "name": "stdout",
     "output_type": "stream",
     "text": [
      "The chain is shorter than 50 times the integrated autocorrelation time for 5 parameter(s). Use this estimate with caution and run a longer chain!\n",
      "N/50 = 400;\n",
      "tau: [ 396.83196319  870.47699878 1437.14201737 1453.16153014 1477.90705804\n",
      " 1551.53462419]\n"
     ]
    },
    {
     "name": "stderr",
     "output_type": "stream",
     "text": [
      "\r",
      "Fitting data, inverse Abel transforming, and measuring densities:  47%|██▊   | 60/129 [23:33<25:29, 22.16s/it]"
     ]
    },
    {
     "name": "stdout",
     "output_type": "stream",
     "text": [
      "The chain is shorter than 50 times the integrated autocorrelation time for 6 parameter(s). Use this estimate with caution and run a longer chain!\n",
      "N/50 = 400;\n",
      "tau: [ 702.82700071  908.94707433 1191.66491634  659.99614744  963.37578544\n",
      " 1226.71896663]\n"
     ]
    },
    {
     "name": "stderr",
     "output_type": "stream",
     "text": [
      "\r",
      "Fitting data, inverse Abel transforming, and measuring densities:  47%|██▊   | 61/129 [23:55<25:02, 22.09s/it]"
     ]
    },
    {
     "name": "stdout",
     "output_type": "stream",
     "text": [
      "The chain is shorter than 50 times the integrated autocorrelation time for 5 parameter(s). Use this estimate with caution and run a longer chain!\n",
      "N/50 = 400;\n",
      "tau: [1010.4237269  1393.58354709 1440.67141482  385.4889622   447.01550025\n",
      " 1406.16920175]\n"
     ]
    },
    {
     "name": "stderr",
     "output_type": "stream",
     "text": [
      "\r",
      "Fitting data, inverse Abel transforming, and measuring densities:  48%|██▉   | 62/129 [24:18<24:55, 22.32s/it]"
     ]
    },
    {
     "name": "stdout",
     "output_type": "stream",
     "text": [
      "The chain is shorter than 50 times the integrated autocorrelation time for 6 parameter(s). Use this estimate with caution and run a longer chain!\n",
      "N/50 = 400;\n",
      "tau: [ 487.39111874  555.36300074 1575.20138158 1417.58965769 1315.52610447\n",
      " 1448.59170326]\n"
     ]
    },
    {
     "name": "stderr",
     "output_type": "stream",
     "text": [
      "/its/home/dt237/.conda/envs/dev_xga/lib/python3.8/site-packages/astropy/units/quantity.py:477: RuntimeWarning: invalid value encountered in sqrt\n",
      "  result = super().__array_ufunc__(function, method, *arrays, **kwargs)\n",
      "/mnt/pact/dt237/code/PycharmProjects/XGA/xga/sourcetools/density.py:531: UserWarning: One or more of the quantities passed to the init of SDSSXCS-474's density profile has a NaN or Inf value in it.\n",
      "  warn(\"One or more of the quantities passed to the init of {}'s density profile has a NaN or Inf value\"\n",
      "\r",
      "Fitting data, inverse Abel transforming, and measuring densities:  49%|██▉   | 63/129 [24:38<23:43, 21.56s/it]"
     ]
    },
    {
     "name": "stdout",
     "output_type": "stream",
     "text": [
      "The chain is shorter than 50 times the integrated autocorrelation time for 6 parameter(s). Use this estimate with caution and run a longer chain!\n",
      "N/50 = 400;\n",
      "tau: [ 487.76144385 1632.69523144  795.94664548  730.77208691 1067.33470661\n",
      " 1289.82939279]\n"
     ]
    },
    {
     "name": "stderr",
     "output_type": "stream",
     "text": [
      "\r",
      "Fitting data, inverse Abel transforming, and measuring densities:  50%|██▉   | 64/129 [25:02<24:23, 22.51s/it]"
     ]
    },
    {
     "name": "stdout",
     "output_type": "stream",
     "text": [
      "The chain is shorter than 50 times the integrated autocorrelation time for 4 parameter(s). Use this estimate with caution and run a longer chain!\n",
      "N/50 = 400;\n",
      "tau: [ 314.42117408  381.16862549 1244.57387979 1147.59010687 1067.36710016\n",
      "  976.86646619]\n"
     ]
    },
    {
     "name": "stderr",
     "output_type": "stream",
     "text": [
      "\r",
      "Fitting data, inverse Abel transforming, and measuring densities:  50%|███   | 65/129 [25:25<24:08, 22.64s/it]"
     ]
    },
    {
     "name": "stdout",
     "output_type": "stream",
     "text": [
      "The chain is shorter than 50 times the integrated autocorrelation time for 5 parameter(s). Use this estimate with caution and run a longer chain!\n",
      "N/50 = 400;\n",
      "tau: [289.20997809 464.16404521 659.62632826 673.00183476 722.56735868\n",
      " 666.67089839]\n"
     ]
    },
    {
     "name": "stderr",
     "output_type": "stream",
     "text": [
      "/its/home/dt237/.conda/envs/dev_xga/lib/python3.8/site-packages/astropy/units/quantity.py:477: RuntimeWarning: invalid value encountered in sqrt\n",
      "  result = super().__array_ufunc__(function, method, *arrays, **kwargs)\n",
      "/mnt/pact/dt237/code/PycharmProjects/XGA/xga/sourcetools/density.py:531: UserWarning: One or more of the quantities passed to the init of SDSSXCS-1174's density profile has a NaN or Inf value in it.\n",
      "  warn(\"One or more of the quantities passed to the init of {}'s density profile has a NaN or Inf value\"\n",
      "\r",
      "Fitting data, inverse Abel transforming, and measuring densities:  51%|███   | 66/129 [25:47<23:36, 22.48s/it]"
     ]
    },
    {
     "name": "stdout",
     "output_type": "stream",
     "text": [
      "The chain is shorter than 50 times the integrated autocorrelation time for 6 parameter(s). Use this estimate with caution and run a longer chain!\n",
      "N/50 = 400;\n",
      "tau: [ 614.56889353 1288.21123189 2109.91604473  925.46178728 1605.48055402\n",
      " 2075.88504504]\n"
     ]
    },
    {
     "name": "stderr",
     "output_type": "stream",
     "text": [
      "\r",
      "Fitting data, inverse Abel transforming, and measuring densities:  52%|███   | 67/129 [26:11<23:25, 22.67s/it]"
     ]
    },
    {
     "name": "stdout",
     "output_type": "stream",
     "text": [
      "The chain is shorter than 50 times the integrated autocorrelation time for 5 parameter(s). Use this estimate with caution and run a longer chain!\n",
      "N/50 = 400;\n",
      "tau: [1388.14133209  206.99196053 1992.22989981 1888.08813622 1638.28119235\n",
      " 1878.55309211]\n"
     ]
    },
    {
     "name": "stderr",
     "output_type": "stream",
     "text": [
      "\r",
      "Fitting data, inverse Abel transforming, and measuring densities:  53%|███▏  | 68/129 [26:33<23:02, 22.66s/it]"
     ]
    },
    {
     "name": "stdout",
     "output_type": "stream",
     "text": [
      "The chain is shorter than 50 times the integrated autocorrelation time for 6 parameter(s). Use this estimate with caution and run a longer chain!\n",
      "N/50 = 400;\n",
      "tau: [ 783.99000355 1339.67768025 2361.5193891  1918.73562985 2125.87403432\n",
      " 2251.54136178]\n"
     ]
    },
    {
     "name": "stderr",
     "output_type": "stream",
     "text": [
      "\r",
      "Fitting data, inverse Abel transforming, and measuring densities:  53%|███▏  | 69/129 [26:56<22:42, 22.71s/it]"
     ]
    },
    {
     "name": "stdout",
     "output_type": "stream",
     "text": [
      "The chain is shorter than 50 times the integrated autocorrelation time for 6 parameter(s). Use this estimate with caution and run a longer chain!\n",
      "N/50 = 400;\n",
      "tau: [ 747.41293332 1229.63125913 2153.59618131  950.42777526 1190.88839464\n",
      " 2047.41656565]\n"
     ]
    },
    {
     "name": "stderr",
     "output_type": "stream",
     "text": [
      "\r",
      "Fitting data, inverse Abel transforming, and measuring densities:  54%|███▎  | 70/129 [27:19<22:23, 22.77s/it]"
     ]
    },
    {
     "name": "stdout",
     "output_type": "stream",
     "text": [
      "The chain is shorter than 50 times the integrated autocorrelation time for 6 parameter(s). Use this estimate with caution and run a longer chain!\n",
      "N/50 = 400;\n",
      "tau: [ 822.85227158  841.86778783 1503.44267355 1097.81955234 1162.97579671\n",
      " 1433.06878851]\n"
     ]
    },
    {
     "name": "stderr",
     "output_type": "stream",
     "text": [
      "\r",
      "Fitting data, inverse Abel transforming, and measuring densities:  55%|███▎  | 71/129 [27:42<22:01, 22.79s/it]"
     ]
    },
    {
     "name": "stdout",
     "output_type": "stream",
     "text": [
      "The chain is shorter than 50 times the integrated autocorrelation time for 6 parameter(s). Use this estimate with caution and run a longer chain!\n",
      "N/50 = 400;\n",
      "tau: [400.18055956 760.95610768 631.31012036 838.61650734 926.80658172\n",
      " 879.79066734]\n"
     ]
    },
    {
     "name": "stderr",
     "output_type": "stream",
     "text": [
      "/its/home/dt237/.conda/envs/dev_xga/lib/python3.8/site-packages/astropy/units/quantity.py:477: RuntimeWarning: invalid value encountered in sqrt\n",
      "  result = super().__array_ufunc__(function, method, *arrays, **kwargs)\n",
      "/mnt/pact/dt237/code/PycharmProjects/XGA/xga/sourcetools/density.py:531: UserWarning: One or more of the quantities passed to the init of SDSSXCS-241's density profile has a NaN or Inf value in it.\n",
      "  warn(\"One or more of the quantities passed to the init of {}'s density profile has a NaN or Inf value\"\n",
      "\r",
      "Fitting data, inverse Abel transforming, and measuring densities:  56%|███▎  | 72/129 [28:03<21:05, 22.21s/it]"
     ]
    },
    {
     "name": "stdout",
     "output_type": "stream",
     "text": [
      "The chain is shorter than 50 times the integrated autocorrelation time for 6 parameter(s). Use this estimate with caution and run a longer chain!\n",
      "N/50 = 400;\n",
      "tau: [1502.44912883  958.35847831 2129.90447577  807.78703894  616.37716678\n",
      " 2096.00718439]\n"
     ]
    },
    {
     "name": "stderr",
     "output_type": "stream",
     "text": [
      "Fitting data, inverse Abel transforming, and measuring densities:  58%|███▍  | 75/129 [29:13<20:30, 22.78s/it]"
     ]
    },
    {
     "name": "stdout",
     "output_type": "stream",
     "text": [
      "The chain is shorter than 50 times the integrated autocorrelation time for 6 parameter(s). Use this estimate with caution and run a longer chain!\n",
      "N/50 = 400;\n",
      "tau: [ 445.28103202  816.69399127 1850.11655542 1278.71947258 1516.22285459\n",
      " 1682.05381578]\n"
     ]
    },
    {
     "name": "stderr",
     "output_type": "stream",
     "text": [
      "Fitting data, inverse Abel transforming, and measuring densities:  59%|███▌  | 76/129 [29:41<21:27, 24.30s/it]/its/home/dt237/.conda/envs/dev_xga/lib/python3.8/site-packages/astropy/units/quantity.py:477: RuntimeWarning: invalid value encountered in sqrt\n",
      "  result = super().__array_ufunc__(function, method, *arrays, **kwargs)\n",
      "/mnt/pact/dt237/code/PycharmProjects/XGA/xga/sourcetools/density.py:531: UserWarning: One or more of the quantities passed to the init of SDSSXCS-5939's density profile has a NaN or Inf value in it.\n",
      "  warn(\"One or more of the quantities passed to the init of {}'s density profile has a NaN or Inf value\"\n",
      "Fitting data, inverse Abel transforming, and measuring densities:  60%|███▌  | 77/129 [30:03<20:31, 23.68s/it]"
     ]
    },
    {
     "name": "stdout",
     "output_type": "stream",
     "text": [
      "The chain is shorter than 50 times the integrated autocorrelation time for 5 parameter(s). Use this estimate with caution and run a longer chain!\n",
      "N/50 = 400;\n",
      "tau: [ 453.73936169  620.21855752 1506.3373928   343.52924696  621.90953564\n",
      " 1483.18429228]\n"
     ]
    },
    {
     "name": "stderr",
     "output_type": "stream",
     "text": [
      "Fitting data, inverse Abel transforming, and measuring densities:  60%|███▋  | 78/129 [30:26<20:06, 23.66s/it]/its/home/dt237/.conda/envs/dev_xga/lib/python3.8/site-packages/astropy/units/quantity.py:477: RuntimeWarning: invalid value encountered in sqrt\n",
      "  result = super().__array_ufunc__(function, method, *arrays, **kwargs)\n",
      "/mnt/pact/dt237/code/PycharmProjects/XGA/xga/sourcetools/density.py:531: UserWarning: One or more of the quantities passed to the init of SDSSXCS-11394's density profile has a NaN or Inf value in it.\n",
      "  warn(\"One or more of the quantities passed to the init of {}'s density profile has a NaN or Inf value\"\n",
      "Fitting data, inverse Abel transforming, and measuring densities:  61%|███▋  | 79/129 [30:47<18:57, 22.75s/it]"
     ]
    },
    {
     "name": "stdout",
     "output_type": "stream",
     "text": [
      "The chain is shorter than 50 times the integrated autocorrelation time for 2 parameter(s). Use this estimate with caution and run a longer chain!\n",
      "N/50 = 400;\n",
      "tau: [ 280.76895886  242.66499131 1621.50137402  226.61331842  230.3973878\n",
      " 1527.27299776]\n"
     ]
    },
    {
     "name": "stderr",
     "output_type": "stream",
     "text": [
      "\r",
      "Fitting data, inverse Abel transforming, and measuring densities:  62%|███▋  | 80/129 [31:11<18:52, 23.12s/it]"
     ]
    },
    {
     "name": "stdout",
     "output_type": "stream",
     "text": [
      "The chain is shorter than 50 times the integrated autocorrelation time for 6 parameter(s). Use this estimate with caution and run a longer chain!\n",
      "N/50 = 400;\n",
      "tau: [ 564.90075794  457.93312974 1925.53807867 1695.3870955  1576.17088879\n",
      " 1879.6459582 ]\n"
     ]
    },
    {
     "name": "stderr",
     "output_type": "stream",
     "text": [
      "Fitting data, inverse Abel transforming, and measuring densities:  64%|███▊  | 82/129 [32:01<18:52, 24.09s/it]"
     ]
    },
    {
     "name": "stdout",
     "output_type": "stream",
     "text": [
      "The chain is shorter than 50 times the integrated autocorrelation time for 1 parameter(s). Use this estimate with caution and run a longer chain!\n",
      "N/50 = 400;\n",
      "tau: [329.9418793  563.92489108 348.25274544 282.65073905 297.10126653\n",
      " 369.15991412]\n"
     ]
    },
    {
     "name": "stderr",
     "output_type": "stream",
     "text": [
      "\r",
      "Fitting data, inverse Abel transforming, and measuring densities:  64%|███▊  | 83/129 [32:26<18:41, 24.39s/it]"
     ]
    },
    {
     "name": "stdout",
     "output_type": "stream",
     "text": [
      "The chain is shorter than 50 times the integrated autocorrelation time for 6 parameter(s). Use this estimate with caution and run a longer chain!\n",
      "N/50 = 400;\n",
      "tau: [1825.54545698 1090.09352586 2020.19561913 1850.94693681 2003.01651364\n",
      " 2007.05476813]\n"
     ]
    },
    {
     "name": "stderr",
     "output_type": "stream",
     "text": [
      "Fitting data, inverse Abel transforming, and measuring densities:  66%|███▉  | 85/129 [33:12<17:13, 23.48s/it]"
     ]
    },
    {
     "name": "stdout",
     "output_type": "stream",
     "text": [
      "The chain is shorter than 50 times the integrated autocorrelation time for 1 parameter(s). Use this estimate with caution and run a longer chain!\n",
      "N/50 = 400;\n",
      "tau: [366.05690052 389.9441904  281.13997179 383.29894072 393.33349088\n",
      " 405.06833446]\n"
     ]
    },
    {
     "name": "stderr",
     "output_type": "stream",
     "text": [
      "Fitting data, inverse Abel transforming, and measuring densities:  67%|████  | 87/129 [33:59<16:25, 23.47s/it]"
     ]
    },
    {
     "name": "stdout",
     "output_type": "stream",
     "text": [
      "The chain is shorter than 50 times the integrated autocorrelation time for 4 parameter(s). Use this estimate with caution and run a longer chain!\n",
      "N/50 = 400;\n",
      "tau: [ 344.57952875 1323.14763532  921.2057616   379.24142067 1293.93387537\n",
      "  934.07731182]\n"
     ]
    },
    {
     "name": "stderr",
     "output_type": "stream",
     "text": [
      "Fitting data, inverse Abel transforming, and measuring densities:  69%|████▏ | 89/129 [34:48<16:05, 24.14s/it]"
     ]
    },
    {
     "name": "stdout",
     "output_type": "stream",
     "text": [
      "The chain is shorter than 50 times the integrated autocorrelation time for 5 parameter(s). Use this estimate with caution and run a longer chain!\n",
      "N/50 = 400;\n",
      "tau: [667.07250677 287.73033584 613.33248848 576.92444044 674.62222586\n",
      " 868.36135192]\n"
     ]
    },
    {
     "name": "stderr",
     "output_type": "stream",
     "text": [
      "/its/home/dt237/.conda/envs/dev_xga/lib/python3.8/site-packages/astropy/units/quantity.py:477: RuntimeWarning: invalid value encountered in sqrt\n",
      "  result = super().__array_ufunc__(function, method, *arrays, **kwargs)\n",
      "/mnt/pact/dt237/code/PycharmProjects/XGA/xga/sourcetools/density.py:531: UserWarning: One or more of the quantities passed to the init of SDSSXCS-4313's density profile has a NaN or Inf value in it.\n",
      "  warn(\"One or more of the quantities passed to the init of {}'s density profile has a NaN or Inf value\"\n",
      "\r",
      "Fitting data, inverse Abel transforming, and measuring densities:  70%|████▏ | 90/129 [35:10<15:20, 23.60s/it]"
     ]
    },
    {
     "name": "stdout",
     "output_type": "stream",
     "text": [
      "The chain is shorter than 50 times the integrated autocorrelation time for 6 parameter(s). Use this estimate with caution and run a longer chain!\n",
      "N/50 = 400;\n",
      "tau: [1254.38927903 1251.07193276 1873.8908975  1276.8077199  1074.28768097\n",
      " 1873.52397274]\n"
     ]
    },
    {
     "name": "stderr",
     "output_type": "stream",
     "text": [
      "Fitting data, inverse Abel transforming, and measuring densities:  72%|████▎ | 93/129 [36:28<14:54, 24.86s/it]"
     ]
    },
    {
     "name": "stdout",
     "output_type": "stream",
     "text": [
      "The chain is shorter than 50 times the integrated autocorrelation time for 2 parameter(s). Use this estimate with caution and run a longer chain!\n",
      "N/50 = 400;\n",
      "tau: [158.51597985 498.19696717 675.81580153 194.24512551 200.23986841\n",
      " 226.22897182]\n"
     ]
    },
    {
     "name": "stderr",
     "output_type": "stream",
     "text": [
      "Fitting data, inverse Abel transforming, and measuring densities:  75%|████▌ | 97/129 [38:17<14:18, 26.84s/it]"
     ]
    },
    {
     "name": "stdout",
     "output_type": "stream",
     "text": [
      "The chain is shorter than 50 times the integrated autocorrelation time for 6 parameter(s). Use this estimate with caution and run a longer chain!\n",
      "N/50 = 400;\n",
      "tau: [1186.78234336  835.98277385 1884.77482813 1928.43999134 1926.91907778\n",
      " 1833.08744637]\n"
     ]
    },
    {
     "name": "stderr",
     "output_type": "stream",
     "text": [
      "\r",
      "Fitting data, inverse Abel transforming, and measuring densities:  76%|████▌ | 98/129 [38:45<13:58, 27.04s/it]"
     ]
    },
    {
     "name": "stdout",
     "output_type": "stream",
     "text": [
      "The chain is shorter than 50 times the integrated autocorrelation time for 5 parameter(s). Use this estimate with caution and run a longer chain!\n",
      "N/50 = 400;\n",
      "tau: [1228.0738269  1145.78935148 1900.19291922  363.3410139   478.82342615\n",
      " 1889.79107118]\n"
     ]
    },
    {
     "name": "stderr",
     "output_type": "stream",
     "text": [
      "\r",
      "Fitting data, inverse Abel transforming, and measuring densities:  77%|████▌ | 99/129 [39:09<13:04, 26.14s/it]"
     ]
    },
    {
     "name": "stdout",
     "output_type": "stream",
     "text": [
      "The chain is shorter than 50 times the integrated autocorrelation time for 6 parameter(s). Use this estimate with caution and run a longer chain!\n",
      "N/50 = 400;\n",
      "tau: [ 989.13379625  536.60161391 1341.90138636 1169.85205844 1090.85897941\n",
      " 1313.74603492]\n"
     ]
    },
    {
     "name": "stderr",
     "output_type": "stream",
     "text": [
      "Fitting data, inverse Abel transforming, and measuring densities:  79%|███▉ | 102/129 [40:27<11:33, 25.68s/it]"
     ]
    },
    {
     "name": "stdout",
     "output_type": "stream",
     "text": [
      "The chain is shorter than 50 times the integrated autocorrelation time for 1 parameter(s). Use this estimate with caution and run a longer chain!\n",
      "N/50 = 400;\n",
      "tau: [215.82758619 288.12186029 630.97187462 271.86954701 264.93813708\n",
      " 319.87793313]\n"
     ]
    },
    {
     "name": "stderr",
     "output_type": "stream",
     "text": [
      "\r",
      "Fitting data, inverse Abel transforming, and measuring densities:  80%|███▉ | 103/129 [40:52<11:04, 25.54s/it]"
     ]
    },
    {
     "name": "stdout",
     "output_type": "stream",
     "text": [
      "The chain is shorter than 50 times the integrated autocorrelation time for 6 parameter(s). Use this estimate with caution and run a longer chain!\n",
      "N/50 = 400;\n",
      "tau: [1134.61173538  827.24352414 1112.97810478 1214.43861053 1221.72735012\n",
      " 1158.57743873]\n"
     ]
    },
    {
     "name": "stderr",
     "output_type": "stream",
     "text": [
      "Fitting data, inverse Abel transforming, and measuring densities:  81%|████ | 105/129 [41:42<10:02, 25.11s/it]"
     ]
    },
    {
     "name": "stdout",
     "output_type": "stream",
     "text": [
      "The chain is shorter than 50 times the integrated autocorrelation time for 1 parameter(s). Use this estimate with caution and run a longer chain!\n",
      "N/50 = 400;\n",
      "tau: [302.65439551 358.26037687 360.29035087 254.90904636 279.47229891\n",
      " 466.43051075]\n"
     ]
    },
    {
     "name": "stderr",
     "output_type": "stream",
     "text": [
      "\r",
      "Fitting data, inverse Abel transforming, and measuring densities:  82%|████ | 106/129 [42:09<09:52, 25.78s/it]"
     ]
    },
    {
     "name": "stdout",
     "output_type": "stream",
     "text": [
      "The chain is shorter than 50 times the integrated autocorrelation time for 4 parameter(s). Use this estimate with caution and run a longer chain!\n",
      "N/50 = 400;\n",
      "tau: [459.95441059 531.7943592  423.3305099  286.47783828 337.65738907\n",
      " 459.6336639 ]\n"
     ]
    },
    {
     "name": "stderr",
     "output_type": "stream",
     "text": [
      "/its/home/dt237/.conda/envs/dev_xga/lib/python3.8/site-packages/astropy/units/quantity.py:477: RuntimeWarning: invalid value encountered in sqrt\n",
      "  result = super().__array_ufunc__(function, method, *arrays, **kwargs)\n",
      "/mnt/pact/dt237/code/PycharmProjects/XGA/xga/sourcetools/density.py:531: UserWarning: One or more of the quantities passed to the init of SDSSXCS-30950's density profile has a NaN or Inf value in it.\n",
      "  warn(\"One or more of the quantities passed to the init of {}'s density profile has a NaN or Inf value\"\n",
      "\r",
      "Fitting data, inverse Abel transforming, and measuring densities:  83%|████▏| 107/129 [42:29<08:50, 24.12s/it]"
     ]
    },
    {
     "name": "stdout",
     "output_type": "stream",
     "text": [
      "The chain is shorter than 50 times the integrated autocorrelation time for 2 parameter(s). Use this estimate with caution and run a longer chain!\n",
      "N/50 = 400;\n",
      "tau: [ 298.09634654  350.19354603 2204.98883674  188.32009703  268.08617842\n",
      " 1689.35711292]\n"
     ]
    },
    {
     "name": "stderr",
     "output_type": "stream",
     "text": [
      "Fitting data, inverse Abel transforming, and measuring densities:  85%|████▎| 110/129 [43:49<08:05, 25.55s/it]"
     ]
    },
    {
     "name": "stdout",
     "output_type": "stream",
     "text": [
      "The chain is shorter than 50 times the integrated autocorrelation time for 6 parameter(s). Use this estimate with caution and run a longer chain!\n",
      "N/50 = 400;\n",
      "tau: [719.86832431 729.96543494 775.64404456 567.48610366 771.78392078\n",
      " 794.38050237]\n"
     ]
    },
    {
     "name": "stderr",
     "output_type": "stream",
     "text": [
      "Fitting data, inverse Abel transforming, and measuring densities:  87%|████▎| 112/129 [44:34<06:48, 24.04s/it]"
     ]
    },
    {
     "name": "stdout",
     "output_type": "stream",
     "text": [
      "The chain is shorter than 50 times the integrated autocorrelation time for 6 parameter(s). Use this estimate with caution and run a longer chain!\n",
      "N/50 = 400;\n",
      "tau: [1955.97760017 1205.71484744 2117.11617027 1314.54092504 1205.50760218\n",
      " 2110.81409747]\n"
     ]
    },
    {
     "name": "stderr",
     "output_type": "stream",
     "text": [
      "\r",
      "Fitting data, inverse Abel transforming, and measuring densities:  88%|████▍| 113/129 [45:00<06:34, 24.63s/it]"
     ]
    },
    {
     "name": "stdout",
     "output_type": "stream",
     "text": [
      "The chain is shorter than 50 times the integrated autocorrelation time for 6 parameter(s). Use this estimate with caution and run a longer chain!\n",
      "N/50 = 400;\n",
      "tau: [503.88253239 520.53330125 429.47169567 560.99860402 551.23701012\n",
      " 527.60232343]\n"
     ]
    },
    {
     "name": "stderr",
     "output_type": "stream",
     "text": [
      "/its/home/dt237/.conda/envs/dev_xga/lib/python3.8/site-packages/astropy/units/quantity.py:477: RuntimeWarning: invalid value encountered in sqrt\n",
      "  result = super().__array_ufunc__(function, method, *arrays, **kwargs)\n",
      "/mnt/pact/dt237/code/PycharmProjects/XGA/xga/sourcetools/density.py:531: UserWarning: One or more of the quantities passed to the init of SDSSXCS-10223's density profile has a NaN or Inf value in it.\n",
      "  warn(\"One or more of the quantities passed to the init of {}'s density profile has a NaN or Inf value\"\n",
      "\r",
      "Fitting data, inverse Abel transforming, and measuring densities:  88%|████▍| 114/129 [45:24<06:05, 24.38s/it]"
     ]
    },
    {
     "name": "stdout",
     "output_type": "stream",
     "text": [
      "The chain is shorter than 50 times the integrated autocorrelation time for 5 parameter(s). Use this estimate with caution and run a longer chain!\n",
      "N/50 = 400;\n",
      "tau: [1587.78651543 1280.30462658 2438.37024821 2067.89941423  203.62791131\n",
      " 1775.33191761]\n"
     ]
    },
    {
     "name": "stderr",
     "output_type": "stream",
     "text": [
      "\r",
      "Fitting data, inverse Abel transforming, and measuring densities:  89%|████▍| 115/129 [45:51<05:51, 25.08s/it]"
     ]
    },
    {
     "name": "stdout",
     "output_type": "stream",
     "text": [
      "The chain is shorter than 50 times the integrated autocorrelation time for 5 parameter(s). Use this estimate with caution and run a longer chain!\n",
      "N/50 = 400;\n",
      "tau: [1083.67748375  352.18291983 1347.51954725 1552.58817123 1511.94070805\n",
      " 1472.72326845]\n"
     ]
    },
    {
     "name": "stderr",
     "output_type": "stream",
     "text": [
      "Fitting data, inverse Abel transforming, and measuring densities:  90%|████▍| 116/129 [46:17<05:30, 25.40s/it]/its/home/dt237/.conda/envs/dev_xga/lib/python3.8/site-packages/astropy/units/quantity.py:477: RuntimeWarning: invalid value encountered in sqrt\n",
      "  result = super().__array_ufunc__(function, method, *arrays, **kwargs)\n",
      "/mnt/pact/dt237/code/PycharmProjects/XGA/xga/sourcetools/density.py:531: UserWarning: One or more of the quantities passed to the init of SDSSXCS-913's density profile has a NaN or Inf value in it.\n",
      "  warn(\"One or more of the quantities passed to the init of {}'s density profile has a NaN or Inf value\"\n",
      "Fitting data, inverse Abel transforming, and measuring densities:  91%|████▌| 117/129 [46:37<04:46, 23.89s/it]"
     ]
    },
    {
     "name": "stdout",
     "output_type": "stream",
     "text": [
      "The chain is shorter than 50 times the integrated autocorrelation time for 6 parameter(s). Use this estimate with caution and run a longer chain!\n",
      "N/50 = 400;\n",
      "tau: [ 739.96244332 1254.81278149 1429.39004464 1418.30117494 1566.60145612\n",
      " 2005.88204492]\n"
     ]
    },
    {
     "name": "stderr",
     "output_type": "stream",
     "text": [
      "/its/home/dt237/.conda/envs/dev_xga/lib/python3.8/site-packages/astropy/units/quantity.py:477: RuntimeWarning: invalid value encountered in sqrt\n",
      "  result = super().__array_ufunc__(function, method, *arrays, **kwargs)\n",
      "/mnt/pact/dt237/code/PycharmProjects/XGA/xga/sourcetools/density.py:531: UserWarning: One or more of the quantities passed to the init of SDSSXCS-62's density profile has a NaN or Inf value in it.\n",
      "  warn(\"One or more of the quantities passed to the init of {}'s density profile has a NaN or Inf value\"\n",
      "\r",
      "Fitting data, inverse Abel transforming, and measuring densities:  91%|████▌| 118/129 [46:59<04:15, 23.22s/it]"
     ]
    },
    {
     "name": "stdout",
     "output_type": "stream",
     "text": [
      "The chain is shorter than 50 times the integrated autocorrelation time for 6 parameter(s). Use this estimate with caution and run a longer chain!\n",
      "N/50 = 400;\n",
      "tau: [ 457.27223825  770.90623606 1689.98533631  732.5935713  1021.37160165\n",
      " 1663.74150724]\n"
     ]
    },
    {
     "name": "stderr",
     "output_type": "stream",
     "text": [
      "\r",
      "Fitting data, inverse Abel transforming, and measuring densities:  92%|████▌| 119/129 [47:25<04:01, 24.14s/it]"
     ]
    },
    {
     "name": "stdout",
     "output_type": "stream",
     "text": [
      "The chain is shorter than 50 times the integrated autocorrelation time for 6 parameter(s). Use this estimate with caution and run a longer chain!\n",
      "N/50 = 400;\n",
      "tau: [ 892.63588588  545.17982588  844.17069625 1020.41017336 1026.69528783\n",
      " 1056.48125993]\n"
     ]
    },
    {
     "name": "stderr",
     "output_type": "stream",
     "text": [
      "\r",
      "Fitting data, inverse Abel transforming, and measuring densities:  93%|████▋| 120/129 [47:46<03:28, 23.15s/it]"
     ]
    },
    {
     "name": "stdout",
     "output_type": "stream",
     "text": [
      "The chain is shorter than 50 times the integrated autocorrelation time for 6 parameter(s). Use this estimate with caution and run a longer chain!\n",
      "N/50 = 400;\n",
      "tau: [425.25177154 838.36060651 774.04493628 516.03444601 770.03245094\n",
      " 755.45899432]\n"
     ]
    },
    {
     "name": "stderr",
     "output_type": "stream",
     "text": [
      "\r",
      "Fitting data, inverse Abel transforming, and measuring densities:  94%|████▋| 121/129 [48:10<03:07, 23.43s/it]"
     ]
    },
    {
     "name": "stdout",
     "output_type": "stream",
     "text": [
      "The chain is shorter than 50 times the integrated autocorrelation time for 6 parameter(s). Use this estimate with caution and run a longer chain!\n",
      "N/50 = 400;\n",
      "tau: [1381.39769288  971.4029049  1519.99654392 1396.83374682 1464.6973006\n",
      " 1573.32207849]\n"
     ]
    },
    {
     "name": "stderr",
     "output_type": "stream",
     "text": [
      "Fitting data, inverse Abel transforming, and measuring densities:  95%|████▊| 123/129 [48:59<02:22, 23.71s/it]"
     ]
    },
    {
     "name": "stdout",
     "output_type": "stream",
     "text": [
      "The chain is shorter than 50 times the integrated autocorrelation time for 4 parameter(s). Use this estimate with caution and run a longer chain!\n",
      "N/50 = 400;\n",
      "tau: [ 339.85439079  329.48984153 1915.38687491 1733.88806278 1612.00915046\n",
      " 1743.35463724]\n"
     ]
    },
    {
     "name": "stderr",
     "output_type": "stream",
     "text": [
      "Fitting data, inverse Abel transforming, and measuring densities:  96%|████▊| 124/129 [49:25<02:02, 24.51s/it]/its/home/dt237/.conda/envs/dev_xga/lib/python3.8/site-packages/astropy/units/quantity.py:477: RuntimeWarning: invalid value encountered in sqrt\n",
      "  result = super().__array_ufunc__(function, method, *arrays, **kwargs)\n",
      "/mnt/pact/dt237/code/PycharmProjects/XGA/xga/sourcetools/density.py:531: UserWarning: One or more of the quantities passed to the init of SDSSXCS-2092's density profile has a NaN or Inf value in it.\n",
      "  warn(\"One or more of the quantities passed to the init of {}'s density profile has a NaN or Inf value\"\n",
      "Fitting data, inverse Abel transforming, and measuring densities:  97%|████▊| 125/129 [49:47<01:35, 23.77s/it]"
     ]
    },
    {
     "name": "stdout",
     "output_type": "stream",
     "text": [
      "The chain is shorter than 50 times the integrated autocorrelation time for 6 parameter(s). Use this estimate with caution and run a longer chain!\n",
      "N/50 = 400;\n",
      "tau: [ 444.191473    622.86366183 1513.59424221 1428.52037576 1512.16502993\n",
      " 1444.06583137]\n"
     ]
    },
    {
     "name": "stderr",
     "output_type": "stream",
     "text": [
      "/its/home/dt237/.conda/envs/dev_xga/lib/python3.8/site-packages/astropy/units/quantity.py:477: RuntimeWarning: invalid value encountered in sqrt\n",
      "  result = super().__array_ufunc__(function, method, *arrays, **kwargs)\n",
      "/mnt/pact/dt237/code/PycharmProjects/XGA/xga/sourcetools/density.py:531: UserWarning: One or more of the quantities passed to the init of SDSSXCS-17923's density profile has a NaN or Inf value in it.\n",
      "  warn(\"One or more of the quantities passed to the init of {}'s density profile has a NaN or Inf value\"\n",
      "\r",
      "Fitting data, inverse Abel transforming, and measuring densities:  98%|████▉| 126/129 [50:07<01:07, 22.54s/it]"
     ]
    },
    {
     "name": "stdout",
     "output_type": "stream",
     "text": [
      "The chain is shorter than 50 times the integrated autocorrelation time for 4 parameter(s). Use this estimate with caution and run a longer chain!\n",
      "N/50 = 400;\n",
      "tau: [ 305.19293718  431.40783896 1074.54152961  332.539497    649.15215694\n",
      "  734.18468877]\n"
     ]
    },
    {
     "name": "stderr",
     "output_type": "stream",
     "text": [
      "\r",
      "Fitting data, inverse Abel transforming, and measuring densities:  98%|████▉| 127/129 [50:30<00:45, 22.72s/it]"
     ]
    },
    {
     "name": "stdout",
     "output_type": "stream",
     "text": [
      "The chain is shorter than 50 times the integrated autocorrelation time for 6 parameter(s). Use this estimate with caution and run a longer chain!\n",
      "N/50 = 400;\n",
      "tau: [1128.24634645  989.13243855 1614.49024977 1341.60534513 1315.21991512\n",
      " 1589.01599095]\n"
     ]
    },
    {
     "name": "stderr",
     "output_type": "stream",
     "text": [
      "\r",
      "Fitting data, inverse Abel transforming, and measuring densities:  99%|████▉| 128/129 [50:53<00:22, 22.85s/it]"
     ]
    },
    {
     "name": "stdout",
     "output_type": "stream",
     "text": [
      "The chain is shorter than 50 times the integrated autocorrelation time for 6 parameter(s). Use this estimate with caution and run a longer chain!\n",
      "N/50 = 400;\n",
      "tau: [ 512.24987222 1624.91857411 1571.22269765 1535.9204829  1650.48108914\n",
      " 1795.48384466]\n"
     ]
    },
    {
     "name": "stderr",
     "output_type": "stream",
     "text": [
      "Fitting data, inverse Abel transforming, and measuring densities: 100%|█████| 129/129 [51:16<00:00, 23.85s/it]\n",
      "Generating SDSSXCS-124 hydrostatic mass profile:   0%|                                | 0/147 [00:00<?, ?it/s]"
     ]
    },
    {
     "name": "stdout",
     "output_type": "stream",
     "text": [
      "The chain is shorter than 50 times the integrated autocorrelation time for 1 parameter(s). Use this estimate with caution and run a longer chain!\n",
      "N/50 = 400;\n",
      "tau: [102.36988404 112.02385891 631.89841773 107.18703441 113.55056232\n",
      " 202.11770766]\n"
     ]
    },
    {
     "name": "stderr",
     "output_type": "stream",
     "text": [
      "Generating SDSSXCS-2789 hydrostatic mass profile:   1%|▏                    | 1/147 [00:47<1:56:09, 47.74s/it]"
     ]
    },
    {
     "name": "stdout",
     "output_type": "stream",
     "text": [
      "The chain is shorter than 50 times the integrated autocorrelation time for 3 parameter(s). Use this estimate with caution and run a longer chain!\n",
      "N/50 = 400;\n",
      "tau: [344.99827994 617.11001855 508.85531597 358.18028987 224.2862299\n",
      " 476.01385277]\n",
      "The chain is shorter than 50 times the integrated autocorrelation time for 1 parameter(s). Use this estimate with caution and run a longer chain!\n",
      "N/50 = 400;\n",
      "tau: [ 97.1730934  102.19446381 511.04709676  98.55037357 111.51733965\n",
      " 103.79787229]\n"
     ]
    },
    {
     "name": "stderr",
     "output_type": "stream",
     "text": [
      "Generating SDSSXCS-290 hydrostatic mass profile:   1%|▎                     | 2/147 [01:39<2:01:38, 50.33s/it]/mnt/pact/dt237/code/PycharmProjects/XGA/xga/products/base.py:1012: UserWarning: Optimal parameters not found: The maximum number of function evaluations is exceeded., curve_fit has failed.\n",
      "  warn(\"{}, curve_fit has failed.\".format(str(r_err)))\n",
      "/mnt/pact/dt237/code/PycharmProjects/XGA/xga/products/base.py:812: UserWarning: Maximum likelihood estimator has produced at least one start parameter that is outside the allowed values defined by the prior, reverting to default start parameters for this model.\n",
      "  warn(\"Maximum likelihood estimator has produced at least one start parameter that is outside\"\n",
      "Generating SDSSXCS-1018 hydrostatic mass profile:   2%|▍                    | 3/147 [02:24<1:54:04, 47.53s/it]"
     ]
    },
    {
     "name": "stdout",
     "output_type": "stream",
     "text": [
      "The chain is shorter than 50 times the integrated autocorrelation time for 6 parameter(s). Use this estimate with caution and run a longer chain!\n",
      "N/50 = 400;\n",
      "tau: [1938.70445305 1747.7497966   987.00328803 1966.36760183 1388.43913605\n",
      " 1557.90614713]\n"
     ]
    },
    {
     "name": "stderr",
     "output_type": "stream",
     "text": [
      "Generating SDSSXCS-134 hydrostatic mass profile:   3%|▌                     | 4/147 [03:11<1:53:00, 47.41s/it]"
     ]
    },
    {
     "name": "stdout",
     "output_type": "stream",
     "text": [
      "The chain is shorter than 50 times the integrated autocorrelation time for 1 parameter(s). Use this estimate with caution and run a longer chain!\n",
      "N/50 = 400;\n",
      "tau: [ 100.75326542  103.50035049 1008.86778643   98.40041659  119.30015032\n",
      "  110.50970281]\n",
      "The chain is shorter than 50 times the integrated autocorrelation time for 2 parameter(s). Use this estimate with caution and run a longer chain!\n",
      "N/50 = 400;\n",
      "tau: [265.25926966 639.32730456 271.53680424 405.09703614 253.83241259\n",
      " 209.18487518]\n",
      "The chain is shorter than 50 times the integrated autocorrelation time for 6 parameter(s). Use this estimate with caution and run a longer chain!\n",
      "N/50 = 400;\n",
      "tau: [2105.46050833 2163.71910235 2059.95423696  557.384258   2109.85714066\n",
      " 1905.84607106]\n"
     ]
    },
    {
     "name": "stderr",
     "output_type": "stream",
     "text": [
      "Generating SDSSXCS-119 hydrostatic mass profile:   3%|▋                     | 5/147 [03:59<1:52:32, 47.55s/it]/mnt/pact/dt237/code/PycharmProjects/XGA/xga/sourcetools/mass.py:240: UserWarning: The density profile for SDSSXCS-119 could not be generated\n",
      "  warn(\"The density profile for {} could not be generated\".format(src.name))\n",
      "Generating SDSSXCS-209 hydrostatic mass profile:   4%|▉                     | 6/147 [03:59<1:51:44, 47.55s/it]"
     ]
    },
    {
     "name": "stdout",
     "output_type": "stream",
     "text": [
      "The chain is shorter than 50 times the integrated autocorrelation time for 2 parameter(s). Use this estimate with caution and run a longer chain!\n",
      "N/50 = 400;\n",
      "tau: [341.38411631 773.59845889 334.92342031 605.4298035  278.33821824\n",
      " 242.09788572]\n"
     ]
    },
    {
     "name": "stderr",
     "output_type": "stream",
     "text": [
      "\r",
      "Generating SDSSXCS-209 hydrostatic mass profile:   5%|█                     | 7/147 [04:46<1:22:24, 35.32s/it]"
     ]
    },
    {
     "name": "stdout",
     "output_type": "stream",
     "text": [
      "The chain is shorter than 50 times the integrated autocorrelation time for 1 parameter(s). Use this estimate with caution and run a longer chain!\n",
      "N/50 = 400;\n",
      "tau: [118.32292927 145.44715883 583.68296042 109.50379515 125.3969793\n",
      " 151.79044499]\n"
     ]
    },
    {
     "name": "stderr",
     "output_type": "stream",
     "text": [
      "\r",
      "Generating SDSSXCS-15 hydrostatic mass profile:   5%|█                      | 7/147 [04:46<1:22:24, 35.32s/it]"
     ]
    },
    {
     "name": "stdout",
     "output_type": "stream",
     "text": [
      "The chain is shorter than 50 times the integrated autocorrelation time for 4 parameter(s). Use this estimate with caution and run a longer chain!\n",
      "N/50 = 400;\n",
      "tau: [573.36189112 359.59400532 449.87307756 505.47455181 357.81956021\n",
      " 420.9577865 ]\n"
     ]
    },
    {
     "name": "stderr",
     "output_type": "stream",
     "text": [
      "Generating SDSSXCS-71 hydrostatic mass profile:   5%|█▎                     | 8/147 [05:36<1:31:13, 39.38s/it]"
     ]
    },
    {
     "name": "stdout",
     "output_type": "stream",
     "text": [
      "The chain is shorter than 50 times the integrated autocorrelation time for 6 parameter(s). Use this estimate with caution and run a longer chain!\n",
      "N/50 = 400;\n",
      "tau: [1119.16356345 1628.97969864 1389.5633324  1403.87428852  891.8933372\n",
      " 1572.51559469]\n",
      "The chain is shorter than 50 times the integrated autocorrelation time for 2 parameter(s). Use this estimate with caution and run a longer chain!\n",
      "N/50 = 400;\n",
      "tau: [ 174.20477386  357.49327496 1060.89727348  146.30679991  133.3569632\n",
      "  503.95869368]\n"
     ]
    },
    {
     "name": "stderr",
     "output_type": "stream",
     "text": [
      "Generating SDSSXCS-5020 hydrostatic mass profile:   6%|█▎                   | 9/147 [06:25<1:36:47, 42.08s/it]"
     ]
    },
    {
     "name": "stdout",
     "output_type": "stream",
     "text": [
      "The chain is shorter than 50 times the integrated autocorrelation time for 2 parameter(s). Use this estimate with caution and run a longer chain!\n",
      "N/50 = 400;\n",
      "tau: [276.99407977 269.79807217 198.76555294 518.83651227 221.05309825\n",
      " 641.9071601 ]\n"
     ]
    },
    {
     "name": "stderr",
     "output_type": "stream",
     "text": [
      "Generating SDSSXCS-11331 hydrostatic mass profile:   8%|█▌                 | 12/147 [07:57<1:16:21, 33.94s/it]"
     ]
    },
    {
     "name": "stdout",
     "output_type": "stream",
     "text": [
      "The chain is shorter than 50 times the integrated autocorrelation time for 6 parameter(s). Use this estimate with caution and run a longer chain!\n",
      "N/50 = 400;\n",
      "tau: [ 939.89039627 1199.36144054 1130.80700489 1219.12452045  738.71736975\n",
      " 1287.77875819]\n",
      "The chain is shorter than 50 times the integrated autocorrelation time for 3 parameter(s). Use this estimate with caution and run a longer chain!\n",
      "N/50 = 400;\n",
      "tau: [431.8788517  473.57270401 365.97280911 538.49038707 351.42113379\n",
      " 383.77979682]\n"
     ]
    },
    {
     "name": "stderr",
     "output_type": "stream",
     "text": [
      "Generating SDSSXCS-31144 hydrostatic mass profile:  10%|█▊                 | 14/147 [08:40<1:20:12, 36.18s/it]/mnt/pact/dt237/code/PycharmProjects/XGA/xga/sourcetools/mass.py:240: UserWarning: The density profile for SDSSXCS-31144 could not be generated\n",
      "  warn(\"The density profile for {} could not be generated\".format(src.name))\n",
      "Generating SDSSXCS-239 hydrostatic mass profile:  10%|██▏                  | 15/147 [08:40<1:19:36, 36.18s/it]"
     ]
    },
    {
     "name": "stdout",
     "output_type": "stream",
     "text": [
      "The chain is shorter than 50 times the integrated autocorrelation time for 6 parameter(s). Use this estimate with caution and run a longer chain!\n",
      "N/50 = 400;\n",
      "tau: [2229.78251071 1059.99557787 1608.64072573 1749.11938654 2250.88456123\n",
      " 2065.87028973]\n",
      "The chain is shorter than 50 times the integrated autocorrelation time for 5 parameter(s). Use this estimate with caution and run a longer chain!\n",
      "N/50 = 400;\n",
      "tau: [ 470.70400354 1101.87166811 1359.6847696   480.09561828  312.71393707\n",
      "  568.26718149]\n"
     ]
    },
    {
     "name": "stderr",
     "output_type": "stream",
     "text": [
      "Generating SDSSXCS-395 hydrostatic mass profile:  11%|██▌                    | 16/147 [09:28<56:23, 25.83s/it]"
     ]
    },
    {
     "name": "stdout",
     "output_type": "stream",
     "text": [
      "The chain is shorter than 50 times the integrated autocorrelation time for 1 parameter(s). Use this estimate with caution and run a longer chain!\n",
      "N/50 = 400;\n",
      "tau: [242.26994511 344.47482776 405.51369269 386.27398985 268.12943216\n",
      " 223.63055296]\n",
      "The chain is shorter than 50 times the integrated autocorrelation time for 5 parameter(s). Use this estimate with caution and run a longer chain!\n",
      "N/50 = 400;\n",
      "tau: [ 465.29153184 1390.58081723 1450.11606864  270.7040373   413.99856807\n",
      " 1483.38631642]\n"
     ]
    },
    {
     "name": "stderr",
     "output_type": "stream",
     "text": [
      "Generating SDSSXCS-944 hydrostatic mass profile:  12%|██▍                  | 17/147 [10:17<1:05:55, 30.42s/it]"
     ]
    },
    {
     "name": "stdout",
     "output_type": "stream",
     "text": [
      "The chain is shorter than 50 times the integrated autocorrelation time for 2 parameter(s). Use this estimate with caution and run a longer chain!\n",
      "N/50 = 400;\n",
      "tau: [295.90282395 218.13627165 210.72523786 570.39446893 208.71345508\n",
      " 682.66056021]\n"
     ]
    },
    {
     "name": "stderr",
     "output_type": "stream",
     "text": [
      "Generating SDSSXCS-593 hydrostatic mass profile:  12%|██▌                  | 18/147 [11:05<1:13:48, 34.33s/it]"
     ]
    },
    {
     "name": "stdout",
     "output_type": "stream",
     "text": [
      "The chain is shorter than 50 times the integrated autocorrelation time for 5 parameter(s). Use this estimate with caution and run a longer chain!\n",
      "N/50 = 400;\n",
      "tau: [479.9025307  418.17282728 455.54848291 683.80472226 318.97447344\n",
      " 450.47742715]\n",
      "The chain is shorter than 50 times the integrated autocorrelation time for 4 parameter(s). Use this estimate with caution and run a longer chain!\n",
      "N/50 = 400;\n",
      "tau: [394.36779571 791.24570669 402.49980881 610.39730754 328.6089296\n",
      " 409.79283834]\n"
     ]
    },
    {
     "name": "stderr",
     "output_type": "stream",
     "text": [
      "Generating SDSSXCS-35404 hydrostatic mass profile:  13%|██▍                | 19/147 [11:50<1:18:15, 36.69s/it]"
     ]
    },
    {
     "name": "stdout",
     "output_type": "stream",
     "text": [
      "The chain is shorter than 50 times the integrated autocorrelation time for 2 parameter(s). Use this estimate with caution and run a longer chain!\n",
      "N/50 = 400;\n",
      "tau: [487.0981355  343.37380607 281.34384878 531.61332228 245.1290157\n",
      " 266.7739177 ]\n"
     ]
    },
    {
     "name": "stderr",
     "output_type": "stream",
     "text": [
      "Generating SDSSXCS-7190 hydrostatic mass profile:  14%|██▋                 | 20/147 [12:32<1:20:50, 38.19s/it]/mnt/pact/dt237/code/PycharmProjects/XGA/xga/sourcetools/mass.py:240: UserWarning: The density profile for SDSSXCS-7190 could not be generated\n",
      "  warn(\"The density profile for {} could not be generated\".format(src.name))\n",
      "Generating SDSSXCS-7783 hydrostatic mass profile:  14%|██▊                 | 21/147 [12:32<1:20:12, 38.19s/it]"
     ]
    },
    {
     "name": "stdout",
     "output_type": "stream",
     "text": [
      "The chain is shorter than 50 times the integrated autocorrelation time for 6 parameter(s). Use this estimate with caution and run a longer chain!\n",
      "N/50 = 400;\n",
      "tau: [822.39751781 932.37160766 840.60893082 653.09349962 442.81479813\n",
      " 954.46136739]\n"
     ]
    },
    {
     "name": "stderr",
     "output_type": "stream",
     "text": [
      "Generating SDSSXCS-5743 hydrostatic mass profile:  15%|██▉                 | 22/147 [13:23<1:08:29, 32.88s/it]/mnt/pact/dt237/code/PycharmProjects/XGA/xga/sourcetools/mass.py:240: UserWarning: The density profile for SDSSXCS-5743 could not be generated\n",
      "  warn(\"The density profile for {} could not be generated\".format(src.name))\n",
      "Generating SDSSXCS-29799 hydrostatic mass profile:  16%|███▍                 | 24/147 [14:09<59:33, 29.05s/it]/mnt/pact/dt237/code/PycharmProjects/XGA/xga/sourcetools/mass.py:240: UserWarning: The density profile for SDSSXCS-29799 could not be generated\n",
      "  warn(\"The density profile for {} could not be generated\".format(src.name))\n",
      "Generating SDSSXCS-852 hydrostatic mass profile:  17%|███▉                   | 25/147 [14:09<59:04, 29.05s/it]"
     ]
    },
    {
     "name": "stdout",
     "output_type": "stream",
     "text": [
      "The chain is shorter than 50 times the integrated autocorrelation time for 6 parameter(s). Use this estimate with caution and run a longer chain!\n",
      "N/50 = 400;\n",
      "tau: [1023.8898177  1139.8492529  1572.17364401  911.76628374  566.56209946\n",
      " 1422.67933696]\n",
      "The chain is shorter than 50 times the integrated autocorrelation time for 2 parameter(s). Use this estimate with caution and run a longer chain!\n",
      "N/50 = 400;\n",
      "tau: [ 269.18202056 1103.73880916  431.09771745  315.77693742  217.93546115\n",
      "  243.79001171]\n"
     ]
    },
    {
     "name": "stderr",
     "output_type": "stream",
     "text": [
      "Generating SDSSXCS-16227 hydrostatic mass profile:  19%|███▌               | 28/147 [15:45<1:02:08, 31.33s/it]/mnt/pact/dt237/code/PycharmProjects/XGA/xga/sourcetools/mass.py:240: UserWarning: The density profile for SDSSXCS-16227 could not be generated\n",
      "  warn(\"The density profile for {} could not be generated\".format(src.name))\n",
      "Generating SDSSXCS-2984 hydrostatic mass profile:  20%|███▉                | 29/147 [15:45<1:01:37, 31.33s/it]/mnt/pact/dt237/code/PycharmProjects/XGA/xga/sourcetools/mass.py:240: UserWarning: The density profile for SDSSXCS-2984 could not be generated\n",
      "  warn(\"The density profile for {} could not be generated\".format(src.name))\n",
      "Generating SDSSXCS-6955 hydrostatic mass profile:  20%|████                | 30/147 [15:45<1:01:05, 31.33s/it]/mnt/pact/dt237/code/PycharmProjects/XGA/xga/sourcetools/mass.py:240: UserWarning: The density profile for SDSSXCS-6955 could not be generated\n",
      "  warn(\"The density profile for {} could not be generated\".format(src.name))\n",
      "Generating SDSSXCS-64824 hydrostatic mass profile:  21%|████               | 31/147 [15:45<1:00:34, 31.33s/it]"
     ]
    },
    {
     "name": "stdout",
     "output_type": "stream",
     "text": [
      "The chain is shorter than 50 times the integrated autocorrelation time for 6 parameter(s). Use this estimate with caution and run a longer chain!\n",
      "N/50 = 400;\n",
      "tau: [1645.4541927  2305.41469007 1775.73159402 1787.77899584 1348.36043664\n",
      " 2156.22208917]\n",
      "The chain is shorter than 50 times the integrated autocorrelation time for 1 parameter(s). Use this estimate with caution and run a longer chain!\n",
      "N/50 = 400;\n",
      "tau: [223.18806017 356.32651744 514.69348259 269.17826259 245.68362339\n",
      " 233.63119393]\n"
     ]
    },
    {
     "name": "stderr",
     "output_type": "stream",
     "text": [
      "\r",
      "Generating SDSSXCS-64824 hydrostatic mass profile:  22%|████▌                | 32/147 [16:29<34:42, 18.11s/it]"
     ]
    },
    {
     "name": "stdout",
     "output_type": "stream",
     "text": [
      "The chain is shorter than 50 times the integrated autocorrelation time for 6 parameter(s). Use this estimate with caution and run a longer chain!\n",
      "N/50 = 400;\n",
      "tau: [ 577.05034106 1834.98082725  878.94511315  581.87796139  518.55496929\n",
      " 1903.78049057]\n"
     ]
    },
    {
     "name": "stderr",
     "output_type": "stream",
     "text": [
      "Generating SDSSXCS-120 hydrostatic mass profile:  22%|█████▏                 | 33/147 [16:29<34:24, 18.11s/it]"
     ]
    },
    {
     "name": "stdout",
     "output_type": "stream",
     "text": [
      "The chain is shorter than 50 times the integrated autocorrelation time for 4 parameter(s). Use this estimate with caution and run a longer chain!\n",
      "N/50 = 400;\n",
      "tau: [ 488.93330055 1071.94941801  887.34007826  385.23234391  381.47831116\n",
      "  452.288317  ]\n"
     ]
    },
    {
     "name": "stderr",
     "output_type": "stream",
     "text": [
      "Generating SDSSXCS-572 hydrostatic mass profile:  23%|█████▎                 | 34/147 [17:18<37:02, 19.67s/it]"
     ]
    },
    {
     "name": "stdout",
     "output_type": "stream",
     "text": [
      "The chain is shorter than 50 times the integrated autocorrelation time for 3 parameter(s). Use this estimate with caution and run a longer chain!\n",
      "N/50 = 400;\n",
      "tau: [488.39944981 566.10546894 294.61706353 485.53646119 290.98887713\n",
      " 362.80798508]\n",
      "The chain is shorter than 50 times the integrated autocorrelation time for 1 parameter(s). Use this estimate with caution and run a longer chain!\n",
      "N/50 = 400;\n",
      "tau: [ 97.70056033  99.2136539  401.45137092 104.23047322 127.59811283\n",
      "  97.63948158]\n"
     ]
    },
    {
     "name": "stderr",
     "output_type": "stream",
     "text": [
      "Generating SDSSXCS-226 hydrostatic mass profile:  24%|█████▍                 | 35/147 [18:07<45:03, 24.14s/it]"
     ]
    },
    {
     "name": "stdout",
     "output_type": "stream",
     "text": [
      "The chain is shorter than 50 times the integrated autocorrelation time for 1 parameter(s). Use this estimate with caution and run a longer chain!\n",
      "N/50 = 400;\n",
      "tau: [285.11994098 683.44030716 283.42123429 387.14781045 294.27495968\n",
      " 279.07610996]\n",
      "The chain is shorter than 50 times the integrated autocorrelation time for 1 parameter(s). Use this estimate with caution and run a longer chain!\n",
      "N/50 = 400;\n",
      "tau: [ 104.82978336  107.0555218  1409.60423841  104.85969403  120.51313763\n",
      "  135.16544649]\n"
     ]
    },
    {
     "name": "stderr",
     "output_type": "stream",
     "text": [
      "Generating SDSSXCS-22 hydrostatic mass profile:  24%|█████▉                  | 36/147 [18:55<52:33, 28.41s/it]"
     ]
    },
    {
     "name": "stdout",
     "output_type": "stream",
     "text": [
      "The chain is shorter than 50 times the integrated autocorrelation time for 1 parameter(s). Use this estimate with caution and run a longer chain!\n",
      "N/50 = 400;\n",
      "tau: [268.84031979 325.38165748 428.59731797 248.9992794  183.03908\n",
      " 211.99566454]\n"
     ]
    },
    {
     "name": "stderr",
     "output_type": "stream",
     "text": [
      "Generating SDSSXCS-103 hydrostatic mass profile:  25%|█████▎               | 37/147 [19:45<1:00:16, 32.88s/it]/mnt/pact/dt237/code/PycharmProjects/XGA/xga/sourcetools/mass.py:240: UserWarning: The density profile for SDSSXCS-103 could not be generated\n",
      "  warn(\"The density profile for {} could not be generated\".format(src.name))\n",
      "Generating SDSSXCS-19922 hydrostatic mass profile:  27%|█████▌               | 39/147 [20:33<53:17, 29.61s/it]/mnt/pact/dt237/code/PycharmProjects/XGA/xga/sourcetools/mass.py:240: UserWarning: The density profile for SDSSXCS-19922 could not be generated\n",
      "  warn(\"The density profile for {} could not be generated\".format(src.name))\n",
      "Generating SDSSXCS-890 hydrostatic mass profile:  27%|██████▎                | 40/147 [20:33<52:47, 29.61s/it]"
     ]
    },
    {
     "name": "stdout",
     "output_type": "stream",
     "text": [
      "The chain is shorter than 50 times the integrated autocorrelation time for 3 parameter(s). Use this estimate with caution and run a longer chain!\n",
      "N/50 = 400;\n",
      "tau: [ 355.12890405  368.31325177  454.38150355  761.86943226  268.56813081\n",
      " 1539.13190301]\n"
     ]
    },
    {
     "name": "stderr",
     "output_type": "stream",
     "text": [
      "Generating SDSSXCS-31 hydrostatic mass profile:  28%|██████▋                 | 41/147 [21:20<48:24, 27.40s/it]"
     ]
    },
    {
     "name": "stdout",
     "output_type": "stream",
     "text": [
      "The chain is shorter than 50 times the integrated autocorrelation time for 1 parameter(s). Use this estimate with caution and run a longer chain!\n",
      "N/50 = 400;\n",
      "tau: [103.48298972 106.66524946 872.37418193 101.78164788 109.4588383\n",
      " 111.96613457]\n",
      "The chain is shorter than 50 times the integrated autocorrelation time for 3 parameter(s). Use this estimate with caution and run a longer chain!\n",
      "N/50 = 400;\n",
      "tau: [447.13359405 681.71475992 248.50832794 509.79410873 306.1783687\n",
      " 250.90010386]\n",
      "The chain is shorter than 50 times the integrated autocorrelation time for 1 parameter(s). Use this estimate with caution and run a longer chain!\n",
      "N/50 = 400;\n",
      "tau: [ 92.76063247  92.65655003 696.85681287  91.77619926  89.57822994\n",
      "  93.71234601]\n"
     ]
    },
    {
     "name": "stderr",
     "output_type": "stream",
     "text": [
      "Generating SDSSXCS-5159 hydrostatic mass profile:  30%|██████▌               | 44/147 [22:54<59:21, 34.57s/it]"
     ]
    },
    {
     "name": "stdout",
     "output_type": "stream",
     "text": [
      "The chain is shorter than 50 times the integrated autocorrelation time for 4 parameter(s). Use this estimate with caution and run a longer chain!\n",
      "N/50 = 400;\n",
      "tau: [ 420.19934952  501.88542814 1939.89893424  359.34734947  185.56555203\n",
      " 1191.12852633]\n",
      "The chain is shorter than 50 times the integrated autocorrelation time for 2 parameter(s). Use this estimate with caution and run a longer chain!\n",
      "N/50 = 400;\n",
      "tau: [187.4905922  176.4733044  130.01966204 645.66662481 194.50986934\n",
      " 762.86550583]\n",
      "The chain is shorter than 50 times the integrated autocorrelation time for 6 parameter(s). Use this estimate with caution and run a longer chain!\n",
      "N/50 = 400;\n",
      "tau: [1542.04722012 1685.93216496 1777.93943248 2014.62771382 1035.38166082\n",
      " 1969.69454498]\n"
     ]
    },
    {
     "name": "stderr",
     "output_type": "stream",
     "text": [
      "Generating SDSSXCS-5 hydrostatic mass profile:  31%|███████▊                 | 46/147 [24:30<57:54, 34.40s/it]"
     ]
    },
    {
     "name": "stdout",
     "output_type": "stream",
     "text": [
      "The chain is shorter than 50 times the integrated autocorrelation time for 1 parameter(s). Use this estimate with caution and run a longer chain!\n",
      "N/50 = 400;\n",
      "tau: [  93.08367106   93.77305514 1263.38836697  130.7912003   137.46998302\n",
      "  104.44288023]\n",
      "The chain is shorter than 50 times the integrated autocorrelation time for 6 parameter(s). Use this estimate with caution and run a longer chain!\n",
      "N/50 = 400;\n",
      "tau: [ 453.98039669 1130.52550035 1403.55160151  574.38754848  438.27373293\n",
      "  560.99409897]\n",
      "The chain is shorter than 50 times the integrated autocorrelation time for 4 parameter(s). Use this estimate with caution and run a longer chain!\n",
      "N/50 = 400;\n",
      "tau: [ 406.77937919 1008.97068171 1579.01204378  350.95802143  319.02656422\n",
      " 1421.85696998]\n"
     ]
    },
    {
     "name": "stderr",
     "output_type": "stream",
     "text": [
      "Generating SDSSXCS-13 hydrostatic mass profile:  32%|███████               | 47/147 [25:18<1:02:33, 37.53s/it]"
     ]
    },
    {
     "name": "stdout",
     "output_type": "stream",
     "text": [
      "The chain is shorter than 50 times the integrated autocorrelation time for 4 parameter(s). Use this estimate with caution and run a longer chain!\n",
      "N/50 = 400;\n",
      "tau: [427.70728925 774.69784855 413.39131639 534.65466007 302.37077635\n",
      " 333.97282691]\n",
      "The chain is shorter than 50 times the integrated autocorrelation time for 1 parameter(s). Use this estimate with caution and run a longer chain!\n",
      "N/50 = 400;\n",
      "tau: [ 100.3898874    97.53084615 1017.42572919  102.31120423  131.83997865\n",
      "   94.76723681]\n"
     ]
    },
    {
     "name": "stderr",
     "output_type": "stream",
     "text": [
      "Generating SDSSXCS-5225 hydrostatic mass profile:  33%|██████▌             | 48/147 [26:06<1:06:08, 40.09s/it]"
     ]
    },
    {
     "name": "stdout",
     "output_type": "stream",
     "text": [
      "The chain is shorter than 50 times the integrated autocorrelation time for 6 parameter(s). Use this estimate with caution and run a longer chain!\n",
      "N/50 = 400;\n",
      "tau: [ 567.22372409 1097.9101051  1549.05901602  543.5765186   432.78451983\n",
      "  675.67568047]\n"
     ]
    },
    {
     "name": "stderr",
     "output_type": "stream",
     "text": [
      "Generating SDSSXCS-21 hydrostatic mass profile:  33%|███████▎              | 49/147 [26:50<1:07:10, 41.12s/it]"
     ]
    },
    {
     "name": "stdout",
     "output_type": "stream",
     "text": [
      "The chain is shorter than 50 times the integrated autocorrelation time for 1 parameter(s). Use this estimate with caution and run a longer chain!\n",
      "N/50 = 400;\n",
      "tau: [165.87818927 200.09127648 382.77512088 581.84038877 305.38366937\n",
      " 168.06387781]\n",
      "The chain is shorter than 50 times the integrated autocorrelation time for 1 parameter(s). Use this estimate with caution and run a longer chain!\n",
      "N/50 = 400;\n",
      "tau: [315.25583052 408.49661017 321.41315912 399.1194109  308.0923129\n",
      " 271.73838802]\n",
      "The chain is shorter than 50 times the integrated autocorrelation time for 6 parameter(s). Use this estimate with caution and run a longer chain!\n",
      "N/50 = 400;\n",
      "tau: [1137.69025794 1142.75512026  542.30234965  797.25205475 1014.11003819\n",
      "  606.40753694]\n"
     ]
    },
    {
     "name": "stderr",
     "output_type": "stream",
     "text": [
      "Generating SDSSXCS-22748 hydrostatic mass profile:  37%|██████▉            | 54/147 [28:19<1:06:11, 42.70s/it]/mnt/pact/dt237/code/PycharmProjects/XGA/xga/sourcetools/mass.py:240: UserWarning: The density profile for SDSSXCS-22748 could not be generated\n",
      "  warn(\"The density profile for {} could not be generated\".format(src.name))\n",
      "Generating SDSSXCS-9 hydrostatic mass profile:  37%|████████▌              | 55/147 [28:19<1:05:28, 42.70s/it]"
     ]
    },
    {
     "name": "stdout",
     "output_type": "stream",
     "text": [
      "The chain is shorter than 50 times the integrated autocorrelation time for 4 parameter(s). Use this estimate with caution and run a longer chain!\n",
      "N/50 = 400;\n",
      "tau: [ 417.19110342  430.59987544 2070.1080185   382.07802655  218.73479761\n",
      "  948.32265974]\n"
     ]
    },
    {
     "name": "stderr",
     "output_type": "stream",
     "text": [
      "Generating SDSSXCS-8060 hydrostatic mass profile:  38%|████████▍             | 56/147 [29:05<30:54, 20.38s/it]"
     ]
    },
    {
     "name": "stdout",
     "output_type": "stream",
     "text": [
      "The chain is shorter than 50 times the integrated autocorrelation time for 5 parameter(s). Use this estimate with caution and run a longer chain!\n",
      "N/50 = 400;\n",
      "tau: [ 668.93391345  910.11106466 1788.49157559  465.09384188  223.690466\n",
      " 1012.86696517]\n",
      "The chain is shorter than 50 times the integrated autocorrelation time for 4 parameter(s). Use this estimate with caution and run a longer chain!\n",
      "N/50 = 400;\n",
      "tau: [977.16219274 952.68495973 230.4702738  764.22983499 360.3718991\n",
      " 791.75183341]\n"
     ]
    },
    {
     "name": "stderr",
     "output_type": "stream",
     "text": [
      "Generating SDSSXCS-15984 hydrostatic mass profile:  39%|████████▏            | 57/147 [29:55<37:32, 25.03s/it]"
     ]
    },
    {
     "name": "stdout",
     "output_type": "stream",
     "text": [
      "The chain is shorter than 50 times the integrated autocorrelation time for 2 parameter(s). Use this estimate with caution and run a longer chain!\n",
      "N/50 = 400;\n",
      "tau: [258.64162295 425.24839643 632.18626043 321.40678003 278.31748965\n",
      " 262.90821121]\n"
     ]
    },
    {
     "name": "stderr",
     "output_type": "stream",
     "text": [
      "Generating SDSSXCS-75 hydrostatic mass profile:  39%|█████████▍              | 58/147 [30:43<43:30, 29.33s/it]/mnt/pact/dt237/code/PycharmProjects/XGA/xga/sourcetools/mass.py:240: UserWarning: The density profile for SDSSXCS-75 could not be generated\n",
      "  warn(\"The density profile for {} could not be generated\".format(src.name))\n",
      "Generating SDSSXCS-667 hydrostatic mass profile:  40%|█████████▏             | 59/147 [30:43<43:00, 29.33s/it]"
     ]
    },
    {
     "name": "stdout",
     "output_type": "stream",
     "text": [
      "The chain is shorter than 50 times the integrated autocorrelation time for 5 parameter(s). Use this estimate with caution and run a longer chain!\n",
      "N/50 = 400;\n",
      "tau: [730.69768071 850.6352055  273.2273766  769.88217123 433.1678994\n",
      " 657.35630544]\n",
      "The chain is shorter than 50 times the integrated autocorrelation time for 1 parameter(s). Use this estimate with caution and run a longer chain!\n",
      "N/50 = 400;\n",
      "tau: [  87.37344618   95.47161288 1047.96591459   97.06454305  119.21799264\n",
      "   70.23271601]\n"
     ]
    },
    {
     "name": "stderr",
     "output_type": "stream",
     "text": [
      "Generating SDSSXCS-1628 hydrostatic mass profile:  41%|█████████▏            | 61/147 [32:16<44:29, 31.04s/it]"
     ]
    },
    {
     "name": "stdout",
     "output_type": "stream",
     "text": [
      "The chain is shorter than 50 times the integrated autocorrelation time for 2 parameter(s). Use this estimate with caution and run a longer chain!\n",
      "N/50 = 400;\n",
      "tau: [436.9895193  283.58677319 262.7983193  484.33150205 205.1036729\n",
      " 256.59726745]\n",
      "The chain is shorter than 50 times the integrated autocorrelation time for 4 parameter(s). Use this estimate with caution and run a longer chain!\n",
      "N/50 = 400;\n",
      "tau: [1004.65006608 1064.83359519  180.76785745  970.82420339  321.59186588\n",
      "  981.26352853]\n",
      "The chain is shorter than 50 times the integrated autocorrelation time for 1 parameter(s). Use this estimate with caution and run a longer chain!\n",
      "N/50 = 400;\n",
      "tau: [ 95.31674159 105.49481628 709.716427   102.47184004 117.81744136\n",
      " 102.56526179]\n"
     ]
    },
    {
     "name": "stderr",
     "output_type": "stream",
     "text": [
      "Generating SDSSXCS-7405 hydrostatic mass profile:  42%|█████████▎            | 62/147 [33:06<49:59, 35.28s/it]"
     ]
    },
    {
     "name": "stdout",
     "output_type": "stream",
     "text": [
      "The chain is shorter than 50 times the integrated autocorrelation time for 3 parameter(s). Use this estimate with caution and run a longer chain!\n",
      "N/50 = 400;\n",
      "tau: [530.84760095 376.65567559 325.28861999 842.56026272 286.37965417\n",
      " 725.74548366]\n"
     ]
    },
    {
     "name": "stderr",
     "output_type": "stream",
     "text": [
      "Generating SDSSXCS-47 hydrostatic mass profile:  43%|██████████▎             | 63/147 [33:52<52:45, 37.68s/it]/mnt/pact/dt237/code/PycharmProjects/XGA/xga/sourcetools/mass.py:240: UserWarning: The density profile for SDSSXCS-47 could not be generated\n",
      "  warn(\"The density profile for {} could not be generated\".format(src.name))\n",
      "Generating SDSSXCS-7416 hydrostatic mass profile:  44%|█████████▌            | 64/147 [33:52<52:07, 37.68s/it]"
     ]
    },
    {
     "name": "stdout",
     "output_type": "stream",
     "text": [
      "The chain is shorter than 50 times the integrated autocorrelation time for 5 parameter(s). Use this estimate with caution and run a longer chain!\n",
      "N/50 = 400;\n",
      "tau: [ 953.73134977  733.79567265  351.1541452   689.27636052 1202.04179937\n",
      "  435.50845066]\n"
     ]
    },
    {
     "name": "stderr",
     "output_type": "stream",
     "text": [
      "Generating SDSSXCS-2588 hydrostatic mass profile:  44%|█████████▋            | 65/147 [34:34<42:18, 30.95s/it]/mnt/pact/dt237/code/PycharmProjects/XGA/xga/sourcetools/mass.py:240: UserWarning: The density profile for SDSSXCS-2588 could not be generated\n",
      "  warn(\"The density profile for {} could not be generated\".format(src.name))\n",
      "Generating SDSSXCS-298 hydrostatic mass profile:  45%|██████████▎            | 66/147 [34:34<41:47, 30.95s/it]/mnt/pact/dt237/code/PycharmProjects/XGA/xga/sourcetools/mass.py:240: UserWarning: The density profile for SDSSXCS-298 could not be generated\n",
      "  warn(\"The density profile for {} could not be generated\".format(src.name))\n",
      "Generating SDSSXCS-189 hydrostatic mass profile:  47%|██████████▊            | 69/147 [34:34<40:14, 30.95s/it]"
     ]
    },
    {
     "name": "stdout",
     "output_type": "stream",
     "text": [
      "The chain is shorter than 50 times the integrated autocorrelation time for 6 parameter(s). Use this estimate with caution and run a longer chain!\n",
      "N/50 = 400;\n",
      "tau: [533.84736208 534.18217352 657.50822229 835.03966172 522.59421709\n",
      " 675.26939919]\n"
     ]
    },
    {
     "name": "stderr",
     "output_type": "stream",
     "text": [
      "Generating SDSSXCS-4245 hydrostatic mass profile:  48%|██████████▍           | 70/147 [35:19<23:04, 17.98s/it]"
     ]
    },
    {
     "name": "stdout",
     "output_type": "stream",
     "text": [
      "The chain is shorter than 50 times the integrated autocorrelation time for 6 parameter(s). Use this estimate with caution and run a longer chain!\n",
      "N/50 = 400;\n",
      "tau: [696.58406493 640.09531717 580.18492204 855.28429449 469.45699346\n",
      " 602.9081915 ]\n"
     ]
    },
    {
     "name": "stderr",
     "output_type": "stream",
     "text": [
      "Generating SDSSXCS-10401 hydrostatic mass profile:  48%|██████████▏          | 71/147 [36:05<27:54, 22.04s/it]"
     ]
    },
    {
     "name": "stdout",
     "output_type": "stream",
     "text": [
      "The chain is shorter than 50 times the integrated autocorrelation time for 3 parameter(s). Use this estimate with caution and run a longer chain!\n",
      "N/50 = 400;\n",
      "tau: [630.58550462 504.94265642 199.06063759 604.7657519  234.98051441\n",
      " 186.0504964 ]\n",
      "The chain is shorter than 50 times the integrated autocorrelation time for 5 parameter(s). Use this estimate with caution and run a longer chain!\n",
      "N/50 = 400;\n",
      "tau: [505.75114294 414.97442673 403.55224826 566.34621183 371.0891735\n",
      " 412.5589347 ]\n"
     ]
    },
    {
     "name": "stderr",
     "output_type": "stream",
     "text": [
      "Generating SDSSXCS-474 hydrostatic mass profile:  50%|███████████▍           | 73/147 [36:52<32:27, 26.31s/it]/mnt/pact/dt237/code/PycharmProjects/XGA/xga/sourcetools/mass.py:240: UserWarning: The density profile for SDSSXCS-474 could not be generated\n",
      "  warn(\"The density profile for {} could not be generated\".format(src.name))\n",
      "Generating SDSSXCS-19467 hydrostatic mass profile:  51%|██████████▋          | 75/147 [36:52<31:34, 26.31s/it]"
     ]
    },
    {
     "name": "stdout",
     "output_type": "stream",
     "text": [
      "The chain is shorter than 50 times the integrated autocorrelation time for 1 parameter(s). Use this estimate with caution and run a longer chain!\n",
      "N/50 = 400;\n",
      "tau: [320.68482588 434.09243805 179.56255503 202.14731009 301.48207341\n",
      " 171.41926393]\n"
     ]
    },
    {
     "name": "stderr",
     "output_type": "stream",
     "text": [
      "Generating SDSSXCS-455 hydrostatic mass profile:  52%|███████████▉           | 76/147 [37:38<22:29, 19.00s/it]"
     ]
    },
    {
     "name": "stdout",
     "output_type": "stream",
     "text": [
      "The chain is shorter than 50 times the integrated autocorrelation time for 1 parameter(s). Use this estimate with caution and run a longer chain!\n",
      "N/50 = 400;\n",
      "tau: [ 119.23718486  134.17747936 1129.71348688  104.97647169  111.0327726\n",
      "  173.88880706]\n"
     ]
    },
    {
     "name": "stderr",
     "output_type": "stream",
     "text": [
      "Generating SDSSXCS-1174 hydrostatic mass profile:  52%|███████████▌          | 77/147 [38:25<27:04, 23.20s/it]/mnt/pact/dt237/code/PycharmProjects/XGA/xga/sourcetools/mass.py:240: UserWarning: The density profile for SDSSXCS-1174 could not be generated\n",
      "  warn(\"The density profile for {} could not be generated\".format(src.name))\n",
      "Generating SDSSXCS-1645 hydrostatic mass profile:  54%|███████████▊          | 79/147 [38:25<26:17, 23.20s/it]"
     ]
    },
    {
     "name": "stdout",
     "output_type": "stream",
     "text": [
      "The chain is shorter than 50 times the integrated autocorrelation time for 5 parameter(s). Use this estimate with caution and run a longer chain!\n",
      "N/50 = 400;\n",
      "tau: [ 962.78529246 1184.30557996 1154.29943729  691.35642591  328.66917996\n",
      " 1223.77600673]\n",
      "The chain is shorter than 50 times the integrated autocorrelation time for 3 parameter(s). Use this estimate with caution and run a longer chain!\n",
      "N/50 = 400;\n",
      "tau: [428.64695067 380.78184026 498.60800722 408.16028579 310.75294785\n",
      " 314.47784174]\n"
     ]
    },
    {
     "name": "stderr",
     "output_type": "stream",
     "text": [
      "Generating SDSSXCS-225 hydrostatic mass profile:  54%|████████████▌          | 80/147 [39:12<22:35, 20.23s/it]"
     ]
    },
    {
     "name": "stdout",
     "output_type": "stream",
     "text": [
      "The chain is shorter than 50 times the integrated autocorrelation time for 1 parameter(s). Use this estimate with caution and run a longer chain!\n",
      "N/50 = 400;\n",
      "tau: [ 102.38046545  109.07778153 1096.26869846  103.50769785  131.82601632\n",
      "  159.06244061]\n",
      "The chain is shorter than 50 times the integrated autocorrelation time for 3 parameter(s). Use this estimate with caution and run a longer chain!\n",
      "N/50 = 400;\n",
      "tau: [390.21654271 426.86910371 795.65881429 374.50119587 166.77737877\n",
      " 512.33439547]\n"
     ]
    },
    {
     "name": "stderr",
     "output_type": "stream",
     "text": [
      "Generating SDSSXCS-9313 hydrostatic mass profile:  55%|████████████          | 81/147 [39:59<26:56, 24.50s/it]"
     ]
    },
    {
     "name": "stdout",
     "output_type": "stream",
     "text": [
      "The chain is shorter than 50 times the integrated autocorrelation time for 1 parameter(s). Use this estimate with caution and run a longer chain!\n",
      "N/50 = 400;\n",
      "tau: [385.52503913 856.98029645 287.57959923 389.1358341  296.59804415\n",
      " 356.6641318 ]\n"
     ]
    },
    {
     "name": "stderr",
     "output_type": "stream",
     "text": [
      "Generating SDSSXCS-286 hydrostatic mass profile:  56%|████████████▊          | 82/147 [40:46<30:50, 28.46s/it]"
     ]
    },
    {
     "name": "stdout",
     "output_type": "stream",
     "text": [
      "The chain is shorter than 50 times the integrated autocorrelation time for 3 parameter(s). Use this estimate with caution and run a longer chain!\n",
      "N/50 = 400;\n",
      "tau: [538.04496521 523.01552579 232.99367077 570.93596143 363.17208301\n",
      " 318.76585383]\n"
     ]
    },
    {
     "name": "stderr",
     "output_type": "stream",
     "text": [
      "Generating SDSSXCS-2347 hydrostatic mass profile:  56%|████████████▍         | 83/147 [41:32<34:18, 32.16s/it]"
     ]
    },
    {
     "name": "stdout",
     "output_type": "stream",
     "text": [
      "The chain is shorter than 50 times the integrated autocorrelation time for 1 parameter(s). Use this estimate with caution and run a longer chain!\n",
      "N/50 = 400;\n",
      "tau: [114.37132832 121.07442327 420.48040776 129.41061972 134.59880228\n",
      " 147.55613162]\n"
     ]
    },
    {
     "name": "stderr",
     "output_type": "stream",
     "text": [
      "Generating SDSSXCS-241 hydrostatic mass profile:  59%|█████████████▍         | 86/147 [42:18<35:57, 35.37s/it]/mnt/pact/dt237/code/PycharmProjects/XGA/xga/sourcetools/mass.py:240: UserWarning: The density profile for SDSSXCS-241 could not be generated\n",
      "  warn(\"The density profile for {} could not be generated\".format(src.name))\n",
      "Generating SDSSXCS-893 hydrostatic mass profile:  59%|█████████████▌         | 87/147 [42:18<35:22, 35.37s/it]"
     ]
    },
    {
     "name": "stdout",
     "output_type": "stream",
     "text": [
      "The chain is shorter than 50 times the integrated autocorrelation time for 6 parameter(s). Use this estimate with caution and run a longer chain!\n",
      "N/50 = 400;\n",
      "tau: [1080.51161808 1175.33099492  929.19962528  903.47219319  572.92460097\n",
      " 1235.19161265]\n"
     ]
    },
    {
     "name": "stderr",
     "output_type": "stream",
     "text": [
      "Generating SDSSXCS-7432 hydrostatic mass profile:  60%|█████████████▏        | 88/147 [43:04<21:28, 21.83s/it]"
     ]
    },
    {
     "name": "stdout",
     "output_type": "stream",
     "text": [
      "The chain is shorter than 50 times the integrated autocorrelation time for 5 parameter(s). Use this estimate with caution and run a longer chain!\n",
      "N/50 = 400;\n",
      "tau: [453.59030331 753.92321623 559.47438944 780.03979709 312.84460939\n",
      " 675.49521894]\n"
     ]
    },
    {
     "name": "stderr",
     "output_type": "stream",
     "text": [
      "Generating SDSSXCS-11613 hydrostatic mass profile:  61%|████████████▋        | 89/147 [43:52<25:25, 26.31s/it]"
     ]
    },
    {
     "name": "stdout",
     "output_type": "stream",
     "text": [
      "The chain is shorter than 50 times the integrated autocorrelation time for 3 parameter(s). Use this estimate with caution and run a longer chain!\n",
      "N/50 = 400;\n",
      "tau: [326.91542999 634.07002869 748.32190535 204.30948017 168.61956084\n",
      " 712.87698081]\n"
     ]
    },
    {
     "name": "stderr",
     "output_type": "stream",
     "text": [
      "Generating SDSSXCS-3 hydrostatic mass profile:  61%|███████████████▎         | 90/147 [44:36<28:09, 29.64s/it]"
     ]
    },
    {
     "name": "stdout",
     "output_type": "stream",
     "text": [
      "The chain is shorter than 50 times the integrated autocorrelation time for 1 parameter(s). Use this estimate with caution and run a longer chain!\n",
      "N/50 = 400;\n",
      "tau: [  74.99747448   78.09204405 1033.40187973   85.06558223   93.43276718\n",
      "   80.26493936]\n"
     ]
    },
    {
     "name": "stderr",
     "output_type": "stream",
     "text": [
      "Generating SDSSXCS-5939 hydrostatic mass profile:  62%|█████████████▌        | 91/147 [45:29<32:22, 34.69s/it]/mnt/pact/dt237/code/PycharmProjects/XGA/xga/sourcetools/mass.py:240: UserWarning: The density profile for SDSSXCS-5939 could not be generated\n",
      "  warn(\"The density profile for {} could not be generated\".format(src.name))\n",
      "Generating SDSSXCS-11394 hydrostatic mass profile:  63%|█████████████▎       | 93/147 [46:14<27:03, 30.07s/it]/mnt/pact/dt237/code/PycharmProjects/XGA/xga/sourcetools/mass.py:240: UserWarning: The density profile for SDSSXCS-11394 could not be generated\n",
      "  warn(\"The density profile for {} could not be generated\".format(src.name))\n",
      "Generating SDSSXCS-907 hydrostatic mass profile:  64%|██████████████▋        | 94/147 [46:14<26:33, 30.07s/it]"
     ]
    },
    {
     "name": "stdout",
     "output_type": "stream",
     "text": [
      "The chain is shorter than 50 times the integrated autocorrelation time for 5 parameter(s). Use this estimate with caution and run a longer chain!\n",
      "N/50 = 400;\n",
      "tau: [ 573.72713476 1207.6275997  1248.78966514  435.10554299  350.98617623\n",
      " 1247.83130044]\n",
      "The chain is shorter than 50 times the integrated autocorrelation time for 1 parameter(s). Use this estimate with caution and run a longer chain!\n",
      "N/50 = 400;\n",
      "tau: [108.7544139  115.62638079 687.19933384 129.05386808 129.7946379\n",
      " 140.35130757]\n"
     ]
    },
    {
     "name": "stderr",
     "output_type": "stream",
     "text": [
      "Generating SDSSXCS-309 hydrostatic mass profile:  65%|███████████████        | 96/147 [47:01<23:36, 27.77s/it]"
     ]
    },
    {
     "name": "stdout",
     "output_type": "stream",
     "text": [
      "The chain is shorter than 50 times the integrated autocorrelation time for 4 parameter(s). Use this estimate with caution and run a longer chain!\n",
      "N/50 = 400;\n",
      "tau: [499.38948758 462.71854584 476.7276549  535.53980119 376.52566718\n",
      " 255.45209393]\n"
     ]
    },
    {
     "name": "stderr",
     "output_type": "stream",
     "text": [
      "Generating SDSSXCS-457 hydrostatic mass profile:  66%|███████████████▏       | 97/147 [47:49<22:07, 26.54s/it]"
     ]
    },
    {
     "name": "stdout",
     "output_type": "stream",
     "text": [
      "The chain is shorter than 50 times the integrated autocorrelation time for 6 parameter(s). Use this estimate with caution and run a longer chain!\n",
      "N/50 = 400;\n",
      "tau: [1614.68543135 1723.72790485 1714.36446482 1683.9791631  1553.44850321\n",
      " 1800.14663937]\n",
      "The chain is shorter than 50 times the integrated autocorrelation time for 4 parameter(s). Use this estimate with caution and run a longer chain!\n",
      "N/50 = 400;\n",
      "tau: [ 450.04516175  905.18419012 1049.96404974  311.6639968   225.44026232\n",
      "  492.08571426]\n",
      "The chain is shorter than 50 times the integrated autocorrelation time for 6 parameter(s). Use this estimate with caution and run a longer chain!\n",
      "N/50 = 400;\n",
      "tau: [ 548.32131615 1461.06370434 1457.47967939  518.08657107  554.07427064\n",
      " 1473.35092883]\n"
     ]
    },
    {
     "name": "stderr",
     "output_type": "stream",
     "text": [
      "Generating SDSSXCS-6 hydrostatic mass profile:  67%|████████████████▊        | 99/147 [48:36<24:20, 30.43s/it]"
     ]
    },
    {
     "name": "stdout",
     "output_type": "stream",
     "text": [
      "The chain is shorter than 50 times the integrated autocorrelation time for 2 parameter(s). Use this estimate with caution and run a longer chain!\n",
      "N/50 = 400;\n",
      "tau: [381.36179996 567.58004989 329.40261546 485.74926416 279.93391044\n",
      " 262.74248574]\n",
      "The chain is shorter than 50 times the integrated autocorrelation time for 1 parameter(s). Use this estimate with caution and run a longer chain!\n",
      "N/50 = 400;\n",
      "tau: [  93.32940104  116.92487986 1253.81804944  121.13038338  123.74471192\n",
      "  304.19300488]\n"
     ]
    },
    {
     "name": "stderr",
     "output_type": "stream",
     "text": [
      "Generating SDSSXCS-176 hydrostatic mass profile:  68%|██████████████▉       | 100/147 [49:24<22:02, 28.14s/it]"
     ]
    },
    {
     "name": "stdout",
     "output_type": "stream",
     "text": [
      "The chain is shorter than 50 times the integrated autocorrelation time for 5 parameter(s). Use this estimate with caution and run a longer chain!\n",
      "N/50 = 400;\n",
      "tau: [590.11899877 399.57837861 454.77133837 579.55935456 446.86938014\n",
      " 410.82208125]\n"
     ]
    },
    {
     "name": "stderr",
     "output_type": "stream",
     "text": [
      "Generating SDSSXCS-3672 hydrostatic mass profile:  69%|██████████████▍      | 101/147 [50:11<24:25, 31.86s/it]"
     ]
    },
    {
     "name": "stdout",
     "output_type": "stream",
     "text": [
      "The chain is shorter than 50 times the integrated autocorrelation time for 4 parameter(s). Use this estimate with caution and run a longer chain!\n",
      "N/50 = 400;\n",
      "tau: [381.98079838 587.38025531 686.99663107 789.84906403 363.94250232\n",
      " 710.16965132]\n"
     ]
    },
    {
     "name": "stderr",
     "output_type": "stream",
     "text": [
      "Generating SDSSXCS-43 hydrostatic mass profile:  69%|███████████████▉       | 102/147 [50:54<25:54, 34.54s/it]"
     ]
    },
    {
     "name": "stdout",
     "output_type": "stream",
     "text": [
      "The chain is shorter than 50 times the integrated autocorrelation time for 6 parameter(s). Use this estimate with caution and run a longer chain!\n",
      "N/50 = 400;\n",
      "tau: [ 799.5380383  1367.4513207  1131.10637674 1331.98209195  834.18411027\n",
      " 1332.9081805 ]\n",
      "The chain is shorter than 50 times the integrated autocorrelation time for 5 parameter(s). Use this estimate with caution and run a longer chain!\n",
      "N/50 = 400;\n",
      "tau: [1150.26921177 1160.71940304  672.5772392  1210.38743989  391.39152917\n",
      " 1031.50119402]\n"
     ]
    },
    {
     "name": "stderr",
     "output_type": "stream",
     "text": [
      "Generating SDSSXCS-16286 hydrostatic mass profile:  71%|██████████████▏     | 104/147 [52:32<29:06, 40.62s/it]"
     ]
    },
    {
     "name": "stdout",
     "output_type": "stream",
     "text": [
      "The chain is shorter than 50 times the integrated autocorrelation time for 5 parameter(s). Use this estimate with caution and run a longer chain!\n",
      "N/50 = 400;\n",
      "tau: [529.38545789 563.11688518 470.60514383 584.95023569 281.54097578\n",
      " 528.24521075]\n"
     ]
    },
    {
     "name": "stderr",
     "output_type": "stream",
     "text": [
      "Generating SDSSXCS-5527 hydrostatic mass profile:  71%|███████████████      | 105/147 [53:14<28:47, 41.12s/it]"
     ]
    },
    {
     "name": "stdout",
     "output_type": "stream",
     "text": [
      "The chain is shorter than 50 times the integrated autocorrelation time for 6 parameter(s). Use this estimate with caution and run a longer chain!\n",
      "N/50 = 400;\n",
      "tau: [529.58853545 984.487205   763.57103475 755.08785918 482.09602456\n",
      " 596.74929865]\n",
      "The chain is shorter than 50 times the integrated autocorrelation time for 1 parameter(s). Use this estimate with caution and run a longer chain!\n",
      "N/50 = 400;\n",
      "tau: [317.05881718 388.87202854 481.23674061 293.70383456 266.57241155\n",
      " 309.06288635]\n",
      "The chain is shorter than 50 times the integrated autocorrelation time for 6 parameter(s). Use this estimate with caution and run a longer chain!\n",
      "N/50 = 400;\n",
      "tau: [ 802.16591894 1569.71598751 2085.19337166  541.91655631  436.84956095\n",
      " 1583.26310071]\n"
     ]
    },
    {
     "name": "stderr",
     "output_type": "stream",
     "text": [
      "Generating SDSSXCS-4313 hydrostatic mass profile:  72%|███████████████▏     | 106/147 [54:03<29:35, 43.30s/it]/mnt/pact/dt237/code/PycharmProjects/XGA/xga/sourcetools/mass.py:240: UserWarning: The density profile for SDSSXCS-4313 could not be generated\n",
      "  warn(\"The density profile for {} could not be generated\".format(src.name))\n",
      "Generating SDSSXCS-574 hydrostatic mass profile:  73%|████████████████      | 107/147 [54:03<28:52, 43.30s/it]"
     ]
    },
    {
     "name": "stdout",
     "output_type": "stream",
     "text": [
      "The chain is shorter than 50 times the integrated autocorrelation time for 3 parameter(s). Use this estimate with caution and run a longer chain!\n",
      "N/50 = 400;\n",
      "tau: [406.92740736 549.84997365 766.96219957 371.61505645 278.2194261\n",
      " 302.10717549]\n",
      "The chain is shorter than 50 times the integrated autocorrelation time for 1 parameter(s). Use this estimate with caution and run a longer chain!\n",
      "N/50 = 400;\n",
      "tau: [106.32105133 108.58290156 623.9560684  108.39304756 137.82487123\n",
      " 106.17240996]\n"
     ]
    },
    {
     "name": "stderr",
     "output_type": "stream",
     "text": [
      "Generating SDSSXCS-65 hydrostatic mass profile:  73%|████████████████▉      | 108/147 [54:53<22:49, 35.11s/it]"
     ]
    },
    {
     "name": "stdout",
     "output_type": "stream",
     "text": [
      "The chain is shorter than 50 times the integrated autocorrelation time for 1 parameter(s). Use this estimate with caution and run a longer chain!\n",
      "N/50 = 400;\n",
      "tau: [264.37537262 412.22405911 255.39959569 354.09838919 201.05439875\n",
      " 196.68090962]\n",
      "The chain is shorter than 50 times the integrated autocorrelation time for 3 parameter(s). Use this estimate with caution and run a longer chain!\n",
      "N/50 = 400;\n",
      "tau: [ 573.18475305 1290.9138789  1523.09189148  247.05459569  269.96438186\n",
      "  281.82999837]\n"
     ]
    },
    {
     "name": "stderr",
     "output_type": "stream",
     "text": [
      "Generating SDSSXCS-4003 hydrostatic mass profile:  75%|███████████████▋     | 110/147 [56:26<24:43, 40.11s/it]"
     ]
    },
    {
     "name": "stdout",
     "output_type": "stream",
     "text": [
      "The chain is shorter than 50 times the integrated autocorrelation time for 4 parameter(s). Use this estimate with caution and run a longer chain!\n",
      "N/50 = 400;\n",
      "tau: [459.66934889 464.05767684 363.54154979 670.12466093 279.14293971\n",
      " 433.12934549]\n",
      "The chain is shorter than 50 times the integrated autocorrelation time for 5 parameter(s). Use this estimate with caution and run a longer chain!\n",
      "N/50 = 400;\n",
      "tau: [625.91811115 813.8811707  348.68495587 740.0830811  618.01907968\n",
      " 820.2276184 ]\n"
     ]
    },
    {
     "name": "stderr",
     "output_type": "stream",
     "text": [
      "Generating SDSSXCS-2836 hydrostatic mass profile:  76%|███████████████▊     | 111/147 [57:18<25:57, 43.27s/it]"
     ]
    },
    {
     "name": "stdout",
     "output_type": "stream",
     "text": [
      "The chain is shorter than 50 times the integrated autocorrelation time for 4 parameter(s). Use this estimate with caution and run a longer chain!\n",
      "N/50 = 400;\n",
      "tau: [590.10871629 635.85731112 583.98212959 532.23812048 286.94767496\n",
      " 372.65704313]\n",
      "The chain is shorter than 50 times the integrated autocorrelation time for 1 parameter(s). Use this estimate with caution and run a longer chain!\n",
      "N/50 = 400;\n",
      "tau: [  92.11608699   96.12961528 1042.75844287   89.97801669  119.43201283\n",
      "  100.59600176]\n"
     ]
    },
    {
     "name": "stderr",
     "output_type": "stream",
     "text": [
      "Generating SDSSXCS-2288 hydrostatic mass profile:  76%|████████████████     | 112/147 [58:08<26:20, 45.16s/it]"
     ]
    },
    {
     "name": "stdout",
     "output_type": "stream",
     "text": [
      "The chain is shorter than 50 times the integrated autocorrelation time for 3 parameter(s). Use this estimate with caution and run a longer chain!\n",
      "N/50 = 400;\n",
      "tau: [393.45164739 510.07979789 554.40747918 407.18470223 284.67523891\n",
      " 363.57241313]\n",
      "The chain is shorter than 50 times the integrated autocorrelation time for 1 parameter(s). Use this estimate with caution and run a longer chain!\n",
      "N/50 = 400;\n",
      "tau: [  96.31732843   94.92480709 1032.54044519  103.53756005  129.46186935\n",
      "   93.23575114]\n"
     ]
    },
    {
     "name": "stderr",
     "output_type": "stream",
     "text": [
      "Generating SDSSXCS-78 hydrostatic mass profile:  77%|█████████████████▋     | 113/147 [58:56<25:54, 45.73s/it]"
     ]
    },
    {
     "name": "stdout",
     "output_type": "stream",
     "text": [
      "The chain is shorter than 50 times the integrated autocorrelation time for 3 parameter(s). Use this estimate with caution and run a longer chain!\n",
      "N/50 = 400;\n",
      "tau: [391.20849273 510.56910127 531.97908553 446.58237158 274.11906428\n",
      " 300.71016285]\n"
     ]
    },
    {
     "name": "stderr",
     "output_type": "stream",
     "text": [
      "Generating SDSSXCS-55 hydrostatic mass profile:  78%|█████████████████▊     | 114/147 [59:50<26:26, 48.09s/it]"
     ]
    },
    {
     "name": "stdout",
     "output_type": "stream",
     "text": [
      "The chain is shorter than 50 times the integrated autocorrelation time for 1 parameter(s). Use this estimate with caution and run a longer chain!\n",
      "N/50 = 400;\n",
      "tau: [160.28722916 178.07521544 825.82732549 133.7648044  138.29788637\n",
      " 204.28475822]\n"
     ]
    },
    {
     "name": "stderr",
     "output_type": "stream",
     "text": [
      "/mnt/pact/dt237/code/PycharmProjects/XGA/xga/sourcetools/mass.py:234: UserWarning: A mass of less than zero was measured by a hydrostatic mass profile, this is not physical and the profile is not valid.\n",
      "  warn(\"A mass of less than zero was measured by a hydrostatic mass profile, this is not physical\"\n",
      "Generating SDSSXCS-137 hydrostatic mass profile:  78%|███████████████▋    | 115/147 [1:00:46<26:55, 50.48s/it]"
     ]
    },
    {
     "name": "stdout",
     "output_type": "stream",
     "text": [
      "The chain is shorter than 50 times the integrated autocorrelation time for 3 parameter(s). Use this estimate with caution and run a longer chain!\n",
      "N/50 = 400;\n",
      "tau: [931.87227961 893.7378477  294.81295386 801.19188046 320.91228873\n",
      " 295.18115139]\n"
     ]
    },
    {
     "name": "stderr",
     "output_type": "stream",
     "text": [
      "Generating SDSSXCS-123 hydrostatic mass profile:  79%|███████████████▊    | 116/147 [1:01:36<25:59, 50.30s/it]"
     ]
    },
    {
     "name": "stdout",
     "output_type": "stream",
     "text": [
      "The chain is shorter than 50 times the integrated autocorrelation time for 3 parameter(s). Use this estimate with caution and run a longer chain!\n",
      "N/50 = 400;\n",
      "tau: [354.31035502 774.65266811 909.41925675 458.50283666 285.11212901\n",
      " 318.51728365]\n"
     ]
    },
    {
     "name": "stderr",
     "output_type": "stream",
     "text": [
      "Generating SDSSXCS-382 hydrostatic mass profile:  80%|███████████████▉    | 117/147 [1:02:26<25:11, 50.38s/it]"
     ]
    },
    {
     "name": "stdout",
     "output_type": "stream",
     "text": [
      "The chain is shorter than 50 times the integrated autocorrelation time for 1 parameter(s). Use this estimate with caution and run a longer chain!\n",
      "N/50 = 400;\n",
      "tau: [406.32965273 361.80904349 164.261811   343.07572789 199.9561329\n",
      " 202.34288929]\n"
     ]
    },
    {
     "name": "stderr",
     "output_type": "stream",
     "text": [
      "Generating SDSSXCS-19 hydrostatic mass profile:  82%|█████████████████▏   | 120/147 [1:04:03<22:08, 49.19s/it]"
     ]
    },
    {
     "name": "stdout",
     "output_type": "stream",
     "text": [
      "The chain is shorter than 50 times the integrated autocorrelation time for 6 parameter(s). Use this estimate with caution and run a longer chain!\n",
      "N/50 = 400;\n",
      "tau: [1207.75983623 1703.97840982 1313.38545045 1376.41578478 1390.53964104\n",
      " 1511.30196849]\n",
      "The chain is shorter than 50 times the integrated autocorrelation time for 3 parameter(s). Use this estimate with caution and run a longer chain!\n",
      "N/50 = 400;\n",
      "tau: [289.72789549 927.38862594 891.75865136 275.41003587 273.06705623\n",
      " 637.32944443]\n",
      "The chain is shorter than 50 times the integrated autocorrelation time for 3 parameter(s). Use this estimate with caution and run a longer chain!\n",
      "N/50 = 400;\n",
      "tau: [ 290.2662472   600.80437191 1003.15546431  213.9922478   175.90296102\n",
      "  767.5812602 ]\n"
     ]
    },
    {
     "name": "stderr",
     "output_type": "stream",
     "text": [
      "Generating SDSSXCS-3312 hydrostatic mass profile:  82%|███████████████▋   | 121/147 [1:04:52<16:20, 37.72s/it]/mnt/pact/dt237/code/PycharmProjects/XGA/xga/products/base.py:1012: UserWarning: Optimal parameters not found: The maximum number of function evaluations is exceeded., curve_fit has failed.\n",
      "  warn(\"{}, curve_fit has failed.\".format(str(r_err)))\n",
      "/mnt/pact/dt237/code/PycharmProjects/XGA/xga/models/temperature.py:116: RuntimeWarning: invalid value encountered in power\n",
      "  cool_expr = ((t_min / t_zero) + (x / r_cool)**a_cool) / (1 + (x / r_cool)**a_cool)\n",
      "/mnt/pact/dt237/code/PycharmProjects/XGA/xga/models/temperature.py:116: RuntimeWarning: overflow encountered in power\n",
      "  cool_expr = ((t_min / t_zero) + (x / r_cool)**a_cool) / (1 + (x / r_cool)**a_cool)\n",
      "/mnt/pact/dt237/code/PycharmProjects/XGA/xga/models/temperature.py:116: RuntimeWarning: invalid value encountered in true_divide\n",
      "  cool_expr = ((t_min / t_zero) + (x / r_cool)**a_cool) / (1 + (x / r_cool)**a_cool)\n",
      "/mnt/pact/dt237/code/PycharmProjects/XGA/xga/models/temperature.py:116: RuntimeWarning: invalid value encountered in power\n",
      "  cool_expr = ((t_min / t_zero) + (x / r_cool)**a_cool) / (1 + (x / r_cool)**a_cool)\n",
      "/mnt/pact/dt237/code/PycharmProjects/XGA/xga/models/temperature.py:116: RuntimeWarning: overflow encountered in power\n",
      "  cool_expr = ((t_min / t_zero) + (x / r_cool)**a_cool) / (1 + (x / r_cool)**a_cool)\n",
      "/mnt/pact/dt237/code/PycharmProjects/XGA/xga/models/temperature.py:116: RuntimeWarning: invalid value encountered in true_divide\n",
      "  cool_expr = ((t_min / t_zero) + (x / r_cool)**a_cool) / (1 + (x / r_cool)**a_cool)\n",
      "/mnt/pact/dt237/code/PycharmProjects/XGA/xga/models/temperature.py:116: RuntimeWarning: invalid value encountered in power\n",
      "  cool_expr = ((t_min / t_zero) + (x / r_cool)**a_cool) / (1 + (x / r_cool)**a_cool)\n",
      "/mnt/pact/dt237/code/PycharmProjects/XGA/xga/models/temperature.py:116: RuntimeWarning: invalid value encountered in power\n",
      "  cool_expr = ((t_min / t_zero) + (x / r_cool)**a_cool) / (1 + (x / r_cool)**a_cool)\n",
      "/mnt/pact/dt237/code/PycharmProjects/XGA/xga/products/base.py:812: UserWarning: Maximum likelihood estimator has produced at least one start parameter that is outside the allowed values defined by the prior, reverting to default start parameters for this model.\n",
      "  warn(\"Maximum likelihood estimator has produced at least one start parameter that is outside\"\n",
      "Generating SDSSXCS-575 hydrostatic mass profile:  83%|████████████████▌   | 122/147 [1:05:39<16:45, 40.23s/it]"
     ]
    },
    {
     "name": "stdout",
     "output_type": "stream",
     "text": [
      "The chain is shorter than 50 times the integrated autocorrelation time for 3 parameter(s). Use this estimate with caution and run a longer chain!\n",
      "N/50 = 400;\n",
      "tau: [137.24769313 665.74581353 759.34115285 124.97115339 147.67038363\n",
      " 710.34776674]\n"
     ]
    },
    {
     "name": "stderr",
     "output_type": "stream",
     "text": [
      "Generating SDSSXCS-2 hydrostatic mass profile:  84%|██████████████████▍   | 123/147 [1:06:26<16:45, 41.89s/it]"
     ]
    },
    {
     "name": "stdout",
     "output_type": "stream",
     "text": [
      "The chain is shorter than 50 times the integrated autocorrelation time for 1 parameter(s). Use this estimate with caution and run a longer chain!\n",
      "N/50 = 400;\n",
      "tau: [ 131.30705618  204.5414511  1129.64816203  121.50386709  126.17752195\n",
      "  273.7176863 ]\n",
      "The chain is shorter than 50 times the integrated autocorrelation time for 1 parameter(s). Use this estimate with caution and run a longer chain!\n",
      "N/50 = 400;\n",
      "tau: [368.69350919 405.64761498 212.34688814 359.77969085 246.91710649\n",
      " 198.92696181]\n",
      "The chain is shorter than 50 times the integrated autocorrelation time for 1 parameter(s). Use this estimate with caution and run a longer chain!\n",
      "N/50 = 400;\n",
      "tau: [ 87.76749009  91.17135137 468.50640201  82.86081783  89.79135435\n",
      "  96.45954156]\n"
     ]
    },
    {
     "name": "stderr",
     "output_type": "stream",
     "text": [
      "Generating SDSSXCS-30950 hydrostatic mass profile:  84%|███████████████▏  | 124/147 [1:07:18<17:05, 44.58s/it]/mnt/pact/dt237/code/PycharmProjects/XGA/xga/sourcetools/mass.py:240: UserWarning: The density profile for SDSSXCS-30950 could not be generated\n",
      "  warn(\"The density profile for {} could not be generated\".format(src.name))\n",
      "Generating SDSSXCS-480 hydrostatic mass profile:  85%|█████████████████   | 125/147 [1:07:18<16:20, 44.58s/it]"
     ]
    },
    {
     "name": "stdout",
     "output_type": "stream",
     "text": [
      "The chain is shorter than 50 times the integrated autocorrelation time for 1 parameter(s). Use this estimate with caution and run a longer chain!\n",
      "N/50 = 400;\n",
      "tau: [ 83.76273855  76.30189202 602.49489806  87.25707484  78.31524029\n",
      "  61.95419967]\n"
     ]
    },
    {
     "name": "stderr",
     "output_type": "stream",
     "text": [
      "Generating SDSSXCS-14 hydrostatic mass profile:  86%|██████████████████   | 126/147 [1:08:13<12:58, 37.08s/it]"
     ]
    },
    {
     "name": "stdout",
     "output_type": "stream",
     "text": [
      "The chain is shorter than 50 times the integrated autocorrelation time for 1 parameter(s). Use this estimate with caution and run a longer chain!\n",
      "N/50 = 400;\n",
      "tau: [ 91.70222831  90.91372188 498.90545733  86.59262311  93.45433124\n",
      "  92.03317562]\n"
     ]
    },
    {
     "name": "stderr",
     "output_type": "stream",
     "text": [
      "Generating SDSSXCS-1137 hydrostatic mass profile:  86%|████████████████▍  | 127/147 [1:09:03<13:25, 40.28s/it]"
     ]
    },
    {
     "name": "stdout",
     "output_type": "stream",
     "text": [
      "The chain is shorter than 50 times the integrated autocorrelation time for 4 parameter(s). Use this estimate with caution and run a longer chain!\n",
      "N/50 = 400;\n",
      "tau: [521.40026254 669.79994375 606.62420515 503.56148086 298.19544694\n",
      " 285.87533239]\n"
     ]
    },
    {
     "name": "stderr",
     "output_type": "stream",
     "text": [
      "Generating SDSSXCS-487 hydrostatic mass profile:  87%|█████████████████▍  | 128/147 [1:09:54<13:33, 42.83s/it]"
     ]
    },
    {
     "name": "stdout",
     "output_type": "stream",
     "text": [
      "The chain is shorter than 50 times the integrated autocorrelation time for 2 parameter(s). Use this estimate with caution and run a longer chain!\n",
      "N/50 = 400;\n",
      "tau: [ 288.94288927  319.95479354  353.3393437  1020.79452717  302.27737251\n",
      " 1976.79585022]\n"
     ]
    },
    {
     "name": "stderr",
     "output_type": "stream",
     "text": [
      "Generating SDSSXCS-155 hydrostatic mass profile:  88%|█████████████████▌  | 129/147 [1:10:41<13:12, 44.04s/it]"
     ]
    },
    {
     "name": "stdout",
     "output_type": "stream",
     "text": [
      "The chain is shorter than 50 times the integrated autocorrelation time for 6 parameter(s). Use this estimate with caution and run a longer chain!\n",
      "N/50 = 400;\n",
      "tau: [679.64269788 688.86702508 575.14970162 647.35321443 675.06082707\n",
      " 588.62959619]\n"
     ]
    },
    {
     "name": "stderr",
     "output_type": "stream",
     "text": [
      "Generating SDSSXCS-2032 hydrostatic mass profile:  88%|████████████████▊  | 130/147 [1:11:28<12:44, 44.99s/it]"
     ]
    },
    {
     "name": "stdout",
     "output_type": "stream",
     "text": [
      "The chain is shorter than 50 times the integrated autocorrelation time for 4 parameter(s). Use this estimate with caution and run a longer chain!\n",
      "N/50 = 400;\n",
      "tau: [530.53378742 669.66744824 861.98992564 535.15388306 377.77466302\n",
      " 315.63688394]\n"
     ]
    },
    {
     "name": "stderr",
     "output_type": "stream",
     "text": [
      "Generating SDSSXCS-10223 hydrostatic mass profile:  89%|████████████████  | 131/147 [1:12:16<12:09, 45.61s/it]/mnt/pact/dt237/code/PycharmProjects/XGA/xga/sourcetools/mass.py:240: UserWarning: The density profile for SDSSXCS-10223 could not be generated\n",
      "  warn(\"The density profile for {} could not be generated\".format(src.name))\n",
      "Generating SDSSXCS-29 hydrostatic mass profile:  90%|██████████████████▊  | 132/147 [1:12:16<11:24, 45.61s/it]"
     ]
    },
    {
     "name": "stdout",
     "output_type": "stream",
     "text": [
      "The chain is shorter than 50 times the integrated autocorrelation time for 3 parameter(s). Use this estimate with caution and run a longer chain!\n",
      "N/50 = 400;\n",
      "tau: [120.45045956 512.28425879 651.49848829 114.57177149 114.7962252\n",
      " 588.57673659]\n",
      "The chain is shorter than 50 times the integrated autocorrelation time for 1 parameter(s). Use this estimate with caution and run a longer chain!\n",
      "N/50 = 400;\n",
      "tau: [  76.30110734   78.45073465 1082.18871451   80.06886717   83.27407264\n",
      "   82.58355557]\n"
     ]
    },
    {
     "name": "stderr",
     "output_type": "stream",
     "text": [
      "Generating SDSSXCS-110 hydrostatic mass profile:  90%|██████████████████  | 133/147 [1:13:06<08:32, 36.62s/it]"
     ]
    },
    {
     "name": "stdout",
     "output_type": "stream",
     "text": [
      "The chain is shorter than 50 times the integrated autocorrelation time for 4 parameter(s). Use this estimate with caution and run a longer chain!\n",
      "N/50 = 400;\n",
      "tau: [1308.1530806  1679.11772347  451.07164467 1447.70191266  389.65283759\n",
      "  360.61859793]\n",
      "The chain is shorter than 50 times the integrated autocorrelation time for 1 parameter(s). Use this estimate with caution and run a longer chain!\n",
      "N/50 = 400;\n",
      "tau: [  95.14935866   96.22063365 1290.76051035  121.25644331  137.08283588\n",
      "   69.69159679]\n"
     ]
    },
    {
     "name": "stderr",
     "output_type": "stream",
     "text": [
      "Generating SDSSXCS-913 hydrostatic mass profile:  91%|██████████████████▏ | 134/147 [1:14:00<08:47, 40.58s/it]/mnt/pact/dt237/code/PycharmProjects/XGA/xga/sourcetools/mass.py:240: UserWarning: The density profile for SDSSXCS-913 could not be generated\n",
      "  warn(\"The density profile for {} could not be generated\".format(src.name))\n",
      "Generating SDSSXCS-62 hydrostatic mass profile:  92%|███████████████████▎ | 135/147 [1:14:00<08:07, 40.58s/it]/mnt/pact/dt237/code/PycharmProjects/XGA/xga/sourcetools/mass.py:240: UserWarning: The density profile for SDSSXCS-62 could not be generated\n",
      "  warn(\"The density profile for {} could not be generated\".format(src.name))\n",
      "Generating SDSSXCS-236 hydrostatic mass profile:  93%|██████████████████▌ | 136/147 [1:14:00<07:26, 40.58s/it]"
     ]
    },
    {
     "name": "stdout",
     "output_type": "stream",
     "text": [
      "The chain is shorter than 50 times the integrated autocorrelation time for 4 parameter(s). Use this estimate with caution and run a longer chain!\n",
      "N/50 = 400;\n",
      "tau: [ 430.44022962 1357.60698071  767.48544367  548.26633192  281.49690939\n",
      "  291.12727868]\n",
      "The chain is shorter than 50 times the integrated autocorrelation time for 6 parameter(s). Use this estimate with caution and run a longer chain!\n",
      "N/50 = 400;\n",
      "tau: [ 478.83909488 1913.789078    925.18754808  401.09214695  431.87873109\n",
      " 1945.20731141]\n"
     ]
    },
    {
     "name": "stderr",
     "output_type": "stream",
     "text": [
      "Generating SDSSXCS-765 hydrostatic mass profile:  93%|██████████████████▋ | 137/147 [1:14:50<04:44, 28.44s/it]"
     ]
    },
    {
     "name": "stdout",
     "output_type": "stream",
     "text": [
      "The chain is shorter than 50 times the integrated autocorrelation time for 1 parameter(s). Use this estimate with caution and run a longer chain!\n",
      "N/50 = 400;\n",
      "tau: [192.42186189 927.44333471 217.83870619 277.39101914 230.28751483\n",
      " 296.47398601]\n"
     ]
    },
    {
     "name": "stderr",
     "output_type": "stream",
     "text": [
      "Generating SDSSXCS-51 hydrostatic mass profile:  94%|███████████████████▋ | 138/147 [1:15:33<04:42, 31.42s/it]"
     ]
    },
    {
     "name": "stdout",
     "output_type": "stream",
     "text": [
      "The chain is shorter than 50 times the integrated autocorrelation time for 6 parameter(s). Use this estimate with caution and run a longer chain!\n",
      "N/50 = 400;\n",
      "tau: [ 645.30772534 1224.51608907  808.98921651 1055.55411732  480.22011863\n",
      " 1028.54516082]\n",
      "The chain is shorter than 50 times the integrated autocorrelation time for 1 parameter(s). Use this estimate with caution and run a longer chain!\n",
      "N/50 = 400;\n",
      "tau: [276.8264222  425.5294317  393.79735976 342.79331465 294.1165472\n",
      " 243.37884178]\n"
     ]
    },
    {
     "name": "stderr",
     "output_type": "stream",
     "text": [
      "Generating SDSSXCS-41 hydrostatic mass profile:  95%|███████████████████▊ | 139/147 [1:16:22<04:40, 35.12s/it]"
     ]
    },
    {
     "name": "stdout",
     "output_type": "stream",
     "text": [
      "The chain is shorter than 50 times the integrated autocorrelation time for 4 parameter(s). Use this estimate with caution and run a longer chain!\n",
      "N/50 = 400;\n",
      "tau: [ 483.4882038   771.237066   1052.28916126  248.99471302  176.28527105\n",
      "  855.65740606]\n",
      "The chain is shorter than 50 times the integrated autocorrelation time for 1 parameter(s). Use this estimate with caution and run a longer chain!\n",
      "N/50 = 400;\n",
      "tau: [ 86.36144421 113.77763627 651.76141333  83.94343016  87.80920935\n",
      " 146.32483907]\n"
     ]
    },
    {
     "name": "stderr",
     "output_type": "stream",
     "text": [
      "Generating SDSSXCS-34 hydrostatic mass profile:  95%|████████████████████ | 140/147 [1:17:11<04:29, 38.43s/it]"
     ]
    },
    {
     "name": "stdout",
     "output_type": "stream",
     "text": [
      "The chain is shorter than 50 times the integrated autocorrelation time for 4 parameter(s). Use this estimate with caution and run a longer chain!\n",
      "N/50 = 400;\n",
      "tau: [634.15919077 377.19335084 405.61269326 595.37351137 344.25254701\n",
      " 454.92999897]\n"
     ]
    },
    {
     "name": "stderr",
     "output_type": "stream",
     "text": [
      "Generating SDSSXCS-11154 hydrostatic mass profile:  96%|█████████████████▎| 141/147 [1:17:56<04:01, 40.22s/it]"
     ]
    },
    {
     "name": "stdout",
     "output_type": "stream",
     "text": [
      "The chain is shorter than 50 times the integrated autocorrelation time for 1 parameter(s). Use this estimate with caution and run a longer chain!\n",
      "N/50 = 400;\n",
      "tau: [170.96675963 167.95694842 439.16785082 196.16928665 133.71248903\n",
      " 163.17432528]\n",
      "The chain is shorter than 50 times the integrated autocorrelation time for 4 parameter(s). Use this estimate with caution and run a longer chain!\n",
      "N/50 = 400;\n",
      "tau: [407.94089978 607.73224724 426.98109993 429.92647151 230.2321265\n",
      " 237.76696776]\n",
      "The chain is shorter than 50 times the integrated autocorrelation time for 1 parameter(s). Use this estimate with caution and run a longer chain!\n",
      "N/50 = 400;\n",
      "tau: [  84.79652489   92.53837199 1090.12072023   88.94823395   89.39781528\n",
      "   94.4859865 ]\n"
     ]
    },
    {
     "name": "stderr",
     "output_type": "stream",
     "text": [
      "Generating SDSSXCS-2092 hydrostatic mass profile:  97%|██████████████████▎| 142/147 [1:18:47<03:34, 42.95s/it]/mnt/pact/dt237/code/PycharmProjects/XGA/xga/sourcetools/mass.py:240: UserWarning: The density profile for SDSSXCS-2092 could not be generated\n",
      "  warn(\"The density profile for {} could not be generated\".format(src.name))\n",
      "Generating SDSSXCS-17923 hydrostatic mass profile:  97%|█████████████████▌| 143/147 [1:18:47<02:51, 42.95s/it]/mnt/pact/dt237/code/PycharmProjects/XGA/xga/sourcetools/mass.py:240: UserWarning: The density profile for SDSSXCS-17923 could not be generated\n",
      "  warn(\"The density profile for {} could not be generated\".format(src.name))\n",
      "Generating SDSSXCS-68 hydrostatic mass profile:  98%|████████████████████▌| 144/147 [1:18:47<02:08, 42.95s/it]"
     ]
    },
    {
     "name": "stdout",
     "output_type": "stream",
     "text": [
      "The chain is shorter than 50 times the integrated autocorrelation time for 3 parameter(s). Use this estimate with caution and run a longer chain!\n",
      "N/50 = 400;\n",
      "tau: [418.15479106 442.25420266 271.84714181 426.91351835 285.19589453\n",
      " 244.2843048 ]\n"
     ]
    },
    {
     "name": "stderr",
     "output_type": "stream",
     "text": [
      "Generating SDSSXCS-147 hydrostatic mass profile:  99%|███████████████████▋| 145/147 [1:19:35<00:57, 28.58s/it]"
     ]
    },
    {
     "name": "stdout",
     "output_type": "stream",
     "text": [
      "The chain is shorter than 50 times the integrated autocorrelation time for 4 parameter(s). Use this estimate with caution and run a longer chain!\n",
      "N/50 = 400;\n",
      "tau: [829.32033678 801.76264745 247.42117201 801.25201021 373.18035639\n",
      " 411.7039616 ]\n",
      "The chain is shorter than 50 times the integrated autocorrelation time for 3 parameter(s). Use this estimate with caution and run a longer chain!\n",
      "N/50 = 400;\n",
      "tau: [260.93835199 649.05824467 651.4155336  471.16512448 297.2678794\n",
      " 267.55082059]\n",
      "The chain is shorter than 50 times the integrated autocorrelation time for 4 parameter(s). Use this estimate with caution and run a longer chain!\n",
      "N/50 = 400;\n",
      "tau: [413.9907665  593.01958219 766.50278312 326.55591456 141.96989802\n",
      " 717.76636364]\n"
     ]
    },
    {
     "name": "stderr",
     "output_type": "stream",
     "text": [
      "Complete: 100%|███████████████████████████████████████████████████████████| 147/147 [1:21:07<00:00, 33.11s/it]"
     ]
    },
    {
     "name": "stdout",
     "output_type": "stream",
     "text": [
      "The chain is shorter than 50 times the integrated autocorrelation time for 6 parameter(s). Use this estimate with caution and run a longer chain!\n",
      "N/50 = 400;\n",
      "tau: [1284.17264412 1480.04750649 1147.74378073 1315.70589272 1227.74571067\n",
      " 1206.70123932]\n"
     ]
    },
    {
     "name": "stderr",
     "output_type": "stream",
     "text": [
      "\n"
     ]
    }
   ],
   "source": [
    "sb_dblbeta_simpvikh_1_totmc1500_mp = inv_abel_dens_onion_temp(xcs_srcs, xcs_srcs.r500, 'double_beta', \n",
    "                                                                'simple_vikhlinin_dens', 'simple_vikhlinin_temp', \n",
    "                                                                'r500', temp_annulus_method='min_cnt', \n",
    "                                                                temp_min_cnt=Quantity(1500, 'ct'), \n",
    "                                                                temp_use_combined=True)"
   ]
  },
  {
   "cell_type": "code",
   "execution_count": 12,
   "id": "707ccff0",
   "metadata": {},
   "outputs": [],
   "source": [
    "# print(\"There are\", len([m for m in sb_dblbeta_simpvikh_11_m500[:, 0] if np.isfinite(m)]), \n",
    "#       \"clusters with successful mass measurements\")"
   ]
  },
  {
   "cell_type": "code",
   "execution_count": 15,
   "id": "7476b82b",
   "metadata": {},
   "outputs": [
    {
     "name": "stderr",
     "output_type": "stream",
     "text": [
      "Measuring Masses for SDSSRM-XCS Clusters: 100%|████████████████████████████| 147/147 [00:01<00:00, 111.63it/s]\n"
     ]
    }
   ],
   "source": [
    "sb_dblbeta_simpvikh_1_mc1500_m500 = []\n",
    "\n",
    "with tqdm(desc='Measuring Masses for SDSSRM-XCS Clusters', total=len(sb_dblbeta_simpvikh_1_totmc1500_mp)) as onwards:\n",
    "    for mp in sb_dblbeta_simpvikh_1_totmc1500_mp:\n",
    "        if mp is not None:\n",
    "            rel_src = xcs_srcs[mp.src_name]\n",
    "            m = mp.mass(rel_src.r500)[0]\n",
    "        else:\n",
    "            m = Quantity([np.NaN, np.NaN, np.NaN], 'Msun')\n",
    "            \n",
    "        sb_dblbeta_simpvikh_1_mc1500_m500.append(m)\n",
    "        \n",
    "        onwards.update(1)\n",
    "\n",
    "sb_dblbeta_simpvikh_1_mc1500_m500 = Quantity(sb_dblbeta_simpvikh_1_mc1500_m500)\n"
   ]
  },
  {
   "cell_type": "code",
   "execution_count": 17,
   "id": "078c8357",
   "metadata": {},
   "outputs": [
    {
     "name": "stderr",
     "output_type": "stream",
     "text": [
      "/mnt/pact/dt237/code/PycharmProjects/XGA/xga/products/profile.py:1811: UserWarning: Some radii are outside the data range covered by the temperature or density profiles, as such you will be extrapolating based on the model fits.\n",
      "  warn(\"Some radii are outside the data range covered by the temperature or density profiles, as such \"\n"
     ]
    }
   ],
   "source": [
    "all_info = []\n",
    "for src_ind, src in enumerate(xcs_srcs):\n",
    "    mass = sb_dblbeta_simpvikh_1_mc1500_m500[src_ind, :].value\n",
    "    \n",
    "    if sb_dblbeta_simpvikh_1_totmc1500_mp[src_ind] is not None:\n",
    "        try:\n",
    "            alt_r500 = sb_dblbeta_simpvikh_1_totmc1500_mp[src_ind].overdensity_radius(500, src.redshift, src.cosmo)\n",
    "            alt_m500 = sb_dblbeta_simpvikh_1_totmc1500_mp[src_ind].mass(alt_r500)[0]\n",
    "            \n",
    "            alt_r2500 = sb_dblbeta_simpvikh_1_totmc1500_mp[src_ind].overdensity_radius(2500, src.redshift, src.cosmo)\n",
    "            alt_m2500 = sb_dblbeta_simpvikh_1_totmc1500_mp[src_ind].mass(alt_r2500)[0]\n",
    "        except ValueError:\n",
    "            alt_m500 = Quantity([np.NaN, np.NaN, np.NaN], 'Msun')\n",
    "            alt_m2500 = Quantity([np.NaN, np.NaN, np.NaN], 'Msun')\n",
    "    else:\n",
    "        alt_m500 = Quantity([np.NaN, np.NaN, np.NaN], 'Msun')\n",
    "        alt_m2500 = Quantity([np.NaN, np.NaN, np.NaN], 'Msun')\n",
    "                \n",
    "    rich = src.richness.value\n",
    "    z = src.redshift\n",
    "    try:\n",
    "        tx = src.get_temperature(src.r500).value\n",
    "        lx = src.get_luminosities(src.r500, lo_en=Quantity(0.5, 'keV'), hi_en=Quantity(2.0, 'keV')).value\n",
    "        lxce = src.get_luminosities(src.r500, inner_radius=src.r500*0.15, lo_en=Quantity(0.5, 'keV'), \n",
    "                                    hi_en=Quantity(2.0, 'keV')).value\n",
    "    except ModelNotAssociatedError:\n",
    "        tx = np.array([np.NaN, np.NaN, np.NaN])\n",
    "        lx = np.array([np.NaN, np.NaN, np.NaN])\n",
    "        lxce = np.array([np.NaN, np.NaN, np.NaN])\n",
    "        \n",
    "    all_info.append([z, *mass, *rich, *tx, *lx, *lxce, *alt_m500.value, *alt_m2500.value])\n",
    "\n",
    "all_info = np.array(all_info)\n",
    "all_info_df = pd.DataFrame(data=all_info, columns=['z', 'm500', 'm500-', 'm500+', 'richness', 'richness_err', \n",
    "                                                   'Tx500', 'Tx500-', 'Tx500+', 'Lx500', 'Lx500-', 'Lx500+', \n",
    "                                                   'Lxce500', 'Lxce500-', 'Lxce500+', 'alt_m500', 'alt_m500-', \n",
    "                                                   'alt_m500+', 'alt_m2500', 'alt_m2500-', 'alt_m2500+'])\n",
    "all_info_df.to_csv('prelim_masses_xapa_centres.csv', index=False)"
   ]
  }
 ],
 "metadata": {
  "kernelspec": {
   "display_name": "Python 3 (ipykernel)",
   "language": "python",
   "name": "python3"
  },
  "language_info": {
   "codemirror_mode": {
    "name": "ipython",
    "version": 3
   },
   "file_extension": ".py",
   "mimetype": "text/x-python",
   "name": "python",
   "nbconvert_exporter": "python",
   "pygments_lexer": "ipython3",
   "version": "3.8.11"
  }
 },
 "nbformat": 4,
 "nbformat_minor": 5
}
