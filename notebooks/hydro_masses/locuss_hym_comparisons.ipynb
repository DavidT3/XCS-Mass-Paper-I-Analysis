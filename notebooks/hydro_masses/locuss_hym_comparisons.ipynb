{
 "cells": [
  {
   "cell_type": "markdown",
   "id": "56365db4",
   "metadata": {},
   "source": [
    "# Comparing total hydrostatic masses measured by LoCuSS and XGA"
   ]
  },
  {
   "cell_type": "markdown",
   "id": "dc4bf697",
   "metadata": {},
   "source": [
    "This notebook measures hydrostatic masses for the samples we are using to verify our method, then compares them to the measurements from literature. These mass measurements include both the baryonic content of the intra-cluster medium, and that of the dark matter halo. This implicitly tests how close our measured temperature and density profiles are to those measured by the work we compare them to\n",
    "\n",
    "The LoCuSS sample has hydrostatic mass measurements associated with them which we will compare to but the XXL-100-GC sample data is generally too shallow for such measurements."
   ]
  },
  {
   "cell_type": "markdown",
   "id": "723ab4b7",
   "metadata": {},
   "source": [
    "## Import Statements"
   ]
  },
  {
   "cell_type": "code",
   "execution_count": 1,
   "id": "c41a3b88",
   "metadata": {},
   "outputs": [],
   "source": [
    "import pandas as pd\n",
    "import numpy as np\n",
    "from astropy.units import Quantity, UnitConversionError, Unit\n",
    "import matplotlib.pyplot as plt\n",
    "from typing import Union, List\n",
    "from shutil import rmtree\n",
    "import os\n",
    "from tqdm import tqdm\n",
    "\n",
    "# This adds the directory above to the path, allowing me to import the common functions that I've written in\n",
    "#  common.py - this just saves me repeating boring code and makes sure its all consistent\n",
    "import sys\n",
    "sys.path.insert(0, '..')\n",
    "from common import locuss_colour, locuss_cosmo, direct_comparison_plot, find_lims, fit_comp\n",
    "\n",
    "import xga\n",
    "# This just sets the number of cores this analysis is allowed to use\n",
    "xga.NUM_CORES = 100\n",
    "# This is a bodge that will only work because xga_output in notebooks has already been defined, XGA\n",
    "#  will be made to handle this more gracefully at some point\n",
    "temp_dir = xga.OUTPUT\n",
    "actual_dir = temp_dir.split('notebooks/')[0]+'notebooks/xga_output/'\n",
    "xga.OUTPUT = actual_dir\n",
    "xga.utils.OUTPUT = actual_dir\n",
    "# As currently XGA will setup an xga_output directory in our current directory, I remove it to keep it all clean\n",
    "if os.path.exists('xga_output'):\n",
    "    rmtree('xga_output')\n",
    "from xga.samples import ClusterSample\n",
    "from xga.sourcetools.mass import inv_abel_dens_onion_temp\n",
    "from xga.models import DoubleBetaProfile1D, SimpleVikhlininDensity1D, SimpleVikhlininTemperature1D"
   ]
  },
  {
   "cell_type": "markdown",
   "id": "840bef7f",
   "metadata": {},
   "source": [
    "## Reading in Sample Files and Declaring XGA ClusterSamples"
   ]
  },
  {
   "cell_type": "markdown",
   "id": "5d38b971",
   "metadata": {},
   "source": [
    "This subsection involves reading in the sample files of the four test samples (described in [the sample properties notebook](sample_properties.ipynb)), then setting up separate XGA ClusterSample instances (see [the documentation](https://xga.readthedocs.io/en/latest/notebooks/tutorials/sources_samples.html) for an introduction to XGA source and sample objects.\n",
    "\n",
    "We impose an additional cleaning step on each sample, where we make sure that (for each XMM observation initially associated with a source) at least 70% of a cluster's $R_{500}$ falls on that observation - if this requirement is not met then the observation is excluded. These requirements are set with the `clean_obs=True`, `clean_obs_reg='r500'`, and `clean_obs_threshold=0.7` arguments when a ClusterSample instance is declared."
   ]
  },
  {
   "cell_type": "markdown",
   "id": "1022c878",
   "metadata": {},
   "source": [
    "### LoCuSS High-$L_{\\rm{X}}$"
   ]
  },
  {
   "cell_type": "markdown",
   "id": "a0e28096",
   "metadata": {},
   "source": [
    "The LoCuSS High-$L_{\\rm{X}}$ sample was selected from ROSAT for its high luminosity clusters, and will again be a useful comparison as testing against various different analyses is beneficial in establishing the veracity of our new measurements."
   ]
  },
  {
   "cell_type": "code",
   "execution_count": 2,
   "id": "af7b9861",
   "metadata": {},
   "outputs": [],
   "source": [
    "locuss = pd.read_csv(\"../../sample_files/locuss_highlx_clusters.csv\", dtype={'chandra_id': str, 'xmm_obsid': str})"
   ]
  },
  {
   "cell_type": "code",
   "execution_count": 3,
   "id": "7298e03c",
   "metadata": {
    "scrolled": true
   },
   "outputs": [
    {
     "name": "stderr",
     "output_type": "stream",
     "text": [
      "Declaring BaseSource Sample:  36%|███████████████▊                            | 18/50 [00:09<00:20,  1.56it/s]/mnt/pact/dt237/code/PycharmProjects/XGA/xga/samples/base.py:90: UserWarning: Source ZwCl0949.6+5207 does not appear to have any XMM data, and will not be included in the sample.\n",
      "  warn(\"Source {n} does not appear to have any XMM data, and will not be included in the \"\n",
      "Declaring BaseSource Sample:  46%|████████████████████▏                       | 23/50 [00:12<00:18,  1.48it/s]/mnt/pact/dt237/code/PycharmProjects/XGA/xga/samples/base.py:90: UserWarning: Source Abell1423 does not appear to have any XMM data, and will not be included in the sample.\n",
      "  warn(\"Source {n} does not appear to have any XMM data, and will not be included in the \"\n",
      "Declaring BaseSource Sample:  50%|██████████████████████                      | 25/50 [00:12<00:11,  2.22it/s]/mnt/pact/dt237/code/PycharmProjects/XGA/xga/samples/base.py:90: UserWarning: Source RXCJ1212.3-1816 does not appear to have any XMM data, and will not be included in the sample.\n",
      "  warn(\"Source {n} does not appear to have any XMM data, and will not be included in the \"\n",
      "Declaring BaseSource Sample:  54%|███████████████████████▊                    | 27/50 [00:12<00:08,  2.81it/s]/mnt/pact/dt237/code/PycharmProjects/XGA/xga/samples/base.py:90: UserWarning: Source Abell1682 does not appear to have any XMM data, and will not be included in the sample.\n",
      "  warn(\"Source {n} does not appear to have any XMM data, and will not be included in the \"\n",
      "Declaring BaseSource Sample:  90%|███████████████████████████████████████▌    | 45/50 [00:23<00:02,  1.96it/s]/mnt/pact/dt237/code/PycharmProjects/XGA/xga/samples/base.py:90: UserWarning: Source Abell2485 does not appear to have any XMM data, and will not be included in the sample.\n",
      "  warn(\"Source {n} does not appear to have any XMM data, and will not be included in the \"\n",
      "Declaring BaseSource Sample: 100%|████████████████████████████████████████████| 50/50 [00:25<00:00,  1.94it/s]\n",
      "Setting up Galaxy Clusters:   4%|██                                            | 2/45 [00:01<00:30,  1.41it/s]/mnt/pact/dt237/code/PycharmProjects/XGA/xga/sources/general.py:124: UserWarning: Abell2813 has not been detected in all region files, so generating and fitting products with the 'region' reg_type will not use all available data\n",
      "  warnings.warn(\"{n} has not been detected in all region files, so generating and fitting products\"\n",
      "Setting up Galaxy Clusters:  11%|█████                                         | 5/45 [00:03<00:27,  1.44it/s]/mnt/pact/dt237/code/PycharmProjects/XGA/xga/sources/general.py:124: UserWarning: ZwCl0104.4+0048 has not been detected in all region files, so generating and fitting products with the 'region' reg_type will not use all available data\n",
      "  warnings.warn(\"{n} has not been detected in all region files, so generating and fitting products\"\n",
      "Setting up Galaxy Clusters:  29%|████████████▉                                | 13/45 [00:14<01:03,  2.00s/it]/mnt/pact/dt237/code/PycharmProjects/XGA/xga/sources/general.py:124: UserWarning: Abell0697 has not been detected in all region files, so generating and fitting products with the 'region' reg_type will not use all available data\n",
      "  warnings.warn(\"{n} has not been detected in all region files, so generating and fitting products\"\n",
      "Setting up Galaxy Clusters:  38%|█████████████████                            | 17/45 [00:17<00:32,  1.15s/it]/mnt/pact/dt237/code/PycharmProjects/XGA/xga/sources/general.py:124: UserWarning: Abell0781 has not been detected in all region files, so generating and fitting products with the 'region' reg_type will not use all available data\n",
      "  warnings.warn(\"{n} has not been detected in all region files, so generating and fitting products\"\n",
      "Setting up Galaxy Clusters:  60%|███████████████████████████                  | 27/45 [00:28<00:15,  1.19it/s]/mnt/pact/dt237/code/PycharmProjects/XGA/xga/sources/general.py:124: UserWarning: Abell1689 has not been detected in all region files, so generating and fitting products with the 'region' reg_type will not use all available data\n",
      "  warnings.warn(\"{n} has not been detected in all region files, so generating and fitting products\"\n",
      "Setting up Galaxy Clusters:  64%|█████████████████████████████                | 29/45 [00:30<00:15,  1.04it/s]/mnt/pact/dt237/code/PycharmProjects/XGA/xga/sources/general.py:124: UserWarning: Abell1758N has not been detected in all region files, so generating and fitting products with the 'region' reg_type will not use all available data\n",
      "  warnings.warn(\"{n} has not been detected in all region files, so generating and fitting products\"\n",
      "Setting up Galaxy Clusters:  87%|███████████████████████████████████████      | 39/45 [00:50<00:13,  2.26s/it]/mnt/pact/dt237/code/PycharmProjects/XGA/xga/sources/general.py:124: UserWarning: Abell2219 has not been detected in all region files, so generating and fitting products with the 'region' reg_type will not use all available data\n",
      "  warnings.warn(\"{n} has not been detected in all region files, so generating and fitting products\"\n",
      "Setting up Galaxy Clusters:  96%|███████████████████████████████████████████  | 43/45 [00:54<00:02,  1.33s/it]/mnt/pact/dt237/code/PycharmProjects/XGA/xga/sources/general.py:124: UserWarning: RXJ2129.6+0005 has not been detected in all region files, so generating and fitting products with the 'region' reg_type will not use all available data\n",
      "  warnings.warn(\"{n} has not been detected in all region files, so generating and fitting products\"\n",
      "Setting up Galaxy Clusters: 50it [01:00,  1.21s/it]                                                           \n"
     ]
    }
   ],
   "source": [
    "# Reading out the relevant values into arrays just for ease of passing into the ClusterSample object\n",
    "ra = locuss['ra'].values\n",
    "dec = locuss['dec'].values\n",
    "z = locuss['z'].values\n",
    "n = locuss['name'].values\n",
    "r500 = Quantity(locuss['r500'].values, 'kpc')\n",
    "r2500 = Quantity(locuss['r2500'].values, 'kpc')\n",
    "\n",
    "# Declaring the actual ClusterSample instance for the LoCuSS sample\n",
    "locuss_srcs = ClusterSample(ra, dec, z, n, r500=r500, r2500=r2500, cosmology=locuss_cosmo, load_fits=True, \n",
    "                            use_peak=False, clean_obs=True, clean_obs_reg='r500', clean_obs_threshold=0.7)"
   ]
  },
  {
   "cell_type": "markdown",
   "id": "24db86c8",
   "metadata": {},
   "source": [
    "## Reading in literature data"
   ]
  },
  {
   "cell_type": "markdown",
   "id": "134be8fe",
   "metadata": {},
   "source": []
  },
  {
   "cell_type": "markdown",
   "id": "9af06a7d",
   "metadata": {},
   "source": [
    "###  Hydrostatic masses from original work"
   ]
  },
  {
   "cell_type": "markdown",
   "id": "608ab541",
   "metadata": {},
   "source": []
  },
  {
   "cell_type": "code",
   "execution_count": 4,
   "id": "f2f5725f",
   "metadata": {},
   "outputs": [],
   "source": [
    "loc_lit_m500s = [locuss[locuss['name'] == n].iloc[0][['x_m500', 'x_m500_err', 'x_m500_err']].values\n",
    "               for n in locuss_srcs.names]\n",
    "loc_lit_m500s = Quantity(loc_lit_m500s, 'Msun')\n",
    "\n",
    "loc_lit_m2500s = [locuss[locuss['name'] == n].iloc[0][['x_m2500', 'x_m2500_err', 'x_m2500_err']].values\n",
    "               for n in locuss_srcs.names]\n",
    "loc_lit_m2500s = Quantity(loc_lit_m2500s, 'Msun')"
   ]
  },
  {
   "cell_type": "markdown",
   "id": "0d092564",
   "metadata": {},
   "source": [
    "## Hydrostatic Mass Comparison to Literature"
   ]
  },
  {
   "cell_type": "markdown",
   "id": "6f68ee12",
   "metadata": {},
   "source": []
  },
  {
   "cell_type": "code",
   "execution_count": 5,
   "id": "035973f6",
   "metadata": {
    "scrolled": false
   },
   "outputs": [
    {
     "name": "stdout",
     "output_type": "stream",
     "text": [
      "╒═══════════════════════╤════════════════════════════════════════════════════════════════════════════╕\n",
      "│ Double Beta Profile   │                                                                            │\n",
      "╞═══════════════════════╪════════════════════════════════════════════════════════════════════════════╡\n",
      "│ DESCRIBES             │ Surface Brightness                                                         │\n",
      "├───────────────────────┼────────────────────────────────────────────────────────────────────────────┤\n",
      "│ UNIT                  │ ct / (arcmin2 s)                                                           │\n",
      "├───────────────────────┼────────────────────────────────────────────────────────────────────────────┤\n",
      "│ PARAMETERS            │ beta_one, r_core_one, norm_one, beta_two, r_core_two, norm_two             │\n",
      "├───────────────────────┼────────────────────────────────────────────────────────────────────────────┤\n",
      "│ PARAMETER UNITS       │ , kpc, ct / (arcmin2 s), , kpc, ct / (arcmin2 s)                           │\n",
      "├───────────────────────┼────────────────────────────────────────────────────────────────────────────┤\n",
      "│ AUTHOR                │ placeholder                                                                │\n",
      "├───────────────────────┼────────────────────────────────────────────────────────────────────────────┤\n",
      "│ YEAR                  │ placeholder                                                                │\n",
      "├───────────────────────┼────────────────────────────────────────────────────────────────────────────┤\n",
      "│ PAPER                 │ placeholder                                                                │\n",
      "├───────────────────────┼────────────────────────────────────────────────────────────────────────────┤\n",
      "│ INFO                  │ The double beta profile, a summation of two single beta models. Often      │\n",
      "│                       │  thought to deal better with peaky cluster cores that you might get from a │\n",
      "│                       │  cool-core cluster, this model can be used to describe a galaxy cluster    │\n",
      "│                       │  radial surface brightness profile.                                        │\n",
      "╘═══════════════════════╧════════════════════════════════════════════════════════════════════════════╛\n"
     ]
    },
    {
     "data": {
      "text/plain": [
       "[{'prior': <Quantity [0., 3.]>, 'type': 'uniform'},\n",
       " {'prior': <Quantity [1.e+00, 2.e+03] kpc>, 'type': 'uniform'},\n",
       " {'prior': <Quantity [0., 3.] ct / (arcmin2 s)>, 'type': 'uniform'},\n",
       " {'prior': <Quantity [0., 3.]>, 'type': 'uniform'},\n",
       " {'prior': <Quantity [1.e+00, 2.e+03] kpc>, 'type': 'uniform'},\n",
       " {'prior': <Quantity [0., 3.] ct / (arcmin2 s)>, 'type': 'uniform'}]"
      ]
     },
     "execution_count": 5,
     "metadata": {},
     "output_type": "execute_result"
    }
   ],
   "source": [
    "demo_sb_mod = DoubleBetaProfile1D()\n",
    "demo_sb_mod.info()\n",
    "demo_sb_mod.par_priors"
   ]
  },
  {
   "cell_type": "code",
   "execution_count": 6,
   "id": "6529bdfc",
   "metadata": {},
   "outputs": [
    {
     "name": "stdout",
     "output_type": "stream",
     "text": [
      "╒════════════════════════════════╤═══════════════════════════════════════════════════════════════════════╕\n",
      "│ Simplified Vikhlinin Profile   │                                                                       │\n",
      "╞════════════════════════════════╪═══════════════════════════════════════════════════════════════════════╡\n",
      "│ DESCRIBES                      │ Gas Density                                                           │\n",
      "├────────────────────────────────┼───────────────────────────────────────────────────────────────────────┤\n",
      "│ UNIT                           │ 1 / cm3                                                               │\n",
      "├────────────────────────────────┼───────────────────────────────────────────────────────────────────────┤\n",
      "│ PARAMETERS                     │ beta, r_core, alpha, r_s, epsilon, norm                               │\n",
      "├────────────────────────────────┼───────────────────────────────────────────────────────────────────────┤\n",
      "│ PARAMETER UNITS                │ , kpc, , kpc, , 1 / cm3                                               │\n",
      "├────────────────────────────────┼───────────────────────────────────────────────────────────────────────┤\n",
      "│ AUTHOR                         │ Ghirardini et al.                                                     │\n",
      "├────────────────────────────────┼───────────────────────────────────────────────────────────────────────┤\n",
      "│ YEAR                           │ 2019                                                                  │\n",
      "├────────────────────────────────┼───────────────────────────────────────────────────────────────────────┤\n",
      "│ PAPER                          │ https://doi.org/10.1051/0004-6361/201833325                           │\n",
      "├────────────────────────────────┼───────────────────────────────────────────────────────────────────────┤\n",
      "│ INFO                           │ A simplified form of Vikhlinin's full density model, a type of broken │\n",
      "│                                │  power law that deals well with most galaxy cluster density profile.  │\n",
      "╘════════════════════════════════╧═══════════════════════════════════════════════════════════════════════╛\n"
     ]
    },
    {
     "data": {
      "text/plain": [
       "[{'prior': <Quantity [0., 3.]>, 'type': 'uniform'},\n",
       " {'prior': <Quantity [   0., 2000.] kpc>, 'type': 'uniform'},\n",
       " {'prior': <Quantity [0., 3.]>, 'type': 'uniform'},\n",
       " {'prior': <Quantity [   0., 2000.] kpc>, 'type': 'uniform'},\n",
       " {'prior': <Quantity [0., 5.]>, 'type': 'uniform'},\n",
       " {'prior': <Quantity [ 0., 10.] 1 / cm3>, 'type': 'uniform'}]"
      ]
     },
     "execution_count": 6,
     "metadata": {},
     "output_type": "execute_result"
    }
   ],
   "source": [
    "demo_d_mod = SimpleVikhlininDensity1D(y_unit=Unit(\"1 / cm^3\"))\n",
    "demo_d_mod.info()\n",
    "demo_d_mod.par_priors"
   ]
  },
  {
   "cell_type": "code",
   "execution_count": 7,
   "id": "81ddbae2",
   "metadata": {},
   "outputs": [
    {
     "name": "stdout",
     "output_type": "stream",
     "text": [
      "╒════════════════════════════════╤═════════════════════════════════════════════════════════════════════╕\n",
      "│ Simplified Vikhlinin Profile   │                                                                     │\n",
      "╞════════════════════════════════╪═════════════════════════════════════════════════════════════════════╡\n",
      "│ DESCRIBES                      │ Gas Temperature                                                     │\n",
      "├────────────────────────────────┼─────────────────────────────────────────────────────────────────────┤\n",
      "│ UNIT                           │ keV                                                                 │\n",
      "├────────────────────────────────┼─────────────────────────────────────────────────────────────────────┤\n",
      "│ PARAMETERS                     │ r_cool, a_cool, t_min, t_zero, r_tran, c_power                      │\n",
      "├────────────────────────────────┼─────────────────────────────────────────────────────────────────────┤\n",
      "│ PARAMETER UNITS                │ kpc, , keV, keV, kpc,                                               │\n",
      "├────────────────────────────────┼─────────────────────────────────────────────────────────────────────┤\n",
      "│ AUTHOR                         │ Ghirardini et al.                                                   │\n",
      "├────────────────────────────────┼─────────────────────────────────────────────────────────────────────┤\n",
      "│ YEAR                           │ 2019                                                                │\n",
      "├────────────────────────────────┼─────────────────────────────────────────────────────────────────────┤\n",
      "│ PAPER                          │ https://doi.org/10.1051/0004-6361/201833325                         │\n",
      "├────────────────────────────────┼─────────────────────────────────────────────────────────────────────┤\n",
      "│ INFO                           │ A simplified, 'functional', form of Vikhlinin's temperature model.  │\n",
      "│                                │  This model has 6 free parameters rather than the 9 free parameters │\n",
      "│                                │  of the original                                                    │\n",
      "╘════════════════════════════════╧═════════════════════════════════════════════════════════════════════╛\n"
     ]
    },
    {
     "data": {
      "text/plain": [
       "[{'prior': <Quantity [ 10., 500.] kpc>, 'type': 'uniform'},\n",
       " {'prior': <Quantity [0., 5.]>, 'type': 'uniform'},\n",
       " {'prior': <Quantity [0.1, 6. ] keV>, 'type': 'uniform'},\n",
       " {'prior': <Quantity [ 0.5, 15. ] keV>, 'type': 'uniform'},\n",
       " {'prior': <Quantity [100., 500.] kpc>, 'type': 'uniform'},\n",
       " {'prior': <Quantity [0., 5.]>, 'type': 'uniform'}]"
      ]
     },
     "execution_count": 7,
     "metadata": {},
     "output_type": "execute_result"
    }
   ],
   "source": [
    "demo_t_mod = SimpleVikhlininTemperature1D()\n",
    "demo_t_mod.info()\n",
    "demo_t_mod.par_priors"
   ]
  },
  {
   "cell_type": "markdown",
   "id": "a727a5d5",
   "metadata": {},
   "source": [
    "### Double Beta and Simplified Vikhlinin Density/Temperature Profiles - out to $R_{500}$, cnt$_{\\rm{min}}$=3000"
   ]
  },
  {
   "cell_type": "code",
   "execution_count": 8,
   "id": "368af519",
   "metadata": {},
   "outputs": [
    {
     "name": "stderr",
     "output_type": "stream",
     "text": [
      "Preparing PSF generation commands: 100%|██████████████████████████████████████| 45/45 [00:14<00:00,  3.15it/s]\n",
      "Generating products of type(s) psf: 100%|███████████████████████████████████| 221/221 [00:14<00:00, 15.36it/s]\n",
      "PSF Correcting Observations - Currently complete: 100%|███████████████████████| 45/45 [06:01<00:00,  8.04s/it]\n",
      "Generating products of type(s) image: 100%|███████████████████████████████████| 45/45 [00:03<00:00, 13.18it/s]\n",
      "Generating products of type(s) spectrum: 100%|████████████████████████████████| 34/34 [23:04<00:00, 40.73s/it]\n",
      "Running XSPEC Fits: 100%|███████████████████████████████████████████████████████| 9/9 [00:56<00:00,  6.27s/it]\n",
      "/mnt/pact/dt237/code/PycharmProjects/XGA/xga/sourcetools/temperature.py:291: UserWarning: The requested annuli for ZwCl0104.4+0048 cannot be created, the data quality is too low. As such a set of four annuli will be returned\n",
      "  warn(\"The requested annuli for {s} cannot be created, the data quality is too low. As such a set \"\n",
      "/mnt/pact/dt237/code/PycharmProjects/XGA/xga/sourcetools/temperature.py:291: UserWarning: The requested annuli for ZwCl0857.9+2107 cannot be created, the data quality is too low. As such a set of four annuli will be returned\n",
      "  warn(\"The requested annuli for {s} cannot be created, the data quality is too low. As such a set \"\n",
      "/mnt/pact/dt237/code/PycharmProjects/XGA/xga/sourcetools/temperature.py:291: UserWarning: The requested annuli for Abell2537 cannot be created, the data quality is too low. As such a set of four annuli will be returned\n",
      "  warn(\"The requested annuli for {s} cannot be created, the data quality is too low. As such a set \"\n",
      "/mnt/pact/dt237/code/PycharmProjects/XGA/xga/sourcetools/temperature.py:291: UserWarning: The requested annuli for Abell2631 cannot be created, the data quality is too low. As such a set of four annuli will be returned\n",
      "  warn(\"The requested annuli for {s} cannot be created, the data quality is too low. As such a set \"\n",
      "Generating products of type(s) spectrum: 100%|████████████████████████████| 221/221 [1:18:25<00:00, 21.29s/it]\n",
      "Generating products of type(s) annular spectrum set components: 100%|███| 2559/2559 [2:38:34<00:00,  3.72s/it]\n",
      "Running XSPEC Fits: 100%|███████████████████████████████████████████████████| 444/444 [45:15<00:00,  6.12s/it]\n",
      "/mnt/pact/dt237/code/PycharmProjects/XGA/xga/xspec/run.py:326: UserWarning: Abell1758N annular spectra profile fit was not successful\n",
      "  warnings.warn(\"{src} annular spectra profile fit was not successful\".format(src=ann_spec.src_name))\n",
      "/mnt/pact/dt237/code/PycharmProjects/XGA/xga/xspec/run.py:326: UserWarning: Abell2219 annular spectra profile fit was not successful\n",
      "  warnings.warn(\"{src} annular spectra profile fit was not successful\".format(src=ann_spec.src_name))\n",
      "/mnt/pact/dt237/code/PycharmProjects/XGA/xga/sourcetools/temperature.py:716: UserWarning: {s} doesn't have a matching projected temperature profile, skipping.\n",
      "  warn(\"{s} doesn't have a matching projected temperature profile, skipping.\")\n",
      "/mnt/pact/dt237/code/PycharmProjects/XGA/xga/xspec/run.py:186: UserWarning: All XSPEC operations had already been run.\n",
      "  warnings.warn(\"All XSPEC operations had already been run.\")\n",
      "Running XSPEC Simulations: 100%|██████████████████████████████████████████████| 43/43 [00:14<00:00,  2.97it/s]\n",
      "Fitting data, inverse Abel transforming, and measuring densities:   2%|▏       | 1/43 [00:24<16:59, 24.28s/it]"
     ]
    },
    {
     "name": "stdout",
     "output_type": "stream",
     "text": [
      "The chain is shorter than 50 times the integrated autocorrelation time for 6 parameter(s). Use this estimate with caution and run a longer chain!\n",
      "N/50 = 400;\n",
      "tau: [1250.58654635 1246.08790482 1737.51411708 1499.80291208 1686.99304182\n",
      " 1759.05651537]\n"
     ]
    },
    {
     "name": "stderr",
     "output_type": "stream",
     "text": [
      "\r",
      "Fitting data, inverse Abel transforming, and measuring densities:   5%|▎       | 2/43 [00:51<17:49, 26.07s/it]"
     ]
    },
    {
     "name": "stdout",
     "output_type": "stream",
     "text": [
      "The chain is shorter than 50 times the integrated autocorrelation time for 4 parameter(s). Use this estimate with caution and run a longer chain!\n",
      "N/50 = 400;\n",
      "tau: [396.76596634 317.77758867 437.46500543 427.27389717 412.00830408\n",
      " 441.32018411]\n"
     ]
    },
    {
     "name": "stderr",
     "output_type": "stream",
     "text": [
      "\r",
      "Fitting data, inverse Abel transforming, and measuring densities:   7%|▌       | 3/43 [01:16<16:56, 25.42s/it]"
     ]
    },
    {
     "name": "stdout",
     "output_type": "stream",
     "text": [
      "The chain is shorter than 50 times the integrated autocorrelation time for 6 parameter(s). Use this estimate with caution and run a longer chain!\n",
      "N/50 = 400;\n",
      "tau: [1747.29876329  676.81911509 1935.9089884  1589.93484202 1859.27524011\n",
      " 1905.17580122]\n"
     ]
    },
    {
     "name": "stderr",
     "output_type": "stream",
     "text": [
      "\r",
      "Fitting data, inverse Abel transforming, and measuring densities:   9%|▋       | 4/43 [01:38<15:42, 24.16s/it]"
     ]
    },
    {
     "name": "stdout",
     "output_type": "stream",
     "text": [
      "The chain is shorter than 50 times the integrated autocorrelation time for 6 parameter(s). Use this estimate with caution and run a longer chain!\n",
      "N/50 = 400;\n",
      "tau: [ 749.8880513  1970.06487777 1698.76681351 1769.20998261 1833.10100652\n",
      " 1974.31274741]\n"
     ]
    },
    {
     "name": "stderr",
     "output_type": "stream",
     "text": [
      "\r",
      "Fitting data, inverse Abel transforming, and measuring densities:  12%|▉       | 5/43 [02:02<15:20, 24.23s/it]"
     ]
    },
    {
     "name": "stdout",
     "output_type": "stream",
     "text": [
      "The chain is shorter than 50 times the integrated autocorrelation time for 3 parameter(s). Use this estimate with caution and run a longer chain!\n",
      "N/50 = 400;\n",
      "tau: [498.40862254 676.91832001 321.66623507 231.58434358 459.50696112\n",
      " 355.99547585]\n"
     ]
    },
    {
     "name": "stderr",
     "output_type": "stream",
     "text": [
      "\r",
      "Fitting data, inverse Abel transforming, and measuring densities:  14%|█       | 6/43 [02:27<15:02, 24.39s/it]"
     ]
    },
    {
     "name": "stdout",
     "output_type": "stream",
     "text": [
      "The chain is shorter than 50 times the integrated autocorrelation time for 6 parameter(s). Use this estimate with caution and run a longer chain!\n",
      "N/50 = 400;\n",
      "tau: [535.12038472 494.09360296 896.58739879 499.72615726 901.89381784\n",
      " 900.31924374]\n"
     ]
    },
    {
     "name": "stderr",
     "output_type": "stream",
     "text": [
      "\r",
      "Fitting data, inverse Abel transforming, and measuring densities:  16%|█▎      | 7/43 [02:54<15:03, 25.10s/it]"
     ]
    },
    {
     "name": "stdout",
     "output_type": "stream",
     "text": [
      "The chain is shorter than 50 times the integrated autocorrelation time for 5 parameter(s). Use this estimate with caution and run a longer chain!\n",
      "N/50 = 400;\n",
      "tau: [270.7348263  779.99799482 642.59051098 462.54017327 622.31768877\n",
      " 555.37670904]\n"
     ]
    },
    {
     "name": "stderr",
     "output_type": "stream",
     "text": [
      "\r",
      "Fitting data, inverse Abel transforming, and measuring densities:  19%|█▍      | 8/43 [03:18<14:31, 24.89s/it]"
     ]
    },
    {
     "name": "stdout",
     "output_type": "stream",
     "text": [
      "The chain is shorter than 50 times the integrated autocorrelation time for 4 parameter(s). Use this estimate with caution and run a longer chain!\n",
      "N/50 = 400;\n",
      "tau: [ 303.75674105  306.28539038 1942.81933534 1860.52092679 1907.74428031\n",
      " 1829.34203773]\n"
     ]
    },
    {
     "name": "stderr",
     "output_type": "stream",
     "text": [
      "\r",
      "Fitting data, inverse Abel transforming, and measuring densities:  21%|█▋      | 9/43 [03:46<14:37, 25.81s/it]"
     ]
    },
    {
     "name": "stdout",
     "output_type": "stream",
     "text": [
      "The chain is shorter than 50 times the integrated autocorrelation time for 3 parameter(s). Use this estimate with caution and run a longer chain!\n",
      "N/50 = 400;\n",
      "tau: [457.82825718 446.46669932 370.5950577  356.32113517 377.20521478\n",
      " 411.94185186]\n"
     ]
    },
    {
     "name": "stderr",
     "output_type": "stream",
     "text": [
      "Fitting data, inverse Abel transforming, and measuring densities:  28%|█▉     | 12/43 [05:06<13:40, 26.47s/it]"
     ]
    },
    {
     "name": "stdout",
     "output_type": "stream",
     "text": [
      "The chain is shorter than 50 times the integrated autocorrelation time for 6 parameter(s). Use this estimate with caution and run a longer chain!\n",
      "N/50 = 400;\n",
      "tau: [944.28429044 931.06165186 924.84856515 804.63495249 839.3584137\n",
      " 926.36665309]\n"
     ]
    },
    {
     "name": "stderr",
     "output_type": "stream",
     "text": [
      "\r",
      "Fitting data, inverse Abel transforming, and measuring densities:  30%|██     | 13/43 [05:30<12:52, 25.76s/it]"
     ]
    },
    {
     "name": "stdout",
     "output_type": "stream",
     "text": [
      "The chain is shorter than 50 times the integrated autocorrelation time for 6 parameter(s). Use this estimate with caution and run a longer chain!\n",
      "N/50 = 400;\n",
      "tau: [1087.99212993  678.17248394 1876.68650344 1642.58966526 1857.34672501\n",
      " 1829.9592064 ]\n"
     ]
    },
    {
     "name": "stderr",
     "output_type": "stream",
     "text": [
      "\r",
      "Fitting data, inverse Abel transforming, and measuring densities:  33%|██▎    | 14/43 [05:55<12:21, 25.58s/it]"
     ]
    },
    {
     "name": "stdout",
     "output_type": "stream",
     "text": [
      "The chain is shorter than 50 times the integrated autocorrelation time for 6 parameter(s). Use this estimate with caution and run a longer chain!\n",
      "N/50 = 400;\n",
      "tau: [1407.74622446  873.09290965 1425.23828058 1493.67677634 1556.62349228\n",
      " 1540.68640029]\n"
     ]
    },
    {
     "name": "stderr",
     "output_type": "stream",
     "text": [
      "\r",
      "Fitting data, inverse Abel transforming, and measuring densities:  35%|██▍    | 15/43 [06:21<11:57, 25.61s/it]"
     ]
    },
    {
     "name": "stdout",
     "output_type": "stream",
     "text": [
      "The chain is shorter than 50 times the integrated autocorrelation time for 6 parameter(s). Use this estimate with caution and run a longer chain!\n",
      "N/50 = 400;\n",
      "tau: [771.39942533 794.35086437 751.68000745 832.39272355 869.29850086\n",
      " 841.72178025]\n"
     ]
    },
    {
     "name": "stderr",
     "output_type": "stream",
     "text": [
      "\r",
      "Fitting data, inverse Abel transforming, and measuring densities:  37%|██▌    | 16/43 [06:46<11:28, 25.51s/it]"
     ]
    },
    {
     "name": "stdout",
     "output_type": "stream",
     "text": [
      "The chain is shorter than 50 times the integrated autocorrelation time for 6 parameter(s). Use this estimate with caution and run a longer chain!\n",
      "N/50 = 400;\n",
      "tau: [1336.59177442  905.33411021 1562.19505084 1211.70062501 1380.58551053\n",
      " 1561.68991588]\n"
     ]
    },
    {
     "name": "stderr",
     "output_type": "stream",
     "text": [
      "\r",
      "Fitting data, inverse Abel transforming, and measuring densities:  40%|██▊    | 17/43 [07:12<11:02, 25.49s/it]"
     ]
    },
    {
     "name": "stdout",
     "output_type": "stream",
     "text": [
      "The chain is shorter than 50 times the integrated autocorrelation time for 6 parameter(s). Use this estimate with caution and run a longer chain!\n",
      "N/50 = 400;\n",
      "tau: [ 596.94179652  460.42284942 1790.5455271  1377.53943058 1464.03998314\n",
      " 1616.30996724]\n"
     ]
    },
    {
     "name": "stderr",
     "output_type": "stream",
     "text": [
      "/its/home/dt237/.conda/envs/dev_xga/lib/python3.8/site-packages/astropy/units/quantity.py:477: RuntimeWarning: invalid value encountered in sqrt\n",
      "  result = super().__array_ufunc__(function, method, *arrays, **kwargs)\n",
      "/mnt/pact/dt237/code/PycharmProjects/XGA/xga/sourcetools/density.py:531: UserWarning: One or more of the quantities passed to the init of Abell0781's density profile has a NaN or Inf value in it.\n",
      "  warn(\"One or more of the quantities passed to the init of {}'s density profile has a NaN or Inf value\"\n",
      "\r",
      "Fitting data, inverse Abel transforming, and measuring densities:  42%|██▉    | 18/43 [07:35<10:21, 24.84s/it]"
     ]
    },
    {
     "name": "stdout",
     "output_type": "stream",
     "text": [
      "The chain is shorter than 50 times the integrated autocorrelation time for 6 parameter(s). Use this estimate with caution and run a longer chain!\n",
      "N/50 = 400;\n",
      "tau: [ 474.30822269  850.16614869 2112.43582941 2496.83907056 2474.90628711\n",
      " 2049.17729021]\n"
     ]
    },
    {
     "name": "stderr",
     "output_type": "stream",
     "text": [
      "Fitting data, inverse Abel transforming, and measuring densities:  49%|███▍   | 21/43 [08:59<09:53, 27.00s/it]"
     ]
    },
    {
     "name": "stdout",
     "output_type": "stream",
     "text": [
      "The chain is shorter than 50 times the integrated autocorrelation time for 3 parameter(s). Use this estimate with caution and run a longer chain!\n",
      "N/50 = 400;\n",
      "tau: [458.99315625 445.53617281 368.29838497 370.31670198 388.39118793\n",
      " 427.96723149]\n"
     ]
    },
    {
     "name": "stderr",
     "output_type": "stream",
     "text": [
      "\r",
      "Fitting data, inverse Abel transforming, and measuring densities:  51%|███▌   | 22/43 [09:28<09:38, 27.55s/it]"
     ]
    },
    {
     "name": "stdout",
     "output_type": "stream",
     "text": [
      "The chain is shorter than 50 times the integrated autocorrelation time for 5 parameter(s). Use this estimate with caution and run a longer chain!\n",
      "N/50 = 400;\n",
      "tau: [ 869.36521032  243.60057364 1929.66363834 1621.8493235  1405.51391043\n",
      " 1926.91250045]\n"
     ]
    },
    {
     "name": "stderr",
     "output_type": "stream",
     "text": [
      "Fitting data, inverse Abel transforming, and measuring densities:  56%|███▉   | 24/43 [10:16<08:11, 25.86s/it]"
     ]
    },
    {
     "name": "stdout",
     "output_type": "stream",
     "text": [
      "The chain is shorter than 50 times the integrated autocorrelation time for 6 parameter(s). Use this estimate with caution and run a longer chain!\n",
      "N/50 = 400;\n",
      "tau: [ 830.65229341  910.57008077 1978.03890494 1195.13929806 1499.89645471\n",
      " 1949.016262  ]\n"
     ]
    },
    {
     "name": "stderr",
     "output_type": "stream",
     "text": [
      "Fitting data, inverse Abel transforming, and measuring densities:  60%|████▏  | 26/43 [11:11<07:29, 26.45s/it]"
     ]
    },
    {
     "name": "stdout",
     "output_type": "stream",
     "text": [
      "The chain is shorter than 50 times the integrated autocorrelation time for 6 parameter(s). Use this estimate with caution and run a longer chain!\n",
      "N/50 = 400;\n",
      "tau: [ 709.49346829  707.64368015 1380.39628318 1214.85962398 1045.78595269\n",
      " 1123.15310043]\n"
     ]
    },
    {
     "name": "stderr",
     "output_type": "stream",
     "text": [
      "Fitting data, inverse Abel transforming, and measuring densities:  67%|████▋  | 29/43 [12:32<06:16, 26.86s/it]"
     ]
    },
    {
     "name": "stdout",
     "output_type": "stream",
     "text": [
      "The chain is shorter than 50 times the integrated autocorrelation time for 6 parameter(s). Use this estimate with caution and run a longer chain!\n",
      "N/50 = 400;\n",
      "tau: [866.16821818 877.08612632 806.72908871 670.93033679 737.96990643\n",
      " 818.21738383]\n"
     ]
    },
    {
     "name": "stderr",
     "output_type": "stream",
     "text": [
      "Fitting data, inverse Abel transforming, and measuring densities:  72%|█████  | 31/43 [13:24<05:14, 26.25s/it]"
     ]
    },
    {
     "name": "stdout",
     "output_type": "stream",
     "text": [
      "The chain is shorter than 50 times the integrated autocorrelation time for 6 parameter(s). Use this estimate with caution and run a longer chain!\n",
      "N/50 = 400;\n",
      "tau: [ 477.84905839  811.14512362 1461.61830389 1278.52570064 1190.5978122\n",
      " 1496.39247953]\n"
     ]
    },
    {
     "name": "stderr",
     "output_type": "stream",
     "text": [
      "Fitting data, inverse Abel transforming, and measuring densities:  77%|█████▎ | 33/43 [14:15<04:17, 25.78s/it]"
     ]
    },
    {
     "name": "stdout",
     "output_type": "stream",
     "text": [
      "The chain is shorter than 50 times the integrated autocorrelation time for 6 parameter(s). Use this estimate with caution and run a longer chain!\n",
      "N/50 = 400;\n",
      "tau: [1066.30977993  853.21463962 1086.54998758 1153.98247174 1184.09812009\n",
      " 1171.36836592]\n"
     ]
    },
    {
     "name": "stderr",
     "output_type": "stream",
     "text": [
      "Fitting data, inverse Abel transforming, and measuring densities:  93%|██████▌| 40/43 [17:24<01:18, 26.25s/it]"
     ]
    },
    {
     "name": "stdout",
     "output_type": "stream",
     "text": [
      "The chain is shorter than 50 times the integrated autocorrelation time for 6 parameter(s). Use this estimate with caution and run a longer chain!\n",
      "N/50 = 400;\n",
      "tau: [1204.85739442  795.34418958 1259.58793866  987.18820865 1187.79907604\n",
      " 1269.38585664]\n"
     ]
    },
    {
     "name": "stderr",
     "output_type": "stream",
     "text": [
      "\r",
      "Fitting data, inverse Abel transforming, and measuring densities:  95%|██████▋| 41/43 [17:50<00:52, 26.22s/it]"
     ]
    },
    {
     "name": "stdout",
     "output_type": "stream",
     "text": [
      "The chain is shorter than 50 times the integrated autocorrelation time for 4 parameter(s). Use this estimate with caution and run a longer chain!\n",
      "N/50 = 400;\n",
      "tau: [440.0800216  453.15047977 479.82626837 265.21513607 344.97387967\n",
      " 483.06720162]\n"
     ]
    },
    {
     "name": "stderr",
     "output_type": "stream",
     "text": [
      "\r",
      "Fitting data, inverse Abel transforming, and measuring densities:  98%|██████▊| 42/43 [18:14<00:25, 25.52s/it]"
     ]
    },
    {
     "name": "stdout",
     "output_type": "stream",
     "text": [
      "The chain is shorter than 50 times the integrated autocorrelation time for 6 parameter(s). Use this estimate with caution and run a longer chain!\n",
      "N/50 = 400;\n",
      "tau: [ 920.34696179  890.05977039 1329.68875264 1402.5402858  1291.82515926\n",
      " 1314.30971249]\n"
     ]
    },
    {
     "name": "stderr",
     "output_type": "stream",
     "text": [
      "Fitting data, inverse Abel transforming, and measuring densities: 100%|███████| 43/43 [18:37<00:00, 25.98s/it]\n"
     ]
    },
    {
     "name": "stdout",
     "output_type": "stream",
     "text": [
      "The chain is shorter than 50 times the integrated autocorrelation time for 6 parameter(s). Use this estimate with caution and run a longer chain!\n",
      "N/50 = 400;\n",
      "tau: [ 799.71605121  480.93124253 2020.79010752 1919.49081154 1673.26829344\n",
      " 1954.99991275]\n"
     ]
    },
    {
     "name": "stderr",
     "output_type": "stream",
     "text": [
      "Generating Abell2697 hydrostatic mass profile:   0%|                                   | 0/45 [00:00<?, ?it/s]"
     ]
    },
    {
     "name": "stdout",
     "output_type": "stream",
     "text": [
      "The chain is shorter than 50 times the integrated autocorrelation time for 4 parameter(s). Use this estimate with caution and run a longer chain!\n",
      "N/50 = 400;\n",
      "tau: [607.36960182 908.12731356 416.96028116 809.72830931 324.25484583\n",
      " 334.34077792]\n",
      "The chain is shorter than 50 times the integrated autocorrelation time for 2 parameter(s). Use this estimate with caution and run a longer chain!\n",
      "N/50 = 400;\n",
      "tau: [109.62099991 162.67747053 989.54704609 114.60527087 107.71333108\n",
      " 489.36031939]\n"
     ]
    },
    {
     "name": "stderr",
     "output_type": "stream",
     "text": [
      "Generating Abell0068 hydrostatic mass profile:   2%|▌                          | 1/45 [00:47<34:55, 47.62s/it]"
     ]
    },
    {
     "name": "stdout",
     "output_type": "stream",
     "text": [
      "The chain is shorter than 50 times the integrated autocorrelation time for 2 parameter(s). Use this estimate with caution and run a longer chain!\n",
      "N/50 = 400;\n",
      "tau: [387.7090716  609.98544507 255.96595034 629.49242901 310.9487222\n",
      " 253.25563147]\n"
     ]
    },
    {
     "name": "stderr",
     "output_type": "stream",
     "text": [
      "Generating Abell2813 hydrostatic mass profile:   4%|█▏                         | 2/45 [01:38<35:27, 49.47s/it]"
     ]
    },
    {
     "name": "stdout",
     "output_type": "stream",
     "text": [
      "The chain is shorter than 50 times the integrated autocorrelation time for 2 parameter(s). Use this estimate with caution and run a longer chain!\n",
      "N/50 = 400;\n",
      "tau: [214.19034549 342.93238219 687.29341649 139.03311386 189.94948904\n",
      " 453.14760505]\n",
      "The chain is shorter than 50 times the integrated autocorrelation time for 2 parameter(s). Use this estimate with caution and run a longer chain!\n",
      "N/50 = 400;\n",
      "tau: [387.56418349 754.27100475 372.55149991 454.76236227 262.98007809\n",
      " 244.00817887]\n",
      "The chain is shorter than 50 times the integrated autocorrelation time for 2 parameter(s). Use this estimate with caution and run a longer chain!\n",
      "N/50 = 400;\n",
      "tau: [ 109.44782263  174.93546217 1318.54005265  113.10724079  104.87748088\n",
      "  730.56408744]\n"
     ]
    },
    {
     "name": "stderr",
     "output_type": "stream",
     "text": [
      "Generating Abell0115S hydrostatic mass profile:   7%|█▋                        | 3/45 [02:26<34:02, 48.64s/it]"
     ]
    },
    {
     "name": "stdout",
     "output_type": "stream",
     "text": [
      "The chain is shorter than 50 times the integrated autocorrelation time for 5 parameter(s). Use this estimate with caution and run a longer chain!\n",
      "N/50 = 400;\n",
      "tau: [779.1644188  811.0483588  888.96921486 590.19013671 276.50621248\n",
      " 880.52943319]\n"
     ]
    },
    {
     "name": "stderr",
     "output_type": "stream",
     "text": [
      "Generating Abell141 hydrostatic mass profile:   9%|██▍                         | 4/45 [03:12<32:42, 47.85s/it]"
     ]
    },
    {
     "name": "stdout",
     "output_type": "stream",
     "text": [
      "The chain is shorter than 50 times the integrated autocorrelation time for 1 parameter(s). Use this estimate with caution and run a longer chain!\n",
      "N/50 = 400;\n",
      "tau: [105.19995272 179.67893445 530.21157611 103.7684504  134.6926702\n",
      " 179.70881947]\n"
     ]
    },
    {
     "name": "stderr",
     "output_type": "stream",
     "text": [
      "Generating Abell0209 hydrostatic mass profile:  13%|███▌                       | 6/45 [04:45<30:34, 47.03s/it]"
     ]
    },
    {
     "name": "stdout",
     "output_type": "stream",
     "text": [
      "The chain is shorter than 50 times the integrated autocorrelation time for 1 parameter(s). Use this estimate with caution and run a longer chain!\n",
      "N/50 = 400;\n",
      "tau: [211.07123265 147.84133897 382.37936045 437.44678393 325.19462874\n",
      " 124.12060657]\n",
      "The chain is shorter than 50 times the integrated autocorrelation time for 3 parameter(s). Use this estimate with caution and run a longer chain!\n",
      "N/50 = 400;\n",
      "tau: [397.00795624 454.05697468 653.94988551 298.18825297 375.79803456\n",
      " 483.13349089]\n"
     ]
    },
    {
     "name": "stderr",
     "output_type": "stream",
     "text": [
      "Generating Abell0267 hydrostatic mass profile:  16%|████▏                      | 7/45 [05:37<30:40, 48.42s/it]"
     ]
    },
    {
     "name": "stdout",
     "output_type": "stream",
     "text": [
      "The chain is shorter than 50 times the integrated autocorrelation time for 1 parameter(s). Use this estimate with caution and run a longer chain!\n",
      "N/50 = 400;\n",
      "tau: [362.23268107 369.69690421 466.92352377 309.7996204  218.69453753\n",
      " 287.37682532]\n"
     ]
    },
    {
     "name": "stderr",
     "output_type": "stream",
     "text": [
      "Generating Abell0291 hydrostatic mass profile:  18%|████▊                      | 8/45 [06:25<29:46, 48.28s/it]"
     ]
    },
    {
     "name": "stdout",
     "output_type": "stream",
     "text": [
      "The chain is shorter than 50 times the integrated autocorrelation time for 1 parameter(s). Use this estimate with caution and run a longer chain!\n",
      "N/50 = 400;\n",
      "tau: [ 95.64315242 100.28068249 782.54548465  97.77583034 120.3534611\n",
      " 106.17364171]\n"
     ]
    },
    {
     "name": "stderr",
     "output_type": "stream",
     "text": [
      "Generating Abell0383 hydrostatic mass profile:  20%|█████▍                     | 9/45 [07:15<29:15, 48.76s/it]"
     ]
    },
    {
     "name": "stdout",
     "output_type": "stream",
     "text": [
      "The chain is shorter than 50 times the integrated autocorrelation time for 5 parameter(s). Use this estimate with caution and run a longer chain!\n",
      "N/50 = 400;\n",
      "tau: [733.17338078 847.34186153 467.37134624 592.29369526 394.97969782\n",
      " 442.3430912 ]\n"
     ]
    },
    {
     "name": "stderr",
     "output_type": "stream",
     "text": [
      "Generating Abell0521 hydrostatic mass profile:  22%|█████▊                    | 10/45 [08:06<28:56, 49.60s/it]"
     ]
    },
    {
     "name": "stdout",
     "output_type": "stream",
     "text": [
      "The chain is shorter than 50 times the integrated autocorrelation time for 1 parameter(s). Use this estimate with caution and run a longer chain!\n",
      "N/50 = 400;\n",
      "tau: [ 80.46070475  84.19653072 972.60082803  95.75235344  94.55489033\n",
      "  86.19167972]\n",
      "The chain is shorter than 50 times the integrated autocorrelation time for 2 parameter(s). Use this estimate with caution and run a longer chain!\n",
      "N/50 = 400;\n",
      "tau: [341.6773475  469.0836895  386.31037254 471.99524128 309.36616565\n",
      " 249.12353665]\n",
      "The chain is shorter than 50 times the integrated autocorrelation time for 6 parameter(s). Use this estimate with caution and run a longer chain!\n",
      "N/50 = 400;\n",
      "tau: [1522.25196127 1476.94871765 1133.19160834 1195.41101957 1444.44998219\n",
      " 1135.19639209]\n"
     ]
    },
    {
     "name": "stderr",
     "output_type": "stream",
     "text": [
      "Generating Abell0586 hydrostatic mass profile:  24%|██████▎                   | 11/45 [08:54<27:46, 49.02s/it]"
     ]
    },
    {
     "name": "stdout",
     "output_type": "stream",
     "text": [
      "The chain is shorter than 50 times the integrated autocorrelation time for 3 parameter(s). Use this estimate with caution and run a longer chain!\n",
      "N/50 = 400;\n",
      "tau: [ 448.87652964  668.54896912 1008.65074642  335.30750907  304.12512148\n",
      "  390.53162527]\n",
      "The chain is shorter than 50 times the integrated autocorrelation time for 1 parameter(s). Use this estimate with caution and run a longer chain!\n",
      "N/50 = 400;\n",
      "tau: [ 98.00521703 101.6136606  432.68522872 106.75739832 133.47029963\n",
      " 102.2010761 ]\n"
     ]
    },
    {
     "name": "stderr",
     "output_type": "stream",
     "text": [
      "Generating Abell0611 hydrostatic mass profile:  27%|██████▉                   | 12/45 [09:43<27:03, 49.19s/it]"
     ]
    },
    {
     "name": "stdout",
     "output_type": "stream",
     "text": [
      "The chain is shorter than 50 times the integrated autocorrelation time for 3 parameter(s). Use this estimate with caution and run a longer chain!\n",
      "N/50 = 400;\n",
      "tau: [350.22940667 883.44055333 609.94145287 615.0053142  379.77522959\n",
      " 361.95276314]\n",
      "The chain is shorter than 50 times the integrated autocorrelation time for 1 parameter(s). Use this estimate with caution and run a longer chain!\n",
      "N/50 = 400;\n",
      "tau: [ 146.01511728  174.25019437 1094.81219713  132.26731454  118.94048604\n",
      "  203.98731847]\n"
     ]
    },
    {
     "name": "stderr",
     "output_type": "stream",
     "text": [
      "Generating Abell0697 hydrostatic mass profile:  29%|███████▌                  | 13/45 [10:30<25:54, 48.56s/it]"
     ]
    },
    {
     "name": "stdout",
     "output_type": "stream",
     "text": [
      "The chain is shorter than 50 times the integrated autocorrelation time for 3 parameter(s). Use this estimate with caution and run a longer chain!\n",
      "N/50 = 400;\n",
      "tau: [ 472.13497961 1060.43725288  337.53209349  951.59187015  334.04948904\n",
      "  288.43622271]\n",
      "The chain is shorter than 50 times the integrated autocorrelation time for 2 parameter(s). Use this estimate with caution and run a longer chain!\n",
      "N/50 = 400;\n",
      "tau: [ 114.29872238  193.55358869 1343.88806068  105.86506977  108.88480589\n",
      "  919.59649051]\n"
     ]
    },
    {
     "name": "stderr",
     "output_type": "stream",
     "text": [
      "Generating ZwCl0857.9+2107 hydrostatic mass profile:  31%|██████▏             | 14/45 [11:19<25:04, 48.54s/it]"
     ]
    },
    {
     "name": "stdout",
     "output_type": "stream",
     "text": [
      "The chain is shorter than 50 times the integrated autocorrelation time for 6 parameter(s). Use this estimate with caution and run a longer chain!\n",
      "N/50 = 400;\n",
      "tau: [ 721.3892883  1849.80106858  865.33155388 1201.5529923   500.25346353\n",
      " 1194.83601326]\n"
     ]
    },
    {
     "name": "stderr",
     "output_type": "stream",
     "text": [
      "Generating Abell0750 hydrostatic mass profile:  33%|████████▋                 | 15/45 [12:06<24:05, 48.17s/it]"
     ]
    },
    {
     "name": "stdout",
     "output_type": "stream",
     "text": [
      "The chain is shorter than 50 times the integrated autocorrelation time for 1 parameter(s). Use this estimate with caution and run a longer chain!\n",
      "N/50 = 400;\n",
      "tau: [  88.38530716  103.83991296 1010.58591467   91.77286655   92.22410117\n",
      "  103.59094258]\n",
      "The chain is shorter than 50 times the integrated autocorrelation time for 5 parameter(s). Use this estimate with caution and run a longer chain!\n",
      "N/50 = 400;\n",
      "tau: [ 488.63416282 1210.70547158 1464.49765222  435.60949288  276.74005517\n",
      "  425.66874905]\n",
      "The chain is shorter than 50 times the integrated autocorrelation time for 6 parameter(s). Use this estimate with caution and run a longer chain!\n",
      "N/50 = 400;\n",
      "tau: [1817.14747568 2037.83590545 2199.38440044 1496.99407605 1205.14765813\n",
      " 2177.02439541]\n"
     ]
    },
    {
     "name": "stderr",
     "output_type": "stream",
     "text": [
      "Generating Abell0773 hydrostatic mass profile:  36%|█████████▏                | 16/45 [12:57<23:36, 48.83s/it]"
     ]
    },
    {
     "name": "stdout",
     "output_type": "stream",
     "text": [
      "The chain is shorter than 50 times the integrated autocorrelation time for 3 parameter(s). Use this estimate with caution and run a longer chain!\n",
      "N/50 = 400;\n",
      "tau: [601.80755868 843.44082113 382.09106047 745.33309855 355.55032992\n",
      " 293.82836444]\n",
      "The chain is shorter than 50 times the integrated autocorrelation time for 1 parameter(s). Use this estimate with caution and run a longer chain!\n",
      "N/50 = 400;\n",
      "tau: [  90.0605188    92.79917377 1061.84786914  103.92687549  120.79086926\n",
      "   99.18761808]\n"
     ]
    },
    {
     "name": "stderr",
     "output_type": "stream",
     "text": [
      "Generating Abell0781 hydrostatic mass profile:  38%|█████████▊                | 17/45 [13:44<22:39, 48.54s/it]/mnt/pact/dt237/code/PycharmProjects/XGA/xga/sourcetools/mass.py:240: UserWarning: The density profile for Abell0781 could not be generated\n",
      "  warn(\"The density profile for {} could not be generated\".format(src.name))\n",
      "Generating Abell0901 hydrostatic mass profile:  40%|██████████▍               | 18/45 [13:44<21:50, 48.54s/it]"
     ]
    },
    {
     "name": "stdout",
     "output_type": "stream",
     "text": [
      "The chain is shorter than 50 times the integrated autocorrelation time for 5 parameter(s). Use this estimate with caution and run a longer chain!\n",
      "N/50 = 400;\n",
      "tau: [512.94183889 577.48505599 423.89803617 569.00053613 365.67437228\n",
      " 403.81570416]\n"
     ]
    },
    {
     "name": "stderr",
     "output_type": "stream",
     "text": [
      "Generating Abell0907 hydrostatic mass profile:  42%|██████████▉               | 19/45 [14:36<16:26, 37.94s/it]"
     ]
    },
    {
     "name": "stdout",
     "output_type": "stream",
     "text": [
      "The chain is shorter than 50 times the integrated autocorrelation time for 1 parameter(s). Use this estimate with caution and run a longer chain!\n",
      "N/50 = 400;\n",
      "tau: [  77.02529677   78.73156241 1148.1105084    79.04028963   80.19374643\n",
      "   81.98081387]\n"
     ]
    },
    {
     "name": "stderr",
     "output_type": "stream",
     "text": [
      "Generating Abell0963 hydrostatic mass profile:  44%|███████████▌              | 20/45 [15:28<17:20, 41.64s/it]"
     ]
    },
    {
     "name": "stdout",
     "output_type": "stream",
     "text": [
      "The chain is shorter than 50 times the integrated autocorrelation time for 2 parameter(s). Use this estimate with caution and run a longer chain!\n",
      "N/50 = 400;\n",
      "tau: [331.35403447 477.84710338 662.87454131 380.65158788 317.37887681\n",
      " 302.23174698]\n",
      "The chain is shorter than 50 times the integrated autocorrelation time for 1 parameter(s). Use this estimate with caution and run a longer chain!\n",
      "N/50 = 400;\n",
      "tau: [102.85883418 108.8757366  713.3063324   99.34528242 115.14574352\n",
      " 109.58666753]\n"
     ]
    },
    {
     "name": "stderr",
     "output_type": "stream",
     "text": [
      "Generating ZwCl1021.0+0426 hydrostatic mass profile:  47%|█████████▎          | 21/45 [16:16<17:16, 43.19s/it]"
     ]
    },
    {
     "name": "stdout",
     "output_type": "stream",
     "text": [
      "The chain is shorter than 50 times the integrated autocorrelation time for 6 parameter(s). Use this estimate with caution and run a longer chain!\n",
      "N/50 = 400;\n",
      "tau: [ 912.10845519 1144.79221551  754.76156777  839.35694796  472.52209098\n",
      "  636.12556264]\n",
      "The chain is shorter than 50 times the integrated autocorrelation time for 1 parameter(s). Use this estimate with caution and run a longer chain!\n",
      "N/50 = 400;\n",
      "tau: [ 73.35075673  82.00681094 593.98671416  77.94084718 133.49328859\n",
      "  64.11064434]\n"
     ]
    },
    {
     "name": "stderr",
     "output_type": "stream",
     "text": [
      "Generating Abell1451 hydrostatic mass profile:  49%|████████████▋             | 22/45 [17:05<17:09, 44.76s/it]"
     ]
    },
    {
     "name": "stdout",
     "output_type": "stream",
     "text": [
      "The chain is shorter than 50 times the integrated autocorrelation time for 3 parameter(s). Use this estimate with caution and run a longer chain!\n",
      "N/50 = 400;\n",
      "tau: [450.95774284 765.52443745 298.8272847  553.16306194 322.72485708\n",
      " 258.18789575]\n",
      "The chain is shorter than 50 times the integrated autocorrelation time for 1 parameter(s). Use this estimate with caution and run a longer chain!\n",
      "N/50 = 400;\n",
      "tau: [  92.91108076   97.23775005 1244.19588927   96.36398557  142.39666454\n",
      "  154.07039612]\n"
     ]
    },
    {
     "name": "stderr",
     "output_type": "stream",
     "text": [
      "Generating ZwCl1231.4+1007 hydrostatic mass profile:  51%|██████████▏         | 23/45 [17:54<16:51, 45.97s/it]/mnt/pact/dt237/code/PycharmProjects/XGA/xga/sourcetools/mass.py:234: UserWarning: A mass of less than zero was measured by a hydrostatic mass profile, this is not physical and the profile is not valid.\n",
      "  warn(\"A mass of less than zero was measured by a hydrostatic mass profile, this is not physical\"\n",
      "Generating Abell1689 hydrostatic mass profile:  53%|█████████████▊            | 24/45 [18:43<16:24, 46.90s/it]"
     ]
    },
    {
     "name": "stdout",
     "output_type": "stream",
     "text": [
      "The chain is shorter than 50 times the integrated autocorrelation time for 3 parameter(s). Use this estimate with caution and run a longer chain!\n",
      "N/50 = 400;\n",
      "tau: [491.00164069 482.88228369 203.99325286 460.59072807 362.94766241\n",
      " 253.85326811]\n",
      "The chain is shorter than 50 times the integrated autocorrelation time for 1 parameter(s). Use this estimate with caution and run a longer chain!\n",
      "N/50 = 400;\n",
      "tau: [ 78.8042591   84.65223848 684.1988787   79.65773398  82.82721878\n",
      "  88.92225382]\n"
     ]
    },
    {
     "name": "stderr",
     "output_type": "stream",
     "text": [
      "Generating Abell1763 hydrostatic mass profile:  58%|███████████████           | 26/45 [19:37<15:27, 48.80s/it]"
     ]
    },
    {
     "name": "stdout",
     "output_type": "stream",
     "text": [
      "The chain is shorter than 50 times the integrated autocorrelation time for 3 parameter(s). Use this estimate with caution and run a longer chain!\n",
      "N/50 = 400;\n",
      "tau: [537.84816612 972.57199401 333.28324962 766.44747784 362.35923966\n",
      " 398.37835226]\n"
     ]
    },
    {
     "name": "stderr",
     "output_type": "stream",
     "text": [
      "Generating Abell1835 hydrostatic mass profile:  60%|███████████████▌          | 27/45 [20:25<11:16, 37.59s/it]"
     ]
    },
    {
     "name": "stdout",
     "output_type": "stream",
     "text": [
      "The chain is shorter than 50 times the integrated autocorrelation time for 1 parameter(s). Use this estimate with caution and run a longer chain!\n",
      "N/50 = 400;\n",
      "tau: [ 94.03550339  96.9708434  680.52346695 103.71080554 110.35519995\n",
      "  99.44928685]\n",
      "The chain is shorter than 50 times the integrated autocorrelation time for 5 parameter(s). Use this estimate with caution and run a longer chain!\n",
      "N/50 = 400;\n",
      "tau: [773.57341045 811.63067818 633.19869357 942.54644384 300.26734437\n",
      " 801.16322336]\n"
     ]
    },
    {
     "name": "stderr",
     "output_type": "stream",
     "text": [
      "Generating Abell1914 hydrostatic mass profile:  62%|████████████████▏         | 28/45 [21:18<11:43, 41.40s/it]"
     ]
    },
    {
     "name": "stdout",
     "output_type": "stream",
     "text": [
      "The chain is shorter than 50 times the integrated autocorrelation time for 4 parameter(s). Use this estimate with caution and run a longer chain!\n",
      "N/50 = 400;\n",
      "tau: [ 833.53746614 1283.50880284  333.81410652 1341.10577258  529.36160174\n",
      "  371.25385935]\n",
      "The chain is shorter than 50 times the integrated autocorrelation time for 2 parameter(s). Use this estimate with caution and run a longer chain!\n",
      "N/50 = 400;\n",
      "tau: [199.44016397 915.61464118 703.16124294 219.679819   221.59285133\n",
      " 252.18542133]\n"
     ]
    },
    {
     "name": "stderr",
     "output_type": "stream",
     "text": [
      "Generating ZwCl1454.8+2233 hydrostatic mass profile:  64%|████████████▉       | 29/45 [22:06<11:28, 43.03s/it]"
     ]
    },
    {
     "name": "stdout",
     "output_type": "stream",
     "text": [
      "The chain is shorter than 50 times the integrated autocorrelation time for 4 parameter(s). Use this estimate with caution and run a longer chain!\n",
      "N/50 = 400;\n",
      "tau: [468.69189866 651.71195749 779.58277195 444.53332508 371.91235162\n",
      " 380.09383909]\n"
     ]
    },
    {
     "name": "stderr",
     "output_type": "stream",
     "text": [
      "Generating Abell2009 hydrostatic mass profile:  67%|█████████████████▎        | 30/45 [22:54<11:05, 44.39s/it]"
     ]
    },
    {
     "name": "stdout",
     "output_type": "stream",
     "text": [
      "The chain is shorter than 50 times the integrated autocorrelation time for 1 parameter(s). Use this estimate with caution and run a longer chain!\n",
      "N/50 = 400;\n",
      "tau: [  96.05846513   96.70407045 1223.21494227  113.88867028  152.69237578\n",
      "   97.30632521]\n",
      "The chain is shorter than 50 times the integrated autocorrelation time for 2 parameter(s). Use this estimate with caution and run a longer chain!\n",
      "N/50 = 400;\n",
      "tau: [384.3720121  506.61723018 618.083166   342.47626427 221.46626936\n",
      " 204.82576284]\n"
     ]
    },
    {
     "name": "stderr",
     "output_type": "stream",
     "text": [
      "Generating ZwCl1459.4+4240 hydrostatic mass profile:  69%|█████████████▊      | 31/45 [23:49<11:03, 47.42s/it]"
     ]
    },
    {
     "name": "stdout",
     "output_type": "stream",
     "text": [
      "The chain is shorter than 50 times the integrated autocorrelation time for 4 parameter(s). Use this estimate with caution and run a longer chain!\n",
      "N/50 = 400;\n",
      "tau: [ 405.01040679  500.79271568  361.88743832  852.65815294  307.79749344\n",
      " 1081.1062777 ]\n"
     ]
    },
    {
     "name": "stderr",
     "output_type": "stream",
     "text": [
      "Generating RXCJ1504.1-0248 hydrostatic mass profile:  71%|██████████████▏     | 32/45 [24:36<10:14, 47.25s/it]"
     ]
    },
    {
     "name": "stdout",
     "output_type": "stream",
     "text": [
      "The chain is shorter than 50 times the integrated autocorrelation time for 6 parameter(s). Use this estimate with caution and run a longer chain!\n",
      "N/50 = 400;\n",
      "tau: [1967.19484299 2082.01815094 2008.63564403  633.86830054 1977.69447789\n",
      " 1548.56600174]\n",
      "The chain is shorter than 50 times the integrated autocorrelation time for 5 parameter(s). Use this estimate with caution and run a longer chain!\n",
      "N/50 = 400;\n",
      "tau: [ 820.66836456 1073.61511255  275.12873813  839.2538194   522.04322135\n",
      "  747.96500904]\n",
      "The chain is shorter than 50 times the integrated autocorrelation time for 1 parameter(s). Use this estimate with caution and run a longer chain!\n",
      "N/50 = 400;\n",
      "tau: [ 62.59696541  71.58304419 906.78332709  85.61675037  82.9654094\n",
      "  38.2737537 ]\n"
     ]
    },
    {
     "name": "stderr",
     "output_type": "stream",
     "text": [
      "Generating Abell2111 hydrostatic mass profile:  73%|███████████████████       | 33/45 [25:30<09:50, 49.23s/it]"
     ]
    },
    {
     "name": "stdout",
     "output_type": "stream",
     "text": [
      "The chain is shorter than 50 times the integrated autocorrelation time for 2 parameter(s). Use this estimate with caution and run a longer chain!\n",
      "N/50 = 400;\n",
      "tau: [ 362.27489853  364.98573367  349.33039047  737.18744816  308.03209603\n",
      " 2002.90303852]\n"
     ]
    },
    {
     "name": "stderr",
     "output_type": "stream",
     "text": [
      "Generating Abell2204 hydrostatic mass profile:  76%|███████████████████▋      | 34/45 [26:19<09:01, 49.22s/it]"
     ]
    },
    {
     "name": "stdout",
     "output_type": "stream",
     "text": [
      "The chain is shorter than 50 times the integrated autocorrelation time for 4 parameter(s). Use this estimate with caution and run a longer chain!\n",
      "N/50 = 400;\n",
      "tau: [ 425.11225846  871.381351   1089.0429112   265.17383601  177.88630379\n",
      " 1014.13549335]\n",
      "The chain is shorter than 50 times the integrated autocorrelation time for 1 parameter(s). Use this estimate with caution and run a longer chain!\n",
      "N/50 = 400;\n",
      "tau: [ 80.69420448  76.74305672 612.74407134  82.56807349  86.71749541\n",
      "  68.97931032]\n"
     ]
    },
    {
     "name": "stderr",
     "output_type": "stream",
     "text": [
      "Generating RXJ1720.1+2638 hydrostatic mass profile:  80%|████████████████▊    | 36/45 [27:18<07:48, 52.02s/it]"
     ]
    },
    {
     "name": "stdout",
     "output_type": "stream",
     "text": [
      "The chain is shorter than 50 times the integrated autocorrelation time for 4 parameter(s). Use this estimate with caution and run a longer chain!\n",
      "N/50 = 400;\n",
      "tau: [556.51794806 477.50698117 163.37928064 567.91636522 226.56005742\n",
      " 474.55672029]\n",
      "The chain is shorter than 50 times the integrated autocorrelation time for 1 parameter(s). Use this estimate with caution and run a longer chain!\n",
      "N/50 = 400;\n",
      "tau: [ 72.02627482  70.96786543 636.93646843  72.16668305  73.39970278\n",
      "  64.08691141]\n"
     ]
    },
    {
     "name": "stderr",
     "output_type": "stream",
     "text": [
      "Generating Abell2261 hydrostatic mass profile:  82%|█████████████████████▍    | 37/45 [28:12<05:25, 40.68s/it]"
     ]
    },
    {
     "name": "stdout",
     "output_type": "stream",
     "text": [
      "The chain is shorter than 50 times the integrated autocorrelation time for 1 parameter(s). Use this estimate with caution and run a longer chain!\n",
      "N/50 = 400;\n",
      "tau: [ 86.64207518  92.19482019 781.35401449  81.31908404  87.22350098\n",
      "  99.04399578]\n"
     ]
    },
    {
     "name": "stderr",
     "output_type": "stream",
     "text": [
      "Generating RXJ2129.6+0005 hydrostatic mass profile:  87%|██████████████████▏  | 39/45 [29:52<04:27, 44.58s/it]"
     ]
    },
    {
     "name": "stdout",
     "output_type": "stream",
     "text": [
      "The chain is shorter than 50 times the integrated autocorrelation time for 5 parameter(s). Use this estimate with caution and run a longer chain!\n",
      "N/50 = 400;\n",
      "tau: [532.50111089 621.87087337 860.94726883 542.82004203 431.69004066\n",
      " 394.49257559]\n"
     ]
    },
    {
     "name": "stderr",
     "output_type": "stream",
     "text": [
      "Generating Abell2390 hydrostatic mass profile:  89%|███████████████████████   | 40/45 [30:42<03:51, 46.20s/it]"
     ]
    },
    {
     "name": "stdout",
     "output_type": "stream",
     "text": [
      "The chain is shorter than 50 times the integrated autocorrelation time for 1 parameter(s). Use this estimate with caution and run a longer chain!\n",
      "N/50 = 400;\n",
      "tau: [ 78.1138108   81.06373292 593.08062406  84.17472056  81.76211137\n",
      "  89.98324304]\n"
     ]
    },
    {
     "name": "stderr",
     "output_type": "stream",
     "text": [
      "Generating Abell2537 hydrostatic mass profile:  91%|███████████████████████▋  | 41/45 [31:35<03:11, 47.94s/it]"
     ]
    },
    {
     "name": "stdout",
     "output_type": "stream",
     "text": [
      "The chain is shorter than 50 times the integrated autocorrelation time for 2 parameter(s). Use this estimate with caution and run a longer chain!\n",
      "N/50 = 400;\n",
      "tau: [306.29301464 431.61784636 414.67224822 310.8573462  246.06909528\n",
      " 254.85537459]\n"
     ]
    },
    {
     "name": "stderr",
     "output_type": "stream",
     "text": [
      "Generating Abell2552 hydrostatic mass profile:  93%|████████████████████████▎ | 42/45 [32:23<02:24, 48.13s/it]"
     ]
    },
    {
     "name": "stdout",
     "output_type": "stream",
     "text": [
      "The chain is shorter than 50 times the integrated autocorrelation time for 4 parameter(s). Use this estimate with caution and run a longer chain!\n",
      "N/50 = 400;\n",
      "tau: [ 493.56898608  786.23819709 1270.33296758  300.25706135  186.44306284\n",
      "  921.67375426]\n"
     ]
    },
    {
     "name": "stderr",
     "output_type": "stream",
     "text": [
      "Generating Abell2631 hydrostatic mass profile:  96%|████████████████████████▊ | 43/45 [33:12<01:36, 48.47s/it]"
     ]
    },
    {
     "name": "stdout",
     "output_type": "stream",
     "text": [
      "The chain is shorter than 50 times the integrated autocorrelation time for 3 parameter(s). Use this estimate with caution and run a longer chain!\n",
      "N/50 = 400;\n",
      "tau: [670.28265039 729.38954356 320.19124377 726.37397325 346.62293187\n",
      " 319.35850821]\n"
     ]
    },
    {
     "name": "stderr",
     "output_type": "stream",
     "text": [
      "Generating Abell2645 hydrostatic mass profile:  98%|█████████████████████████▍| 44/45 [34:00<00:48, 48.33s/it]"
     ]
    },
    {
     "name": "stdout",
     "output_type": "stream",
     "text": [
      "The chain is shorter than 50 times the integrated autocorrelation time for 3 parameter(s). Use this estimate with caution and run a longer chain!\n",
      "N/50 = 400;\n",
      "tau: [437.8172792  576.07114872 357.56648505 509.55703747 301.21915546\n",
      " 271.64830014]\n"
     ]
    },
    {
     "name": "stderr",
     "output_type": "stream",
     "text": [
      "Complete: 100%|███████████████████████████████████████████████████████████████| 45/45 [34:48<00:00, 46.41s/it]\n"
     ]
    }
   ],
   "source": [
    "loc_sb_dblbeta_simpvikh_1_min3000_mp = inv_abel_dens_onion_temp(locuss_srcs, locuss_srcs.r500, 'double_beta', \n",
    "                                                                'simple_vikhlinin_dens', 'simple_vikhlinin_temp', \n",
    "                                                                'r500', freeze_met=False, \n",
    "                                                                temp_lo_en=Quantity(0.7, 'keV'), \n",
    "                                                                temp_hi_en=Quantity(10., 'keV'), \n",
    "                                                                temp_annulus_method='min_cnt', \n",
    "                                                                temp_min_cnt=Quantity(3000, 'ct'),\n",
    "                                                                temp_use_combined=True)"
   ]
  },
  {
   "cell_type": "code",
   "execution_count": 9,
   "id": "f985d9e6",
   "metadata": {},
   "outputs": [
    {
     "name": "stderr",
     "output_type": "stream",
     "text": [
      "Measuring Masses for LoCuSS Clusters: 100%|███████████████████████████████████| 45/45 [00:01<00:00, 42.43it/s]\n"
     ]
    }
   ],
   "source": [
    "loc_sb_dblbeta_simpvikh_1_mc3000_m500 = []\n",
    "loc_sb_dblbeta_simpvikh_1_mc3000_m2500 = []\n",
    "\n",
    "with tqdm(desc='Measuring Masses for LoCuSS Clusters', total=len(loc_sb_dblbeta_simpvikh_1_min3000_mp)) as onwards:\n",
    "    for mp in loc_sb_dblbeta_simpvikh_1_min3000_mp:\n",
    "        if mp is not None:\n",
    "            rel_src = locuss_srcs[mp.src_name]\n",
    "            m = mp.mass(rel_src.r500)[0]\n",
    "            if m[0] < Quantity(1e+13, 'Msun'):\n",
    "                m = Quantity([np.NaN, np.NaN, np.NaN], 'Msun')\n",
    "                m2500 = Quantity([np.NaN, np.NaN, np.NaN], 'Msun')\n",
    "            else:\n",
    "                m2500 = mp.mass(rel_src.r2500)[0]\n",
    "        else:\n",
    "            m = Quantity([np.NaN, np.NaN, np.NaN], 'Msun')\n",
    "            m2500 = Quantity([np.NaN, np.NaN, np.NaN], 'Msun')\n",
    "            \n",
    "        loc_sb_dblbeta_simpvikh_1_mc3000_m500.append(m)\n",
    "        loc_sb_dblbeta_simpvikh_1_mc3000_m2500.append(m2500)\n",
    "        \n",
    "        onwards.update(1)\n",
    "\n",
    "loc_sb_dblbeta_simpvikh_1_mc3000_m500 = Quantity(loc_sb_dblbeta_simpvikh_1_mc3000_m500)\n",
    "loc_sb_dblbeta_simpvikh_1_mc3000_m2500 = Quantity(loc_sb_dblbeta_simpvikh_1_mc3000_m2500)"
   ]
  },
  {
   "cell_type": "code",
   "execution_count": 10,
   "id": "55b5c2c7",
   "metadata": {},
   "outputs": [
    {
     "name": "stdout",
     "output_type": "stream",
     "text": [
      "41 out of 45 R2500 mass measurements produced a result\n",
      "41 out of 45 R500 mass measurements produced a result\n"
     ]
    }
   ],
   "source": [
    "print(\"{s} out of {t} R2500 mass measurements produced a \"\\\n",
    "      \"result\".format(s=np.isfinite(loc_sb_dblbeta_simpvikh_1_mc3000_m2500[:, 0]).sum(), \n",
    "                      t=len(loc_sb_dblbeta_simpvikh_1_mc3000_m2500)))\n",
    "print(\"{s} out of {t} R500 mass measurements produced a \"\\\n",
    "      \"result\".format(s=np.isfinite(loc_sb_dblbeta_simpvikh_1_mc3000_m500[:, 0]).sum(), \n",
    "                      t=len(loc_sb_dblbeta_simpvikh_1_mc3000_m500)))"
   ]
  },
  {
   "cell_type": "code",
   "execution_count": 11,
   "id": "c249e12f",
   "metadata": {},
   "outputs": [
    {
     "data": {
      "image/png": "[encoded data removed]",
      "text/plain": [
       "<Figure size 864x468 with 2 Axes>"
      ]
     },
     "metadata": {
      "needs_background": "light"
     },
     "output_type": "display_data"
    }
   ],
   "source": [
    "direct_comparison_plot([loc_lit_m2500s, loc_lit_m500s], \n",
    "                       [loc_sb_dblbeta_simpvikh_1_mc3000_m2500, loc_sb_dblbeta_simpvikh_1_mc3000_m500], \n",
    "                       [r\"LoCuSS $M_{\\rm{hy, 2500}}$ [M$_{\\odot}$]\", r\"LoCuSS $M_{\\rm{hy, 500}}$ [M$_{\\odot}$]\"], \n",
    "                       [r\"XGA $M_{\\rm{hy, 2500}}$ [M$_{\\odot}$]\", r\"XGA $M_{\\rm{hy, 500}}$ [M$_{\\odot}$]\"],\n",
    "                       r\"LoCuSS High-$L_{\\rm{X}}$\", (12, 6.5), ['linear', 'linear'], ['linear', 'linear'], \n",
    "                       savepath='../../outputs/figures/loc_sb_dblbeta_simpvikh_1r500_mc3000_hymcomp.pdf')"
   ]
  }
 ],
 "metadata": {
  "kernelspec": {
   "display_name": "Python 3 (ipykernel)",
   "language": "python",
   "name": "python3"
  },
  "language_info": {
   "codemirror_mode": {
    "name": "ipython",
    "version": 3
   },
   "file_extension": ".py",
   "mimetype": "text/x-python",
   "name": "python",
   "nbconvert_exporter": "python",
   "pygments_lexer": "ipython3",
   "version": "3.8.11"
  }
 },
 "nbformat": 4,
 "nbformat_minor": 5
}
